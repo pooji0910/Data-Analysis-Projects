{
  "nbformat": 4,
  "nbformat_minor": 0,
  "metadata": {
    "colab": {
      "name": "Titanic_dataset",
      "provenance": [],
      "toc_visible": true
    },
    "kernelspec": {
      "name": "python3",
      "display_name": "Python 3"
    },
    "language_info": {
      "name": "python"
    }
  },
  "cells": [
    {
      "cell_type": "code",
      "metadata": {
        "id": "NuPfTopqcYTK"
      },
      "source": [
        "import pandas as pd\n",
        "import numpy as np\n",
        "import matplotlib.pyplot as plt\n",
        "import seaborn as sns\n",
        "%matplotlib inline"
      ],
      "execution_count": null,
      "outputs": []
    },
    {
      "cell_type": "markdown",
      "metadata": {
        "id": "Vx-ya06RYuhf"
      },
      "source": [
        "# Reading Data"
      ]
    },
    {
      "cell_type": "code",
      "metadata": {
        "id": "DGq_NJZdc7-Q"
      },
      "source": [
        "train=pd.read_csv(\"titanic_train.csv\")\n",
        "test=pd.read_csv(\"titanic_test.csv\")"
      ],
      "execution_count": null,
      "outputs": []
    },
    {
      "cell_type": "code",
      "metadata": {
        "colab": {
          "base_uri": "https://localhost:8080/"
        },
        "id": "lhrZfZ5Fc-MF",
        "outputId": "0631a7dc-0f07-4443-afdf-91e6e9aaff5f"
      },
      "source": [
        "train.head()"
      ],
      "execution_count": null,
      "outputs": [
        {
          "output_type": "execute_result",
          "data": {
            "text/html": [
              "<div>\n",
              "<style scoped>\n",
              "    .dataframe tbody tr th:only-of-type {\n",
              "        vertical-align: middle;\n",
              "    }\n",
              "\n",
              "    .dataframe tbody tr th {\n",
              "        vertical-align: top;\n",
              "    }\n",
              "\n",
              "    .dataframe thead th {\n",
              "        text-align: right;\n",
              "    }\n",
              "</style>\n",
              "<table border=\"1\" class=\"dataframe\">\n",
              "  <thead>\n",
              "    <tr style=\"text-align: right;\">\n",
              "      <th></th>\n",
              "      <th>PassengerId</th>\n",
              "      <th>Survived</th>\n",
              "      <th>Pclass</th>\n",
              "      <th>Name</th>\n",
              "      <th>Sex</th>\n",
              "      <th>Age</th>\n",
              "      <th>SibSp</th>\n",
              "      <th>Parch</th>\n",
              "      <th>Ticket</th>\n",
              "      <th>Fare</th>\n",
              "      <th>Cabin</th>\n",
              "      <th>Embarked</th>\n",
              "    </tr>\n",
              "  </thead>\n",
              "  <tbody>\n",
              "    <tr>\n",
              "      <th>0</th>\n",
              "      <td>1</td>\n",
              "      <td>0</td>\n",
              "      <td>3</td>\n",
              "      <td>Braund, Mr. Owen Harris</td>\n",
              "      <td>male</td>\n",
              "      <td>22.0</td>\n",
              "      <td>1</td>\n",
              "      <td>0</td>\n",
              "      <td>A/5 21171</td>\n",
              "      <td>7.2500</td>\n",
              "      <td>NaN</td>\n",
              "      <td>S</td>\n",
              "    </tr>\n",
              "    <tr>\n",
              "      <th>1</th>\n",
              "      <td>2</td>\n",
              "      <td>1</td>\n",
              "      <td>1</td>\n",
              "      <td>Cumings, Mrs. John Bradley (Florence Briggs Th...</td>\n",
              "      <td>female</td>\n",
              "      <td>38.0</td>\n",
              "      <td>1</td>\n",
              "      <td>0</td>\n",
              "      <td>PC 17599</td>\n",
              "      <td>71.2833</td>\n",
              "      <td>C85</td>\n",
              "      <td>C</td>\n",
              "    </tr>\n",
              "    <tr>\n",
              "      <th>2</th>\n",
              "      <td>3</td>\n",
              "      <td>1</td>\n",
              "      <td>3</td>\n",
              "      <td>Heikkinen, Miss. Laina</td>\n",
              "      <td>female</td>\n",
              "      <td>26.0</td>\n",
              "      <td>0</td>\n",
              "      <td>0</td>\n",
              "      <td>STON/O2. 3101282</td>\n",
              "      <td>7.9250</td>\n",
              "      <td>NaN</td>\n",
              "      <td>S</td>\n",
              "    </tr>\n",
              "    <tr>\n",
              "      <th>3</th>\n",
              "      <td>4</td>\n",
              "      <td>1</td>\n",
              "      <td>1</td>\n",
              "      <td>Futrelle, Mrs. Jacques Heath (Lily May Peel)</td>\n",
              "      <td>female</td>\n",
              "      <td>35.0</td>\n",
              "      <td>1</td>\n",
              "      <td>0</td>\n",
              "      <td>113803</td>\n",
              "      <td>53.1000</td>\n",
              "      <td>C123</td>\n",
              "      <td>S</td>\n",
              "    </tr>\n",
              "    <tr>\n",
              "      <th>4</th>\n",
              "      <td>5</td>\n",
              "      <td>0</td>\n",
              "      <td>3</td>\n",
              "      <td>Allen, Mr. William Henry</td>\n",
              "      <td>male</td>\n",
              "      <td>35.0</td>\n",
              "      <td>0</td>\n",
              "      <td>0</td>\n",
              "      <td>373450</td>\n",
              "      <td>8.0500</td>\n",
              "      <td>NaN</td>\n",
              "      <td>S</td>\n",
              "    </tr>\n",
              "  </tbody>\n",
              "</table>\n",
              "</div>"
            ],
            "text/plain": [
              "   PassengerId  Survived  Pclass  ...     Fare Cabin  Embarked\n",
              "0            1         0       3  ...   7.2500   NaN         S\n",
              "1            2         1       1  ...  71.2833   C85         C\n",
              "2            3         1       3  ...   7.9250   NaN         S\n",
              "3            4         1       1  ...  53.1000  C123         S\n",
              "4            5         0       3  ...   8.0500   NaN         S\n",
              "\n",
              "[5 rows x 12 columns]"
            ]
          },
          "metadata": {
            "tags": []
          },
          "execution_count": 296
        }
      ]
    },
    {
      "cell_type": "code",
      "metadata": {
        "colab": {
          "base_uri": "https://localhost:8080/"
        },
        "id": "KAp7rcSKc-JR",
        "outputId": "e558a04e-d144-4861-d97a-bec69b12cdf5"
      },
      "source": [
        "test.head()"
      ],
      "execution_count": null,
      "outputs": [
        {
          "output_type": "execute_result",
          "data": {
            "text/html": [
              "<div>\n",
              "<style scoped>\n",
              "    .dataframe tbody tr th:only-of-type {\n",
              "        vertical-align: middle;\n",
              "    }\n",
              "\n",
              "    .dataframe tbody tr th {\n",
              "        vertical-align: top;\n",
              "    }\n",
              "\n",
              "    .dataframe thead th {\n",
              "        text-align: right;\n",
              "    }\n",
              "</style>\n",
              "<table border=\"1\" class=\"dataframe\">\n",
              "  <thead>\n",
              "    <tr style=\"text-align: right;\">\n",
              "      <th></th>\n",
              "      <th>PassengerId</th>\n",
              "      <th>Pclass</th>\n",
              "      <th>Name</th>\n",
              "      <th>Sex</th>\n",
              "      <th>Age</th>\n",
              "      <th>SibSp</th>\n",
              "      <th>Parch</th>\n",
              "      <th>Ticket</th>\n",
              "      <th>Fare</th>\n",
              "      <th>Cabin</th>\n",
              "      <th>Embarked</th>\n",
              "    </tr>\n",
              "  </thead>\n",
              "  <tbody>\n",
              "    <tr>\n",
              "      <th>0</th>\n",
              "      <td>892</td>\n",
              "      <td>3</td>\n",
              "      <td>Kelly, Mr. James</td>\n",
              "      <td>male</td>\n",
              "      <td>34.5</td>\n",
              "      <td>0</td>\n",
              "      <td>0</td>\n",
              "      <td>330911</td>\n",
              "      <td>7.8292</td>\n",
              "      <td>NaN</td>\n",
              "      <td>Q</td>\n",
              "    </tr>\n",
              "    <tr>\n",
              "      <th>1</th>\n",
              "      <td>893</td>\n",
              "      <td>3</td>\n",
              "      <td>Wilkes, Mrs. James (Ellen Needs)</td>\n",
              "      <td>female</td>\n",
              "      <td>47.0</td>\n",
              "      <td>1</td>\n",
              "      <td>0</td>\n",
              "      <td>363272</td>\n",
              "      <td>7.0000</td>\n",
              "      <td>NaN</td>\n",
              "      <td>S</td>\n",
              "    </tr>\n",
              "    <tr>\n",
              "      <th>2</th>\n",
              "      <td>894</td>\n",
              "      <td>2</td>\n",
              "      <td>Myles, Mr. Thomas Francis</td>\n",
              "      <td>male</td>\n",
              "      <td>62.0</td>\n",
              "      <td>0</td>\n",
              "      <td>0</td>\n",
              "      <td>240276</td>\n",
              "      <td>9.6875</td>\n",
              "      <td>NaN</td>\n",
              "      <td>Q</td>\n",
              "    </tr>\n",
              "    <tr>\n",
              "      <th>3</th>\n",
              "      <td>895</td>\n",
              "      <td>3</td>\n",
              "      <td>Wirz, Mr. Albert</td>\n",
              "      <td>male</td>\n",
              "      <td>27.0</td>\n",
              "      <td>0</td>\n",
              "      <td>0</td>\n",
              "      <td>315154</td>\n",
              "      <td>8.6625</td>\n",
              "      <td>NaN</td>\n",
              "      <td>S</td>\n",
              "    </tr>\n",
              "    <tr>\n",
              "      <th>4</th>\n",
              "      <td>896</td>\n",
              "      <td>3</td>\n",
              "      <td>Hirvonen, Mrs. Alexander (Helga E Lindqvist)</td>\n",
              "      <td>female</td>\n",
              "      <td>22.0</td>\n",
              "      <td>1</td>\n",
              "      <td>1</td>\n",
              "      <td>3101298</td>\n",
              "      <td>12.2875</td>\n",
              "      <td>NaN</td>\n",
              "      <td>S</td>\n",
              "    </tr>\n",
              "  </tbody>\n",
              "</table>\n",
              "</div>"
            ],
            "text/plain": [
              "   PassengerId  Pclass  ... Cabin Embarked\n",
              "0          892       3  ...   NaN        Q\n",
              "1          893       3  ...   NaN        S\n",
              "2          894       2  ...   NaN        Q\n",
              "3          895       3  ...   NaN        S\n",
              "4          896       3  ...   NaN        S\n",
              "\n",
              "[5 rows x 11 columns]"
            ]
          },
          "metadata": {
            "tags": []
          },
          "execution_count": 297
        }
      ]
    },
    {
      "cell_type": "markdown",
      "metadata": {
        "id": "j8QI5zHuQnd3"
      },
      "source": [
        "# EDA"
      ]
    },
    {
      "cell_type": "code",
      "metadata": {
        "colab": {
          "base_uri": "https://localhost:8080/"
        },
        "id": "nmrAa7Rtc-G6",
        "outputId": "fcc5a221-e444-43b9-ec5d-525de8988090"
      },
      "source": [
        "sns.heatmap(train.isnull(),yticklabels=False,cbar=False,cmap=\"viridis\")"
      ],
      "execution_count": null,
      "outputs": [
        {
          "output_type": "execute_result",
          "data": {
            "text/plain": [
              "<matplotlib.axes._subplots.AxesSubplot at 0x7f0c04384d10>"
            ]
          },
          "metadata": {
            "tags": []
          },
          "execution_count": 298
        },
        {
          "output_type": "display_data",
          "data": {
            "image/png": "[encoded data removed]",
            "text/plain": [
              "<Figure size 432x288 with 1 Axes>"
            ]
          },
          "metadata": {
            "tags": []
          }
        }
      ]
    },
    {
      "cell_type": "code",
      "metadata": {
        "id": "keivbFWWc-Fd"
      },
      "source": [
        "sns.set_style('whitegrid')"
      ],
      "execution_count": null,
      "outputs": []
    },
    {
      "cell_type": "code",
      "metadata": {
        "colab": {
          "base_uri": "https://localhost:8080/"
        },
        "id": "pY19lGdAmVAR",
        "outputId": "8d56acc9-959f-429f-db22-0fd4eb3cce61"
      },
      "source": [
        "sns.countplot(x='Survived',hue='Sex',data=train)"
      ],
      "execution_count": null,
      "outputs": [
        {
          "output_type": "execute_result",
          "data": {
            "text/plain": [
              "<matplotlib.axes._subplots.AxesSubplot at 0x7f0c04257450>"
            ]
          },
          "metadata": {
            "tags": []
          },
          "execution_count": 300
        },
        {
          "output_type": "display_data",
          "data": {
            "image/png": "[encoded data removed]",
            "text/plain": [
              "<Figure size 432x288 with 1 Axes>"
            ]
          },
          "metadata": {
            "tags": []
          }
        }
      ]
    },
    {
      "cell_type": "code",
      "metadata": {
        "colab": {
          "base_uri": "https://localhost:8080/"
        },
        "id": "0GymfaXJc-An",
        "outputId": "d2634df2-ec0a-4bd7-e1b1-119d1b1676ec"
      },
      "source": [
        "sns.countplot(x='Survived',hue='Pclass',data=train)"
      ],
      "execution_count": null,
      "outputs": [
        {
          "output_type": "execute_result",
          "data": {
            "text/plain": [
              "<matplotlib.axes._subplots.AxesSubplot at 0x7f0c042378d0>"
            ]
          },
          "metadata": {
            "tags": []
          },
          "execution_count": 301
        },
        {
          "output_type": "display_data",
          "data": {
            "image/png": "[encoded data removed]",
            "text/plain": [
              "<Figure size 432x288 with 1 Axes>"
            ]
          },
          "metadata": {
            "tags": []
          }
        }
      ]
    },
    {
      "cell_type": "code",
      "metadata": {
        "colab": {
          "base_uri": "https://localhost:8080/"
        },
        "id": "XL2CKrmkLdIS",
        "outputId": "56e404d9-ebef-498b-b098-20f8606ef109"
      },
      "source": [
        "train['Age'].plot.hist(bins=30)"
      ],
      "execution_count": null,
      "outputs": [
        {
          "output_type": "execute_result",
          "data": {
            "text/plain": [
              "<matplotlib.axes._subplots.AxesSubplot at 0x7f0c041b5750>"
            ]
          },
          "metadata": {
            "tags": []
          },
          "execution_count": 302
        },
        {
          "output_type": "display_data",
          "data": {
            "image/png": "[encoded data removed]",
            "text/plain": [
              "<Figure size 432x288 with 1 Axes>"
            ]
          },
          "metadata": {
            "tags": []
          }
        }
      ]
    },
    {
      "cell_type": "code",
      "metadata": {
        "colab": {
          "base_uri": "https://localhost:8080/"
        },
        "id": "7Re5iJYpMVqs",
        "outputId": "473b43df-1422-4bfe-86ab-483adb9d8468"
      },
      "source": [
        "train.info()"
      ],
      "execution_count": null,
      "outputs": [
        {
          "output_type": "stream",
          "text": [
            "<class 'pandas.core.frame.DataFrame'>\n",
            "RangeIndex: 891 entries, 0 to 890\n",
            "Data columns (total 12 columns):\n",
            " #   Column       Non-Null Count  Dtype  \n",
            "---  ------       --------------  -----  \n",
            " 0   PassengerId  891 non-null    int64  \n",
            " 1   Survived     891 non-null    int64  \n",
            " 2   Pclass       891 non-null    int64  \n",
            " 3   Name         891 non-null    object \n",
            " 4   Sex          891 non-null    object \n",
            " 5   Age          714 non-null    float64\n",
            " 6   SibSp        891 non-null    int64  \n",
            " 7   Parch        891 non-null    int64  \n",
            " 8   Ticket       891 non-null    object \n",
            " 9   Fare         891 non-null    float64\n",
            " 10  Cabin        204 non-null    object \n",
            " 11  Embarked     889 non-null    object \n",
            "dtypes: float64(2), int64(5), object(5)\n",
            "memory usage: 83.7+ KB\n"
          ],
          "name": "stdout"
        }
      ]
    },
    {
      "cell_type": "code",
      "metadata": {
        "colab": {
          "base_uri": "https://localhost:8080/"
        },
        "id": "lGJbXMBOMab8",
        "outputId": "789be9b6-9cf9-436e-a0bc-002893b338b6"
      },
      "source": [
        "sns.countplot(x='SibSp',data=train)"
      ],
      "execution_count": null,
      "outputs": [
        {
          "output_type": "execute_result",
          "data": {
            "text/plain": [
              "<matplotlib.axes._subplots.AxesSubplot at 0x7f0c040e2ad0>"
            ]
          },
          "metadata": {
            "tags": []
          },
          "execution_count": 304
        },
        {
          "output_type": "display_data",
          "data": {
            "image/png": "[encoded data removed]",
            "text/plain": [
              "<Figure size 432x288 with 1 Axes>"
            ]
          },
          "metadata": {
            "tags": []
          }
        }
      ]
    },
    {
      "cell_type": "code",
      "metadata": {
        "colab": {
          "base_uri": "https://localhost:8080/"
        },
        "id": "I145qispN3WO",
        "outputId": "10e945a9-f4a2-434f-fd7e-10cb3c9a9286"
      },
      "source": [
        "train['Fare'].hist(bins=50,figsize=(10,4))"
      ],
      "execution_count": null,
      "outputs": [
        {
          "output_type": "execute_result",
          "data": {
            "text/plain": [
              "<matplotlib.axes._subplots.AxesSubplot at 0x7f0c0407fad0>"
            ]
          },
          "metadata": {
            "tags": []
          },
          "execution_count": 305
        },
        {
          "output_type": "display_data",
          "data": {
            "image/png": "[encoded data removed]",
            "text/plain": [
              "<Figure size 720x288 with 1 Axes>"
            ]
          },
          "metadata": {
            "tags": []
          }
        }
      ]
    },
    {
      "cell_type": "markdown",
      "metadata": {
        "id": "rvRkMILYQt2O"
      },
      "source": [
        "# Cleaning the train data"
      ]
    },
    {
      "cell_type": "markdown",
      "metadata": {
        "id": "U37Hv5sJbewR"
      },
      "source": [
        "Step1: Dealing with missing data"
      ]
    },
    {
      "cell_type": "markdown",
      "metadata": {
        "id": "zO5r5QtWWpcb"
      },
      "source": [
        "age of passengers is missing so filling the data with mean of ages in that particular class(imputation)"
      ]
    },
    {
      "cell_type": "code",
      "metadata": {
        "colab": {
          "base_uri": "https://localhost:8080/",
          "height": 459
        },
        "id": "DJ6e5QBFQ0Gf",
        "outputId": "e77d674b-617a-4b5d-e195-c96653571f98"
      },
      "source": [
        "plt.figure(figsize=(10,7))\n",
        "sns.boxplot(x='Pclass',y='Age',data=train)"
      ],
      "execution_count": null,
      "outputs": [
        {
          "output_type": "execute_result",
          "data": {
            "text/plain": [
              "<matplotlib.axes._subplots.AxesSubplot at 0x7f0c03f85e90>"
            ]
          },
          "metadata": {
            "tags": []
          },
          "execution_count": 306
        },
        {
          "output_type": "display_data",
          "data": {
            "image/png": "[encoded data removed]",
            "text/plain": [
              "<Figure size 720x504 with 1 Axes>"
            ]
          },
          "metadata": {
            "tags": []
          }
        }
      ]
    },
    {
      "cell_type": "code",
      "metadata": {
        "colab": {
          "base_uri": "https://localhost:8080/"
        },
        "id": "XbO3_KcD4rNF",
        "outputId": "7cebee30-e6f1-4918-c179-f0516cd4d97c"
      },
      "source": [
        "Pclass_1_age=int(train[train['Pclass']==1]['Age'].mean())\n",
        "Pclass_2_age=int(train[train['Pclass']==2]['Age'].mean())\n",
        "Pclass_3_age=int(train[train['Pclass']==3]['Age'].mean())\n",
        "print(Pclass_1_age,Pclass_2_age,Pclass_3_age)"
      ],
      "execution_count": null,
      "outputs": [
        {
          "output_type": "stream",
          "text": [
            "38 29 25\n"
          ],
          "name": "stdout"
        }
      ]
    },
    {
      "cell_type": "code",
      "metadata": {
        "id": "W1mJN29aRHzi"
      },
      "source": [
        "def impute_Age(cols):\n",
        "  Age=cols[0]\n",
        "  Pclass=cols[1]\n",
        "  if pd.isnull(Age):\n",
        "    if Pclass==1:\n",
        "      return Pclass_1_age\n",
        "    elif Pclass==2:\n",
        "      return Pclass_2_age\n",
        "    else:\n",
        "      return Pclass_2_age\n",
        "  else:\n",
        "    return Age"
      ],
      "execution_count": null,
      "outputs": []
    },
    {
      "cell_type": "code",
      "metadata": {
        "id": "ITUG4pD6Z5Il"
      },
      "source": [
        "train['Age']=train[['Age','Pclass']].apply(impute_Age,axis=1)"
      ],
      "execution_count": null,
      "outputs": []
    },
    {
      "cell_type": "code",
      "metadata": {
        "colab": {
          "base_uri": "https://localhost:8080/"
        },
        "id": "keimXIkoaIDA",
        "outputId": "4c6f5b81-63ab-4839-b778-d135f9f46b93"
      },
      "source": [
        "train.isna().sum()"
      ],
      "execution_count": null,
      "outputs": [
        {
          "output_type": "execute_result",
          "data": {
            "text/plain": [
              "PassengerId      0\n",
              "Survived         0\n",
              "Pclass           0\n",
              "Name             0\n",
              "Sex              0\n",
              "Age              0\n",
              "SibSp            0\n",
              "Parch            0\n",
              "Ticket           0\n",
              "Fare             0\n",
              "Cabin          687\n",
              "Embarked         2\n",
              "dtype: int64"
            ]
          },
          "metadata": {
            "tags": []
          },
          "execution_count": 310
        }
      ]
    },
    {
      "cell_type": "code",
      "metadata": {
        "colab": {
          "base_uri": "https://localhost:8080/",
          "height": 333
        },
        "id": "_oPlZ3KSRHuP",
        "outputId": "85696bd9-53bd-4d0a-857d-29e30a239232"
      },
      "source": [
        "sns.heatmap(train.isnull(),yticklabels=False,cbar=False,cmap='viridis')"
      ],
      "execution_count": null,
      "outputs": [
        {
          "output_type": "execute_result",
          "data": {
            "text/plain": [
              "<matplotlib.axes._subplots.AxesSubplot at 0x7f0c03f7f6d0>"
            ]
          },
          "metadata": {
            "tags": []
          },
          "execution_count": 311
        },
        {
          "output_type": "display_data",
          "data": {
            "image/png": "[encoded data removed]",
            "text/plain": [
              "<Figure size 432x288 with 1 Axes>"
            ]
          },
          "metadata": {
            "tags": []
          }
        }
      ]
    },
    {
      "cell_type": "markdown",
      "metadata": {
        "id": "xVLI8iJRXYNb"
      },
      "source": [
        "Drop cabin column "
      ]
    },
    {
      "cell_type": "code",
      "metadata": {
        "id": "v5r9_proRHi2"
      },
      "source": [
        "train.drop('Cabin',axis=1,inplace=True)"
      ],
      "execution_count": null,
      "outputs": []
    },
    {
      "cell_type": "code",
      "metadata": {
        "id": "V_Adk5wHwwgr"
      },
      "source": [
        "train.dropna(how='any',inplace=True)"
      ],
      "execution_count": null,
      "outputs": []
    },
    {
      "cell_type": "code",
      "metadata": {
        "colab": {
          "base_uri": "https://localhost:8080/",
          "height": 333
        },
        "id": "kQkk9tZzbU9O",
        "outputId": "6dcdecfb-0f02-48bf-c775-34cbc15f652f"
      },
      "source": [
        "sns.heatmap(train.isnull(),yticklabels=False,cbar=False,cmap='viridis')"
      ],
      "execution_count": null,
      "outputs": [
        {
          "output_type": "execute_result",
          "data": {
            "text/plain": [
              "<matplotlib.axes._subplots.AxesSubplot at 0x7f0c03e89390>"
            ]
          },
          "metadata": {
            "tags": []
          },
          "execution_count": 314
        },
        {
          "output_type": "display_data",
          "data": {
            "image/png": "[encoded data removed]",
            "text/plain": [
              "<Figure size 432x288 with 1 Axes>"
            ]
          },
          "metadata": {
            "tags": []
          }
        }
      ]
    },
    {
      "cell_type": "markdown",
      "metadata": {
        "id": "Ij9MxdYBbwuK"
      },
      "source": [
        "step2:Dealing with categorical data"
      ]
    },
    {
      "cell_type": "code",
      "metadata": {
        "id": "sHj8xJp3vr_5"
      },
      "source": [
        "from sklearn.preprocessing import LabelEncoder"
      ],
      "execution_count": null,
      "outputs": []
    },
    {
      "cell_type": "code",
      "metadata": {
        "id": "oKgxcnTOv1L5"
      },
      "source": [
        "encoder=LabelEncoder()\n",
        "train.Sex = encoder.fit_transform(train.Sex)"
      ],
      "execution_count": null,
      "outputs": []
    },
    {
      "cell_type": "code",
      "metadata": {
        "colab": {
          "base_uri": "https://localhost:8080/",
          "height": 203
        },
        "id": "kNG8VgDawWeJ",
        "outputId": "4ca478f9-02c5-4492-d41c-1763842ac7d4"
      },
      "source": [
        "train.head()"
      ],
      "execution_count": null,
      "outputs": [
        {
          "output_type": "execute_result",
          "data": {
            "text/html": [
              "<div>\n",
              "<style scoped>\n",
              "    .dataframe tbody tr th:only-of-type {\n",
              "        vertical-align: middle;\n",
              "    }\n",
              "\n",
              "    .dataframe tbody tr th {\n",
              "        vertical-align: top;\n",
              "    }\n",
              "\n",
              "    .dataframe thead th {\n",
              "        text-align: right;\n",
              "    }\n",
              "</style>\n",
              "<table border=\"1\" class=\"dataframe\">\n",
              "  <thead>\n",
              "    <tr style=\"text-align: right;\">\n",
              "      <th></th>\n",
              "      <th>PassengerId</th>\n",
              "      <th>Survived</th>\n",
              "      <th>Pclass</th>\n",
              "      <th>Name</th>\n",
              "      <th>Sex</th>\n",
              "      <th>Age</th>\n",
              "      <th>SibSp</th>\n",
              "      <th>Parch</th>\n",
              "      <th>Ticket</th>\n",
              "      <th>Fare</th>\n",
              "      <th>Embarked</th>\n",
              "    </tr>\n",
              "  </thead>\n",
              "  <tbody>\n",
              "    <tr>\n",
              "      <th>0</th>\n",
              "      <td>1</td>\n",
              "      <td>0</td>\n",
              "      <td>3</td>\n",
              "      <td>Braund, Mr. Owen Harris</td>\n",
              "      <td>1</td>\n",
              "      <td>22.0</td>\n",
              "      <td>1</td>\n",
              "      <td>0</td>\n",
              "      <td>A/5 21171</td>\n",
              "      <td>7.2500</td>\n",
              "      <td>S</td>\n",
              "    </tr>\n",
              "    <tr>\n",
              "      <th>1</th>\n",
              "      <td>2</td>\n",
              "      <td>1</td>\n",
              "      <td>1</td>\n",
              "      <td>Cumings, Mrs. John Bradley (Florence Briggs Th...</td>\n",
              "      <td>0</td>\n",
              "      <td>38.0</td>\n",
              "      <td>1</td>\n",
              "      <td>0</td>\n",
              "      <td>PC 17599</td>\n",
              "      <td>71.2833</td>\n",
              "      <td>C</td>\n",
              "    </tr>\n",
              "    <tr>\n",
              "      <th>2</th>\n",
              "      <td>3</td>\n",
              "      <td>1</td>\n",
              "      <td>3</td>\n",
              "      <td>Heikkinen, Miss. Laina</td>\n",
              "      <td>0</td>\n",
              "      <td>26.0</td>\n",
              "      <td>0</td>\n",
              "      <td>0</td>\n",
              "      <td>STON/O2. 3101282</td>\n",
              "      <td>7.9250</td>\n",
              "      <td>S</td>\n",
              "    </tr>\n",
              "    <tr>\n",
              "      <th>3</th>\n",
              "      <td>4</td>\n",
              "      <td>1</td>\n",
              "      <td>1</td>\n",
              "      <td>Futrelle, Mrs. Jacques Heath (Lily May Peel)</td>\n",
              "      <td>0</td>\n",
              "      <td>35.0</td>\n",
              "      <td>1</td>\n",
              "      <td>0</td>\n",
              "      <td>113803</td>\n",
              "      <td>53.1000</td>\n",
              "      <td>S</td>\n",
              "    </tr>\n",
              "    <tr>\n",
              "      <th>4</th>\n",
              "      <td>5</td>\n",
              "      <td>0</td>\n",
              "      <td>3</td>\n",
              "      <td>Allen, Mr. William Henry</td>\n",
              "      <td>1</td>\n",
              "      <td>35.0</td>\n",
              "      <td>0</td>\n",
              "      <td>0</td>\n",
              "      <td>373450</td>\n",
              "      <td>8.0500</td>\n",
              "      <td>S</td>\n",
              "    </tr>\n",
              "  </tbody>\n",
              "</table>\n",
              "</div>"
            ],
            "text/plain": [
              "   PassengerId  Survived  Pclass  ...            Ticket     Fare  Embarked\n",
              "0            1         0       3  ...         A/5 21171   7.2500         S\n",
              "1            2         1       1  ...          PC 17599  71.2833         C\n",
              "2            3         1       3  ...  STON/O2. 3101282   7.9250         S\n",
              "3            4         1       1  ...            113803  53.1000         S\n",
              "4            5         0       3  ...            373450   8.0500         S\n",
              "\n",
              "[5 rows x 11 columns]"
            ]
          },
          "metadata": {
            "tags": []
          },
          "execution_count": 317
        }
      ]
    },
    {
      "cell_type": "code",
      "metadata": {
        "id": "KKH5FJt8wa0z"
      },
      "source": [
        "train.Embarked = encoder.fit_transform(train.Embarked)"
      ],
      "execution_count": null,
      "outputs": []
    },
    {
      "cell_type": "code",
      "metadata": {
        "id": "rtwyF0tGfE75"
      },
      "source": [
        "train.drop(['Name','Ticket'],axis=1,inplace=True)"
      ],
      "execution_count": null,
      "outputs": []
    },
    {
      "cell_type": "code",
      "metadata": {
        "colab": {
          "base_uri": "https://localhost:8080/",
          "height": 203
        },
        "id": "t9rfvYF9hGbu",
        "outputId": "82e3dbcf-61cf-4a54-e471-92be9f3666aa"
      },
      "source": [
        "train.tail()   #passenger id is just id starts at 1 no need of that column"
      ],
      "execution_count": null,
      "outputs": [
        {
          "output_type": "execute_result",
          "data": {
            "text/html": [
              "<div>\n",
              "<style scoped>\n",
              "    .dataframe tbody tr th:only-of-type {\n",
              "        vertical-align: middle;\n",
              "    }\n",
              "\n",
              "    .dataframe tbody tr th {\n",
              "        vertical-align: top;\n",
              "    }\n",
              "\n",
              "    .dataframe thead th {\n",
              "        text-align: right;\n",
              "    }\n",
              "</style>\n",
              "<table border=\"1\" class=\"dataframe\">\n",
              "  <thead>\n",
              "    <tr style=\"text-align: right;\">\n",
              "      <th></th>\n",
              "      <th>PassengerId</th>\n",
              "      <th>Survived</th>\n",
              "      <th>Pclass</th>\n",
              "      <th>Sex</th>\n",
              "      <th>Age</th>\n",
              "      <th>SibSp</th>\n",
              "      <th>Parch</th>\n",
              "      <th>Fare</th>\n",
              "      <th>Embarked</th>\n",
              "    </tr>\n",
              "  </thead>\n",
              "  <tbody>\n",
              "    <tr>\n",
              "      <th>886</th>\n",
              "      <td>887</td>\n",
              "      <td>0</td>\n",
              "      <td>2</td>\n",
              "      <td>1</td>\n",
              "      <td>27.0</td>\n",
              "      <td>0</td>\n",
              "      <td>0</td>\n",
              "      <td>13.00</td>\n",
              "      <td>2</td>\n",
              "    </tr>\n",
              "    <tr>\n",
              "      <th>887</th>\n",
              "      <td>888</td>\n",
              "      <td>1</td>\n",
              "      <td>1</td>\n",
              "      <td>0</td>\n",
              "      <td>19.0</td>\n",
              "      <td>0</td>\n",
              "      <td>0</td>\n",
              "      <td>30.00</td>\n",
              "      <td>2</td>\n",
              "    </tr>\n",
              "    <tr>\n",
              "      <th>888</th>\n",
              "      <td>889</td>\n",
              "      <td>0</td>\n",
              "      <td>3</td>\n",
              "      <td>0</td>\n",
              "      <td>29.0</td>\n",
              "      <td>1</td>\n",
              "      <td>2</td>\n",
              "      <td>23.45</td>\n",
              "      <td>2</td>\n",
              "    </tr>\n",
              "    <tr>\n",
              "      <th>889</th>\n",
              "      <td>890</td>\n",
              "      <td>1</td>\n",
              "      <td>1</td>\n",
              "      <td>1</td>\n",
              "      <td>26.0</td>\n",
              "      <td>0</td>\n",
              "      <td>0</td>\n",
              "      <td>30.00</td>\n",
              "      <td>0</td>\n",
              "    </tr>\n",
              "    <tr>\n",
              "      <th>890</th>\n",
              "      <td>891</td>\n",
              "      <td>0</td>\n",
              "      <td>3</td>\n",
              "      <td>1</td>\n",
              "      <td>32.0</td>\n",
              "      <td>0</td>\n",
              "      <td>0</td>\n",
              "      <td>7.75</td>\n",
              "      <td>1</td>\n",
              "    </tr>\n",
              "  </tbody>\n",
              "</table>\n",
              "</div>"
            ],
            "text/plain": [
              "     PassengerId  Survived  Pclass  Sex   Age  SibSp  Parch   Fare  Embarked\n",
              "886          887         0       2    1  27.0      0      0  13.00         2\n",
              "887          888         1       1    0  19.0      0      0  30.00         2\n",
              "888          889         0       3    0  29.0      1      2  23.45         2\n",
              "889          890         1       1    1  26.0      0      0  30.00         0\n",
              "890          891         0       3    1  32.0      0      0   7.75         1"
            ]
          },
          "metadata": {
            "tags": []
          },
          "execution_count": 320
        }
      ]
    },
    {
      "cell_type": "code",
      "metadata": {
        "id": "gGxj6YdyhRnO"
      },
      "source": [
        "train.drop('PassengerId',axis=1,inplace=True)"
      ],
      "execution_count": null,
      "outputs": []
    },
    {
      "cell_type": "code",
      "metadata": {
        "colab": {
          "base_uri": "https://localhost:8080/",
          "height": 203
        },
        "id": "ozsUk0W3hveh",
        "outputId": "185ebb10-7c49-4035-96f0-19ad387951d0"
      },
      "source": [
        "train.head()"
      ],
      "execution_count": null,
      "outputs": [
        {
          "output_type": "execute_result",
          "data": {
            "text/html": [
              "<div>\n",
              "<style scoped>\n",
              "    .dataframe tbody tr th:only-of-type {\n",
              "        vertical-align: middle;\n",
              "    }\n",
              "\n",
              "    .dataframe tbody tr th {\n",
              "        vertical-align: top;\n",
              "    }\n",
              "\n",
              "    .dataframe thead th {\n",
              "        text-align: right;\n",
              "    }\n",
              "</style>\n",
              "<table border=\"1\" class=\"dataframe\">\n",
              "  <thead>\n",
              "    <tr style=\"text-align: right;\">\n",
              "      <th></th>\n",
              "      <th>Survived</th>\n",
              "      <th>Pclass</th>\n",
              "      <th>Sex</th>\n",
              "      <th>Age</th>\n",
              "      <th>SibSp</th>\n",
              "      <th>Parch</th>\n",
              "      <th>Fare</th>\n",
              "      <th>Embarked</th>\n",
              "    </tr>\n",
              "  </thead>\n",
              "  <tbody>\n",
              "    <tr>\n",
              "      <th>0</th>\n",
              "      <td>0</td>\n",
              "      <td>3</td>\n",
              "      <td>1</td>\n",
              "      <td>22.0</td>\n",
              "      <td>1</td>\n",
              "      <td>0</td>\n",
              "      <td>7.2500</td>\n",
              "      <td>2</td>\n",
              "    </tr>\n",
              "    <tr>\n",
              "      <th>1</th>\n",
              "      <td>1</td>\n",
              "      <td>1</td>\n",
              "      <td>0</td>\n",
              "      <td>38.0</td>\n",
              "      <td>1</td>\n",
              "      <td>0</td>\n",
              "      <td>71.2833</td>\n",
              "      <td>0</td>\n",
              "    </tr>\n",
              "    <tr>\n",
              "      <th>2</th>\n",
              "      <td>1</td>\n",
              "      <td>3</td>\n",
              "      <td>0</td>\n",
              "      <td>26.0</td>\n",
              "      <td>0</td>\n",
              "      <td>0</td>\n",
              "      <td>7.9250</td>\n",
              "      <td>2</td>\n",
              "    </tr>\n",
              "    <tr>\n",
              "      <th>3</th>\n",
              "      <td>1</td>\n",
              "      <td>1</td>\n",
              "      <td>0</td>\n",
              "      <td>35.0</td>\n",
              "      <td>1</td>\n",
              "      <td>0</td>\n",
              "      <td>53.1000</td>\n",
              "      <td>2</td>\n",
              "    </tr>\n",
              "    <tr>\n",
              "      <th>4</th>\n",
              "      <td>0</td>\n",
              "      <td>3</td>\n",
              "      <td>1</td>\n",
              "      <td>35.0</td>\n",
              "      <td>0</td>\n",
              "      <td>0</td>\n",
              "      <td>8.0500</td>\n",
              "      <td>2</td>\n",
              "    </tr>\n",
              "  </tbody>\n",
              "</table>\n",
              "</div>"
            ],
            "text/plain": [
              "   Survived  Pclass  Sex   Age  SibSp  Parch     Fare  Embarked\n",
              "0         0       3    1  22.0      1      0   7.2500         2\n",
              "1         1       1    0  38.0      1      0  71.2833         0\n",
              "2         1       3    0  26.0      0      0   7.9250         2\n",
              "3         1       1    0  35.0      1      0  53.1000         2\n",
              "4         0       3    1  35.0      0      0   8.0500         2"
            ]
          },
          "metadata": {
            "tags": []
          },
          "execution_count": 322
        }
      ]
    },
    {
      "cell_type": "markdown",
      "metadata": {
        "id": "_qKEP_ZHjqdX"
      },
      "source": [
        "# Cleaning test data"
      ]
    },
    {
      "cell_type": "code",
      "metadata": {
        "colab": {
          "base_uri": "https://localhost:8080/",
          "height": 333
        },
        "id": "FfwfE87ujp2H",
        "outputId": "5b869a79-18f1-4756-f689-ddfe61feaa00"
      },
      "source": [
        "sns.heatmap(test.isnull(),yticklabels=False,cbar=False,cmap='viridis')"
      ],
      "execution_count": null,
      "outputs": [
        {
          "output_type": "execute_result",
          "data": {
            "text/plain": [
              "<matplotlib.axes._subplots.AxesSubplot at 0x7f0c03df7ed0>"
            ]
          },
          "metadata": {
            "tags": []
          },
          "execution_count": 323
        },
        {
          "output_type": "display_data",
          "data": {
            "image/png": "[encoded data removed]",
            "text/plain": [
              "<Figure size 432x288 with 1 Axes>"
            ]
          },
          "metadata": {
            "tags": []
          }
        }
      ]
    },
    {
      "cell_type": "code",
      "metadata": {
        "colab": {
          "base_uri": "https://localhost:8080/",
          "height": 459
        },
        "id": "2Cibqrr4lG_G",
        "outputId": "b3785132-8a82-4a01-c022-6deae73a0704"
      },
      "source": [
        "plt.figure(figsize=(10,7))\n",
        "sns.boxplot(x='Pclass',y='Age',data=test)"
      ],
      "execution_count": null,
      "outputs": [
        {
          "output_type": "execute_result",
          "data": {
            "text/plain": [
              "<matplotlib.axes._subplots.AxesSubplot at 0x7f0c03dae4d0>"
            ]
          },
          "metadata": {
            "tags": []
          },
          "execution_count": 324
        },
        {
          "output_type": "display_data",
          "data": {
            "image/png": "[encoded data removed]",
            "text/plain": [
              "<Figure size 720x504 with 1 Axes>"
            ]
          },
          "metadata": {
            "tags": []
          }
        }
      ]
    },
    {
      "cell_type": "code",
      "metadata": {
        "colab": {
          "base_uri": "https://localhost:8080/"
        },
        "id": "_mTai2w85yGK",
        "outputId": "562db66e-0277-49d0-ac2e-8904228957a0"
      },
      "source": [
        "Pclass_1_age=int(test[test['Pclass']==1]['Age'].mean())\n",
        "Pclass_2_age=int(test[test['Pclass']==2]['Age'].mean())\n",
        "Pclass_3_age=int(test[test['Pclass']==3]['Age'].mean())\n",
        "print(Pclass_1_age,Pclass_2_age,Pclass_3_age)"
      ],
      "execution_count": null,
      "outputs": [
        {
          "output_type": "stream",
          "text": [
            "40 28 24\n"
          ],
          "name": "stdout"
        }
      ]
    },
    {
      "cell_type": "code",
      "metadata": {
        "id": "a4so0I606Dzo"
      },
      "source": [
        "def impute_Age(cols):\n",
        "  Age=cols[0]\n",
        "  Pclass=cols[1]\n",
        "  if pd.isnull(Age):\n",
        "    if Pclass==1:\n",
        "      return Pclass_1_age\n",
        "    elif Pclass==2:\n",
        "      return Pclass_2_age\n",
        "    else:\n",
        "      return Pclass_2_age\n",
        "  else:\n",
        "    return Age"
      ],
      "execution_count": null,
      "outputs": []
    },
    {
      "cell_type": "code",
      "metadata": {
        "id": "0htWyatala51"
      },
      "source": [
        "test['Age']=test[['Age','Pclass']].apply(impute_Age,axis=1)"
      ],
      "execution_count": null,
      "outputs": []
    },
    {
      "cell_type": "code",
      "metadata": {
        "id": "wm9WPu5qlh9R"
      },
      "source": [
        "test.drop('Cabin',axis=1,inplace=True)"
      ],
      "execution_count": null,
      "outputs": []
    },
    {
      "cell_type": "code",
      "metadata": {
        "id": "JYpr83SMl8iG"
      },
      "source": [
        "test.dropna(how='any',inplace=True)"
      ],
      "execution_count": null,
      "outputs": []
    },
    {
      "cell_type": "code",
      "metadata": {
        "colab": {
          "base_uri": "https://localhost:8080/",
          "height": 333
        },
        "id": "I0C3aCwOl5Cl",
        "outputId": "1a3f26d1-b01c-48e3-a972-f25c1ee1c2a4"
      },
      "source": [
        "sns.heatmap(test.isnull(),yticklabels=False,cbar=False,cmap='viridis')"
      ],
      "execution_count": null,
      "outputs": [
        {
          "output_type": "execute_result",
          "data": {
            "text/plain": [
              "<matplotlib.axes._subplots.AxesSubplot at 0x7f0c03e7a750>"
            ]
          },
          "metadata": {
            "tags": []
          },
          "execution_count": 330
        },
        {
          "output_type": "display_data",
          "data": {
            "image/png": "[encoded data removed]",
            "text/plain": [
              "<Figure size 432x288 with 1 Axes>"
            ]
          },
          "metadata": {
            "tags": []
          }
        }
      ]
    },
    {
      "cell_type": "code",
      "metadata": {
        "colab": {
          "base_uri": "https://localhost:8080/",
          "height": 203
        },
        "id": "_2BfxScSmI_J",
        "outputId": "ee15b9c7-dcbc-4116-cba2-98a0a336d808"
      },
      "source": [
        "test.head()"
      ],
      "execution_count": null,
      "outputs": [
        {
          "output_type": "execute_result",
          "data": {
            "text/html": [
              "<div>\n",
              "<style scoped>\n",
              "    .dataframe tbody tr th:only-of-type {\n",
              "        vertical-align: middle;\n",
              "    }\n",
              "\n",
              "    .dataframe tbody tr th {\n",
              "        vertical-align: top;\n",
              "    }\n",
              "\n",
              "    .dataframe thead th {\n",
              "        text-align: right;\n",
              "    }\n",
              "</style>\n",
              "<table border=\"1\" class=\"dataframe\">\n",
              "  <thead>\n",
              "    <tr style=\"text-align: right;\">\n",
              "      <th></th>\n",
              "      <th>PassengerId</th>\n",
              "      <th>Pclass</th>\n",
              "      <th>Name</th>\n",
              "      <th>Sex</th>\n",
              "      <th>Age</th>\n",
              "      <th>SibSp</th>\n",
              "      <th>Parch</th>\n",
              "      <th>Ticket</th>\n",
              "      <th>Fare</th>\n",
              "      <th>Embarked</th>\n",
              "    </tr>\n",
              "  </thead>\n",
              "  <tbody>\n",
              "    <tr>\n",
              "      <th>0</th>\n",
              "      <td>892</td>\n",
              "      <td>3</td>\n",
              "      <td>Kelly, Mr. James</td>\n",
              "      <td>male</td>\n",
              "      <td>34.5</td>\n",
              "      <td>0</td>\n",
              "      <td>0</td>\n",
              "      <td>330911</td>\n",
              "      <td>7.8292</td>\n",
              "      <td>Q</td>\n",
              "    </tr>\n",
              "    <tr>\n",
              "      <th>1</th>\n",
              "      <td>893</td>\n",
              "      <td>3</td>\n",
              "      <td>Wilkes, Mrs. James (Ellen Needs)</td>\n",
              "      <td>female</td>\n",
              "      <td>47.0</td>\n",
              "      <td>1</td>\n",
              "      <td>0</td>\n",
              "      <td>363272</td>\n",
              "      <td>7.0000</td>\n",
              "      <td>S</td>\n",
              "    </tr>\n",
              "    <tr>\n",
              "      <th>2</th>\n",
              "      <td>894</td>\n",
              "      <td>2</td>\n",
              "      <td>Myles, Mr. Thomas Francis</td>\n",
              "      <td>male</td>\n",
              "      <td>62.0</td>\n",
              "      <td>0</td>\n",
              "      <td>0</td>\n",
              "      <td>240276</td>\n",
              "      <td>9.6875</td>\n",
              "      <td>Q</td>\n",
              "    </tr>\n",
              "    <tr>\n",
              "      <th>3</th>\n",
              "      <td>895</td>\n",
              "      <td>3</td>\n",
              "      <td>Wirz, Mr. Albert</td>\n",
              "      <td>male</td>\n",
              "      <td>27.0</td>\n",
              "      <td>0</td>\n",
              "      <td>0</td>\n",
              "      <td>315154</td>\n",
              "      <td>8.6625</td>\n",
              "      <td>S</td>\n",
              "    </tr>\n",
              "    <tr>\n",
              "      <th>4</th>\n",
              "      <td>896</td>\n",
              "      <td>3</td>\n",
              "      <td>Hirvonen, Mrs. Alexander (Helga E Lindqvist)</td>\n",
              "      <td>female</td>\n",
              "      <td>22.0</td>\n",
              "      <td>1</td>\n",
              "      <td>1</td>\n",
              "      <td>3101298</td>\n",
              "      <td>12.2875</td>\n",
              "      <td>S</td>\n",
              "    </tr>\n",
              "  </tbody>\n",
              "</table>\n",
              "</div>"
            ],
            "text/plain": [
              "   PassengerId  Pclass  ...     Fare Embarked\n",
              "0          892       3  ...   7.8292        Q\n",
              "1          893       3  ...   7.0000        S\n",
              "2          894       2  ...   9.6875        Q\n",
              "3          895       3  ...   8.6625        S\n",
              "4          896       3  ...  12.2875        S\n",
              "\n",
              "[5 rows x 10 columns]"
            ]
          },
          "metadata": {
            "tags": []
          },
          "execution_count": 331
        }
      ]
    },
    {
      "cell_type": "code",
      "metadata": {
        "id": "EFC_iL930j7B"
      },
      "source": [
        "test.Sex = encoder.fit_transform(test.Sex)"
      ],
      "execution_count": null,
      "outputs": []
    },
    {
      "cell_type": "code",
      "metadata": {
        "id": "5QpI86EQ0pRM"
      },
      "source": [
        "test.Embarked= encoder.fit_transform(test.Embarked)"
      ],
      "execution_count": null,
      "outputs": []
    },
    {
      "cell_type": "code",
      "metadata": {
        "colab": {
          "base_uri": "https://localhost:8080/",
          "height": 203
        },
        "id": "ishGtV-zmyIF",
        "outputId": "fd2a20f5-4fca-4de9-ef96-accab4ab914f"
      },
      "source": [
        "test.head()"
      ],
      "execution_count": null,
      "outputs": [
        {
          "output_type": "execute_result",
          "data": {
            "text/html": [
              "<div>\n",
              "<style scoped>\n",
              "    .dataframe tbody tr th:only-of-type {\n",
              "        vertical-align: middle;\n",
              "    }\n",
              "\n",
              "    .dataframe tbody tr th {\n",
              "        vertical-align: top;\n",
              "    }\n",
              "\n",
              "    .dataframe thead th {\n",
              "        text-align: right;\n",
              "    }\n",
              "</style>\n",
              "<table border=\"1\" class=\"dataframe\">\n",
              "  <thead>\n",
              "    <tr style=\"text-align: right;\">\n",
              "      <th></th>\n",
              "      <th>PassengerId</th>\n",
              "      <th>Pclass</th>\n",
              "      <th>Name</th>\n",
              "      <th>Sex</th>\n",
              "      <th>Age</th>\n",
              "      <th>SibSp</th>\n",
              "      <th>Parch</th>\n",
              "      <th>Ticket</th>\n",
              "      <th>Fare</th>\n",
              "      <th>Embarked</th>\n",
              "    </tr>\n",
              "  </thead>\n",
              "  <tbody>\n",
              "    <tr>\n",
              "      <th>0</th>\n",
              "      <td>892</td>\n",
              "      <td>3</td>\n",
              "      <td>Kelly, Mr. James</td>\n",
              "      <td>1</td>\n",
              "      <td>34.5</td>\n",
              "      <td>0</td>\n",
              "      <td>0</td>\n",
              "      <td>330911</td>\n",
              "      <td>7.8292</td>\n",
              "      <td>1</td>\n",
              "    </tr>\n",
              "    <tr>\n",
              "      <th>1</th>\n",
              "      <td>893</td>\n",
              "      <td>3</td>\n",
              "      <td>Wilkes, Mrs. James (Ellen Needs)</td>\n",
              "      <td>0</td>\n",
              "      <td>47.0</td>\n",
              "      <td>1</td>\n",
              "      <td>0</td>\n",
              "      <td>363272</td>\n",
              "      <td>7.0000</td>\n",
              "      <td>2</td>\n",
              "    </tr>\n",
              "    <tr>\n",
              "      <th>2</th>\n",
              "      <td>894</td>\n",
              "      <td>2</td>\n",
              "      <td>Myles, Mr. Thomas Francis</td>\n",
              "      <td>1</td>\n",
              "      <td>62.0</td>\n",
              "      <td>0</td>\n",
              "      <td>0</td>\n",
              "      <td>240276</td>\n",
              "      <td>9.6875</td>\n",
              "      <td>1</td>\n",
              "    </tr>\n",
              "    <tr>\n",
              "      <th>3</th>\n",
              "      <td>895</td>\n",
              "      <td>3</td>\n",
              "      <td>Wirz, Mr. Albert</td>\n",
              "      <td>1</td>\n",
              "      <td>27.0</td>\n",
              "      <td>0</td>\n",
              "      <td>0</td>\n",
              "      <td>315154</td>\n",
              "      <td>8.6625</td>\n",
              "      <td>2</td>\n",
              "    </tr>\n",
              "    <tr>\n",
              "      <th>4</th>\n",
              "      <td>896</td>\n",
              "      <td>3</td>\n",
              "      <td>Hirvonen, Mrs. Alexander (Helga E Lindqvist)</td>\n",
              "      <td>0</td>\n",
              "      <td>22.0</td>\n",
              "      <td>1</td>\n",
              "      <td>1</td>\n",
              "      <td>3101298</td>\n",
              "      <td>12.2875</td>\n",
              "      <td>2</td>\n",
              "    </tr>\n",
              "  </tbody>\n",
              "</table>\n",
              "</div>"
            ],
            "text/plain": [
              "   PassengerId  Pclass  ...     Fare  Embarked\n",
              "0          892       3  ...   7.8292         1\n",
              "1          893       3  ...   7.0000         2\n",
              "2          894       2  ...   9.6875         1\n",
              "3          895       3  ...   8.6625         2\n",
              "4          896       3  ...  12.2875         2\n",
              "\n",
              "[5 rows x 10 columns]"
            ]
          },
          "metadata": {
            "tags": []
          },
          "execution_count": 334
        }
      ]
    },
    {
      "cell_type": "code",
      "metadata": {
        "id": "HUuW31q0m283"
      },
      "source": [
        "test.drop(['PassengerId','Name','Ticket'],axis=1,inplace=True)"
      ],
      "execution_count": null,
      "outputs": []
    },
    {
      "cell_type": "code",
      "metadata": {
        "colab": {
          "base_uri": "https://localhost:8080/",
          "height": 203
        },
        "id": "kudWQzV-nG7C",
        "outputId": "0e0aa6cd-b188-401c-e964-ba77f45ada07"
      },
      "source": [
        "test.head()"
      ],
      "execution_count": null,
      "outputs": [
        {
          "output_type": "execute_result",
          "data": {
            "text/html": [
              "<div>\n",
              "<style scoped>\n",
              "    .dataframe tbody tr th:only-of-type {\n",
              "        vertical-align: middle;\n",
              "    }\n",
              "\n",
              "    .dataframe tbody tr th {\n",
              "        vertical-align: top;\n",
              "    }\n",
              "\n",
              "    .dataframe thead th {\n",
              "        text-align: right;\n",
              "    }\n",
              "</style>\n",
              "<table border=\"1\" class=\"dataframe\">\n",
              "  <thead>\n",
              "    <tr style=\"text-align: right;\">\n",
              "      <th></th>\n",
              "      <th>Pclass</th>\n",
              "      <th>Sex</th>\n",
              "      <th>Age</th>\n",
              "      <th>SibSp</th>\n",
              "      <th>Parch</th>\n",
              "      <th>Fare</th>\n",
              "      <th>Embarked</th>\n",
              "    </tr>\n",
              "  </thead>\n",
              "  <tbody>\n",
              "    <tr>\n",
              "      <th>0</th>\n",
              "      <td>3</td>\n",
              "      <td>1</td>\n",
              "      <td>34.5</td>\n",
              "      <td>0</td>\n",
              "      <td>0</td>\n",
              "      <td>7.8292</td>\n",
              "      <td>1</td>\n",
              "    </tr>\n",
              "    <tr>\n",
              "      <th>1</th>\n",
              "      <td>3</td>\n",
              "      <td>0</td>\n",
              "      <td>47.0</td>\n",
              "      <td>1</td>\n",
              "      <td>0</td>\n",
              "      <td>7.0000</td>\n",
              "      <td>2</td>\n",
              "    </tr>\n",
              "    <tr>\n",
              "      <th>2</th>\n",
              "      <td>2</td>\n",
              "      <td>1</td>\n",
              "      <td>62.0</td>\n",
              "      <td>0</td>\n",
              "      <td>0</td>\n",
              "      <td>9.6875</td>\n",
              "      <td>1</td>\n",
              "    </tr>\n",
              "    <tr>\n",
              "      <th>3</th>\n",
              "      <td>3</td>\n",
              "      <td>1</td>\n",
              "      <td>27.0</td>\n",
              "      <td>0</td>\n",
              "      <td>0</td>\n",
              "      <td>8.6625</td>\n",
              "      <td>2</td>\n",
              "    </tr>\n",
              "    <tr>\n",
              "      <th>4</th>\n",
              "      <td>3</td>\n",
              "      <td>0</td>\n",
              "      <td>22.0</td>\n",
              "      <td>1</td>\n",
              "      <td>1</td>\n",
              "      <td>12.2875</td>\n",
              "      <td>2</td>\n",
              "    </tr>\n",
              "  </tbody>\n",
              "</table>\n",
              "</div>"
            ],
            "text/plain": [
              "   Pclass  Sex   Age  SibSp  Parch     Fare  Embarked\n",
              "0       3    1  34.5      0      0   7.8292         1\n",
              "1       3    0  47.0      1      0   7.0000         2\n",
              "2       2    1  62.0      0      0   9.6875         1\n",
              "3       3    1  27.0      0      0   8.6625         2\n",
              "4       3    0  22.0      1      1  12.2875         2"
            ]
          },
          "metadata": {
            "tags": []
          },
          "execution_count": 336
        }
      ]
    },
    {
      "cell_type": "code",
      "metadata": {
        "colab": {
          "base_uri": "https://localhost:8080/"
        },
        "id": "NQyNFqEXnWlA",
        "outputId": "e7f43209-732b-42cc-e384-ac31f6f903c0"
      },
      "source": [
        "len(test)"
      ],
      "execution_count": null,
      "outputs": [
        {
          "output_type": "execute_result",
          "data": {
            "text/plain": [
              "417"
            ]
          },
          "metadata": {
            "tags": []
          },
          "execution_count": 337
        }
      ]
    },
    {
      "cell_type": "markdown",
      "metadata": {
        "id": "59ACYDO-YgkO"
      },
      "source": [
        "# Logistic Regression"
      ]
    },
    {
      "cell_type": "markdown",
      "metadata": {
        "id": "S1pjk7jci19B"
      },
      "source": [
        "**Traning the model**"
      ]
    },
    {
      "cell_type": "code",
      "metadata": {
        "id": "THvqYfmei7qo"
      },
      "source": [
        "X=train.drop('Survived',axis=1)\n",
        "y=train['Survived']"
      ],
      "execution_count": null,
      "outputs": []
    },
    {
      "cell_type": "code",
      "metadata": {
        "id": "aH7gOB0PnaQJ"
      },
      "source": [
        "from sklearn.model_selection import train_test_split\n",
        "X_train,X_test,y_train,y_test= train_test_split(X,y,test_size=0.3,random_state=101)"
      ],
      "execution_count": null,
      "outputs": []
    },
    {
      "cell_type": "code",
      "metadata": {
        "id": "vvDw6kqOo4z_"
      },
      "source": [
        "from sklearn.linear_model import LogisticRegression"
      ],
      "execution_count": null,
      "outputs": []
    },
    {
      "cell_type": "code",
      "metadata": {
        "colab": {
          "base_uri": "https://localhost:8080/"
        },
        "id": "W73ONFGeolCm",
        "outputId": "6a255faa-defd-4ae9-d9b3-90ed7f98a16a"
      },
      "source": [
        "lm=LogisticRegression()\n",
        "lm.fit(X_train,y_train)"
      ],
      "execution_count": null,
      "outputs": [
        {
          "output_type": "execute_result",
          "data": {
            "text/plain": [
              "LogisticRegression(C=1.0, class_weight=None, dual=False, fit_intercept=True,\n",
              "                   intercept_scaling=1, l1_ratio=None, max_iter=100,\n",
              "                   multi_class='auto', n_jobs=None, penalty='l2',\n",
              "                   random_state=None, solver='lbfgs', tol=0.0001, verbose=0,\n",
              "                   warm_start=False)"
            ]
          },
          "metadata": {
            "tags": []
          },
          "execution_count": 341
        }
      ]
    },
    {
      "cell_type": "code",
      "metadata": {
        "id": "x5JwrvUvpDdh"
      },
      "source": [
        "predictions=lm.predict(X_test)"
      ],
      "execution_count": null,
      "outputs": []
    },
    {
      "cell_type": "code",
      "metadata": {
        "id": "cRrWauV-pIw5"
      },
      "source": [
        "from sklearn.metrics import classification_report"
      ],
      "execution_count": null,
      "outputs": []
    },
    {
      "cell_type": "code",
      "metadata": {
        "colab": {
          "base_uri": "https://localhost:8080/"
        },
        "id": "_FPTUZtypUJi",
        "outputId": "de53086f-9f6c-4c49-e836-79512e509046"
      },
      "source": [
        "print(classification_report(y_test,predictions))"
      ],
      "execution_count": null,
      "outputs": [
        {
          "output_type": "stream",
          "text": [
            "              precision    recall  f1-score   support\n",
            "\n",
            "           0       0.82      0.92      0.87       163\n",
            "           1       0.85      0.68      0.76       104\n",
            "\n",
            "    accuracy                           0.83       267\n",
            "   macro avg       0.83      0.80      0.81       267\n",
            "weighted avg       0.83      0.83      0.82       267\n",
            "\n"
          ],
          "name": "stdout"
        }
      ]
    },
    {
      "cell_type": "code",
      "metadata": {
        "id": "qEy1MYcMplLL"
      },
      "source": [
        "from sklearn.metrics import confusion_matrix"
      ],
      "execution_count": null,
      "outputs": []
    },
    {
      "cell_type": "code",
      "metadata": {
        "colab": {
          "base_uri": "https://localhost:8080/"
        },
        "id": "rajbWKccptF0",
        "outputId": "05e38a8b-245f-42c5-d6c2-fd18bd89298e"
      },
      "source": [
        "confusion_matrix(y_test,predictions)"
      ],
      "execution_count": null,
      "outputs": [
        {
          "output_type": "execute_result",
          "data": {
            "text/plain": [
              "array([[150,  13],\n",
              "       [ 33,  71]])"
            ]
          },
          "metadata": {
            "tags": []
          },
          "execution_count": 346
        }
      ]
    },
    {
      "cell_type": "code",
      "metadata": {
        "id": "k8e4iTWDqRmZ"
      },
      "source": [
        "from sklearn.metrics import plot_confusion_matrix"
      ],
      "execution_count": null,
      "outputs": []
    },
    {
      "cell_type": "code",
      "metadata": {
        "colab": {
          "base_uri": "https://localhost:8080/",
          "height": 296
        },
        "id": "vxxwXcYJqV_U",
        "outputId": "3773fe59-4582-4825-a7b2-53b7494f703c"
      },
      "source": [
        "plot_confusion_matrix(lm,X_test,y_test)"
      ],
      "execution_count": null,
      "outputs": [
        {
          "output_type": "execute_result",
          "data": {
            "text/plain": [
              "<sklearn.metrics._plot.confusion_matrix.ConfusionMatrixDisplay at 0x7f0c03caf510>"
            ]
          },
          "metadata": {
            "tags": []
          },
          "execution_count": 348
        },
        {
          "output_type": "display_data",
          "data": {
            "image/png": "[encoded data removed]",
            "text/plain": [
              "<Figure size 432x288 with 2 Axes>"
            ]
          },
          "metadata": {
            "tags": []
          }
        }
      ]
    },
    {
      "cell_type": "code",
      "metadata": {
        "colab": {
          "base_uri": "https://localhost:8080/"
        },
        "id": "00080BU2uDyI",
        "outputId": "bf090d7b-e726-4b5e-d426-0bbb333f30f6"
      },
      "source": [
        "predictions"
      ],
      "execution_count": null,
      "outputs": [
        {
          "output_type": "execute_result",
          "data": {
            "text/plain": [
              "array([0, 0, 1, 1, 0, 0, 0, 0, 0, 1, 1, 1, 0, 1, 0, 0, 1, 1, 1, 0, 0, 0,\n",
              "       0, 0, 0, 0, 1, 0, 0, 0, 0, 0, 0, 0, 0, 0, 1, 0, 0, 0, 1, 0, 0, 1,\n",
              "       1, 0, 1, 1, 0, 0, 0, 1, 0, 0, 0, 0, 0, 0, 0, 1, 1, 1, 1, 0, 0, 0,\n",
              "       0, 0, 0, 0, 0, 0, 1, 1, 0, 1, 0, 0, 0, 0, 0, 0, 1, 0, 0, 1, 0, 1,\n",
              "       0, 1, 1, 1, 0, 0, 0, 1, 1, 0, 0, 1, 0, 1, 0, 0, 1, 0, 1, 0, 0, 0,\n",
              "       0, 0, 1, 1, 0, 1, 0, 0, 1, 1, 0, 0, 0, 0, 0, 0, 1, 0, 1, 1, 0, 0,\n",
              "       1, 1, 0, 0, 0, 0, 1, 0, 0, 0, 0, 0, 0, 1, 0, 0, 0, 1, 0, 1, 1, 1,\n",
              "       0, 0, 0, 0, 1, 0, 0, 0, 0, 1, 0, 0, 0, 0, 0, 0, 1, 0, 1, 0, 0, 0,\n",
              "       0, 0, 1, 0, 1, 0, 0, 1, 0, 1, 1, 0, 0, 0, 0, 0, 1, 0, 0, 0, 1, 0,\n",
              "       0, 0, 0, 0, 1, 0, 1, 0, 0, 0, 0, 0, 0, 0, 1, 0, 0, 1, 1, 0, 0, 0,\n",
              "       1, 0, 0, 0, 1, 0, 0, 1, 0, 0, 1, 0, 0, 0, 1, 1, 1, 0, 1, 0, 0, 0,\n",
              "       0, 0, 1, 0, 0, 0, 1, 1, 0, 1, 0, 0, 0, 0, 0, 0, 0, 1, 1, 0, 0, 0,\n",
              "       0, 1, 1])"
            ]
          },
          "metadata": {
            "tags": []
          },
          "execution_count": 349
        }
      ]
    },
    {
      "cell_type": "markdown",
      "metadata": {
        "id": "xmxnG9Dvt4Ki"
      },
      "source": [
        "Test data"
      ]
    },
    {
      "cell_type": "code",
      "metadata": {
        "id": "OHgkzn0Lt6cr"
      },
      "source": [
        "testing=pd.read_csv('gender_submission.csv')\n",
        "testing.drop(152,axis=0,inplace=True)\n",
        "testing=np.array(testing['Survived'])"
      ],
      "execution_count": null,
      "outputs": []
    },
    {
      "cell_type": "code",
      "metadata": {
        "colab": {
          "base_uri": "https://localhost:8080/"
        },
        "id": "SnkPCy0yuhtH",
        "outputId": "3b4b796c-c682-4063-825c-3064df585135"
      },
      "source": [
        "logmod=LogisticRegression()\n",
        "logmod.fit(X,y)\n",
        "predictions=logmod.predict(test)"
      ],
      "execution_count": null,
      "outputs": [
        {
          "output_type": "stream",
          "text": [
            "/usr/local/lib/python3.7/dist-packages/sklearn/linear_model/_logistic.py:940: ConvergenceWarning: lbfgs failed to converge (status=1):\n",
            "STOP: TOTAL NO. of ITERATIONS REACHED LIMIT.\n",
            "\n",
            "Increase the number of iterations (max_iter) or scale the data as shown in:\n",
            "    https://scikit-learn.org/stable/modules/preprocessing.html\n",
            "Please also refer to the documentation for alternative solver options:\n",
            "    https://scikit-learn.org/stable/modules/linear_model.html#logistic-regression\n",
            "  extra_warning_msg=_LOGISTIC_SOLVER_CONVERGENCE_MSG)\n"
          ],
          "name": "stderr"
        }
      ]
    },
    {
      "cell_type": "code",
      "metadata": {
        "colab": {
          "base_uri": "https://localhost:8080/"
        },
        "id": "383pngHku0nt",
        "outputId": "b695bc38-f14f-4c6c-c406-1cee5d99e66b"
      },
      "source": [
        "predictions"
      ],
      "execution_count": null,
      "outputs": [
        {
          "output_type": "execute_result",
          "data": {
            "text/plain": [
              "array([0, 0, 0, 0, 1, 0, 1, 0, 1, 0, 0, 0, 1, 0, 1, 1, 0, 0, 1, 1, 0, 0,\n",
              "       1, 1, 1, 0, 1, 0, 0, 0, 0, 0, 0, 0, 1, 0, 1, 1, 0, 0, 0, 0, 0, 1,\n",
              "       1, 0, 0, 0, 1, 0, 0, 0, 1, 1, 0, 0, 0, 0, 0, 1, 0, 0, 0, 1, 1, 1,\n",
              "       1, 0, 1, 1, 1, 0, 1, 1, 1, 1, 0, 1, 0, 1, 0, 0, 0, 0, 0, 0, 1, 1,\n",
              "       1, 0, 1, 0, 1, 0, 1, 0, 1, 0, 1, 0, 1, 0, 0, 0, 1, 0, 0, 0, 0, 0,\n",
              "       0, 1, 1, 1, 1, 0, 0, 1, 1, 1, 1, 0, 1, 0, 0, 1, 0, 1, 0, 0, 0, 0,\n",
              "       1, 0, 0, 0, 0, 0, 1, 0, 0, 1, 0, 0, 0, 0, 0, 0, 0, 0, 1, 0, 0, 0,\n",
              "       0, 1, 1, 0, 1, 1, 0, 1, 0, 0, 1, 0, 0, 1, 1, 0, 0, 0, 0, 0, 1, 1,\n",
              "       0, 1, 1, 0, 0, 1, 0, 1, 0, 1, 0, 0, 0, 0, 0, 0, 0, 0, 0, 1, 1, 0,\n",
              "       1, 1, 0, 0, 1, 0, 0, 1, 0, 1, 0, 0, 0, 0, 0, 0, 0, 1, 0, 1, 0, 1,\n",
              "       0, 1, 0, 1, 1, 0, 1, 0, 0, 0, 1, 0, 0, 0, 0, 0, 0, 1, 1, 1, 1, 0,\n",
              "       0, 0, 0, 1, 0, 1, 1, 1, 0, 1, 0, 0, 0, 0, 0, 1, 0, 0, 0, 1, 1, 0,\n",
              "       0, 0, 0, 1, 0, 0, 0, 1, 1, 0, 1, 0, 0, 0, 0, 1, 0, 1, 1, 1, 0, 0,\n",
              "       0, 0, 0, 0, 1, 0, 0, 0, 0, 1, 0, 0, 0, 0, 0, 0, 0, 1, 1, 0, 0, 0,\n",
              "       0, 0, 0, 0, 1, 1, 1, 0, 0, 0, 0, 0, 0, 0, 0, 1, 0, 1, 0, 0, 0, 1,\n",
              "       1, 0, 1, 0, 0, 0, 0, 0, 0, 0, 0, 0, 1, 0, 1, 0, 1, 0, 1, 1, 0, 0,\n",
              "       0, 1, 0, 1, 0, 0, 1, 0, 1, 1, 0, 1, 0, 0, 1, 1, 0, 0, 1, 0, 0, 1,\n",
              "       1, 1, 0, 0, 0, 0, 0, 1, 1, 0, 1, 0, 0, 0, 0, 1, 1, 0, 0, 0, 1, 0,\n",
              "       1, 0, 0, 1, 0, 1, 1, 0, 0, 0, 0, 1, 1, 1, 1, 1, 0, 1, 0, 0, 0])"
            ]
          },
          "metadata": {
            "tags": []
          },
          "execution_count": 352
        }
      ]
    },
    {
      "cell_type": "code",
      "metadata": {
        "colab": {
          "base_uri": "https://localhost:8080/"
        },
        "id": "1lUcYpNzu3jT",
        "outputId": "2aed544f-45bf-4a3a-e10e-31e4c9f13cc8"
      },
      "source": [
        "print(classification_report(testing,predictions))"
      ],
      "execution_count": null,
      "outputs": [
        {
          "output_type": "stream",
          "text": [
            "              precision    recall  f1-score   support\n",
            "\n",
            "           0       0.96      0.95      0.95       265\n",
            "           1       0.92      0.93      0.92       152\n",
            "\n",
            "    accuracy                           0.94       417\n",
            "   macro avg       0.94      0.94      0.94       417\n",
            "weighted avg       0.94      0.94      0.94       417\n",
            "\n"
          ],
          "name": "stdout"
        }
      ]
    },
    {
      "cell_type": "markdown",
      "metadata": {
        "id": "Zq5MoKKHZb6d"
      },
      "source": [
        "# KNN"
      ]
    },
    {
      "cell_type": "code",
      "metadata": {
        "id": "Zkf8vh4AmJDP"
      },
      "source": [
        "X=train.drop('Survived',axis=1)\n",
        "y=train['Survived']"
      ],
      "execution_count": null,
      "outputs": []
    },
    {
      "cell_type": "code",
      "metadata": {
        "colab": {
          "base_uri": "https://localhost:8080/",
          "height": 417
        },
        "id": "J8rBGo__mTGc",
        "outputId": "b8b23ac0-c3a5-4a40-de07-8ac9ac3f1a2a"
      },
      "source": [
        "X"
      ],
      "execution_count": null,
      "outputs": [
        {
          "output_type": "execute_result",
          "data": {
            "text/html": [
              "<div>\n",
              "<style scoped>\n",
              "    .dataframe tbody tr th:only-of-type {\n",
              "        vertical-align: middle;\n",
              "    }\n",
              "\n",
              "    .dataframe tbody tr th {\n",
              "        vertical-align: top;\n",
              "    }\n",
              "\n",
              "    .dataframe thead th {\n",
              "        text-align: right;\n",
              "    }\n",
              "</style>\n",
              "<table border=\"1\" class=\"dataframe\">\n",
              "  <thead>\n",
              "    <tr style=\"text-align: right;\">\n",
              "      <th></th>\n",
              "      <th>Pclass</th>\n",
              "      <th>Sex</th>\n",
              "      <th>Age</th>\n",
              "      <th>SibSp</th>\n",
              "      <th>Parch</th>\n",
              "      <th>Fare</th>\n",
              "      <th>Embarked</th>\n",
              "    </tr>\n",
              "  </thead>\n",
              "  <tbody>\n",
              "    <tr>\n",
              "      <th>0</th>\n",
              "      <td>3</td>\n",
              "      <td>1</td>\n",
              "      <td>22.0</td>\n",
              "      <td>1</td>\n",
              "      <td>0</td>\n",
              "      <td>7.2500</td>\n",
              "      <td>2</td>\n",
              "    </tr>\n",
              "    <tr>\n",
              "      <th>1</th>\n",
              "      <td>1</td>\n",
              "      <td>0</td>\n",
              "      <td>38.0</td>\n",
              "      <td>1</td>\n",
              "      <td>0</td>\n",
              "      <td>71.2833</td>\n",
              "      <td>0</td>\n",
              "    </tr>\n",
              "    <tr>\n",
              "      <th>2</th>\n",
              "      <td>3</td>\n",
              "      <td>0</td>\n",
              "      <td>26.0</td>\n",
              "      <td>0</td>\n",
              "      <td>0</td>\n",
              "      <td>7.9250</td>\n",
              "      <td>2</td>\n",
              "    </tr>\n",
              "    <tr>\n",
              "      <th>3</th>\n",
              "      <td>1</td>\n",
              "      <td>0</td>\n",
              "      <td>35.0</td>\n",
              "      <td>1</td>\n",
              "      <td>0</td>\n",
              "      <td>53.1000</td>\n",
              "      <td>2</td>\n",
              "    </tr>\n",
              "    <tr>\n",
              "      <th>4</th>\n",
              "      <td>3</td>\n",
              "      <td>1</td>\n",
              "      <td>35.0</td>\n",
              "      <td>0</td>\n",
              "      <td>0</td>\n",
              "      <td>8.0500</td>\n",
              "      <td>2</td>\n",
              "    </tr>\n",
              "    <tr>\n",
              "      <th>...</th>\n",
              "      <td>...</td>\n",
              "      <td>...</td>\n",
              "      <td>...</td>\n",
              "      <td>...</td>\n",
              "      <td>...</td>\n",
              "      <td>...</td>\n",
              "      <td>...</td>\n",
              "    </tr>\n",
              "    <tr>\n",
              "      <th>886</th>\n",
              "      <td>2</td>\n",
              "      <td>1</td>\n",
              "      <td>27.0</td>\n",
              "      <td>0</td>\n",
              "      <td>0</td>\n",
              "      <td>13.0000</td>\n",
              "      <td>2</td>\n",
              "    </tr>\n",
              "    <tr>\n",
              "      <th>887</th>\n",
              "      <td>1</td>\n",
              "      <td>0</td>\n",
              "      <td>19.0</td>\n",
              "      <td>0</td>\n",
              "      <td>0</td>\n",
              "      <td>30.0000</td>\n",
              "      <td>2</td>\n",
              "    </tr>\n",
              "    <tr>\n",
              "      <th>888</th>\n",
              "      <td>3</td>\n",
              "      <td>0</td>\n",
              "      <td>29.0</td>\n",
              "      <td>1</td>\n",
              "      <td>2</td>\n",
              "      <td>23.4500</td>\n",
              "      <td>2</td>\n",
              "    </tr>\n",
              "    <tr>\n",
              "      <th>889</th>\n",
              "      <td>1</td>\n",
              "      <td>1</td>\n",
              "      <td>26.0</td>\n",
              "      <td>0</td>\n",
              "      <td>0</td>\n",
              "      <td>30.0000</td>\n",
              "      <td>0</td>\n",
              "    </tr>\n",
              "    <tr>\n",
              "      <th>890</th>\n",
              "      <td>3</td>\n",
              "      <td>1</td>\n",
              "      <td>32.0</td>\n",
              "      <td>0</td>\n",
              "      <td>0</td>\n",
              "      <td>7.7500</td>\n",
              "      <td>1</td>\n",
              "    </tr>\n",
              "  </tbody>\n",
              "</table>\n",
              "<p>889 rows × 7 columns</p>\n",
              "</div>"
            ],
            "text/plain": [
              "     Pclass  Sex   Age  SibSp  Parch     Fare  Embarked\n",
              "0         3    1  22.0      1      0   7.2500         2\n",
              "1         1    0  38.0      1      0  71.2833         0\n",
              "2         3    0  26.0      0      0   7.9250         2\n",
              "3         1    0  35.0      1      0  53.1000         2\n",
              "4         3    1  35.0      0      0   8.0500         2\n",
              "..      ...  ...   ...    ...    ...      ...       ...\n",
              "886       2    1  27.0      0      0  13.0000         2\n",
              "887       1    0  19.0      0      0  30.0000         2\n",
              "888       3    0  29.0      1      2  23.4500         2\n",
              "889       1    1  26.0      0      0  30.0000         0\n",
              "890       3    1  32.0      0      0   7.7500         1\n",
              "\n",
              "[889 rows x 7 columns]"
            ]
          },
          "metadata": {
            "tags": []
          },
          "execution_count": 355
        }
      ]
    },
    {
      "cell_type": "code",
      "metadata": {
        "id": "RLddkzccmoLM"
      },
      "source": [
        "from sklearn.preprocessing import StandardScaler"
      ],
      "execution_count": null,
      "outputs": []
    },
    {
      "cell_type": "code",
      "metadata": {
        "id": "n5cah95imKzM"
      },
      "source": [
        "from sklearn.neighbors import KNeighborsClassifier\n",
        "from sklearn.metrics import classification_report,confusion_matrix"
      ],
      "execution_count": null,
      "outputs": []
    },
    {
      "cell_type": "code",
      "metadata": {
        "colab": {
          "base_uri": "https://localhost:8080/"
        },
        "id": "DBKAn6AJmwq6",
        "outputId": "d9a7d598-33da-4f2e-d70c-72f197ec400d"
      },
      "source": [
        "scaler=StandardScaler()\n",
        "scaler.fit(X)"
      ],
      "execution_count": null,
      "outputs": [
        {
          "output_type": "execute_result",
          "data": {
            "text/plain": [
              "StandardScaler(copy=True, with_mean=True, with_std=True)"
            ]
          },
          "metadata": {
            "tags": []
          },
          "execution_count": 358
        }
      ]
    },
    {
      "cell_type": "code",
      "metadata": {
        "id": "4CyrVFZ-m3bQ"
      },
      "source": [
        "scaled_features=scaler.transform(X)"
      ],
      "execution_count": null,
      "outputs": []
    },
    {
      "cell_type": "code",
      "metadata": {
        "id": "1eDArpc4nA98"
      },
      "source": [
        "X_scale=pd.DataFrame(scaled_features,columns=X.columns)"
      ],
      "execution_count": null,
      "outputs": []
    },
    {
      "cell_type": "code",
      "metadata": {
        "colab": {
          "base_uri": "https://localhost:8080/",
          "height": 417
        },
        "id": "bSeKfmg5nMb6",
        "outputId": "2a6c0534-e162-45e9-9f80-cae8f4e72cbb"
      },
      "source": [
        "X_scale"
      ],
      "execution_count": null,
      "outputs": [
        {
          "output_type": "execute_result",
          "data": {
            "text/html": [
              "<div>\n",
              "<style scoped>\n",
              "    .dataframe tbody tr th:only-of-type {\n",
              "        vertical-align: middle;\n",
              "    }\n",
              "\n",
              "    .dataframe tbody tr th {\n",
              "        vertical-align: top;\n",
              "    }\n",
              "\n",
              "    .dataframe thead th {\n",
              "        text-align: right;\n",
              "    }\n",
              "</style>\n",
              "<table border=\"1\" class=\"dataframe\">\n",
              "  <thead>\n",
              "    <tr style=\"text-align: right;\">\n",
              "      <th></th>\n",
              "      <th>Pclass</th>\n",
              "      <th>Sex</th>\n",
              "      <th>Age</th>\n",
              "      <th>SibSp</th>\n",
              "      <th>Parch</th>\n",
              "      <th>Fare</th>\n",
              "      <th>Embarked</th>\n",
              "    </tr>\n",
              "  </thead>\n",
              "  <tbody>\n",
              "    <tr>\n",
              "      <th>0</th>\n",
              "      <td>0.825209</td>\n",
              "      <td>0.735342</td>\n",
              "      <td>-0.598936</td>\n",
              "      <td>0.431350</td>\n",
              "      <td>-0.474326</td>\n",
              "      <td>-0.500240</td>\n",
              "      <td>0.586840</td>\n",
              "    </tr>\n",
              "    <tr>\n",
              "      <th>1</th>\n",
              "      <td>-1.572211</td>\n",
              "      <td>-1.359911</td>\n",
              "      <td>0.626827</td>\n",
              "      <td>0.431350</td>\n",
              "      <td>-0.474326</td>\n",
              "      <td>0.788947</td>\n",
              "      <td>-1.939555</td>\n",
              "    </tr>\n",
              "    <tr>\n",
              "      <th>2</th>\n",
              "      <td>0.825209</td>\n",
              "      <td>-1.359911</td>\n",
              "      <td>-0.292495</td>\n",
              "      <td>-0.475199</td>\n",
              "      <td>-0.474326</td>\n",
              "      <td>-0.486650</td>\n",
              "      <td>0.586840</td>\n",
              "    </tr>\n",
              "    <tr>\n",
              "      <th>3</th>\n",
              "      <td>-1.572211</td>\n",
              "      <td>-1.359911</td>\n",
              "      <td>0.396997</td>\n",
              "      <td>0.431350</td>\n",
              "      <td>-0.474326</td>\n",
              "      <td>0.422861</td>\n",
              "      <td>0.586840</td>\n",
              "    </tr>\n",
              "    <tr>\n",
              "      <th>4</th>\n",
              "      <td>0.825209</td>\n",
              "      <td>0.735342</td>\n",
              "      <td>0.396997</td>\n",
              "      <td>-0.475199</td>\n",
              "      <td>-0.474326</td>\n",
              "      <td>-0.484133</td>\n",
              "      <td>0.586840</td>\n",
              "    </tr>\n",
              "    <tr>\n",
              "      <th>...</th>\n",
              "      <td>...</td>\n",
              "      <td>...</td>\n",
              "      <td>...</td>\n",
              "      <td>...</td>\n",
              "      <td>...</td>\n",
              "      <td>...</td>\n",
              "      <td>...</td>\n",
              "    </tr>\n",
              "    <tr>\n",
              "      <th>884</th>\n",
              "      <td>-0.373501</td>\n",
              "      <td>0.735342</td>\n",
              "      <td>-0.215885</td>\n",
              "      <td>-0.475199</td>\n",
              "      <td>-0.474326</td>\n",
              "      <td>-0.384475</td>\n",
              "      <td>0.586840</td>\n",
              "    </tr>\n",
              "    <tr>\n",
              "      <th>885</th>\n",
              "      <td>-1.572211</td>\n",
              "      <td>-1.359911</td>\n",
              "      <td>-0.828766</td>\n",
              "      <td>-0.475199</td>\n",
              "      <td>-0.474326</td>\n",
              "      <td>-0.042213</td>\n",
              "      <td>0.586840</td>\n",
              "    </tr>\n",
              "    <tr>\n",
              "      <th>886</th>\n",
              "      <td>0.825209</td>\n",
              "      <td>-1.359911</td>\n",
              "      <td>-0.062664</td>\n",
              "      <td>0.431350</td>\n",
              "      <td>2.006119</td>\n",
              "      <td>-0.174084</td>\n",
              "      <td>0.586840</td>\n",
              "    </tr>\n",
              "    <tr>\n",
              "      <th>887</th>\n",
              "      <td>-1.572211</td>\n",
              "      <td>0.735342</td>\n",
              "      <td>-0.292495</td>\n",
              "      <td>-0.475199</td>\n",
              "      <td>-0.474326</td>\n",
              "      <td>-0.042213</td>\n",
              "      <td>-1.939555</td>\n",
              "    </tr>\n",
              "    <tr>\n",
              "      <th>888</th>\n",
              "      <td>0.825209</td>\n",
              "      <td>0.735342</td>\n",
              "      <td>0.167166</td>\n",
              "      <td>-0.475199</td>\n",
              "      <td>-0.474326</td>\n",
              "      <td>-0.490173</td>\n",
              "      <td>-0.676357</td>\n",
              "    </tr>\n",
              "  </tbody>\n",
              "</table>\n",
              "<p>889 rows × 7 columns</p>\n",
              "</div>"
            ],
            "text/plain": [
              "       Pclass       Sex       Age     SibSp     Parch      Fare  Embarked\n",
              "0    0.825209  0.735342 -0.598936  0.431350 -0.474326 -0.500240  0.586840\n",
              "1   -1.572211 -1.359911  0.626827  0.431350 -0.474326  0.788947 -1.939555\n",
              "2    0.825209 -1.359911 -0.292495 -0.475199 -0.474326 -0.486650  0.586840\n",
              "3   -1.572211 -1.359911  0.396997  0.431350 -0.474326  0.422861  0.586840\n",
              "4    0.825209  0.735342  0.396997 -0.475199 -0.474326 -0.484133  0.586840\n",
              "..        ...       ...       ...       ...       ...       ...       ...\n",
              "884 -0.373501  0.735342 -0.215885 -0.475199 -0.474326 -0.384475  0.586840\n",
              "885 -1.572211 -1.359911 -0.828766 -0.475199 -0.474326 -0.042213  0.586840\n",
              "886  0.825209 -1.359911 -0.062664  0.431350  2.006119 -0.174084  0.586840\n",
              "887 -1.572211  0.735342 -0.292495 -0.475199 -0.474326 -0.042213 -1.939555\n",
              "888  0.825209  0.735342  0.167166 -0.475199 -0.474326 -0.490173 -0.676357\n",
              "\n",
              "[889 rows x 7 columns]"
            ]
          },
          "metadata": {
            "tags": []
          },
          "execution_count": 361
        }
      ]
    },
    {
      "cell_type": "code",
      "metadata": {
        "id": "JGaOudCOnqQm"
      },
      "source": [
        "scaler.fit(test)\n",
        "scaled_features=scaler.transform(test)\n",
        "test_scale=pd.DataFrame(scaled_features,columns=test.columns)"
      ],
      "execution_count": null,
      "outputs": []
    },
    {
      "cell_type": "code",
      "metadata": {
        "id": "0gPQ5Zh4nUGD"
      },
      "source": [
        "knn=KNeighborsClassifier(n_neighbors=5)"
      ],
      "execution_count": null,
      "outputs": []
    },
    {
      "cell_type": "code",
      "metadata": {
        "colab": {
          "base_uri": "https://localhost:8080/"
        },
        "id": "CQDL_AggnYL2",
        "outputId": "8a072fb9-ae4a-45c2-858c-1a9efd875dd3"
      },
      "source": [
        "knn.fit(X_scale,y)"
      ],
      "execution_count": null,
      "outputs": [
        {
          "output_type": "execute_result",
          "data": {
            "text/plain": [
              "KNeighborsClassifier(algorithm='auto', leaf_size=30, metric='minkowski',\n",
              "                     metric_params=None, n_jobs=None, n_neighbors=5, p=2,\n",
              "                     weights='uniform')"
            ]
          },
          "metadata": {
            "tags": []
          },
          "execution_count": 364
        }
      ]
    },
    {
      "cell_type": "code",
      "metadata": {
        "id": "cYiS720fngkK"
      },
      "source": [
        "predictions=knn.predict(test_scale)"
      ],
      "execution_count": null,
      "outputs": []
    },
    {
      "cell_type": "code",
      "metadata": {
        "colab": {
          "base_uri": "https://localhost:8080/"
        },
        "id": "xItjXPkyoIHw",
        "outputId": "491b21b0-87a9-492f-fd2c-5b2cf73881d0"
      },
      "source": [
        "print(classification_report(testing,predictions))"
      ],
      "execution_count": null,
      "outputs": [
        {
          "output_type": "stream",
          "text": [
            "              precision    recall  f1-score   support\n",
            "\n",
            "           0       0.89      0.86      0.87       265\n",
            "           1       0.77      0.82      0.79       152\n",
            "\n",
            "    accuracy                           0.84       417\n",
            "   macro avg       0.83      0.84      0.83       417\n",
            "weighted avg       0.84      0.84      0.84       417\n",
            "\n"
          ],
          "name": "stdout"
        }
      ]
    },
    {
      "cell_type": "markdown",
      "metadata": {
        "id": "mWZ3D2l-otcV"
      },
      "source": [
        "# Decision Tree"
      ]
    },
    {
      "cell_type": "code",
      "metadata": {
        "id": "gaKN12hYo0_t"
      },
      "source": [
        "from sklearn.tree import DecisionTreeClassifier"
      ],
      "execution_count": null,
      "outputs": []
    },
    {
      "cell_type": "code",
      "metadata": {
        "id": "Sb6ZdriLrCKr"
      },
      "source": [
        "dtree = DecisionTreeClassifier()"
      ],
      "execution_count": null,
      "outputs": []
    },
    {
      "cell_type": "code",
      "metadata": {
        "colab": {
          "base_uri": "https://localhost:8080/"
        },
        "id": "dPuXoJhHrGDY",
        "outputId": "3e13c8fc-6b52-48ba-979c-bb143d75ea13"
      },
      "source": [
        "dtree.fit(X,y)"
      ],
      "execution_count": null,
      "outputs": [
        {
          "output_type": "execute_result",
          "data": {
            "text/plain": [
              "DecisionTreeClassifier(ccp_alpha=0.0, class_weight=None, criterion='gini',\n",
              "                       max_depth=None, max_features=None, max_leaf_nodes=None,\n",
              "                       min_impurity_decrease=0.0, min_impurity_split=None,\n",
              "                       min_samples_leaf=1, min_samples_split=2,\n",
              "                       min_weight_fraction_leaf=0.0, presort='deprecated',\n",
              "                       random_state=None, splitter='best')"
            ]
          },
          "metadata": {
            "tags": []
          },
          "execution_count": 369
        }
      ]
    },
    {
      "cell_type": "code",
      "metadata": {
        "id": "N39YCyumrtO4"
      },
      "source": [
        "from sklearn import tree"
      ],
      "execution_count": null,
      "outputs": []
    },
    {
      "cell_type": "code",
      "metadata": {
        "colab": {
          "base_uri": "https://localhost:8080/",
          "height": 203
        },
        "id": "gMhxVNPttXaN",
        "outputId": "580f2dbd-76a6-45c1-a47a-cac0c10224f0"
      },
      "source": [
        "X.head()"
      ],
      "execution_count": null,
      "outputs": [
        {
          "output_type": "execute_result",
          "data": {
            "text/html": [
              "<div>\n",
              "<style scoped>\n",
              "    .dataframe tbody tr th:only-of-type {\n",
              "        vertical-align: middle;\n",
              "    }\n",
              "\n",
              "    .dataframe tbody tr th {\n",
              "        vertical-align: top;\n",
              "    }\n",
              "\n",
              "    .dataframe thead th {\n",
              "        text-align: right;\n",
              "    }\n",
              "</style>\n",
              "<table border=\"1\" class=\"dataframe\">\n",
              "  <thead>\n",
              "    <tr style=\"text-align: right;\">\n",
              "      <th></th>\n",
              "      <th>Pclass</th>\n",
              "      <th>Sex</th>\n",
              "      <th>Age</th>\n",
              "      <th>SibSp</th>\n",
              "      <th>Parch</th>\n",
              "      <th>Fare</th>\n",
              "      <th>Embarked</th>\n",
              "    </tr>\n",
              "  </thead>\n",
              "  <tbody>\n",
              "    <tr>\n",
              "      <th>0</th>\n",
              "      <td>3</td>\n",
              "      <td>1</td>\n",
              "      <td>22.0</td>\n",
              "      <td>1</td>\n",
              "      <td>0</td>\n",
              "      <td>7.2500</td>\n",
              "      <td>2</td>\n",
              "    </tr>\n",
              "    <tr>\n",
              "      <th>1</th>\n",
              "      <td>1</td>\n",
              "      <td>0</td>\n",
              "      <td>38.0</td>\n",
              "      <td>1</td>\n",
              "      <td>0</td>\n",
              "      <td>71.2833</td>\n",
              "      <td>0</td>\n",
              "    </tr>\n",
              "    <tr>\n",
              "      <th>2</th>\n",
              "      <td>3</td>\n",
              "      <td>0</td>\n",
              "      <td>26.0</td>\n",
              "      <td>0</td>\n",
              "      <td>0</td>\n",
              "      <td>7.9250</td>\n",
              "      <td>2</td>\n",
              "    </tr>\n",
              "    <tr>\n",
              "      <th>3</th>\n",
              "      <td>1</td>\n",
              "      <td>0</td>\n",
              "      <td>35.0</td>\n",
              "      <td>1</td>\n",
              "      <td>0</td>\n",
              "      <td>53.1000</td>\n",
              "      <td>2</td>\n",
              "    </tr>\n",
              "    <tr>\n",
              "      <th>4</th>\n",
              "      <td>3</td>\n",
              "      <td>1</td>\n",
              "      <td>35.0</td>\n",
              "      <td>0</td>\n",
              "      <td>0</td>\n",
              "      <td>8.0500</td>\n",
              "      <td>2</td>\n",
              "    </tr>\n",
              "  </tbody>\n",
              "</table>\n",
              "</div>"
            ],
            "text/plain": [
              "   Pclass  Sex   Age  SibSp  Parch     Fare  Embarked\n",
              "0       3    1  22.0      1      0   7.2500         2\n",
              "1       1    0  38.0      1      0  71.2833         0\n",
              "2       3    0  26.0      0      0   7.9250         2\n",
              "3       1    0  35.0      1      0  53.1000         2\n",
              "4       3    1  35.0      0      0   8.0500         2"
            ]
          },
          "metadata": {
            "tags": []
          },
          "execution_count": 371
        }
      ]
    },
    {
      "cell_type": "code",
      "metadata": {
        "colab": {
          "base_uri": "https://localhost:8080/"
        },
        "id": "I1D8NP-JspOL",
        "outputId": "9b6e6950-e68c-4450-9783-6a8f157af0dc"
      },
      "source": [
        "text_representation = tree.export_text(dtree)\n",
        "print(text_representation)"
      ],
      "execution_count": null,
      "outputs": [
        {
          "output_type": "stream",
          "text": [
            "|--- feature_1 <= 0.50\n",
            "|   |--- feature_0 <= 2.50\n",
            "|   |   |--- feature_2 <= 2.50\n",
            "|   |   |   |--- feature_4 <= 1.50\n",
            "|   |   |   |   |--- class: 1\n",
            "|   |   |   |--- feature_4 >  1.50\n",
            "|   |   |   |   |--- class: 0\n",
            "|   |   |--- feature_2 >  2.50\n",
            "|   |   |   |--- feature_5 <= 28.86\n",
            "|   |   |   |   |--- feature_5 <= 28.23\n",
            "|   |   |   |   |   |--- feature_2 <= 56.00\n",
            "|   |   |   |   |   |   |--- feature_3 <= 0.50\n",
            "|   |   |   |   |   |   |   |--- feature_5 <= 13.25\n",
            "|   |   |   |   |   |   |   |   |--- feature_5 <= 12.82\n",
            "|   |   |   |   |   |   |   |   |   |--- class: 1\n",
            "|   |   |   |   |   |   |   |   |--- feature_5 >  12.82\n",
            "|   |   |   |   |   |   |   |   |   |--- feature_2 <= 26.00\n",
            "|   |   |   |   |   |   |   |   |   |   |--- feature_2 <= 21.00\n",
            "|   |   |   |   |   |   |   |   |   |   |   |--- class: 1\n",
            "|   |   |   |   |   |   |   |   |   |   |--- feature_2 >  21.00\n",
            "|   |   |   |   |   |   |   |   |   |   |   |--- class: 0\n",
            "|   |   |   |   |   |   |   |   |   |--- feature_2 >  26.00\n",
            "|   |   |   |   |   |   |   |   |   |   |--- feature_2 <= 37.00\n",
            "|   |   |   |   |   |   |   |   |   |   |   |--- class: 1\n",
            "|   |   |   |   |   |   |   |   |   |   |--- feature_2 >  37.00\n",
            "|   |   |   |   |   |   |   |   |   |   |   |--- truncated branch of depth 2\n",
            "|   |   |   |   |   |   |   |--- feature_5 >  13.25\n",
            "|   |   |   |   |   |   |   |   |--- class: 1\n",
            "|   |   |   |   |   |   |--- feature_3 >  0.50\n",
            "|   |   |   |   |   |   |   |--- feature_2 <= 25.00\n",
            "|   |   |   |   |   |   |   |   |--- class: 1\n",
            "|   |   |   |   |   |   |   |--- feature_2 >  25.00\n",
            "|   |   |   |   |   |   |   |   |--- feature_2 <= 27.50\n",
            "|   |   |   |   |   |   |   |   |   |--- feature_6 <= 1.00\n",
            "|   |   |   |   |   |   |   |   |   |   |--- class: 1\n",
            "|   |   |   |   |   |   |   |   |   |--- feature_6 >  1.00\n",
            "|   |   |   |   |   |   |   |   |   |   |--- class: 0\n",
            "|   |   |   |   |   |   |   |   |--- feature_2 >  27.50\n",
            "|   |   |   |   |   |   |   |   |   |--- feature_2 <= 43.00\n",
            "|   |   |   |   |   |   |   |   |   |   |--- class: 1\n",
            "|   |   |   |   |   |   |   |   |   |--- feature_2 >  43.00\n",
            "|   |   |   |   |   |   |   |   |   |   |--- feature_4 <= 0.50\n",
            "|   |   |   |   |   |   |   |   |   |   |   |--- class: 0\n",
            "|   |   |   |   |   |   |   |   |   |   |--- feature_4 >  0.50\n",
            "|   |   |   |   |   |   |   |   |   |   |   |--- class: 1\n",
            "|   |   |   |   |   |--- feature_2 >  56.00\n",
            "|   |   |   |   |   |   |--- feature_2 <= 57.50\n",
            "|   |   |   |   |   |   |   |--- class: 0\n",
            "|   |   |   |   |   |   |--- feature_2 >  57.50\n",
            "|   |   |   |   |   |   |   |--- class: 1\n",
            "|   |   |   |   |--- feature_5 >  28.23\n",
            "|   |   |   |   |   |--- class: 0\n",
            "|   |   |   |--- feature_5 >  28.86\n",
            "|   |   |   |   |--- feature_4 <= 1.50\n",
            "|   |   |   |   |   |--- class: 1\n",
            "|   |   |   |   |--- feature_4 >  1.50\n",
            "|   |   |   |   |   |--- feature_2 <= 24.50\n",
            "|   |   |   |   |   |   |--- class: 1\n",
            "|   |   |   |   |   |--- feature_2 >  24.50\n",
            "|   |   |   |   |   |   |--- feature_2 <= 28.00\n",
            "|   |   |   |   |   |   |   |--- class: 0\n",
            "|   |   |   |   |   |   |--- feature_2 >  28.00\n",
            "|   |   |   |   |   |   |   |--- class: 1\n",
            "|   |--- feature_0 >  2.50\n",
            "|   |   |--- feature_5 <= 23.35\n",
            "|   |   |   |--- feature_2 <= 36.50\n",
            "|   |   |   |   |--- feature_6 <= 1.50\n",
            "|   |   |   |   |   |--- feature_2 <= 29.75\n",
            "|   |   |   |   |   |   |--- feature_5 <= 15.37\n",
            "|   |   |   |   |   |   |   |--- feature_5 <= 13.94\n",
            "|   |   |   |   |   |   |   |   |--- feature_4 <= 1.50\n",
            "|   |   |   |   |   |   |   |   |   |--- feature_5 <= 6.99\n",
            "|   |   |   |   |   |   |   |   |   |   |--- class: 0\n",
            "|   |   |   |   |   |   |   |   |   |--- feature_5 >  6.99\n",
            "|   |   |   |   |   |   |   |   |   |   |--- feature_2 <= 20.00\n",
            "|   |   |   |   |   |   |   |   |   |   |   |--- class: 1\n",
            "|   |   |   |   |   |   |   |   |   |   |--- feature_2 >  20.00\n",
            "|   |   |   |   |   |   |   |   |   |   |   |--- truncated branch of depth 7\n",
            "|   |   |   |   |   |   |   |   |--- feature_4 >  1.50\n",
            "|   |   |   |   |   |   |   |   |   |--- class: 0\n",
            "|   |   |   |   |   |   |   |--- feature_5 >  13.94\n",
            "|   |   |   |   |   |   |   |   |--- feature_4 <= 1.50\n",
            "|   |   |   |   |   |   |   |   |   |--- feature_2 <= 16.00\n",
            "|   |   |   |   |   |   |   |   |   |   |--- feature_2 <= 14.75\n",
            "|   |   |   |   |   |   |   |   |   |   |   |--- class: 0\n",
            "|   |   |   |   |   |   |   |   |   |   |--- feature_2 >  14.75\n",
            "|   |   |   |   |   |   |   |   |   |   |   |--- class: 1\n",
            "|   |   |   |   |   |   |   |   |   |--- feature_2 >  16.00\n",
            "|   |   |   |   |   |   |   |   |   |   |--- class: 0\n",
            "|   |   |   |   |   |   |   |   |--- feature_4 >  1.50\n",
            "|   |   |   |   |   |   |   |   |   |--- class: 0\n",
            "|   |   |   |   |   |   |--- feature_5 >  15.37\n",
            "|   |   |   |   |   |   |   |--- class: 1\n",
            "|   |   |   |   |   |--- feature_2 >  29.75\n",
            "|   |   |   |   |   |   |--- class: 0\n",
            "|   |   |   |   |--- feature_6 >  1.50\n",
            "|   |   |   |   |   |--- feature_5 <= 10.82\n",
            "|   |   |   |   |   |   |--- feature_5 <= 7.76\n",
            "|   |   |   |   |   |   |   |--- feature_2 <= 26.00\n",
            "|   |   |   |   |   |   |   |   |--- class: 1\n",
            "|   |   |   |   |   |   |   |--- feature_2 >  26.00\n",
            "|   |   |   |   |   |   |   |   |--- class: 0\n",
            "|   |   |   |   |   |   |--- feature_5 >  7.76\n",
            "|   |   |   |   |   |   |   |--- feature_2 <= 19.50\n",
            "|   |   |   |   |   |   |   |   |--- feature_2 <= 15.50\n",
            "|   |   |   |   |   |   |   |   |   |--- class: 0\n",
            "|   |   |   |   |   |   |   |   |--- feature_2 >  15.50\n",
            "|   |   |   |   |   |   |   |   |   |--- feature_5 <= 7.81\n",
            "|   |   |   |   |   |   |   |   |   |   |--- class: 0\n",
            "|   |   |   |   |   |   |   |   |   |--- feature_5 >  7.81\n",
            "|   |   |   |   |   |   |   |   |   |   |--- class: 1\n",
            "|   |   |   |   |   |   |   |--- feature_2 >  19.50\n",
            "|   |   |   |   |   |   |   |   |--- feature_5 <= 7.99\n",
            "|   |   |   |   |   |   |   |   |   |--- feature_2 <= 27.50\n",
            "|   |   |   |   |   |   |   |   |   |   |--- feature_2 <= 25.50\n",
            "|   |   |   |   |   |   |   |   |   |   |   |--- truncated branch of depth 2\n",
            "|   |   |   |   |   |   |   |   |   |   |--- feature_2 >  25.50\n",
            "|   |   |   |   |   |   |   |   |   |   |   |--- class: 1\n",
            "|   |   |   |   |   |   |   |   |   |--- feature_2 >  27.50\n",
            "|   |   |   |   |   |   |   |   |   |   |--- class: 0\n",
            "|   |   |   |   |   |   |   |   |--- feature_5 >  7.99\n",
            "|   |   |   |   |   |   |   |   |   |--- feature_2 <= 30.50\n",
            "|   |   |   |   |   |   |   |   |   |   |--- class: 0\n",
            "|   |   |   |   |   |   |   |   |   |--- feature_2 >  30.50\n",
            "|   |   |   |   |   |   |   |   |   |   |--- class: 1\n",
            "|   |   |   |   |   |--- feature_5 >  10.82\n",
            "|   |   |   |   |   |   |--- feature_5 <= 17.60\n",
            "|   |   |   |   |   |   |   |--- feature_3 <= 0.50\n",
            "|   |   |   |   |   |   |   |   |--- class: 1\n",
            "|   |   |   |   |   |   |   |--- feature_3 >  0.50\n",
            "|   |   |   |   |   |   |   |   |--- feature_2 <= 28.50\n",
            "|   |   |   |   |   |   |   |   |   |--- feature_2 <= 25.00\n",
            "|   |   |   |   |   |   |   |   |   |   |--- class: 1\n",
            "|   |   |   |   |   |   |   |   |   |--- feature_2 >  25.00\n",
            "|   |   |   |   |   |   |   |   |   |   |--- class: 0\n",
            "|   |   |   |   |   |   |   |   |--- feature_2 >  28.50\n",
            "|   |   |   |   |   |   |   |   |   |--- class: 1\n",
            "|   |   |   |   |   |   |--- feature_5 >  17.60\n",
            "|   |   |   |   |   |   |   |--- feature_5 <= 19.12\n",
            "|   |   |   |   |   |   |   |   |--- class: 0\n",
            "|   |   |   |   |   |   |   |--- feature_5 >  19.12\n",
            "|   |   |   |   |   |   |   |   |--- feature_3 <= 2.00\n",
            "|   |   |   |   |   |   |   |   |   |--- feature_4 <= 3.00\n",
            "|   |   |   |   |   |   |   |   |   |   |--- class: 1\n",
            "|   |   |   |   |   |   |   |   |   |--- feature_4 >  3.00\n",
            "|   |   |   |   |   |   |   |   |   |   |--- class: 0\n",
            "|   |   |   |   |   |   |   |   |--- feature_3 >  2.00\n",
            "|   |   |   |   |   |   |   |   |   |--- class: 0\n",
            "|   |   |   |--- feature_2 >  36.50\n",
            "|   |   |   |   |--- feature_2 <= 55.00\n",
            "|   |   |   |   |   |--- class: 0\n",
            "|   |   |   |   |--- feature_2 >  55.00\n",
            "|   |   |   |   |   |--- class: 1\n",
            "|   |   |--- feature_5 >  23.35\n",
            "|   |   |   |--- feature_4 <= 0.50\n",
            "|   |   |   |   |--- class: 1\n",
            "|   |   |   |--- feature_4 >  0.50\n",
            "|   |   |   |   |--- feature_2 <= 5.50\n",
            "|   |   |   |   |   |--- feature_2 <= 3.50\n",
            "|   |   |   |   |   |   |--- class: 0\n",
            "|   |   |   |   |   |--- feature_2 >  3.50\n",
            "|   |   |   |   |   |   |--- class: 1\n",
            "|   |   |   |   |--- feature_2 >  5.50\n",
            "|   |   |   |   |   |--- feature_4 <= 4.50\n",
            "|   |   |   |   |   |   |--- class: 0\n",
            "|   |   |   |   |   |--- feature_4 >  4.50\n",
            "|   |   |   |   |   |   |--- feature_2 <= 38.50\n",
            "|   |   |   |   |   |   |   |--- class: 1\n",
            "|   |   |   |   |   |   |--- feature_2 >  38.50\n",
            "|   |   |   |   |   |   |   |--- class: 0\n",
            "|--- feature_1 >  0.50\n",
            "|   |--- feature_2 <= 6.50\n",
            "|   |   |--- feature_3 <= 2.50\n",
            "|   |   |   |--- class: 1\n",
            "|   |   |--- feature_3 >  2.50\n",
            "|   |   |   |--- feature_5 <= 31.33\n",
            "|   |   |   |   |--- class: 0\n",
            "|   |   |   |--- feature_5 >  31.33\n",
            "|   |   |   |   |--- feature_2 <= 2.50\n",
            "|   |   |   |   |   |--- class: 0\n",
            "|   |   |   |   |--- feature_2 >  2.50\n",
            "|   |   |   |   |   |--- class: 1\n",
            "|   |--- feature_2 >  6.50\n",
            "|   |   |--- feature_0 <= 1.50\n",
            "|   |   |   |--- feature_2 <= 36.50\n",
            "|   |   |   |   |--- feature_5 <= 37.81\n",
            "|   |   |   |   |   |--- feature_5 <= 15.64\n",
            "|   |   |   |   |   |   |--- class: 0\n",
            "|   |   |   |   |   |--- feature_5 >  15.64\n",
            "|   |   |   |   |   |   |--- feature_5 <= 27.15\n",
            "|   |   |   |   |   |   |   |--- class: 1\n",
            "|   |   |   |   |   |   |--- feature_5 >  27.15\n",
            "|   |   |   |   |   |   |   |--- feature_5 <= 30.25\n",
            "|   |   |   |   |   |   |   |   |--- feature_2 <= 27.50\n",
            "|   |   |   |   |   |   |   |   |   |--- class: 1\n",
            "|   |   |   |   |   |   |   |   |--- feature_2 >  27.50\n",
            "|   |   |   |   |   |   |   |   |   |--- class: 0\n",
            "|   |   |   |   |   |   |   |--- feature_5 >  30.25\n",
            "|   |   |   |   |   |   |   |   |--- class: 1\n",
            "|   |   |   |   |--- feature_5 >  37.81\n",
            "|   |   |   |   |   |--- feature_5 <= 52.55\n",
            "|   |   |   |   |   |   |--- class: 0\n",
            "|   |   |   |   |   |--- feature_5 >  52.55\n",
            "|   |   |   |   |   |   |--- feature_2 <= 24.50\n",
            "|   |   |   |   |   |   |   |--- feature_2 <= 17.50\n",
            "|   |   |   |   |   |   |   |   |--- class: 1\n",
            "|   |   |   |   |   |   |   |--- feature_2 >  17.50\n",
            "|   |   |   |   |   |   |   |   |--- feature_5 <= 70.32\n",
            "|   |   |   |   |   |   |   |   |   |--- feature_6 <= 1.00\n",
            "|   |   |   |   |   |   |   |   |   |   |--- class: 1\n",
            "|   |   |   |   |   |   |   |   |   |--- feature_6 >  1.00\n",
            "|   |   |   |   |   |   |   |   |   |   |--- class: 0\n",
            "|   |   |   |   |   |   |   |   |--- feature_5 >  70.32\n",
            "|   |   |   |   |   |   |   |   |   |--- class: 0\n",
            "|   |   |   |   |   |   |--- feature_2 >  24.50\n",
            "|   |   |   |   |   |   |   |--- feature_5 <= 61.80\n",
            "|   |   |   |   |   |   |   |   |--- class: 1\n",
            "|   |   |   |   |   |   |   |--- feature_5 >  61.80\n",
            "|   |   |   |   |   |   |   |   |--- feature_5 <= 86.62\n",
            "|   |   |   |   |   |   |   |   |   |--- feature_2 <= 27.50\n",
            "|   |   |   |   |   |   |   |   |   |   |--- class: 1\n",
            "|   |   |   |   |   |   |   |   |   |--- feature_2 >  27.50\n",
            "|   |   |   |   |   |   |   |   |   |   |--- class: 0\n",
            "|   |   |   |   |   |   |   |   |--- feature_5 >  86.62\n",
            "|   |   |   |   |   |   |   |   |   |--- feature_4 <= 1.50\n",
            "|   |   |   |   |   |   |   |   |   |   |--- class: 1\n",
            "|   |   |   |   |   |   |   |   |   |--- feature_4 >  1.50\n",
            "|   |   |   |   |   |   |   |   |   |   |--- feature_6 <= 1.00\n",
            "|   |   |   |   |   |   |   |   |   |   |   |--- class: 0\n",
            "|   |   |   |   |   |   |   |   |   |   |--- feature_6 >  1.00\n",
            "|   |   |   |   |   |   |   |   |   |   |   |--- class: 1\n",
            "|   |   |   |--- feature_2 >  36.50\n",
            "|   |   |   |   |--- feature_3 <= 0.50\n",
            "|   |   |   |   |   |--- feature_5 <= 37.00\n",
            "|   |   |   |   |   |   |--- feature_5 <= 26.14\n",
            "|   |   |   |   |   |   |   |--- class: 0\n",
            "|   |   |   |   |   |   |--- feature_5 >  26.14\n",
            "|   |   |   |   |   |   |   |--- feature_2 <= 53.50\n",
            "|   |   |   |   |   |   |   |   |--- feature_2 <= 47.50\n",
            "|   |   |   |   |   |   |   |   |   |--- feature_5 <= 26.42\n",
            "|   |   |   |   |   |   |   |   |   |   |--- class: 1\n",
            "|   |   |   |   |   |   |   |   |   |--- feature_5 >  26.42\n",
            "|   |   |   |   |   |   |   |   |   |   |--- feature_2 <= 45.25\n",
            "|   |   |   |   |   |   |   |   |   |   |   |--- truncated branch of depth 6\n",
            "|   |   |   |   |   |   |   |   |   |   |--- feature_2 >  45.25\n",
            "|   |   |   |   |   |   |   |   |   |   |   |--- class: 0\n",
            "|   |   |   |   |   |   |   |   |--- feature_2 >  47.50\n",
            "|   |   |   |   |   |   |   |   |   |--- class: 1\n",
            "|   |   |   |   |   |   |   |--- feature_2 >  53.50\n",
            "|   |   |   |   |   |   |   |   |--- feature_5 <= 35.08\n",
            "|   |   |   |   |   |   |   |   |   |--- feature_2 <= 75.50\n",
            "|   |   |   |   |   |   |   |   |   |   |--- class: 0\n",
            "|   |   |   |   |   |   |   |   |   |--- feature_2 >  75.50\n",
            "|   |   |   |   |   |   |   |   |   |   |--- class: 1\n",
            "|   |   |   |   |   |   |   |   |--- feature_5 >  35.08\n",
            "|   |   |   |   |   |   |   |   |   |--- class: 1\n",
            "|   |   |   |   |   |--- feature_5 >  37.00\n",
            "|   |   |   |   |   |   |--- class: 0\n",
            "|   |   |   |   |--- feature_3 >  0.50\n",
            "|   |   |   |   |   |--- feature_5 <= 52.83\n",
            "|   |   |   |   |   |   |--- feature_5 <= 52.28\n",
            "|   |   |   |   |   |   |   |--- feature_2 <= 45.00\n",
            "|   |   |   |   |   |   |   |   |--- class: 0\n",
            "|   |   |   |   |   |   |   |--- feature_2 >  45.00\n",
            "|   |   |   |   |   |   |   |   |--- class: 1\n",
            "|   |   |   |   |   |   |--- feature_5 >  52.28\n",
            "|   |   |   |   |   |   |   |--- class: 1\n",
            "|   |   |   |   |   |--- feature_5 >  52.83\n",
            "|   |   |   |   |   |   |--- feature_6 <= 0.50\n",
            "|   |   |   |   |   |   |   |--- feature_5 <= 97.76\n",
            "|   |   |   |   |   |   |   |   |--- class: 1\n",
            "|   |   |   |   |   |   |   |--- feature_5 >  97.76\n",
            "|   |   |   |   |   |   |   |   |--- class: 0\n",
            "|   |   |   |   |   |   |--- feature_6 >  0.50\n",
            "|   |   |   |   |   |   |   |--- feature_5 <= 86.74\n",
            "|   |   |   |   |   |   |   |   |--- class: 0\n",
            "|   |   |   |   |   |   |   |--- feature_5 >  86.74\n",
            "|   |   |   |   |   |   |   |   |--- feature_6 <= 1.50\n",
            "|   |   |   |   |   |   |   |   |   |--- class: 0\n",
            "|   |   |   |   |   |   |   |   |--- feature_6 >  1.50\n",
            "|   |   |   |   |   |   |   |   |   |--- feature_5 <= 198.32\n",
            "|   |   |   |   |   |   |   |   |   |   |--- class: 1\n",
            "|   |   |   |   |   |   |   |   |   |--- feature_5 >  198.32\n",
            "|   |   |   |   |   |   |   |   |   |   |--- class: 0\n",
            "|   |   |--- feature_0 >  1.50\n",
            "|   |   |   |--- feature_5 <= 51.70\n",
            "|   |   |   |   |--- feature_2 <= 13.00\n",
            "|   |   |   |   |   |--- feature_3 <= 2.00\n",
            "|   |   |   |   |   |   |--- feature_4 <= 0.50\n",
            "|   |   |   |   |   |   |   |--- feature_2 <= 11.50\n",
            "|   |   |   |   |   |   |   |   |--- class: 0\n",
            "|   |   |   |   |   |   |   |--- feature_2 >  11.50\n",
            "|   |   |   |   |   |   |   |   |--- class: 1\n",
            "|   |   |   |   |   |   |--- feature_4 >  0.50\n",
            "|   |   |   |   |   |   |   |--- class: 1\n",
            "|   |   |   |   |   |--- feature_3 >  2.00\n",
            "|   |   |   |   |   |   |--- class: 0\n",
            "|   |   |   |   |--- feature_2 >  13.00\n",
            "|   |   |   |   |   |--- feature_6 <= 0.50\n",
            "|   |   |   |   |   |   |--- feature_5 <= 15.15\n",
            "|   |   |   |   |   |   |   |--- feature_2 <= 22.50\n",
            "|   |   |   |   |   |   |   |   |--- feature_3 <= 0.50\n",
            "|   |   |   |   |   |   |   |   |   |--- feature_5 <= 5.62\n",
            "|   |   |   |   |   |   |   |   |   |   |--- class: 0\n",
            "|   |   |   |   |   |   |   |   |   |--- feature_5 >  5.62\n",
            "|   |   |   |   |   |   |   |   |   |   |--- feature_2 <= 21.00\n",
            "|   |   |   |   |   |   |   |   |   |   |   |--- class: 1\n",
            "|   |   |   |   |   |   |   |   |   |   |--- feature_2 >  21.00\n",
            "|   |   |   |   |   |   |   |   |   |   |   |--- truncated branch of depth 2\n",
            "|   |   |   |   |   |   |   |   |--- feature_3 >  0.50\n",
            "|   |   |   |   |   |   |   |   |   |--- class: 0\n",
            "|   |   |   |   |   |   |   |--- feature_2 >  22.50\n",
            "|   |   |   |   |   |   |   |   |--- feature_5 <= 7.23\n",
            "|   |   |   |   |   |   |   |   |   |--- class: 0\n",
            "|   |   |   |   |   |   |   |   |--- feature_5 >  7.23\n",
            "|   |   |   |   |   |   |   |   |   |--- feature_2 <= 28.75\n",
            "|   |   |   |   |   |   |   |   |   |   |--- class: 0\n",
            "|   |   |   |   |   |   |   |   |   |--- feature_2 >  28.75\n",
            "|   |   |   |   |   |   |   |   |   |   |--- feature_2 <= 29.50\n",
            "|   |   |   |   |   |   |   |   |   |   |   |--- truncated branch of depth 4\n",
            "|   |   |   |   |   |   |   |   |   |   |--- feature_2 >  29.50\n",
            "|   |   |   |   |   |   |   |   |   |   |   |--- class: 0\n",
            "|   |   |   |   |   |   |--- feature_5 >  15.15\n",
            "|   |   |   |   |   |   |   |--- feature_5 <= 20.23\n",
            "|   |   |   |   |   |   |   |   |--- class: 1\n",
            "|   |   |   |   |   |   |   |--- feature_5 >  20.23\n",
            "|   |   |   |   |   |   |   |   |--- class: 0\n",
            "|   |   |   |   |   |--- feature_6 >  0.50\n",
            "|   |   |   |   |   |   |--- feature_5 <= 13.25\n",
            "|   |   |   |   |   |   |   |--- feature_5 <= 7.91\n",
            "|   |   |   |   |   |   |   |   |--- feature_5 <= 7.86\n",
            "|   |   |   |   |   |   |   |   |   |--- feature_2 <= 32.50\n",
            "|   |   |   |   |   |   |   |   |   |   |--- feature_2 <= 31.50\n",
            "|   |   |   |   |   |   |   |   |   |   |   |--- truncated branch of depth 9\n",
            "|   |   |   |   |   |   |   |   |   |   |--- feature_2 >  31.50\n",
            "|   |   |   |   |   |   |   |   |   |   |   |--- truncated branch of depth 2\n",
            "|   |   |   |   |   |   |   |   |   |--- feature_2 >  32.50\n",
            "|   |   |   |   |   |   |   |   |   |   |--- class: 0\n",
            "|   |   |   |   |   |   |   |   |--- feature_5 >  7.86\n",
            "|   |   |   |   |   |   |   |   |   |--- class: 0\n",
            "|   |   |   |   |   |   |   |--- feature_5 >  7.91\n",
            "|   |   |   |   |   |   |   |   |--- feature_5 <= 7.99\n",
            "|   |   |   |   |   |   |   |   |   |--- feature_2 <= 41.50\n",
            "|   |   |   |   |   |   |   |   |   |   |--- feature_3 <= 1.50\n",
            "|   |   |   |   |   |   |   |   |   |   |   |--- truncated branch of depth 5\n",
            "|   |   |   |   |   |   |   |   |   |   |--- feature_3 >  1.50\n",
            "|   |   |   |   |   |   |   |   |   |   |   |--- class: 0\n",
            "|   |   |   |   |   |   |   |   |   |--- feature_2 >  41.50\n",
            "|   |   |   |   |   |   |   |   |   |   |--- class: 1\n",
            "|   |   |   |   |   |   |   |   |--- feature_5 >  7.99\n",
            "|   |   |   |   |   |   |   |   |   |--- feature_2 <= 19.50\n",
            "|   |   |   |   |   |   |   |   |   |   |--- feature_5 <= 8.10\n",
            "|   |   |   |   |   |   |   |   |   |   |   |--- truncated branch of depth 3\n",
            "|   |   |   |   |   |   |   |   |   |   |--- feature_5 >  8.10\n",
            "|   |   |   |   |   |   |   |   |   |   |   |--- truncated branch of depth 4\n",
            "|   |   |   |   |   |   |   |   |   |--- feature_2 >  19.50\n",
            "|   |   |   |   |   |   |   |   |   |   |--- feature_2 <= 26.50\n",
            "|   |   |   |   |   |   |   |   |   |   |   |--- class: 0\n",
            "|   |   |   |   |   |   |   |   |   |   |--- feature_2 >  26.50\n",
            "|   |   |   |   |   |   |   |   |   |   |   |--- truncated branch of depth 10\n",
            "|   |   |   |   |   |   |--- feature_5 >  13.25\n",
            "|   |   |   |   |   |   |   |--- feature_6 <= 1.50\n",
            "|   |   |   |   |   |   |   |   |--- feature_3 <= 1.50\n",
            "|   |   |   |   |   |   |   |   |   |--- class: 0\n",
            "|   |   |   |   |   |   |   |   |--- feature_3 >  1.50\n",
            "|   |   |   |   |   |   |   |   |   |--- class: 1\n",
            "|   |   |   |   |   |   |   |--- feature_6 >  1.50\n",
            "|   |   |   |   |   |   |   |   |--- feature_5 <= 25.73\n",
            "|   |   |   |   |   |   |   |   |   |--- class: 0\n",
            "|   |   |   |   |   |   |   |   |--- feature_5 >  25.73\n",
            "|   |   |   |   |   |   |   |   |   |--- feature_2 <= 33.00\n",
            "|   |   |   |   |   |   |   |   |   |   |--- feature_2 <= 31.50\n",
            "|   |   |   |   |   |   |   |   |   |   |   |--- class: 0\n",
            "|   |   |   |   |   |   |   |   |   |   |--- feature_2 >  31.50\n",
            "|   |   |   |   |   |   |   |   |   |   |   |--- class: 1\n",
            "|   |   |   |   |   |   |   |   |   |--- feature_2 >  33.00\n",
            "|   |   |   |   |   |   |   |   |   |   |--- class: 0\n",
            "|   |   |   |--- feature_5 >  51.70\n",
            "|   |   |   |   |--- feature_5 <= 63.02\n",
            "|   |   |   |   |   |--- feature_2 <= 30.50\n",
            "|   |   |   |   |   |   |--- feature_2 <= 27.00\n",
            "|   |   |   |   |   |   |   |--- class: 1\n",
            "|   |   |   |   |   |   |--- feature_2 >  27.00\n",
            "|   |   |   |   |   |   |   |--- feature_2 <= 28.50\n",
            "|   |   |   |   |   |   |   |   |--- class: 0\n",
            "|   |   |   |   |   |   |   |--- feature_2 >  28.50\n",
            "|   |   |   |   |   |   |   |   |--- class: 1\n",
            "|   |   |   |   |   |--- feature_2 >  30.50\n",
            "|   |   |   |   |   |   |--- class: 1\n",
            "|   |   |   |   |--- feature_5 >  63.02\n",
            "|   |   |   |   |   |--- class: 0\n",
            "\n"
          ],
          "name": "stdout"
        }
      ]
    },
    {
      "cell_type": "code",
      "metadata": {
        "colab": {
          "base_uri": "https://localhost:8080/",
          "height": 1000
        },
        "id": "kU2rEb7hs3nF",
        "outputId": "e86a89a3-f8b2-430f-c1da-51f004ffc703"
      },
      "source": [
        "import graphviz\n",
        "# DOT data\n",
        "dot_data = tree.export_graphviz(dtree, out_file=None, \n",
        "                                feature_names=X.columns,  \n",
        "                                class_names=y.name,\n",
        "                                filled=True)\n",
        "\n",
        "# Draw graph\n",
        "graph = graphviz.Source(dot_data, format=\"png\") \n",
        "graph"
      ],
      "execution_count": null,
      "outputs": [
        {
          "output_type": "execute_result",
          "data": {
            "text/plain": [
              "<graphviz.files.Source at 0x7f0c03bede90>"
            ],
            "image/svg+xml": "<?xml version=\"1.0\" encoding=\"UTF-8\" standalone=\"no\"?>\n<!DOCTYPE svg PUBLIC \"-//W3C//DTD SVG 1.1//EN\"\n \"http://www.w3.org/Graphics/SVG/1.1/DTD/svg11.dtd\">\n<!-- Generated by graphviz version 2.40.1 (20161225.0304)\n -->\n<!-- Title: Tree Pages: 1 -->\n<svg width=\"7164pt\" height=\"2456pt\"\n viewBox=\"0.00 0.00 7164.00 2456.00\" xmlns=\"http://www.w3.org/2000/svg\" xmlns:xlink=\"http://www.w3.org/1999/xlink\">\n<g id=\"graph0\" class=\"graph\" transform=\"scale(1 1) rotate(0) translate(4 2452)\">\n<title>Tree</title>\n<polygon fill=\"#ffffff\" stroke=\"transparent\" points=\"-4,4 -4,-2452 7160,-2452 7160,4 -4,4\"/>\n<!-- 0 -->\n<g id=\"node1\" class=\"node\">\n<title>0</title>\n<polygon fill=\"#f5cfb4\" stroke=\"#000000\" points=\"2235,-2448 2110,-2448 2110,-2365 2235,-2365 2235,-2448\"/>\n<text text-anchor=\"middle\" x=\"2172.5\" y=\"-2432.8\" font-family=\"Times,serif\" font-size=\"14.00\" fill=\"#000000\">Sex &lt;= 0.5</text>\n<text text-anchor=\"middle\" x=\"2172.5\" y=\"-2417.8\" font-family=\"Times,serif\" font-size=\"14.00\" fill=\"#000000\">gini = 0.472</text>\n<text text-anchor=\"middle\" x=\"2172.5\" y=\"-2402.8\" font-family=\"Times,serif\" font-size=\"14.00\" fill=\"#000000\">samples = 889</text>\n<text text-anchor=\"middle\" x=\"2172.5\" y=\"-2387.8\" font-family=\"Times,serif\" font-size=\"14.00\" fill=\"#000000\">value = [549, 340]</text>\n<text text-anchor=\"middle\" x=\"2172.5\" y=\"-2372.8\" font-family=\"Times,serif\" font-size=\"14.00\" fill=\"#000000\">class = S</text>\n</g>\n<!-- 1 -->\n<g id=\"node2\" class=\"node\">\n<title>1</title>\n<polygon fill=\"#7ebfee\" stroke=\"#000000\" points=\"1903,-2329 1786,-2329 1786,-2246 1903,-2246 1903,-2329\"/>\n<text text-anchor=\"middle\" x=\"1844.5\" y=\"-2313.8\" font-family=\"Times,serif\" font-size=\"14.00\" fill=\"#000000\">Pclass &lt;= 2.5</text>\n<text text-anchor=\"middle\" x=\"1844.5\" y=\"-2298.8\" font-family=\"Times,serif\" font-size=\"14.00\" fill=\"#000000\">gini = 0.384</text>\n<text text-anchor=\"middle\" x=\"1844.5\" y=\"-2283.8\" font-family=\"Times,serif\" font-size=\"14.00\" fill=\"#000000\">samples = 312</text>\n<text text-anchor=\"middle\" x=\"1844.5\" y=\"-2268.8\" font-family=\"Times,serif\" font-size=\"14.00\" fill=\"#000000\">value = [81, 231]</text>\n<text text-anchor=\"middle\" x=\"1844.5\" y=\"-2253.8\" font-family=\"Times,serif\" font-size=\"14.00\" fill=\"#000000\">class = u</text>\n</g>\n<!-- 0&#45;&gt;1 -->\n<g id=\"edge1\" class=\"edge\">\n<title>0&#45;&gt;1</title>\n<path fill=\"none\" stroke=\"#000000\" d=\"M2109.6464,-2383.6964C2053.1721,-2363.2073 1970.4447,-2333.1934 1912.4554,-2312.1546\"/>\n<polygon fill=\"#000000\" stroke=\"#000000\" points=\"1913.6036,-2308.8479 1903.0094,-2308.7275 1911.2162,-2315.4283 1913.6036,-2308.8479\"/>\n<text text-anchor=\"middle\" x=\"1913.5982\" y=\"-2327.6743\" font-family=\"Times,serif\" font-size=\"14.00\" fill=\"#000000\">True</text>\n</g>\n<!-- 132 -->\n<g id=\"node133\" class=\"node\">\n<title>132</title>\n<polygon fill=\"#eb9e67\" stroke=\"#000000\" points=\"2324,-2329 2199,-2329 2199,-2246 2324,-2246 2324,-2329\"/>\n<text text-anchor=\"middle\" x=\"2261.5\" y=\"-2313.8\" font-family=\"Times,serif\" font-size=\"14.00\" fill=\"#000000\">Age &lt;= 6.5</text>\n<text text-anchor=\"middle\" x=\"2261.5\" y=\"-2298.8\" font-family=\"Times,serif\" font-size=\"14.00\" fill=\"#000000\">gini = 0.306</text>\n<text text-anchor=\"middle\" x=\"2261.5\" y=\"-2283.8\" font-family=\"Times,serif\" font-size=\"14.00\" fill=\"#000000\">samples = 577</text>\n<text text-anchor=\"middle\" x=\"2261.5\" y=\"-2268.8\" font-family=\"Times,serif\" font-size=\"14.00\" fill=\"#000000\">value = [468, 109]</text>\n<text text-anchor=\"middle\" x=\"2261.5\" y=\"-2253.8\" font-family=\"Times,serif\" font-size=\"14.00\" fill=\"#000000\">class = S</text>\n</g>\n<!-- 0&#45;&gt;132 -->\n<g id=\"edge132\" class=\"edge\">\n<title>0&#45;&gt;132</title>\n<path fill=\"none\" stroke=\"#000000\" d=\"M2203.6279,-2364.8796C2210.229,-2356.0534 2217.2629,-2346.6485 2224.0702,-2337.5466\"/>\n<polygon fill=\"#000000\" stroke=\"#000000\" points=\"2227.0528,-2339.4024 2230.2393,-2329.2981 2221.4472,-2335.2099 2227.0528,-2339.4024\"/>\n<text text-anchor=\"middle\" x=\"2233.8081\" y=\"-2350.342\" font-family=\"Times,serif\" font-size=\"14.00\" fill=\"#000000\">False</text>\n</g>\n<!-- 2 -->\n<g id=\"node3\" class=\"node\">\n<title>2</title>\n<polygon fill=\"#44a3e6\" stroke=\"#000000\" points=\"927.5,-2210 817.5,-2210 817.5,-2127 927.5,-2127 927.5,-2210\"/>\n<text text-anchor=\"middle\" x=\"872.5\" y=\"-2194.8\" font-family=\"Times,serif\" font-size=\"14.00\" fill=\"#000000\">Age &lt;= 2.5</text>\n<text text-anchor=\"middle\" x=\"872.5\" y=\"-2179.8\" font-family=\"Times,serif\" font-size=\"14.00\" fill=\"#000000\">gini = 0.101</text>\n<text text-anchor=\"middle\" x=\"872.5\" y=\"-2164.8\" font-family=\"Times,serif\" font-size=\"14.00\" fill=\"#000000\">samples = 168</text>\n<text text-anchor=\"middle\" x=\"872.5\" y=\"-2149.8\" font-family=\"Times,serif\" font-size=\"14.00\" fill=\"#000000\">value = [9, 159]</text>\n<text text-anchor=\"middle\" x=\"872.5\" y=\"-2134.8\" font-family=\"Times,serif\" font-size=\"14.00\" fill=\"#000000\">class = u</text>\n</g>\n<!-- 1&#45;&gt;2 -->\n<g id=\"edge2\" class=\"edge\">\n<title>1&#45;&gt;2</title>\n<path fill=\"none\" stroke=\"#000000\" d=\"M1785.886,-2280.324C1614.769,-2259.3745 1116.7143,-2198.3987 937.6106,-2176.4714\"/>\n<polygon fill=\"#000000\" stroke=\"#000000\" points=\"937.8965,-2172.9803 927.5453,-2175.2391 937.0458,-2179.9284 937.8965,-2172.9803\"/>\n</g>\n<!-- 45 -->\n<g id=\"node46\" class=\"node\">\n<title>45</title>\n<polygon fill=\"#ffffff\" stroke=\"#000000\" points=\"1899.5,-2210 1789.5,-2210 1789.5,-2127 1899.5,-2127 1899.5,-2210\"/>\n<text text-anchor=\"middle\" x=\"1844.5\" y=\"-2194.8\" font-family=\"Times,serif\" font-size=\"14.00\" fill=\"#000000\">Fare &lt;= 23.35</text>\n<text text-anchor=\"middle\" x=\"1844.5\" y=\"-2179.8\" font-family=\"Times,serif\" font-size=\"14.00\" fill=\"#000000\">gini = 0.5</text>\n<text text-anchor=\"middle\" x=\"1844.5\" y=\"-2164.8\" font-family=\"Times,serif\" font-size=\"14.00\" fill=\"#000000\">samples = 144</text>\n<text text-anchor=\"middle\" x=\"1844.5\" y=\"-2149.8\" font-family=\"Times,serif\" font-size=\"14.00\" fill=\"#000000\">value = [72, 72]</text>\n<text text-anchor=\"middle\" x=\"1844.5\" y=\"-2134.8\" font-family=\"Times,serif\" font-size=\"14.00\" fill=\"#000000\">class = S</text>\n</g>\n<!-- 1&#45;&gt;45 -->\n<g id=\"edge45\" class=\"edge\">\n<title>1&#45;&gt;45</title>\n<path fill=\"none\" stroke=\"#000000\" d=\"M1844.5,-2245.8796C1844.5,-2237.6838 1844.5,-2228.9891 1844.5,-2220.5013\"/>\n<polygon fill=\"#000000\" stroke=\"#000000\" points=\"1848.0001,-2220.298 1844.5,-2210.2981 1841.0001,-2220.2981 1848.0001,-2220.298\"/>\n</g>\n<!-- 3 -->\n<g id=\"node4\" class=\"node\">\n<title>3</title>\n<polygon fill=\"#ffffff\" stroke=\"#000000\" points=\"739,-2091 644,-2091 644,-2008 739,-2008 739,-2091\"/>\n<text text-anchor=\"middle\" x=\"691.5\" y=\"-2075.8\" font-family=\"Times,serif\" font-size=\"14.00\" fill=\"#000000\">Parch &lt;= 1.5</text>\n<text text-anchor=\"middle\" x=\"691.5\" y=\"-2060.8\" font-family=\"Times,serif\" font-size=\"14.00\" fill=\"#000000\">gini = 0.5</text>\n<text text-anchor=\"middle\" x=\"691.5\" y=\"-2045.8\" font-family=\"Times,serif\" font-size=\"14.00\" fill=\"#000000\">samples = 2</text>\n<text text-anchor=\"middle\" x=\"691.5\" y=\"-2030.8\" font-family=\"Times,serif\" font-size=\"14.00\" fill=\"#000000\">value = [1, 1]</text>\n<text text-anchor=\"middle\" x=\"691.5\" y=\"-2015.8\" font-family=\"Times,serif\" font-size=\"14.00\" fill=\"#000000\">class = S</text>\n</g>\n<!-- 2&#45;&gt;3 -->\n<g id=\"edge3\" class=\"edge\">\n<title>2&#45;&gt;3</title>\n<path fill=\"none\" stroke=\"#000000\" d=\"M817.2105,-2132.1495C795.1835,-2117.6676 769.8595,-2101.0181 747.7392,-2086.4749\"/>\n<polygon fill=\"#000000\" stroke=\"#000000\" points=\"749.3934,-2083.3739 739.1148,-2080.8047 745.5479,-2089.223 749.3934,-2083.3739\"/>\n</g>\n<!-- 6 -->\n<g id=\"node7\" class=\"node\">\n<title>6</title>\n<polygon fill=\"#43a2e6\" stroke=\"#000000\" points=\"927.5,-2091 817.5,-2091 817.5,-2008 927.5,-2008 927.5,-2091\"/>\n<text text-anchor=\"middle\" x=\"872.5\" y=\"-2075.8\" font-family=\"Times,serif\" font-size=\"14.00\" fill=\"#000000\">Fare &lt;= 28.856</text>\n<text text-anchor=\"middle\" x=\"872.5\" y=\"-2060.8\" font-family=\"Times,serif\" font-size=\"14.00\" fill=\"#000000\">gini = 0.092</text>\n<text text-anchor=\"middle\" x=\"872.5\" y=\"-2045.8\" font-family=\"Times,serif\" font-size=\"14.00\" fill=\"#000000\">samples = 166</text>\n<text text-anchor=\"middle\" x=\"872.5\" y=\"-2030.8\" font-family=\"Times,serif\" font-size=\"14.00\" fill=\"#000000\">value = [8, 158]</text>\n<text text-anchor=\"middle\" x=\"872.5\" y=\"-2015.8\" font-family=\"Times,serif\" font-size=\"14.00\" fill=\"#000000\">class = u</text>\n</g>\n<!-- 2&#45;&gt;6 -->\n<g id=\"edge6\" class=\"edge\">\n<title>2&#45;&gt;6</title>\n<path fill=\"none\" stroke=\"#000000\" d=\"M872.5,-2126.8796C872.5,-2118.6838 872.5,-2109.9891 872.5,-2101.5013\"/>\n<polygon fill=\"#000000\" stroke=\"#000000\" points=\"876.0001,-2101.298 872.5,-2091.2981 869.0001,-2101.2981 876.0001,-2101.298\"/>\n</g>\n<!-- 4 -->\n<g id=\"node5\" class=\"node\">\n<title>4</title>\n<polygon fill=\"#399de5\" stroke=\"#000000\" points=\"626,-1964.5 531,-1964.5 531,-1896.5 626,-1896.5 626,-1964.5\"/>\n<text text-anchor=\"middle\" x=\"578.5\" y=\"-1949.3\" font-family=\"Times,serif\" font-size=\"14.00\" fill=\"#000000\">gini = 0.0</text>\n<text text-anchor=\"middle\" x=\"578.5\" y=\"-1934.3\" font-family=\"Times,serif\" font-size=\"14.00\" fill=\"#000000\">samples = 1</text>\n<text text-anchor=\"middle\" x=\"578.5\" y=\"-1919.3\" font-family=\"Times,serif\" font-size=\"14.00\" fill=\"#000000\">value = [0, 1]</text>\n<text text-anchor=\"middle\" x=\"578.5\" y=\"-1904.3\" font-family=\"Times,serif\" font-size=\"14.00\" fill=\"#000000\">class = u</text>\n</g>\n<!-- 3&#45;&gt;4 -->\n<g id=\"edge4\" class=\"edge\">\n<title>3&#45;&gt;4</title>\n<path fill=\"none\" stroke=\"#000000\" d=\"M651.9781,-2007.8796C641.0143,-1996.3337 629.1103,-1983.7976 618.1399,-1972.2446\"/>\n<polygon fill=\"#000000\" stroke=\"#000000\" points=\"620.5087,-1969.6564 611.0848,-1964.8149 615.4327,-1974.4766 620.5087,-1969.6564\"/>\n</g>\n<!-- 5 -->\n<g id=\"node6\" class=\"node\">\n<title>5</title>\n<polygon fill=\"#e58139\" stroke=\"#000000\" points=\"739,-1964.5 644,-1964.5 644,-1896.5 739,-1896.5 739,-1964.5\"/>\n<text text-anchor=\"middle\" x=\"691.5\" y=\"-1949.3\" font-family=\"Times,serif\" font-size=\"14.00\" fill=\"#000000\">gini = 0.0</text>\n<text text-anchor=\"middle\" x=\"691.5\" y=\"-1934.3\" font-family=\"Times,serif\" font-size=\"14.00\" fill=\"#000000\">samples = 1</text>\n<text text-anchor=\"middle\" x=\"691.5\" y=\"-1919.3\" font-family=\"Times,serif\" font-size=\"14.00\" fill=\"#000000\">value = [1, 0]</text>\n<text text-anchor=\"middle\" x=\"691.5\" y=\"-1904.3\" font-family=\"Times,serif\" font-size=\"14.00\" fill=\"#000000\">class = S</text>\n</g>\n<!-- 3&#45;&gt;5 -->\n<g id=\"edge5\" class=\"edge\">\n<title>3&#45;&gt;5</title>\n<path fill=\"none\" stroke=\"#000000\" d=\"M691.5,-2007.8796C691.5,-1997.2134 691.5,-1985.7021 691.5,-1974.9015\"/>\n<polygon fill=\"#000000\" stroke=\"#000000\" points=\"695.0001,-1974.8149 691.5,-1964.8149 688.0001,-1974.815 695.0001,-1974.8149\"/>\n</g>\n<!-- 7 -->\n<g id=\"node8\" class=\"node\">\n<title>7</title>\n<polygon fill=\"#4fa8e8\" stroke=\"#000000\" points=\"864,-1972 757,-1972 757,-1889 864,-1889 864,-1972\"/>\n<text text-anchor=\"middle\" x=\"810.5\" y=\"-1956.8\" font-family=\"Times,serif\" font-size=\"14.00\" fill=\"#000000\">Fare &lt;= 28.231</text>\n<text text-anchor=\"middle\" x=\"810.5\" y=\"-1941.8\" font-family=\"Times,serif\" font-size=\"14.00\" fill=\"#000000\">gini = 0.182</text>\n<text text-anchor=\"middle\" x=\"810.5\" y=\"-1926.8\" font-family=\"Times,serif\" font-size=\"14.00\" fill=\"#000000\">samples = 69</text>\n<text text-anchor=\"middle\" x=\"810.5\" y=\"-1911.8\" font-family=\"Times,serif\" font-size=\"14.00\" fill=\"#000000\">value = [7, 62]</text>\n<text text-anchor=\"middle\" x=\"810.5\" y=\"-1896.8\" font-family=\"Times,serif\" font-size=\"14.00\" fill=\"#000000\">class = u</text>\n</g>\n<!-- 6&#45;&gt;7 -->\n<g id=\"edge7\" class=\"edge\">\n<title>6&#45;&gt;7</title>\n<path fill=\"none\" stroke=\"#000000\" d=\"M850.8154,-2007.8796C846.3577,-1999.3236 841.6166,-1990.2238 837.0106,-1981.3833\"/>\n<polygon fill=\"#000000\" stroke=\"#000000\" points=\"840.0017,-1979.5494 832.2771,-1972.2981 833.7938,-1982.7838 840.0017,-1979.5494\"/>\n</g>\n<!-- 38 -->\n<g id=\"node39\" class=\"node\">\n<title>38</title>\n<polygon fill=\"#3b9ee5\" stroke=\"#000000\" points=\"984.5,-1972 882.5,-1972 882.5,-1889 984.5,-1889 984.5,-1972\"/>\n<text text-anchor=\"middle\" x=\"933.5\" y=\"-1956.8\" font-family=\"Times,serif\" font-size=\"14.00\" fill=\"#000000\">Parch &lt;= 1.5</text>\n<text text-anchor=\"middle\" x=\"933.5\" y=\"-1941.8\" font-family=\"Times,serif\" font-size=\"14.00\" fill=\"#000000\">gini = 0.02</text>\n<text text-anchor=\"middle\" x=\"933.5\" y=\"-1926.8\" font-family=\"Times,serif\" font-size=\"14.00\" fill=\"#000000\">samples = 97</text>\n<text text-anchor=\"middle\" x=\"933.5\" y=\"-1911.8\" font-family=\"Times,serif\" font-size=\"14.00\" fill=\"#000000\">value = [1, 96]</text>\n<text text-anchor=\"middle\" x=\"933.5\" y=\"-1896.8\" font-family=\"Times,serif\" font-size=\"14.00\" fill=\"#000000\">class = u</text>\n</g>\n<!-- 6&#45;&gt;38 -->\n<g id=\"edge38\" class=\"edge\">\n<title>6&#45;&gt;38</title>\n<path fill=\"none\" stroke=\"#000000\" d=\"M893.8348,-2007.8796C898.2207,-1999.3236 902.8853,-1990.2238 907.417,-1981.3833\"/>\n<polygon fill=\"#000000\" stroke=\"#000000\" points=\"910.627,-1982.7936 912.0741,-1972.2981 904.3978,-1979.6004 910.627,-1982.7936\"/>\n</g>\n<!-- 8 -->\n<g id=\"node9\" class=\"node\">\n<title>8</title>\n<polygon fill=\"#4ca6e8\" stroke=\"#000000\" points=\"741.5,-1853 639.5,-1853 639.5,-1770 741.5,-1770 741.5,-1853\"/>\n<text text-anchor=\"middle\" x=\"690.5\" y=\"-1837.8\" font-family=\"Times,serif\" font-size=\"14.00\" fill=\"#000000\">Age &lt;= 56.0</text>\n<text text-anchor=\"middle\" x=\"690.5\" y=\"-1822.8\" font-family=\"Times,serif\" font-size=\"14.00\" fill=\"#000000\">gini = 0.161</text>\n<text text-anchor=\"middle\" x=\"690.5\" y=\"-1807.8\" font-family=\"Times,serif\" font-size=\"14.00\" fill=\"#000000\">samples = 68</text>\n<text text-anchor=\"middle\" x=\"690.5\" y=\"-1792.8\" font-family=\"Times,serif\" font-size=\"14.00\" fill=\"#000000\">value = [6, 62]</text>\n<text text-anchor=\"middle\" x=\"690.5\" y=\"-1777.8\" font-family=\"Times,serif\" font-size=\"14.00\" fill=\"#000000\">class = u</text>\n</g>\n<!-- 7&#45;&gt;8 -->\n<g id=\"edge8\" class=\"edge\">\n<title>7&#45;&gt;8</title>\n<path fill=\"none\" stroke=\"#000000\" d=\"M768.5298,-1888.8796C759.2662,-1879.6931 749.3704,-1869.8798 739.8448,-1860.4336\"/>\n<polygon fill=\"#000000\" stroke=\"#000000\" points=\"742.2144,-1857.8543 732.6493,-1853.2981 737.2854,-1862.8247 742.2144,-1857.8543\"/>\n</g>\n<!-- 37 -->\n<g id=\"node38\" class=\"node\">\n<title>37</title>\n<polygon fill=\"#e58139\" stroke=\"#000000\" points=\"858,-1845.5 763,-1845.5 763,-1777.5 858,-1777.5 858,-1845.5\"/>\n<text text-anchor=\"middle\" x=\"810.5\" y=\"-1830.3\" font-family=\"Times,serif\" font-size=\"14.00\" fill=\"#000000\">gini = 0.0</text>\n<text text-anchor=\"middle\" x=\"810.5\" y=\"-1815.3\" font-family=\"Times,serif\" font-size=\"14.00\" fill=\"#000000\">samples = 1</text>\n<text text-anchor=\"middle\" x=\"810.5\" y=\"-1800.3\" font-family=\"Times,serif\" font-size=\"14.00\" fill=\"#000000\">value = [1, 0]</text>\n<text text-anchor=\"middle\" x=\"810.5\" y=\"-1785.3\" font-family=\"Times,serif\" font-size=\"14.00\" fill=\"#000000\">class = S</text>\n</g>\n<!-- 7&#45;&gt;37 -->\n<g id=\"edge37\" class=\"edge\">\n<title>7&#45;&gt;37</title>\n<path fill=\"none\" stroke=\"#000000\" d=\"M810.5,-1888.8796C810.5,-1878.2134 810.5,-1866.7021 810.5,-1855.9015\"/>\n<polygon fill=\"#000000\" stroke=\"#000000\" points=\"814.0001,-1855.8149 810.5,-1845.8149 807.0001,-1855.815 814.0001,-1855.8149\"/>\n</g>\n<!-- 9 -->\n<g id=\"node10\" class=\"node\">\n<title>9</title>\n<polygon fill=\"#49a5e7\" stroke=\"#000000\" points=\"602.5,-1734 500.5,-1734 500.5,-1651 602.5,-1651 602.5,-1734\"/>\n<text text-anchor=\"middle\" x=\"551.5\" y=\"-1718.8\" font-family=\"Times,serif\" font-size=\"14.00\" fill=\"#000000\">SibSp &lt;= 0.5</text>\n<text text-anchor=\"middle\" x=\"551.5\" y=\"-1703.8\" font-family=\"Times,serif\" font-size=\"14.00\" fill=\"#000000\">gini = 0.14</text>\n<text text-anchor=\"middle\" x=\"551.5\" y=\"-1688.8\" font-family=\"Times,serif\" font-size=\"14.00\" fill=\"#000000\">samples = 66</text>\n<text text-anchor=\"middle\" x=\"551.5\" y=\"-1673.8\" font-family=\"Times,serif\" font-size=\"14.00\" fill=\"#000000\">value = [5, 61]</text>\n<text text-anchor=\"middle\" x=\"551.5\" y=\"-1658.8\" font-family=\"Times,serif\" font-size=\"14.00\" fill=\"#000000\">class = u</text>\n</g>\n<!-- 8&#45;&gt;9 -->\n<g id=\"edge9\" class=\"edge\">\n<title>8&#45;&gt;9</title>\n<path fill=\"none\" stroke=\"#000000\" d=\"M641.8845,-1769.8796C630.9438,-1760.513 619.2418,-1750.4948 608.0092,-1740.8784\"/>\n<polygon fill=\"#000000\" stroke=\"#000000\" points=\"610.1956,-1738.1428 600.323,-1734.2981 605.6432,-1743.4603 610.1956,-1738.1428\"/>\n</g>\n<!-- 34 -->\n<g id=\"node35\" class=\"node\">\n<title>34</title>\n<polygon fill=\"#ffffff\" stroke=\"#000000\" points=\"738,-1734 643,-1734 643,-1651 738,-1651 738,-1734\"/>\n<text text-anchor=\"middle\" x=\"690.5\" y=\"-1718.8\" font-family=\"Times,serif\" font-size=\"14.00\" fill=\"#000000\">Age &lt;= 57.5</text>\n<text text-anchor=\"middle\" x=\"690.5\" y=\"-1703.8\" font-family=\"Times,serif\" font-size=\"14.00\" fill=\"#000000\">gini = 0.5</text>\n<text text-anchor=\"middle\" x=\"690.5\" y=\"-1688.8\" font-family=\"Times,serif\" font-size=\"14.00\" fill=\"#000000\">samples = 2</text>\n<text text-anchor=\"middle\" x=\"690.5\" y=\"-1673.8\" font-family=\"Times,serif\" font-size=\"14.00\" fill=\"#000000\">value = [1, 1]</text>\n<text text-anchor=\"middle\" x=\"690.5\" y=\"-1658.8\" font-family=\"Times,serif\" font-size=\"14.00\" fill=\"#000000\">class = S</text>\n</g>\n<!-- 8&#45;&gt;34 -->\n<g id=\"edge34\" class=\"edge\">\n<title>8&#45;&gt;34</title>\n<path fill=\"none\" stroke=\"#000000\" d=\"M690.5,-1769.8796C690.5,-1761.6838 690.5,-1752.9891 690.5,-1744.5013\"/>\n<polygon fill=\"#000000\" stroke=\"#000000\" points=\"694.0001,-1744.298 690.5,-1734.2981 687.0001,-1744.2981 694.0001,-1744.298\"/>\n</g>\n<!-- 10 -->\n<g id=\"node11\" class=\"node\">\n<title>10</title>\n<polygon fill=\"#42a2e6\" stroke=\"#000000\" points=\"451.5,-1615 349.5,-1615 349.5,-1532 451.5,-1532 451.5,-1615\"/>\n<text text-anchor=\"middle\" x=\"400.5\" y=\"-1599.8\" font-family=\"Times,serif\" font-size=\"14.00\" fill=\"#000000\">Fare &lt;= 13.25</text>\n<text text-anchor=\"middle\" x=\"400.5\" y=\"-1584.8\" font-family=\"Times,serif\" font-size=\"14.00\" fill=\"#000000\">gini = 0.085</text>\n<text text-anchor=\"middle\" x=\"400.5\" y=\"-1569.8\" font-family=\"Times,serif\" font-size=\"14.00\" fill=\"#000000\">samples = 45</text>\n<text text-anchor=\"middle\" x=\"400.5\" y=\"-1554.8\" font-family=\"Times,serif\" font-size=\"14.00\" fill=\"#000000\">value = [2, 43]</text>\n<text text-anchor=\"middle\" x=\"400.5\" y=\"-1539.8\" font-family=\"Times,serif\" font-size=\"14.00\" fill=\"#000000\">class = u</text>\n</g>\n<!-- 9&#45;&gt;10 -->\n<g id=\"edge10\" class=\"edge\">\n<title>9&#45;&gt;10</title>\n<path fill=\"none\" stroke=\"#000000\" d=\"M500.3783,-1652.212C487.2182,-1641.8409 472.9512,-1630.5973 459.43,-1619.9415\"/>\n<polygon fill=\"#000000\" stroke=\"#000000\" points=\"461.5896,-1617.1873 451.5691,-1613.7465 457.2568,-1622.6852 461.5896,-1617.1873\"/>\n</g>\n<!-- 23 -->\n<g id=\"node24\" class=\"node\">\n<title>23</title>\n<polygon fill=\"#5aade9\" stroke=\"#000000\" points=\"602.5,-1615 500.5,-1615 500.5,-1532 602.5,-1532 602.5,-1615\"/>\n<text text-anchor=\"middle\" x=\"551.5\" y=\"-1599.8\" font-family=\"Times,serif\" font-size=\"14.00\" fill=\"#000000\">Age &lt;= 25.0</text>\n<text text-anchor=\"middle\" x=\"551.5\" y=\"-1584.8\" font-family=\"Times,serif\" font-size=\"14.00\" fill=\"#000000\">gini = 0.245</text>\n<text text-anchor=\"middle\" x=\"551.5\" y=\"-1569.8\" font-family=\"Times,serif\" font-size=\"14.00\" fill=\"#000000\">samples = 21</text>\n<text text-anchor=\"middle\" x=\"551.5\" y=\"-1554.8\" font-family=\"Times,serif\" font-size=\"14.00\" fill=\"#000000\">value = [3, 18]</text>\n<text text-anchor=\"middle\" x=\"551.5\" y=\"-1539.8\" font-family=\"Times,serif\" font-size=\"14.00\" fill=\"#000000\">class = u</text>\n</g>\n<!-- 9&#45;&gt;23 -->\n<g id=\"edge23\" class=\"edge\">\n<title>9&#45;&gt;23</title>\n<path fill=\"none\" stroke=\"#000000\" d=\"M551.5,-1650.8796C551.5,-1642.6838 551.5,-1633.9891 551.5,-1625.5013\"/>\n<polygon fill=\"#000000\" stroke=\"#000000\" points=\"555.0001,-1625.298 551.5,-1615.2981 548.0001,-1625.2981 555.0001,-1625.298\"/>\n</g>\n<!-- 11 -->\n<g id=\"node12\" class=\"node\">\n<title>11</title>\n<polygon fill=\"#4aa6e7\" stroke=\"#000000\" points=\"330,-1496 223,-1496 223,-1413 330,-1413 330,-1496\"/>\n<text text-anchor=\"middle\" x=\"276.5\" y=\"-1480.8\" font-family=\"Times,serif\" font-size=\"14.00\" fill=\"#000000\">Fare &lt;= 12.825</text>\n<text text-anchor=\"middle\" x=\"276.5\" y=\"-1465.8\" font-family=\"Times,serif\" font-size=\"14.00\" fill=\"#000000\">gini = 0.147</text>\n<text text-anchor=\"middle\" x=\"276.5\" y=\"-1450.8\" font-family=\"Times,serif\" font-size=\"14.00\" fill=\"#000000\">samples = 25</text>\n<text text-anchor=\"middle\" x=\"276.5\" y=\"-1435.8\" font-family=\"Times,serif\" font-size=\"14.00\" fill=\"#000000\">value = [2, 23]</text>\n<text text-anchor=\"middle\" x=\"276.5\" y=\"-1420.8\" font-family=\"Times,serif\" font-size=\"14.00\" fill=\"#000000\">class = u</text>\n</g>\n<!-- 10&#45;&gt;11 -->\n<g id=\"edge11\" class=\"edge\">\n<title>10&#45;&gt;11</title>\n<path fill=\"none\" stroke=\"#000000\" d=\"M357.1308,-1531.8796C347.5584,-1522.6931 337.3328,-1512.8798 327.4897,-1503.4336\"/>\n<polygon fill=\"#000000\" stroke=\"#000000\" points=\"329.6928,-1500.6969 320.0543,-1496.2981 324.8459,-1505.7475 329.6928,-1500.6969\"/>\n</g>\n<!-- 22 -->\n<g id=\"node23\" class=\"node\">\n<title>22</title>\n<polygon fill=\"#399de5\" stroke=\"#000000\" points=\"451.5,-1488.5 349.5,-1488.5 349.5,-1420.5 451.5,-1420.5 451.5,-1488.5\"/>\n<text text-anchor=\"middle\" x=\"400.5\" y=\"-1473.3\" font-family=\"Times,serif\" font-size=\"14.00\" fill=\"#000000\">gini = 0.0</text>\n<text text-anchor=\"middle\" x=\"400.5\" y=\"-1458.3\" font-family=\"Times,serif\" font-size=\"14.00\" fill=\"#000000\">samples = 20</text>\n<text text-anchor=\"middle\" x=\"400.5\" y=\"-1443.3\" font-family=\"Times,serif\" font-size=\"14.00\" fill=\"#000000\">value = [0, 20]</text>\n<text text-anchor=\"middle\" x=\"400.5\" y=\"-1428.3\" font-family=\"Times,serif\" font-size=\"14.00\" fill=\"#000000\">class = u</text>\n</g>\n<!-- 10&#45;&gt;22 -->\n<g id=\"edge22\" class=\"edge\">\n<title>10&#45;&gt;22</title>\n<path fill=\"none\" stroke=\"#000000\" d=\"M400.5,-1531.8796C400.5,-1521.2134 400.5,-1509.7021 400.5,-1498.9015\"/>\n<polygon fill=\"#000000\" stroke=\"#000000\" points=\"404.0001,-1498.8149 400.5,-1488.8149 397.0001,-1498.815 404.0001,-1498.8149\"/>\n</g>\n<!-- 12 -->\n<g id=\"node13\" class=\"node\">\n<title>12</title>\n<polygon fill=\"#399de5\" stroke=\"#000000\" points=\"207,-1369.5 106,-1369.5 106,-1301.5 207,-1301.5 207,-1369.5\"/>\n<text text-anchor=\"middle\" x=\"156.5\" y=\"-1354.3\" font-family=\"Times,serif\" font-size=\"14.00\" fill=\"#000000\">gini = 0.0</text>\n<text text-anchor=\"middle\" x=\"156.5\" y=\"-1339.3\" font-family=\"Times,serif\" font-size=\"14.00\" fill=\"#000000\">samples = 11</text>\n<text text-anchor=\"middle\" x=\"156.5\" y=\"-1324.3\" font-family=\"Times,serif\" font-size=\"14.00\" fill=\"#000000\">value = [0, 11]</text>\n<text text-anchor=\"middle\" x=\"156.5\" y=\"-1309.3\" font-family=\"Times,serif\" font-size=\"14.00\" fill=\"#000000\">class = u</text>\n</g>\n<!-- 11&#45;&gt;12 -->\n<g id=\"edge12\" class=\"edge\">\n<title>11&#45;&gt;12</title>\n<path fill=\"none\" stroke=\"#000000\" d=\"M234.5298,-1412.8796C222.776,-1401.2237 210.0046,-1388.5587 198.2628,-1376.9148\"/>\n<polygon fill=\"#000000\" stroke=\"#000000\" points=\"200.6684,-1374.3712 191.1033,-1369.8149 195.7394,-1379.3416 200.6684,-1374.3712\"/>\n</g>\n<!-- 13 -->\n<g id=\"node14\" class=\"node\">\n<title>13</title>\n<polygon fill=\"#5aade9\" stroke=\"#000000\" points=\"327.5,-1377 225.5,-1377 225.5,-1294 327.5,-1294 327.5,-1377\"/>\n<text text-anchor=\"middle\" x=\"276.5\" y=\"-1361.8\" font-family=\"Times,serif\" font-size=\"14.00\" fill=\"#000000\">Age &lt;= 26.0</text>\n<text text-anchor=\"middle\" x=\"276.5\" y=\"-1346.8\" font-family=\"Times,serif\" font-size=\"14.00\" fill=\"#000000\">gini = 0.245</text>\n<text text-anchor=\"middle\" x=\"276.5\" y=\"-1331.8\" font-family=\"Times,serif\" font-size=\"14.00\" fill=\"#000000\">samples = 14</text>\n<text text-anchor=\"middle\" x=\"276.5\" y=\"-1316.8\" font-family=\"Times,serif\" font-size=\"14.00\" fill=\"#000000\">value = [2, 12]</text>\n<text text-anchor=\"middle\" x=\"276.5\" y=\"-1301.8\" font-family=\"Times,serif\" font-size=\"14.00\" fill=\"#000000\">class = u</text>\n</g>\n<!-- 11&#45;&gt;13 -->\n<g id=\"edge13\" class=\"edge\">\n<title>11&#45;&gt;13</title>\n<path fill=\"none\" stroke=\"#000000\" d=\"M276.5,-1412.8796C276.5,-1404.6838 276.5,-1395.9891 276.5,-1387.5013\"/>\n<polygon fill=\"#000000\" stroke=\"#000000\" points=\"280.0001,-1387.298 276.5,-1377.2981 273.0001,-1387.2981 280.0001,-1387.298\"/>\n</g>\n<!-- 14 -->\n<g id=\"node15\" class=\"node\">\n<title>14</title>\n<polygon fill=\"#9ccef2\" stroke=\"#000000\" points=\"207,-1258 112,-1258 112,-1175 207,-1175 207,-1258\"/>\n<text text-anchor=\"middle\" x=\"159.5\" y=\"-1242.8\" font-family=\"Times,serif\" font-size=\"14.00\" fill=\"#000000\">Age &lt;= 21.0</text>\n<text text-anchor=\"middle\" x=\"159.5\" y=\"-1227.8\" font-family=\"Times,serif\" font-size=\"14.00\" fill=\"#000000\">gini = 0.444</text>\n<text text-anchor=\"middle\" x=\"159.5\" y=\"-1212.8\" font-family=\"Times,serif\" font-size=\"14.00\" fill=\"#000000\">samples = 3</text>\n<text text-anchor=\"middle\" x=\"159.5\" y=\"-1197.8\" font-family=\"Times,serif\" font-size=\"14.00\" fill=\"#000000\">value = [1, 2]</text>\n<text text-anchor=\"middle\" x=\"159.5\" y=\"-1182.8\" font-family=\"Times,serif\" font-size=\"14.00\" fill=\"#000000\">class = u</text>\n</g>\n<!-- 13&#45;&gt;14 -->\n<g id=\"edge14\" class=\"edge\">\n<title>13&#45;&gt;14</title>\n<path fill=\"none\" stroke=\"#000000\" d=\"M235.5791,-1293.8796C226.547,-1284.6931 216.8987,-1274.8798 207.6112,-1265.4336\"/>\n<polygon fill=\"#000000\" stroke=\"#000000\" points=\"210.1023,-1262.975 200.5956,-1258.2981 205.1107,-1267.8827 210.1023,-1262.975\"/>\n</g>\n<!-- 17 -->\n<g id=\"node18\" class=\"node\">\n<title>17</title>\n<polygon fill=\"#4da7e8\" stroke=\"#000000\" points=\"327.5,-1258 225.5,-1258 225.5,-1175 327.5,-1175 327.5,-1258\"/>\n<text text-anchor=\"middle\" x=\"276.5\" y=\"-1242.8\" font-family=\"Times,serif\" font-size=\"14.00\" fill=\"#000000\">Age &lt;= 37.0</text>\n<text text-anchor=\"middle\" x=\"276.5\" y=\"-1227.8\" font-family=\"Times,serif\" font-size=\"14.00\" fill=\"#000000\">gini = 0.165</text>\n<text text-anchor=\"middle\" x=\"276.5\" y=\"-1212.8\" font-family=\"Times,serif\" font-size=\"14.00\" fill=\"#000000\">samples = 11</text>\n<text text-anchor=\"middle\" x=\"276.5\" y=\"-1197.8\" font-family=\"Times,serif\" font-size=\"14.00\" fill=\"#000000\">value = [1, 10]</text>\n<text text-anchor=\"middle\" x=\"276.5\" y=\"-1182.8\" font-family=\"Times,serif\" font-size=\"14.00\" fill=\"#000000\">class = u</text>\n</g>\n<!-- 13&#45;&gt;17 -->\n<g id=\"edge17\" class=\"edge\">\n<title>13&#45;&gt;17</title>\n<path fill=\"none\" stroke=\"#000000\" d=\"M276.5,-1293.8796C276.5,-1285.6838 276.5,-1276.9891 276.5,-1268.5013\"/>\n<polygon fill=\"#000000\" stroke=\"#000000\" points=\"280.0001,-1268.298 276.5,-1258.2981 273.0001,-1268.2981 280.0001,-1268.298\"/>\n</g>\n<!-- 15 -->\n<g id=\"node16\" class=\"node\">\n<title>15</title>\n<polygon fill=\"#399de5\" stroke=\"#000000\" points=\"95,-1131.5 0,-1131.5 0,-1063.5 95,-1063.5 95,-1131.5\"/>\n<text text-anchor=\"middle\" x=\"47.5\" y=\"-1116.3\" font-family=\"Times,serif\" font-size=\"14.00\" fill=\"#000000\">gini = 0.0</text>\n<text text-anchor=\"middle\" x=\"47.5\" y=\"-1101.3\" font-family=\"Times,serif\" font-size=\"14.00\" fill=\"#000000\">samples = 1</text>\n<text text-anchor=\"middle\" x=\"47.5\" y=\"-1086.3\" font-family=\"Times,serif\" font-size=\"14.00\" fill=\"#000000\">value = [0, 1]</text>\n<text text-anchor=\"middle\" x=\"47.5\" y=\"-1071.3\" font-family=\"Times,serif\" font-size=\"14.00\" fill=\"#000000\">class = u</text>\n</g>\n<!-- 14&#45;&gt;15 -->\n<g id=\"edge15\" class=\"edge\">\n<title>14&#45;&gt;15</title>\n<path fill=\"none\" stroke=\"#000000\" d=\"M120.3278,-1174.8796C109.4611,-1163.3337 97.6624,-1150.7976 86.7891,-1139.2446\"/>\n<polygon fill=\"#000000\" stroke=\"#000000\" points=\"89.1988,-1136.6982 79.7964,-1131.8149 84.1014,-1141.4958 89.1988,-1136.6982\"/>\n</g>\n<!-- 16 -->\n<g id=\"node17\" class=\"node\">\n<title>16</title>\n<polygon fill=\"#ffffff\" stroke=\"#000000\" points=\"208,-1131.5 113,-1131.5 113,-1063.5 208,-1063.5 208,-1131.5\"/>\n<text text-anchor=\"middle\" x=\"160.5\" y=\"-1116.3\" font-family=\"Times,serif\" font-size=\"14.00\" fill=\"#000000\">gini = 0.5</text>\n<text text-anchor=\"middle\" x=\"160.5\" y=\"-1101.3\" font-family=\"Times,serif\" font-size=\"14.00\" fill=\"#000000\">samples = 2</text>\n<text text-anchor=\"middle\" x=\"160.5\" y=\"-1086.3\" font-family=\"Times,serif\" font-size=\"14.00\" fill=\"#000000\">value = [1, 1]</text>\n<text text-anchor=\"middle\" x=\"160.5\" y=\"-1071.3\" font-family=\"Times,serif\" font-size=\"14.00\" fill=\"#000000\">class = S</text>\n</g>\n<!-- 14&#45;&gt;16 -->\n<g id=\"edge16\" class=\"edge\">\n<title>14&#45;&gt;16</title>\n<path fill=\"none\" stroke=\"#000000\" d=\"M159.8498,-1174.8796C159.9394,-1164.2134 160.0361,-1152.7021 160.1269,-1141.9015\"/>\n<polygon fill=\"#000000\" stroke=\"#000000\" points=\"163.6274,-1141.844 160.2116,-1131.8149 156.6276,-1141.7851 163.6274,-1141.844\"/>\n</g>\n<!-- 18 -->\n<g id=\"node19\" class=\"node\">\n<title>18</title>\n<polygon fill=\"#399de5\" stroke=\"#000000\" points=\"323,-1131.5 228,-1131.5 228,-1063.5 323,-1063.5 323,-1131.5\"/>\n<text text-anchor=\"middle\" x=\"275.5\" y=\"-1116.3\" font-family=\"Times,serif\" font-size=\"14.00\" fill=\"#000000\">gini = 0.0</text>\n<text text-anchor=\"middle\" x=\"275.5\" y=\"-1101.3\" font-family=\"Times,serif\" font-size=\"14.00\" fill=\"#000000\">samples = 8</text>\n<text text-anchor=\"middle\" x=\"275.5\" y=\"-1086.3\" font-family=\"Times,serif\" font-size=\"14.00\" fill=\"#000000\">value = [0, 8]</text>\n<text text-anchor=\"middle\" x=\"275.5\" y=\"-1071.3\" font-family=\"Times,serif\" font-size=\"14.00\" fill=\"#000000\">class = u</text>\n</g>\n<!-- 17&#45;&gt;18 -->\n<g id=\"edge18\" class=\"edge\">\n<title>17&#45;&gt;18</title>\n<path fill=\"none\" stroke=\"#000000\" d=\"M276.1502,-1174.8796C276.0606,-1164.2134 275.9639,-1152.7021 275.8731,-1141.9015\"/>\n<polygon fill=\"#000000\" stroke=\"#000000\" points=\"279.3724,-1141.7851 275.7884,-1131.8149 272.3726,-1141.844 279.3724,-1141.7851\"/>\n</g>\n<!-- 19 -->\n<g id=\"node20\" class=\"node\">\n<title>19</title>\n<polygon fill=\"#9ccef2\" stroke=\"#000000\" points=\"436,-1139 341,-1139 341,-1056 436,-1056 436,-1139\"/>\n<text text-anchor=\"middle\" x=\"388.5\" y=\"-1123.8\" font-family=\"Times,serif\" font-size=\"14.00\" fill=\"#000000\">Age &lt;= 39.0</text>\n<text text-anchor=\"middle\" x=\"388.5\" y=\"-1108.8\" font-family=\"Times,serif\" font-size=\"14.00\" fill=\"#000000\">gini = 0.444</text>\n<text text-anchor=\"middle\" x=\"388.5\" y=\"-1093.8\" font-family=\"Times,serif\" font-size=\"14.00\" fill=\"#000000\">samples = 3</text>\n<text text-anchor=\"middle\" x=\"388.5\" y=\"-1078.8\" font-family=\"Times,serif\" font-size=\"14.00\" fill=\"#000000\">value = [1, 2]</text>\n<text text-anchor=\"middle\" x=\"388.5\" y=\"-1063.8\" font-family=\"Times,serif\" font-size=\"14.00\" fill=\"#000000\">class = u</text>\n</g>\n<!-- 17&#45;&gt;19 -->\n<g id=\"edge19\" class=\"edge\">\n<title>17&#45;&gt;19</title>\n<path fill=\"none\" stroke=\"#000000\" d=\"M315.6722,-1174.8796C324.2335,-1165.7832 333.3732,-1156.0722 342.1832,-1146.7116\"/>\n<polygon fill=\"#000000\" stroke=\"#000000\" points=\"344.8557,-1148.9789 349.1606,-1139.2981 339.7583,-1144.1813 344.8557,-1148.9789\"/>\n</g>\n<!-- 20 -->\n<g id=\"node21\" class=\"node\">\n<title>20</title>\n<polygon fill=\"#e58139\" stroke=\"#000000\" points=\"379,-1012.5 284,-1012.5 284,-944.5 379,-944.5 379,-1012.5\"/>\n<text text-anchor=\"middle\" x=\"331.5\" y=\"-997.3\" font-family=\"Times,serif\" font-size=\"14.00\" fill=\"#000000\">gini = 0.0</text>\n<text text-anchor=\"middle\" x=\"331.5\" y=\"-982.3\" font-family=\"Times,serif\" font-size=\"14.00\" fill=\"#000000\">samples = 1</text>\n<text text-anchor=\"middle\" x=\"331.5\" y=\"-967.3\" font-family=\"Times,serif\" font-size=\"14.00\" fill=\"#000000\">value = [1, 0]</text>\n<text text-anchor=\"middle\" x=\"331.5\" y=\"-952.3\" font-family=\"Times,serif\" font-size=\"14.00\" fill=\"#000000\">class = S</text>\n</g>\n<!-- 19&#45;&gt;20 -->\n<g id=\"edge20\" class=\"edge\">\n<title>19&#45;&gt;20</title>\n<path fill=\"none\" stroke=\"#000000\" d=\"M368.5642,-1055.8796C363.2971,-1044.8835 357.5999,-1032.9893 352.289,-1021.9015\"/>\n<polygon fill=\"#000000\" stroke=\"#000000\" points=\"355.4131,-1020.3217 347.9366,-1012.8149 349.1,-1023.3457 355.4131,-1020.3217\"/>\n</g>\n<!-- 21 -->\n<g id=\"node22\" class=\"node\">\n<title>21</title>\n<polygon fill=\"#399de5\" stroke=\"#000000\" points=\"492,-1012.5 397,-1012.5 397,-944.5 492,-944.5 492,-1012.5\"/>\n<text text-anchor=\"middle\" x=\"444.5\" y=\"-997.3\" font-family=\"Times,serif\" font-size=\"14.00\" fill=\"#000000\">gini = 0.0</text>\n<text text-anchor=\"middle\" x=\"444.5\" y=\"-982.3\" font-family=\"Times,serif\" font-size=\"14.00\" fill=\"#000000\">samples = 2</text>\n<text text-anchor=\"middle\" x=\"444.5\" y=\"-967.3\" font-family=\"Times,serif\" font-size=\"14.00\" fill=\"#000000\">value = [0, 2]</text>\n<text text-anchor=\"middle\" x=\"444.5\" y=\"-952.3\" font-family=\"Times,serif\" font-size=\"14.00\" fill=\"#000000\">class = u</text>\n</g>\n<!-- 19&#45;&gt;21 -->\n<g id=\"edge21\" class=\"edge\">\n<title>19&#45;&gt;21</title>\n<path fill=\"none\" stroke=\"#000000\" d=\"M408.0861,-1055.8796C413.2607,-1044.8835 418.858,-1032.9893 424.0758,-1021.9015\"/>\n<polygon fill=\"#000000\" stroke=\"#000000\" points=\"427.2606,-1023.3534 428.3518,-1012.8149 420.9269,-1020.3728 427.2606,-1023.3534\"/>\n</g>\n<!-- 24 -->\n<g id=\"node25\" class=\"node\">\n<title>24</title>\n<polygon fill=\"#399de5\" stroke=\"#000000\" points=\"565,-1488.5 470,-1488.5 470,-1420.5 565,-1420.5 565,-1488.5\"/>\n<text text-anchor=\"middle\" x=\"517.5\" y=\"-1473.3\" font-family=\"Times,serif\" font-size=\"14.00\" fill=\"#000000\">gini = 0.0</text>\n<text text-anchor=\"middle\" x=\"517.5\" y=\"-1458.3\" font-family=\"Times,serif\" font-size=\"14.00\" fill=\"#000000\">samples = 6</text>\n<text text-anchor=\"middle\" x=\"517.5\" y=\"-1443.3\" font-family=\"Times,serif\" font-size=\"14.00\" fill=\"#000000\">value = [0, 6]</text>\n<text text-anchor=\"middle\" x=\"517.5\" y=\"-1428.3\" font-family=\"Times,serif\" font-size=\"14.00\" fill=\"#000000\">class = u</text>\n</g>\n<!-- 23&#45;&gt;24 -->\n<g id=\"edge24\" class=\"edge\">\n<title>23&#45;&gt;24</title>\n<path fill=\"none\" stroke=\"#000000\" d=\"M539.6084,-1531.8796C536.5295,-1521.1034 533.2042,-1509.4647 530.0908,-1498.5677\"/>\n<polygon fill=\"#000000\" stroke=\"#000000\" points=\"533.4169,-1497.4686 527.3043,-1488.8149 526.6862,-1499.3917 533.4169,-1497.4686\"/>\n</g>\n<!-- 25 -->\n<g id=\"node26\" class=\"node\">\n<title>25</title>\n<polygon fill=\"#6ab6ec\" stroke=\"#000000\" points=\"685.5,-1496 583.5,-1496 583.5,-1413 685.5,-1413 685.5,-1496\"/>\n<text text-anchor=\"middle\" x=\"634.5\" y=\"-1480.8\" font-family=\"Times,serif\" font-size=\"14.00\" fill=\"#000000\">Age &lt;= 27.5</text>\n<text text-anchor=\"middle\" x=\"634.5\" y=\"-1465.8\" font-family=\"Times,serif\" font-size=\"14.00\" fill=\"#000000\">gini = 0.32</text>\n<text text-anchor=\"middle\" x=\"634.5\" y=\"-1450.8\" font-family=\"Times,serif\" font-size=\"14.00\" fill=\"#000000\">samples = 15</text>\n<text text-anchor=\"middle\" x=\"634.5\" y=\"-1435.8\" font-family=\"Times,serif\" font-size=\"14.00\" fill=\"#000000\">value = [3, 12]</text>\n<text text-anchor=\"middle\" x=\"634.5\" y=\"-1420.8\" font-family=\"Times,serif\" font-size=\"14.00\" fill=\"#000000\">class = u</text>\n</g>\n<!-- 23&#45;&gt;25 -->\n<g id=\"edge25\" class=\"edge\">\n<title>23&#45;&gt;25</title>\n<path fill=\"none\" stroke=\"#000000\" d=\"M580.5294,-1531.8796C586.6855,-1523.0534 593.2451,-1513.6485 599.5936,-1504.5466\"/>\n<polygon fill=\"#000000\" stroke=\"#000000\" points=\"602.4967,-1506.5024 605.3467,-1496.2981 596.7552,-1502.4978 602.4967,-1506.5024\"/>\n</g>\n<!-- 26 -->\n<g id=\"node27\" class=\"node\">\n<title>26</title>\n<polygon fill=\"#f2c09c\" stroke=\"#000000\" points=\"566,-1377 447,-1377 447,-1294 566,-1294 566,-1377\"/>\n<text text-anchor=\"middle\" x=\"506.5\" y=\"-1361.8\" font-family=\"Times,serif\" font-size=\"14.00\" fill=\"#000000\">Embarked &lt;= 1.0</text>\n<text text-anchor=\"middle\" x=\"506.5\" y=\"-1346.8\" font-family=\"Times,serif\" font-size=\"14.00\" fill=\"#000000\">gini = 0.444</text>\n<text text-anchor=\"middle\" x=\"506.5\" y=\"-1331.8\" font-family=\"Times,serif\" font-size=\"14.00\" fill=\"#000000\">samples = 3</text>\n<text text-anchor=\"middle\" x=\"506.5\" y=\"-1316.8\" font-family=\"Times,serif\" font-size=\"14.00\" fill=\"#000000\">value = [2, 1]</text>\n<text text-anchor=\"middle\" x=\"506.5\" y=\"-1301.8\" font-family=\"Times,serif\" font-size=\"14.00\" fill=\"#000000\">class = S</text>\n</g>\n<!-- 25&#45;&gt;26 -->\n<g id=\"edge26\" class=\"edge\">\n<title>25&#45;&gt;26</title>\n<path fill=\"none\" stroke=\"#000000\" d=\"M589.7318,-1412.8796C579.7537,-1403.6031 569.0881,-1393.6874 558.8358,-1384.1559\"/>\n<polygon fill=\"#000000\" stroke=\"#000000\" points=\"561.1663,-1381.5436 551.4593,-1377.2981 556.4,-1386.6704 561.1663,-1381.5436\"/>\n</g>\n<!-- 29 -->\n<g id=\"node30\" class=\"node\">\n<title>29</title>\n<polygon fill=\"#4ba6e7\" stroke=\"#000000\" points=\"685,-1377 584,-1377 584,-1294 685,-1294 685,-1377\"/>\n<text text-anchor=\"middle\" x=\"634.5\" y=\"-1361.8\" font-family=\"Times,serif\" font-size=\"14.00\" fill=\"#000000\">Age &lt;= 43.0</text>\n<text text-anchor=\"middle\" x=\"634.5\" y=\"-1346.8\" font-family=\"Times,serif\" font-size=\"14.00\" fill=\"#000000\">gini = 0.153</text>\n<text text-anchor=\"middle\" x=\"634.5\" y=\"-1331.8\" font-family=\"Times,serif\" font-size=\"14.00\" fill=\"#000000\">samples = 12</text>\n<text text-anchor=\"middle\" x=\"634.5\" y=\"-1316.8\" font-family=\"Times,serif\" font-size=\"14.00\" fill=\"#000000\">value = [1, 11]</text>\n<text text-anchor=\"middle\" x=\"634.5\" y=\"-1301.8\" font-family=\"Times,serif\" font-size=\"14.00\" fill=\"#000000\">class = u</text>\n</g>\n<!-- 25&#45;&gt;29 -->\n<g id=\"edge29\" class=\"edge\">\n<title>25&#45;&gt;29</title>\n<path fill=\"none\" stroke=\"#000000\" d=\"M634.5,-1412.8796C634.5,-1404.6838 634.5,-1395.9891 634.5,-1387.5013\"/>\n<polygon fill=\"#000000\" stroke=\"#000000\" points=\"638.0001,-1387.298 634.5,-1377.2981 631.0001,-1387.2981 638.0001,-1387.298\"/>\n</g>\n<!-- 27 -->\n<g id=\"node28\" class=\"node\">\n<title>27</title>\n<polygon fill=\"#399de5\" stroke=\"#000000\" points=\"441,-1250.5 346,-1250.5 346,-1182.5 441,-1182.5 441,-1250.5\"/>\n<text text-anchor=\"middle\" x=\"393.5\" y=\"-1235.3\" font-family=\"Times,serif\" font-size=\"14.00\" fill=\"#000000\">gini = 0.0</text>\n<text text-anchor=\"middle\" x=\"393.5\" y=\"-1220.3\" font-family=\"Times,serif\" font-size=\"14.00\" fill=\"#000000\">samples = 1</text>\n<text text-anchor=\"middle\" x=\"393.5\" y=\"-1205.3\" font-family=\"Times,serif\" font-size=\"14.00\" fill=\"#000000\">value = [0, 1]</text>\n<text text-anchor=\"middle\" x=\"393.5\" y=\"-1190.3\" font-family=\"Times,serif\" font-size=\"14.00\" fill=\"#000000\">class = u</text>\n</g>\n<!-- 26&#45;&gt;27 -->\n<g id=\"edge27\" class=\"edge\">\n<title>26&#45;&gt;27</title>\n<path fill=\"none\" stroke=\"#000000\" d=\"M466.9781,-1293.8796C456.0143,-1282.3337 444.1103,-1269.7976 433.1399,-1258.2446\"/>\n<polygon fill=\"#000000\" stroke=\"#000000\" points=\"435.5087,-1255.6564 426.0848,-1250.8149 430.4327,-1260.4766 435.5087,-1255.6564\"/>\n</g>\n<!-- 28 -->\n<g id=\"node29\" class=\"node\">\n<title>28</title>\n<polygon fill=\"#e58139\" stroke=\"#000000\" points=\"554,-1250.5 459,-1250.5 459,-1182.5 554,-1182.5 554,-1250.5\"/>\n<text text-anchor=\"middle\" x=\"506.5\" y=\"-1235.3\" font-family=\"Times,serif\" font-size=\"14.00\" fill=\"#000000\">gini = 0.0</text>\n<text text-anchor=\"middle\" x=\"506.5\" y=\"-1220.3\" font-family=\"Times,serif\" font-size=\"14.00\" fill=\"#000000\">samples = 2</text>\n<text text-anchor=\"middle\" x=\"506.5\" y=\"-1205.3\" font-family=\"Times,serif\" font-size=\"14.00\" fill=\"#000000\">value = [2, 0]</text>\n<text text-anchor=\"middle\" x=\"506.5\" y=\"-1190.3\" font-family=\"Times,serif\" font-size=\"14.00\" fill=\"#000000\">class = S</text>\n</g>\n<!-- 26&#45;&gt;28 -->\n<g id=\"edge28\" class=\"edge\">\n<title>26&#45;&gt;28</title>\n<path fill=\"none\" stroke=\"#000000\" d=\"M506.5,-1293.8796C506.5,-1283.2134 506.5,-1271.7021 506.5,-1260.9015\"/>\n<polygon fill=\"#000000\" stroke=\"#000000\" points=\"510.0001,-1260.8149 506.5,-1250.8149 503.0001,-1260.815 510.0001,-1260.8149\"/>\n</g>\n<!-- 30 -->\n<g id=\"node31\" class=\"node\">\n<title>30</title>\n<polygon fill=\"#399de5\" stroke=\"#000000\" points=\"667,-1250.5 572,-1250.5 572,-1182.5 667,-1182.5 667,-1250.5\"/>\n<text text-anchor=\"middle\" x=\"619.5\" y=\"-1235.3\" font-family=\"Times,serif\" font-size=\"14.00\" fill=\"#000000\">gini = 0.0</text>\n<text text-anchor=\"middle\" x=\"619.5\" y=\"-1220.3\" font-family=\"Times,serif\" font-size=\"14.00\" fill=\"#000000\">samples = 9</text>\n<text text-anchor=\"middle\" x=\"619.5\" y=\"-1205.3\" font-family=\"Times,serif\" font-size=\"14.00\" fill=\"#000000\">value = [0, 9]</text>\n<text text-anchor=\"middle\" x=\"619.5\" y=\"-1190.3\" font-family=\"Times,serif\" font-size=\"14.00\" fill=\"#000000\">class = u</text>\n</g>\n<!-- 29&#45;&gt;30 -->\n<g id=\"edge30\" class=\"edge\">\n<title>29&#45;&gt;30</title>\n<path fill=\"none\" stroke=\"#000000\" d=\"M629.2537,-1293.8796C627.9092,-1283.2134 626.4582,-1271.7021 625.0968,-1260.9015\"/>\n<polygon fill=\"#000000\" stroke=\"#000000\" points=\"628.5486,-1260.2987 623.8254,-1250.8149 621.6036,-1261.1742 628.5486,-1260.2987\"/>\n</g>\n<!-- 31 -->\n<g id=\"node32\" class=\"node\">\n<title>31</title>\n<polygon fill=\"#9ccef2\" stroke=\"#000000\" points=\"780,-1258 685,-1258 685,-1175 780,-1175 780,-1258\"/>\n<text text-anchor=\"middle\" x=\"732.5\" y=\"-1242.8\" font-family=\"Times,serif\" font-size=\"14.00\" fill=\"#000000\">Parch &lt;= 0.5</text>\n<text text-anchor=\"middle\" x=\"732.5\" y=\"-1227.8\" font-family=\"Times,serif\" font-size=\"14.00\" fill=\"#000000\">gini = 0.444</text>\n<text text-anchor=\"middle\" x=\"732.5\" y=\"-1212.8\" font-family=\"Times,serif\" font-size=\"14.00\" fill=\"#000000\">samples = 3</text>\n<text text-anchor=\"middle\" x=\"732.5\" y=\"-1197.8\" font-family=\"Times,serif\" font-size=\"14.00\" fill=\"#000000\">value = [1, 2]</text>\n<text text-anchor=\"middle\" x=\"732.5\" y=\"-1182.8\" font-family=\"Times,serif\" font-size=\"14.00\" fill=\"#000000\">class = u</text>\n</g>\n<!-- 29&#45;&gt;31 -->\n<g id=\"edge31\" class=\"edge\">\n<title>29&#45;&gt;31</title>\n<path fill=\"none\" stroke=\"#000000\" d=\"M668.7756,-1293.8796C676.1184,-1284.9633 683.9476,-1275.4565 691.5146,-1266.268\"/>\n<polygon fill=\"#000000\" stroke=\"#000000\" points=\"694.4227,-1268.2424 698.0781,-1258.2981 689.0192,-1263.7924 694.4227,-1268.2424\"/>\n</g>\n<!-- 32 -->\n<g id=\"node33\" class=\"node\">\n<title>32</title>\n<polygon fill=\"#e58139\" stroke=\"#000000\" points=\"667,-1131.5 572,-1131.5 572,-1063.5 667,-1063.5 667,-1131.5\"/>\n<text text-anchor=\"middle\" x=\"619.5\" y=\"-1116.3\" font-family=\"Times,serif\" font-size=\"14.00\" fill=\"#000000\">gini = 0.0</text>\n<text text-anchor=\"middle\" x=\"619.5\" y=\"-1101.3\" font-family=\"Times,serif\" font-size=\"14.00\" fill=\"#000000\">samples = 1</text>\n<text text-anchor=\"middle\" x=\"619.5\" y=\"-1086.3\" font-family=\"Times,serif\" font-size=\"14.00\" fill=\"#000000\">value = [1, 0]</text>\n<text text-anchor=\"middle\" x=\"619.5\" y=\"-1071.3\" font-family=\"Times,serif\" font-size=\"14.00\" fill=\"#000000\">class = S</text>\n</g>\n<!-- 31&#45;&gt;32 -->\n<g id=\"edge32\" class=\"edge\">\n<title>31&#45;&gt;32</title>\n<path fill=\"none\" stroke=\"#000000\" d=\"M692.9781,-1174.8796C682.0143,-1163.3337 670.1103,-1150.7976 659.1399,-1139.2446\"/>\n<polygon fill=\"#000000\" stroke=\"#000000\" points=\"661.5087,-1136.6564 652.0848,-1131.8149 656.4327,-1141.4766 661.5087,-1136.6564\"/>\n</g>\n<!-- 33 -->\n<g id=\"node34\" class=\"node\">\n<title>33</title>\n<polygon fill=\"#399de5\" stroke=\"#000000\" points=\"780,-1131.5 685,-1131.5 685,-1063.5 780,-1063.5 780,-1131.5\"/>\n<text text-anchor=\"middle\" x=\"732.5\" y=\"-1116.3\" font-family=\"Times,serif\" font-size=\"14.00\" fill=\"#000000\">gini = 0.0</text>\n<text text-anchor=\"middle\" x=\"732.5\" y=\"-1101.3\" font-family=\"Times,serif\" font-size=\"14.00\" fill=\"#000000\">samples = 2</text>\n<text text-anchor=\"middle\" x=\"732.5\" y=\"-1086.3\" font-family=\"Times,serif\" font-size=\"14.00\" fill=\"#000000\">value = [0, 2]</text>\n<text text-anchor=\"middle\" x=\"732.5\" y=\"-1071.3\" font-family=\"Times,serif\" font-size=\"14.00\" fill=\"#000000\">class = u</text>\n</g>\n<!-- 31&#45;&gt;33 -->\n<g id=\"edge33\" class=\"edge\">\n<title>31&#45;&gt;33</title>\n<path fill=\"none\" stroke=\"#000000\" d=\"M732.5,-1174.8796C732.5,-1164.2134 732.5,-1152.7021 732.5,-1141.9015\"/>\n<polygon fill=\"#000000\" stroke=\"#000000\" points=\"736.0001,-1141.8149 732.5,-1131.8149 729.0001,-1141.815 736.0001,-1141.8149\"/>\n</g>\n<!-- 35 -->\n<g id=\"node36\" class=\"node\">\n<title>35</title>\n<polygon fill=\"#e58139\" stroke=\"#000000\" points=\"731,-1607.5 636,-1607.5 636,-1539.5 731,-1539.5 731,-1607.5\"/>\n<text text-anchor=\"middle\" x=\"683.5\" y=\"-1592.3\" font-family=\"Times,serif\" font-size=\"14.00\" fill=\"#000000\">gini = 0.0</text>\n<text text-anchor=\"middle\" x=\"683.5\" y=\"-1577.3\" font-family=\"Times,serif\" font-size=\"14.00\" fill=\"#000000\">samples = 1</text>\n<text text-anchor=\"middle\" x=\"683.5\" y=\"-1562.3\" font-family=\"Times,serif\" font-size=\"14.00\" fill=\"#000000\">value = [1, 0]</text>\n<text text-anchor=\"middle\" x=\"683.5\" y=\"-1547.3\" font-family=\"Times,serif\" font-size=\"14.00\" fill=\"#000000\">class = S</text>\n</g>\n<!-- 34&#45;&gt;35 -->\n<g id=\"edge35\" class=\"edge\">\n<title>34&#45;&gt;35</title>\n<path fill=\"none\" stroke=\"#000000\" d=\"M688.0517,-1650.8796C687.4243,-1640.2134 686.7472,-1628.7021 686.1119,-1617.9015\"/>\n<polygon fill=\"#000000\" stroke=\"#000000\" points=\"689.5998,-1617.5921 685.5185,-1607.8149 682.6119,-1618.0032 689.5998,-1617.5921\"/>\n</g>\n<!-- 36 -->\n<g id=\"node37\" class=\"node\">\n<title>36</title>\n<polygon fill=\"#399de5\" stroke=\"#000000\" points=\"844,-1607.5 749,-1607.5 749,-1539.5 844,-1539.5 844,-1607.5\"/>\n<text text-anchor=\"middle\" x=\"796.5\" y=\"-1592.3\" font-family=\"Times,serif\" font-size=\"14.00\" fill=\"#000000\">gini = 0.0</text>\n<text text-anchor=\"middle\" x=\"796.5\" y=\"-1577.3\" font-family=\"Times,serif\" font-size=\"14.00\" fill=\"#000000\">samples = 1</text>\n<text text-anchor=\"middle\" x=\"796.5\" y=\"-1562.3\" font-family=\"Times,serif\" font-size=\"14.00\" fill=\"#000000\">value = [0, 1]</text>\n<text text-anchor=\"middle\" x=\"796.5\" y=\"-1547.3\" font-family=\"Times,serif\" font-size=\"14.00\" fill=\"#000000\">class = u</text>\n</g>\n<!-- 34&#45;&gt;36 -->\n<g id=\"edge36\" class=\"edge\">\n<title>34&#45;&gt;36</title>\n<path fill=\"none\" stroke=\"#000000\" d=\"M727.5737,-1650.8796C737.7603,-1639.4436 748.8122,-1627.0363 759.0215,-1615.575\"/>\n<polygon fill=\"#000000\" stroke=\"#000000\" points=\"761.8958,-1617.6101 765.9338,-1607.8149 756.6688,-1612.9541 761.8958,-1617.6101\"/>\n</g>\n<!-- 39 -->\n<g id=\"node40\" class=\"node\">\n<title>39</title>\n<polygon fill=\"#399de5\" stroke=\"#000000\" points=\"981.5,-1845.5 879.5,-1845.5 879.5,-1777.5 981.5,-1777.5 981.5,-1845.5\"/>\n<text text-anchor=\"middle\" x=\"930.5\" y=\"-1830.3\" font-family=\"Times,serif\" font-size=\"14.00\" fill=\"#000000\">gini = 0.0</text>\n<text text-anchor=\"middle\" x=\"930.5\" y=\"-1815.3\" font-family=\"Times,serif\" font-size=\"14.00\" fill=\"#000000\">samples = 82</text>\n<text text-anchor=\"middle\" x=\"930.5\" y=\"-1800.3\" font-family=\"Times,serif\" font-size=\"14.00\" fill=\"#000000\">value = [0, 82]</text>\n<text text-anchor=\"middle\" x=\"930.5\" y=\"-1785.3\" font-family=\"Times,serif\" font-size=\"14.00\" fill=\"#000000\">class = u</text>\n</g>\n<!-- 38&#45;&gt;39 -->\n<g id=\"edge39\" class=\"edge\">\n<title>38&#45;&gt;39</title>\n<path fill=\"none\" stroke=\"#000000\" d=\"M932.4507,-1888.8796C932.1818,-1878.2134 931.8916,-1866.7021 931.6194,-1855.9015\"/>\n<polygon fill=\"#000000\" stroke=\"#000000\" points=\"935.1161,-1855.7235 931.3651,-1845.8149 928.1183,-1855.9 935.1161,-1855.7235\"/>\n</g>\n<!-- 40 -->\n<g id=\"node41\" class=\"node\">\n<title>40</title>\n<polygon fill=\"#47a4e7\" stroke=\"#000000\" points=\"1101.5,-1853 999.5,-1853 999.5,-1770 1101.5,-1770 1101.5,-1853\"/>\n<text text-anchor=\"middle\" x=\"1050.5\" y=\"-1837.8\" font-family=\"Times,serif\" font-size=\"14.00\" fill=\"#000000\">Age &lt;= 24.5</text>\n<text text-anchor=\"middle\" x=\"1050.5\" y=\"-1822.8\" font-family=\"Times,serif\" font-size=\"14.00\" fill=\"#000000\">gini = 0.124</text>\n<text text-anchor=\"middle\" x=\"1050.5\" y=\"-1807.8\" font-family=\"Times,serif\" font-size=\"14.00\" fill=\"#000000\">samples = 15</text>\n<text text-anchor=\"middle\" x=\"1050.5\" y=\"-1792.8\" font-family=\"Times,serif\" font-size=\"14.00\" fill=\"#000000\">value = [1, 14]</text>\n<text text-anchor=\"middle\" x=\"1050.5\" y=\"-1777.8\" font-family=\"Times,serif\" font-size=\"14.00\" fill=\"#000000\">class = u</text>\n</g>\n<!-- 38&#45;&gt;40 -->\n<g id=\"edge40\" class=\"edge\">\n<title>38&#45;&gt;40</title>\n<path fill=\"none\" stroke=\"#000000\" d=\"M974.4209,-1888.8796C983.453,-1879.6931 993.1013,-1869.8798 1002.3888,-1860.4336\"/>\n<polygon fill=\"#000000\" stroke=\"#000000\" points=\"1004.8893,-1862.8827 1009.4044,-1853.2981 999.8977,-1857.975 1004.8893,-1862.8827\"/>\n</g>\n<!-- 41 -->\n<g id=\"node42\" class=\"node\">\n<title>41</title>\n<polygon fill=\"#399de5\" stroke=\"#000000\" points=\"987.5,-1726.5 885.5,-1726.5 885.5,-1658.5 987.5,-1658.5 987.5,-1726.5\"/>\n<text text-anchor=\"middle\" x=\"936.5\" y=\"-1711.3\" font-family=\"Times,serif\" font-size=\"14.00\" fill=\"#000000\">gini = 0.0</text>\n<text text-anchor=\"middle\" x=\"936.5\" y=\"-1696.3\" font-family=\"Times,serif\" font-size=\"14.00\" fill=\"#000000\">samples = 10</text>\n<text text-anchor=\"middle\" x=\"936.5\" y=\"-1681.3\" font-family=\"Times,serif\" font-size=\"14.00\" fill=\"#000000\">value = [0, 10]</text>\n<text text-anchor=\"middle\" x=\"936.5\" y=\"-1666.3\" font-family=\"Times,serif\" font-size=\"14.00\" fill=\"#000000\">class = u</text>\n</g>\n<!-- 40&#45;&gt;41 -->\n<g id=\"edge41\" class=\"edge\">\n<title>40&#45;&gt;41</title>\n<path fill=\"none\" stroke=\"#000000\" d=\"M1010.6283,-1769.8796C999.5676,-1758.3337 987.5582,-1745.7976 976.4906,-1734.2446\"/>\n<polygon fill=\"#000000\" stroke=\"#000000\" points=\"978.8183,-1731.6149 969.3731,-1726.8149 973.7635,-1736.4573 978.8183,-1731.6149\"/>\n</g>\n<!-- 42 -->\n<g id=\"node43\" class=\"node\">\n<title>42</title>\n<polygon fill=\"#6ab6ec\" stroke=\"#000000\" points=\"1101,-1734 1006,-1734 1006,-1651 1101,-1651 1101,-1734\"/>\n<text text-anchor=\"middle\" x=\"1053.5\" y=\"-1718.8\" font-family=\"Times,serif\" font-size=\"14.00\" fill=\"#000000\">Age &lt;= 28.0</text>\n<text text-anchor=\"middle\" x=\"1053.5\" y=\"-1703.8\" font-family=\"Times,serif\" font-size=\"14.00\" fill=\"#000000\">gini = 0.32</text>\n<text text-anchor=\"middle\" x=\"1053.5\" y=\"-1688.8\" font-family=\"Times,serif\" font-size=\"14.00\" fill=\"#000000\">samples = 5</text>\n<text text-anchor=\"middle\" x=\"1053.5\" y=\"-1673.8\" font-family=\"Times,serif\" font-size=\"14.00\" fill=\"#000000\">value = [1, 4]</text>\n<text text-anchor=\"middle\" x=\"1053.5\" y=\"-1658.8\" font-family=\"Times,serif\" font-size=\"14.00\" fill=\"#000000\">class = u</text>\n</g>\n<!-- 40&#45;&gt;42 -->\n<g id=\"edge42\" class=\"edge\">\n<title>40&#45;&gt;42</title>\n<path fill=\"none\" stroke=\"#000000\" d=\"M1051.5493,-1769.8796C1051.7559,-1761.6838 1051.9751,-1752.9891 1052.189,-1744.5013\"/>\n<polygon fill=\"#000000\" stroke=\"#000000\" points=\"1055.693,-1744.3831 1052.4463,-1734.2981 1048.6953,-1744.2067 1055.693,-1744.3831\"/>\n</g>\n<!-- 43 -->\n<g id=\"node44\" class=\"node\">\n<title>43</title>\n<polygon fill=\"#e58139\" stroke=\"#000000\" points=\"990,-1607.5 895,-1607.5 895,-1539.5 990,-1539.5 990,-1607.5\"/>\n<text text-anchor=\"middle\" x=\"942.5\" y=\"-1592.3\" font-family=\"Times,serif\" font-size=\"14.00\" fill=\"#000000\">gini = 0.0</text>\n<text text-anchor=\"middle\" x=\"942.5\" y=\"-1577.3\" font-family=\"Times,serif\" font-size=\"14.00\" fill=\"#000000\">samples = 1</text>\n<text text-anchor=\"middle\" x=\"942.5\" y=\"-1562.3\" font-family=\"Times,serif\" font-size=\"14.00\" fill=\"#000000\">value = [1, 0]</text>\n<text text-anchor=\"middle\" x=\"942.5\" y=\"-1547.3\" font-family=\"Times,serif\" font-size=\"14.00\" fill=\"#000000\">class = S</text>\n</g>\n<!-- 42&#45;&gt;43 -->\n<g id=\"edge43\" class=\"edge\">\n<title>42&#45;&gt;43</title>\n<path fill=\"none\" stroke=\"#000000\" d=\"M1014.6776,-1650.8796C1003.9079,-1639.3337 992.2146,-1626.7976 981.4383,-1615.2446\"/>\n<polygon fill=\"#000000\" stroke=\"#000000\" points=\"983.8885,-1612.7402 974.508,-1607.8149 978.7697,-1617.5149 983.8885,-1612.7402\"/>\n</g>\n<!-- 44 -->\n<g id=\"node45\" class=\"node\">\n<title>44</title>\n<polygon fill=\"#399de5\" stroke=\"#000000\" points=\"1103,-1607.5 1008,-1607.5 1008,-1539.5 1103,-1539.5 1103,-1607.5\"/>\n<text text-anchor=\"middle\" x=\"1055.5\" y=\"-1592.3\" font-family=\"Times,serif\" font-size=\"14.00\" fill=\"#000000\">gini = 0.0</text>\n<text text-anchor=\"middle\" x=\"1055.5\" y=\"-1577.3\" font-family=\"Times,serif\" font-size=\"14.00\" fill=\"#000000\">samples = 4</text>\n<text text-anchor=\"middle\" x=\"1055.5\" y=\"-1562.3\" font-family=\"Times,serif\" font-size=\"14.00\" fill=\"#000000\">value = [0, 4]</text>\n<text text-anchor=\"middle\" x=\"1055.5\" y=\"-1547.3\" font-family=\"Times,serif\" font-size=\"14.00\" fill=\"#000000\">class = u</text>\n</g>\n<!-- 42&#45;&gt;44 -->\n<g id=\"edge44\" class=\"edge\">\n<title>42&#45;&gt;44</title>\n<path fill=\"none\" stroke=\"#000000\" d=\"M1054.1995,-1650.8796C1054.3788,-1640.2134 1054.5722,-1628.7021 1054.7538,-1617.9015\"/>\n<polygon fill=\"#000000\" stroke=\"#000000\" points=\"1058.2546,-1617.8724 1054.9233,-1607.8149 1051.2556,-1617.7547 1058.2546,-1617.8724\"/>\n</g>\n<!-- 46 -->\n<g id=\"node47\" class=\"node\">\n<title>46</title>\n<polygon fill=\"#c3e1f7\" stroke=\"#000000\" points=\"1837.5,-2091 1727.5,-2091 1727.5,-2008 1837.5,-2008 1837.5,-2091\"/>\n<text text-anchor=\"middle\" x=\"1782.5\" y=\"-2075.8\" font-family=\"Times,serif\" font-size=\"14.00\" fill=\"#000000\">Age &lt;= 36.5</text>\n<text text-anchor=\"middle\" x=\"1782.5\" y=\"-2060.8\" font-family=\"Times,serif\" font-size=\"14.00\" fill=\"#000000\">gini = 0.484</text>\n<text text-anchor=\"middle\" x=\"1782.5\" y=\"-2045.8\" font-family=\"Times,serif\" font-size=\"14.00\" fill=\"#000000\">samples = 117</text>\n<text text-anchor=\"middle\" x=\"1782.5\" y=\"-2030.8\" font-family=\"Times,serif\" font-size=\"14.00\" fill=\"#000000\">value = [48, 69]</text>\n<text text-anchor=\"middle\" x=\"1782.5\" y=\"-2015.8\" font-family=\"Times,serif\" font-size=\"14.00\" fill=\"#000000\">class = u</text>\n</g>\n<!-- 45&#45;&gt;46 -->\n<g id=\"edge46\" class=\"edge\">\n<title>45&#45;&gt;46</title>\n<path fill=\"none\" stroke=\"#000000\" d=\"M1822.8154,-2126.8796C1818.3577,-2118.3236 1813.6166,-2109.2238 1809.0106,-2100.3833\"/>\n<polygon fill=\"#000000\" stroke=\"#000000\" points=\"1812.0017,-2098.5494 1804.2771,-2091.2981 1805.7938,-2101.7838 1812.0017,-2098.5494\"/>\n</g>\n<!-- 121 -->\n<g id=\"node122\" class=\"node\">\n<title>121</title>\n<polygon fill=\"#e89152\" stroke=\"#000000\" points=\"1959.5,-2091 1857.5,-2091 1857.5,-2008 1959.5,-2008 1959.5,-2091\"/>\n<text text-anchor=\"middle\" x=\"1908.5\" y=\"-2075.8\" font-family=\"Times,serif\" font-size=\"14.00\" fill=\"#000000\">Parch &lt;= 0.5</text>\n<text text-anchor=\"middle\" x=\"1908.5\" y=\"-2060.8\" font-family=\"Times,serif\" font-size=\"14.00\" fill=\"#000000\">gini = 0.198</text>\n<text text-anchor=\"middle\" x=\"1908.5\" y=\"-2045.8\" font-family=\"Times,serif\" font-size=\"14.00\" fill=\"#000000\">samples = 27</text>\n<text text-anchor=\"middle\" x=\"1908.5\" y=\"-2030.8\" font-family=\"Times,serif\" font-size=\"14.00\" fill=\"#000000\">value = [24, 3]</text>\n<text text-anchor=\"middle\" x=\"1908.5\" y=\"-2015.8\" font-family=\"Times,serif\" font-size=\"14.00\" fill=\"#000000\">class = S</text>\n</g>\n<!-- 45&#45;&gt;121 -->\n<g id=\"edge121\" class=\"edge\">\n<title>45&#45;&gt;121</title>\n<path fill=\"none\" stroke=\"#000000\" d=\"M1866.8841,-2126.8796C1871.4856,-2118.3236 1876.3796,-2109.2238 1881.1342,-2100.3833\"/>\n<polygon fill=\"#000000\" stroke=\"#000000\" points=\"1884.3662,-2101.763 1886.0204,-2091.2981 1878.2012,-2098.4473 1884.3662,-2101.763\"/>\n</g>\n<!-- 47 -->\n<g id=\"node48\" class=\"node\">\n<title>47</title>\n<polygon fill=\"#b3daf5\" stroke=\"#000000\" points=\"1714,-1972 1595,-1972 1595,-1889 1714,-1889 1714,-1972\"/>\n<text text-anchor=\"middle\" x=\"1654.5\" y=\"-1956.8\" font-family=\"Times,serif\" font-size=\"14.00\" fill=\"#000000\">Embarked &lt;= 1.5</text>\n<text text-anchor=\"middle\" x=\"1654.5\" y=\"-1941.8\" font-family=\"Times,serif\" font-size=\"14.00\" fill=\"#000000\">gini = 0.472</text>\n<text text-anchor=\"middle\" x=\"1654.5\" y=\"-1926.8\" font-family=\"Times,serif\" font-size=\"14.00\" fill=\"#000000\">samples = 110</text>\n<text text-anchor=\"middle\" x=\"1654.5\" y=\"-1911.8\" font-family=\"Times,serif\" font-size=\"14.00\" fill=\"#000000\">value = [42, 68]</text>\n<text text-anchor=\"middle\" x=\"1654.5\" y=\"-1896.8\" font-family=\"Times,serif\" font-size=\"14.00\" fill=\"#000000\">class = u</text>\n</g>\n<!-- 46&#45;&gt;47 -->\n<g id=\"edge47\" class=\"edge\">\n<title>46&#45;&gt;47</title>\n<path fill=\"none\" stroke=\"#000000\" d=\"M1737.7318,-2007.8796C1727.7537,-1998.6031 1717.0881,-1988.6874 1706.8358,-1979.1559\"/>\n<polygon fill=\"#000000\" stroke=\"#000000\" points=\"1709.1663,-1976.5436 1699.4593,-1972.2981 1704.4,-1981.6704 1709.1663,-1976.5436\"/>\n</g>\n<!-- 118 -->\n<g id=\"node119\" class=\"node\">\n<title>118</title>\n<polygon fill=\"#e9965a\" stroke=\"#000000\" points=\"1830,-1972 1735,-1972 1735,-1889 1830,-1889 1830,-1972\"/>\n<text text-anchor=\"middle\" x=\"1782.5\" y=\"-1956.8\" font-family=\"Times,serif\" font-size=\"14.00\" fill=\"#000000\">Age &lt;= 55.0</text>\n<text text-anchor=\"middle\" x=\"1782.5\" y=\"-1941.8\" font-family=\"Times,serif\" font-size=\"14.00\" fill=\"#000000\">gini = 0.245</text>\n<text text-anchor=\"middle\" x=\"1782.5\" y=\"-1926.8\" font-family=\"Times,serif\" font-size=\"14.00\" fill=\"#000000\">samples = 7</text>\n<text text-anchor=\"middle\" x=\"1782.5\" y=\"-1911.8\" font-family=\"Times,serif\" font-size=\"14.00\" fill=\"#000000\">value = [6, 1]</text>\n<text text-anchor=\"middle\" x=\"1782.5\" y=\"-1896.8\" font-family=\"Times,serif\" font-size=\"14.00\" fill=\"#000000\">class = S</text>\n</g>\n<!-- 46&#45;&gt;118 -->\n<g id=\"edge118\" class=\"edge\">\n<title>46&#45;&gt;118</title>\n<path fill=\"none\" stroke=\"#000000\" d=\"M1782.5,-2007.8796C1782.5,-1999.6838 1782.5,-1990.9891 1782.5,-1982.5013\"/>\n<polygon fill=\"#000000\" stroke=\"#000000\" points=\"1786.0001,-1982.298 1782.5,-1972.2981 1779.0001,-1982.2981 1786.0001,-1982.298\"/>\n</g>\n<!-- 48 -->\n<g id=\"node49\" class=\"node\">\n<title>48</title>\n<polygon fill=\"#87c4ef\" stroke=\"#000000\" points=\"1484.5,-1853 1374.5,-1853 1374.5,-1770 1484.5,-1770 1484.5,-1853\"/>\n<text text-anchor=\"middle\" x=\"1429.5\" y=\"-1837.8\" font-family=\"Times,serif\" font-size=\"14.00\" fill=\"#000000\">Age &lt;= 29.75</text>\n<text text-anchor=\"middle\" x=\"1429.5\" y=\"-1822.8\" font-family=\"Times,serif\" font-size=\"14.00\" fill=\"#000000\">gini = 0.406</text>\n<text text-anchor=\"middle\" x=\"1429.5\" y=\"-1807.8\" font-family=\"Times,serif\" font-size=\"14.00\" fill=\"#000000\">samples = 53</text>\n<text text-anchor=\"middle\" x=\"1429.5\" y=\"-1792.8\" font-family=\"Times,serif\" font-size=\"14.00\" fill=\"#000000\">value = [15, 38]</text>\n<text text-anchor=\"middle\" x=\"1429.5\" y=\"-1777.8\" font-family=\"Times,serif\" font-size=\"14.00\" fill=\"#000000\">class = u</text>\n</g>\n<!-- 47&#45;&gt;48 -->\n<g id=\"edge48\" class=\"edge\">\n<title>47&#45;&gt;48</title>\n<path fill=\"none\" stroke=\"#000000\" d=\"M1594.7948,-1898.9226C1563.7496,-1882.5031 1525.7673,-1862.4147 1494.0439,-1845.6366\"/>\n<polygon fill=\"#000000\" stroke=\"#000000\" points=\"1495.3213,-1842.3528 1484.8451,-1840.7714 1492.0486,-1848.5407 1495.3213,-1842.3528\"/>\n</g>\n<!-- 81 -->\n<g id=\"node82\" class=\"node\">\n<title>81</title>\n<polygon fill=\"#ebf5fc\" stroke=\"#000000\" points=\"1709.5,-1853 1599.5,-1853 1599.5,-1770 1709.5,-1770 1709.5,-1853\"/>\n<text text-anchor=\"middle\" x=\"1654.5\" y=\"-1837.8\" font-family=\"Times,serif\" font-size=\"14.00\" fill=\"#000000\">Fare &lt;= 10.825</text>\n<text text-anchor=\"middle\" x=\"1654.5\" y=\"-1822.8\" font-family=\"Times,serif\" font-size=\"14.00\" fill=\"#000000\">gini = 0.499</text>\n<text text-anchor=\"middle\" x=\"1654.5\" y=\"-1807.8\" font-family=\"Times,serif\" font-size=\"14.00\" fill=\"#000000\">samples = 57</text>\n<text text-anchor=\"middle\" x=\"1654.5\" y=\"-1792.8\" font-family=\"Times,serif\" font-size=\"14.00\" fill=\"#000000\">value = [27, 30]</text>\n<text text-anchor=\"middle\" x=\"1654.5\" y=\"-1777.8\" font-family=\"Times,serif\" font-size=\"14.00\" fill=\"#000000\">class = u</text>\n</g>\n<!-- 47&#45;&gt;81 -->\n<g id=\"edge81\" class=\"edge\">\n<title>47&#45;&gt;81</title>\n<path fill=\"none\" stroke=\"#000000\" d=\"M1654.5,-1888.8796C1654.5,-1880.6838 1654.5,-1871.9891 1654.5,-1863.5013\"/>\n<polygon fill=\"#000000\" stroke=\"#000000\" points=\"1658.0001,-1863.298 1654.5,-1853.2981 1651.0001,-1863.2981 1658.0001,-1863.298\"/>\n</g>\n<!-- 49 -->\n<g id=\"node50\" class=\"node\">\n<title>49</title>\n<polygon fill=\"#7dbfee\" stroke=\"#000000\" points=\"1363.5,-1734 1253.5,-1734 1253.5,-1651 1363.5,-1651 1363.5,-1734\"/>\n<text text-anchor=\"middle\" x=\"1308.5\" y=\"-1718.8\" font-family=\"Times,serif\" font-size=\"14.00\" fill=\"#000000\">Fare &lt;= 15.373</text>\n<text text-anchor=\"middle\" x=\"1308.5\" y=\"-1703.8\" font-family=\"Times,serif\" font-size=\"14.00\" fill=\"#000000\">gini = 0.38</text>\n<text text-anchor=\"middle\" x=\"1308.5\" y=\"-1688.8\" font-family=\"Times,serif\" font-size=\"14.00\" fill=\"#000000\">samples = 51</text>\n<text text-anchor=\"middle\" x=\"1308.5\" y=\"-1673.8\" font-family=\"Times,serif\" font-size=\"14.00\" fill=\"#000000\">value = [13, 38]</text>\n<text text-anchor=\"middle\" x=\"1308.5\" y=\"-1658.8\" font-family=\"Times,serif\" font-size=\"14.00\" fill=\"#000000\">class = u</text>\n</g>\n<!-- 48&#45;&gt;49 -->\n<g id=\"edge49\" class=\"edge\">\n<title>48&#45;&gt;49</title>\n<path fill=\"none\" stroke=\"#000000\" d=\"M1387.1801,-1769.8796C1377.8392,-1760.6931 1367.861,-1750.8798 1358.256,-1741.4336\"/>\n<polygon fill=\"#000000\" stroke=\"#000000\" points=\"1360.5845,-1738.8146 1351.0006,-1734.2981 1355.6762,-1743.8054 1360.5845,-1738.8146\"/>\n</g>\n<!-- 80 -->\n<g id=\"node81\" class=\"node\">\n<title>80</title>\n<polygon fill=\"#e58139\" stroke=\"#000000\" points=\"1477,-1726.5 1382,-1726.5 1382,-1658.5 1477,-1658.5 1477,-1726.5\"/>\n<text text-anchor=\"middle\" x=\"1429.5\" y=\"-1711.3\" font-family=\"Times,serif\" font-size=\"14.00\" fill=\"#000000\">gini = 0.0</text>\n<text text-anchor=\"middle\" x=\"1429.5\" y=\"-1696.3\" font-family=\"Times,serif\" font-size=\"14.00\" fill=\"#000000\">samples = 2</text>\n<text text-anchor=\"middle\" x=\"1429.5\" y=\"-1681.3\" font-family=\"Times,serif\" font-size=\"14.00\" fill=\"#000000\">value = [2, 0]</text>\n<text text-anchor=\"middle\" x=\"1429.5\" y=\"-1666.3\" font-family=\"Times,serif\" font-size=\"14.00\" fill=\"#000000\">class = S</text>\n</g>\n<!-- 48&#45;&gt;80 -->\n<g id=\"edge80\" class=\"edge\">\n<title>48&#45;&gt;80</title>\n<path fill=\"none\" stroke=\"#000000\" d=\"M1429.5,-1769.8796C1429.5,-1759.2134 1429.5,-1747.7021 1429.5,-1736.9015\"/>\n<polygon fill=\"#000000\" stroke=\"#000000\" points=\"1433.0001,-1736.8149 1429.5,-1726.8149 1426.0001,-1736.815 1433.0001,-1736.8149\"/>\n</g>\n<!-- 50 -->\n<g id=\"node51\" class=\"node\">\n<title>50</title>\n<polygon fill=\"#98ccf2\" stroke=\"#000000\" points=\"1239.5,-1615 1129.5,-1615 1129.5,-1532 1239.5,-1532 1239.5,-1615\"/>\n<text text-anchor=\"middle\" x=\"1184.5\" y=\"-1599.8\" font-family=\"Times,serif\" font-size=\"14.00\" fill=\"#000000\">Fare &lt;= 13.935</text>\n<text text-anchor=\"middle\" x=\"1184.5\" y=\"-1584.8\" font-family=\"Times,serif\" font-size=\"14.00\" fill=\"#000000\">gini = 0.439</text>\n<text text-anchor=\"middle\" x=\"1184.5\" y=\"-1569.8\" font-family=\"Times,serif\" font-size=\"14.00\" fill=\"#000000\">samples = 40</text>\n<text text-anchor=\"middle\" x=\"1184.5\" y=\"-1554.8\" font-family=\"Times,serif\" font-size=\"14.00\" fill=\"#000000\">value = [13, 27]</text>\n<text text-anchor=\"middle\" x=\"1184.5\" y=\"-1539.8\" font-family=\"Times,serif\" font-size=\"14.00\" fill=\"#000000\">class = u</text>\n</g>\n<!-- 49&#45;&gt;50 -->\n<g id=\"edge50\" class=\"edge\">\n<title>49&#45;&gt;50</title>\n<path fill=\"none\" stroke=\"#000000\" d=\"M1265.1308,-1650.8796C1255.5584,-1641.6931 1245.3328,-1631.8798 1235.4897,-1622.4336\"/>\n<polygon fill=\"#000000\" stroke=\"#000000\" points=\"1237.6928,-1619.6969 1228.0543,-1615.2981 1232.8459,-1624.7475 1237.6928,-1619.6969\"/>\n</g>\n<!-- 79 -->\n<g id=\"node80\" class=\"node\">\n<title>79</title>\n<polygon fill=\"#399de5\" stroke=\"#000000\" points=\"1359,-1607.5 1258,-1607.5 1258,-1539.5 1359,-1539.5 1359,-1607.5\"/>\n<text text-anchor=\"middle\" x=\"1308.5\" y=\"-1592.3\" font-family=\"Times,serif\" font-size=\"14.00\" fill=\"#000000\">gini = 0.0</text>\n<text text-anchor=\"middle\" x=\"1308.5\" y=\"-1577.3\" font-family=\"Times,serif\" font-size=\"14.00\" fill=\"#000000\">samples = 11</text>\n<text text-anchor=\"middle\" x=\"1308.5\" y=\"-1562.3\" font-family=\"Times,serif\" font-size=\"14.00\" fill=\"#000000\">value = [0, 11]</text>\n<text text-anchor=\"middle\" x=\"1308.5\" y=\"-1547.3\" font-family=\"Times,serif\" font-size=\"14.00\" fill=\"#000000\">class = u</text>\n</g>\n<!-- 49&#45;&gt;79 -->\n<g id=\"edge79\" class=\"edge\">\n<title>49&#45;&gt;79</title>\n<path fill=\"none\" stroke=\"#000000\" d=\"M1308.5,-1650.8796C1308.5,-1640.2134 1308.5,-1628.7021 1308.5,-1617.9015\"/>\n<polygon fill=\"#000000\" stroke=\"#000000\" points=\"1312.0001,-1617.8149 1308.5,-1607.8149 1305.0001,-1617.815 1312.0001,-1617.8149\"/>\n</g>\n<!-- 51 -->\n<g id=\"node52\" class=\"node\">\n<title>51</title>\n<polygon fill=\"#69b5eb\" stroke=\"#000000\" points=\"1122.5,-1496 1020.5,-1496 1020.5,-1413 1122.5,-1413 1122.5,-1496\"/>\n<text text-anchor=\"middle\" x=\"1071.5\" y=\"-1480.8\" font-family=\"Times,serif\" font-size=\"14.00\" fill=\"#000000\">Parch &lt;= 1.5</text>\n<text text-anchor=\"middle\" x=\"1071.5\" y=\"-1465.8\" font-family=\"Times,serif\" font-size=\"14.00\" fill=\"#000000\">gini = 0.312</text>\n<text text-anchor=\"middle\" x=\"1071.5\" y=\"-1450.8\" font-family=\"Times,serif\" font-size=\"14.00\" fill=\"#000000\">samples = 31</text>\n<text text-anchor=\"middle\" x=\"1071.5\" y=\"-1435.8\" font-family=\"Times,serif\" font-size=\"14.00\" fill=\"#000000\">value = [6, 25]</text>\n<text text-anchor=\"middle\" x=\"1071.5\" y=\"-1420.8\" font-family=\"Times,serif\" font-size=\"14.00\" fill=\"#000000\">class = u</text>\n</g>\n<!-- 50&#45;&gt;51 -->\n<g id=\"edge51\" class=\"edge\">\n<title>50&#45;&gt;51</title>\n<path fill=\"none\" stroke=\"#000000\" d=\"M1144.9781,-1531.8796C1136.3403,-1522.7832 1127.119,-1513.0722 1118.2303,-1503.7116\"/>\n<polygon fill=\"#000000\" stroke=\"#000000\" points=\"1120.6146,-1501.1395 1111.1906,-1496.2981 1115.5385,-1505.9597 1120.6146,-1501.1395\"/>\n</g>\n<!-- 72 -->\n<g id=\"node73\" class=\"node\">\n<title>72</title>\n<polygon fill=\"#eca572\" stroke=\"#000000\" points=\"1236,-1496 1141,-1496 1141,-1413 1236,-1413 1236,-1496\"/>\n<text text-anchor=\"middle\" x=\"1188.5\" y=\"-1480.8\" font-family=\"Times,serif\" font-size=\"14.00\" fill=\"#000000\">Parch &lt;= 1.5</text>\n<text text-anchor=\"middle\" x=\"1188.5\" y=\"-1465.8\" font-family=\"Times,serif\" font-size=\"14.00\" fill=\"#000000\">gini = 0.346</text>\n<text text-anchor=\"middle\" x=\"1188.5\" y=\"-1450.8\" font-family=\"Times,serif\" font-size=\"14.00\" fill=\"#000000\">samples = 9</text>\n<text text-anchor=\"middle\" x=\"1188.5\" y=\"-1435.8\" font-family=\"Times,serif\" font-size=\"14.00\" fill=\"#000000\">value = [7, 2]</text>\n<text text-anchor=\"middle\" x=\"1188.5\" y=\"-1420.8\" font-family=\"Times,serif\" font-size=\"14.00\" fill=\"#000000\">class = S</text>\n</g>\n<!-- 50&#45;&gt;72 -->\n<g id=\"edge72\" class=\"edge\">\n<title>50&#45;&gt;72</title>\n<path fill=\"none\" stroke=\"#000000\" d=\"M1185.899,-1531.8796C1186.1745,-1523.6838 1186.4668,-1514.9891 1186.7521,-1506.5013\"/>\n<polygon fill=\"#000000\" stroke=\"#000000\" points=\"1190.257,-1506.41 1187.095,-1496.2981 1183.261,-1506.1748 1190.257,-1506.41\"/>\n</g>\n<!-- 52 -->\n<g id=\"node53\" class=\"node\">\n<title>52</title>\n<polygon fill=\"#61b1ea\" stroke=\"#000000\" points=\"1007.5,-1377 905.5,-1377 905.5,-1294 1007.5,-1294 1007.5,-1377\"/>\n<text text-anchor=\"middle\" x=\"956.5\" y=\"-1361.8\" font-family=\"Times,serif\" font-size=\"14.00\" fill=\"#000000\">Fare &lt;= 6.987</text>\n<text text-anchor=\"middle\" x=\"956.5\" y=\"-1346.8\" font-family=\"Times,serif\" font-size=\"14.00\" fill=\"#000000\">gini = 0.278</text>\n<text text-anchor=\"middle\" x=\"956.5\" y=\"-1331.8\" font-family=\"Times,serif\" font-size=\"14.00\" fill=\"#000000\">samples = 30</text>\n<text text-anchor=\"middle\" x=\"956.5\" y=\"-1316.8\" font-family=\"Times,serif\" font-size=\"14.00\" fill=\"#000000\">value = [5, 25]</text>\n<text text-anchor=\"middle\" x=\"956.5\" y=\"-1301.8\" font-family=\"Times,serif\" font-size=\"14.00\" fill=\"#000000\">class = u</text>\n</g>\n<!-- 51&#45;&gt;52 -->\n<g id=\"edge52\" class=\"edge\">\n<title>51&#45;&gt;52</title>\n<path fill=\"none\" stroke=\"#000000\" d=\"M1031.2786,-1412.8796C1022.488,-1403.7832 1013.1034,-1394.0722 1004.0574,-1384.7116\"/>\n<polygon fill=\"#000000\" stroke=\"#000000\" points=\"1006.3591,-1382.0568 996.8931,-1377.2981 1001.3255,-1386.9212 1006.3591,-1382.0568\"/>\n</g>\n<!-- 71 -->\n<g id=\"node72\" class=\"node\">\n<title>71</title>\n<polygon fill=\"#e58139\" stroke=\"#000000\" points=\"1121,-1369.5 1026,-1369.5 1026,-1301.5 1121,-1301.5 1121,-1369.5\"/>\n<text text-anchor=\"middle\" x=\"1073.5\" y=\"-1354.3\" font-family=\"Times,serif\" font-size=\"14.00\" fill=\"#000000\">gini = 0.0</text>\n<text text-anchor=\"middle\" x=\"1073.5\" y=\"-1339.3\" font-family=\"Times,serif\" font-size=\"14.00\" fill=\"#000000\">samples = 1</text>\n<text text-anchor=\"middle\" x=\"1073.5\" y=\"-1324.3\" font-family=\"Times,serif\" font-size=\"14.00\" fill=\"#000000\">value = [1, 0]</text>\n<text text-anchor=\"middle\" x=\"1073.5\" y=\"-1309.3\" font-family=\"Times,serif\" font-size=\"14.00\" fill=\"#000000\">class = S</text>\n</g>\n<!-- 51&#45;&gt;71 -->\n<g id=\"edge71\" class=\"edge\">\n<title>51&#45;&gt;71</title>\n<path fill=\"none\" stroke=\"#000000\" d=\"M1072.1995,-1412.8796C1072.3788,-1402.2134 1072.5722,-1390.7021 1072.7538,-1379.9015\"/>\n<polygon fill=\"#000000\" stroke=\"#000000\" points=\"1076.2546,-1379.8724 1072.9233,-1369.8149 1069.2556,-1379.7547 1076.2546,-1379.8724\"/>\n</g>\n<!-- 53 -->\n<g id=\"node54\" class=\"node\">\n<title>53</title>\n<polygon fill=\"#e58139\" stroke=\"#000000\" points=\"893,-1250.5 798,-1250.5 798,-1182.5 893,-1182.5 893,-1250.5\"/>\n<text text-anchor=\"middle\" x=\"845.5\" y=\"-1235.3\" font-family=\"Times,serif\" font-size=\"14.00\" fill=\"#000000\">gini = 0.0</text>\n<text text-anchor=\"middle\" x=\"845.5\" y=\"-1220.3\" font-family=\"Times,serif\" font-size=\"14.00\" fill=\"#000000\">samples = 1</text>\n<text text-anchor=\"middle\" x=\"845.5\" y=\"-1205.3\" font-family=\"Times,serif\" font-size=\"14.00\" fill=\"#000000\">value = [1, 0]</text>\n<text text-anchor=\"middle\" x=\"845.5\" y=\"-1190.3\" font-family=\"Times,serif\" font-size=\"14.00\" fill=\"#000000\">class = S</text>\n</g>\n<!-- 52&#45;&gt;53 -->\n<g id=\"edge53\" class=\"edge\">\n<title>52&#45;&gt;53</title>\n<path fill=\"none\" stroke=\"#000000\" d=\"M917.6776,-1293.8796C906.9079,-1282.3337 895.2146,-1269.7976 884.4383,-1258.2446\"/>\n<polygon fill=\"#000000\" stroke=\"#000000\" points=\"886.8885,-1255.7402 877.508,-1250.8149 881.7697,-1260.5149 886.8885,-1255.7402\"/>\n</g>\n<!-- 54 -->\n<g id=\"node55\" class=\"node\">\n<title>54</title>\n<polygon fill=\"#59ade9\" stroke=\"#000000\" points=\"1013.5,-1258 911.5,-1258 911.5,-1175 1013.5,-1175 1013.5,-1258\"/>\n<text text-anchor=\"middle\" x=\"962.5\" y=\"-1242.8\" font-family=\"Times,serif\" font-size=\"14.00\" fill=\"#000000\">Age &lt;= 20.0</text>\n<text text-anchor=\"middle\" x=\"962.5\" y=\"-1227.8\" font-family=\"Times,serif\" font-size=\"14.00\" fill=\"#000000\">gini = 0.238</text>\n<text text-anchor=\"middle\" x=\"962.5\" y=\"-1212.8\" font-family=\"Times,serif\" font-size=\"14.00\" fill=\"#000000\">samples = 29</text>\n<text text-anchor=\"middle\" x=\"962.5\" y=\"-1197.8\" font-family=\"Times,serif\" font-size=\"14.00\" fill=\"#000000\">value = [4, 25]</text>\n<text text-anchor=\"middle\" x=\"962.5\" y=\"-1182.8\" font-family=\"Times,serif\" font-size=\"14.00\" fill=\"#000000\">class = u</text>\n</g>\n<!-- 52&#45;&gt;54 -->\n<g id=\"edge54\" class=\"edge\">\n<title>52&#45;&gt;54</title>\n<path fill=\"none\" stroke=\"#000000\" d=\"M958.5985,-1293.8796C959.0117,-1285.6838 959.4501,-1276.9891 959.8781,-1268.5013\"/>\n<polygon fill=\"#000000\" stroke=\"#000000\" points=\"963.3844,-1268.4617 960.3925,-1258.2981 956.3933,-1268.1091 963.3844,-1268.4617\"/>\n</g>\n<!-- 55 -->\n<g id=\"node56\" class=\"node\">\n<title>55</title>\n<polygon fill=\"#399de5\" stroke=\"#000000\" points=\"894,-1131.5 799,-1131.5 799,-1063.5 894,-1063.5 894,-1131.5\"/>\n<text text-anchor=\"middle\" x=\"846.5\" y=\"-1116.3\" font-family=\"Times,serif\" font-size=\"14.00\" fill=\"#000000\">gini = 0.0</text>\n<text text-anchor=\"middle\" x=\"846.5\" y=\"-1101.3\" font-family=\"Times,serif\" font-size=\"14.00\" fill=\"#000000\">samples = 8</text>\n<text text-anchor=\"middle\" x=\"846.5\" y=\"-1086.3\" font-family=\"Times,serif\" font-size=\"14.00\" fill=\"#000000\">value = [0, 8]</text>\n<text text-anchor=\"middle\" x=\"846.5\" y=\"-1071.3\" font-family=\"Times,serif\" font-size=\"14.00\" fill=\"#000000\">class = u</text>\n</g>\n<!-- 54&#45;&gt;55 -->\n<g id=\"edge55\" class=\"edge\">\n<title>54&#45;&gt;55</title>\n<path fill=\"none\" stroke=\"#000000\" d=\"M921.9288,-1174.8796C910.674,-1163.3337 898.4539,-1150.7976 887.1922,-1139.2446\"/>\n<polygon fill=\"#000000\" stroke=\"#000000\" points=\"889.4364,-1136.5326 879.9499,-1131.8149 884.4238,-1141.4188 889.4364,-1136.5326\"/>\n</g>\n<!-- 56 -->\n<g id=\"node57\" class=\"node\">\n<title>56</title>\n<polygon fill=\"#68b4eb\" stroke=\"#000000\" points=\"1014.5,-1139 912.5,-1139 912.5,-1056 1014.5,-1056 1014.5,-1139\"/>\n<text text-anchor=\"middle\" x=\"963.5\" y=\"-1123.8\" font-family=\"Times,serif\" font-size=\"14.00\" fill=\"#000000\">Age &lt;= 21.5</text>\n<text text-anchor=\"middle\" x=\"963.5\" y=\"-1108.8\" font-family=\"Times,serif\" font-size=\"14.00\" fill=\"#000000\">gini = 0.308</text>\n<text text-anchor=\"middle\" x=\"963.5\" y=\"-1093.8\" font-family=\"Times,serif\" font-size=\"14.00\" fill=\"#000000\">samples = 21</text>\n<text text-anchor=\"middle\" x=\"963.5\" y=\"-1078.8\" font-family=\"Times,serif\" font-size=\"14.00\" fill=\"#000000\">value = [4, 17]</text>\n<text text-anchor=\"middle\" x=\"963.5\" y=\"-1063.8\" font-family=\"Times,serif\" font-size=\"14.00\" fill=\"#000000\">class = u</text>\n</g>\n<!-- 54&#45;&gt;56 -->\n<g id=\"edge56\" class=\"edge\">\n<title>54&#45;&gt;56</title>\n<path fill=\"none\" stroke=\"#000000\" d=\"M962.8498,-1174.8796C962.9186,-1166.6838 962.9917,-1157.9891 963.063,-1149.5013\"/>\n<polygon fill=\"#000000\" stroke=\"#000000\" points=\"966.5645,-1149.3272 963.1488,-1139.2981 959.5648,-1149.2683 966.5645,-1149.3272\"/>\n</g>\n<!-- 57 -->\n<g id=\"node58\" class=\"node\">\n<title>57</title>\n<polygon fill=\"#e58139\" stroke=\"#000000\" points=\"953,-1012.5 858,-1012.5 858,-944.5 953,-944.5 953,-1012.5\"/>\n<text text-anchor=\"middle\" x=\"905.5\" y=\"-997.3\" font-family=\"Times,serif\" font-size=\"14.00\" fill=\"#000000\">gini = 0.0</text>\n<text text-anchor=\"middle\" x=\"905.5\" y=\"-982.3\" font-family=\"Times,serif\" font-size=\"14.00\" fill=\"#000000\">samples = 1</text>\n<text text-anchor=\"middle\" x=\"905.5\" y=\"-967.3\" font-family=\"Times,serif\" font-size=\"14.00\" fill=\"#000000\">value = [1, 0]</text>\n<text text-anchor=\"middle\" x=\"905.5\" y=\"-952.3\" font-family=\"Times,serif\" font-size=\"14.00\" fill=\"#000000\">class = S</text>\n</g>\n<!-- 56&#45;&gt;57 -->\n<g id=\"edge57\" class=\"edge\">\n<title>56&#45;&gt;57</title>\n<path fill=\"none\" stroke=\"#000000\" d=\"M943.2144,-1055.8796C937.855,-1044.8835 932.0578,-1032.9893 926.6537,-1021.9015\"/>\n<polygon fill=\"#000000\" stroke=\"#000000\" points=\"929.7524,-1020.2706 922.2249,-1012.8149 923.46,-1023.3375 929.7524,-1020.2706\"/>\n</g>\n<!-- 58 -->\n<g id=\"node59\" class=\"node\">\n<title>58</title>\n<polygon fill=\"#5caeea\" stroke=\"#000000\" points=\"1073.5,-1020 971.5,-1020 971.5,-937 1073.5,-937 1073.5,-1020\"/>\n<text text-anchor=\"middle\" x=\"1022.5\" y=\"-1004.8\" font-family=\"Times,serif\" font-size=\"14.00\" fill=\"#000000\">Fare &lt;= 8.008</text>\n<text text-anchor=\"middle\" x=\"1022.5\" y=\"-989.8\" font-family=\"Times,serif\" font-size=\"14.00\" fill=\"#000000\">gini = 0.255</text>\n<text text-anchor=\"middle\" x=\"1022.5\" y=\"-974.8\" font-family=\"Times,serif\" font-size=\"14.00\" fill=\"#000000\">samples = 20</text>\n<text text-anchor=\"middle\" x=\"1022.5\" y=\"-959.8\" font-family=\"Times,serif\" font-size=\"14.00\" fill=\"#000000\">value = [3, 17]</text>\n<text text-anchor=\"middle\" x=\"1022.5\" y=\"-944.8\" font-family=\"Times,serif\" font-size=\"14.00\" fill=\"#000000\">class = u</text>\n</g>\n<!-- 56&#45;&gt;58 -->\n<g id=\"edge58\" class=\"edge\">\n<title>56&#45;&gt;58</title>\n<path fill=\"none\" stroke=\"#000000\" d=\"M984.1353,-1055.8796C988.3774,-1047.3236 992.889,-1038.2238 997.2721,-1029.3833\"/>\n<polygon fill=\"#000000\" stroke=\"#000000\" points=\"1000.4703,-1030.8121 1001.7766,-1020.2981 994.1988,-1027.7026 1000.4703,-1030.8121\"/>\n</g>\n<!-- 59 -->\n<g id=\"node60\" class=\"node\">\n<title>59</title>\n<polygon fill=\"#50a9e8\" stroke=\"#000000\" points=\"1015.5,-901 913.5,-901 913.5,-818 1015.5,-818 1015.5,-901\"/>\n<text text-anchor=\"middle\" x=\"964.5\" y=\"-885.8\" font-family=\"Times,serif\" font-size=\"14.00\" fill=\"#000000\">Fare &lt;= 7.681</text>\n<text text-anchor=\"middle\" x=\"964.5\" y=\"-870.8\" font-family=\"Times,serif\" font-size=\"14.00\" fill=\"#000000\">gini = 0.188</text>\n<text text-anchor=\"middle\" x=\"964.5\" y=\"-855.8\" font-family=\"Times,serif\" font-size=\"14.00\" fill=\"#000000\">samples = 19</text>\n<text text-anchor=\"middle\" x=\"964.5\" y=\"-840.8\" font-family=\"Times,serif\" font-size=\"14.00\" fill=\"#000000\">value = [2, 17]</text>\n<text text-anchor=\"middle\" x=\"964.5\" y=\"-825.8\" font-family=\"Times,serif\" font-size=\"14.00\" fill=\"#000000\">class = u</text>\n</g>\n<!-- 58&#45;&gt;59 -->\n<g id=\"edge59\" class=\"edge\">\n<title>58&#45;&gt;59</title>\n<path fill=\"none\" stroke=\"#000000\" d=\"M1002.2144,-936.8796C998.0443,-928.3236 993.6091,-919.2238 989.3003,-910.3833\"/>\n<polygon fill=\"#000000\" stroke=\"#000000\" points=\"992.3997,-908.7538 984.8722,-901.2981 986.1073,-911.8207 992.3997,-908.7538\"/>\n</g>\n<!-- 70 -->\n<g id=\"node71\" class=\"node\">\n<title>70</title>\n<polygon fill=\"#e58139\" stroke=\"#000000\" points=\"1129,-893.5 1034,-893.5 1034,-825.5 1129,-825.5 1129,-893.5\"/>\n<text text-anchor=\"middle\" x=\"1081.5\" y=\"-878.3\" font-family=\"Times,serif\" font-size=\"14.00\" fill=\"#000000\">gini = 0.0</text>\n<text text-anchor=\"middle\" x=\"1081.5\" y=\"-863.3\" font-family=\"Times,serif\" font-size=\"14.00\" fill=\"#000000\">samples = 1</text>\n<text text-anchor=\"middle\" x=\"1081.5\" y=\"-848.3\" font-family=\"Times,serif\" font-size=\"14.00\" fill=\"#000000\">value = [1, 0]</text>\n<text text-anchor=\"middle\" x=\"1081.5\" y=\"-833.3\" font-family=\"Times,serif\" font-size=\"14.00\" fill=\"#000000\">class = S</text>\n</g>\n<!-- 58&#45;&gt;70 -->\n<g id=\"edge70\" class=\"edge\">\n<title>58&#45;&gt;70</title>\n<path fill=\"none\" stroke=\"#000000\" d=\"M1043.1353,-936.8796C1048.5872,-925.8835 1054.4843,-913.9893 1059.9816,-902.9015\"/>\n<polygon fill=\"#000000\" stroke=\"#000000\" points=\"1063.1804,-904.3289 1064.4867,-893.8149 1056.9089,-901.2195 1063.1804,-904.3289\"/>\n</g>\n<!-- 60 -->\n<g id=\"node61\" class=\"node\">\n<title>60</title>\n<polygon fill=\"#9ccef2\" stroke=\"#000000\" points=\"955,-782 856,-782 856,-699 955,-699 955,-782\"/>\n<text text-anchor=\"middle\" x=\"905.5\" y=\"-766.8\" font-family=\"Times,serif\" font-size=\"14.00\" fill=\"#000000\">Fare &lt;= 7.429</text>\n<text text-anchor=\"middle\" x=\"905.5\" y=\"-751.8\" font-family=\"Times,serif\" font-size=\"14.00\" fill=\"#000000\">gini = 0.444</text>\n<text text-anchor=\"middle\" x=\"905.5\" y=\"-736.8\" font-family=\"Times,serif\" font-size=\"14.00\" fill=\"#000000\">samples = 3</text>\n<text text-anchor=\"middle\" x=\"905.5\" y=\"-721.8\" font-family=\"Times,serif\" font-size=\"14.00\" fill=\"#000000\">value = [1, 2]</text>\n<text text-anchor=\"middle\" x=\"905.5\" y=\"-706.8\" font-family=\"Times,serif\" font-size=\"14.00\" fill=\"#000000\">class = u</text>\n</g>\n<!-- 59&#45;&gt;60 -->\n<g id=\"edge60\" class=\"edge\">\n<title>59&#45;&gt;60</title>\n<path fill=\"none\" stroke=\"#000000\" d=\"M943.8647,-817.8796C939.6226,-809.3236 935.111,-800.2238 930.7279,-791.3833\"/>\n<polygon fill=\"#000000\" stroke=\"#000000\" points=\"933.8012,-789.7026 926.2234,-782.2981 927.5297,-792.8121 933.8012,-789.7026\"/>\n</g>\n<!-- 63 -->\n<g id=\"node64\" class=\"node\">\n<title>63</title>\n<polygon fill=\"#46a4e7\" stroke=\"#000000\" points=\"1075.5,-782 973.5,-782 973.5,-699 1075.5,-699 1075.5,-782\"/>\n<text text-anchor=\"middle\" x=\"1024.5\" y=\"-766.8\" font-family=\"Times,serif\" font-size=\"14.00\" fill=\"#000000\">Fare &lt;= 7.769</text>\n<text text-anchor=\"middle\" x=\"1024.5\" y=\"-751.8\" font-family=\"Times,serif\" font-size=\"14.00\" fill=\"#000000\">gini = 0.117</text>\n<text text-anchor=\"middle\" x=\"1024.5\" y=\"-736.8\" font-family=\"Times,serif\" font-size=\"14.00\" fill=\"#000000\">samples = 16</text>\n<text text-anchor=\"middle\" x=\"1024.5\" y=\"-721.8\" font-family=\"Times,serif\" font-size=\"14.00\" fill=\"#000000\">value = [1, 15]</text>\n<text text-anchor=\"middle\" x=\"1024.5\" y=\"-706.8\" font-family=\"Times,serif\" font-size=\"14.00\" fill=\"#000000\">class = u</text>\n</g>\n<!-- 59&#45;&gt;63 -->\n<g id=\"edge63\" class=\"edge\">\n<title>59&#45;&gt;63</title>\n<path fill=\"none\" stroke=\"#000000\" d=\"M985.4851,-817.8796C989.799,-809.3236 994.3872,-800.2238 998.8446,-791.3833\"/>\n<polygon fill=\"#000000\" stroke=\"#000000\" points=\"1002.0484,-792.8031 1003.4253,-782.2981 995.7979,-789.6515 1002.0484,-792.8031\"/>\n</g>\n<!-- 61 -->\n<g id=\"node62\" class=\"node\">\n<title>61</title>\n<polygon fill=\"#399de5\" stroke=\"#000000\" points=\"841,-655.5 746,-655.5 746,-587.5 841,-587.5 841,-655.5\"/>\n<text text-anchor=\"middle\" x=\"793.5\" y=\"-640.3\" font-family=\"Times,serif\" font-size=\"14.00\" fill=\"#000000\">gini = 0.0</text>\n<text text-anchor=\"middle\" x=\"793.5\" y=\"-625.3\" font-family=\"Times,serif\" font-size=\"14.00\" fill=\"#000000\">samples = 2</text>\n<text text-anchor=\"middle\" x=\"793.5\" y=\"-610.3\" font-family=\"Times,serif\" font-size=\"14.00\" fill=\"#000000\">value = [0, 2]</text>\n<text text-anchor=\"middle\" x=\"793.5\" y=\"-595.3\" font-family=\"Times,serif\" font-size=\"14.00\" fill=\"#000000\">class = u</text>\n</g>\n<!-- 60&#45;&gt;61 -->\n<g id=\"edge61\" class=\"edge\">\n<title>60&#45;&gt;61</title>\n<path fill=\"none\" stroke=\"#000000\" d=\"M866.3278,-698.8796C855.4611,-687.3337 843.6624,-674.7976 832.7891,-663.2446\"/>\n<polygon fill=\"#000000\" stroke=\"#000000\" points=\"835.1988,-660.6982 825.7964,-655.8149 830.1014,-665.4958 835.1988,-660.6982\"/>\n</g>\n<!-- 62 -->\n<g id=\"node63\" class=\"node\">\n<title>62</title>\n<polygon fill=\"#e58139\" stroke=\"#000000\" points=\"954,-655.5 859,-655.5 859,-587.5 954,-587.5 954,-655.5\"/>\n<text text-anchor=\"middle\" x=\"906.5\" y=\"-640.3\" font-family=\"Times,serif\" font-size=\"14.00\" fill=\"#000000\">gini = 0.0</text>\n<text text-anchor=\"middle\" x=\"906.5\" y=\"-625.3\" font-family=\"Times,serif\" font-size=\"14.00\" fill=\"#000000\">samples = 1</text>\n<text text-anchor=\"middle\" x=\"906.5\" y=\"-610.3\" font-family=\"Times,serif\" font-size=\"14.00\" fill=\"#000000\">value = [1, 0]</text>\n<text text-anchor=\"middle\" x=\"906.5\" y=\"-595.3\" font-family=\"Times,serif\" font-size=\"14.00\" fill=\"#000000\">class = S</text>\n</g>\n<!-- 60&#45;&gt;62 -->\n<g id=\"edge62\" class=\"edge\">\n<title>60&#45;&gt;62</title>\n<path fill=\"none\" stroke=\"#000000\" d=\"M905.8498,-698.8796C905.9394,-688.2134 906.0361,-676.7021 906.1269,-665.9015\"/>\n<polygon fill=\"#000000\" stroke=\"#000000\" points=\"909.6274,-665.844 906.2116,-655.8149 902.6276,-665.7851 909.6274,-665.844\"/>\n</g>\n<!-- 64 -->\n<g id=\"node65\" class=\"node\">\n<title>64</title>\n<polygon fill=\"#4da7e8\" stroke=\"#000000\" points=\"1075.5,-663 973.5,-663 973.5,-580 1075.5,-580 1075.5,-663\"/>\n<text text-anchor=\"middle\" x=\"1024.5\" y=\"-647.8\" font-family=\"Times,serif\" font-size=\"14.00\" fill=\"#000000\">Fare &lt;= 7.744</text>\n<text text-anchor=\"middle\" x=\"1024.5\" y=\"-632.8\" font-family=\"Times,serif\" font-size=\"14.00\" fill=\"#000000\">gini = 0.165</text>\n<text text-anchor=\"middle\" x=\"1024.5\" y=\"-617.8\" font-family=\"Times,serif\" font-size=\"14.00\" fill=\"#000000\">samples = 11</text>\n<text text-anchor=\"middle\" x=\"1024.5\" y=\"-602.8\" font-family=\"Times,serif\" font-size=\"14.00\" fill=\"#000000\">value = [1, 10]</text>\n<text text-anchor=\"middle\" x=\"1024.5\" y=\"-587.8\" font-family=\"Times,serif\" font-size=\"14.00\" fill=\"#000000\">class = u</text>\n</g>\n<!-- 63&#45;&gt;64 -->\n<g id=\"edge64\" class=\"edge\">\n<title>63&#45;&gt;64</title>\n<path fill=\"none\" stroke=\"#000000\" d=\"M1024.5,-698.8796C1024.5,-690.6838 1024.5,-681.9891 1024.5,-673.5013\"/>\n<polygon fill=\"#000000\" stroke=\"#000000\" points=\"1028.0001,-673.298 1024.5,-663.2981 1021.0001,-673.2981 1028.0001,-673.298\"/>\n</g>\n<!-- 69 -->\n<g id=\"node70\" class=\"node\">\n<title>69</title>\n<polygon fill=\"#399de5\" stroke=\"#000000\" points=\"1189,-655.5 1094,-655.5 1094,-587.5 1189,-587.5 1189,-655.5\"/>\n<text text-anchor=\"middle\" x=\"1141.5\" y=\"-640.3\" font-family=\"Times,serif\" font-size=\"14.00\" fill=\"#000000\">gini = 0.0</text>\n<text text-anchor=\"middle\" x=\"1141.5\" y=\"-625.3\" font-family=\"Times,serif\" font-size=\"14.00\" fill=\"#000000\">samples = 5</text>\n<text text-anchor=\"middle\" x=\"1141.5\" y=\"-610.3\" font-family=\"Times,serif\" font-size=\"14.00\" fill=\"#000000\">value = [0, 5]</text>\n<text text-anchor=\"middle\" x=\"1141.5\" y=\"-595.3\" font-family=\"Times,serif\" font-size=\"14.00\" fill=\"#000000\">class = u</text>\n</g>\n<!-- 63&#45;&gt;69 -->\n<g id=\"edge69\" class=\"edge\">\n<title>63&#45;&gt;69</title>\n<path fill=\"none\" stroke=\"#000000\" d=\"M1065.4209,-698.8796C1076.7728,-687.3337 1089.0982,-674.7976 1100.457,-663.2446\"/>\n<polygon fill=\"#000000\" stroke=\"#000000\" points=\"1103.2466,-665.3995 1107.7618,-655.8149 1098.2551,-660.4919 1103.2466,-665.3995\"/>\n</g>\n<!-- 65 -->\n<g id=\"node66\" class=\"node\">\n<title>65</title>\n<polygon fill=\"#399de5\" stroke=\"#000000\" points=\"1016,-536.5 921,-536.5 921,-468.5 1016,-468.5 1016,-536.5\"/>\n<text text-anchor=\"middle\" x=\"968.5\" y=\"-521.3\" font-family=\"Times,serif\" font-size=\"14.00\" fill=\"#000000\">gini = 0.0</text>\n<text text-anchor=\"middle\" x=\"968.5\" y=\"-506.3\" font-family=\"Times,serif\" font-size=\"14.00\" fill=\"#000000\">samples = 2</text>\n<text text-anchor=\"middle\" x=\"968.5\" y=\"-491.3\" font-family=\"Times,serif\" font-size=\"14.00\" fill=\"#000000\">value = [0, 2]</text>\n<text text-anchor=\"middle\" x=\"968.5\" y=\"-476.3\" font-family=\"Times,serif\" font-size=\"14.00\" fill=\"#000000\">class = u</text>\n</g>\n<!-- 64&#45;&gt;65 -->\n<g id=\"edge65\" class=\"edge\">\n<title>64&#45;&gt;65</title>\n<path fill=\"none\" stroke=\"#000000\" d=\"M1004.9139,-579.8796C999.7393,-568.8835 994.142,-556.9893 988.9242,-545.9015\"/>\n<polygon fill=\"#000000\" stroke=\"#000000\" points=\"992.0731,-544.3728 984.6482,-536.8149 985.7394,-547.3534 992.0731,-544.3728\"/>\n</g>\n<!-- 66 -->\n<g id=\"node67\" class=\"node\">\n<title>66</title>\n<polygon fill=\"#52a9e8\" stroke=\"#000000\" points=\"1129,-544 1034,-544 1034,-461 1129,-461 1129,-544\"/>\n<text text-anchor=\"middle\" x=\"1081.5\" y=\"-528.8\" font-family=\"Times,serif\" font-size=\"14.00\" fill=\"#000000\">Age &lt;= 25.5</text>\n<text text-anchor=\"middle\" x=\"1081.5\" y=\"-513.8\" font-family=\"Times,serif\" font-size=\"14.00\" fill=\"#000000\">gini = 0.198</text>\n<text text-anchor=\"middle\" x=\"1081.5\" y=\"-498.8\" font-family=\"Times,serif\" font-size=\"14.00\" fill=\"#000000\">samples = 9</text>\n<text text-anchor=\"middle\" x=\"1081.5\" y=\"-483.8\" font-family=\"Times,serif\" font-size=\"14.00\" fill=\"#000000\">value = [1, 8]</text>\n<text text-anchor=\"middle\" x=\"1081.5\" y=\"-468.8\" font-family=\"Times,serif\" font-size=\"14.00\" fill=\"#000000\">class = u</text>\n</g>\n<!-- 64&#45;&gt;66 -->\n<g id=\"edge66\" class=\"edge\">\n<title>64&#45;&gt;66</title>\n<path fill=\"none\" stroke=\"#000000\" d=\"M1044.4358,-579.8796C1048.5341,-571.3236 1052.8928,-562.2238 1057.1273,-553.3833\"/>\n<polygon fill=\"#000000\" stroke=\"#000000\" points=\"1060.3157,-554.8288 1061.4791,-544.2981 1054.0025,-551.8049 1060.3157,-554.8288\"/>\n</g>\n<!-- 67 -->\n<g id=\"node68\" class=\"node\">\n<title>67</title>\n<polygon fill=\"#399de5\" stroke=\"#000000\" points=\"1072,-417.5 977,-417.5 977,-349.5 1072,-349.5 1072,-417.5\"/>\n<text text-anchor=\"middle\" x=\"1024.5\" y=\"-402.3\" font-family=\"Times,serif\" font-size=\"14.00\" fill=\"#000000\">gini = 0.0</text>\n<text text-anchor=\"middle\" x=\"1024.5\" y=\"-387.3\" font-family=\"Times,serif\" font-size=\"14.00\" fill=\"#000000\">samples = 1</text>\n<text text-anchor=\"middle\" x=\"1024.5\" y=\"-372.3\" font-family=\"Times,serif\" font-size=\"14.00\" fill=\"#000000\">value = [0, 1]</text>\n<text text-anchor=\"middle\" x=\"1024.5\" y=\"-357.3\" font-family=\"Times,serif\" font-size=\"14.00\" fill=\"#000000\">class = u</text>\n</g>\n<!-- 66&#45;&gt;67 -->\n<g id=\"edge67\" class=\"edge\">\n<title>66&#45;&gt;67</title>\n<path fill=\"none\" stroke=\"#000000\" d=\"M1061.5642,-460.8796C1056.2971,-449.8835 1050.5999,-437.9893 1045.289,-426.9015\"/>\n<polygon fill=\"#000000\" stroke=\"#000000\" points=\"1048.4131,-425.3217 1040.9366,-417.8149 1042.1,-428.3457 1048.4131,-425.3217\"/>\n</g>\n<!-- 68 -->\n<g id=\"node69\" class=\"node\">\n<title>68</title>\n<polygon fill=\"#55abe9\" stroke=\"#000000\" points=\"1185,-417.5 1090,-417.5 1090,-349.5 1185,-349.5 1185,-417.5\"/>\n<text text-anchor=\"middle\" x=\"1137.5\" y=\"-402.3\" font-family=\"Times,serif\" font-size=\"14.00\" fill=\"#000000\">gini = 0.219</text>\n<text text-anchor=\"middle\" x=\"1137.5\" y=\"-387.3\" font-family=\"Times,serif\" font-size=\"14.00\" fill=\"#000000\">samples = 8</text>\n<text text-anchor=\"middle\" x=\"1137.5\" y=\"-372.3\" font-family=\"Times,serif\" font-size=\"14.00\" fill=\"#000000\">value = [1, 7]</text>\n<text text-anchor=\"middle\" x=\"1137.5\" y=\"-357.3\" font-family=\"Times,serif\" font-size=\"14.00\" fill=\"#000000\">class = u</text>\n</g>\n<!-- 66&#45;&gt;68 -->\n<g id=\"edge68\" class=\"edge\">\n<title>66&#45;&gt;68</title>\n<path fill=\"none\" stroke=\"#000000\" d=\"M1101.0861,-460.8796C1106.2607,-449.8835 1111.858,-437.9893 1117.0758,-426.9015\"/>\n<polygon fill=\"#000000\" stroke=\"#000000\" points=\"1120.2606,-428.3534 1121.3518,-417.8149 1113.9269,-425.3728 1120.2606,-428.3534\"/>\n</g>\n<!-- 73 -->\n<g id=\"node74\" class=\"node\">\n<title>73</title>\n<polygon fill=\"#e9965a\" stroke=\"#000000\" points=\"1235,-1377 1140,-1377 1140,-1294 1235,-1294 1235,-1377\"/>\n<text text-anchor=\"middle\" x=\"1187.5\" y=\"-1361.8\" font-family=\"Times,serif\" font-size=\"14.00\" fill=\"#000000\">Age &lt;= 16.0</text>\n<text text-anchor=\"middle\" x=\"1187.5\" y=\"-1346.8\" font-family=\"Times,serif\" font-size=\"14.00\" fill=\"#000000\">gini = 0.245</text>\n<text text-anchor=\"middle\" x=\"1187.5\" y=\"-1331.8\" font-family=\"Times,serif\" font-size=\"14.00\" fill=\"#000000\">samples = 7</text>\n<text text-anchor=\"middle\" x=\"1187.5\" y=\"-1316.8\" font-family=\"Times,serif\" font-size=\"14.00\" fill=\"#000000\">value = [6, 1]</text>\n<text text-anchor=\"middle\" x=\"1187.5\" y=\"-1301.8\" font-family=\"Times,serif\" font-size=\"14.00\" fill=\"#000000\">class = S</text>\n</g>\n<!-- 72&#45;&gt;73 -->\n<g id=\"edge73\" class=\"edge\">\n<title>72&#45;&gt;73</title>\n<path fill=\"none\" stroke=\"#000000\" d=\"M1188.1502,-1412.8796C1188.0814,-1404.6838 1188.0083,-1395.9891 1187.937,-1387.5013\"/>\n<polygon fill=\"#000000\" stroke=\"#000000\" points=\"1191.4352,-1387.2683 1187.8512,-1377.2981 1184.4355,-1387.3272 1191.4352,-1387.2683\"/>\n</g>\n<!-- 78 -->\n<g id=\"node79\" class=\"node\">\n<title>78</title>\n<polygon fill=\"#ffffff\" stroke=\"#000000\" points=\"1348,-1369.5 1253,-1369.5 1253,-1301.5 1348,-1301.5 1348,-1369.5\"/>\n<text text-anchor=\"middle\" x=\"1300.5\" y=\"-1354.3\" font-family=\"Times,serif\" font-size=\"14.00\" fill=\"#000000\">gini = 0.5</text>\n<text text-anchor=\"middle\" x=\"1300.5\" y=\"-1339.3\" font-family=\"Times,serif\" font-size=\"14.00\" fill=\"#000000\">samples = 2</text>\n<text text-anchor=\"middle\" x=\"1300.5\" y=\"-1324.3\" font-family=\"Times,serif\" font-size=\"14.00\" fill=\"#000000\">value = [1, 1]</text>\n<text text-anchor=\"middle\" x=\"1300.5\" y=\"-1309.3\" font-family=\"Times,serif\" font-size=\"14.00\" fill=\"#000000\">class = S</text>\n</g>\n<!-- 72&#45;&gt;78 -->\n<g id=\"edge78\" class=\"edge\">\n<title>72&#45;&gt;78</title>\n<path fill=\"none\" stroke=\"#000000\" d=\"M1227.6722,-1412.8796C1238.5389,-1401.3337 1250.3376,-1388.7976 1261.2109,-1377.2446\"/>\n<polygon fill=\"#000000\" stroke=\"#000000\" points=\"1263.8986,-1379.4958 1268.2036,-1369.8149 1258.8012,-1374.6982 1263.8986,-1379.4958\"/>\n</g>\n<!-- 74 -->\n<g id=\"node75\" class=\"node\">\n<title>74</title>\n<polygon fill=\"#f2c09c\" stroke=\"#000000\" points=\"1129.5,-1258 1031.5,-1258 1031.5,-1175 1129.5,-1175 1129.5,-1258\"/>\n<text text-anchor=\"middle\" x=\"1080.5\" y=\"-1242.8\" font-family=\"Times,serif\" font-size=\"14.00\" fill=\"#000000\">Age &lt;= 14.75</text>\n<text text-anchor=\"middle\" x=\"1080.5\" y=\"-1227.8\" font-family=\"Times,serif\" font-size=\"14.00\" fill=\"#000000\">gini = 0.444</text>\n<text text-anchor=\"middle\" x=\"1080.5\" y=\"-1212.8\" font-family=\"Times,serif\" font-size=\"14.00\" fill=\"#000000\">samples = 3</text>\n<text text-anchor=\"middle\" x=\"1080.5\" y=\"-1197.8\" font-family=\"Times,serif\" font-size=\"14.00\" fill=\"#000000\">value = [2, 1]</text>\n<text text-anchor=\"middle\" x=\"1080.5\" y=\"-1182.8\" font-family=\"Times,serif\" font-size=\"14.00\" fill=\"#000000\">class = S</text>\n</g>\n<!-- 73&#45;&gt;74 -->\n<g id=\"edge74\" class=\"edge\">\n<title>73&#45;&gt;74</title>\n<path fill=\"none\" stroke=\"#000000\" d=\"M1150.0766,-1293.8796C1141.9785,-1284.8733 1133.3386,-1275.2644 1124.9991,-1265.9897\"/>\n<polygon fill=\"#000000\" stroke=\"#000000\" points=\"1127.372,-1263.394 1118.0831,-1258.2981 1122.1667,-1268.0743 1127.372,-1263.394\"/>\n</g>\n<!-- 77 -->\n<g id=\"node78\" class=\"node\">\n<title>77</title>\n<polygon fill=\"#e58139\" stroke=\"#000000\" points=\"1243,-1250.5 1148,-1250.5 1148,-1182.5 1243,-1182.5 1243,-1250.5\"/>\n<text text-anchor=\"middle\" x=\"1195.5\" y=\"-1235.3\" font-family=\"Times,serif\" font-size=\"14.00\" fill=\"#000000\">gini = 0.0</text>\n<text text-anchor=\"middle\" x=\"1195.5\" y=\"-1220.3\" font-family=\"Times,serif\" font-size=\"14.00\" fill=\"#000000\">samples = 4</text>\n<text text-anchor=\"middle\" x=\"1195.5\" y=\"-1205.3\" font-family=\"Times,serif\" font-size=\"14.00\" fill=\"#000000\">value = [4, 0]</text>\n<text text-anchor=\"middle\" x=\"1195.5\" y=\"-1190.3\" font-family=\"Times,serif\" font-size=\"14.00\" fill=\"#000000\">class = S</text>\n</g>\n<!-- 73&#45;&gt;77 -->\n<g id=\"edge77\" class=\"edge\">\n<title>73&#45;&gt;77</title>\n<path fill=\"none\" stroke=\"#000000\" d=\"M1190.298,-1293.8796C1191.0151,-1283.2134 1191.7889,-1271.7021 1192.515,-1260.9015\"/>\n<polygon fill=\"#000000\" stroke=\"#000000\" points=\"1196.0144,-1261.0272 1193.1931,-1250.8149 1189.0301,-1260.5576 1196.0144,-1261.0272\"/>\n</g>\n<!-- 75 -->\n<g id=\"node76\" class=\"node\">\n<title>75</title>\n<polygon fill=\"#e58139\" stroke=\"#000000\" points=\"1128,-1131.5 1033,-1131.5 1033,-1063.5 1128,-1063.5 1128,-1131.5\"/>\n<text text-anchor=\"middle\" x=\"1080.5\" y=\"-1116.3\" font-family=\"Times,serif\" font-size=\"14.00\" fill=\"#000000\">gini = 0.0</text>\n<text text-anchor=\"middle\" x=\"1080.5\" y=\"-1101.3\" font-family=\"Times,serif\" font-size=\"14.00\" fill=\"#000000\">samples = 2</text>\n<text text-anchor=\"middle\" x=\"1080.5\" y=\"-1086.3\" font-family=\"Times,serif\" font-size=\"14.00\" fill=\"#000000\">value = [2, 0]</text>\n<text text-anchor=\"middle\" x=\"1080.5\" y=\"-1071.3\" font-family=\"Times,serif\" font-size=\"14.00\" fill=\"#000000\">class = S</text>\n</g>\n<!-- 74&#45;&gt;75 -->\n<g id=\"edge75\" class=\"edge\">\n<title>74&#45;&gt;75</title>\n<path fill=\"none\" stroke=\"#000000\" d=\"M1080.5,-1174.8796C1080.5,-1164.2134 1080.5,-1152.7021 1080.5,-1141.9015\"/>\n<polygon fill=\"#000000\" stroke=\"#000000\" points=\"1084.0001,-1141.8149 1080.5,-1131.8149 1077.0001,-1141.815 1084.0001,-1141.8149\"/>\n</g>\n<!-- 76 -->\n<g id=\"node77\" class=\"node\">\n<title>76</title>\n<polygon fill=\"#399de5\" stroke=\"#000000\" points=\"1241,-1131.5 1146,-1131.5 1146,-1063.5 1241,-1063.5 1241,-1131.5\"/>\n<text text-anchor=\"middle\" x=\"1193.5\" y=\"-1116.3\" font-family=\"Times,serif\" font-size=\"14.00\" fill=\"#000000\">gini = 0.0</text>\n<text text-anchor=\"middle\" x=\"1193.5\" y=\"-1101.3\" font-family=\"Times,serif\" font-size=\"14.00\" fill=\"#000000\">samples = 1</text>\n<text text-anchor=\"middle\" x=\"1193.5\" y=\"-1086.3\" font-family=\"Times,serif\" font-size=\"14.00\" fill=\"#000000\">value = [0, 1]</text>\n<text text-anchor=\"middle\" x=\"1193.5\" y=\"-1071.3\" font-family=\"Times,serif\" font-size=\"14.00\" fill=\"#000000\">class = u</text>\n</g>\n<!-- 74&#45;&gt;76 -->\n<g id=\"edge76\" class=\"edge\">\n<title>74&#45;&gt;76</title>\n<path fill=\"none\" stroke=\"#000000\" d=\"M1120.0219,-1174.8796C1130.9857,-1163.3337 1142.8897,-1150.7976 1153.8601,-1139.2446\"/>\n<polygon fill=\"#000000\" stroke=\"#000000\" points=\"1156.5673,-1141.4766 1160.9152,-1131.8149 1151.4913,-1136.6564 1156.5673,-1141.4766\"/>\n</g>\n<!-- 82 -->\n<g id=\"node83\" class=\"node\">\n<title>82</title>\n<polygon fill=\"#f8decb\" stroke=\"#000000\" points=\"1657.5,-1734 1547.5,-1734 1547.5,-1651 1657.5,-1651 1657.5,-1734\"/>\n<text text-anchor=\"middle\" x=\"1602.5\" y=\"-1718.8\" font-family=\"Times,serif\" font-size=\"14.00\" fill=\"#000000\">Fare &lt;= 7.763</text>\n<text text-anchor=\"middle\" x=\"1602.5\" y=\"-1703.8\" font-family=\"Times,serif\" font-size=\"14.00\" fill=\"#000000\">gini = 0.489</text>\n<text text-anchor=\"middle\" x=\"1602.5\" y=\"-1688.8\" font-family=\"Times,serif\" font-size=\"14.00\" fill=\"#000000\">samples = 33</text>\n<text text-anchor=\"middle\" x=\"1602.5\" y=\"-1673.8\" font-family=\"Times,serif\" font-size=\"14.00\" fill=\"#000000\">value = [19, 14]</text>\n<text text-anchor=\"middle\" x=\"1602.5\" y=\"-1658.8\" font-family=\"Times,serif\" font-size=\"14.00\" fill=\"#000000\">class = S</text>\n</g>\n<!-- 81&#45;&gt;82 -->\n<g id=\"edge82\" class=\"edge\">\n<title>81&#45;&gt;82</title>\n<path fill=\"none\" stroke=\"#000000\" d=\"M1636.3129,-1769.8796C1632.6135,-1761.4136 1628.6815,-1752.4153 1624.8567,-1743.6626\"/>\n<polygon fill=\"#000000\" stroke=\"#000000\" points=\"1627.9761,-1742.0599 1620.7647,-1734.2981 1621.5617,-1744.8629 1627.9761,-1742.0599\"/>\n</g>\n<!-- 103 -->\n<g id=\"node104\" class=\"node\">\n<title>103</title>\n<polygon fill=\"#9ccef2\" stroke=\"#000000\" points=\"1896.5,-1734 1794.5,-1734 1794.5,-1651 1896.5,-1651 1896.5,-1734\"/>\n<text text-anchor=\"middle\" x=\"1845.5\" y=\"-1718.8\" font-family=\"Times,serif\" font-size=\"14.00\" fill=\"#000000\">Fare &lt;= 17.6</text>\n<text text-anchor=\"middle\" x=\"1845.5\" y=\"-1703.8\" font-family=\"Times,serif\" font-size=\"14.00\" fill=\"#000000\">gini = 0.444</text>\n<text text-anchor=\"middle\" x=\"1845.5\" y=\"-1688.8\" font-family=\"Times,serif\" font-size=\"14.00\" fill=\"#000000\">samples = 24</text>\n<text text-anchor=\"middle\" x=\"1845.5\" y=\"-1673.8\" font-family=\"Times,serif\" font-size=\"14.00\" fill=\"#000000\">value = [8, 16]</text>\n<text text-anchor=\"middle\" x=\"1845.5\" y=\"-1658.8\" font-family=\"Times,serif\" font-size=\"14.00\" fill=\"#000000\">class = u</text>\n</g>\n<!-- 81&#45;&gt;103 -->\n<g id=\"edge103\" class=\"edge\">\n<title>81&#45;&gt;103</title>\n<path fill=\"none\" stroke=\"#000000\" d=\"M1709.7451,-1777.0803C1733.4913,-1762.2856 1761.3018,-1744.9586 1785.5468,-1729.853\"/>\n<polygon fill=\"#000000\" stroke=\"#000000\" points=\"1787.6671,-1732.6558 1794.3037,-1724.3971 1783.9654,-1726.7146 1787.6671,-1732.6558\"/>\n</g>\n<!-- 83 -->\n<g id=\"node84\" class=\"node\">\n<title>83</title>\n<polygon fill=\"#61b1ea\" stroke=\"#000000\" points=\"1472,-1615 1377,-1615 1377,-1532 1472,-1532 1472,-1615\"/>\n<text text-anchor=\"middle\" x=\"1424.5\" y=\"-1599.8\" font-family=\"Times,serif\" font-size=\"14.00\" fill=\"#000000\">Age &lt;= 26.0</text>\n<text text-anchor=\"middle\" x=\"1424.5\" y=\"-1584.8\" font-family=\"Times,serif\" font-size=\"14.00\" fill=\"#000000\">gini = 0.278</text>\n<text text-anchor=\"middle\" x=\"1424.5\" y=\"-1569.8\" font-family=\"Times,serif\" font-size=\"14.00\" fill=\"#000000\">samples = 6</text>\n<text text-anchor=\"middle\" x=\"1424.5\" y=\"-1554.8\" font-family=\"Times,serif\" font-size=\"14.00\" fill=\"#000000\">value = [1, 5]</text>\n<text text-anchor=\"middle\" x=\"1424.5\" y=\"-1539.8\" font-family=\"Times,serif\" font-size=\"14.00\" fill=\"#000000\">class = u</text>\n</g>\n<!-- 82&#45;&gt;83 -->\n<g id=\"edge83\" class=\"edge\">\n<title>82&#45;&gt;83</title>\n<path fill=\"none\" stroke=\"#000000\" d=\"M1547.1554,-1655.5C1525.8928,-1641.2851 1501.6248,-1625.0609 1480.3179,-1610.8165\"/>\n<polygon fill=\"#000000\" stroke=\"#000000\" points=\"1482.262,-1607.9061 1472.0034,-1605.2579 1478.3715,-1613.7254 1482.262,-1607.9061\"/>\n</g>\n<!-- 86 -->\n<g id=\"node87\" class=\"node\">\n<title>86</title>\n<polygon fill=\"#f2c09c\" stroke=\"#000000\" points=\"1653.5,-1615 1551.5,-1615 1551.5,-1532 1653.5,-1532 1653.5,-1615\"/>\n<text text-anchor=\"middle\" x=\"1602.5\" y=\"-1599.8\" font-family=\"Times,serif\" font-size=\"14.00\" fill=\"#000000\">Age &lt;= 19.5</text>\n<text text-anchor=\"middle\" x=\"1602.5\" y=\"-1584.8\" font-family=\"Times,serif\" font-size=\"14.00\" fill=\"#000000\">gini = 0.444</text>\n<text text-anchor=\"middle\" x=\"1602.5\" y=\"-1569.8\" font-family=\"Times,serif\" font-size=\"14.00\" fill=\"#000000\">samples = 27</text>\n<text text-anchor=\"middle\" x=\"1602.5\" y=\"-1554.8\" font-family=\"Times,serif\" font-size=\"14.00\" fill=\"#000000\">value = [18, 9]</text>\n<text text-anchor=\"middle\" x=\"1602.5\" y=\"-1539.8\" font-family=\"Times,serif\" font-size=\"14.00\" fill=\"#000000\">class = S</text>\n</g>\n<!-- 82&#45;&gt;86 -->\n<g id=\"edge86\" class=\"edge\">\n<title>82&#45;&gt;86</title>\n<path fill=\"none\" stroke=\"#000000\" d=\"M1602.5,-1650.8796C1602.5,-1642.6838 1602.5,-1633.9891 1602.5,-1625.5013\"/>\n<polygon fill=\"#000000\" stroke=\"#000000\" points=\"1606.0001,-1625.298 1602.5,-1615.2981 1599.0001,-1625.2981 1606.0001,-1625.298\"/>\n</g>\n<!-- 84 -->\n<g id=\"node85\" class=\"node\">\n<title>84</title>\n<polygon fill=\"#399de5\" stroke=\"#000000\" points=\"1353,-1488.5 1258,-1488.5 1258,-1420.5 1353,-1420.5 1353,-1488.5\"/>\n<text text-anchor=\"middle\" x=\"1305.5\" y=\"-1473.3\" font-family=\"Times,serif\" font-size=\"14.00\" fill=\"#000000\">gini = 0.0</text>\n<text text-anchor=\"middle\" x=\"1305.5\" y=\"-1458.3\" font-family=\"Times,serif\" font-size=\"14.00\" fill=\"#000000\">samples = 5</text>\n<text text-anchor=\"middle\" x=\"1305.5\" y=\"-1443.3\" font-family=\"Times,serif\" font-size=\"14.00\" fill=\"#000000\">value = [0, 5]</text>\n<text text-anchor=\"middle\" x=\"1305.5\" y=\"-1428.3\" font-family=\"Times,serif\" font-size=\"14.00\" fill=\"#000000\">class = u</text>\n</g>\n<!-- 83&#45;&gt;84 -->\n<g id=\"edge84\" class=\"edge\">\n<title>83&#45;&gt;84</title>\n<path fill=\"none\" stroke=\"#000000\" d=\"M1382.8796,-1531.8796C1371.2237,-1520.2237 1358.5587,-1507.5587 1346.9148,-1495.9148\"/>\n<polygon fill=\"#000000\" stroke=\"#000000\" points=\"1349.3609,-1493.4111 1339.8149,-1488.8149 1344.4111,-1498.3609 1349.3609,-1493.4111\"/>\n</g>\n<!-- 85 -->\n<g id=\"node86\" class=\"node\">\n<title>85</title>\n<polygon fill=\"#e58139\" stroke=\"#000000\" points=\"1466,-1488.5 1371,-1488.5 1371,-1420.5 1466,-1420.5 1466,-1488.5\"/>\n<text text-anchor=\"middle\" x=\"1418.5\" y=\"-1473.3\" font-family=\"Times,serif\" font-size=\"14.00\" fill=\"#000000\">gini = 0.0</text>\n<text text-anchor=\"middle\" x=\"1418.5\" y=\"-1458.3\" font-family=\"Times,serif\" font-size=\"14.00\" fill=\"#000000\">samples = 1</text>\n<text text-anchor=\"middle\" x=\"1418.5\" y=\"-1443.3\" font-family=\"Times,serif\" font-size=\"14.00\" fill=\"#000000\">value = [1, 0]</text>\n<text text-anchor=\"middle\" x=\"1418.5\" y=\"-1428.3\" font-family=\"Times,serif\" font-size=\"14.00\" fill=\"#000000\">class = S</text>\n</g>\n<!-- 83&#45;&gt;85 -->\n<g id=\"edge85\" class=\"edge\">\n<title>83&#45;&gt;85</title>\n<path fill=\"none\" stroke=\"#000000\" d=\"M1422.4015,-1531.8796C1421.8637,-1521.2134 1421.2833,-1509.7021 1420.7387,-1498.9015\"/>\n<polygon fill=\"#000000\" stroke=\"#000000\" points=\"1424.2294,-1498.626 1420.2302,-1488.8149 1417.2383,-1498.9785 1424.2294,-1498.626\"/>\n</g>\n<!-- 87 -->\n<g id=\"node88\" class=\"node\">\n<title>87</title>\n<polygon fill=\"#cee6f8\" stroke=\"#000000\" points=\"1579,-1496 1484,-1496 1484,-1413 1579,-1413 1579,-1496\"/>\n<text text-anchor=\"middle\" x=\"1531.5\" y=\"-1480.8\" font-family=\"Times,serif\" font-size=\"14.00\" fill=\"#000000\">Age &lt;= 15.5</text>\n<text text-anchor=\"middle\" x=\"1531.5\" y=\"-1465.8\" font-family=\"Times,serif\" font-size=\"14.00\" fill=\"#000000\">gini = 0.49</text>\n<text text-anchor=\"middle\" x=\"1531.5\" y=\"-1450.8\" font-family=\"Times,serif\" font-size=\"14.00\" fill=\"#000000\">samples = 7</text>\n<text text-anchor=\"middle\" x=\"1531.5\" y=\"-1435.8\" font-family=\"Times,serif\" font-size=\"14.00\" fill=\"#000000\">value = [3, 4]</text>\n<text text-anchor=\"middle\" x=\"1531.5\" y=\"-1420.8\" font-family=\"Times,serif\" font-size=\"14.00\" fill=\"#000000\">class = u</text>\n</g>\n<!-- 86&#45;&gt;87 -->\n<g id=\"edge87\" class=\"edge\">\n<title>86&#45;&gt;87</title>\n<path fill=\"none\" stroke=\"#000000\" d=\"M1577.6676,-1531.8796C1572.5091,-1523.2335 1567.0192,-1514.0322 1561.6924,-1505.1042\"/>\n<polygon fill=\"#000000\" stroke=\"#000000\" points=\"1564.5678,-1503.0924 1556.4383,-1496.2981 1558.5564,-1506.679 1564.5678,-1503.0924\"/>\n</g>\n<!-- 92 -->\n<g id=\"node93\" class=\"node\">\n<title>92</title>\n<polygon fill=\"#eeab7b\" stroke=\"#000000\" points=\"1699.5,-1496 1597.5,-1496 1597.5,-1413 1699.5,-1413 1699.5,-1496\"/>\n<text text-anchor=\"middle\" x=\"1648.5\" y=\"-1480.8\" font-family=\"Times,serif\" font-size=\"14.00\" fill=\"#000000\">Fare &lt;= 7.988</text>\n<text text-anchor=\"middle\" x=\"1648.5\" y=\"-1465.8\" font-family=\"Times,serif\" font-size=\"14.00\" fill=\"#000000\">gini = 0.375</text>\n<text text-anchor=\"middle\" x=\"1648.5\" y=\"-1450.8\" font-family=\"Times,serif\" font-size=\"14.00\" fill=\"#000000\">samples = 20</text>\n<text text-anchor=\"middle\" x=\"1648.5\" y=\"-1435.8\" font-family=\"Times,serif\" font-size=\"14.00\" fill=\"#000000\">value = [15, 5]</text>\n<text text-anchor=\"middle\" x=\"1648.5\" y=\"-1420.8\" font-family=\"Times,serif\" font-size=\"14.00\" fill=\"#000000\">class = S</text>\n</g>\n<!-- 86&#45;&gt;92 -->\n<g id=\"edge92\" class=\"edge\">\n<title>86&#45;&gt;92</title>\n<path fill=\"none\" stroke=\"#000000\" d=\"M1618.5886,-1531.8796C1621.8611,-1523.4136 1625.3395,-1514.4153 1628.7229,-1505.6626\"/>\n<polygon fill=\"#000000\" stroke=\"#000000\" points=\"1632.0017,-1506.8874 1632.3428,-1496.2981 1625.4726,-1504.3635 1632.0017,-1506.8874\"/>\n</g>\n<!-- 88 -->\n<g id=\"node89\" class=\"node\">\n<title>88</title>\n<polygon fill=\"#e58139\" stroke=\"#000000\" points=\"1462,-1369.5 1367,-1369.5 1367,-1301.5 1462,-1301.5 1462,-1369.5\"/>\n<text text-anchor=\"middle\" x=\"1414.5\" y=\"-1354.3\" font-family=\"Times,serif\" font-size=\"14.00\" fill=\"#000000\">gini = 0.0</text>\n<text text-anchor=\"middle\" x=\"1414.5\" y=\"-1339.3\" font-family=\"Times,serif\" font-size=\"14.00\" fill=\"#000000\">samples = 2</text>\n<text text-anchor=\"middle\" x=\"1414.5\" y=\"-1324.3\" font-family=\"Times,serif\" font-size=\"14.00\" fill=\"#000000\">value = [2, 0]</text>\n<text text-anchor=\"middle\" x=\"1414.5\" y=\"-1309.3\" font-family=\"Times,serif\" font-size=\"14.00\" fill=\"#000000\">class = S</text>\n</g>\n<!-- 87&#45;&gt;88 -->\n<g id=\"edge88\" class=\"edge\">\n<title>87&#45;&gt;88</title>\n<path fill=\"none\" stroke=\"#000000\" d=\"M1490.5791,-1412.8796C1479.2272,-1401.3337 1466.9018,-1388.7976 1455.543,-1377.2446\"/>\n<polygon fill=\"#000000\" stroke=\"#000000\" points=\"1457.7449,-1374.4919 1448.2382,-1369.8149 1452.7534,-1379.3995 1457.7449,-1374.4919\"/>\n</g>\n<!-- 89 -->\n<g id=\"node90\" class=\"node\">\n<title>89</title>\n<polygon fill=\"#6ab6ec\" stroke=\"#000000\" points=\"1579,-1377 1480,-1377 1480,-1294 1579,-1294 1579,-1377\"/>\n<text text-anchor=\"middle\" x=\"1529.5\" y=\"-1361.8\" font-family=\"Times,serif\" font-size=\"14.00\" fill=\"#000000\">Fare &lt;= 7.815</text>\n<text text-anchor=\"middle\" x=\"1529.5\" y=\"-1346.8\" font-family=\"Times,serif\" font-size=\"14.00\" fill=\"#000000\">gini = 0.32</text>\n<text text-anchor=\"middle\" x=\"1529.5\" y=\"-1331.8\" font-family=\"Times,serif\" font-size=\"14.00\" fill=\"#000000\">samples = 5</text>\n<text text-anchor=\"middle\" x=\"1529.5\" y=\"-1316.8\" font-family=\"Times,serif\" font-size=\"14.00\" fill=\"#000000\">value = [1, 4]</text>\n<text text-anchor=\"middle\" x=\"1529.5\" y=\"-1301.8\" font-family=\"Times,serif\" font-size=\"14.00\" fill=\"#000000\">class = u</text>\n</g>\n<!-- 87&#45;&gt;89 -->\n<g id=\"edge89\" class=\"edge\">\n<title>87&#45;&gt;89</title>\n<path fill=\"none\" stroke=\"#000000\" d=\"M1530.8005,-1412.8796C1530.6628,-1404.6838 1530.5166,-1395.9891 1530.374,-1387.5013\"/>\n<polygon fill=\"#000000\" stroke=\"#000000\" points=\"1533.8701,-1387.2378 1530.2025,-1377.2981 1526.8711,-1387.3555 1533.8701,-1387.2378\"/>\n</g>\n<!-- 90 -->\n<g id=\"node91\" class=\"node\">\n<title>90</title>\n<polygon fill=\"#e58139\" stroke=\"#000000\" points=\"1356,-1250.5 1261,-1250.5 1261,-1182.5 1356,-1182.5 1356,-1250.5\"/>\n<text text-anchor=\"middle\" x=\"1308.5\" y=\"-1235.3\" font-family=\"Times,serif\" font-size=\"14.00\" fill=\"#000000\">gini = 0.0</text>\n<text text-anchor=\"middle\" x=\"1308.5\" y=\"-1220.3\" font-family=\"Times,serif\" font-size=\"14.00\" fill=\"#000000\">samples = 1</text>\n<text text-anchor=\"middle\" x=\"1308.5\" y=\"-1205.3\" font-family=\"Times,serif\" font-size=\"14.00\" fill=\"#000000\">value = [1, 0]</text>\n<text text-anchor=\"middle\" x=\"1308.5\" y=\"-1190.3\" font-family=\"Times,serif\" font-size=\"14.00\" fill=\"#000000\">class = S</text>\n</g>\n<!-- 89&#45;&gt;90 -->\n<g id=\"edge90\" class=\"edge\">\n<title>89&#45;&gt;90</title>\n<path fill=\"none\" stroke=\"#000000\" d=\"M1479.9017,-1299.1612C1476.7739,-1297.3263 1473.626,-1295.5887 1470.5,-1294 1426.1454,-1271.4583 1408.5721,-1281.0892 1364.5,-1258 1363.1936,-1257.3156 1361.8847,-1256.6023 1360.5765,-1255.8644\"/>\n<polygon fill=\"#000000\" stroke=\"#000000\" points=\"1362.3566,-1252.8508 1351.9858,-1250.6831 1358.7413,-1258.8449 1362.3566,-1252.8508\"/>\n</g>\n<!-- 91 -->\n<g id=\"node92\" class=\"node\">\n<title>91</title>\n<polygon fill=\"#399de5\" stroke=\"#000000\" points=\"1469,-1250.5 1374,-1250.5 1374,-1182.5 1469,-1182.5 1469,-1250.5\"/>\n<text text-anchor=\"middle\" x=\"1421.5\" y=\"-1235.3\" font-family=\"Times,serif\" font-size=\"14.00\" fill=\"#000000\">gini = 0.0</text>\n<text text-anchor=\"middle\" x=\"1421.5\" y=\"-1220.3\" font-family=\"Times,serif\" font-size=\"14.00\" fill=\"#000000\">samples = 4</text>\n<text text-anchor=\"middle\" x=\"1421.5\" y=\"-1205.3\" font-family=\"Times,serif\" font-size=\"14.00\" fill=\"#000000\">value = [0, 4]</text>\n<text text-anchor=\"middle\" x=\"1421.5\" y=\"-1190.3\" font-family=\"Times,serif\" font-size=\"14.00\" fill=\"#000000\">class = u</text>\n</g>\n<!-- 89&#45;&gt;91 -->\n<g id=\"edge91\" class=\"edge\">\n<title>89&#45;&gt;91</title>\n<path fill=\"none\" stroke=\"#000000\" d=\"M1491.7268,-1293.8796C1481.2482,-1282.3337 1469.8709,-1269.7976 1459.3859,-1258.2446\"/>\n<polygon fill=\"#000000\" stroke=\"#000000\" points=\"1461.9553,-1255.8678 1452.643,-1250.8149 1456.7718,-1260.5722 1461.9553,-1255.8678\"/>\n</g>\n<!-- 93 -->\n<g id=\"node94\" class=\"node\">\n<title>93</title>\n<polygon fill=\"#fae6d7\" stroke=\"#000000\" points=\"1695,-1377 1600,-1377 1600,-1294 1695,-1294 1695,-1377\"/>\n<text text-anchor=\"middle\" x=\"1647.5\" y=\"-1361.8\" font-family=\"Times,serif\" font-size=\"14.00\" fill=\"#000000\">Age &lt;= 27.5</text>\n<text text-anchor=\"middle\" x=\"1647.5\" y=\"-1346.8\" font-family=\"Times,serif\" font-size=\"14.00\" fill=\"#000000\">gini = 0.494</text>\n<text text-anchor=\"middle\" x=\"1647.5\" y=\"-1331.8\" font-family=\"Times,serif\" font-size=\"14.00\" fill=\"#000000\">samples = 9</text>\n<text text-anchor=\"middle\" x=\"1647.5\" y=\"-1316.8\" font-family=\"Times,serif\" font-size=\"14.00\" fill=\"#000000\">value = [5, 4]</text>\n<text text-anchor=\"middle\" x=\"1647.5\" y=\"-1301.8\" font-family=\"Times,serif\" font-size=\"14.00\" fill=\"#000000\">class = S</text>\n</g>\n<!-- 92&#45;&gt;93 -->\n<g id=\"edge93\" class=\"edge\">\n<title>92&#45;&gt;93</title>\n<path fill=\"none\" stroke=\"#000000\" d=\"M1648.1502,-1412.8796C1648.0814,-1404.6838 1648.0083,-1395.9891 1647.937,-1387.5013\"/>\n<polygon fill=\"#000000\" stroke=\"#000000\" points=\"1651.4352,-1387.2683 1647.8512,-1377.2981 1644.4355,-1387.3272 1651.4352,-1387.2683\"/>\n</g>\n<!-- 100 -->\n<g id=\"node101\" class=\"node\">\n<title>100</title>\n<polygon fill=\"#e88e4d\" stroke=\"#000000\" points=\"1815.5,-1377 1713.5,-1377 1713.5,-1294 1815.5,-1294 1815.5,-1377\"/>\n<text text-anchor=\"middle\" x=\"1764.5\" y=\"-1361.8\" font-family=\"Times,serif\" font-size=\"14.00\" fill=\"#000000\">Age &lt;= 30.5</text>\n<text text-anchor=\"middle\" x=\"1764.5\" y=\"-1346.8\" font-family=\"Times,serif\" font-size=\"14.00\" fill=\"#000000\">gini = 0.165</text>\n<text text-anchor=\"middle\" x=\"1764.5\" y=\"-1331.8\" font-family=\"Times,serif\" font-size=\"14.00\" fill=\"#000000\">samples = 11</text>\n<text text-anchor=\"middle\" x=\"1764.5\" y=\"-1316.8\" font-family=\"Times,serif\" font-size=\"14.00\" fill=\"#000000\">value = [10, 1]</text>\n<text text-anchor=\"middle\" x=\"1764.5\" y=\"-1301.8\" font-family=\"Times,serif\" font-size=\"14.00\" fill=\"#000000\">class = S</text>\n</g>\n<!-- 92&#45;&gt;100 -->\n<g id=\"edge100\" class=\"edge\">\n<title>92&#45;&gt;100</title>\n<path fill=\"none\" stroke=\"#000000\" d=\"M1689.0712,-1412.8796C1697.9382,-1403.7832 1707.4044,-1394.0722 1716.5291,-1384.7116\"/>\n<polygon fill=\"#000000\" stroke=\"#000000\" points=\"1719.2817,-1386.9019 1723.7557,-1377.2981 1714.2691,-1382.0158 1719.2817,-1386.9019\"/>\n</g>\n<!-- 94 -->\n<g id=\"node95\" class=\"node\">\n<title>94</title>\n<polygon fill=\"#cee6f8\" stroke=\"#000000\" points=\"1582,-1258 1487,-1258 1487,-1175 1582,-1175 1582,-1258\"/>\n<text text-anchor=\"middle\" x=\"1534.5\" y=\"-1242.8\" font-family=\"Times,serif\" font-size=\"14.00\" fill=\"#000000\">Age &lt;= 25.5</text>\n<text text-anchor=\"middle\" x=\"1534.5\" y=\"-1227.8\" font-family=\"Times,serif\" font-size=\"14.00\" fill=\"#000000\">gini = 0.49</text>\n<text text-anchor=\"middle\" x=\"1534.5\" y=\"-1212.8\" font-family=\"Times,serif\" font-size=\"14.00\" fill=\"#000000\">samples = 7</text>\n<text text-anchor=\"middle\" x=\"1534.5\" y=\"-1197.8\" font-family=\"Times,serif\" font-size=\"14.00\" fill=\"#000000\">value = [3, 4]</text>\n<text text-anchor=\"middle\" x=\"1534.5\" y=\"-1182.8\" font-family=\"Times,serif\" font-size=\"14.00\" fill=\"#000000\">class = u</text>\n</g>\n<!-- 93&#45;&gt;94 -->\n<g id=\"edge94\" class=\"edge\">\n<title>93&#45;&gt;94</title>\n<path fill=\"none\" stroke=\"#000000\" d=\"M1607.9781,-1293.8796C1599.3403,-1284.7832 1590.119,-1275.0722 1581.2303,-1265.7116\"/>\n<polygon fill=\"#000000\" stroke=\"#000000\" points=\"1583.6146,-1263.1395 1574.1906,-1258.2981 1578.5385,-1267.9597 1583.6146,-1263.1395\"/>\n</g>\n<!-- 99 -->\n<g id=\"node100\" class=\"node\">\n<title>99</title>\n<polygon fill=\"#e58139\" stroke=\"#000000\" points=\"1695,-1250.5 1600,-1250.5 1600,-1182.5 1695,-1182.5 1695,-1250.5\"/>\n<text text-anchor=\"middle\" x=\"1647.5\" y=\"-1235.3\" font-family=\"Times,serif\" font-size=\"14.00\" fill=\"#000000\">gini = 0.0</text>\n<text text-anchor=\"middle\" x=\"1647.5\" y=\"-1220.3\" font-family=\"Times,serif\" font-size=\"14.00\" fill=\"#000000\">samples = 2</text>\n<text text-anchor=\"middle\" x=\"1647.5\" y=\"-1205.3\" font-family=\"Times,serif\" font-size=\"14.00\" fill=\"#000000\">value = [2, 0]</text>\n<text text-anchor=\"middle\" x=\"1647.5\" y=\"-1190.3\" font-family=\"Times,serif\" font-size=\"14.00\" fill=\"#000000\">class = S</text>\n</g>\n<!-- 93&#45;&gt;99 -->\n<g id=\"edge99\" class=\"edge\">\n<title>93&#45;&gt;99</title>\n<path fill=\"none\" stroke=\"#000000\" d=\"M1647.5,-1293.8796C1647.5,-1283.2134 1647.5,-1271.7021 1647.5,-1260.9015\"/>\n<polygon fill=\"#000000\" stroke=\"#000000\" points=\"1651.0001,-1260.8149 1647.5,-1250.8149 1644.0001,-1260.815 1651.0001,-1260.8149\"/>\n</g>\n<!-- 95 -->\n<g id=\"node96\" class=\"node\">\n<title>95</title>\n<polygon fill=\"#eeab7b\" stroke=\"#000000\" points=\"1526,-1139 1431,-1139 1431,-1056 1526,-1056 1526,-1139\"/>\n<text text-anchor=\"middle\" x=\"1478.5\" y=\"-1123.8\" font-family=\"Times,serif\" font-size=\"14.00\" fill=\"#000000\">Age &lt;= 22.5</text>\n<text text-anchor=\"middle\" x=\"1478.5\" y=\"-1108.8\" font-family=\"Times,serif\" font-size=\"14.00\" fill=\"#000000\">gini = 0.375</text>\n<text text-anchor=\"middle\" x=\"1478.5\" y=\"-1093.8\" font-family=\"Times,serif\" font-size=\"14.00\" fill=\"#000000\">samples = 4</text>\n<text text-anchor=\"middle\" x=\"1478.5\" y=\"-1078.8\" font-family=\"Times,serif\" font-size=\"14.00\" fill=\"#000000\">value = [3, 1]</text>\n<text text-anchor=\"middle\" x=\"1478.5\" y=\"-1063.8\" font-family=\"Times,serif\" font-size=\"14.00\" fill=\"#000000\">class = S</text>\n</g>\n<!-- 94&#45;&gt;95 -->\n<g id=\"edge95\" class=\"edge\">\n<title>94&#45;&gt;95</title>\n<path fill=\"none\" stroke=\"#000000\" d=\"M1514.9139,-1174.8796C1510.8876,-1166.3236 1506.6053,-1157.2238 1502.4451,-1148.3833\"/>\n<polygon fill=\"#000000\" stroke=\"#000000\" points=\"1505.5946,-1146.856 1498.1697,-1139.2981 1499.2608,-1149.8366 1505.5946,-1146.856\"/>\n</g>\n<!-- 98 -->\n<g id=\"node99\" class=\"node\">\n<title>98</title>\n<polygon fill=\"#399de5\" stroke=\"#000000\" points=\"1639,-1131.5 1544,-1131.5 1544,-1063.5 1639,-1063.5 1639,-1131.5\"/>\n<text text-anchor=\"middle\" x=\"1591.5\" y=\"-1116.3\" font-family=\"Times,serif\" font-size=\"14.00\" fill=\"#000000\">gini = 0.0</text>\n<text text-anchor=\"middle\" x=\"1591.5\" y=\"-1101.3\" font-family=\"Times,serif\" font-size=\"14.00\" fill=\"#000000\">samples = 3</text>\n<text text-anchor=\"middle\" x=\"1591.5\" y=\"-1086.3\" font-family=\"Times,serif\" font-size=\"14.00\" fill=\"#000000\">value = [0, 3]</text>\n<text text-anchor=\"middle\" x=\"1591.5\" y=\"-1071.3\" font-family=\"Times,serif\" font-size=\"14.00\" fill=\"#000000\">class = u</text>\n</g>\n<!-- 94&#45;&gt;98 -->\n<g id=\"edge98\" class=\"edge\">\n<title>94&#45;&gt;98</title>\n<path fill=\"none\" stroke=\"#000000\" d=\"M1554.4358,-1174.8796C1559.7029,-1163.8835 1565.4001,-1151.9893 1570.711,-1140.9015\"/>\n<polygon fill=\"#000000\" stroke=\"#000000\" points=\"1573.9,-1142.3457 1575.0634,-1131.8149 1567.5869,-1139.3217 1573.9,-1142.3457\"/>\n</g>\n<!-- 96 -->\n<g id=\"node97\" class=\"node\">\n<title>96</title>\n<polygon fill=\"#399de5\" stroke=\"#000000\" points=\"1470,-1012.5 1375,-1012.5 1375,-944.5 1470,-944.5 1470,-1012.5\"/>\n<text text-anchor=\"middle\" x=\"1422.5\" y=\"-997.3\" font-family=\"Times,serif\" font-size=\"14.00\" fill=\"#000000\">gini = 0.0</text>\n<text text-anchor=\"middle\" x=\"1422.5\" y=\"-982.3\" font-family=\"Times,serif\" font-size=\"14.00\" fill=\"#000000\">samples = 1</text>\n<text text-anchor=\"middle\" x=\"1422.5\" y=\"-967.3\" font-family=\"Times,serif\" font-size=\"14.00\" fill=\"#000000\">value = [0, 1]</text>\n<text text-anchor=\"middle\" x=\"1422.5\" y=\"-952.3\" font-family=\"Times,serif\" font-size=\"14.00\" fill=\"#000000\">class = u</text>\n</g>\n<!-- 95&#45;&gt;96 -->\n<g id=\"edge96\" class=\"edge\">\n<title>95&#45;&gt;96</title>\n<path fill=\"none\" stroke=\"#000000\" d=\"M1458.9139,-1055.8796C1453.7393,-1044.8835 1448.142,-1032.9893 1442.9242,-1021.9015\"/>\n<polygon fill=\"#000000\" stroke=\"#000000\" points=\"1446.0731,-1020.3728 1438.6482,-1012.8149 1439.7394,-1023.3534 1446.0731,-1020.3728\"/>\n</g>\n<!-- 97 -->\n<g id=\"node98\" class=\"node\">\n<title>97</title>\n<polygon fill=\"#e58139\" stroke=\"#000000\" points=\"1583,-1012.5 1488,-1012.5 1488,-944.5 1583,-944.5 1583,-1012.5\"/>\n<text text-anchor=\"middle\" x=\"1535.5\" y=\"-997.3\" font-family=\"Times,serif\" font-size=\"14.00\" fill=\"#000000\">gini = 0.0</text>\n<text text-anchor=\"middle\" x=\"1535.5\" y=\"-982.3\" font-family=\"Times,serif\" font-size=\"14.00\" fill=\"#000000\">samples = 3</text>\n<text text-anchor=\"middle\" x=\"1535.5\" y=\"-967.3\" font-family=\"Times,serif\" font-size=\"14.00\" fill=\"#000000\">value = [3, 0]</text>\n<text text-anchor=\"middle\" x=\"1535.5\" y=\"-952.3\" font-family=\"Times,serif\" font-size=\"14.00\" fill=\"#000000\">class = S</text>\n</g>\n<!-- 95&#45;&gt;97 -->\n<g id=\"edge97\" class=\"edge\">\n<title>95&#45;&gt;97</title>\n<path fill=\"none\" stroke=\"#000000\" d=\"M1498.4358,-1055.8796C1503.7029,-1044.8835 1509.4001,-1032.9893 1514.711,-1021.9015\"/>\n<polygon fill=\"#000000\" stroke=\"#000000\" points=\"1517.9,-1023.3457 1519.0634,-1012.8149 1511.5869,-1020.3217 1517.9,-1023.3457\"/>\n</g>\n<!-- 101 -->\n<g id=\"node102\" class=\"node\">\n<title>101</title>\n<polygon fill=\"#e58139\" stroke=\"#000000\" points=\"1815.5,-1250.5 1713.5,-1250.5 1713.5,-1182.5 1815.5,-1182.5 1815.5,-1250.5\"/>\n<text text-anchor=\"middle\" x=\"1764.5\" y=\"-1235.3\" font-family=\"Times,serif\" font-size=\"14.00\" fill=\"#000000\">gini = 0.0</text>\n<text text-anchor=\"middle\" x=\"1764.5\" y=\"-1220.3\" font-family=\"Times,serif\" font-size=\"14.00\" fill=\"#000000\">samples = 10</text>\n<text text-anchor=\"middle\" x=\"1764.5\" y=\"-1205.3\" font-family=\"Times,serif\" font-size=\"14.00\" fill=\"#000000\">value = [10, 0]</text>\n<text text-anchor=\"middle\" x=\"1764.5\" y=\"-1190.3\" font-family=\"Times,serif\" font-size=\"14.00\" fill=\"#000000\">class = S</text>\n</g>\n<!-- 100&#45;&gt;101 -->\n<g id=\"edge101\" class=\"edge\">\n<title>100&#45;&gt;101</title>\n<path fill=\"none\" stroke=\"#000000\" d=\"M1764.5,-1293.8796C1764.5,-1283.2134 1764.5,-1271.7021 1764.5,-1260.9015\"/>\n<polygon fill=\"#000000\" stroke=\"#000000\" points=\"1768.0001,-1260.8149 1764.5,-1250.8149 1761.0001,-1260.815 1768.0001,-1260.8149\"/>\n</g>\n<!-- 102 -->\n<g id=\"node103\" class=\"node\">\n<title>102</title>\n<polygon fill=\"#399de5\" stroke=\"#000000\" points=\"1929,-1250.5 1834,-1250.5 1834,-1182.5 1929,-1182.5 1929,-1250.5\"/>\n<text text-anchor=\"middle\" x=\"1881.5\" y=\"-1235.3\" font-family=\"Times,serif\" font-size=\"14.00\" fill=\"#000000\">gini = 0.0</text>\n<text text-anchor=\"middle\" x=\"1881.5\" y=\"-1220.3\" font-family=\"Times,serif\" font-size=\"14.00\" fill=\"#000000\">samples = 1</text>\n<text text-anchor=\"middle\" x=\"1881.5\" y=\"-1205.3\" font-family=\"Times,serif\" font-size=\"14.00\" fill=\"#000000\">value = [0, 1]</text>\n<text text-anchor=\"middle\" x=\"1881.5\" y=\"-1190.3\" font-family=\"Times,serif\" font-size=\"14.00\" fill=\"#000000\">class = u</text>\n</g>\n<!-- 100&#45;&gt;102 -->\n<g id=\"edge102\" class=\"edge\">\n<title>100&#45;&gt;102</title>\n<path fill=\"none\" stroke=\"#000000\" d=\"M1805.4209,-1293.8796C1816.7728,-1282.3337 1829.0982,-1269.7976 1840.457,-1258.2446\"/>\n<polygon fill=\"#000000\" stroke=\"#000000\" points=\"1843.2466,-1260.3995 1847.7618,-1250.8149 1838.2551,-1255.4919 1843.2466,-1260.3995\"/>\n</g>\n<!-- 104 -->\n<g id=\"node105\" class=\"node\">\n<title>104</title>\n<polygon fill=\"#57ace9\" stroke=\"#000000\" points=\"1914.5,-1615 1812.5,-1615 1812.5,-1532 1914.5,-1532 1914.5,-1615\"/>\n<text text-anchor=\"middle\" x=\"1863.5\" y=\"-1599.8\" font-family=\"Times,serif\" font-size=\"14.00\" fill=\"#000000\">SibSp &lt;= 0.5</text>\n<text text-anchor=\"middle\" x=\"1863.5\" y=\"-1584.8\" font-family=\"Times,serif\" font-size=\"14.00\" fill=\"#000000\">gini = 0.231</text>\n<text text-anchor=\"middle\" x=\"1863.5\" y=\"-1569.8\" font-family=\"Times,serif\" font-size=\"14.00\" fill=\"#000000\">samples = 15</text>\n<text text-anchor=\"middle\" x=\"1863.5\" y=\"-1554.8\" font-family=\"Times,serif\" font-size=\"14.00\" fill=\"#000000\">value = [2, 13]</text>\n<text text-anchor=\"middle\" x=\"1863.5\" y=\"-1539.8\" font-family=\"Times,serif\" font-size=\"14.00\" fill=\"#000000\">class = u</text>\n</g>\n<!-- 103&#45;&gt;104 -->\n<g id=\"edge104\" class=\"edge\">\n<title>103&#45;&gt;104</title>\n<path fill=\"none\" stroke=\"#000000\" d=\"M1851.7955,-1650.8796C1853.0488,-1642.5938 1854.3793,-1633.798 1855.6766,-1625.2216\"/>\n<polygon fill=\"#000000\" stroke=\"#000000\" points=\"1859.1426,-1625.7091 1857.1776,-1615.2981 1852.2213,-1624.6621 1859.1426,-1625.7091\"/>\n</g>\n<!-- 111 -->\n<g id=\"node112\" class=\"node\">\n<title>111</title>\n<polygon fill=\"#f2c09c\" stroke=\"#000000\" points=\"2161,-1615 2054,-1615 2054,-1532 2161,-1532 2161,-1615\"/>\n<text text-anchor=\"middle\" x=\"2107.5\" y=\"-1599.8\" font-family=\"Times,serif\" font-size=\"14.00\" fill=\"#000000\">Fare &lt;= 19.125</text>\n<text text-anchor=\"middle\" x=\"2107.5\" y=\"-1584.8\" font-family=\"Times,serif\" font-size=\"14.00\" fill=\"#000000\">gini = 0.444</text>\n<text text-anchor=\"middle\" x=\"2107.5\" y=\"-1569.8\" font-family=\"Times,serif\" font-size=\"14.00\" fill=\"#000000\">samples = 9</text>\n<text text-anchor=\"middle\" x=\"2107.5\" y=\"-1554.8\" font-family=\"Times,serif\" font-size=\"14.00\" fill=\"#000000\">value = [6, 3]</text>\n<text text-anchor=\"middle\" x=\"2107.5\" y=\"-1539.8\" font-family=\"Times,serif\" font-size=\"14.00\" fill=\"#000000\">class = S</text>\n</g>\n<!-- 103&#45;&gt;111 -->\n<g id=\"edge111\" class=\"edge\">\n<title>103&#45;&gt;111</title>\n<path fill=\"none\" stroke=\"#000000\" d=\"M1896.717,-1655.9201C1899.6483,-1654.1905 1902.5878,-1652.5374 1905.5,-1651 1950.0904,-1627.4602 2003.4596,-1607.2978 2044.1402,-1593.4435\"/>\n<polygon fill=\"#000000\" stroke=\"#000000\" points=\"2045.3086,-1596.7432 2053.6685,-1590.2346 2043.0744,-1590.1093 2045.3086,-1596.7432\"/>\n</g>\n<!-- 105 -->\n<g id=\"node106\" class=\"node\">\n<title>105</title>\n<polygon fill=\"#399de5\" stroke=\"#000000\" points=\"1911,-1488.5 1816,-1488.5 1816,-1420.5 1911,-1420.5 1911,-1488.5\"/>\n<text text-anchor=\"middle\" x=\"1863.5\" y=\"-1473.3\" font-family=\"Times,serif\" font-size=\"14.00\" fill=\"#000000\">gini = 0.0</text>\n<text text-anchor=\"middle\" x=\"1863.5\" y=\"-1458.3\" font-family=\"Times,serif\" font-size=\"14.00\" fill=\"#000000\">samples = 6</text>\n<text text-anchor=\"middle\" x=\"1863.5\" y=\"-1443.3\" font-family=\"Times,serif\" font-size=\"14.00\" fill=\"#000000\">value = [0, 6]</text>\n<text text-anchor=\"middle\" x=\"1863.5\" y=\"-1428.3\" font-family=\"Times,serif\" font-size=\"14.00\" fill=\"#000000\">class = u</text>\n</g>\n<!-- 104&#45;&gt;105 -->\n<g id=\"edge105\" class=\"edge\">\n<title>104&#45;&gt;105</title>\n<path fill=\"none\" stroke=\"#000000\" d=\"M1863.5,-1531.8796C1863.5,-1521.2134 1863.5,-1509.7021 1863.5,-1498.9015\"/>\n<polygon fill=\"#000000\" stroke=\"#000000\" points=\"1867.0001,-1498.8149 1863.5,-1488.8149 1860.0001,-1498.815 1867.0001,-1498.8149\"/>\n</g>\n<!-- 106 -->\n<g id=\"node107\" class=\"node\">\n<title>106</title>\n<polygon fill=\"#72b9ec\" stroke=\"#000000\" points=\"2042,-1496 1947,-1496 1947,-1413 2042,-1413 2042,-1496\"/>\n<text text-anchor=\"middle\" x=\"1994.5\" y=\"-1480.8\" font-family=\"Times,serif\" font-size=\"14.00\" fill=\"#000000\">Age &lt;= 28.5</text>\n<text text-anchor=\"middle\" x=\"1994.5\" y=\"-1465.8\" font-family=\"Times,serif\" font-size=\"14.00\" fill=\"#000000\">gini = 0.346</text>\n<text text-anchor=\"middle\" x=\"1994.5\" y=\"-1450.8\" font-family=\"Times,serif\" font-size=\"14.00\" fill=\"#000000\">samples = 9</text>\n<text text-anchor=\"middle\" x=\"1994.5\" y=\"-1435.8\" font-family=\"Times,serif\" font-size=\"14.00\" fill=\"#000000\">value = [2, 7]</text>\n<text text-anchor=\"middle\" x=\"1994.5\" y=\"-1420.8\" font-family=\"Times,serif\" font-size=\"14.00\" fill=\"#000000\">class = u</text>\n</g>\n<!-- 104&#45;&gt;106 -->\n<g id=\"edge106\" class=\"edge\">\n<title>104&#45;&gt;106</title>\n<path fill=\"none\" stroke=\"#000000\" d=\"M1909.3174,-1531.8796C1919.5294,-1522.6031 1930.445,-1512.6874 1940.9376,-1503.1559\"/>\n<polygon fill=\"#000000\" stroke=\"#000000\" points=\"1943.4384,-1505.6127 1948.487,-1496.2981 1938.7316,-1500.4313 1943.4384,-1505.6127\"/>\n</g>\n<!-- 107 -->\n<g id=\"node108\" class=\"node\">\n<title>107</title>\n<polygon fill=\"#bddef6\" stroke=\"#000000\" points=\"2042,-1377 1947,-1377 1947,-1294 2042,-1294 2042,-1377\"/>\n<text text-anchor=\"middle\" x=\"1994.5\" y=\"-1361.8\" font-family=\"Times,serif\" font-size=\"14.00\" fill=\"#000000\">Age &lt;= 25.0</text>\n<text text-anchor=\"middle\" x=\"1994.5\" y=\"-1346.8\" font-family=\"Times,serif\" font-size=\"14.00\" fill=\"#000000\">gini = 0.48</text>\n<text text-anchor=\"middle\" x=\"1994.5\" y=\"-1331.8\" font-family=\"Times,serif\" font-size=\"14.00\" fill=\"#000000\">samples = 5</text>\n<text text-anchor=\"middle\" x=\"1994.5\" y=\"-1316.8\" font-family=\"Times,serif\" font-size=\"14.00\" fill=\"#000000\">value = [2, 3]</text>\n<text text-anchor=\"middle\" x=\"1994.5\" y=\"-1301.8\" font-family=\"Times,serif\" font-size=\"14.00\" fill=\"#000000\">class = u</text>\n</g>\n<!-- 106&#45;&gt;107 -->\n<g id=\"edge107\" class=\"edge\">\n<title>106&#45;&gt;107</title>\n<path fill=\"none\" stroke=\"#000000\" d=\"M1994.5,-1412.8796C1994.5,-1404.6838 1994.5,-1395.9891 1994.5,-1387.5013\"/>\n<polygon fill=\"#000000\" stroke=\"#000000\" points=\"1998.0001,-1387.298 1994.5,-1377.2981 1991.0001,-1387.2981 1998.0001,-1387.298\"/>\n</g>\n<!-- 110 -->\n<g id=\"node111\" class=\"node\">\n<title>110</title>\n<polygon fill=\"#399de5\" stroke=\"#000000\" points=\"2155,-1369.5 2060,-1369.5 2060,-1301.5 2155,-1301.5 2155,-1369.5\"/>\n<text text-anchor=\"middle\" x=\"2107.5\" y=\"-1354.3\" font-family=\"Times,serif\" font-size=\"14.00\" fill=\"#000000\">gini = 0.0</text>\n<text text-anchor=\"middle\" x=\"2107.5\" y=\"-1339.3\" font-family=\"Times,serif\" font-size=\"14.00\" fill=\"#000000\">samples = 4</text>\n<text text-anchor=\"middle\" x=\"2107.5\" y=\"-1324.3\" font-family=\"Times,serif\" font-size=\"14.00\" fill=\"#000000\">value = [0, 4]</text>\n<text text-anchor=\"middle\" x=\"2107.5\" y=\"-1309.3\" font-family=\"Times,serif\" font-size=\"14.00\" fill=\"#000000\">class = u</text>\n</g>\n<!-- 106&#45;&gt;110 -->\n<g id=\"edge110\" class=\"edge\">\n<title>106&#45;&gt;110</title>\n<path fill=\"none\" stroke=\"#000000\" d=\"M2034.0219,-1412.8796C2044.9857,-1401.3337 2056.8897,-1388.7976 2067.8601,-1377.2446\"/>\n<polygon fill=\"#000000\" stroke=\"#000000\" points=\"2070.5673,-1379.4766 2074.9152,-1369.8149 2065.4913,-1374.6564 2070.5673,-1379.4766\"/>\n</g>\n<!-- 108 -->\n<g id=\"node109\" class=\"node\">\n<title>108</title>\n<polygon fill=\"#399de5\" stroke=\"#000000\" points=\"2042,-1250.5 1947,-1250.5 1947,-1182.5 2042,-1182.5 2042,-1250.5\"/>\n<text text-anchor=\"middle\" x=\"1994.5\" y=\"-1235.3\" font-family=\"Times,serif\" font-size=\"14.00\" fill=\"#000000\">gini = 0.0</text>\n<text text-anchor=\"middle\" x=\"1994.5\" y=\"-1220.3\" font-family=\"Times,serif\" font-size=\"14.00\" fill=\"#000000\">samples = 3</text>\n<text text-anchor=\"middle\" x=\"1994.5\" y=\"-1205.3\" font-family=\"Times,serif\" font-size=\"14.00\" fill=\"#000000\">value = [0, 3]</text>\n<text text-anchor=\"middle\" x=\"1994.5\" y=\"-1190.3\" font-family=\"Times,serif\" font-size=\"14.00\" fill=\"#000000\">class = u</text>\n</g>\n<!-- 107&#45;&gt;108 -->\n<g id=\"edge108\" class=\"edge\">\n<title>107&#45;&gt;108</title>\n<path fill=\"none\" stroke=\"#000000\" d=\"M1994.5,-1293.8796C1994.5,-1283.2134 1994.5,-1271.7021 1994.5,-1260.9015\"/>\n<polygon fill=\"#000000\" stroke=\"#000000\" points=\"1998.0001,-1260.8149 1994.5,-1250.8149 1991.0001,-1260.815 1998.0001,-1260.8149\"/>\n</g>\n<!-- 109 -->\n<g id=\"node110\" class=\"node\">\n<title>109</title>\n<polygon fill=\"#e58139\" stroke=\"#000000\" points=\"2155,-1250.5 2060,-1250.5 2060,-1182.5 2155,-1182.5 2155,-1250.5\"/>\n<text text-anchor=\"middle\" x=\"2107.5\" y=\"-1235.3\" font-family=\"Times,serif\" font-size=\"14.00\" fill=\"#000000\">gini = 0.0</text>\n<text text-anchor=\"middle\" x=\"2107.5\" y=\"-1220.3\" font-family=\"Times,serif\" font-size=\"14.00\" fill=\"#000000\">samples = 2</text>\n<text text-anchor=\"middle\" x=\"2107.5\" y=\"-1205.3\" font-family=\"Times,serif\" font-size=\"14.00\" fill=\"#000000\">value = [2, 0]</text>\n<text text-anchor=\"middle\" x=\"2107.5\" y=\"-1190.3\" font-family=\"Times,serif\" font-size=\"14.00\" fill=\"#000000\">class = S</text>\n</g>\n<!-- 107&#45;&gt;109 -->\n<g id=\"edge109\" class=\"edge\">\n<title>107&#45;&gt;109</title>\n<path fill=\"none\" stroke=\"#000000\" d=\"M2034.0219,-1293.8796C2044.9857,-1282.3337 2056.8897,-1269.7976 2067.8601,-1258.2446\"/>\n<polygon fill=\"#000000\" stroke=\"#000000\" points=\"2070.5673,-1260.4766 2074.9152,-1250.8149 2065.4913,-1255.6564 2070.5673,-1260.4766\"/>\n</g>\n<!-- 112 -->\n<g id=\"node113\" class=\"node\">\n<title>112</title>\n<polygon fill=\"#e58139\" stroke=\"#000000\" points=\"2155,-1488.5 2060,-1488.5 2060,-1420.5 2155,-1420.5 2155,-1488.5\"/>\n<text text-anchor=\"middle\" x=\"2107.5\" y=\"-1473.3\" font-family=\"Times,serif\" font-size=\"14.00\" fill=\"#000000\">gini = 0.0</text>\n<text text-anchor=\"middle\" x=\"2107.5\" y=\"-1458.3\" font-family=\"Times,serif\" font-size=\"14.00\" fill=\"#000000\">samples = 3</text>\n<text text-anchor=\"middle\" x=\"2107.5\" y=\"-1443.3\" font-family=\"Times,serif\" font-size=\"14.00\" fill=\"#000000\">value = [3, 0]</text>\n<text text-anchor=\"middle\" x=\"2107.5\" y=\"-1428.3\" font-family=\"Times,serif\" font-size=\"14.00\" fill=\"#000000\">class = S</text>\n</g>\n<!-- 111&#45;&gt;112 -->\n<g id=\"edge112\" class=\"edge\">\n<title>111&#45;&gt;112</title>\n<path fill=\"none\" stroke=\"#000000\" d=\"M2107.5,-1531.8796C2107.5,-1521.2134 2107.5,-1509.7021 2107.5,-1498.9015\"/>\n<polygon fill=\"#000000\" stroke=\"#000000\" points=\"2111.0001,-1498.8149 2107.5,-1488.8149 2104.0001,-1498.815 2111.0001,-1498.8149\"/>\n</g>\n<!-- 113 -->\n<g id=\"node114\" class=\"node\">\n<title>113</title>\n<polygon fill=\"#ffffff\" stroke=\"#000000\" points=\"2268,-1496 2173,-1496 2173,-1413 2268,-1413 2268,-1496\"/>\n<text text-anchor=\"middle\" x=\"2220.5\" y=\"-1480.8\" font-family=\"Times,serif\" font-size=\"14.00\" fill=\"#000000\">SibSp &lt;= 2.0</text>\n<text text-anchor=\"middle\" x=\"2220.5\" y=\"-1465.8\" font-family=\"Times,serif\" font-size=\"14.00\" fill=\"#000000\">gini = 0.5</text>\n<text text-anchor=\"middle\" x=\"2220.5\" y=\"-1450.8\" font-family=\"Times,serif\" font-size=\"14.00\" fill=\"#000000\">samples = 6</text>\n<text text-anchor=\"middle\" x=\"2220.5\" y=\"-1435.8\" font-family=\"Times,serif\" font-size=\"14.00\" fill=\"#000000\">value = [3, 3]</text>\n<text text-anchor=\"middle\" x=\"2220.5\" y=\"-1420.8\" font-family=\"Times,serif\" font-size=\"14.00\" fill=\"#000000\">class = S</text>\n</g>\n<!-- 111&#45;&gt;113 -->\n<g id=\"edge113\" class=\"edge\">\n<title>111&#45;&gt;113</title>\n<path fill=\"none\" stroke=\"#000000\" d=\"M2147.0219,-1531.8796C2155.6597,-1522.7832 2164.881,-1513.0722 2173.7697,-1503.7116\"/>\n<polygon fill=\"#000000\" stroke=\"#000000\" points=\"2176.4615,-1505.9597 2180.8094,-1496.2981 2171.3854,-1501.1395 2176.4615,-1505.9597\"/>\n</g>\n<!-- 114 -->\n<g id=\"node115\" class=\"node\">\n<title>114</title>\n<polygon fill=\"#7bbeee\" stroke=\"#000000\" points=\"2268,-1377 2173,-1377 2173,-1294 2268,-1294 2268,-1377\"/>\n<text text-anchor=\"middle\" x=\"2220.5\" y=\"-1361.8\" font-family=\"Times,serif\" font-size=\"14.00\" fill=\"#000000\">Parch &lt;= 3.0</text>\n<text text-anchor=\"middle\" x=\"2220.5\" y=\"-1346.8\" font-family=\"Times,serif\" font-size=\"14.00\" fill=\"#000000\">gini = 0.375</text>\n<text text-anchor=\"middle\" x=\"2220.5\" y=\"-1331.8\" font-family=\"Times,serif\" font-size=\"14.00\" fill=\"#000000\">samples = 4</text>\n<text text-anchor=\"middle\" x=\"2220.5\" y=\"-1316.8\" font-family=\"Times,serif\" font-size=\"14.00\" fill=\"#000000\">value = [1, 3]</text>\n<text text-anchor=\"middle\" x=\"2220.5\" y=\"-1301.8\" font-family=\"Times,serif\" font-size=\"14.00\" fill=\"#000000\">class = u</text>\n</g>\n<!-- 113&#45;&gt;114 -->\n<g id=\"edge114\" class=\"edge\">\n<title>113&#45;&gt;114</title>\n<path fill=\"none\" stroke=\"#000000\" d=\"M2220.5,-1412.8796C2220.5,-1404.6838 2220.5,-1395.9891 2220.5,-1387.5013\"/>\n<polygon fill=\"#000000\" stroke=\"#000000\" points=\"2224.0001,-1387.298 2220.5,-1377.2981 2217.0001,-1387.2981 2224.0001,-1387.298\"/>\n</g>\n<!-- 117 -->\n<g id=\"node118\" class=\"node\">\n<title>117</title>\n<polygon fill=\"#e58139\" stroke=\"#000000\" points=\"2381,-1369.5 2286,-1369.5 2286,-1301.5 2381,-1301.5 2381,-1369.5\"/>\n<text text-anchor=\"middle\" x=\"2333.5\" y=\"-1354.3\" font-family=\"Times,serif\" font-size=\"14.00\" fill=\"#000000\">gini = 0.0</text>\n<text text-anchor=\"middle\" x=\"2333.5\" y=\"-1339.3\" font-family=\"Times,serif\" font-size=\"14.00\" fill=\"#000000\">samples = 2</text>\n<text text-anchor=\"middle\" x=\"2333.5\" y=\"-1324.3\" font-family=\"Times,serif\" font-size=\"14.00\" fill=\"#000000\">value = [2, 0]</text>\n<text text-anchor=\"middle\" x=\"2333.5\" y=\"-1309.3\" font-family=\"Times,serif\" font-size=\"14.00\" fill=\"#000000\">class = S</text>\n</g>\n<!-- 113&#45;&gt;117 -->\n<g id=\"edge117\" class=\"edge\">\n<title>113&#45;&gt;117</title>\n<path fill=\"none\" stroke=\"#000000\" d=\"M2260.0219,-1412.8796C2270.9857,-1401.3337 2282.8897,-1388.7976 2293.8601,-1377.2446\"/>\n<polygon fill=\"#000000\" stroke=\"#000000\" points=\"2296.5673,-1379.4766 2300.9152,-1369.8149 2291.4913,-1374.6564 2296.5673,-1379.4766\"/>\n</g>\n<!-- 115 -->\n<g id=\"node116\" class=\"node\">\n<title>115</title>\n<polygon fill=\"#399de5\" stroke=\"#000000\" points=\"2268,-1250.5 2173,-1250.5 2173,-1182.5 2268,-1182.5 2268,-1250.5\"/>\n<text text-anchor=\"middle\" x=\"2220.5\" y=\"-1235.3\" font-family=\"Times,serif\" font-size=\"14.00\" fill=\"#000000\">gini = 0.0</text>\n<text text-anchor=\"middle\" x=\"2220.5\" y=\"-1220.3\" font-family=\"Times,serif\" font-size=\"14.00\" fill=\"#000000\">samples = 3</text>\n<text text-anchor=\"middle\" x=\"2220.5\" y=\"-1205.3\" font-family=\"Times,serif\" font-size=\"14.00\" fill=\"#000000\">value = [0, 3]</text>\n<text text-anchor=\"middle\" x=\"2220.5\" y=\"-1190.3\" font-family=\"Times,serif\" font-size=\"14.00\" fill=\"#000000\">class = u</text>\n</g>\n<!-- 114&#45;&gt;115 -->\n<g id=\"edge115\" class=\"edge\">\n<title>114&#45;&gt;115</title>\n<path fill=\"none\" stroke=\"#000000\" d=\"M2220.5,-1293.8796C2220.5,-1283.2134 2220.5,-1271.7021 2220.5,-1260.9015\"/>\n<polygon fill=\"#000000\" stroke=\"#000000\" points=\"2224.0001,-1260.8149 2220.5,-1250.8149 2217.0001,-1260.815 2224.0001,-1260.8149\"/>\n</g>\n<!-- 116 -->\n<g id=\"node117\" class=\"node\">\n<title>116</title>\n<polygon fill=\"#e58139\" stroke=\"#000000\" points=\"2381,-1250.5 2286,-1250.5 2286,-1182.5 2381,-1182.5 2381,-1250.5\"/>\n<text text-anchor=\"middle\" x=\"2333.5\" y=\"-1235.3\" font-family=\"Times,serif\" font-size=\"14.00\" fill=\"#000000\">gini = 0.0</text>\n<text text-anchor=\"middle\" x=\"2333.5\" y=\"-1220.3\" font-family=\"Times,serif\" font-size=\"14.00\" fill=\"#000000\">samples = 1</text>\n<text text-anchor=\"middle\" x=\"2333.5\" y=\"-1205.3\" font-family=\"Times,serif\" font-size=\"14.00\" fill=\"#000000\">value = [1, 0]</text>\n<text text-anchor=\"middle\" x=\"2333.5\" y=\"-1190.3\" font-family=\"Times,serif\" font-size=\"14.00\" fill=\"#000000\">class = S</text>\n</g>\n<!-- 114&#45;&gt;116 -->\n<g id=\"edge116\" class=\"edge\">\n<title>114&#45;&gt;116</title>\n<path fill=\"none\" stroke=\"#000000\" d=\"M2260.0219,-1293.8796C2270.9857,-1282.3337 2282.8897,-1269.7976 2293.8601,-1258.2446\"/>\n<polygon fill=\"#000000\" stroke=\"#000000\" points=\"2296.5673,-1260.4766 2300.9152,-1250.8149 2291.4913,-1255.6564 2296.5673,-1260.4766\"/>\n</g>\n<!-- 119 -->\n<g id=\"node120\" class=\"node\">\n<title>119</title>\n<polygon fill=\"#e58139\" stroke=\"#000000\" points=\"1827,-1845.5 1732,-1845.5 1732,-1777.5 1827,-1777.5 1827,-1845.5\"/>\n<text text-anchor=\"middle\" x=\"1779.5\" y=\"-1830.3\" font-family=\"Times,serif\" font-size=\"14.00\" fill=\"#000000\">gini = 0.0</text>\n<text text-anchor=\"middle\" x=\"1779.5\" y=\"-1815.3\" font-family=\"Times,serif\" font-size=\"14.00\" fill=\"#000000\">samples = 6</text>\n<text text-anchor=\"middle\" x=\"1779.5\" y=\"-1800.3\" font-family=\"Times,serif\" font-size=\"14.00\" fill=\"#000000\">value = [6, 0]</text>\n<text text-anchor=\"middle\" x=\"1779.5\" y=\"-1785.3\" font-family=\"Times,serif\" font-size=\"14.00\" fill=\"#000000\">class = S</text>\n</g>\n<!-- 118&#45;&gt;119 -->\n<g id=\"edge119\" class=\"edge\">\n<title>118&#45;&gt;119</title>\n<path fill=\"none\" stroke=\"#000000\" d=\"M1781.4507,-1888.8796C1781.1818,-1878.2134 1780.8916,-1866.7021 1780.6194,-1855.9015\"/>\n<polygon fill=\"#000000\" stroke=\"#000000\" points=\"1784.1161,-1855.7235 1780.3651,-1845.8149 1777.1183,-1855.9 1784.1161,-1855.7235\"/>\n</g>\n<!-- 120 -->\n<g id=\"node121\" class=\"node\">\n<title>120</title>\n<polygon fill=\"#399de5\" stroke=\"#000000\" points=\"1940,-1845.5 1845,-1845.5 1845,-1777.5 1940,-1777.5 1940,-1845.5\"/>\n<text text-anchor=\"middle\" x=\"1892.5\" y=\"-1830.3\" font-family=\"Times,serif\" font-size=\"14.00\" fill=\"#000000\">gini = 0.0</text>\n<text text-anchor=\"middle\" x=\"1892.5\" y=\"-1815.3\" font-family=\"Times,serif\" font-size=\"14.00\" fill=\"#000000\">samples = 1</text>\n<text text-anchor=\"middle\" x=\"1892.5\" y=\"-1800.3\" font-family=\"Times,serif\" font-size=\"14.00\" fill=\"#000000\">value = [0, 1]</text>\n<text text-anchor=\"middle\" x=\"1892.5\" y=\"-1785.3\" font-family=\"Times,serif\" font-size=\"14.00\" fill=\"#000000\">class = u</text>\n</g>\n<!-- 118&#45;&gt;120 -->\n<g id=\"edge120\" class=\"edge\">\n<title>118&#45;&gt;120</title>\n<path fill=\"none\" stroke=\"#000000\" d=\"M1820.9727,-1888.8796C1831.6453,-1877.3337 1843.2333,-1864.7976 1853.9125,-1853.2446\"/>\n<polygon fill=\"#000000\" stroke=\"#000000\" points=\"1856.5625,-1855.534 1860.7803,-1845.8149 1851.4222,-1850.7825 1856.5625,-1855.534\"/>\n</g>\n<!-- 122 -->\n<g id=\"node123\" class=\"node\">\n<title>122</title>\n<polygon fill=\"#399de5\" stroke=\"#000000\" points=\"1956,-1964.5 1861,-1964.5 1861,-1896.5 1956,-1896.5 1956,-1964.5\"/>\n<text text-anchor=\"middle\" x=\"1908.5\" y=\"-1949.3\" font-family=\"Times,serif\" font-size=\"14.00\" fill=\"#000000\">gini = 0.0</text>\n<text text-anchor=\"middle\" x=\"1908.5\" y=\"-1934.3\" font-family=\"Times,serif\" font-size=\"14.00\" fill=\"#000000\">samples = 1</text>\n<text text-anchor=\"middle\" x=\"1908.5\" y=\"-1919.3\" font-family=\"Times,serif\" font-size=\"14.00\" fill=\"#000000\">value = [0, 1]</text>\n<text text-anchor=\"middle\" x=\"1908.5\" y=\"-1904.3\" font-family=\"Times,serif\" font-size=\"14.00\" fill=\"#000000\">class = u</text>\n</g>\n<!-- 121&#45;&gt;122 -->\n<g id=\"edge122\" class=\"edge\">\n<title>121&#45;&gt;122</title>\n<path fill=\"none\" stroke=\"#000000\" d=\"M1908.5,-2007.8796C1908.5,-1997.2134 1908.5,-1985.7021 1908.5,-1974.9015\"/>\n<polygon fill=\"#000000\" stroke=\"#000000\" points=\"1912.0001,-1974.8149 1908.5,-1964.8149 1905.0001,-1974.815 1912.0001,-1974.8149\"/>\n</g>\n<!-- 123 -->\n<g id=\"node124\" class=\"node\">\n<title>123</title>\n<polygon fill=\"#e78c49\" stroke=\"#000000\" points=\"2077.5,-1972 1975.5,-1972 1975.5,-1889 2077.5,-1889 2077.5,-1972\"/>\n<text text-anchor=\"middle\" x=\"2026.5\" y=\"-1956.8\" font-family=\"Times,serif\" font-size=\"14.00\" fill=\"#000000\">Age &lt;= 5.5</text>\n<text text-anchor=\"middle\" x=\"2026.5\" y=\"-1941.8\" font-family=\"Times,serif\" font-size=\"14.00\" fill=\"#000000\">gini = 0.142</text>\n<text text-anchor=\"middle\" x=\"2026.5\" y=\"-1926.8\" font-family=\"Times,serif\" font-size=\"14.00\" fill=\"#000000\">samples = 26</text>\n<text text-anchor=\"middle\" x=\"2026.5\" y=\"-1911.8\" font-family=\"Times,serif\" font-size=\"14.00\" fill=\"#000000\">value = [24, 2]</text>\n<text text-anchor=\"middle\" x=\"2026.5\" y=\"-1896.8\" font-family=\"Times,serif\" font-size=\"14.00\" fill=\"#000000\">class = S</text>\n</g>\n<!-- 121&#45;&gt;123 -->\n<g id=\"edge123\" class=\"edge\">\n<title>121&#45;&gt;123</title>\n<path fill=\"none\" stroke=\"#000000\" d=\"M1949.7707,-2007.8796C1958.8799,-1998.6931 1968.6108,-1988.8798 1977.9776,-1979.4336\"/>\n<polygon fill=\"#000000\" stroke=\"#000000\" points=\"1980.4973,-1981.8634 1985.0532,-1972.2981 1975.5267,-1976.9345 1980.4973,-1981.8634\"/>\n</g>\n<!-- 124 -->\n<g id=\"node125\" class=\"node\">\n<title>124</title>\n<polygon fill=\"#f2c09c\" stroke=\"#000000\" points=\"2074,-1853 1979,-1853 1979,-1770 2074,-1770 2074,-1853\"/>\n<text text-anchor=\"middle\" x=\"2026.5\" y=\"-1837.8\" font-family=\"Times,serif\" font-size=\"14.00\" fill=\"#000000\">Age &lt;= 3.5</text>\n<text text-anchor=\"middle\" x=\"2026.5\" y=\"-1822.8\" font-family=\"Times,serif\" font-size=\"14.00\" fill=\"#000000\">gini = 0.444</text>\n<text text-anchor=\"middle\" x=\"2026.5\" y=\"-1807.8\" font-family=\"Times,serif\" font-size=\"14.00\" fill=\"#000000\">samples = 3</text>\n<text text-anchor=\"middle\" x=\"2026.5\" y=\"-1792.8\" font-family=\"Times,serif\" font-size=\"14.00\" fill=\"#000000\">value = [2, 1]</text>\n<text text-anchor=\"middle\" x=\"2026.5\" y=\"-1777.8\" font-family=\"Times,serif\" font-size=\"14.00\" fill=\"#000000\">class = S</text>\n</g>\n<!-- 123&#45;&gt;124 -->\n<g id=\"edge124\" class=\"edge\">\n<title>123&#45;&gt;124</title>\n<path fill=\"none\" stroke=\"#000000\" d=\"M2026.5,-1888.8796C2026.5,-1880.6838 2026.5,-1871.9891 2026.5,-1863.5013\"/>\n<polygon fill=\"#000000\" stroke=\"#000000\" points=\"2030.0001,-1863.298 2026.5,-1853.2981 2023.0001,-1863.2981 2030.0001,-1863.298\"/>\n</g>\n<!-- 127 -->\n<g id=\"node128\" class=\"node\">\n<title>127</title>\n<polygon fill=\"#e68742\" stroke=\"#000000\" points=\"2243.5,-1853 2141.5,-1853 2141.5,-1770 2243.5,-1770 2243.5,-1853\"/>\n<text text-anchor=\"middle\" x=\"2192.5\" y=\"-1837.8\" font-family=\"Times,serif\" font-size=\"14.00\" fill=\"#000000\">Parch &lt;= 4.5</text>\n<text text-anchor=\"middle\" x=\"2192.5\" y=\"-1822.8\" font-family=\"Times,serif\" font-size=\"14.00\" fill=\"#000000\">gini = 0.083</text>\n<text text-anchor=\"middle\" x=\"2192.5\" y=\"-1807.8\" font-family=\"Times,serif\" font-size=\"14.00\" fill=\"#000000\">samples = 23</text>\n<text text-anchor=\"middle\" x=\"2192.5\" y=\"-1792.8\" font-family=\"Times,serif\" font-size=\"14.00\" fill=\"#000000\">value = [22, 1]</text>\n<text text-anchor=\"middle\" x=\"2192.5\" y=\"-1777.8\" font-family=\"Times,serif\" font-size=\"14.00\" fill=\"#000000\">class = S</text>\n</g>\n<!-- 123&#45;&gt;127 -->\n<g id=\"edge127\" class=\"edge\">\n<title>123&#45;&gt;127</title>\n<path fill=\"none\" stroke=\"#000000\" d=\"M2077.66,-1893.8251C2095.1735,-1881.2702 2114.9163,-1867.1172 2133.0295,-1854.1325\"/>\n<polygon fill=\"#000000\" stroke=\"#000000\" points=\"2135.135,-1856.9296 2141.2232,-1848.2587 2131.0566,-1851.2404 2135.135,-1856.9296\"/>\n</g>\n<!-- 125 -->\n<g id=\"node126\" class=\"node\">\n<title>125</title>\n<polygon fill=\"#e58139\" stroke=\"#000000\" points=\"2010,-1726.5 1915,-1726.5 1915,-1658.5 2010,-1658.5 2010,-1726.5\"/>\n<text text-anchor=\"middle\" x=\"1962.5\" y=\"-1711.3\" font-family=\"Times,serif\" font-size=\"14.00\" fill=\"#000000\">gini = 0.0</text>\n<text text-anchor=\"middle\" x=\"1962.5\" y=\"-1696.3\" font-family=\"Times,serif\" font-size=\"14.00\" fill=\"#000000\">samples = 2</text>\n<text text-anchor=\"middle\" x=\"1962.5\" y=\"-1681.3\" font-family=\"Times,serif\" font-size=\"14.00\" fill=\"#000000\">value = [2, 0]</text>\n<text text-anchor=\"middle\" x=\"1962.5\" y=\"-1666.3\" font-family=\"Times,serif\" font-size=\"14.00\" fill=\"#000000\">class = S</text>\n</g>\n<!-- 124&#45;&gt;125 -->\n<g id=\"edge125\" class=\"edge\">\n<title>124&#45;&gt;125</title>\n<path fill=\"none\" stroke=\"#000000\" d=\"M2004.1159,-1769.8796C1998.202,-1758.8835 1991.8051,-1746.9893 1985.842,-1735.9015\"/>\n<polygon fill=\"#000000\" stroke=\"#000000\" points=\"1988.7742,-1733.9642 1980.9551,-1726.8149 1982.6092,-1737.2799 1988.7742,-1733.9642\"/>\n</g>\n<!-- 126 -->\n<g id=\"node127\" class=\"node\">\n<title>126</title>\n<polygon fill=\"#399de5\" stroke=\"#000000\" points=\"2123,-1726.5 2028,-1726.5 2028,-1658.5 2123,-1658.5 2123,-1726.5\"/>\n<text text-anchor=\"middle\" x=\"2075.5\" y=\"-1711.3\" font-family=\"Times,serif\" font-size=\"14.00\" fill=\"#000000\">gini = 0.0</text>\n<text text-anchor=\"middle\" x=\"2075.5\" y=\"-1696.3\" font-family=\"Times,serif\" font-size=\"14.00\" fill=\"#000000\">samples = 1</text>\n<text text-anchor=\"middle\" x=\"2075.5\" y=\"-1681.3\" font-family=\"Times,serif\" font-size=\"14.00\" fill=\"#000000\">value = [0, 1]</text>\n<text text-anchor=\"middle\" x=\"2075.5\" y=\"-1666.3\" font-family=\"Times,serif\" font-size=\"14.00\" fill=\"#000000\">class = u</text>\n</g>\n<!-- 124&#45;&gt;126 -->\n<g id=\"edge126\" class=\"edge\">\n<title>124&#45;&gt;126</title>\n<path fill=\"none\" stroke=\"#000000\" d=\"M2043.6378,-1769.8796C2048.1203,-1758.9935 2052.9653,-1747.227 2057.4917,-1736.2344\"/>\n<polygon fill=\"#000000\" stroke=\"#000000\" points=\"2060.7991,-1737.3944 2061.3703,-1726.8149 2054.3264,-1734.7291 2060.7991,-1737.3944\"/>\n</g>\n<!-- 128 -->\n<g id=\"node129\" class=\"node\">\n<title>128</title>\n<polygon fill=\"#e58139\" stroke=\"#000000\" points=\"2243.5,-1726.5 2141.5,-1726.5 2141.5,-1658.5 2243.5,-1658.5 2243.5,-1726.5\"/>\n<text text-anchor=\"middle\" x=\"2192.5\" y=\"-1711.3\" font-family=\"Times,serif\" font-size=\"14.00\" fill=\"#000000\">gini = 0.0</text>\n<text text-anchor=\"middle\" x=\"2192.5\" y=\"-1696.3\" font-family=\"Times,serif\" font-size=\"14.00\" fill=\"#000000\">samples = 18</text>\n<text text-anchor=\"middle\" x=\"2192.5\" y=\"-1681.3\" font-family=\"Times,serif\" font-size=\"14.00\" fill=\"#000000\">value = [18, 0]</text>\n<text text-anchor=\"middle\" x=\"2192.5\" y=\"-1666.3\" font-family=\"Times,serif\" font-size=\"14.00\" fill=\"#000000\">class = S</text>\n</g>\n<!-- 127&#45;&gt;128 -->\n<g id=\"edge128\" class=\"edge\">\n<title>127&#45;&gt;128</title>\n<path fill=\"none\" stroke=\"#000000\" d=\"M2192.5,-1769.8796C2192.5,-1759.2134 2192.5,-1747.7021 2192.5,-1736.9015\"/>\n<polygon fill=\"#000000\" stroke=\"#000000\" points=\"2196.0001,-1736.8149 2192.5,-1726.8149 2189.0001,-1736.815 2196.0001,-1736.8149\"/>\n</g>\n<!-- 129 -->\n<g id=\"node130\" class=\"node\">\n<title>129</title>\n<polygon fill=\"#eca06a\" stroke=\"#000000\" points=\"2357,-1734 2262,-1734 2262,-1651 2357,-1651 2357,-1734\"/>\n<text text-anchor=\"middle\" x=\"2309.5\" y=\"-1718.8\" font-family=\"Times,serif\" font-size=\"14.00\" fill=\"#000000\">Age &lt;= 38.5</text>\n<text text-anchor=\"middle\" x=\"2309.5\" y=\"-1703.8\" font-family=\"Times,serif\" font-size=\"14.00\" fill=\"#000000\">gini = 0.32</text>\n<text text-anchor=\"middle\" x=\"2309.5\" y=\"-1688.8\" font-family=\"Times,serif\" font-size=\"14.00\" fill=\"#000000\">samples = 5</text>\n<text text-anchor=\"middle\" x=\"2309.5\" y=\"-1673.8\" font-family=\"Times,serif\" font-size=\"14.00\" fill=\"#000000\">value = [4, 1]</text>\n<text text-anchor=\"middle\" x=\"2309.5\" y=\"-1658.8\" font-family=\"Times,serif\" font-size=\"14.00\" fill=\"#000000\">class = S</text>\n</g>\n<!-- 127&#45;&gt;129 -->\n<g id=\"edge129\" class=\"edge\">\n<title>127&#45;&gt;129</title>\n<path fill=\"none\" stroke=\"#000000\" d=\"M2233.4209,-1769.8796C2242.453,-1760.6931 2252.1013,-1750.8798 2261.3888,-1741.4336\"/>\n<polygon fill=\"#000000\" stroke=\"#000000\" points=\"2263.8893,-1743.8827 2268.4044,-1734.2981 2258.8977,-1738.975 2263.8893,-1743.8827\"/>\n</g>\n<!-- 130 -->\n<g id=\"node131\" class=\"node\">\n<title>130</title>\n<polygon fill=\"#399de5\" stroke=\"#000000\" points=\"2279,-1607.5 2184,-1607.5 2184,-1539.5 2279,-1539.5 2279,-1607.5\"/>\n<text text-anchor=\"middle\" x=\"2231.5\" y=\"-1592.3\" font-family=\"Times,serif\" font-size=\"14.00\" fill=\"#000000\">gini = 0.0</text>\n<text text-anchor=\"middle\" x=\"2231.5\" y=\"-1577.3\" font-family=\"Times,serif\" font-size=\"14.00\" fill=\"#000000\">samples = 1</text>\n<text text-anchor=\"middle\" x=\"2231.5\" y=\"-1562.3\" font-family=\"Times,serif\" font-size=\"14.00\" fill=\"#000000\">value = [0, 1]</text>\n<text text-anchor=\"middle\" x=\"2231.5\" y=\"-1547.3\" font-family=\"Times,serif\" font-size=\"14.00\" fill=\"#000000\">class = u</text>\n</g>\n<!-- 129&#45;&gt;130 -->\n<g id=\"edge130\" class=\"edge\">\n<title>129&#45;&gt;130</title>\n<path fill=\"none\" stroke=\"#000000\" d=\"M2282.2194,-1650.8796C2274.8677,-1639.6636 2266.9036,-1627.5131 2259.5126,-1616.2372\"/>\n<polygon fill=\"#000000\" stroke=\"#000000\" points=\"2262.4014,-1614.2598 2253.9921,-1607.8149 2256.5469,-1618.0972 2262.4014,-1614.2598\"/>\n</g>\n<!-- 131 -->\n<g id=\"node132\" class=\"node\">\n<title>131</title>\n<polygon fill=\"#e58139\" stroke=\"#000000\" points=\"2392,-1607.5 2297,-1607.5 2297,-1539.5 2392,-1539.5 2392,-1607.5\"/>\n<text text-anchor=\"middle\" x=\"2344.5\" y=\"-1592.3\" font-family=\"Times,serif\" font-size=\"14.00\" fill=\"#000000\">gini = 0.0</text>\n<text text-anchor=\"middle\" x=\"2344.5\" y=\"-1577.3\" font-family=\"Times,serif\" font-size=\"14.00\" fill=\"#000000\">samples = 4</text>\n<text text-anchor=\"middle\" x=\"2344.5\" y=\"-1562.3\" font-family=\"Times,serif\" font-size=\"14.00\" fill=\"#000000\">value = [4, 0]</text>\n<text text-anchor=\"middle\" x=\"2344.5\" y=\"-1547.3\" font-family=\"Times,serif\" font-size=\"14.00\" fill=\"#000000\">class = S</text>\n</g>\n<!-- 129&#45;&gt;131 -->\n<g id=\"edge131\" class=\"edge\">\n<title>129&#45;&gt;131</title>\n<path fill=\"none\" stroke=\"#000000\" d=\"M2321.7413,-1650.8796C2324.9108,-1640.1034 2328.3339,-1628.4647 2331.5389,-1617.5677\"/>\n<polygon fill=\"#000000\" stroke=\"#000000\" points=\"2334.9434,-1618.3962 2334.4074,-1607.8149 2328.2279,-1616.421 2334.9434,-1618.3962\"/>\n</g>\n<!-- 133 -->\n<g id=\"node134\" class=\"node\">\n<title>133</title>\n<polygon fill=\"#9ccef2\" stroke=\"#000000\" points=\"2312.5,-2210 2210.5,-2210 2210.5,-2127 2312.5,-2127 2312.5,-2210\"/>\n<text text-anchor=\"middle\" x=\"2261.5\" y=\"-2194.8\" font-family=\"Times,serif\" font-size=\"14.00\" fill=\"#000000\">SibSp &lt;= 2.5</text>\n<text text-anchor=\"middle\" x=\"2261.5\" y=\"-2179.8\" font-family=\"Times,serif\" font-size=\"14.00\" fill=\"#000000\">gini = 0.444</text>\n<text text-anchor=\"middle\" x=\"2261.5\" y=\"-2164.8\" font-family=\"Times,serif\" font-size=\"14.00\" fill=\"#000000\">samples = 24</text>\n<text text-anchor=\"middle\" x=\"2261.5\" y=\"-2149.8\" font-family=\"Times,serif\" font-size=\"14.00\" fill=\"#000000\">value = [8, 16]</text>\n<text text-anchor=\"middle\" x=\"2261.5\" y=\"-2134.8\" font-family=\"Times,serif\" font-size=\"14.00\" fill=\"#000000\">class = u</text>\n</g>\n<!-- 132&#45;&gt;133 -->\n<g id=\"edge133\" class=\"edge\">\n<title>132&#45;&gt;133</title>\n<path fill=\"none\" stroke=\"#000000\" d=\"M2261.5,-2245.8796C2261.5,-2237.6838 2261.5,-2228.9891 2261.5,-2220.5013\"/>\n<polygon fill=\"#000000\" stroke=\"#000000\" points=\"2265.0001,-2220.298 2261.5,-2210.2981 2258.0001,-2220.2981 2265.0001,-2220.298\"/>\n</g>\n<!-- 140 -->\n<g id=\"node141\" class=\"node\">\n<title>140</title>\n<polygon fill=\"#ea9a61\" stroke=\"#000000\" points=\"3076,-2210 2959,-2210 2959,-2127 3076,-2127 3076,-2210\"/>\n<text text-anchor=\"middle\" x=\"3017.5\" y=\"-2194.8\" font-family=\"Times,serif\" font-size=\"14.00\" fill=\"#000000\">Pclass &lt;= 1.5</text>\n<text text-anchor=\"middle\" x=\"3017.5\" y=\"-2179.8\" font-family=\"Times,serif\" font-size=\"14.00\" fill=\"#000000\">gini = 0.28</text>\n<text text-anchor=\"middle\" x=\"3017.5\" y=\"-2164.8\" font-family=\"Times,serif\" font-size=\"14.00\" fill=\"#000000\">samples = 553</text>\n<text text-anchor=\"middle\" x=\"3017.5\" y=\"-2149.8\" font-family=\"Times,serif\" font-size=\"14.00\" fill=\"#000000\">value = [460, 93]</text>\n<text text-anchor=\"middle\" x=\"3017.5\" y=\"-2134.8\" font-family=\"Times,serif\" font-size=\"14.00\" fill=\"#000000\">class = S</text>\n</g>\n<!-- 132&#45;&gt;140 -->\n<g id=\"edge140\" class=\"edge\">\n<title>132&#45;&gt;140</title>\n<path fill=\"none\" stroke=\"#000000\" d=\"M2324.0098,-2277.6605C2464.186,-2255.5957 2802.7488,-2202.3034 2948.6768,-2179.3333\"/>\n<polygon fill=\"#000000\" stroke=\"#000000\" points=\"2949.5112,-2182.7451 2958.8453,-2177.7327 2948.4227,-2175.8303 2949.5112,-2182.7451\"/>\n</g>\n<!-- 134 -->\n<g id=\"node135\" class=\"node\">\n<title>134</title>\n<polygon fill=\"#399de5\" stroke=\"#000000\" points=\"2250.5,-2083.5 2148.5,-2083.5 2148.5,-2015.5 2250.5,-2015.5 2250.5,-2083.5\"/>\n<text text-anchor=\"middle\" x=\"2199.5\" y=\"-2068.3\" font-family=\"Times,serif\" font-size=\"14.00\" fill=\"#000000\">gini = 0.0</text>\n<text text-anchor=\"middle\" x=\"2199.5\" y=\"-2053.3\" font-family=\"Times,serif\" font-size=\"14.00\" fill=\"#000000\">samples = 15</text>\n<text text-anchor=\"middle\" x=\"2199.5\" y=\"-2038.3\" font-family=\"Times,serif\" font-size=\"14.00\" fill=\"#000000\">value = [0, 15]</text>\n<text text-anchor=\"middle\" x=\"2199.5\" y=\"-2023.3\" font-family=\"Times,serif\" font-size=\"14.00\" fill=\"#000000\">class = u</text>\n</g>\n<!-- 133&#45;&gt;134 -->\n<g id=\"edge134\" class=\"edge\">\n<title>133&#45;&gt;134</title>\n<path fill=\"none\" stroke=\"#000000\" d=\"M2239.8154,-2126.8796C2234.0864,-2115.8835 2227.8894,-2103.9893 2222.1126,-2092.9015\"/>\n<polygon fill=\"#000000\" stroke=\"#000000\" points=\"2225.103,-2091.0662 2217.3784,-2083.8149 2218.895,-2094.3007 2225.103,-2091.0662\"/>\n</g>\n<!-- 135 -->\n<g id=\"node136\" class=\"node\">\n<title>135</title>\n<polygon fill=\"#e89152\" stroke=\"#000000\" points=\"2376,-2091 2269,-2091 2269,-2008 2376,-2008 2376,-2091\"/>\n<text text-anchor=\"middle\" x=\"2322.5\" y=\"-2075.8\" font-family=\"Times,serif\" font-size=\"14.00\" fill=\"#000000\">Fare &lt;= 31.331</text>\n<text text-anchor=\"middle\" x=\"2322.5\" y=\"-2060.8\" font-family=\"Times,serif\" font-size=\"14.00\" fill=\"#000000\">gini = 0.198</text>\n<text text-anchor=\"middle\" x=\"2322.5\" y=\"-2045.8\" font-family=\"Times,serif\" font-size=\"14.00\" fill=\"#000000\">samples = 9</text>\n<text text-anchor=\"middle\" x=\"2322.5\" y=\"-2030.8\" font-family=\"Times,serif\" font-size=\"14.00\" fill=\"#000000\">value = [8, 1]</text>\n<text text-anchor=\"middle\" x=\"2322.5\" y=\"-2015.8\" font-family=\"Times,serif\" font-size=\"14.00\" fill=\"#000000\">class = S</text>\n</g>\n<!-- 133&#45;&gt;135 -->\n<g id=\"edge135\" class=\"edge\">\n<title>133&#45;&gt;135</title>\n<path fill=\"none\" stroke=\"#000000\" d=\"M2282.8348,-2126.8796C2287.2207,-2118.3236 2291.8853,-2109.2238 2296.417,-2100.3833\"/>\n<polygon fill=\"#000000\" stroke=\"#000000\" points=\"2299.627,-2101.7936 2301.0741,-2091.2981 2293.3978,-2098.6004 2299.627,-2101.7936\"/>\n</g>\n<!-- 136 -->\n<g id=\"node137\" class=\"node\">\n<title>136</title>\n<polygon fill=\"#e58139\" stroke=\"#000000\" points=\"2313,-1964.5 2218,-1964.5 2218,-1896.5 2313,-1896.5 2313,-1964.5\"/>\n<text text-anchor=\"middle\" x=\"2265.5\" y=\"-1949.3\" font-family=\"Times,serif\" font-size=\"14.00\" fill=\"#000000\">gini = 0.0</text>\n<text text-anchor=\"middle\" x=\"2265.5\" y=\"-1934.3\" font-family=\"Times,serif\" font-size=\"14.00\" fill=\"#000000\">samples = 5</text>\n<text text-anchor=\"middle\" x=\"2265.5\" y=\"-1919.3\" font-family=\"Times,serif\" font-size=\"14.00\" fill=\"#000000\">value = [5, 0]</text>\n<text text-anchor=\"middle\" x=\"2265.5\" y=\"-1904.3\" font-family=\"Times,serif\" font-size=\"14.00\" fill=\"#000000\">class = S</text>\n</g>\n<!-- 135&#45;&gt;136 -->\n<g id=\"edge136\" class=\"edge\">\n<title>135&#45;&gt;136</title>\n<path fill=\"none\" stroke=\"#000000\" d=\"M2302.5642,-2007.8796C2297.2971,-1996.8835 2291.5999,-1984.9893 2286.289,-1973.9015\"/>\n<polygon fill=\"#000000\" stroke=\"#000000\" points=\"2289.4131,-1972.3217 2281.9366,-1964.8149 2283.1,-1975.3457 2289.4131,-1972.3217\"/>\n</g>\n<!-- 137 -->\n<g id=\"node138\" class=\"node\">\n<title>137</title>\n<polygon fill=\"#eeab7b\" stroke=\"#000000\" points=\"2426,-1972 2331,-1972 2331,-1889 2426,-1889 2426,-1972\"/>\n<text text-anchor=\"middle\" x=\"2378.5\" y=\"-1956.8\" font-family=\"Times,serif\" font-size=\"14.00\" fill=\"#000000\">Age &lt;= 2.5</text>\n<text text-anchor=\"middle\" x=\"2378.5\" y=\"-1941.8\" font-family=\"Times,serif\" font-size=\"14.00\" fill=\"#000000\">gini = 0.375</text>\n<text text-anchor=\"middle\" x=\"2378.5\" y=\"-1926.8\" font-family=\"Times,serif\" font-size=\"14.00\" fill=\"#000000\">samples = 4</text>\n<text text-anchor=\"middle\" x=\"2378.5\" y=\"-1911.8\" font-family=\"Times,serif\" font-size=\"14.00\" fill=\"#000000\">value = [3, 1]</text>\n<text text-anchor=\"middle\" x=\"2378.5\" y=\"-1896.8\" font-family=\"Times,serif\" font-size=\"14.00\" fill=\"#000000\">class = S</text>\n</g>\n<!-- 135&#45;&gt;137 -->\n<g id=\"edge137\" class=\"edge\">\n<title>135&#45;&gt;137</title>\n<path fill=\"none\" stroke=\"#000000\" d=\"M2342.0861,-2007.8796C2346.1124,-1999.3236 2350.3947,-1990.2238 2354.5549,-1981.3833\"/>\n<polygon fill=\"#000000\" stroke=\"#000000\" points=\"2357.7392,-1982.8366 2358.8303,-1972.2981 2351.4054,-1979.856 2357.7392,-1982.8366\"/>\n</g>\n<!-- 138 -->\n<g id=\"node139\" class=\"node\">\n<title>138</title>\n<polygon fill=\"#e58139\" stroke=\"#000000\" points=\"2369,-1845.5 2274,-1845.5 2274,-1777.5 2369,-1777.5 2369,-1845.5\"/>\n<text text-anchor=\"middle\" x=\"2321.5\" y=\"-1830.3\" font-family=\"Times,serif\" font-size=\"14.00\" fill=\"#000000\">gini = 0.0</text>\n<text text-anchor=\"middle\" x=\"2321.5\" y=\"-1815.3\" font-family=\"Times,serif\" font-size=\"14.00\" fill=\"#000000\">samples = 3</text>\n<text text-anchor=\"middle\" x=\"2321.5\" y=\"-1800.3\" font-family=\"Times,serif\" font-size=\"14.00\" fill=\"#000000\">value = [3, 0]</text>\n<text text-anchor=\"middle\" x=\"2321.5\" y=\"-1785.3\" font-family=\"Times,serif\" font-size=\"14.00\" fill=\"#000000\">class = S</text>\n</g>\n<!-- 137&#45;&gt;138 -->\n<g id=\"edge138\" class=\"edge\">\n<title>137&#45;&gt;138</title>\n<path fill=\"none\" stroke=\"#000000\" d=\"M2358.5642,-1888.8796C2353.2971,-1877.8835 2347.5999,-1865.9893 2342.289,-1854.9015\"/>\n<polygon fill=\"#000000\" stroke=\"#000000\" points=\"2345.4131,-1853.3217 2337.9366,-1845.8149 2339.1,-1856.3457 2345.4131,-1853.3217\"/>\n</g>\n<!-- 139 -->\n<g id=\"node140\" class=\"node\">\n<title>139</title>\n<polygon fill=\"#399de5\" stroke=\"#000000\" points=\"2482,-1845.5 2387,-1845.5 2387,-1777.5 2482,-1777.5 2482,-1845.5\"/>\n<text text-anchor=\"middle\" x=\"2434.5\" y=\"-1830.3\" font-family=\"Times,serif\" font-size=\"14.00\" fill=\"#000000\">gini = 0.0</text>\n<text text-anchor=\"middle\" x=\"2434.5\" y=\"-1815.3\" font-family=\"Times,serif\" font-size=\"14.00\" fill=\"#000000\">samples = 1</text>\n<text text-anchor=\"middle\" x=\"2434.5\" y=\"-1800.3\" font-family=\"Times,serif\" font-size=\"14.00\" fill=\"#000000\">value = [0, 1]</text>\n<text text-anchor=\"middle\" x=\"2434.5\" y=\"-1785.3\" font-family=\"Times,serif\" font-size=\"14.00\" fill=\"#000000\">class = u</text>\n</g>\n<!-- 137&#45;&gt;139 -->\n<g id=\"edge139\" class=\"edge\">\n<title>137&#45;&gt;139</title>\n<path fill=\"none\" stroke=\"#000000\" d=\"M2398.0861,-1888.8796C2403.2607,-1877.8835 2408.858,-1865.9893 2414.0758,-1854.9015\"/>\n<polygon fill=\"#000000\" stroke=\"#000000\" points=\"2417.2606,-1856.3534 2418.3518,-1845.8149 2410.9269,-1853.3728 2417.2606,-1856.3534\"/>\n</g>\n<!-- 141 -->\n<g id=\"node142\" class=\"node\">\n<title>141</title>\n<polygon fill=\"#f4c7a8\" stroke=\"#000000\" points=\"3072.5,-2091 2962.5,-2091 2962.5,-2008 3072.5,-2008 3072.5,-2091\"/>\n<text text-anchor=\"middle\" x=\"3017.5\" y=\"-2075.8\" font-family=\"Times,serif\" font-size=\"14.00\" fill=\"#000000\">Age &lt;= 36.5</text>\n<text text-anchor=\"middle\" x=\"3017.5\" y=\"-2060.8\" font-family=\"Times,serif\" font-size=\"14.00\" fill=\"#000000\">gini = 0.46</text>\n<text text-anchor=\"middle\" x=\"3017.5\" y=\"-2045.8\" font-family=\"Times,serif\" font-size=\"14.00\" fill=\"#000000\">samples = 120</text>\n<text text-anchor=\"middle\" x=\"3017.5\" y=\"-2030.8\" font-family=\"Times,serif\" font-size=\"14.00\" fill=\"#000000\">value = [77, 43]</text>\n<text text-anchor=\"middle\" x=\"3017.5\" y=\"-2015.8\" font-family=\"Times,serif\" font-size=\"14.00\" fill=\"#000000\">class = S</text>\n</g>\n<!-- 140&#45;&gt;141 -->\n<g id=\"edge141\" class=\"edge\">\n<title>140&#45;&gt;141</title>\n<path fill=\"none\" stroke=\"#000000\" d=\"M3017.5,-2126.8796C3017.5,-2118.6838 3017.5,-2109.9891 3017.5,-2101.5013\"/>\n<polygon fill=\"#000000\" stroke=\"#000000\" points=\"3021.0001,-2101.298 3017.5,-2091.2981 3014.0001,-2101.2981 3021.0001,-2101.298\"/>\n</g>\n<!-- 228 -->\n<g id=\"node229\" class=\"node\">\n<title>228</title>\n<polygon fill=\"#e89153\" stroke=\"#000000\" points=\"4745,-2091 4628,-2091 4628,-2008 4745,-2008 4745,-2091\"/>\n<text text-anchor=\"middle\" x=\"4686.5\" y=\"-2075.8\" font-family=\"Times,serif\" font-size=\"14.00\" fill=\"#000000\">Fare &lt;= 51.698</text>\n<text text-anchor=\"middle\" x=\"4686.5\" y=\"-2060.8\" font-family=\"Times,serif\" font-size=\"14.00\" fill=\"#000000\">gini = 0.204</text>\n<text text-anchor=\"middle\" x=\"4686.5\" y=\"-2045.8\" font-family=\"Times,serif\" font-size=\"14.00\" fill=\"#000000\">samples = 433</text>\n<text text-anchor=\"middle\" x=\"4686.5\" y=\"-2030.8\" font-family=\"Times,serif\" font-size=\"14.00\" fill=\"#000000\">value = [383, 50]</text>\n<text text-anchor=\"middle\" x=\"4686.5\" y=\"-2015.8\" font-family=\"Times,serif\" font-size=\"14.00\" fill=\"#000000\">class = S</text>\n</g>\n<!-- 140&#45;&gt;228 -->\n<g id=\"edge228\" class=\"edge\">\n<title>140&#45;&gt;228</title>\n<path fill=\"none\" stroke=\"#000000\" d=\"M3076.4104,-2164.2997C3331.861,-2146.086 4343.199,-2073.9774 4617.5352,-2054.4172\"/>\n<polygon fill=\"#000000\" stroke=\"#000000\" points=\"4618.0234,-2057.8914 4627.7491,-2053.6889 4617.5255,-2050.9091 4618.0234,-2057.8914\"/>\n</g>\n<!-- 142 -->\n<g id=\"node143\" class=\"node\">\n<title>142</title>\n<polygon fill=\"#e3f1fb\" stroke=\"#000000\" points=\"2813.5,-1972 2703.5,-1972 2703.5,-1889 2813.5,-1889 2813.5,-1972\"/>\n<text text-anchor=\"middle\" x=\"2758.5\" y=\"-1956.8\" font-family=\"Times,serif\" font-size=\"14.00\" fill=\"#000000\">Fare &lt;= 37.812</text>\n<text text-anchor=\"middle\" x=\"2758.5\" y=\"-1941.8\" font-family=\"Times,serif\" font-size=\"14.00\" fill=\"#000000\">gini = 0.497</text>\n<text text-anchor=\"middle\" x=\"2758.5\" y=\"-1926.8\" font-family=\"Times,serif\" font-size=\"14.00\" fill=\"#000000\">samples = 39</text>\n<text text-anchor=\"middle\" x=\"2758.5\" y=\"-1911.8\" font-family=\"Times,serif\" font-size=\"14.00\" fill=\"#000000\">value = [18, 21]</text>\n<text text-anchor=\"middle\" x=\"2758.5\" y=\"-1896.8\" font-family=\"Times,serif\" font-size=\"14.00\" fill=\"#000000\">class = u</text>\n</g>\n<!-- 141&#45;&gt;142 -->\n<g id=\"edge142\" class=\"edge\">\n<title>141&#45;&gt;142</title>\n<path fill=\"none\" stroke=\"#000000\" d=\"M2962.2557,-2024.1175C2921.4249,-2005.3574 2865.719,-1979.7628 2822.8724,-1960.0765\"/>\n<polygon fill=\"#000000\" stroke=\"#000000\" points=\"2824.2075,-1956.8382 2813.6594,-1955.8435 2821.2849,-1963.1989 2824.2075,-1956.8382\"/>\n</g>\n<!-- 173 -->\n<g id=\"node174\" class=\"node\">\n<title>173</title>\n<polygon fill=\"#efb083\" stroke=\"#000000\" points=\"3457.5,-1972 3347.5,-1972 3347.5,-1889 3457.5,-1889 3457.5,-1972\"/>\n<text text-anchor=\"middle\" x=\"3402.5\" y=\"-1956.8\" font-family=\"Times,serif\" font-size=\"14.00\" fill=\"#000000\">SibSp &lt;= 0.5</text>\n<text text-anchor=\"middle\" x=\"3402.5\" y=\"-1941.8\" font-family=\"Times,serif\" font-size=\"14.00\" fill=\"#000000\">gini = 0.396</text>\n<text text-anchor=\"middle\" x=\"3402.5\" y=\"-1926.8\" font-family=\"Times,serif\" font-size=\"14.00\" fill=\"#000000\">samples = 81</text>\n<text text-anchor=\"middle\" x=\"3402.5\" y=\"-1911.8\" font-family=\"Times,serif\" font-size=\"14.00\" fill=\"#000000\">value = [59, 22]</text>\n<text text-anchor=\"middle\" x=\"3402.5\" y=\"-1896.8\" font-family=\"Times,serif\" font-size=\"14.00\" fill=\"#000000\">class = S</text>\n</g>\n<!-- 141&#45;&gt;173 -->\n<g id=\"edge173\" class=\"edge\">\n<title>141&#45;&gt;173</title>\n<path fill=\"none\" stroke=\"#000000\" d=\"M3072.6611,-2032.4502C3142.7048,-2010.8003 3263.3673,-1973.5047 3337.7158,-1950.5242\"/>\n<polygon fill=\"#000000\" stroke=\"#000000\" points=\"3338.9208,-1953.8152 3347.4412,-1947.5182 3336.8536,-1947.1274 3338.9208,-1953.8152\"/>\n</g>\n<!-- 143 -->\n<g id=\"node144\" class=\"node\">\n<title>143</title>\n<polygon fill=\"#74baed\" stroke=\"#000000\" points=\"2631,-1853 2524,-1853 2524,-1770 2631,-1770 2631,-1853\"/>\n<text text-anchor=\"middle\" x=\"2577.5\" y=\"-1837.8\" font-family=\"Times,serif\" font-size=\"14.00\" fill=\"#000000\">Fare &lt;= 15.644</text>\n<text text-anchor=\"middle\" x=\"2577.5\" y=\"-1822.8\" font-family=\"Times,serif\" font-size=\"14.00\" fill=\"#000000\">gini = 0.355</text>\n<text text-anchor=\"middle\" x=\"2577.5\" y=\"-1807.8\" font-family=\"Times,serif\" font-size=\"14.00\" fill=\"#000000\">samples = 13</text>\n<text text-anchor=\"middle\" x=\"2577.5\" y=\"-1792.8\" font-family=\"Times,serif\" font-size=\"14.00\" fill=\"#000000\">value = [3, 10]</text>\n<text text-anchor=\"middle\" x=\"2577.5\" y=\"-1777.8\" font-family=\"Times,serif\" font-size=\"14.00\" fill=\"#000000\">class = u</text>\n</g>\n<!-- 142&#45;&gt;143 -->\n<g id=\"edge143\" class=\"edge\">\n<title>142&#45;&gt;143</title>\n<path fill=\"none\" stroke=\"#000000\" d=\"M2703.2105,-1894.1495C2683.1084,-1880.9332 2660.2604,-1865.9115 2639.6075,-1852.3331\"/>\n<polygon fill=\"#000000\" stroke=\"#000000\" points=\"2641.4875,-1849.3805 2631.2089,-1846.8114 2637.6419,-1855.2296 2641.4875,-1849.3805\"/>\n</g>\n<!-- 152 -->\n<g id=\"node153\" class=\"node\">\n<title>152</title>\n<polygon fill=\"#f8ddca\" stroke=\"#000000\" points=\"2813,-1853 2704,-1853 2704,-1770 2813,-1770 2813,-1853\"/>\n<text text-anchor=\"middle\" x=\"2758.5\" y=\"-1837.8\" font-family=\"Times,serif\" font-size=\"14.00\" fill=\"#000000\">Fare &lt;= 52.55</text>\n<text text-anchor=\"middle\" x=\"2758.5\" y=\"-1822.8\" font-family=\"Times,serif\" font-size=\"14.00\" fill=\"#000000\">gini = 0.488</text>\n<text text-anchor=\"middle\" x=\"2758.5\" y=\"-1807.8\" font-family=\"Times,serif\" font-size=\"14.00\" fill=\"#000000\">samples = 26</text>\n<text text-anchor=\"middle\" x=\"2758.5\" y=\"-1792.8\" font-family=\"Times,serif\" font-size=\"14.00\" fill=\"#000000\">value = [15, 11]</text>\n<text text-anchor=\"middle\" x=\"2758.5\" y=\"-1777.8\" font-family=\"Times,serif\" font-size=\"14.00\" fill=\"#000000\">class = S</text>\n</g>\n<!-- 142&#45;&gt;152 -->\n<g id=\"edge152\" class=\"edge\">\n<title>142&#45;&gt;152</title>\n<path fill=\"none\" stroke=\"#000000\" d=\"M2758.5,-1888.8796C2758.5,-1880.6838 2758.5,-1871.9891 2758.5,-1863.5013\"/>\n<polygon fill=\"#000000\" stroke=\"#000000\" points=\"2762.0001,-1863.298 2758.5,-1853.2981 2755.0001,-1863.2981 2762.0001,-1863.298\"/>\n</g>\n<!-- 144 -->\n<g id=\"node145\" class=\"node\">\n<title>144</title>\n<polygon fill=\"#e58139\" stroke=\"#000000\" points=\"2508,-1726.5 2413,-1726.5 2413,-1658.5 2508,-1658.5 2508,-1726.5\"/>\n<text text-anchor=\"middle\" x=\"2460.5\" y=\"-1711.3\" font-family=\"Times,serif\" font-size=\"14.00\" fill=\"#000000\">gini = 0.0</text>\n<text text-anchor=\"middle\" x=\"2460.5\" y=\"-1696.3\" font-family=\"Times,serif\" font-size=\"14.00\" fill=\"#000000\">samples = 1</text>\n<text text-anchor=\"middle\" x=\"2460.5\" y=\"-1681.3\" font-family=\"Times,serif\" font-size=\"14.00\" fill=\"#000000\">value = [1, 0]</text>\n<text text-anchor=\"middle\" x=\"2460.5\" y=\"-1666.3\" font-family=\"Times,serif\" font-size=\"14.00\" fill=\"#000000\">class = S</text>\n</g>\n<!-- 143&#45;&gt;144 -->\n<g id=\"edge144\" class=\"edge\">\n<title>143&#45;&gt;144</title>\n<path fill=\"none\" stroke=\"#000000\" d=\"M2536.5791,-1769.8796C2525.2272,-1758.3337 2512.9018,-1745.7976 2501.543,-1734.2446\"/>\n<polygon fill=\"#000000\" stroke=\"#000000\" points=\"2503.7449,-1731.4919 2494.2382,-1726.8149 2498.7534,-1736.3995 2503.7449,-1731.4919\"/>\n</g>\n<!-- 145 -->\n<g id=\"node146\" class=\"node\">\n<title>145</title>\n<polygon fill=\"#61b1ea\" stroke=\"#000000\" points=\"2628.5,-1734 2526.5,-1734 2526.5,-1651 2628.5,-1651 2628.5,-1734\"/>\n<text text-anchor=\"middle\" x=\"2577.5\" y=\"-1718.8\" font-family=\"Times,serif\" font-size=\"14.00\" fill=\"#000000\">Fare &lt;= 27.15</text>\n<text text-anchor=\"middle\" x=\"2577.5\" y=\"-1703.8\" font-family=\"Times,serif\" font-size=\"14.00\" fill=\"#000000\">gini = 0.278</text>\n<text text-anchor=\"middle\" x=\"2577.5\" y=\"-1688.8\" font-family=\"Times,serif\" font-size=\"14.00\" fill=\"#000000\">samples = 12</text>\n<text text-anchor=\"middle\" x=\"2577.5\" y=\"-1673.8\" font-family=\"Times,serif\" font-size=\"14.00\" fill=\"#000000\">value = [2, 10]</text>\n<text text-anchor=\"middle\" x=\"2577.5\" y=\"-1658.8\" font-family=\"Times,serif\" font-size=\"14.00\" fill=\"#000000\">class = u</text>\n</g>\n<!-- 143&#45;&gt;145 -->\n<g id=\"edge145\" class=\"edge\">\n<title>143&#45;&gt;145</title>\n<path fill=\"none\" stroke=\"#000000\" d=\"M2577.5,-1769.8796C2577.5,-1761.6838 2577.5,-1752.9891 2577.5,-1744.5013\"/>\n<polygon fill=\"#000000\" stroke=\"#000000\" points=\"2581.0001,-1744.298 2577.5,-1734.2981 2574.0001,-1744.2981 2581.0001,-1744.298\"/>\n</g>\n<!-- 146 -->\n<g id=\"node147\" class=\"node\">\n<title>146</title>\n<polygon fill=\"#399de5\" stroke=\"#000000\" points=\"2510,-1607.5 2415,-1607.5 2415,-1539.5 2510,-1539.5 2510,-1607.5\"/>\n<text text-anchor=\"middle\" x=\"2462.5\" y=\"-1592.3\" font-family=\"Times,serif\" font-size=\"14.00\" fill=\"#000000\">gini = 0.0</text>\n<text text-anchor=\"middle\" x=\"2462.5\" y=\"-1577.3\" font-family=\"Times,serif\" font-size=\"14.00\" fill=\"#000000\">samples = 6</text>\n<text text-anchor=\"middle\" x=\"2462.5\" y=\"-1562.3\" font-family=\"Times,serif\" font-size=\"14.00\" fill=\"#000000\">value = [0, 6]</text>\n<text text-anchor=\"middle\" x=\"2462.5\" y=\"-1547.3\" font-family=\"Times,serif\" font-size=\"14.00\" fill=\"#000000\">class = u</text>\n</g>\n<!-- 145&#45;&gt;146 -->\n<g id=\"edge146\" class=\"edge\">\n<title>145&#45;&gt;146</title>\n<path fill=\"none\" stroke=\"#000000\" d=\"M2537.2786,-1650.8796C2526.1208,-1639.3337 2514.0061,-1626.7976 2502.8414,-1615.2446\"/>\n<polygon fill=\"#000000\" stroke=\"#000000\" points=\"2505.1275,-1612.5736 2495.6615,-1607.8149 2500.0939,-1617.4381 2505.1275,-1612.5736\"/>\n</g>\n<!-- 147 -->\n<g id=\"node148\" class=\"node\">\n<title>147</title>\n<polygon fill=\"#9ccef2\" stroke=\"#000000\" points=\"2627,-1615 2528,-1615 2528,-1532 2627,-1532 2627,-1615\"/>\n<text text-anchor=\"middle\" x=\"2577.5\" y=\"-1599.8\" font-family=\"Times,serif\" font-size=\"14.00\" fill=\"#000000\">Fare &lt;= 30.25</text>\n<text text-anchor=\"middle\" x=\"2577.5\" y=\"-1584.8\" font-family=\"Times,serif\" font-size=\"14.00\" fill=\"#000000\">gini = 0.444</text>\n<text text-anchor=\"middle\" x=\"2577.5\" y=\"-1569.8\" font-family=\"Times,serif\" font-size=\"14.00\" fill=\"#000000\">samples = 6</text>\n<text text-anchor=\"middle\" x=\"2577.5\" y=\"-1554.8\" font-family=\"Times,serif\" font-size=\"14.00\" fill=\"#000000\">value = [2, 4]</text>\n<text text-anchor=\"middle\" x=\"2577.5\" y=\"-1539.8\" font-family=\"Times,serif\" font-size=\"14.00\" fill=\"#000000\">class = u</text>\n</g>\n<!-- 145&#45;&gt;147 -->\n<g id=\"edge147\" class=\"edge\">\n<title>145&#45;&gt;147</title>\n<path fill=\"none\" stroke=\"#000000\" d=\"M2577.5,-1650.8796C2577.5,-1642.6838 2577.5,-1633.9891 2577.5,-1625.5013\"/>\n<polygon fill=\"#000000\" stroke=\"#000000\" points=\"2581.0001,-1625.298 2577.5,-1615.2981 2574.0001,-1625.2981 2581.0001,-1625.298\"/>\n</g>\n<!-- 148 -->\n<g id=\"node149\" class=\"node\">\n<title>148</title>\n<polygon fill=\"#f2c09c\" stroke=\"#000000\" points=\"2512,-1496 2417,-1496 2417,-1413 2512,-1413 2512,-1496\"/>\n<text text-anchor=\"middle\" x=\"2464.5\" y=\"-1480.8\" font-family=\"Times,serif\" font-size=\"14.00\" fill=\"#000000\">Age &lt;= 27.5</text>\n<text text-anchor=\"middle\" x=\"2464.5\" y=\"-1465.8\" font-family=\"Times,serif\" font-size=\"14.00\" fill=\"#000000\">gini = 0.444</text>\n<text text-anchor=\"middle\" x=\"2464.5\" y=\"-1450.8\" font-family=\"Times,serif\" font-size=\"14.00\" fill=\"#000000\">samples = 3</text>\n<text text-anchor=\"middle\" x=\"2464.5\" y=\"-1435.8\" font-family=\"Times,serif\" font-size=\"14.00\" fill=\"#000000\">value = [2, 1]</text>\n<text text-anchor=\"middle\" x=\"2464.5\" y=\"-1420.8\" font-family=\"Times,serif\" font-size=\"14.00\" fill=\"#000000\">class = S</text>\n</g>\n<!-- 147&#45;&gt;148 -->\n<g id=\"edge148\" class=\"edge\">\n<title>147&#45;&gt;148</title>\n<path fill=\"none\" stroke=\"#000000\" d=\"M2537.9781,-1531.8796C2529.3403,-1522.7832 2520.119,-1513.0722 2511.2303,-1503.7116\"/>\n<polygon fill=\"#000000\" stroke=\"#000000\" points=\"2513.6146,-1501.1395 2504.1906,-1496.2981 2508.5385,-1505.9597 2513.6146,-1501.1395\"/>\n</g>\n<!-- 151 -->\n<g id=\"node152\" class=\"node\">\n<title>151</title>\n<polygon fill=\"#399de5\" stroke=\"#000000\" points=\"2625,-1488.5 2530,-1488.5 2530,-1420.5 2625,-1420.5 2625,-1488.5\"/>\n<text text-anchor=\"middle\" x=\"2577.5\" y=\"-1473.3\" font-family=\"Times,serif\" font-size=\"14.00\" fill=\"#000000\">gini = 0.0</text>\n<text text-anchor=\"middle\" x=\"2577.5\" y=\"-1458.3\" font-family=\"Times,serif\" font-size=\"14.00\" fill=\"#000000\">samples = 3</text>\n<text text-anchor=\"middle\" x=\"2577.5\" y=\"-1443.3\" font-family=\"Times,serif\" font-size=\"14.00\" fill=\"#000000\">value = [0, 3]</text>\n<text text-anchor=\"middle\" x=\"2577.5\" y=\"-1428.3\" font-family=\"Times,serif\" font-size=\"14.00\" fill=\"#000000\">class = u</text>\n</g>\n<!-- 147&#45;&gt;151 -->\n<g id=\"edge151\" class=\"edge\">\n<title>147&#45;&gt;151</title>\n<path fill=\"none\" stroke=\"#000000\" d=\"M2577.5,-1531.8796C2577.5,-1521.2134 2577.5,-1509.7021 2577.5,-1498.9015\"/>\n<polygon fill=\"#000000\" stroke=\"#000000\" points=\"2581.0001,-1498.8149 2577.5,-1488.8149 2574.0001,-1498.815 2581.0001,-1498.8149\"/>\n</g>\n<!-- 149 -->\n<g id=\"node150\" class=\"node\">\n<title>149</title>\n<polygon fill=\"#399de5\" stroke=\"#000000\" points=\"2494,-1369.5 2399,-1369.5 2399,-1301.5 2494,-1301.5 2494,-1369.5\"/>\n<text text-anchor=\"middle\" x=\"2446.5\" y=\"-1354.3\" font-family=\"Times,serif\" font-size=\"14.00\" fill=\"#000000\">gini = 0.0</text>\n<text text-anchor=\"middle\" x=\"2446.5\" y=\"-1339.3\" font-family=\"Times,serif\" font-size=\"14.00\" fill=\"#000000\">samples = 1</text>\n<text text-anchor=\"middle\" x=\"2446.5\" y=\"-1324.3\" font-family=\"Times,serif\" font-size=\"14.00\" fill=\"#000000\">value = [0, 1]</text>\n<text text-anchor=\"middle\" x=\"2446.5\" y=\"-1309.3\" font-family=\"Times,serif\" font-size=\"14.00\" fill=\"#000000\">class = u</text>\n</g>\n<!-- 148&#45;&gt;149 -->\n<g id=\"edge149\" class=\"edge\">\n<title>148&#45;&gt;149</title>\n<path fill=\"none\" stroke=\"#000000\" d=\"M2458.2045,-1412.8796C2456.5911,-1402.2134 2454.8499,-1390.7021 2453.2162,-1379.9015\"/>\n<polygon fill=\"#000000\" stroke=\"#000000\" points=\"2456.6468,-1379.179 2451.6905,-1369.8149 2449.7255,-1380.226 2456.6468,-1379.179\"/>\n</g>\n<!-- 150 -->\n<g id=\"node151\" class=\"node\">\n<title>150</title>\n<polygon fill=\"#e58139\" stroke=\"#000000\" points=\"2607,-1369.5 2512,-1369.5 2512,-1301.5 2607,-1301.5 2607,-1369.5\"/>\n<text text-anchor=\"middle\" x=\"2559.5\" y=\"-1354.3\" font-family=\"Times,serif\" font-size=\"14.00\" fill=\"#000000\">gini = 0.0</text>\n<text text-anchor=\"middle\" x=\"2559.5\" y=\"-1339.3\" font-family=\"Times,serif\" font-size=\"14.00\" fill=\"#000000\">samples = 2</text>\n<text text-anchor=\"middle\" x=\"2559.5\" y=\"-1324.3\" font-family=\"Times,serif\" font-size=\"14.00\" fill=\"#000000\">value = [2, 0]</text>\n<text text-anchor=\"middle\" x=\"2559.5\" y=\"-1309.3\" font-family=\"Times,serif\" font-size=\"14.00\" fill=\"#000000\">class = S</text>\n</g>\n<!-- 148&#45;&gt;150 -->\n<g id=\"edge150\" class=\"edge\">\n<title>148&#45;&gt;150</title>\n<path fill=\"none\" stroke=\"#000000\" d=\"M2497.7264,-1412.8796C2506.7681,-1401.5536 2516.5705,-1389.2748 2525.6466,-1377.9058\"/>\n<polygon fill=\"#000000\" stroke=\"#000000\" points=\"2528.602,-1379.8137 2532.1057,-1369.8149 2523.1315,-1375.4464 2528.602,-1379.8137\"/>\n</g>\n<!-- 153 -->\n<g id=\"node154\" class=\"node\">\n<title>153</title>\n<polygon fill=\"#e58139\" stroke=\"#000000\" points=\"2774,-1726.5 2679,-1726.5 2679,-1658.5 2774,-1658.5 2774,-1726.5\"/>\n<text text-anchor=\"middle\" x=\"2726.5\" y=\"-1711.3\" font-family=\"Times,serif\" font-size=\"14.00\" fill=\"#000000\">gini = 0.0</text>\n<text text-anchor=\"middle\" x=\"2726.5\" y=\"-1696.3\" font-family=\"Times,serif\" font-size=\"14.00\" fill=\"#000000\">samples = 4</text>\n<text text-anchor=\"middle\" x=\"2726.5\" y=\"-1681.3\" font-family=\"Times,serif\" font-size=\"14.00\" fill=\"#000000\">value = [4, 0]</text>\n<text text-anchor=\"middle\" x=\"2726.5\" y=\"-1666.3\" font-family=\"Times,serif\" font-size=\"14.00\" fill=\"#000000\">class = S</text>\n</g>\n<!-- 152&#45;&gt;153 -->\n<g id=\"edge153\" class=\"edge\">\n<title>152&#45;&gt;153</title>\n<path fill=\"none\" stroke=\"#000000\" d=\"M2747.308,-1769.8796C2744.4102,-1759.1034 2741.2804,-1747.4647 2738.3501,-1736.5677\"/>\n<polygon fill=\"#000000\" stroke=\"#000000\" points=\"2741.7044,-1735.563 2735.7275,-1726.8149 2734.9445,-1737.3808 2741.7044,-1735.563\"/>\n</g>\n<!-- 154 -->\n<g id=\"node155\" class=\"node\">\n<title>154</title>\n<polygon fill=\"#ffffff\" stroke=\"#000000\" points=\"2900.5,-1734 2792.5,-1734 2792.5,-1651 2900.5,-1651 2900.5,-1734\"/>\n<text text-anchor=\"middle\" x=\"2846.5\" y=\"-1718.8\" font-family=\"Times,serif\" font-size=\"14.00\" fill=\"#000000\">Age &lt;= 24.5</text>\n<text text-anchor=\"middle\" x=\"2846.5\" y=\"-1703.8\" font-family=\"Times,serif\" font-size=\"14.00\" fill=\"#000000\">gini = 0.5</text>\n<text text-anchor=\"middle\" x=\"2846.5\" y=\"-1688.8\" font-family=\"Times,serif\" font-size=\"14.00\" fill=\"#000000\">samples = 22</text>\n<text text-anchor=\"middle\" x=\"2846.5\" y=\"-1673.8\" font-family=\"Times,serif\" font-size=\"14.00\" fill=\"#000000\">value = [11, 11]</text>\n<text text-anchor=\"middle\" x=\"2846.5\" y=\"-1658.8\" font-family=\"Times,serif\" font-size=\"14.00\" fill=\"#000000\">class = S</text>\n</g>\n<!-- 152&#45;&gt;154 -->\n<g id=\"edge154\" class=\"edge\">\n<title>152&#45;&gt;154</title>\n<path fill=\"none\" stroke=\"#000000\" d=\"M2789.2781,-1769.8796C2795.8051,-1761.0534 2802.7599,-1751.6485 2809.4908,-1742.5466\"/>\n<polygon fill=\"#000000\" stroke=\"#000000\" points=\"2812.4588,-1744.4195 2815.5905,-1734.2981 2806.8305,-1740.2574 2812.4588,-1744.4195\"/>\n</g>\n<!-- 155 -->\n<g id=\"node156\" class=\"node\">\n<title>155</title>\n<polygon fill=\"#f0b78e\" stroke=\"#000000\" points=\"2857,-1615 2762,-1615 2762,-1532 2857,-1532 2857,-1615\"/>\n<text text-anchor=\"middle\" x=\"2809.5\" y=\"-1599.8\" font-family=\"Times,serif\" font-size=\"14.00\" fill=\"#000000\">Age &lt;= 17.5</text>\n<text text-anchor=\"middle\" x=\"2809.5\" y=\"-1584.8\" font-family=\"Times,serif\" font-size=\"14.00\" fill=\"#000000\">gini = 0.42</text>\n<text text-anchor=\"middle\" x=\"2809.5\" y=\"-1569.8\" font-family=\"Times,serif\" font-size=\"14.00\" fill=\"#000000\">samples = 10</text>\n<text text-anchor=\"middle\" x=\"2809.5\" y=\"-1554.8\" font-family=\"Times,serif\" font-size=\"14.00\" fill=\"#000000\">value = [7, 3]</text>\n<text text-anchor=\"middle\" x=\"2809.5\" y=\"-1539.8\" font-family=\"Times,serif\" font-size=\"14.00\" fill=\"#000000\">class = S</text>\n</g>\n<!-- 154&#45;&gt;155 -->\n<g id=\"edge155\" class=\"edge\">\n<title>154&#45;&gt;155</title>\n<path fill=\"none\" stroke=\"#000000\" d=\"M2833.5592,-1650.8796C2830.9549,-1642.5037 2828.1886,-1633.6067 2825.4946,-1624.942\"/>\n<polygon fill=\"#000000\" stroke=\"#000000\" points=\"2828.8073,-1623.808 2822.496,-1615.2981 2822.123,-1625.8863 2828.8073,-1623.808\"/>\n</g>\n<!-- 162 -->\n<g id=\"node163\" class=\"node\">\n<title>162</title>\n<polygon fill=\"#9ccef2\" stroke=\"#000000\" points=\"2976,-1615 2881,-1615 2881,-1532 2976,-1532 2976,-1615\"/>\n<text text-anchor=\"middle\" x=\"2928.5\" y=\"-1599.8\" font-family=\"Times,serif\" font-size=\"14.00\" fill=\"#000000\">Fare &lt;= 61.8</text>\n<text text-anchor=\"middle\" x=\"2928.5\" y=\"-1584.8\" font-family=\"Times,serif\" font-size=\"14.00\" fill=\"#000000\">gini = 0.444</text>\n<text text-anchor=\"middle\" x=\"2928.5\" y=\"-1569.8\" font-family=\"Times,serif\" font-size=\"14.00\" fill=\"#000000\">samples = 12</text>\n<text text-anchor=\"middle\" x=\"2928.5\" y=\"-1554.8\" font-family=\"Times,serif\" font-size=\"14.00\" fill=\"#000000\">value = [4, 8]</text>\n<text text-anchor=\"middle\" x=\"2928.5\" y=\"-1539.8\" font-family=\"Times,serif\" font-size=\"14.00\" fill=\"#000000\">class = u</text>\n</g>\n<!-- 154&#45;&gt;162 -->\n<g id=\"edge162\" class=\"edge\">\n<title>154&#45;&gt;162</title>\n<path fill=\"none\" stroke=\"#000000\" d=\"M2875.1796,-1650.8796C2881.2615,-1642.0534 2887.7422,-1632.6485 2894.0141,-1623.5466\"/>\n<polygon fill=\"#000000\" stroke=\"#000000\" points=\"2896.9059,-1625.5184 2899.698,-1615.2981 2891.1418,-1621.5465 2896.9059,-1625.5184\"/>\n</g>\n<!-- 156 -->\n<g id=\"node157\" class=\"node\">\n<title>156</title>\n<polygon fill=\"#399de5\" stroke=\"#000000\" points=\"2738,-1488.5 2643,-1488.5 2643,-1420.5 2738,-1420.5 2738,-1488.5\"/>\n<text text-anchor=\"middle\" x=\"2690.5\" y=\"-1473.3\" font-family=\"Times,serif\" font-size=\"14.00\" fill=\"#000000\">gini = 0.0</text>\n<text text-anchor=\"middle\" x=\"2690.5\" y=\"-1458.3\" font-family=\"Times,serif\" font-size=\"14.00\" fill=\"#000000\">samples = 2</text>\n<text text-anchor=\"middle\" x=\"2690.5\" y=\"-1443.3\" font-family=\"Times,serif\" font-size=\"14.00\" fill=\"#000000\">value = [0, 2]</text>\n<text text-anchor=\"middle\" x=\"2690.5\" y=\"-1428.3\" font-family=\"Times,serif\" font-size=\"14.00\" fill=\"#000000\">class = u</text>\n</g>\n<!-- 155&#45;&gt;156 -->\n<g id=\"edge156\" class=\"edge\">\n<title>155&#45;&gt;156</title>\n<path fill=\"none\" stroke=\"#000000\" d=\"M2767.8796,-1531.8796C2756.2237,-1520.2237 2743.5587,-1507.5587 2731.9148,-1495.9148\"/>\n<polygon fill=\"#000000\" stroke=\"#000000\" points=\"2734.3609,-1493.4111 2724.8149,-1488.8149 2729.4111,-1498.3609 2734.3609,-1493.4111\"/>\n</g>\n<!-- 157 -->\n<g id=\"node158\" class=\"node\">\n<title>157</title>\n<polygon fill=\"#e99355\" stroke=\"#000000\" points=\"2863,-1496 2756,-1496 2756,-1413 2863,-1413 2863,-1496\"/>\n<text text-anchor=\"middle\" x=\"2809.5\" y=\"-1480.8\" font-family=\"Times,serif\" font-size=\"14.00\" fill=\"#000000\">Fare &lt;= 70.323</text>\n<text text-anchor=\"middle\" x=\"2809.5\" y=\"-1465.8\" font-family=\"Times,serif\" font-size=\"14.00\" fill=\"#000000\">gini = 0.219</text>\n<text text-anchor=\"middle\" x=\"2809.5\" y=\"-1450.8\" font-family=\"Times,serif\" font-size=\"14.00\" fill=\"#000000\">samples = 8</text>\n<text text-anchor=\"middle\" x=\"2809.5\" y=\"-1435.8\" font-family=\"Times,serif\" font-size=\"14.00\" fill=\"#000000\">value = [7, 1]</text>\n<text text-anchor=\"middle\" x=\"2809.5\" y=\"-1420.8\" font-family=\"Times,serif\" font-size=\"14.00\" fill=\"#000000\">class = S</text>\n</g>\n<!-- 155&#45;&gt;157 -->\n<g id=\"edge157\" class=\"edge\">\n<title>155&#45;&gt;157</title>\n<path fill=\"none\" stroke=\"#000000\" d=\"M2809.5,-1531.8796C2809.5,-1523.6838 2809.5,-1514.9891 2809.5,-1506.5013\"/>\n<polygon fill=\"#000000\" stroke=\"#000000\" points=\"2813.0001,-1506.298 2809.5,-1496.2981 2806.0001,-1506.2981 2813.0001,-1506.298\"/>\n</g>\n<!-- 158 -->\n<g id=\"node159\" class=\"node\">\n<title>158</title>\n<polygon fill=\"#ffffff\" stroke=\"#000000\" points=\"2744,-1377 2625,-1377 2625,-1294 2744,-1294 2744,-1377\"/>\n<text text-anchor=\"middle\" x=\"2684.5\" y=\"-1361.8\" font-family=\"Times,serif\" font-size=\"14.00\" fill=\"#000000\">Embarked &lt;= 1.0</text>\n<text text-anchor=\"middle\" x=\"2684.5\" y=\"-1346.8\" font-family=\"Times,serif\" font-size=\"14.00\" fill=\"#000000\">gini = 0.5</text>\n<text text-anchor=\"middle\" x=\"2684.5\" y=\"-1331.8\" font-family=\"Times,serif\" font-size=\"14.00\" fill=\"#000000\">samples = 2</text>\n<text text-anchor=\"middle\" x=\"2684.5\" y=\"-1316.8\" font-family=\"Times,serif\" font-size=\"14.00\" fill=\"#000000\">value = [1, 1]</text>\n<text text-anchor=\"middle\" x=\"2684.5\" y=\"-1301.8\" font-family=\"Times,serif\" font-size=\"14.00\" fill=\"#000000\">class = S</text>\n</g>\n<!-- 157&#45;&gt;158 -->\n<g id=\"edge158\" class=\"edge\">\n<title>157&#45;&gt;158</title>\n<path fill=\"none\" stroke=\"#000000\" d=\"M2765.7811,-1412.8796C2756.1314,-1403.6931 2745.8234,-1393.8798 2735.9009,-1384.4336\"/>\n<polygon fill=\"#000000\" stroke=\"#000000\" points=\"2738.0616,-1381.6582 2728.4055,-1377.2981 2733.235,-1386.7282 2738.0616,-1381.6582\"/>\n</g>\n<!-- 161 -->\n<g id=\"node162\" class=\"node\">\n<title>161</title>\n<polygon fill=\"#e58139\" stroke=\"#000000\" points=\"2857,-1369.5 2762,-1369.5 2762,-1301.5 2857,-1301.5 2857,-1369.5\"/>\n<text text-anchor=\"middle\" x=\"2809.5\" y=\"-1354.3\" font-family=\"Times,serif\" font-size=\"14.00\" fill=\"#000000\">gini = 0.0</text>\n<text text-anchor=\"middle\" x=\"2809.5\" y=\"-1339.3\" font-family=\"Times,serif\" font-size=\"14.00\" fill=\"#000000\">samples = 6</text>\n<text text-anchor=\"middle\" x=\"2809.5\" y=\"-1324.3\" font-family=\"Times,serif\" font-size=\"14.00\" fill=\"#000000\">value = [6, 0]</text>\n<text text-anchor=\"middle\" x=\"2809.5\" y=\"-1309.3\" font-family=\"Times,serif\" font-size=\"14.00\" fill=\"#000000\">class = S</text>\n</g>\n<!-- 157&#45;&gt;161 -->\n<g id=\"edge161\" class=\"edge\">\n<title>157&#45;&gt;161</title>\n<path fill=\"none\" stroke=\"#000000\" d=\"M2809.5,-1412.8796C2809.5,-1402.2134 2809.5,-1390.7021 2809.5,-1379.9015\"/>\n<polygon fill=\"#000000\" stroke=\"#000000\" points=\"2813.0001,-1379.8149 2809.5,-1369.8149 2806.0001,-1379.815 2813.0001,-1379.8149\"/>\n</g>\n<!-- 159 -->\n<g id=\"node160\" class=\"node\">\n<title>159</title>\n<polygon fill=\"#399de5\" stroke=\"#000000\" points=\"2622,-1250.5 2527,-1250.5 2527,-1182.5 2622,-1182.5 2622,-1250.5\"/>\n<text text-anchor=\"middle\" x=\"2574.5\" y=\"-1235.3\" font-family=\"Times,serif\" font-size=\"14.00\" fill=\"#000000\">gini = 0.0</text>\n<text text-anchor=\"middle\" x=\"2574.5\" y=\"-1220.3\" font-family=\"Times,serif\" font-size=\"14.00\" fill=\"#000000\">samples = 1</text>\n<text text-anchor=\"middle\" x=\"2574.5\" y=\"-1205.3\" font-family=\"Times,serif\" font-size=\"14.00\" fill=\"#000000\">value = [0, 1]</text>\n<text text-anchor=\"middle\" x=\"2574.5\" y=\"-1190.3\" font-family=\"Times,serif\" font-size=\"14.00\" fill=\"#000000\">class = u</text>\n</g>\n<!-- 158&#45;&gt;159 -->\n<g id=\"edge159\" class=\"edge\">\n<title>158&#45;&gt;159</title>\n<path fill=\"none\" stroke=\"#000000\" d=\"M2646.0273,-1293.8796C2635.3547,-1282.3337 2623.7667,-1269.7976 2613.0875,-1258.2446\"/>\n<polygon fill=\"#000000\" stroke=\"#000000\" points=\"2615.5778,-1255.7825 2606.2197,-1250.8149 2610.4375,-1260.534 2615.5778,-1255.7825\"/>\n</g>\n<!-- 160 -->\n<g id=\"node161\" class=\"node\">\n<title>160</title>\n<polygon fill=\"#e58139\" stroke=\"#000000\" points=\"2735,-1250.5 2640,-1250.5 2640,-1182.5 2735,-1182.5 2735,-1250.5\"/>\n<text text-anchor=\"middle\" x=\"2687.5\" y=\"-1235.3\" font-family=\"Times,serif\" font-size=\"14.00\" fill=\"#000000\">gini = 0.0</text>\n<text text-anchor=\"middle\" x=\"2687.5\" y=\"-1220.3\" font-family=\"Times,serif\" font-size=\"14.00\" fill=\"#000000\">samples = 1</text>\n<text text-anchor=\"middle\" x=\"2687.5\" y=\"-1205.3\" font-family=\"Times,serif\" font-size=\"14.00\" fill=\"#000000\">value = [1, 0]</text>\n<text text-anchor=\"middle\" x=\"2687.5\" y=\"-1190.3\" font-family=\"Times,serif\" font-size=\"14.00\" fill=\"#000000\">class = S</text>\n</g>\n<!-- 158&#45;&gt;160 -->\n<g id=\"edge160\" class=\"edge\">\n<title>158&#45;&gt;160</title>\n<path fill=\"none\" stroke=\"#000000\" d=\"M2685.5493,-1293.8796C2685.8182,-1283.2134 2686.1084,-1271.7021 2686.3806,-1260.9015\"/>\n<polygon fill=\"#000000\" stroke=\"#000000\" points=\"2689.8817,-1260.9 2686.6349,-1250.8149 2682.8839,-1260.7235 2689.8817,-1260.9\"/>\n</g>\n<!-- 163 -->\n<g id=\"node164\" class=\"node\">\n<title>163</title>\n<polygon fill=\"#399de5\" stroke=\"#000000\" points=\"2976,-1488.5 2881,-1488.5 2881,-1420.5 2976,-1420.5 2976,-1488.5\"/>\n<text text-anchor=\"middle\" x=\"2928.5\" y=\"-1473.3\" font-family=\"Times,serif\" font-size=\"14.00\" fill=\"#000000\">gini = 0.0</text>\n<text text-anchor=\"middle\" x=\"2928.5\" y=\"-1458.3\" font-family=\"Times,serif\" font-size=\"14.00\" fill=\"#000000\">samples = 3</text>\n<text text-anchor=\"middle\" x=\"2928.5\" y=\"-1443.3\" font-family=\"Times,serif\" font-size=\"14.00\" fill=\"#000000\">value = [0, 3]</text>\n<text text-anchor=\"middle\" x=\"2928.5\" y=\"-1428.3\" font-family=\"Times,serif\" font-size=\"14.00\" fill=\"#000000\">class = u</text>\n</g>\n<!-- 162&#45;&gt;163 -->\n<g id=\"edge163\" class=\"edge\">\n<title>162&#45;&gt;163</title>\n<path fill=\"none\" stroke=\"#000000\" d=\"M2928.5,-1531.8796C2928.5,-1521.2134 2928.5,-1509.7021 2928.5,-1498.9015\"/>\n<polygon fill=\"#000000\" stroke=\"#000000\" points=\"2932.0001,-1498.8149 2928.5,-1488.8149 2925.0001,-1498.815 2932.0001,-1498.8149\"/>\n</g>\n<!-- 164 -->\n<g id=\"node165\" class=\"node\">\n<title>164</title>\n<polygon fill=\"#d7ebfa\" stroke=\"#000000\" points=\"3101,-1496 2994,-1496 2994,-1413 3101,-1413 3101,-1496\"/>\n<text text-anchor=\"middle\" x=\"3047.5\" y=\"-1480.8\" font-family=\"Times,serif\" font-size=\"14.00\" fill=\"#000000\">Fare &lt;= 86.625</text>\n<text text-anchor=\"middle\" x=\"3047.5\" y=\"-1465.8\" font-family=\"Times,serif\" font-size=\"14.00\" fill=\"#000000\">gini = 0.494</text>\n<text text-anchor=\"middle\" x=\"3047.5\" y=\"-1450.8\" font-family=\"Times,serif\" font-size=\"14.00\" fill=\"#000000\">samples = 9</text>\n<text text-anchor=\"middle\" x=\"3047.5\" y=\"-1435.8\" font-family=\"Times,serif\" font-size=\"14.00\" fill=\"#000000\">value = [4, 5]</text>\n<text text-anchor=\"middle\" x=\"3047.5\" y=\"-1420.8\" font-family=\"Times,serif\" font-size=\"14.00\" fill=\"#000000\">class = u</text>\n</g>\n<!-- 162&#45;&gt;164 -->\n<g id=\"edge164\" class=\"edge\">\n<title>162&#45;&gt;164</title>\n<path fill=\"none\" stroke=\"#000000\" d=\"M2970.1204,-1531.8796C2979.3069,-1522.6931 2989.1202,-1512.8798 2998.5664,-1503.4336\"/>\n<polygon fill=\"#000000\" stroke=\"#000000\" points=\"3001.1057,-1505.8441 3005.7019,-1496.2981 2996.1559,-1500.8943 3001.1057,-1505.8441\"/>\n</g>\n<!-- 165 -->\n<g id=\"node166\" class=\"node\">\n<title>165</title>\n<polygon fill=\"#eeab7b\" stroke=\"#000000\" points=\"2970,-1377 2875,-1377 2875,-1294 2970,-1294 2970,-1377\"/>\n<text text-anchor=\"middle\" x=\"2922.5\" y=\"-1361.8\" font-family=\"Times,serif\" font-size=\"14.00\" fill=\"#000000\">Age &lt;= 27.5</text>\n<text text-anchor=\"middle\" x=\"2922.5\" y=\"-1346.8\" font-family=\"Times,serif\" font-size=\"14.00\" fill=\"#000000\">gini = 0.375</text>\n<text text-anchor=\"middle\" x=\"2922.5\" y=\"-1331.8\" font-family=\"Times,serif\" font-size=\"14.00\" fill=\"#000000\">samples = 4</text>\n<text text-anchor=\"middle\" x=\"2922.5\" y=\"-1316.8\" font-family=\"Times,serif\" font-size=\"14.00\" fill=\"#000000\">value = [3, 1]</text>\n<text text-anchor=\"middle\" x=\"2922.5\" y=\"-1301.8\" font-family=\"Times,serif\" font-size=\"14.00\" fill=\"#000000\">class = S</text>\n</g>\n<!-- 164&#45;&gt;165 -->\n<g id=\"edge165\" class=\"edge\">\n<title>164&#45;&gt;165</title>\n<path fill=\"none\" stroke=\"#000000\" d=\"M3003.7811,-1412.8796C2994.1314,-1403.6931 2983.8234,-1393.8798 2973.9009,-1384.4336\"/>\n<polygon fill=\"#000000\" stroke=\"#000000\" points=\"2976.0616,-1381.6582 2966.4055,-1377.2981 2971.235,-1386.7282 2976.0616,-1381.6582\"/>\n</g>\n<!-- 168 -->\n<g id=\"node169\" class=\"node\">\n<title>168</title>\n<polygon fill=\"#6ab6ec\" stroke=\"#000000\" points=\"3095,-1377 3000,-1377 3000,-1294 3095,-1294 3095,-1377\"/>\n<text text-anchor=\"middle\" x=\"3047.5\" y=\"-1361.8\" font-family=\"Times,serif\" font-size=\"14.00\" fill=\"#000000\">Parch &lt;= 1.5</text>\n<text text-anchor=\"middle\" x=\"3047.5\" y=\"-1346.8\" font-family=\"Times,serif\" font-size=\"14.00\" fill=\"#000000\">gini = 0.32</text>\n<text text-anchor=\"middle\" x=\"3047.5\" y=\"-1331.8\" font-family=\"Times,serif\" font-size=\"14.00\" fill=\"#000000\">samples = 5</text>\n<text text-anchor=\"middle\" x=\"3047.5\" y=\"-1316.8\" font-family=\"Times,serif\" font-size=\"14.00\" fill=\"#000000\">value = [1, 4]</text>\n<text text-anchor=\"middle\" x=\"3047.5\" y=\"-1301.8\" font-family=\"Times,serif\" font-size=\"14.00\" fill=\"#000000\">class = u</text>\n</g>\n<!-- 164&#45;&gt;168 -->\n<g id=\"edge168\" class=\"edge\">\n<title>164&#45;&gt;168</title>\n<path fill=\"none\" stroke=\"#000000\" d=\"M3047.5,-1412.8796C3047.5,-1404.6838 3047.5,-1395.9891 3047.5,-1387.5013\"/>\n<polygon fill=\"#000000\" stroke=\"#000000\" points=\"3051.0001,-1387.298 3047.5,-1377.2981 3044.0001,-1387.2981 3051.0001,-1387.298\"/>\n</g>\n<!-- 166 -->\n<g id=\"node167\" class=\"node\">\n<title>166</title>\n<polygon fill=\"#399de5\" stroke=\"#000000\" points=\"2854,-1250.5 2759,-1250.5 2759,-1182.5 2854,-1182.5 2854,-1250.5\"/>\n<text text-anchor=\"middle\" x=\"2806.5\" y=\"-1235.3\" font-family=\"Times,serif\" font-size=\"14.00\" fill=\"#000000\">gini = 0.0</text>\n<text text-anchor=\"middle\" x=\"2806.5\" y=\"-1220.3\" font-family=\"Times,serif\" font-size=\"14.00\" fill=\"#000000\">samples = 1</text>\n<text text-anchor=\"middle\" x=\"2806.5\" y=\"-1205.3\" font-family=\"Times,serif\" font-size=\"14.00\" fill=\"#000000\">value = [0, 1]</text>\n<text text-anchor=\"middle\" x=\"2806.5\" y=\"-1190.3\" font-family=\"Times,serif\" font-size=\"14.00\" fill=\"#000000\">class = u</text>\n</g>\n<!-- 165&#45;&gt;166 -->\n<g id=\"edge166\" class=\"edge\">\n<title>165&#45;&gt;166</title>\n<path fill=\"none\" stroke=\"#000000\" d=\"M2881.9288,-1293.8796C2870.674,-1282.3337 2858.4539,-1269.7976 2847.1922,-1258.2446\"/>\n<polygon fill=\"#000000\" stroke=\"#000000\" points=\"2849.4364,-1255.5326 2839.9499,-1250.8149 2844.4238,-1260.4188 2849.4364,-1255.5326\"/>\n</g>\n<!-- 167 -->\n<g id=\"node168\" class=\"node\">\n<title>167</title>\n<polygon fill=\"#e58139\" stroke=\"#000000\" points=\"2967,-1250.5 2872,-1250.5 2872,-1182.5 2967,-1182.5 2967,-1250.5\"/>\n<text text-anchor=\"middle\" x=\"2919.5\" y=\"-1235.3\" font-family=\"Times,serif\" font-size=\"14.00\" fill=\"#000000\">gini = 0.0</text>\n<text text-anchor=\"middle\" x=\"2919.5\" y=\"-1220.3\" font-family=\"Times,serif\" font-size=\"14.00\" fill=\"#000000\">samples = 3</text>\n<text text-anchor=\"middle\" x=\"2919.5\" y=\"-1205.3\" font-family=\"Times,serif\" font-size=\"14.00\" fill=\"#000000\">value = [3, 0]</text>\n<text text-anchor=\"middle\" x=\"2919.5\" y=\"-1190.3\" font-family=\"Times,serif\" font-size=\"14.00\" fill=\"#000000\">class = S</text>\n</g>\n<!-- 165&#45;&gt;167 -->\n<g id=\"edge167\" class=\"edge\">\n<title>165&#45;&gt;167</title>\n<path fill=\"none\" stroke=\"#000000\" d=\"M2921.4507,-1293.8796C2921.1818,-1283.2134 2920.8916,-1271.7021 2920.6194,-1260.9015\"/>\n<polygon fill=\"#000000\" stroke=\"#000000\" points=\"2924.1161,-1260.7235 2920.3651,-1250.8149 2917.1183,-1260.9 2924.1161,-1260.7235\"/>\n</g>\n<!-- 169 -->\n<g id=\"node170\" class=\"node\">\n<title>169</title>\n<polygon fill=\"#399de5\" stroke=\"#000000\" points=\"3080,-1250.5 2985,-1250.5 2985,-1182.5 3080,-1182.5 3080,-1250.5\"/>\n<text text-anchor=\"middle\" x=\"3032.5\" y=\"-1235.3\" font-family=\"Times,serif\" font-size=\"14.00\" fill=\"#000000\">gini = 0.0</text>\n<text text-anchor=\"middle\" x=\"3032.5\" y=\"-1220.3\" font-family=\"Times,serif\" font-size=\"14.00\" fill=\"#000000\">samples = 3</text>\n<text text-anchor=\"middle\" x=\"3032.5\" y=\"-1205.3\" font-family=\"Times,serif\" font-size=\"14.00\" fill=\"#000000\">value = [0, 3]</text>\n<text text-anchor=\"middle\" x=\"3032.5\" y=\"-1190.3\" font-family=\"Times,serif\" font-size=\"14.00\" fill=\"#000000\">class = u</text>\n</g>\n<!-- 168&#45;&gt;169 -->\n<g id=\"edge169\" class=\"edge\">\n<title>168&#45;&gt;169</title>\n<path fill=\"none\" stroke=\"#000000\" d=\"M3042.2537,-1293.8796C3040.9092,-1283.2134 3039.4582,-1271.7021 3038.0968,-1260.9015\"/>\n<polygon fill=\"#000000\" stroke=\"#000000\" points=\"3041.5486,-1260.2987 3036.8254,-1250.8149 3034.6036,-1261.1742 3041.5486,-1260.2987\"/>\n</g>\n<!-- 170 -->\n<g id=\"node171\" class=\"node\">\n<title>170</title>\n<polygon fill=\"#ffffff\" stroke=\"#000000\" points=\"3217,-1258 3098,-1258 3098,-1175 3217,-1175 3217,-1258\"/>\n<text text-anchor=\"middle\" x=\"3157.5\" y=\"-1242.8\" font-family=\"Times,serif\" font-size=\"14.00\" fill=\"#000000\">Embarked &lt;= 1.0</text>\n<text text-anchor=\"middle\" x=\"3157.5\" y=\"-1227.8\" font-family=\"Times,serif\" font-size=\"14.00\" fill=\"#000000\">gini = 0.5</text>\n<text text-anchor=\"middle\" x=\"3157.5\" y=\"-1212.8\" font-family=\"Times,serif\" font-size=\"14.00\" fill=\"#000000\">samples = 2</text>\n<text text-anchor=\"middle\" x=\"3157.5\" y=\"-1197.8\" font-family=\"Times,serif\" font-size=\"14.00\" fill=\"#000000\">value = [1, 1]</text>\n<text text-anchor=\"middle\" x=\"3157.5\" y=\"-1182.8\" font-family=\"Times,serif\" font-size=\"14.00\" fill=\"#000000\">class = S</text>\n</g>\n<!-- 168&#45;&gt;170 -->\n<g id=\"edge170\" class=\"edge\">\n<title>168&#45;&gt;170</title>\n<path fill=\"none\" stroke=\"#000000\" d=\"M3085.9727,-1293.8796C3094.3811,-1284.7832 3103.3576,-1275.0722 3112.0103,-1265.7116\"/>\n<polygon fill=\"#000000\" stroke=\"#000000\" points=\"3114.6453,-1268.0172 3118.8631,-1258.2981 3109.505,-1263.2656 3114.6453,-1268.0172\"/>\n</g>\n<!-- 171 -->\n<g id=\"node172\" class=\"node\">\n<title>171</title>\n<polygon fill=\"#e58139\" stroke=\"#000000\" points=\"3121,-1131.5 3026,-1131.5 3026,-1063.5 3121,-1063.5 3121,-1131.5\"/>\n<text text-anchor=\"middle\" x=\"3073.5\" y=\"-1116.3\" font-family=\"Times,serif\" font-size=\"14.00\" fill=\"#000000\">gini = 0.0</text>\n<text text-anchor=\"middle\" x=\"3073.5\" y=\"-1101.3\" font-family=\"Times,serif\" font-size=\"14.00\" fill=\"#000000\">samples = 1</text>\n<text text-anchor=\"middle\" x=\"3073.5\" y=\"-1086.3\" font-family=\"Times,serif\" font-size=\"14.00\" fill=\"#000000\">value = [1, 0]</text>\n<text text-anchor=\"middle\" x=\"3073.5\" y=\"-1071.3\" font-family=\"Times,serif\" font-size=\"14.00\" fill=\"#000000\">class = S</text>\n</g>\n<!-- 170&#45;&gt;171 -->\n<g id=\"edge171\" class=\"edge\">\n<title>170&#45;&gt;171</title>\n<path fill=\"none\" stroke=\"#000000\" d=\"M3128.1209,-1174.8796C3120.2037,-1163.6636 3111.6269,-1151.5131 3103.6675,-1140.2372\"/>\n<polygon fill=\"#000000\" stroke=\"#000000\" points=\"3106.3486,-1137.9662 3097.7223,-1131.8149 3100.6298,-1142.003 3106.3486,-1137.9662\"/>\n</g>\n<!-- 172 -->\n<g id=\"node173\" class=\"node\">\n<title>172</title>\n<polygon fill=\"#399de5\" stroke=\"#000000\" points=\"3234,-1131.5 3139,-1131.5 3139,-1063.5 3234,-1063.5 3234,-1131.5\"/>\n<text text-anchor=\"middle\" x=\"3186.5\" y=\"-1116.3\" font-family=\"Times,serif\" font-size=\"14.00\" fill=\"#000000\">gini = 0.0</text>\n<text text-anchor=\"middle\" x=\"3186.5\" y=\"-1101.3\" font-family=\"Times,serif\" font-size=\"14.00\" fill=\"#000000\">samples = 1</text>\n<text text-anchor=\"middle\" x=\"3186.5\" y=\"-1086.3\" font-family=\"Times,serif\" font-size=\"14.00\" fill=\"#000000\">value = [0, 1]</text>\n<text text-anchor=\"middle\" x=\"3186.5\" y=\"-1071.3\" font-family=\"Times,serif\" font-size=\"14.00\" fill=\"#000000\">class = u</text>\n</g>\n<!-- 170&#45;&gt;172 -->\n<g id=\"edge172\" class=\"edge\">\n<title>170&#45;&gt;172</title>\n<path fill=\"none\" stroke=\"#000000\" d=\"M3167.6428,-1174.8796C3170.2689,-1164.1034 3173.1052,-1152.4647 3175.7608,-1141.5677\"/>\n<polygon fill=\"#000000\" stroke=\"#000000\" points=\"3179.1703,-1142.3593 3178.1375,-1131.8149 3172.3693,-1140.7019 3179.1703,-1142.3593\"/>\n</g>\n<!-- 174 -->\n<g id=\"node175\" class=\"node\">\n<title>174</title>\n<polygon fill=\"#eca36f\" stroke=\"#000000\" points=\"3457.5,-1853 3347.5,-1853 3347.5,-1770 3457.5,-1770 3457.5,-1853\"/>\n<text text-anchor=\"middle\" x=\"3402.5\" y=\"-1837.8\" font-family=\"Times,serif\" font-size=\"14.00\" fill=\"#000000\">Fare &lt;= 37.0</text>\n<text text-anchor=\"middle\" x=\"3402.5\" y=\"-1822.8\" font-family=\"Times,serif\" font-size=\"14.00\" fill=\"#000000\">gini = 0.335</text>\n<text text-anchor=\"middle\" x=\"3402.5\" y=\"-1807.8\" font-family=\"Times,serif\" font-size=\"14.00\" fill=\"#000000\">samples = 61</text>\n<text text-anchor=\"middle\" x=\"3402.5\" y=\"-1792.8\" font-family=\"Times,serif\" font-size=\"14.00\" fill=\"#000000\">value = [48, 13]</text>\n<text text-anchor=\"middle\" x=\"3402.5\" y=\"-1777.8\" font-family=\"Times,serif\" font-size=\"14.00\" fill=\"#000000\">class = S</text>\n</g>\n<!-- 173&#45;&gt;174 -->\n<g id=\"edge174\" class=\"edge\">\n<title>173&#45;&gt;174</title>\n<path fill=\"none\" stroke=\"#000000\" d=\"M3402.5,-1888.8796C3402.5,-1880.6838 3402.5,-1871.9891 3402.5,-1863.5013\"/>\n<polygon fill=\"#000000\" stroke=\"#000000\" points=\"3406.0001,-1863.298 3402.5,-1853.2981 3399.0001,-1863.2981 3406.0001,-1863.298\"/>\n</g>\n<!-- 211 -->\n<g id=\"node212\" class=\"node\">\n<title>211</title>\n<polygon fill=\"#fae8db\" stroke=\"#000000\" points=\"3782,-1853 3675,-1853 3675,-1770 3782,-1770 3782,-1853\"/>\n<text text-anchor=\"middle\" x=\"3728.5\" y=\"-1837.8\" font-family=\"Times,serif\" font-size=\"14.00\" fill=\"#000000\">Fare &lt;= 52.827</text>\n<text text-anchor=\"middle\" x=\"3728.5\" y=\"-1822.8\" font-family=\"Times,serif\" font-size=\"14.00\" fill=\"#000000\">gini = 0.495</text>\n<text text-anchor=\"middle\" x=\"3728.5\" y=\"-1807.8\" font-family=\"Times,serif\" font-size=\"14.00\" fill=\"#000000\">samples = 20</text>\n<text text-anchor=\"middle\" x=\"3728.5\" y=\"-1792.8\" font-family=\"Times,serif\" font-size=\"14.00\" fill=\"#000000\">value = [11, 9]</text>\n<text text-anchor=\"middle\" x=\"3728.5\" y=\"-1777.8\" font-family=\"Times,serif\" font-size=\"14.00\" fill=\"#000000\">class = S</text>\n</g>\n<!-- 173&#45;&gt;211 -->\n<g id=\"edge211\" class=\"edge\">\n<title>173&#45;&gt;211</title>\n<path fill=\"none\" stroke=\"#000000\" d=\"M3457.8015,-1910.3133C3515.3081,-1889.3216 3605.1865,-1856.5132 3665.4226,-1834.5252\"/>\n<polygon fill=\"#000000\" stroke=\"#000000\" points=\"3666.6326,-1837.8095 3674.8261,-1831.0926 3664.2322,-1831.2339 3666.6326,-1837.8095\"/>\n</g>\n<!-- 175 -->\n<g id=\"node176\" class=\"node\">\n<title>175</title>\n<polygon fill=\"#f0b489\" stroke=\"#000000\" points=\"3395.5,-1734 3285.5,-1734 3285.5,-1651 3395.5,-1651 3395.5,-1734\"/>\n<text text-anchor=\"middle\" x=\"3340.5\" y=\"-1718.8\" font-family=\"Times,serif\" font-size=\"14.00\" fill=\"#000000\">Fare &lt;= 26.144</text>\n<text text-anchor=\"middle\" x=\"3340.5\" y=\"-1703.8\" font-family=\"Times,serif\" font-size=\"14.00\" fill=\"#000000\">gini = 0.411</text>\n<text text-anchor=\"middle\" x=\"3340.5\" y=\"-1688.8\" font-family=\"Times,serif\" font-size=\"14.00\" fill=\"#000000\">samples = 45</text>\n<text text-anchor=\"middle\" x=\"3340.5\" y=\"-1673.8\" font-family=\"Times,serif\" font-size=\"14.00\" fill=\"#000000\">value = [32, 13]</text>\n<text text-anchor=\"middle\" x=\"3340.5\" y=\"-1658.8\" font-family=\"Times,serif\" font-size=\"14.00\" fill=\"#000000\">class = S</text>\n</g>\n<!-- 174&#45;&gt;175 -->\n<g id=\"edge175\" class=\"edge\">\n<title>174&#45;&gt;175</title>\n<path fill=\"none\" stroke=\"#000000\" d=\"M3380.8154,-1769.8796C3376.3577,-1761.3236 3371.6166,-1752.2238 3367.0106,-1743.3833\"/>\n<polygon fill=\"#000000\" stroke=\"#000000\" points=\"3370.0017,-1741.5494 3362.2771,-1734.2981 3363.7938,-1744.7838 3370.0017,-1741.5494\"/>\n</g>\n<!-- 210 -->\n<g id=\"node211\" class=\"node\">\n<title>210</title>\n<polygon fill=\"#e58139\" stroke=\"#000000\" points=\"3515.5,-1726.5 3413.5,-1726.5 3413.5,-1658.5 3515.5,-1658.5 3515.5,-1726.5\"/>\n<text text-anchor=\"middle\" x=\"3464.5\" y=\"-1711.3\" font-family=\"Times,serif\" font-size=\"14.00\" fill=\"#000000\">gini = 0.0</text>\n<text text-anchor=\"middle\" x=\"3464.5\" y=\"-1696.3\" font-family=\"Times,serif\" font-size=\"14.00\" fill=\"#000000\">samples = 16</text>\n<text text-anchor=\"middle\" x=\"3464.5\" y=\"-1681.3\" font-family=\"Times,serif\" font-size=\"14.00\" fill=\"#000000\">value = [16, 0]</text>\n<text text-anchor=\"middle\" x=\"3464.5\" y=\"-1666.3\" font-family=\"Times,serif\" font-size=\"14.00\" fill=\"#000000\">class = S</text>\n</g>\n<!-- 174&#45;&gt;210 -->\n<g id=\"edge210\" class=\"edge\">\n<title>174&#45;&gt;210</title>\n<path fill=\"none\" stroke=\"#000000\" d=\"M3424.1846,-1769.8796C3429.9136,-1758.8835 3436.1106,-1746.9893 3441.8874,-1735.9015\"/>\n<polygon fill=\"#000000\" stroke=\"#000000\" points=\"3445.105,-1737.3007 3446.6216,-1726.8149 3438.897,-1734.0662 3445.105,-1737.3007\"/>\n</g>\n<!-- 176 -->\n<g id=\"node177\" class=\"node\">\n<title>176</title>\n<polygon fill=\"#e58139\" stroke=\"#000000\" points=\"3327,-1607.5 3232,-1607.5 3232,-1539.5 3327,-1539.5 3327,-1607.5\"/>\n<text text-anchor=\"middle\" x=\"3279.5\" y=\"-1592.3\" font-family=\"Times,serif\" font-size=\"14.00\" fill=\"#000000\">gini = 0.0</text>\n<text text-anchor=\"middle\" x=\"3279.5\" y=\"-1577.3\" font-family=\"Times,serif\" font-size=\"14.00\" fill=\"#000000\">samples = 9</text>\n<text text-anchor=\"middle\" x=\"3279.5\" y=\"-1562.3\" font-family=\"Times,serif\" font-size=\"14.00\" fill=\"#000000\">value = [9, 0]</text>\n<text text-anchor=\"middle\" x=\"3279.5\" y=\"-1547.3\" font-family=\"Times,serif\" font-size=\"14.00\" fill=\"#000000\">class = S</text>\n</g>\n<!-- 175&#45;&gt;176 -->\n<g id=\"edge176\" class=\"edge\">\n<title>175&#45;&gt;176</title>\n<path fill=\"none\" stroke=\"#000000\" d=\"M3319.1652,-1650.8796C3313.5285,-1639.8835 3307.4315,-1627.9893 3301.7478,-1616.9015\"/>\n<polygon fill=\"#000000\" stroke=\"#000000\" points=\"3304.7663,-1615.1173 3297.09,-1607.8149 3298.5371,-1618.3105 3304.7663,-1615.1173\"/>\n</g>\n<!-- 177 -->\n<g id=\"node178\" class=\"node\">\n<title>177</title>\n<polygon fill=\"#f4c8a9\" stroke=\"#000000\" points=\"3455.5,-1615 3345.5,-1615 3345.5,-1532 3455.5,-1532 3455.5,-1615\"/>\n<text text-anchor=\"middle\" x=\"3400.5\" y=\"-1599.8\" font-family=\"Times,serif\" font-size=\"14.00\" fill=\"#000000\">Age &lt;= 53.5</text>\n<text text-anchor=\"middle\" x=\"3400.5\" y=\"-1584.8\" font-family=\"Times,serif\" font-size=\"14.00\" fill=\"#000000\">gini = 0.461</text>\n<text text-anchor=\"middle\" x=\"3400.5\" y=\"-1569.8\" font-family=\"Times,serif\" font-size=\"14.00\" fill=\"#000000\">samples = 36</text>\n<text text-anchor=\"middle\" x=\"3400.5\" y=\"-1554.8\" font-family=\"Times,serif\" font-size=\"14.00\" fill=\"#000000\">value = [23, 13]</text>\n<text text-anchor=\"middle\" x=\"3400.5\" y=\"-1539.8\" font-family=\"Times,serif\" font-size=\"14.00\" fill=\"#000000\">class = S</text>\n</g>\n<!-- 175&#45;&gt;177 -->\n<g id=\"edge177\" class=\"edge\">\n<title>175&#45;&gt;177</title>\n<path fill=\"none\" stroke=\"#000000\" d=\"M3361.4851,-1650.8796C3365.799,-1642.3236 3370.3872,-1633.2238 3374.8446,-1624.3833\"/>\n<polygon fill=\"#000000\" stroke=\"#000000\" points=\"3378.0484,-1625.8031 3379.4253,-1615.2981 3371.7979,-1622.6515 3378.0484,-1625.8031\"/>\n</g>\n<!-- 178 -->\n<g id=\"node179\" class=\"node\">\n<title>178</title>\n<polygon fill=\"#fdf5ef\" stroke=\"#000000\" points=\"3392,-1496 3283,-1496 3283,-1413 3392,-1413 3392,-1496\"/>\n<text text-anchor=\"middle\" x=\"3337.5\" y=\"-1480.8\" font-family=\"Times,serif\" font-size=\"14.00\" fill=\"#000000\">Age &lt;= 47.5</text>\n<text text-anchor=\"middle\" x=\"3337.5\" y=\"-1465.8\" font-family=\"Times,serif\" font-size=\"14.00\" fill=\"#000000\">gini = 0.499</text>\n<text text-anchor=\"middle\" x=\"3337.5\" y=\"-1450.8\" font-family=\"Times,serif\" font-size=\"14.00\" fill=\"#000000\">samples = 23</text>\n<text text-anchor=\"middle\" x=\"3337.5\" y=\"-1435.8\" font-family=\"Times,serif\" font-size=\"14.00\" fill=\"#000000\">value = [12, 11]</text>\n<text text-anchor=\"middle\" x=\"3337.5\" y=\"-1420.8\" font-family=\"Times,serif\" font-size=\"14.00\" fill=\"#000000\">class = S</text>\n</g>\n<!-- 177&#45;&gt;178 -->\n<g id=\"edge178\" class=\"edge\">\n<title>177&#45;&gt;178</title>\n<path fill=\"none\" stroke=\"#000000\" d=\"M3378.4657,-1531.8796C3373.936,-1523.3236 3369.1185,-1514.2238 3364.4382,-1505.3833\"/>\n<polygon fill=\"#000000\" stroke=\"#000000\" points=\"3367.4006,-1503.4983 3359.6284,-1496.2981 3361.2141,-1506.7736 3367.4006,-1503.4983\"/>\n</g>\n<!-- 205 -->\n<g id=\"node206\" class=\"node\">\n<title>205</title>\n<polygon fill=\"#ea985d\" stroke=\"#000000\" points=\"3517,-1496 3410,-1496 3410,-1413 3517,-1413 3517,-1496\"/>\n<text text-anchor=\"middle\" x=\"3463.5\" y=\"-1480.8\" font-family=\"Times,serif\" font-size=\"14.00\" fill=\"#000000\">Fare &lt;= 35.077</text>\n<text text-anchor=\"middle\" x=\"3463.5\" y=\"-1465.8\" font-family=\"Times,serif\" font-size=\"14.00\" fill=\"#000000\">gini = 0.26</text>\n<text text-anchor=\"middle\" x=\"3463.5\" y=\"-1450.8\" font-family=\"Times,serif\" font-size=\"14.00\" fill=\"#000000\">samples = 13</text>\n<text text-anchor=\"middle\" x=\"3463.5\" y=\"-1435.8\" font-family=\"Times,serif\" font-size=\"14.00\" fill=\"#000000\">value = [11, 2]</text>\n<text text-anchor=\"middle\" x=\"3463.5\" y=\"-1420.8\" font-family=\"Times,serif\" font-size=\"14.00\" fill=\"#000000\">class = S</text>\n</g>\n<!-- 177&#45;&gt;205 -->\n<g id=\"edge205\" class=\"edge\">\n<title>177&#45;&gt;205</title>\n<path fill=\"none\" stroke=\"#000000\" d=\"M3422.5343,-1531.8796C3427.064,-1523.3236 3431.8815,-1514.2238 3436.5618,-1505.3833\"/>\n<polygon fill=\"#000000\" stroke=\"#000000\" points=\"3439.7859,-1506.7736 3441.3716,-1496.2981 3433.5994,-1503.4983 3439.7859,-1506.7736\"/>\n</g>\n<!-- 179 -->\n<g id=\"node180\" class=\"node\">\n<title>179</title>\n<polygon fill=\"#f6d5bd\" stroke=\"#000000\" points=\"3336,-1377 3229,-1377 3229,-1294 3336,-1294 3336,-1377\"/>\n<text text-anchor=\"middle\" x=\"3282.5\" y=\"-1361.8\" font-family=\"Times,serif\" font-size=\"14.00\" fill=\"#000000\">Fare &lt;= 26.419</text>\n<text text-anchor=\"middle\" x=\"3282.5\" y=\"-1346.8\" font-family=\"Times,serif\" font-size=\"14.00\" fill=\"#000000\">gini = 0.48</text>\n<text text-anchor=\"middle\" x=\"3282.5\" y=\"-1331.8\" font-family=\"Times,serif\" font-size=\"14.00\" fill=\"#000000\">samples = 20</text>\n<text text-anchor=\"middle\" x=\"3282.5\" y=\"-1316.8\" font-family=\"Times,serif\" font-size=\"14.00\" fill=\"#000000\">value = [12, 8]</text>\n<text text-anchor=\"middle\" x=\"3282.5\" y=\"-1301.8\" font-family=\"Times,serif\" font-size=\"14.00\" fill=\"#000000\">class = S</text>\n</g>\n<!-- 178&#45;&gt;179 -->\n<g id=\"edge179\" class=\"edge\">\n<title>178&#45;&gt;179</title>\n<path fill=\"none\" stroke=\"#000000\" d=\"M3318.2637,-1412.8796C3314.3092,-1404.3236 3310.1034,-1395.2238 3306.0175,-1386.3833\"/>\n<polygon fill=\"#000000\" stroke=\"#000000\" points=\"3309.191,-1384.907 3301.8184,-1377.2981 3302.8368,-1387.8439 3309.191,-1384.907\"/>\n</g>\n<!-- 204 -->\n<g id=\"node205\" class=\"node\">\n<title>204</title>\n<polygon fill=\"#399de5\" stroke=\"#000000\" points=\"3449,-1369.5 3354,-1369.5 3354,-1301.5 3449,-1301.5 3449,-1369.5\"/>\n<text text-anchor=\"middle\" x=\"3401.5\" y=\"-1354.3\" font-family=\"Times,serif\" font-size=\"14.00\" fill=\"#000000\">gini = 0.0</text>\n<text text-anchor=\"middle\" x=\"3401.5\" y=\"-1339.3\" font-family=\"Times,serif\" font-size=\"14.00\" fill=\"#000000\">samples = 3</text>\n<text text-anchor=\"middle\" x=\"3401.5\" y=\"-1324.3\" font-family=\"Times,serif\" font-size=\"14.00\" fill=\"#000000\">value = [0, 3]</text>\n<text text-anchor=\"middle\" x=\"3401.5\" y=\"-1309.3\" font-family=\"Times,serif\" font-size=\"14.00\" fill=\"#000000\">class = u</text>\n</g>\n<!-- 178&#45;&gt;204 -->\n<g id=\"edge204\" class=\"edge\">\n<title>178&#45;&gt;204</title>\n<path fill=\"none\" stroke=\"#000000\" d=\"M3359.8841,-1412.8796C3365.798,-1401.8835 3372.1949,-1389.9893 3378.158,-1378.9015\"/>\n<polygon fill=\"#000000\" stroke=\"#000000\" points=\"3381.3908,-1380.2799 3383.0449,-1369.8149 3375.2258,-1376.9642 3381.3908,-1380.2799\"/>\n</g>\n<!-- 180 -->\n<g id=\"node181\" class=\"node\">\n<title>180</title>\n<polygon fill=\"#399de5\" stroke=\"#000000\" points=\"3330,-1250.5 3235,-1250.5 3235,-1182.5 3330,-1182.5 3330,-1250.5\"/>\n<text text-anchor=\"middle\" x=\"3282.5\" y=\"-1235.3\" font-family=\"Times,serif\" font-size=\"14.00\" fill=\"#000000\">gini = 0.0</text>\n<text text-anchor=\"middle\" x=\"3282.5\" y=\"-1220.3\" font-family=\"Times,serif\" font-size=\"14.00\" fill=\"#000000\">samples = 1</text>\n<text text-anchor=\"middle\" x=\"3282.5\" y=\"-1205.3\" font-family=\"Times,serif\" font-size=\"14.00\" fill=\"#000000\">value = [0, 1]</text>\n<text text-anchor=\"middle\" x=\"3282.5\" y=\"-1190.3\" font-family=\"Times,serif\" font-size=\"14.00\" fill=\"#000000\">class = u</text>\n</g>\n<!-- 179&#45;&gt;180 -->\n<g id=\"edge180\" class=\"edge\">\n<title>179&#45;&gt;180</title>\n<path fill=\"none\" stroke=\"#000000\" d=\"M3282.5,-1293.8796C3282.5,-1283.2134 3282.5,-1271.7021 3282.5,-1260.9015\"/>\n<polygon fill=\"#000000\" stroke=\"#000000\" points=\"3286.0001,-1260.8149 3282.5,-1250.8149 3279.0001,-1260.815 3286.0001,-1260.8149\"/>\n</g>\n<!-- 181 -->\n<g id=\"node182\" class=\"node\">\n<title>181</title>\n<polygon fill=\"#f4caac\" stroke=\"#000000\" points=\"3450.5,-1258 3348.5,-1258 3348.5,-1175 3450.5,-1175 3450.5,-1258\"/>\n<text text-anchor=\"middle\" x=\"3399.5\" y=\"-1242.8\" font-family=\"Times,serif\" font-size=\"14.00\" fill=\"#000000\">Age &lt;= 45.25</text>\n<text text-anchor=\"middle\" x=\"3399.5\" y=\"-1227.8\" font-family=\"Times,serif\" font-size=\"14.00\" fill=\"#000000\">gini = 0.465</text>\n<text text-anchor=\"middle\" x=\"3399.5\" y=\"-1212.8\" font-family=\"Times,serif\" font-size=\"14.00\" fill=\"#000000\">samples = 19</text>\n<text text-anchor=\"middle\" x=\"3399.5\" y=\"-1197.8\" font-family=\"Times,serif\" font-size=\"14.00\" fill=\"#000000\">value = [12, 7]</text>\n<text text-anchor=\"middle\" x=\"3399.5\" y=\"-1182.8\" font-family=\"Times,serif\" font-size=\"14.00\" fill=\"#000000\">class = S</text>\n</g>\n<!-- 179&#45;&gt;181 -->\n<g id=\"edge181\" class=\"edge\">\n<title>179&#45;&gt;181</title>\n<path fill=\"none\" stroke=\"#000000\" d=\"M3323.4209,-1293.8796C3332.453,-1284.6931 3342.1013,-1274.8798 3351.3888,-1265.4336\"/>\n<polygon fill=\"#000000\" stroke=\"#000000\" points=\"3353.8893,-1267.8827 3358.4044,-1258.2981 3348.8977,-1262.975 3353.8893,-1267.8827\"/>\n</g>\n<!-- 182 -->\n<g id=\"node183\" class=\"node\">\n<title>182</title>\n<polygon fill=\"#f7d9c4\" stroke=\"#000000\" points=\"3429,-1139 3310,-1139 3310,-1056 3429,-1056 3429,-1139\"/>\n<text text-anchor=\"middle\" x=\"3369.5\" y=\"-1123.8\" font-family=\"Times,serif\" font-size=\"14.00\" fill=\"#000000\">Embarked &lt;= 1.0</text>\n<text text-anchor=\"middle\" x=\"3369.5\" y=\"-1108.8\" font-family=\"Times,serif\" font-size=\"14.00\" fill=\"#000000\">gini = 0.484</text>\n<text text-anchor=\"middle\" x=\"3369.5\" y=\"-1093.8\" font-family=\"Times,serif\" font-size=\"14.00\" fill=\"#000000\">samples = 17</text>\n<text text-anchor=\"middle\" x=\"3369.5\" y=\"-1078.8\" font-family=\"Times,serif\" font-size=\"14.00\" fill=\"#000000\">value = [10, 7]</text>\n<text text-anchor=\"middle\" x=\"3369.5\" y=\"-1063.8\" font-family=\"Times,serif\" font-size=\"14.00\" fill=\"#000000\">class = S</text>\n</g>\n<!-- 181&#45;&gt;182 -->\n<g id=\"edge182\" class=\"edge\">\n<title>181&#45;&gt;182</title>\n<path fill=\"none\" stroke=\"#000000\" d=\"M3389.0075,-1174.8796C3386.9186,-1166.5938 3384.7012,-1157.798 3382.5391,-1149.2216\"/>\n<polygon fill=\"#000000\" stroke=\"#000000\" points=\"3385.8757,-1148.1391 3380.0373,-1139.2981 3379.0881,-1149.8503 3385.8757,-1148.1391\"/>\n</g>\n<!-- 203 -->\n<g id=\"node204\" class=\"node\">\n<title>203</title>\n<polygon fill=\"#e58139\" stroke=\"#000000\" points=\"3542,-1131.5 3447,-1131.5 3447,-1063.5 3542,-1063.5 3542,-1131.5\"/>\n<text text-anchor=\"middle\" x=\"3494.5\" y=\"-1116.3\" font-family=\"Times,serif\" font-size=\"14.00\" fill=\"#000000\">gini = 0.0</text>\n<text text-anchor=\"middle\" x=\"3494.5\" y=\"-1101.3\" font-family=\"Times,serif\" font-size=\"14.00\" fill=\"#000000\">samples = 2</text>\n<text text-anchor=\"middle\" x=\"3494.5\" y=\"-1086.3\" font-family=\"Times,serif\" font-size=\"14.00\" fill=\"#000000\">value = [2, 0]</text>\n<text text-anchor=\"middle\" x=\"3494.5\" y=\"-1071.3\" font-family=\"Times,serif\" font-size=\"14.00\" fill=\"#000000\">class = S</text>\n</g>\n<!-- 181&#45;&gt;203 -->\n<g id=\"edge203\" class=\"edge\">\n<title>181&#45;&gt;203</title>\n<path fill=\"none\" stroke=\"#000000\" d=\"M3432.7264,-1174.8796C3441.7681,-1163.5536 3451.5705,-1151.2748 3460.6466,-1139.9058\"/>\n<polygon fill=\"#000000\" stroke=\"#000000\" points=\"3463.602,-1141.8137 3467.1057,-1131.8149 3458.1315,-1137.4464 3463.602,-1141.8137\"/>\n</g>\n<!-- 183 -->\n<g id=\"node184\" class=\"node\">\n<title>183</title>\n<polygon fill=\"#efb388\" stroke=\"#000000\" points=\"3362,-1020 3255,-1020 3255,-937 3362,-937 3362,-1020\"/>\n<text text-anchor=\"middle\" x=\"3308.5\" y=\"-1004.8\" font-family=\"Times,serif\" font-size=\"14.00\" fill=\"#000000\">Fare &lt;= 30.848</text>\n<text text-anchor=\"middle\" x=\"3308.5\" y=\"-989.8\" font-family=\"Times,serif\" font-size=\"14.00\" fill=\"#000000\">gini = 0.408</text>\n<text text-anchor=\"middle\" x=\"3308.5\" y=\"-974.8\" font-family=\"Times,serif\" font-size=\"14.00\" fill=\"#000000\">samples = 7</text>\n<text text-anchor=\"middle\" x=\"3308.5\" y=\"-959.8\" font-family=\"Times,serif\" font-size=\"14.00\" fill=\"#000000\">value = [5, 2]</text>\n<text text-anchor=\"middle\" x=\"3308.5\" y=\"-944.8\" font-family=\"Times,serif\" font-size=\"14.00\" fill=\"#000000\">class = S</text>\n</g>\n<!-- 182&#45;&gt;183 -->\n<g id=\"edge183\" class=\"edge\">\n<title>182&#45;&gt;183</title>\n<path fill=\"none\" stroke=\"#000000\" d=\"M3348.1652,-1055.8796C3343.7793,-1047.3236 3339.1147,-1038.2238 3334.583,-1029.3833\"/>\n<polygon fill=\"#000000\" stroke=\"#000000\" points=\"3337.6022,-1027.6004 3329.9259,-1020.2981 3331.373,-1030.7936 3337.6022,-1027.6004\"/>\n</g>\n<!-- 192 -->\n<g id=\"node193\" class=\"node\">\n<title>192</title>\n<polygon fill=\"#ffffff\" stroke=\"#000000\" points=\"3479,-1020 3380,-1020 3380,-937 3479,-937 3479,-1020\"/>\n<text text-anchor=\"middle\" x=\"3429.5\" y=\"-1004.8\" font-family=\"Times,serif\" font-size=\"14.00\" fill=\"#000000\">Fare &lt;= 30.75</text>\n<text text-anchor=\"middle\" x=\"3429.5\" y=\"-989.8\" font-family=\"Times,serif\" font-size=\"14.00\" fill=\"#000000\">gini = 0.5</text>\n<text text-anchor=\"middle\" x=\"3429.5\" y=\"-974.8\" font-family=\"Times,serif\" font-size=\"14.00\" fill=\"#000000\">samples = 10</text>\n<text text-anchor=\"middle\" x=\"3429.5\" y=\"-959.8\" font-family=\"Times,serif\" font-size=\"14.00\" fill=\"#000000\">value = [5, 5]</text>\n<text text-anchor=\"middle\" x=\"3429.5\" y=\"-944.8\" font-family=\"Times,serif\" font-size=\"14.00\" fill=\"#000000\">class = S</text>\n</g>\n<!-- 182&#45;&gt;192 -->\n<g id=\"edge192\" class=\"edge\">\n<title>182&#45;&gt;192</title>\n<path fill=\"none\" stroke=\"#000000\" d=\"M3390.4851,-1055.8796C3394.799,-1047.3236 3399.3872,-1038.2238 3403.8446,-1029.3833\"/>\n<polygon fill=\"#000000\" stroke=\"#000000\" points=\"3407.0484,-1030.8031 3408.4253,-1020.2981 3400.7979,-1027.6515 3407.0484,-1030.8031\"/>\n</g>\n<!-- 184 -->\n<g id=\"node185\" class=\"node\">\n<title>184</title>\n<polygon fill=\"#ea9a61\" stroke=\"#000000\" points=\"3244,-901 3145,-901 3145,-818 3244,-818 3244,-901\"/>\n<text text-anchor=\"middle\" x=\"3194.5\" y=\"-885.8\" font-family=\"Times,serif\" font-size=\"14.00\" fill=\"#000000\">Fare &lt;= 28.71</text>\n<text text-anchor=\"middle\" x=\"3194.5\" y=\"-870.8\" font-family=\"Times,serif\" font-size=\"14.00\" fill=\"#000000\">gini = 0.278</text>\n<text text-anchor=\"middle\" x=\"3194.5\" y=\"-855.8\" font-family=\"Times,serif\" font-size=\"14.00\" fill=\"#000000\">samples = 6</text>\n<text text-anchor=\"middle\" x=\"3194.5\" y=\"-840.8\" font-family=\"Times,serif\" font-size=\"14.00\" fill=\"#000000\">value = [5, 1]</text>\n<text text-anchor=\"middle\" x=\"3194.5\" y=\"-825.8\" font-family=\"Times,serif\" font-size=\"14.00\" fill=\"#000000\">class = S</text>\n</g>\n<!-- 183&#45;&gt;184 -->\n<g id=\"edge184\" class=\"edge\">\n<title>183&#45;&gt;184</title>\n<path fill=\"none\" stroke=\"#000000\" d=\"M3268.6283,-936.8796C3259.9142,-927.7832 3250.6112,-918.0722 3241.6438,-908.7116\"/>\n<polygon fill=\"#000000\" stroke=\"#000000\" points=\"3243.987,-906.098 3234.5419,-901.2981 3238.9322,-910.9405 3243.987,-906.098\"/>\n</g>\n<!-- 191 -->\n<g id=\"node192\" class=\"node\">\n<title>191</title>\n<polygon fill=\"#399de5\" stroke=\"#000000\" points=\"3357,-893.5 3262,-893.5 3262,-825.5 3357,-825.5 3357,-893.5\"/>\n<text text-anchor=\"middle\" x=\"3309.5\" y=\"-878.3\" font-family=\"Times,serif\" font-size=\"14.00\" fill=\"#000000\">gini = 0.0</text>\n<text text-anchor=\"middle\" x=\"3309.5\" y=\"-863.3\" font-family=\"Times,serif\" font-size=\"14.00\" fill=\"#000000\">samples = 1</text>\n<text text-anchor=\"middle\" x=\"3309.5\" y=\"-848.3\" font-family=\"Times,serif\" font-size=\"14.00\" fill=\"#000000\">value = [0, 1]</text>\n<text text-anchor=\"middle\" x=\"3309.5\" y=\"-833.3\" font-family=\"Times,serif\" font-size=\"14.00\" fill=\"#000000\">class = u</text>\n</g>\n<!-- 183&#45;&gt;191 -->\n<g id=\"edge191\" class=\"edge\">\n<title>183&#45;&gt;191</title>\n<path fill=\"none\" stroke=\"#000000\" d=\"M3308.8498,-936.8796C3308.9394,-926.2134 3309.0361,-914.7021 3309.1269,-903.9015\"/>\n<polygon fill=\"#000000\" stroke=\"#000000\" points=\"3312.6274,-903.844 3309.2116,-893.8149 3305.6276,-903.7851 3312.6274,-903.844\"/>\n</g>\n<!-- 185 -->\n<g id=\"node186\" class=\"node\">\n<title>185</title>\n<polygon fill=\"#e58139\" stroke=\"#000000\" points=\"3130,-774.5 3035,-774.5 3035,-706.5 3130,-706.5 3130,-774.5\"/>\n<text text-anchor=\"middle\" x=\"3082.5\" y=\"-759.3\" font-family=\"Times,serif\" font-size=\"14.00\" fill=\"#000000\">gini = 0.0</text>\n<text text-anchor=\"middle\" x=\"3082.5\" y=\"-744.3\" font-family=\"Times,serif\" font-size=\"14.00\" fill=\"#000000\">samples = 3</text>\n<text text-anchor=\"middle\" x=\"3082.5\" y=\"-729.3\" font-family=\"Times,serif\" font-size=\"14.00\" fill=\"#000000\">value = [3, 0]</text>\n<text text-anchor=\"middle\" x=\"3082.5\" y=\"-714.3\" font-family=\"Times,serif\" font-size=\"14.00\" fill=\"#000000\">class = S</text>\n</g>\n<!-- 184&#45;&gt;185 -->\n<g id=\"edge185\" class=\"edge\">\n<title>184&#45;&gt;185</title>\n<path fill=\"none\" stroke=\"#000000\" d=\"M3155.3278,-817.8796C3144.4611,-806.3337 3132.6624,-793.7976 3121.7891,-782.2446\"/>\n<polygon fill=\"#000000\" stroke=\"#000000\" points=\"3124.1988,-779.6982 3114.7964,-774.8149 3119.1014,-784.4958 3124.1988,-779.6982\"/>\n</g>\n<!-- 186 -->\n<g id=\"node187\" class=\"node\">\n<title>186</title>\n<polygon fill=\"#f2c09c\" stroke=\"#000000\" points=\"3243,-782 3148,-782 3148,-699 3243,-699 3243,-782\"/>\n<text text-anchor=\"middle\" x=\"3195.5\" y=\"-766.8\" font-family=\"Times,serif\" font-size=\"14.00\" fill=\"#000000\">Age &lt;= 37.5</text>\n<text text-anchor=\"middle\" x=\"3195.5\" y=\"-751.8\" font-family=\"Times,serif\" font-size=\"14.00\" fill=\"#000000\">gini = 0.444</text>\n<text text-anchor=\"middle\" x=\"3195.5\" y=\"-736.8\" font-family=\"Times,serif\" font-size=\"14.00\" fill=\"#000000\">samples = 3</text>\n<text text-anchor=\"middle\" x=\"3195.5\" y=\"-721.8\" font-family=\"Times,serif\" font-size=\"14.00\" fill=\"#000000\">value = [2, 1]</text>\n<text text-anchor=\"middle\" x=\"3195.5\" y=\"-706.8\" font-family=\"Times,serif\" font-size=\"14.00\" fill=\"#000000\">class = S</text>\n</g>\n<!-- 184&#45;&gt;186 -->\n<g id=\"edge186\" class=\"edge\">\n<title>184&#45;&gt;186</title>\n<path fill=\"none\" stroke=\"#000000\" d=\"M3194.8498,-817.8796C3194.9186,-809.6838 3194.9917,-800.9891 3195.063,-792.5013\"/>\n<polygon fill=\"#000000\" stroke=\"#000000\" points=\"3198.5645,-792.3272 3195.1488,-782.2981 3191.5648,-792.2683 3198.5645,-792.3272\"/>\n</g>\n<!-- 187 -->\n<g id=\"node188\" class=\"node\">\n<title>187</title>\n<polygon fill=\"#e58139\" stroke=\"#000000\" points=\"3125,-655.5 3030,-655.5 3030,-587.5 3125,-587.5 3125,-655.5\"/>\n<text text-anchor=\"middle\" x=\"3077.5\" y=\"-640.3\" font-family=\"Times,serif\" font-size=\"14.00\" fill=\"#000000\">gini = 0.0</text>\n<text text-anchor=\"middle\" x=\"3077.5\" y=\"-625.3\" font-family=\"Times,serif\" font-size=\"14.00\" fill=\"#000000\">samples = 1</text>\n<text text-anchor=\"middle\" x=\"3077.5\" y=\"-610.3\" font-family=\"Times,serif\" font-size=\"14.00\" fill=\"#000000\">value = [1, 0]</text>\n<text text-anchor=\"middle\" x=\"3077.5\" y=\"-595.3\" font-family=\"Times,serif\" font-size=\"14.00\" fill=\"#000000\">class = S</text>\n</g>\n<!-- 186&#45;&gt;187 -->\n<g id=\"edge187\" class=\"edge\">\n<title>186&#45;&gt;187</title>\n<path fill=\"none\" stroke=\"#000000\" d=\"M3154.2293,-698.8796C3142.7805,-687.3337 3130.3497,-674.7976 3118.8938,-663.2446\"/>\n<polygon fill=\"#000000\" stroke=\"#000000\" points=\"3121.0531,-660.4514 3111.5266,-655.8149 3116.0825,-665.3802 3121.0531,-660.4514\"/>\n</g>\n<!-- 188 -->\n<g id=\"node189\" class=\"node\">\n<title>188</title>\n<polygon fill=\"#ffffff\" stroke=\"#000000\" points=\"3250,-663 3143,-663 3143,-580 3250,-580 3250,-663\"/>\n<text text-anchor=\"middle\" x=\"3196.5\" y=\"-647.8\" font-family=\"Times,serif\" font-size=\"14.00\" fill=\"#000000\">Fare &lt;= 30.198</text>\n<text text-anchor=\"middle\" x=\"3196.5\" y=\"-632.8\" font-family=\"Times,serif\" font-size=\"14.00\" fill=\"#000000\">gini = 0.5</text>\n<text text-anchor=\"middle\" x=\"3196.5\" y=\"-617.8\" font-family=\"Times,serif\" font-size=\"14.00\" fill=\"#000000\">samples = 2</text>\n<text text-anchor=\"middle\" x=\"3196.5\" y=\"-602.8\" font-family=\"Times,serif\" font-size=\"14.00\" fill=\"#000000\">value = [1, 1]</text>\n<text text-anchor=\"middle\" x=\"3196.5\" y=\"-587.8\" font-family=\"Times,serif\" font-size=\"14.00\" fill=\"#000000\">class = S</text>\n</g>\n<!-- 186&#45;&gt;188 -->\n<g id=\"edge188\" class=\"edge\">\n<title>186&#45;&gt;188</title>\n<path fill=\"none\" stroke=\"#000000\" d=\"M3195.8498,-698.8796C3195.9186,-690.6838 3195.9917,-681.9891 3196.063,-673.5013\"/>\n<polygon fill=\"#000000\" stroke=\"#000000\" points=\"3199.5645,-673.3272 3196.1488,-663.2981 3192.5648,-673.2683 3199.5645,-673.3272\"/>\n</g>\n<!-- 189 -->\n<g id=\"node190\" class=\"node\">\n<title>189</title>\n<polygon fill=\"#399de5\" stroke=\"#000000\" points=\"3187,-536.5 3092,-536.5 3092,-468.5 3187,-468.5 3187,-536.5\"/>\n<text text-anchor=\"middle\" x=\"3139.5\" y=\"-521.3\" font-family=\"Times,serif\" font-size=\"14.00\" fill=\"#000000\">gini = 0.0</text>\n<text text-anchor=\"middle\" x=\"3139.5\" y=\"-506.3\" font-family=\"Times,serif\" font-size=\"14.00\" fill=\"#000000\">samples = 1</text>\n<text text-anchor=\"middle\" x=\"3139.5\" y=\"-491.3\" font-family=\"Times,serif\" font-size=\"14.00\" fill=\"#000000\">value = [0, 1]</text>\n<text text-anchor=\"middle\" x=\"3139.5\" y=\"-476.3\" font-family=\"Times,serif\" font-size=\"14.00\" fill=\"#000000\">class = u</text>\n</g>\n<!-- 188&#45;&gt;189 -->\n<g id=\"edge189\" class=\"edge\">\n<title>188&#45;&gt;189</title>\n<path fill=\"none\" stroke=\"#000000\" d=\"M3176.5642,-579.8796C3171.2971,-568.8835 3165.5999,-556.9893 3160.289,-545.9015\"/>\n<polygon fill=\"#000000\" stroke=\"#000000\" points=\"3163.4131,-544.3217 3155.9366,-536.8149 3157.1,-547.3457 3163.4131,-544.3217\"/>\n</g>\n<!-- 190 -->\n<g id=\"node191\" class=\"node\">\n<title>190</title>\n<polygon fill=\"#e58139\" stroke=\"#000000\" points=\"3300,-536.5 3205,-536.5 3205,-468.5 3300,-468.5 3300,-536.5\"/>\n<text text-anchor=\"middle\" x=\"3252.5\" y=\"-521.3\" font-family=\"Times,serif\" font-size=\"14.00\" fill=\"#000000\">gini = 0.0</text>\n<text text-anchor=\"middle\" x=\"3252.5\" y=\"-506.3\" font-family=\"Times,serif\" font-size=\"14.00\" fill=\"#000000\">samples = 1</text>\n<text text-anchor=\"middle\" x=\"3252.5\" y=\"-491.3\" font-family=\"Times,serif\" font-size=\"14.00\" fill=\"#000000\">value = [1, 0]</text>\n<text text-anchor=\"middle\" x=\"3252.5\" y=\"-476.3\" font-family=\"Times,serif\" font-size=\"14.00\" fill=\"#000000\">class = S</text>\n</g>\n<!-- 188&#45;&gt;190 -->\n<g id=\"edge190\" class=\"edge\">\n<title>188&#45;&gt;190</title>\n<path fill=\"none\" stroke=\"#000000\" d=\"M3216.0861,-579.8796C3221.2607,-568.8835 3226.858,-556.9893 3232.0758,-545.9015\"/>\n<polygon fill=\"#000000\" stroke=\"#000000\" points=\"3235.2606,-547.3534 3236.3518,-536.8149 3228.9269,-544.3728 3235.2606,-547.3534\"/>\n</g>\n<!-- 193 -->\n<g id=\"node194\" class=\"node\">\n<title>193</title>\n<polygon fill=\"#9ccef2\" stroke=\"#000000\" points=\"3483,-901 3376,-901 3376,-818 3483,-818 3483,-901\"/>\n<text text-anchor=\"middle\" x=\"3429.5\" y=\"-885.8\" font-family=\"Times,serif\" font-size=\"14.00\" fill=\"#000000\">Fare &lt;= 28.275</text>\n<text text-anchor=\"middle\" x=\"3429.5\" y=\"-870.8\" font-family=\"Times,serif\" font-size=\"14.00\" fill=\"#000000\">gini = 0.444</text>\n<text text-anchor=\"middle\" x=\"3429.5\" y=\"-855.8\" font-family=\"Times,serif\" font-size=\"14.00\" fill=\"#000000\">samples = 6</text>\n<text text-anchor=\"middle\" x=\"3429.5\" y=\"-840.8\" font-family=\"Times,serif\" font-size=\"14.00\" fill=\"#000000\">value = [2, 4]</text>\n<text text-anchor=\"middle\" x=\"3429.5\" y=\"-825.8\" font-family=\"Times,serif\" font-size=\"14.00\" fill=\"#000000\">class = u</text>\n</g>\n<!-- 192&#45;&gt;193 -->\n<g id=\"edge193\" class=\"edge\">\n<title>192&#45;&gt;193</title>\n<path fill=\"none\" stroke=\"#000000\" d=\"M3429.5,-936.8796C3429.5,-928.6838 3429.5,-919.9891 3429.5,-911.5013\"/>\n<polygon fill=\"#000000\" stroke=\"#000000\" points=\"3433.0001,-911.298 3429.5,-901.2981 3426.0001,-911.2981 3433.0001,-911.298\"/>\n</g>\n<!-- 198 -->\n<g id=\"node199\" class=\"node\">\n<title>198</title>\n<polygon fill=\"#eeab7b\" stroke=\"#000000\" points=\"3600,-901 3501,-901 3501,-818 3600,-818 3600,-901\"/>\n<text text-anchor=\"middle\" x=\"3550.5\" y=\"-885.8\" font-family=\"Times,serif\" font-size=\"14.00\" fill=\"#000000\">Fare &lt;= 35.25</text>\n<text text-anchor=\"middle\" x=\"3550.5\" y=\"-870.8\" font-family=\"Times,serif\" font-size=\"14.00\" fill=\"#000000\">gini = 0.375</text>\n<text text-anchor=\"middle\" x=\"3550.5\" y=\"-855.8\" font-family=\"Times,serif\" font-size=\"14.00\" fill=\"#000000\">samples = 4</text>\n<text text-anchor=\"middle\" x=\"3550.5\" y=\"-840.8\" font-family=\"Times,serif\" font-size=\"14.00\" fill=\"#000000\">value = [3, 1]</text>\n<text text-anchor=\"middle\" x=\"3550.5\" y=\"-825.8\" font-family=\"Times,serif\" font-size=\"14.00\" fill=\"#000000\">class = S</text>\n</g>\n<!-- 192&#45;&gt;198 -->\n<g id=\"edge198\" class=\"edge\">\n<title>192&#45;&gt;198</title>\n<path fill=\"none\" stroke=\"#000000\" d=\"M3471.8199,-936.8796C3481.1608,-927.6931 3491.139,-917.8798 3500.744,-908.4336\"/>\n<polygon fill=\"#000000\" stroke=\"#000000\" points=\"3503.3238,-910.8054 3507.9994,-901.2981 3498.4155,-905.8146 3503.3238,-910.8054\"/>\n</g>\n<!-- 194 -->\n<g id=\"node195\" class=\"node\">\n<title>194</title>\n<polygon fill=\"#ffffff\" stroke=\"#000000\" points=\"3369,-782 3274,-782 3274,-699 3369,-699 3369,-782\"/>\n<text text-anchor=\"middle\" x=\"3321.5\" y=\"-766.8\" font-family=\"Times,serif\" font-size=\"14.00\" fill=\"#000000\">Age &lt;= 41.5</text>\n<text text-anchor=\"middle\" x=\"3321.5\" y=\"-751.8\" font-family=\"Times,serif\" font-size=\"14.00\" fill=\"#000000\">gini = 0.5</text>\n<text text-anchor=\"middle\" x=\"3321.5\" y=\"-736.8\" font-family=\"Times,serif\" font-size=\"14.00\" fill=\"#000000\">samples = 4</text>\n<text text-anchor=\"middle\" x=\"3321.5\" y=\"-721.8\" font-family=\"Times,serif\" font-size=\"14.00\" fill=\"#000000\">value = [2, 2]</text>\n<text text-anchor=\"middle\" x=\"3321.5\" y=\"-706.8\" font-family=\"Times,serif\" font-size=\"14.00\" fill=\"#000000\">class = S</text>\n</g>\n<!-- 193&#45;&gt;194 -->\n<g id=\"edge194\" class=\"edge\">\n<title>193&#45;&gt;194</title>\n<path fill=\"none\" stroke=\"#000000\" d=\"M3391.7268,-817.8796C3383.4713,-808.7832 3374.658,-799.0722 3366.1626,-789.7116\"/>\n<polygon fill=\"#000000\" stroke=\"#000000\" points=\"3368.7467,-787.3509 3359.4344,-782.2981 3363.5632,-792.0553 3368.7467,-787.3509\"/>\n</g>\n<!-- 197 -->\n<g id=\"node198\" class=\"node\">\n<title>197</title>\n<polygon fill=\"#399de5\" stroke=\"#000000\" points=\"3482,-774.5 3387,-774.5 3387,-706.5 3482,-706.5 3482,-774.5\"/>\n<text text-anchor=\"middle\" x=\"3434.5\" y=\"-759.3\" font-family=\"Times,serif\" font-size=\"14.00\" fill=\"#000000\">gini = 0.0</text>\n<text text-anchor=\"middle\" x=\"3434.5\" y=\"-744.3\" font-family=\"Times,serif\" font-size=\"14.00\" fill=\"#000000\">samples = 2</text>\n<text text-anchor=\"middle\" x=\"3434.5\" y=\"-729.3\" font-family=\"Times,serif\" font-size=\"14.00\" fill=\"#000000\">value = [0, 2]</text>\n<text text-anchor=\"middle\" x=\"3434.5\" y=\"-714.3\" font-family=\"Times,serif\" font-size=\"14.00\" fill=\"#000000\">class = u</text>\n</g>\n<!-- 193&#45;&gt;197 -->\n<g id=\"edge197\" class=\"edge\">\n<title>193&#45;&gt;197</title>\n<path fill=\"none\" stroke=\"#000000\" d=\"M3431.2488,-817.8796C3431.6969,-807.2134 3432.1806,-795.7021 3432.6344,-784.9015\"/>\n<polygon fill=\"#000000\" stroke=\"#000000\" points=\"3436.1352,-784.9531 3433.0582,-774.8149 3429.1414,-784.6592 3436.1352,-784.9531\"/>\n</g>\n<!-- 195 -->\n<g id=\"node196\" class=\"node\">\n<title>195</title>\n<polygon fill=\"#ffffff\" stroke=\"#000000\" points=\"3369,-655.5 3274,-655.5 3274,-587.5 3369,-587.5 3369,-655.5\"/>\n<text text-anchor=\"middle\" x=\"3321.5\" y=\"-640.3\" font-family=\"Times,serif\" font-size=\"14.00\" fill=\"#000000\">gini = 0.5</text>\n<text text-anchor=\"middle\" x=\"3321.5\" y=\"-625.3\" font-family=\"Times,serif\" font-size=\"14.00\" fill=\"#000000\">samples = 2</text>\n<text text-anchor=\"middle\" x=\"3321.5\" y=\"-610.3\" font-family=\"Times,serif\" font-size=\"14.00\" fill=\"#000000\">value = [1, 1]</text>\n<text text-anchor=\"middle\" x=\"3321.5\" y=\"-595.3\" font-family=\"Times,serif\" font-size=\"14.00\" fill=\"#000000\">class = S</text>\n</g>\n<!-- 194&#45;&gt;195 -->\n<g id=\"edge195\" class=\"edge\">\n<title>194&#45;&gt;195</title>\n<path fill=\"none\" stroke=\"#000000\" d=\"M3321.5,-698.8796C3321.5,-688.2134 3321.5,-676.7021 3321.5,-665.9015\"/>\n<polygon fill=\"#000000\" stroke=\"#000000\" points=\"3325.0001,-665.8149 3321.5,-655.8149 3318.0001,-665.815 3325.0001,-665.8149\"/>\n</g>\n<!-- 196 -->\n<g id=\"node197\" class=\"node\">\n<title>196</title>\n<polygon fill=\"#ffffff\" stroke=\"#000000\" points=\"3482,-655.5 3387,-655.5 3387,-587.5 3482,-587.5 3482,-655.5\"/>\n<text text-anchor=\"middle\" x=\"3434.5\" y=\"-640.3\" font-family=\"Times,serif\" font-size=\"14.00\" fill=\"#000000\">gini = 0.5</text>\n<text text-anchor=\"middle\" x=\"3434.5\" y=\"-625.3\" font-family=\"Times,serif\" font-size=\"14.00\" fill=\"#000000\">samples = 2</text>\n<text text-anchor=\"middle\" x=\"3434.5\" y=\"-610.3\" font-family=\"Times,serif\" font-size=\"14.00\" fill=\"#000000\">value = [1, 1]</text>\n<text text-anchor=\"middle\" x=\"3434.5\" y=\"-595.3\" font-family=\"Times,serif\" font-size=\"14.00\" fill=\"#000000\">class = S</text>\n</g>\n<!-- 194&#45;&gt;196 -->\n<g id=\"edge196\" class=\"edge\">\n<title>194&#45;&gt;196</title>\n<path fill=\"none\" stroke=\"#000000\" d=\"M3361.0219,-698.8796C3371.9857,-687.3337 3383.8897,-674.7976 3394.8601,-663.2446\"/>\n<polygon fill=\"#000000\" stroke=\"#000000\" points=\"3397.5673,-665.4766 3401.9152,-655.8149 3392.4913,-660.6564 3397.5673,-665.4766\"/>\n</g>\n<!-- 199 -->\n<g id=\"node200\" class=\"node\">\n<title>199</title>\n<polygon fill=\"#e58139\" stroke=\"#000000\" points=\"3598,-774.5 3503,-774.5 3503,-706.5 3598,-706.5 3598,-774.5\"/>\n<text text-anchor=\"middle\" x=\"3550.5\" y=\"-759.3\" font-family=\"Times,serif\" font-size=\"14.00\" fill=\"#000000\">gini = 0.0</text>\n<text text-anchor=\"middle\" x=\"3550.5\" y=\"-744.3\" font-family=\"Times,serif\" font-size=\"14.00\" fill=\"#000000\">samples = 2</text>\n<text text-anchor=\"middle\" x=\"3550.5\" y=\"-729.3\" font-family=\"Times,serif\" font-size=\"14.00\" fill=\"#000000\">value = [2, 0]</text>\n<text text-anchor=\"middle\" x=\"3550.5\" y=\"-714.3\" font-family=\"Times,serif\" font-size=\"14.00\" fill=\"#000000\">class = S</text>\n</g>\n<!-- 198&#45;&gt;199 -->\n<g id=\"edge199\" class=\"edge\">\n<title>198&#45;&gt;199</title>\n<path fill=\"none\" stroke=\"#000000\" d=\"M3550.5,-817.8796C3550.5,-807.2134 3550.5,-795.7021 3550.5,-784.9015\"/>\n<polygon fill=\"#000000\" stroke=\"#000000\" points=\"3554.0001,-784.8149 3550.5,-774.8149 3547.0001,-784.815 3554.0001,-784.8149\"/>\n</g>\n<!-- 200 -->\n<g id=\"node201\" class=\"node\">\n<title>200</title>\n<polygon fill=\"#ffffff\" stroke=\"#000000\" points=\"3711,-782 3616,-782 3616,-699 3711,-699 3711,-782\"/>\n<text text-anchor=\"middle\" x=\"3663.5\" y=\"-766.8\" font-family=\"Times,serif\" font-size=\"14.00\" fill=\"#000000\">Age &lt;= 41.5</text>\n<text text-anchor=\"middle\" x=\"3663.5\" y=\"-751.8\" font-family=\"Times,serif\" font-size=\"14.00\" fill=\"#000000\">gini = 0.5</text>\n<text text-anchor=\"middle\" x=\"3663.5\" y=\"-736.8\" font-family=\"Times,serif\" font-size=\"14.00\" fill=\"#000000\">samples = 2</text>\n<text text-anchor=\"middle\" x=\"3663.5\" y=\"-721.8\" font-family=\"Times,serif\" font-size=\"14.00\" fill=\"#000000\">value = [1, 1]</text>\n<text text-anchor=\"middle\" x=\"3663.5\" y=\"-706.8\" font-family=\"Times,serif\" font-size=\"14.00\" fill=\"#000000\">class = S</text>\n</g>\n<!-- 198&#45;&gt;200 -->\n<g id=\"edge200\" class=\"edge\">\n<title>198&#45;&gt;200</title>\n<path fill=\"none\" stroke=\"#000000\" d=\"M3590.0219,-817.8796C3598.6597,-808.7832 3607.881,-799.0722 3616.7697,-789.7116\"/>\n<polygon fill=\"#000000\" stroke=\"#000000\" points=\"3619.4615,-791.9597 3623.8094,-782.2981 3614.3854,-787.1395 3619.4615,-791.9597\"/>\n</g>\n<!-- 201 -->\n<g id=\"node202\" class=\"node\">\n<title>201</title>\n<polygon fill=\"#399de5\" stroke=\"#000000\" points=\"3655,-655.5 3560,-655.5 3560,-587.5 3655,-587.5 3655,-655.5\"/>\n<text text-anchor=\"middle\" x=\"3607.5\" y=\"-640.3\" font-family=\"Times,serif\" font-size=\"14.00\" fill=\"#000000\">gini = 0.0</text>\n<text text-anchor=\"middle\" x=\"3607.5\" y=\"-625.3\" font-family=\"Times,serif\" font-size=\"14.00\" fill=\"#000000\">samples = 1</text>\n<text text-anchor=\"middle\" x=\"3607.5\" y=\"-610.3\" font-family=\"Times,serif\" font-size=\"14.00\" fill=\"#000000\">value = [0, 1]</text>\n<text text-anchor=\"middle\" x=\"3607.5\" y=\"-595.3\" font-family=\"Times,serif\" font-size=\"14.00\" fill=\"#000000\">class = u</text>\n</g>\n<!-- 200&#45;&gt;201 -->\n<g id=\"edge201\" class=\"edge\">\n<title>200&#45;&gt;201</title>\n<path fill=\"none\" stroke=\"#000000\" d=\"M3643.9139,-698.8796C3638.7393,-687.8835 3633.142,-675.9893 3627.9242,-664.9015\"/>\n<polygon fill=\"#000000\" stroke=\"#000000\" points=\"3631.0731,-663.3728 3623.6482,-655.8149 3624.7394,-666.3534 3631.0731,-663.3728\"/>\n</g>\n<!-- 202 -->\n<g id=\"node203\" class=\"node\">\n<title>202</title>\n<polygon fill=\"#e58139\" stroke=\"#000000\" points=\"3768,-655.5 3673,-655.5 3673,-587.5 3768,-587.5 3768,-655.5\"/>\n<text text-anchor=\"middle\" x=\"3720.5\" y=\"-640.3\" font-family=\"Times,serif\" font-size=\"14.00\" fill=\"#000000\">gini = 0.0</text>\n<text text-anchor=\"middle\" x=\"3720.5\" y=\"-625.3\" font-family=\"Times,serif\" font-size=\"14.00\" fill=\"#000000\">samples = 1</text>\n<text text-anchor=\"middle\" x=\"3720.5\" y=\"-610.3\" font-family=\"Times,serif\" font-size=\"14.00\" fill=\"#000000\">value = [1, 0]</text>\n<text text-anchor=\"middle\" x=\"3720.5\" y=\"-595.3\" font-family=\"Times,serif\" font-size=\"14.00\" fill=\"#000000\">class = S</text>\n</g>\n<!-- 200&#45;&gt;202 -->\n<g id=\"edge202\" class=\"edge\">\n<title>200&#45;&gt;202</title>\n<path fill=\"none\" stroke=\"#000000\" d=\"M3683.4358,-698.8796C3688.7029,-687.8835 3694.4001,-675.9893 3699.711,-664.9015\"/>\n<polygon fill=\"#000000\" stroke=\"#000000\" points=\"3702.9,-666.3457 3704.0634,-655.8149 3696.5869,-663.3217 3702.9,-666.3457\"/>\n</g>\n<!-- 206 -->\n<g id=\"node207\" class=\"node\">\n<title>206</title>\n<polygon fill=\"#e78c4b\" stroke=\"#000000\" points=\"3569,-1377 3468,-1377 3468,-1294 3569,-1294 3569,-1377\"/>\n<text text-anchor=\"middle\" x=\"3518.5\" y=\"-1361.8\" font-family=\"Times,serif\" font-size=\"14.00\" fill=\"#000000\">Age &lt;= 75.5</text>\n<text text-anchor=\"middle\" x=\"3518.5\" y=\"-1346.8\" font-family=\"Times,serif\" font-size=\"14.00\" fill=\"#000000\">gini = 0.153</text>\n<text text-anchor=\"middle\" x=\"3518.5\" y=\"-1331.8\" font-family=\"Times,serif\" font-size=\"14.00\" fill=\"#000000\">samples = 12</text>\n<text text-anchor=\"middle\" x=\"3518.5\" y=\"-1316.8\" font-family=\"Times,serif\" font-size=\"14.00\" fill=\"#000000\">value = [11, 1]</text>\n<text text-anchor=\"middle\" x=\"3518.5\" y=\"-1301.8\" font-family=\"Times,serif\" font-size=\"14.00\" fill=\"#000000\">class = S</text>\n</g>\n<!-- 205&#45;&gt;206 -->\n<g id=\"edge206\" class=\"edge\">\n<title>205&#45;&gt;206</title>\n<path fill=\"none\" stroke=\"#000000\" d=\"M3482.7363,-1412.8796C3486.6908,-1404.3236 3490.8966,-1395.2238 3494.9825,-1386.3833\"/>\n<polygon fill=\"#000000\" stroke=\"#000000\" points=\"3498.1632,-1387.8439 3499.1816,-1377.2981 3491.809,-1384.907 3498.1632,-1387.8439\"/>\n</g>\n<!-- 209 -->\n<g id=\"node210\" class=\"node\">\n<title>209</title>\n<polygon fill=\"#399de5\" stroke=\"#000000\" points=\"3682,-1369.5 3587,-1369.5 3587,-1301.5 3682,-1301.5 3682,-1369.5\"/>\n<text text-anchor=\"middle\" x=\"3634.5\" y=\"-1354.3\" font-family=\"Times,serif\" font-size=\"14.00\" fill=\"#000000\">gini = 0.0</text>\n<text text-anchor=\"middle\" x=\"3634.5\" y=\"-1339.3\" font-family=\"Times,serif\" font-size=\"14.00\" fill=\"#000000\">samples = 1</text>\n<text text-anchor=\"middle\" x=\"3634.5\" y=\"-1324.3\" font-family=\"Times,serif\" font-size=\"14.00\" fill=\"#000000\">value = [0, 1]</text>\n<text text-anchor=\"middle\" x=\"3634.5\" y=\"-1309.3\" font-family=\"Times,serif\" font-size=\"14.00\" fill=\"#000000\">class = u</text>\n</g>\n<!-- 205&#45;&gt;209 -->\n<g id=\"edge209\" class=\"edge\">\n<title>205&#45;&gt;209</title>\n<path fill=\"none\" stroke=\"#000000\" d=\"M3517.1012,-1418.5805C3536.2515,-1405.6106 3557.9279,-1390.7723 3577.5,-1377 3578.2446,-1376.4761 3578.9939,-1375.9476 3579.7473,-1375.4152\"/>\n<polygon fill=\"#000000\" stroke=\"#000000\" points=\"3581.8087,-1378.244 3587.928,-1369.595 3577.7508,-1372.5402 3581.8087,-1378.244\"/>\n</g>\n<!-- 207 -->\n<g id=\"node208\" class=\"node\">\n<title>207</title>\n<polygon fill=\"#e58139\" stroke=\"#000000\" points=\"3570,-1250.5 3469,-1250.5 3469,-1182.5 3570,-1182.5 3570,-1250.5\"/>\n<text text-anchor=\"middle\" x=\"3519.5\" y=\"-1235.3\" font-family=\"Times,serif\" font-size=\"14.00\" fill=\"#000000\">gini = 0.0</text>\n<text text-anchor=\"middle\" x=\"3519.5\" y=\"-1220.3\" font-family=\"Times,serif\" font-size=\"14.00\" fill=\"#000000\">samples = 11</text>\n<text text-anchor=\"middle\" x=\"3519.5\" y=\"-1205.3\" font-family=\"Times,serif\" font-size=\"14.00\" fill=\"#000000\">value = [11, 0]</text>\n<text text-anchor=\"middle\" x=\"3519.5\" y=\"-1190.3\" font-family=\"Times,serif\" font-size=\"14.00\" fill=\"#000000\">class = S</text>\n</g>\n<!-- 206&#45;&gt;207 -->\n<g id=\"edge207\" class=\"edge\">\n<title>206&#45;&gt;207</title>\n<path fill=\"none\" stroke=\"#000000\" d=\"M3518.8498,-1293.8796C3518.9394,-1283.2134 3519.0361,-1271.7021 3519.1269,-1260.9015\"/>\n<polygon fill=\"#000000\" stroke=\"#000000\" points=\"3522.6274,-1260.844 3519.2116,-1250.8149 3515.6276,-1260.7851 3522.6274,-1260.844\"/>\n</g>\n<!-- 208 -->\n<g id=\"node209\" class=\"node\">\n<title>208</title>\n<polygon fill=\"#399de5\" stroke=\"#000000\" points=\"3683,-1250.5 3588,-1250.5 3588,-1182.5 3683,-1182.5 3683,-1250.5\"/>\n<text text-anchor=\"middle\" x=\"3635.5\" y=\"-1235.3\" font-family=\"Times,serif\" font-size=\"14.00\" fill=\"#000000\">gini = 0.0</text>\n<text text-anchor=\"middle\" x=\"3635.5\" y=\"-1220.3\" font-family=\"Times,serif\" font-size=\"14.00\" fill=\"#000000\">samples = 1</text>\n<text text-anchor=\"middle\" x=\"3635.5\" y=\"-1205.3\" font-family=\"Times,serif\" font-size=\"14.00\" fill=\"#000000\">value = [0, 1]</text>\n<text text-anchor=\"middle\" x=\"3635.5\" y=\"-1190.3\" font-family=\"Times,serif\" font-size=\"14.00\" fill=\"#000000\">class = u</text>\n</g>\n<!-- 206&#45;&gt;208 -->\n<g id=\"edge208\" class=\"edge\">\n<title>206&#45;&gt;208</title>\n<path fill=\"none\" stroke=\"#000000\" d=\"M3559.4209,-1293.8796C3570.7728,-1282.3337 3583.0982,-1269.7976 3594.457,-1258.2446\"/>\n<polygon fill=\"#000000\" stroke=\"#000000\" points=\"3597.2466,-1260.3995 3601.7618,-1250.8149 3592.2551,-1255.4919 3597.2466,-1260.3995\"/>\n</g>\n<!-- 212 -->\n<g id=\"node213\" class=\"node\">\n<title>212</title>\n<polygon fill=\"#7bbeee\" stroke=\"#000000\" points=\"3782,-1734 3675,-1734 3675,-1651 3782,-1651 3782,-1734\"/>\n<text text-anchor=\"middle\" x=\"3728.5\" y=\"-1718.8\" font-family=\"Times,serif\" font-size=\"14.00\" fill=\"#000000\">Fare &lt;= 52.277</text>\n<text text-anchor=\"middle\" x=\"3728.5\" y=\"-1703.8\" font-family=\"Times,serif\" font-size=\"14.00\" fill=\"#000000\">gini = 0.375</text>\n<text text-anchor=\"middle\" x=\"3728.5\" y=\"-1688.8\" font-family=\"Times,serif\" font-size=\"14.00\" fill=\"#000000\">samples = 4</text>\n<text text-anchor=\"middle\" x=\"3728.5\" y=\"-1673.8\" font-family=\"Times,serif\" font-size=\"14.00\" fill=\"#000000\">value = [1, 3]</text>\n<text text-anchor=\"middle\" x=\"3728.5\" y=\"-1658.8\" font-family=\"Times,serif\" font-size=\"14.00\" fill=\"#000000\">class = u</text>\n</g>\n<!-- 211&#45;&gt;212 -->\n<g id=\"edge212\" class=\"edge\">\n<title>211&#45;&gt;212</title>\n<path fill=\"none\" stroke=\"#000000\" d=\"M3728.5,-1769.8796C3728.5,-1761.6838 3728.5,-1752.9891 3728.5,-1744.5013\"/>\n<polygon fill=\"#000000\" stroke=\"#000000\" points=\"3732.0001,-1744.298 3728.5,-1734.2981 3725.0001,-1744.2981 3732.0001,-1744.298\"/>\n</g>\n<!-- 217 -->\n<g id=\"node218\" class=\"node\">\n<title>217</title>\n<polygon fill=\"#f5cdb0\" stroke=\"#000000\" points=\"3951,-1734 3832,-1734 3832,-1651 3951,-1651 3951,-1734\"/>\n<text text-anchor=\"middle\" x=\"3891.5\" y=\"-1718.8\" font-family=\"Times,serif\" font-size=\"14.00\" fill=\"#000000\">Embarked &lt;= 0.5</text>\n<text text-anchor=\"middle\" x=\"3891.5\" y=\"-1703.8\" font-family=\"Times,serif\" font-size=\"14.00\" fill=\"#000000\">gini = 0.469</text>\n<text text-anchor=\"middle\" x=\"3891.5\" y=\"-1688.8\" font-family=\"Times,serif\" font-size=\"14.00\" fill=\"#000000\">samples = 16</text>\n<text text-anchor=\"middle\" x=\"3891.5\" y=\"-1673.8\" font-family=\"Times,serif\" font-size=\"14.00\" fill=\"#000000\">value = [10, 6]</text>\n<text text-anchor=\"middle\" x=\"3891.5\" y=\"-1658.8\" font-family=\"Times,serif\" font-size=\"14.00\" fill=\"#000000\">class = S</text>\n</g>\n<!-- 211&#45;&gt;217 -->\n<g id=\"edge217\" class=\"edge\">\n<title>211&#45;&gt;217</title>\n<path fill=\"none\" stroke=\"#000000\" d=\"M3782.324,-1772.2052C3796.3547,-1761.9619 3811.6271,-1750.8121 3826.1821,-1740.1861\"/>\n<polygon fill=\"#000000\" stroke=\"#000000\" points=\"3828.6412,-1742.7243 3834.6541,-1734.001 3824.5137,-1737.0706 3828.6412,-1742.7243\"/>\n</g>\n<!-- 213 -->\n<g id=\"node214\" class=\"node\">\n<title>213</title>\n<polygon fill=\"#ffffff\" stroke=\"#000000\" points=\"3685,-1615 3590,-1615 3590,-1532 3685,-1532 3685,-1615\"/>\n<text text-anchor=\"middle\" x=\"3637.5\" y=\"-1599.8\" font-family=\"Times,serif\" font-size=\"14.00\" fill=\"#000000\">Age &lt;= 45.0</text>\n<text text-anchor=\"middle\" x=\"3637.5\" y=\"-1584.8\" font-family=\"Times,serif\" font-size=\"14.00\" fill=\"#000000\">gini = 0.5</text>\n<text text-anchor=\"middle\" x=\"3637.5\" y=\"-1569.8\" font-family=\"Times,serif\" font-size=\"14.00\" fill=\"#000000\">samples = 2</text>\n<text text-anchor=\"middle\" x=\"3637.5\" y=\"-1554.8\" font-family=\"Times,serif\" font-size=\"14.00\" fill=\"#000000\">value = [1, 1]</text>\n<text text-anchor=\"middle\" x=\"3637.5\" y=\"-1539.8\" font-family=\"Times,serif\" font-size=\"14.00\" fill=\"#000000\">class = S</text>\n</g>\n<!-- 212&#45;&gt;213 -->\n<g id=\"edge213\" class=\"edge\">\n<title>212&#45;&gt;213</title>\n<path fill=\"none\" stroke=\"#000000\" d=\"M3696.6726,-1650.8796C3689.8543,-1641.9633 3682.5844,-1632.4565 3675.5579,-1623.268\"/>\n<polygon fill=\"#000000\" stroke=\"#000000\" points=\"3678.318,-1621.1156 3669.4632,-1615.2981 3672.7575,-1625.3678 3678.318,-1621.1156\"/>\n</g>\n<!-- 216 -->\n<g id=\"node217\" class=\"node\">\n<title>216</title>\n<polygon fill=\"#399de5\" stroke=\"#000000\" points=\"3798,-1607.5 3703,-1607.5 3703,-1539.5 3798,-1539.5 3798,-1607.5\"/>\n<text text-anchor=\"middle\" x=\"3750.5\" y=\"-1592.3\" font-family=\"Times,serif\" font-size=\"14.00\" fill=\"#000000\">gini = 0.0</text>\n<text text-anchor=\"middle\" x=\"3750.5\" y=\"-1577.3\" font-family=\"Times,serif\" font-size=\"14.00\" fill=\"#000000\">samples = 2</text>\n<text text-anchor=\"middle\" x=\"3750.5\" y=\"-1562.3\" font-family=\"Times,serif\" font-size=\"14.00\" fill=\"#000000\">value = [0, 2]</text>\n<text text-anchor=\"middle\" x=\"3750.5\" y=\"-1547.3\" font-family=\"Times,serif\" font-size=\"14.00\" fill=\"#000000\">class = u</text>\n</g>\n<!-- 212&#45;&gt;216 -->\n<g id=\"edge216\" class=\"edge\">\n<title>212&#45;&gt;216</title>\n<path fill=\"none\" stroke=\"#000000\" d=\"M3736.1945,-1650.8796C3738.1664,-1640.2134 3740.2946,-1628.7021 3742.2913,-1617.9015\"/>\n<polygon fill=\"#000000\" stroke=\"#000000\" points=\"3745.7797,-1618.2846 3744.1561,-1607.8149 3738.8964,-1617.012 3745.7797,-1618.2846\"/>\n</g>\n<!-- 214 -->\n<g id=\"node215\" class=\"node\">\n<title>214</title>\n<polygon fill=\"#e58139\" stroke=\"#000000\" points=\"3630,-1488.5 3535,-1488.5 3535,-1420.5 3630,-1420.5 3630,-1488.5\"/>\n<text text-anchor=\"middle\" x=\"3582.5\" y=\"-1473.3\" font-family=\"Times,serif\" font-size=\"14.00\" fill=\"#000000\">gini = 0.0</text>\n<text text-anchor=\"middle\" x=\"3582.5\" y=\"-1458.3\" font-family=\"Times,serif\" font-size=\"14.00\" fill=\"#000000\">samples = 1</text>\n<text text-anchor=\"middle\" x=\"3582.5\" y=\"-1443.3\" font-family=\"Times,serif\" font-size=\"14.00\" fill=\"#000000\">value = [1, 0]</text>\n<text text-anchor=\"middle\" x=\"3582.5\" y=\"-1428.3\" font-family=\"Times,serif\" font-size=\"14.00\" fill=\"#000000\">class = S</text>\n</g>\n<!-- 213&#45;&gt;214 -->\n<g id=\"edge214\" class=\"edge\">\n<title>213&#45;&gt;214</title>\n<path fill=\"none\" stroke=\"#000000\" d=\"M3618.2637,-1531.8796C3613.1814,-1520.8835 3607.6841,-1508.9893 3602.5595,-1497.9015\"/>\n<polygon fill=\"#000000\" stroke=\"#000000\" points=\"3605.7324,-1496.4239 3598.3598,-1488.8149 3599.3782,-1499.3607 3605.7324,-1496.4239\"/>\n</g>\n<!-- 215 -->\n<g id=\"node216\" class=\"node\">\n<title>215</title>\n<polygon fill=\"#399de5\" stroke=\"#000000\" points=\"3743,-1488.5 3648,-1488.5 3648,-1420.5 3743,-1420.5 3743,-1488.5\"/>\n<text text-anchor=\"middle\" x=\"3695.5\" y=\"-1473.3\" font-family=\"Times,serif\" font-size=\"14.00\" fill=\"#000000\">gini = 0.0</text>\n<text text-anchor=\"middle\" x=\"3695.5\" y=\"-1458.3\" font-family=\"Times,serif\" font-size=\"14.00\" fill=\"#000000\">samples = 1</text>\n<text text-anchor=\"middle\" x=\"3695.5\" y=\"-1443.3\" font-family=\"Times,serif\" font-size=\"14.00\" fill=\"#000000\">value = [0, 1]</text>\n<text text-anchor=\"middle\" x=\"3695.5\" y=\"-1428.3\" font-family=\"Times,serif\" font-size=\"14.00\" fill=\"#000000\">class = u</text>\n</g>\n<!-- 213&#45;&gt;215 -->\n<g id=\"edge215\" class=\"edge\">\n<title>213&#45;&gt;215</title>\n<path fill=\"none\" stroke=\"#000000\" d=\"M3657.7856,-1531.8796C3663.145,-1520.8835 3668.9422,-1508.9893 3674.3463,-1497.9015\"/>\n<polygon fill=\"#000000\" stroke=\"#000000\" points=\"3677.54,-1499.3375 3678.7751,-1488.8149 3671.2476,-1496.2706 3677.54,-1499.3375\"/>\n</g>\n<!-- 218 -->\n<g id=\"node219\" class=\"node\">\n<title>218</title>\n<polygon fill=\"#9ccef2\" stroke=\"#000000\" points=\"3945,-1615 3838,-1615 3838,-1532 3945,-1532 3945,-1615\"/>\n<text text-anchor=\"middle\" x=\"3891.5\" y=\"-1599.8\" font-family=\"Times,serif\" font-size=\"14.00\" fill=\"#000000\">Fare &lt;= 97.765</text>\n<text text-anchor=\"middle\" x=\"3891.5\" y=\"-1584.8\" font-family=\"Times,serif\" font-size=\"14.00\" fill=\"#000000\">gini = 0.444</text>\n<text text-anchor=\"middle\" x=\"3891.5\" y=\"-1569.8\" font-family=\"Times,serif\" font-size=\"14.00\" fill=\"#000000\">samples = 6</text>\n<text text-anchor=\"middle\" x=\"3891.5\" y=\"-1554.8\" font-family=\"Times,serif\" font-size=\"14.00\" fill=\"#000000\">value = [2, 4]</text>\n<text text-anchor=\"middle\" x=\"3891.5\" y=\"-1539.8\" font-family=\"Times,serif\" font-size=\"14.00\" fill=\"#000000\">class = u</text>\n</g>\n<!-- 217&#45;&gt;218 -->\n<g id=\"edge218\" class=\"edge\">\n<title>217&#45;&gt;218</title>\n<path fill=\"none\" stroke=\"#000000\" d=\"M3891.5,-1650.8796C3891.5,-1642.6838 3891.5,-1633.9891 3891.5,-1625.5013\"/>\n<polygon fill=\"#000000\" stroke=\"#000000\" points=\"3895.0001,-1625.298 3891.5,-1615.2981 3888.0001,-1625.2981 3895.0001,-1625.298\"/>\n</g>\n<!-- 221 -->\n<g id=\"node222\" class=\"node\">\n<title>221</title>\n<polygon fill=\"#eca06a\" stroke=\"#000000\" points=\"4088,-1615 3981,-1615 3981,-1532 4088,-1532 4088,-1615\"/>\n<text text-anchor=\"middle\" x=\"4034.5\" y=\"-1599.8\" font-family=\"Times,serif\" font-size=\"14.00\" fill=\"#000000\">Fare &lt;= 86.737</text>\n<text text-anchor=\"middle\" x=\"4034.5\" y=\"-1584.8\" font-family=\"Times,serif\" font-size=\"14.00\" fill=\"#000000\">gini = 0.32</text>\n<text text-anchor=\"middle\" x=\"4034.5\" y=\"-1569.8\" font-family=\"Times,serif\" font-size=\"14.00\" fill=\"#000000\">samples = 10</text>\n<text text-anchor=\"middle\" x=\"4034.5\" y=\"-1554.8\" font-family=\"Times,serif\" font-size=\"14.00\" fill=\"#000000\">value = [8, 2]</text>\n<text text-anchor=\"middle\" x=\"4034.5\" y=\"-1539.8\" font-family=\"Times,serif\" font-size=\"14.00\" fill=\"#000000\">class = S</text>\n</g>\n<!-- 217&#45;&gt;221 -->\n<g id=\"edge221\" class=\"edge\">\n<title>217&#45;&gt;221</title>\n<path fill=\"none\" stroke=\"#000000\" d=\"M3941.5145,-1650.8796C3952.7701,-1641.513 3964.8088,-1631.4948 3976.3646,-1621.8784\"/>\n<polygon fill=\"#000000\" stroke=\"#000000\" points=\"3978.8242,-1624.385 3984.2721,-1615.2981 3974.3466,-1619.0043 3978.8242,-1624.385\"/>\n</g>\n<!-- 219 -->\n<g id=\"node220\" class=\"node\">\n<title>219</title>\n<polygon fill=\"#399de5\" stroke=\"#000000\" points=\"3856,-1488.5 3761,-1488.5 3761,-1420.5 3856,-1420.5 3856,-1488.5\"/>\n<text text-anchor=\"middle\" x=\"3808.5\" y=\"-1473.3\" font-family=\"Times,serif\" font-size=\"14.00\" fill=\"#000000\">gini = 0.0</text>\n<text text-anchor=\"middle\" x=\"3808.5\" y=\"-1458.3\" font-family=\"Times,serif\" font-size=\"14.00\" fill=\"#000000\">samples = 4</text>\n<text text-anchor=\"middle\" x=\"3808.5\" y=\"-1443.3\" font-family=\"Times,serif\" font-size=\"14.00\" fill=\"#000000\">value = [0, 4]</text>\n<text text-anchor=\"middle\" x=\"3808.5\" y=\"-1428.3\" font-family=\"Times,serif\" font-size=\"14.00\" fill=\"#000000\">class = u</text>\n</g>\n<!-- 218&#45;&gt;219 -->\n<g id=\"edge219\" class=\"edge\">\n<title>218&#45;&gt;219</title>\n<path fill=\"none\" stroke=\"#000000\" d=\"M3862.4706,-1531.8796C3854.6477,-1520.6636 3846.173,-1508.5131 3838.3083,-1497.2372\"/>\n<polygon fill=\"#000000\" stroke=\"#000000\" points=\"3841.0254,-1495.0147 3832.4339,-1488.8149 3835.284,-1499.0192 3841.0254,-1495.0147\"/>\n</g>\n<!-- 220 -->\n<g id=\"node221\" class=\"node\">\n<title>220</title>\n<polygon fill=\"#e58139\" stroke=\"#000000\" points=\"3969,-1488.5 3874,-1488.5 3874,-1420.5 3969,-1420.5 3969,-1488.5\"/>\n<text text-anchor=\"middle\" x=\"3921.5\" y=\"-1473.3\" font-family=\"Times,serif\" font-size=\"14.00\" fill=\"#000000\">gini = 0.0</text>\n<text text-anchor=\"middle\" x=\"3921.5\" y=\"-1458.3\" font-family=\"Times,serif\" font-size=\"14.00\" fill=\"#000000\">samples = 2</text>\n<text text-anchor=\"middle\" x=\"3921.5\" y=\"-1443.3\" font-family=\"Times,serif\" font-size=\"14.00\" fill=\"#000000\">value = [2, 0]</text>\n<text text-anchor=\"middle\" x=\"3921.5\" y=\"-1428.3\" font-family=\"Times,serif\" font-size=\"14.00\" fill=\"#000000\">class = S</text>\n</g>\n<!-- 218&#45;&gt;220 -->\n<g id=\"edge220\" class=\"edge\">\n<title>218&#45;&gt;220</title>\n<path fill=\"none\" stroke=\"#000000\" d=\"M3901.9925,-1531.8796C3904.7092,-1521.1034 3907.6434,-1509.4647 3910.3905,-1498.5677\"/>\n<polygon fill=\"#000000\" stroke=\"#000000\" points=\"3913.7984,-1499.3672 3912.8492,-1488.8149 3907.0108,-1497.6559 3913.7984,-1499.3672\"/>\n</g>\n<!-- 222 -->\n<g id=\"node223\" class=\"node\">\n<title>222</title>\n<polygon fill=\"#e58139\" stroke=\"#000000\" points=\"4082,-1488.5 3987,-1488.5 3987,-1420.5 4082,-1420.5 4082,-1488.5\"/>\n<text text-anchor=\"middle\" x=\"4034.5\" y=\"-1473.3\" font-family=\"Times,serif\" font-size=\"14.00\" fill=\"#000000\">gini = 0.0</text>\n<text text-anchor=\"middle\" x=\"4034.5\" y=\"-1458.3\" font-family=\"Times,serif\" font-size=\"14.00\" fill=\"#000000\">samples = 6</text>\n<text text-anchor=\"middle\" x=\"4034.5\" y=\"-1443.3\" font-family=\"Times,serif\" font-size=\"14.00\" fill=\"#000000\">value = [6, 0]</text>\n<text text-anchor=\"middle\" x=\"4034.5\" y=\"-1428.3\" font-family=\"Times,serif\" font-size=\"14.00\" fill=\"#000000\">class = S</text>\n</g>\n<!-- 221&#45;&gt;222 -->\n<g id=\"edge222\" class=\"edge\">\n<title>221&#45;&gt;222</title>\n<path fill=\"none\" stroke=\"#000000\" d=\"M4034.5,-1531.8796C4034.5,-1521.2134 4034.5,-1509.7021 4034.5,-1498.9015\"/>\n<polygon fill=\"#000000\" stroke=\"#000000\" points=\"4038.0001,-1498.8149 4034.5,-1488.8149 4031.0001,-1498.815 4038.0001,-1498.8149\"/>\n</g>\n<!-- 223 -->\n<g id=\"node224\" class=\"node\">\n<title>223</title>\n<polygon fill=\"#ffffff\" stroke=\"#000000\" points=\"4219,-1496 4100,-1496 4100,-1413 4219,-1413 4219,-1496\"/>\n<text text-anchor=\"middle\" x=\"4159.5\" y=\"-1480.8\" font-family=\"Times,serif\" font-size=\"14.00\" fill=\"#000000\">Embarked &lt;= 1.5</text>\n<text text-anchor=\"middle\" x=\"4159.5\" y=\"-1465.8\" font-family=\"Times,serif\" font-size=\"14.00\" fill=\"#000000\">gini = 0.5</text>\n<text text-anchor=\"middle\" x=\"4159.5\" y=\"-1450.8\" font-family=\"Times,serif\" font-size=\"14.00\" fill=\"#000000\">samples = 4</text>\n<text text-anchor=\"middle\" x=\"4159.5\" y=\"-1435.8\" font-family=\"Times,serif\" font-size=\"14.00\" fill=\"#000000\">value = [2, 2]</text>\n<text text-anchor=\"middle\" x=\"4159.5\" y=\"-1420.8\" font-family=\"Times,serif\" font-size=\"14.00\" fill=\"#000000\">class = S</text>\n</g>\n<!-- 221&#45;&gt;223 -->\n<g id=\"edge223\" class=\"edge\">\n<title>221&#45;&gt;223</title>\n<path fill=\"none\" stroke=\"#000000\" d=\"M4078.2189,-1531.8796C4087.8686,-1522.6931 4098.1766,-1512.8798 4108.0991,-1503.4336\"/>\n<polygon fill=\"#000000\" stroke=\"#000000\" points=\"4110.765,-1505.7282 4115.5945,-1496.2981 4105.9384,-1500.6582 4110.765,-1505.7282\"/>\n</g>\n<!-- 224 -->\n<g id=\"node225\" class=\"node\">\n<title>224</title>\n<polygon fill=\"#e58139\" stroke=\"#000000\" points=\"4084,-1369.5 3989,-1369.5 3989,-1301.5 4084,-1301.5 4084,-1369.5\"/>\n<text text-anchor=\"middle\" x=\"4036.5\" y=\"-1354.3\" font-family=\"Times,serif\" font-size=\"14.00\" fill=\"#000000\">gini = 0.0</text>\n<text text-anchor=\"middle\" x=\"4036.5\" y=\"-1339.3\" font-family=\"Times,serif\" font-size=\"14.00\" fill=\"#000000\">samples = 1</text>\n<text text-anchor=\"middle\" x=\"4036.5\" y=\"-1324.3\" font-family=\"Times,serif\" font-size=\"14.00\" fill=\"#000000\">value = [1, 0]</text>\n<text text-anchor=\"middle\" x=\"4036.5\" y=\"-1309.3\" font-family=\"Times,serif\" font-size=\"14.00\" fill=\"#000000\">class = S</text>\n</g>\n<!-- 223&#45;&gt;224 -->\n<g id=\"edge224\" class=\"edge\">\n<title>223&#45;&gt;224</title>\n<path fill=\"none\" stroke=\"#000000\" d=\"M4116.4806,-1412.8796C4104.4329,-1401.2237 4091.3422,-1388.5587 4079.3069,-1376.9148\"/>\n<polygon fill=\"#000000\" stroke=\"#000000\" points=\"4081.589,-1374.2528 4071.9684,-1369.8149 4076.7217,-1379.2837 4081.589,-1374.2528\"/>\n</g>\n<!-- 225 -->\n<g id=\"node226\" class=\"node\">\n<title>225</title>\n<polygon fill=\"#9ccef2\" stroke=\"#000000\" points=\"4216.5,-1377 4102.5,-1377 4102.5,-1294 4216.5,-1294 4216.5,-1377\"/>\n<text text-anchor=\"middle\" x=\"4159.5\" y=\"-1361.8\" font-family=\"Times,serif\" font-size=\"14.00\" fill=\"#000000\">Fare &lt;= 198.325</text>\n<text text-anchor=\"middle\" x=\"4159.5\" y=\"-1346.8\" font-family=\"Times,serif\" font-size=\"14.00\" fill=\"#000000\">gini = 0.444</text>\n<text text-anchor=\"middle\" x=\"4159.5\" y=\"-1331.8\" font-family=\"Times,serif\" font-size=\"14.00\" fill=\"#000000\">samples = 3</text>\n<text text-anchor=\"middle\" x=\"4159.5\" y=\"-1316.8\" font-family=\"Times,serif\" font-size=\"14.00\" fill=\"#000000\">value = [1, 2]</text>\n<text text-anchor=\"middle\" x=\"4159.5\" y=\"-1301.8\" font-family=\"Times,serif\" font-size=\"14.00\" fill=\"#000000\">class = u</text>\n</g>\n<!-- 223&#45;&gt;225 -->\n<g id=\"edge225\" class=\"edge\">\n<title>223&#45;&gt;225</title>\n<path fill=\"none\" stroke=\"#000000\" d=\"M4159.5,-1412.8796C4159.5,-1404.6838 4159.5,-1395.9891 4159.5,-1387.5013\"/>\n<polygon fill=\"#000000\" stroke=\"#000000\" points=\"4163.0001,-1387.298 4159.5,-1377.2981 4156.0001,-1387.2981 4163.0001,-1387.298\"/>\n</g>\n<!-- 226 -->\n<g id=\"node227\" class=\"node\">\n<title>226</title>\n<polygon fill=\"#399de5\" stroke=\"#000000\" points=\"4095,-1250.5 4000,-1250.5 4000,-1182.5 4095,-1182.5 4095,-1250.5\"/>\n<text text-anchor=\"middle\" x=\"4047.5\" y=\"-1235.3\" font-family=\"Times,serif\" font-size=\"14.00\" fill=\"#000000\">gini = 0.0</text>\n<text text-anchor=\"middle\" x=\"4047.5\" y=\"-1220.3\" font-family=\"Times,serif\" font-size=\"14.00\" fill=\"#000000\">samples = 2</text>\n<text text-anchor=\"middle\" x=\"4047.5\" y=\"-1205.3\" font-family=\"Times,serif\" font-size=\"14.00\" fill=\"#000000\">value = [0, 2]</text>\n<text text-anchor=\"middle\" x=\"4047.5\" y=\"-1190.3\" font-family=\"Times,serif\" font-size=\"14.00\" fill=\"#000000\">class = u</text>\n</g>\n<!-- 225&#45;&gt;226 -->\n<g id=\"edge226\" class=\"edge\">\n<title>225&#45;&gt;226</title>\n<path fill=\"none\" stroke=\"#000000\" d=\"M4120.3278,-1293.8796C4109.4611,-1282.3337 4097.6624,-1269.7976 4086.7891,-1258.2446\"/>\n<polygon fill=\"#000000\" stroke=\"#000000\" points=\"4089.1988,-1255.6982 4079.7964,-1250.8149 4084.1014,-1260.4958 4089.1988,-1255.6982\"/>\n</g>\n<!-- 227 -->\n<g id=\"node228\" class=\"node\">\n<title>227</title>\n<polygon fill=\"#e58139\" stroke=\"#000000\" points=\"4208,-1250.5 4113,-1250.5 4113,-1182.5 4208,-1182.5 4208,-1250.5\"/>\n<text text-anchor=\"middle\" x=\"4160.5\" y=\"-1235.3\" font-family=\"Times,serif\" font-size=\"14.00\" fill=\"#000000\">gini = 0.0</text>\n<text text-anchor=\"middle\" x=\"4160.5\" y=\"-1220.3\" font-family=\"Times,serif\" font-size=\"14.00\" fill=\"#000000\">samples = 1</text>\n<text text-anchor=\"middle\" x=\"4160.5\" y=\"-1205.3\" font-family=\"Times,serif\" font-size=\"14.00\" fill=\"#000000\">value = [1, 0]</text>\n<text text-anchor=\"middle\" x=\"4160.5\" y=\"-1190.3\" font-family=\"Times,serif\" font-size=\"14.00\" fill=\"#000000\">class = S</text>\n</g>\n<!-- 225&#45;&gt;227 -->\n<g id=\"edge227\" class=\"edge\">\n<title>225&#45;&gt;227</title>\n<path fill=\"none\" stroke=\"#000000\" d=\"M4159.8498,-1293.8796C4159.9394,-1283.2134 4160.0361,-1271.7021 4160.1269,-1260.9015\"/>\n<polygon fill=\"#000000\" stroke=\"#000000\" points=\"4163.6274,-1260.844 4160.2116,-1250.8149 4156.6276,-1260.7851 4163.6274,-1260.844\"/>\n</g>\n<!-- 229 -->\n<g id=\"node230\" class=\"node\">\n<title>229</title>\n<polygon fill=\"#e89051\" stroke=\"#000000\" points=\"4745,-1972 4628,-1972 4628,-1889 4745,-1889 4745,-1972\"/>\n<text text-anchor=\"middle\" x=\"4686.5\" y=\"-1956.8\" font-family=\"Times,serif\" font-size=\"14.00\" fill=\"#000000\">Age &lt;= 13.0</text>\n<text text-anchor=\"middle\" x=\"4686.5\" y=\"-1941.8\" font-family=\"Times,serif\" font-size=\"14.00\" fill=\"#000000\">gini = 0.193</text>\n<text text-anchor=\"middle\" x=\"4686.5\" y=\"-1926.8\" font-family=\"Times,serif\" font-size=\"14.00\" fill=\"#000000\">samples = 417</text>\n<text text-anchor=\"middle\" x=\"4686.5\" y=\"-1911.8\" font-family=\"Times,serif\" font-size=\"14.00\" fill=\"#000000\">value = [372, 45]</text>\n<text text-anchor=\"middle\" x=\"4686.5\" y=\"-1896.8\" font-family=\"Times,serif\" font-size=\"14.00\" fill=\"#000000\">class = S</text>\n</g>\n<!-- 228&#45;&gt;229 -->\n<g id=\"edge229\" class=\"edge\">\n<title>228&#45;&gt;229</title>\n<path fill=\"none\" stroke=\"#000000\" d=\"M4686.5,-2007.8796C4686.5,-1999.6838 4686.5,-1990.9891 4686.5,-1982.5013\"/>\n<polygon fill=\"#000000\" stroke=\"#000000\" points=\"4690.0001,-1982.298 4686.5,-1972.2981 4683.0001,-1982.2981 4690.0001,-1982.298\"/>\n</g>\n<!-- 402 -->\n<g id=\"node403\" class=\"node\">\n<title>402</title>\n<polygon fill=\"#f1ba93\" stroke=\"#000000\" points=\"6060,-1972 5953,-1972 5953,-1889 6060,-1889 6060,-1972\"/>\n<text text-anchor=\"middle\" x=\"6006.5\" y=\"-1956.8\" font-family=\"Times,serif\" font-size=\"14.00\" fill=\"#000000\">Fare &lt;= 63.023</text>\n<text text-anchor=\"middle\" x=\"6006.5\" y=\"-1941.8\" font-family=\"Times,serif\" font-size=\"14.00\" fill=\"#000000\">gini = 0.43</text>\n<text text-anchor=\"middle\" x=\"6006.5\" y=\"-1926.8\" font-family=\"Times,serif\" font-size=\"14.00\" fill=\"#000000\">samples = 16</text>\n<text text-anchor=\"middle\" x=\"6006.5\" y=\"-1911.8\" font-family=\"Times,serif\" font-size=\"14.00\" fill=\"#000000\">value = [11, 5]</text>\n<text text-anchor=\"middle\" x=\"6006.5\" y=\"-1896.8\" font-family=\"Times,serif\" font-size=\"14.00\" fill=\"#000000\">class = S</text>\n</g>\n<!-- 228&#45;&gt;402 -->\n<g id=\"edge402\" class=\"edge\">\n<title>228&#45;&gt;402</title>\n<path fill=\"none\" stroke=\"#000000\" d=\"M4745.3513,-2044.1945C4962.5224,-2024.6162 5717.9438,-1956.5138 5942.8495,-1936.2382\"/>\n<polygon fill=\"#000000\" stroke=\"#000000\" points=\"5943.1944,-1939.7214 5952.8397,-1935.3376 5942.5658,-1932.7497 5943.1944,-1939.7214\"/>\n</g>\n<!-- 230 -->\n<g id=\"node231\" class=\"node\">\n<title>230</title>\n<polygon fill=\"#f2c09c\" stroke=\"#000000\" points=\"4671,-1853 4576,-1853 4576,-1770 4671,-1770 4671,-1853\"/>\n<text text-anchor=\"middle\" x=\"4623.5\" y=\"-1837.8\" font-family=\"Times,serif\" font-size=\"14.00\" fill=\"#000000\">SibSp &lt;= 2.0</text>\n<text text-anchor=\"middle\" x=\"4623.5\" y=\"-1822.8\" font-family=\"Times,serif\" font-size=\"14.00\" fill=\"#000000\">gini = 0.444</text>\n<text text-anchor=\"middle\" x=\"4623.5\" y=\"-1807.8\" font-family=\"Times,serif\" font-size=\"14.00\" fill=\"#000000\">samples = 12</text>\n<text text-anchor=\"middle\" x=\"4623.5\" y=\"-1792.8\" font-family=\"Times,serif\" font-size=\"14.00\" fill=\"#000000\">value = [8, 4]</text>\n<text text-anchor=\"middle\" x=\"4623.5\" y=\"-1777.8\" font-family=\"Times,serif\" font-size=\"14.00\" fill=\"#000000\">class = S</text>\n</g>\n<!-- 229&#45;&gt;230 -->\n<g id=\"edge230\" class=\"edge\">\n<title>229&#45;&gt;230</title>\n<path fill=\"none\" stroke=\"#000000\" d=\"M4664.4657,-1888.8796C4659.936,-1880.3236 4655.1185,-1871.2238 4650.4382,-1862.3833\"/>\n<polygon fill=\"#000000\" stroke=\"#000000\" points=\"4653.4006,-1860.4983 4645.6284,-1853.2981 4647.2141,-1863.7736 4653.4006,-1860.4983\"/>\n</g>\n<!-- 237 -->\n<g id=\"node238\" class=\"node\">\n<title>237</title>\n<polygon fill=\"#e88f4f\" stroke=\"#000000\" points=\"4809,-1853 4690,-1853 4690,-1770 4809,-1770 4809,-1853\"/>\n<text text-anchor=\"middle\" x=\"4749.5\" y=\"-1837.8\" font-family=\"Times,serif\" font-size=\"14.00\" fill=\"#000000\">Embarked &lt;= 0.5</text>\n<text text-anchor=\"middle\" x=\"4749.5\" y=\"-1822.8\" font-family=\"Times,serif\" font-size=\"14.00\" fill=\"#000000\">gini = 0.182</text>\n<text text-anchor=\"middle\" x=\"4749.5\" y=\"-1807.8\" font-family=\"Times,serif\" font-size=\"14.00\" fill=\"#000000\">samples = 405</text>\n<text text-anchor=\"middle\" x=\"4749.5\" y=\"-1792.8\" font-family=\"Times,serif\" font-size=\"14.00\" fill=\"#000000\">value = [364, 41]</text>\n<text text-anchor=\"middle\" x=\"4749.5\" y=\"-1777.8\" font-family=\"Times,serif\" font-size=\"14.00\" fill=\"#000000\">class = S</text>\n</g>\n<!-- 229&#45;&gt;237 -->\n<g id=\"edge237\" class=\"edge\">\n<title>229&#45;&gt;237</title>\n<path fill=\"none\" stroke=\"#000000\" d=\"M4708.5343,-1888.8796C4713.064,-1880.3236 4717.8815,-1871.2238 4722.5618,-1862.3833\"/>\n<polygon fill=\"#000000\" stroke=\"#000000\" points=\"4725.7859,-1863.7736 4727.3716,-1853.2981 4719.5994,-1860.4983 4725.7859,-1863.7736\"/>\n</g>\n<!-- 231 -->\n<g id=\"node232\" class=\"node\">\n<title>231</title>\n<polygon fill=\"#6ab6ec\" stroke=\"#000000\" points=\"4558,-1734 4463,-1734 4463,-1651 4558,-1651 4558,-1734\"/>\n<text text-anchor=\"middle\" x=\"4510.5\" y=\"-1718.8\" font-family=\"Times,serif\" font-size=\"14.00\" fill=\"#000000\">Parch &lt;= 0.5</text>\n<text text-anchor=\"middle\" x=\"4510.5\" y=\"-1703.8\" font-family=\"Times,serif\" font-size=\"14.00\" fill=\"#000000\">gini = 0.32</text>\n<text text-anchor=\"middle\" x=\"4510.5\" y=\"-1688.8\" font-family=\"Times,serif\" font-size=\"14.00\" fill=\"#000000\">samples = 5</text>\n<text text-anchor=\"middle\" x=\"4510.5\" y=\"-1673.8\" font-family=\"Times,serif\" font-size=\"14.00\" fill=\"#000000\">value = [1, 4]</text>\n<text text-anchor=\"middle\" x=\"4510.5\" y=\"-1658.8\" font-family=\"Times,serif\" font-size=\"14.00\" fill=\"#000000\">class = u</text>\n</g>\n<!-- 230&#45;&gt;231 -->\n<g id=\"edge231\" class=\"edge\">\n<title>230&#45;&gt;231</title>\n<path fill=\"none\" stroke=\"#000000\" d=\"M4583.9781,-1769.8796C4575.3403,-1760.7832 4566.119,-1751.0722 4557.2303,-1741.7116\"/>\n<polygon fill=\"#000000\" stroke=\"#000000\" points=\"4559.6146,-1739.1395 4550.1906,-1734.2981 4554.5385,-1743.9597 4559.6146,-1739.1395\"/>\n</g>\n<!-- 236 -->\n<g id=\"node237\" class=\"node\">\n<title>236</title>\n<polygon fill=\"#e58139\" stroke=\"#000000\" points=\"4671,-1726.5 4576,-1726.5 4576,-1658.5 4671,-1658.5 4671,-1726.5\"/>\n<text text-anchor=\"middle\" x=\"4623.5\" y=\"-1711.3\" font-family=\"Times,serif\" font-size=\"14.00\" fill=\"#000000\">gini = 0.0</text>\n<text text-anchor=\"middle\" x=\"4623.5\" y=\"-1696.3\" font-family=\"Times,serif\" font-size=\"14.00\" fill=\"#000000\">samples = 7</text>\n<text text-anchor=\"middle\" x=\"4623.5\" y=\"-1681.3\" font-family=\"Times,serif\" font-size=\"14.00\" fill=\"#000000\">value = [7, 0]</text>\n<text text-anchor=\"middle\" x=\"4623.5\" y=\"-1666.3\" font-family=\"Times,serif\" font-size=\"14.00\" fill=\"#000000\">class = S</text>\n</g>\n<!-- 230&#45;&gt;236 -->\n<g id=\"edge236\" class=\"edge\">\n<title>230&#45;&gt;236</title>\n<path fill=\"none\" stroke=\"#000000\" d=\"M4623.5,-1769.8796C4623.5,-1759.2134 4623.5,-1747.7021 4623.5,-1736.9015\"/>\n<polygon fill=\"#000000\" stroke=\"#000000\" points=\"4627.0001,-1736.8149 4623.5,-1726.8149 4620.0001,-1736.815 4627.0001,-1736.8149\"/>\n</g>\n<!-- 232 -->\n<g id=\"node233\" class=\"node\">\n<title>232</title>\n<polygon fill=\"#ffffff\" stroke=\"#000000\" points=\"4445,-1615 4350,-1615 4350,-1532 4445,-1532 4445,-1615\"/>\n<text text-anchor=\"middle\" x=\"4397.5\" y=\"-1599.8\" font-family=\"Times,serif\" font-size=\"14.00\" fill=\"#000000\">Age &lt;= 11.5</text>\n<text text-anchor=\"middle\" x=\"4397.5\" y=\"-1584.8\" font-family=\"Times,serif\" font-size=\"14.00\" fill=\"#000000\">gini = 0.5</text>\n<text text-anchor=\"middle\" x=\"4397.5\" y=\"-1569.8\" font-family=\"Times,serif\" font-size=\"14.00\" fill=\"#000000\">samples = 2</text>\n<text text-anchor=\"middle\" x=\"4397.5\" y=\"-1554.8\" font-family=\"Times,serif\" font-size=\"14.00\" fill=\"#000000\">value = [1, 1]</text>\n<text text-anchor=\"middle\" x=\"4397.5\" y=\"-1539.8\" font-family=\"Times,serif\" font-size=\"14.00\" fill=\"#000000\">class = S</text>\n</g>\n<!-- 231&#45;&gt;232 -->\n<g id=\"edge232\" class=\"edge\">\n<title>231&#45;&gt;232</title>\n<path fill=\"none\" stroke=\"#000000\" d=\"M4470.9781,-1650.8796C4462.3403,-1641.7832 4453.119,-1632.0722 4444.2303,-1622.7116\"/>\n<polygon fill=\"#000000\" stroke=\"#000000\" points=\"4446.6146,-1620.1395 4437.1906,-1615.2981 4441.5385,-1624.9597 4446.6146,-1620.1395\"/>\n</g>\n<!-- 235 -->\n<g id=\"node236\" class=\"node\">\n<title>235</title>\n<polygon fill=\"#399de5\" stroke=\"#000000\" points=\"4558,-1607.5 4463,-1607.5 4463,-1539.5 4558,-1539.5 4558,-1607.5\"/>\n<text text-anchor=\"middle\" x=\"4510.5\" y=\"-1592.3\" font-family=\"Times,serif\" font-size=\"14.00\" fill=\"#000000\">gini = 0.0</text>\n<text text-anchor=\"middle\" x=\"4510.5\" y=\"-1577.3\" font-family=\"Times,serif\" font-size=\"14.00\" fill=\"#000000\">samples = 3</text>\n<text text-anchor=\"middle\" x=\"4510.5\" y=\"-1562.3\" font-family=\"Times,serif\" font-size=\"14.00\" fill=\"#000000\">value = [0, 3]</text>\n<text text-anchor=\"middle\" x=\"4510.5\" y=\"-1547.3\" font-family=\"Times,serif\" font-size=\"14.00\" fill=\"#000000\">class = u</text>\n</g>\n<!-- 231&#45;&gt;235 -->\n<g id=\"edge235\" class=\"edge\">\n<title>231&#45;&gt;235</title>\n<path fill=\"none\" stroke=\"#000000\" d=\"M4510.5,-1650.8796C4510.5,-1640.2134 4510.5,-1628.7021 4510.5,-1617.9015\"/>\n<polygon fill=\"#000000\" stroke=\"#000000\" points=\"4514.0001,-1617.8149 4510.5,-1607.8149 4507.0001,-1617.815 4514.0001,-1617.8149\"/>\n</g>\n<!-- 233 -->\n<g id=\"node234\" class=\"node\">\n<title>233</title>\n<polygon fill=\"#e58139\" stroke=\"#000000\" points=\"4332,-1488.5 4237,-1488.5 4237,-1420.5 4332,-1420.5 4332,-1488.5\"/>\n<text text-anchor=\"middle\" x=\"4284.5\" y=\"-1473.3\" font-family=\"Times,serif\" font-size=\"14.00\" fill=\"#000000\">gini = 0.0</text>\n<text text-anchor=\"middle\" x=\"4284.5\" y=\"-1458.3\" font-family=\"Times,serif\" font-size=\"14.00\" fill=\"#000000\">samples = 1</text>\n<text text-anchor=\"middle\" x=\"4284.5\" y=\"-1443.3\" font-family=\"Times,serif\" font-size=\"14.00\" fill=\"#000000\">value = [1, 0]</text>\n<text text-anchor=\"middle\" x=\"4284.5\" y=\"-1428.3\" font-family=\"Times,serif\" font-size=\"14.00\" fill=\"#000000\">class = S</text>\n</g>\n<!-- 232&#45;&gt;233 -->\n<g id=\"edge233\" class=\"edge\">\n<title>232&#45;&gt;233</title>\n<path fill=\"none\" stroke=\"#000000\" d=\"M4357.9781,-1531.8796C4347.0143,-1520.3337 4335.1103,-1507.7976 4324.1399,-1496.2446\"/>\n<polygon fill=\"#000000\" stroke=\"#000000\" points=\"4326.5087,-1493.6564 4317.0848,-1488.8149 4321.4327,-1498.4766 4326.5087,-1493.6564\"/>\n</g>\n<!-- 234 -->\n<g id=\"node235\" class=\"node\">\n<title>234</title>\n<polygon fill=\"#399de5\" stroke=\"#000000\" points=\"4445,-1488.5 4350,-1488.5 4350,-1420.5 4445,-1420.5 4445,-1488.5\"/>\n<text text-anchor=\"middle\" x=\"4397.5\" y=\"-1473.3\" font-family=\"Times,serif\" font-size=\"14.00\" fill=\"#000000\">gini = 0.0</text>\n<text text-anchor=\"middle\" x=\"4397.5\" y=\"-1458.3\" font-family=\"Times,serif\" font-size=\"14.00\" fill=\"#000000\">samples = 1</text>\n<text text-anchor=\"middle\" x=\"4397.5\" y=\"-1443.3\" font-family=\"Times,serif\" font-size=\"14.00\" fill=\"#000000\">value = [0, 1]</text>\n<text text-anchor=\"middle\" x=\"4397.5\" y=\"-1428.3\" font-family=\"Times,serif\" font-size=\"14.00\" fill=\"#000000\">class = u</text>\n</g>\n<!-- 232&#45;&gt;234 -->\n<g id=\"edge234\" class=\"edge\">\n<title>232&#45;&gt;234</title>\n<path fill=\"none\" stroke=\"#000000\" d=\"M4397.5,-1531.8796C4397.5,-1521.2134 4397.5,-1509.7021 4397.5,-1498.9015\"/>\n<polygon fill=\"#000000\" stroke=\"#000000\" points=\"4401.0001,-1498.8149 4397.5,-1488.8149 4394.0001,-1498.815 4401.0001,-1498.8149\"/>\n</g>\n<!-- 238 -->\n<g id=\"node239\" class=\"node\">\n<title>238</title>\n<polygon fill=\"#eb9d66\" stroke=\"#000000\" points=\"4803,-1734 4696,-1734 4696,-1651 4803,-1651 4803,-1734\"/>\n<text text-anchor=\"middle\" x=\"4749.5\" y=\"-1718.8\" font-family=\"Times,serif\" font-size=\"14.00\" fill=\"#000000\">Fare &lt;= 15.148</text>\n<text text-anchor=\"middle\" x=\"4749.5\" y=\"-1703.8\" font-family=\"Times,serif\" font-size=\"14.00\" fill=\"#000000\">gini = 0.3</text>\n<text text-anchor=\"middle\" x=\"4749.5\" y=\"-1688.8\" font-family=\"Times,serif\" font-size=\"14.00\" fill=\"#000000\">samples = 49</text>\n<text text-anchor=\"middle\" x=\"4749.5\" y=\"-1673.8\" font-family=\"Times,serif\" font-size=\"14.00\" fill=\"#000000\">value = [40, 9]</text>\n<text text-anchor=\"middle\" x=\"4749.5\" y=\"-1658.8\" font-family=\"Times,serif\" font-size=\"14.00\" fill=\"#000000\">class = S</text>\n</g>\n<!-- 237&#45;&gt;238 -->\n<g id=\"edge238\" class=\"edge\">\n<title>237&#45;&gt;238</title>\n<path fill=\"none\" stroke=\"#000000\" d=\"M4749.5,-1769.8796C4749.5,-1761.6838 4749.5,-1752.9891 4749.5,-1744.5013\"/>\n<polygon fill=\"#000000\" stroke=\"#000000\" points=\"4753.0001,-1744.298 4749.5,-1734.2981 4746.0001,-1744.2981 4753.0001,-1744.298\"/>\n</g>\n<!-- 267 -->\n<g id=\"node268\" class=\"node\">\n<title>267</title>\n<polygon fill=\"#e88d4d\" stroke=\"#000000\" points=\"5575,-1734 5458,-1734 5458,-1651 5575,-1651 5575,-1734\"/>\n<text text-anchor=\"middle\" x=\"5516.5\" y=\"-1718.8\" font-family=\"Times,serif\" font-size=\"14.00\" fill=\"#000000\">Fare &lt;= 13.25</text>\n<text text-anchor=\"middle\" x=\"5516.5\" y=\"-1703.8\" font-family=\"Times,serif\" font-size=\"14.00\" fill=\"#000000\">gini = 0.164</text>\n<text text-anchor=\"middle\" x=\"5516.5\" y=\"-1688.8\" font-family=\"Times,serif\" font-size=\"14.00\" fill=\"#000000\">samples = 356</text>\n<text text-anchor=\"middle\" x=\"5516.5\" y=\"-1673.8\" font-family=\"Times,serif\" font-size=\"14.00\" fill=\"#000000\">value = [324, 32]</text>\n<text text-anchor=\"middle\" x=\"5516.5\" y=\"-1658.8\" font-family=\"Times,serif\" font-size=\"14.00\" fill=\"#000000\">class = S</text>\n</g>\n<!-- 237&#45;&gt;267 -->\n<g id=\"edge267\" class=\"edge\">\n<title>237&#45;&gt;267</title>\n<path fill=\"none\" stroke=\"#000000\" d=\"M4809.047,-1802.2613C4949.1683,-1780.5215 5299.0972,-1726.23 5447.8503,-1703.151\"/>\n<polygon fill=\"#000000\" stroke=\"#000000\" points=\"5448.4353,-1706.6022 5457.7804,-1701.6103 5447.362,-1699.685 5448.4353,-1706.6022\"/>\n</g>\n<!-- 239 -->\n<g id=\"node240\" class=\"node\">\n<title>239</title>\n<polygon fill=\"#e99456\" stroke=\"#000000\" points=\"4678.5,-1615 4576.5,-1615 4576.5,-1532 4678.5,-1532 4678.5,-1615\"/>\n<text text-anchor=\"middle\" x=\"4627.5\" y=\"-1599.8\" font-family=\"Times,serif\" font-size=\"14.00\" fill=\"#000000\">Age &lt;= 22.5</text>\n<text text-anchor=\"middle\" x=\"4627.5\" y=\"-1584.8\" font-family=\"Times,serif\" font-size=\"14.00\" fill=\"#000000\">gini = 0.224</text>\n<text text-anchor=\"middle\" x=\"4627.5\" y=\"-1569.8\" font-family=\"Times,serif\" font-size=\"14.00\" fill=\"#000000\">samples = 39</text>\n<text text-anchor=\"middle\" x=\"4627.5\" y=\"-1554.8\" font-family=\"Times,serif\" font-size=\"14.00\" fill=\"#000000\">value = [34, 5]</text>\n<text text-anchor=\"middle\" x=\"4627.5\" y=\"-1539.8\" font-family=\"Times,serif\" font-size=\"14.00\" fill=\"#000000\">class = S</text>\n</g>\n<!-- 238&#45;&gt;239 -->\n<g id=\"edge239\" class=\"edge\">\n<title>238&#45;&gt;239</title>\n<path fill=\"none\" stroke=\"#000000\" d=\"M4706.8303,-1650.8796C4697.4123,-1641.6931 4687.3516,-1631.8798 4677.6672,-1622.4336\"/>\n<polygon fill=\"#000000\" stroke=\"#000000\" points=\"4679.9543,-1619.7751 4670.3518,-1615.2981 4675.0665,-1624.7861 4679.9543,-1619.7751\"/>\n</g>\n<!-- 264 -->\n<g id=\"node265\" class=\"node\">\n<title>264</title>\n<polygon fill=\"#f6d5bd\" stroke=\"#000000\" points=\"4804,-1615 4697,-1615 4697,-1532 4804,-1532 4804,-1615\"/>\n<text text-anchor=\"middle\" x=\"4750.5\" y=\"-1599.8\" font-family=\"Times,serif\" font-size=\"14.00\" fill=\"#000000\">Fare &lt;= 20.233</text>\n<text text-anchor=\"middle\" x=\"4750.5\" y=\"-1584.8\" font-family=\"Times,serif\" font-size=\"14.00\" fill=\"#000000\">gini = 0.48</text>\n<text text-anchor=\"middle\" x=\"4750.5\" y=\"-1569.8\" font-family=\"Times,serif\" font-size=\"14.00\" fill=\"#000000\">samples = 10</text>\n<text text-anchor=\"middle\" x=\"4750.5\" y=\"-1554.8\" font-family=\"Times,serif\" font-size=\"14.00\" fill=\"#000000\">value = [6, 4]</text>\n<text text-anchor=\"middle\" x=\"4750.5\" y=\"-1539.8\" font-family=\"Times,serif\" font-size=\"14.00\" fill=\"#000000\">class = S</text>\n</g>\n<!-- 238&#45;&gt;264 -->\n<g id=\"edge264\" class=\"edge\">\n<title>238&#45;&gt;264</title>\n<path fill=\"none\" stroke=\"#000000\" d=\"M4749.8498,-1650.8796C4749.9186,-1642.6838 4749.9917,-1633.9891 4750.063,-1625.5013\"/>\n<polygon fill=\"#000000\" stroke=\"#000000\" points=\"4753.5645,-1625.3272 4750.1488,-1615.2981 4746.5648,-1625.2683 4753.5645,-1625.3272\"/>\n</g>\n<!-- 240 -->\n<g id=\"node241\" class=\"node\">\n<title>240</title>\n<polygon fill=\"#f2c09c\" stroke=\"#000000\" points=\"4558,-1496 4463,-1496 4463,-1413 4558,-1413 4558,-1496\"/>\n<text text-anchor=\"middle\" x=\"4510.5\" y=\"-1480.8\" font-family=\"Times,serif\" font-size=\"14.00\" fill=\"#000000\">SibSp &lt;= 0.5</text>\n<text text-anchor=\"middle\" x=\"4510.5\" y=\"-1465.8\" font-family=\"Times,serif\" font-size=\"14.00\" fill=\"#000000\">gini = 0.444</text>\n<text text-anchor=\"middle\" x=\"4510.5\" y=\"-1450.8\" font-family=\"Times,serif\" font-size=\"14.00\" fill=\"#000000\">samples = 6</text>\n<text text-anchor=\"middle\" x=\"4510.5\" y=\"-1435.8\" font-family=\"Times,serif\" font-size=\"14.00\" fill=\"#000000\">value = [4, 2]</text>\n<text text-anchor=\"middle\" x=\"4510.5\" y=\"-1420.8\" font-family=\"Times,serif\" font-size=\"14.00\" fill=\"#000000\">class = S</text>\n</g>\n<!-- 239&#45;&gt;240 -->\n<g id=\"edge240\" class=\"edge\">\n<title>239&#45;&gt;240</title>\n<path fill=\"none\" stroke=\"#000000\" d=\"M4586.5791,-1531.8796C4577.547,-1522.6931 4567.8987,-1512.8798 4558.6112,-1503.4336\"/>\n<polygon fill=\"#000000\" stroke=\"#000000\" points=\"4561.1023,-1500.975 4551.5956,-1496.2981 4556.1107,-1505.8827 4561.1023,-1500.975\"/>\n</g>\n<!-- 249 -->\n<g id=\"node250\" class=\"node\">\n<title>249</title>\n<polygon fill=\"#e88e4d\" stroke=\"#000000\" points=\"4678.5,-1496 4576.5,-1496 4576.5,-1413 4678.5,-1413 4678.5,-1496\"/>\n<text text-anchor=\"middle\" x=\"4627.5\" y=\"-1480.8\" font-family=\"Times,serif\" font-size=\"14.00\" fill=\"#000000\">Fare &lt;= 7.227</text>\n<text text-anchor=\"middle\" x=\"4627.5\" y=\"-1465.8\" font-family=\"Times,serif\" font-size=\"14.00\" fill=\"#000000\">gini = 0.165</text>\n<text text-anchor=\"middle\" x=\"4627.5\" y=\"-1450.8\" font-family=\"Times,serif\" font-size=\"14.00\" fill=\"#000000\">samples = 33</text>\n<text text-anchor=\"middle\" x=\"4627.5\" y=\"-1435.8\" font-family=\"Times,serif\" font-size=\"14.00\" fill=\"#000000\">value = [30, 3]</text>\n<text text-anchor=\"middle\" x=\"4627.5\" y=\"-1420.8\" font-family=\"Times,serif\" font-size=\"14.00\" fill=\"#000000\">class = S</text>\n</g>\n<!-- 239&#45;&gt;249 -->\n<g id=\"edge249\" class=\"edge\">\n<title>239&#45;&gt;249</title>\n<path fill=\"none\" stroke=\"#000000\" d=\"M4627.5,-1531.8796C4627.5,-1523.6838 4627.5,-1514.9891 4627.5,-1506.5013\"/>\n<polygon fill=\"#000000\" stroke=\"#000000\" points=\"4631.0001,-1506.298 4627.5,-1496.2981 4624.0001,-1506.2981 4631.0001,-1506.298\"/>\n</g>\n<!-- 241 -->\n<g id=\"node242\" class=\"node\">\n<title>241</title>\n<polygon fill=\"#ffffff\" stroke=\"#000000\" points=\"4436,-1377 4337,-1377 4337,-1294 4436,-1294 4436,-1377\"/>\n<text text-anchor=\"middle\" x=\"4386.5\" y=\"-1361.8\" font-family=\"Times,serif\" font-size=\"14.00\" fill=\"#000000\">Fare &lt;= 5.619</text>\n<text text-anchor=\"middle\" x=\"4386.5\" y=\"-1346.8\" font-family=\"Times,serif\" font-size=\"14.00\" fill=\"#000000\">gini = 0.5</text>\n<text text-anchor=\"middle\" x=\"4386.5\" y=\"-1331.8\" font-family=\"Times,serif\" font-size=\"14.00\" fill=\"#000000\">samples = 4</text>\n<text text-anchor=\"middle\" x=\"4386.5\" y=\"-1316.8\" font-family=\"Times,serif\" font-size=\"14.00\" fill=\"#000000\">value = [2, 2]</text>\n<text text-anchor=\"middle\" x=\"4386.5\" y=\"-1301.8\" font-family=\"Times,serif\" font-size=\"14.00\" fill=\"#000000\">class = S</text>\n</g>\n<!-- 240&#45;&gt;241 -->\n<g id=\"edge241\" class=\"edge\">\n<title>240&#45;&gt;241</title>\n<path fill=\"none\" stroke=\"#000000\" d=\"M4467.1308,-1412.8796C4457.5584,-1403.6931 4447.3328,-1393.8798 4437.4897,-1384.4336\"/>\n<polygon fill=\"#000000\" stroke=\"#000000\" points=\"4439.6928,-1381.6969 4430.0543,-1377.2981 4434.8459,-1386.7475 4439.6928,-1381.6969\"/>\n</g>\n<!-- 248 -->\n<g id=\"node249\" class=\"node\">\n<title>248</title>\n<polygon fill=\"#e58139\" stroke=\"#000000\" points=\"4557,-1369.5 4462,-1369.5 4462,-1301.5 4557,-1301.5 4557,-1369.5\"/>\n<text text-anchor=\"middle\" x=\"4509.5\" y=\"-1354.3\" font-family=\"Times,serif\" font-size=\"14.00\" fill=\"#000000\">gini = 0.0</text>\n<text text-anchor=\"middle\" x=\"4509.5\" y=\"-1339.3\" font-family=\"Times,serif\" font-size=\"14.00\" fill=\"#000000\">samples = 2</text>\n<text text-anchor=\"middle\" x=\"4509.5\" y=\"-1324.3\" font-family=\"Times,serif\" font-size=\"14.00\" fill=\"#000000\">value = [2, 0]</text>\n<text text-anchor=\"middle\" x=\"4509.5\" y=\"-1309.3\" font-family=\"Times,serif\" font-size=\"14.00\" fill=\"#000000\">class = S</text>\n</g>\n<!-- 240&#45;&gt;248 -->\n<g id=\"edge248\" class=\"edge\">\n<title>240&#45;&gt;248</title>\n<path fill=\"none\" stroke=\"#000000\" d=\"M4510.1502,-1412.8796C4510.0606,-1402.2134 4509.9639,-1390.7021 4509.8731,-1379.9015\"/>\n<polygon fill=\"#000000\" stroke=\"#000000\" points=\"4513.3724,-1379.7851 4509.7884,-1369.8149 4506.3726,-1379.844 4513.3724,-1379.7851\"/>\n</g>\n<!-- 242 -->\n<g id=\"node243\" class=\"node\">\n<title>242</title>\n<polygon fill=\"#e58139\" stroke=\"#000000\" points=\"4321,-1250.5 4226,-1250.5 4226,-1182.5 4321,-1182.5 4321,-1250.5\"/>\n<text text-anchor=\"middle\" x=\"4273.5\" y=\"-1235.3\" font-family=\"Times,serif\" font-size=\"14.00\" fill=\"#000000\">gini = 0.0</text>\n<text text-anchor=\"middle\" x=\"4273.5\" y=\"-1220.3\" font-family=\"Times,serif\" font-size=\"14.00\" fill=\"#000000\">samples = 1</text>\n<text text-anchor=\"middle\" x=\"4273.5\" y=\"-1205.3\" font-family=\"Times,serif\" font-size=\"14.00\" fill=\"#000000\">value = [1, 0]</text>\n<text text-anchor=\"middle\" x=\"4273.5\" y=\"-1190.3\" font-family=\"Times,serif\" font-size=\"14.00\" fill=\"#000000\">class = S</text>\n</g>\n<!-- 241&#45;&gt;242 -->\n<g id=\"edge242\" class=\"edge\">\n<title>241&#45;&gt;242</title>\n<path fill=\"none\" stroke=\"#000000\" d=\"M4346.9781,-1293.8796C4336.0143,-1282.3337 4324.1103,-1269.7976 4313.1399,-1258.2446\"/>\n<polygon fill=\"#000000\" stroke=\"#000000\" points=\"4315.5087,-1255.6564 4306.0848,-1250.8149 4310.4327,-1260.4766 4315.5087,-1255.6564\"/>\n</g>\n<!-- 243 -->\n<g id=\"node244\" class=\"node\">\n<title>243</title>\n<polygon fill=\"#9ccef2\" stroke=\"#000000\" points=\"4434,-1258 4339,-1258 4339,-1175 4434,-1175 4434,-1258\"/>\n<text text-anchor=\"middle\" x=\"4386.5\" y=\"-1242.8\" font-family=\"Times,serif\" font-size=\"14.00\" fill=\"#000000\">Age &lt;= 21.0</text>\n<text text-anchor=\"middle\" x=\"4386.5\" y=\"-1227.8\" font-family=\"Times,serif\" font-size=\"14.00\" fill=\"#000000\">gini = 0.444</text>\n<text text-anchor=\"middle\" x=\"4386.5\" y=\"-1212.8\" font-family=\"Times,serif\" font-size=\"14.00\" fill=\"#000000\">samples = 3</text>\n<text text-anchor=\"middle\" x=\"4386.5\" y=\"-1197.8\" font-family=\"Times,serif\" font-size=\"14.00\" fill=\"#000000\">value = [1, 2]</text>\n<text text-anchor=\"middle\" x=\"4386.5\" y=\"-1182.8\" font-family=\"Times,serif\" font-size=\"14.00\" fill=\"#000000\">class = u</text>\n</g>\n<!-- 241&#45;&gt;243 -->\n<g id=\"edge243\" class=\"edge\">\n<title>241&#45;&gt;243</title>\n<path fill=\"none\" stroke=\"#000000\" d=\"M4386.5,-1293.8796C4386.5,-1285.6838 4386.5,-1276.9891 4386.5,-1268.5013\"/>\n<polygon fill=\"#000000\" stroke=\"#000000\" points=\"4390.0001,-1268.298 4386.5,-1258.2981 4383.0001,-1268.2981 4390.0001,-1268.298\"/>\n</g>\n<!-- 244 -->\n<g id=\"node245\" class=\"node\">\n<title>244</title>\n<polygon fill=\"#399de5\" stroke=\"#000000\" points=\"4319,-1131.5 4224,-1131.5 4224,-1063.5 4319,-1063.5 4319,-1131.5\"/>\n<text text-anchor=\"middle\" x=\"4271.5\" y=\"-1116.3\" font-family=\"Times,serif\" font-size=\"14.00\" fill=\"#000000\">gini = 0.0</text>\n<text text-anchor=\"middle\" x=\"4271.5\" y=\"-1101.3\" font-family=\"Times,serif\" font-size=\"14.00\" fill=\"#000000\">samples = 1</text>\n<text text-anchor=\"middle\" x=\"4271.5\" y=\"-1086.3\" font-family=\"Times,serif\" font-size=\"14.00\" fill=\"#000000\">value = [0, 1]</text>\n<text text-anchor=\"middle\" x=\"4271.5\" y=\"-1071.3\" font-family=\"Times,serif\" font-size=\"14.00\" fill=\"#000000\">class = u</text>\n</g>\n<!-- 243&#45;&gt;244 -->\n<g id=\"edge244\" class=\"edge\">\n<title>243&#45;&gt;244</title>\n<path fill=\"none\" stroke=\"#000000\" d=\"M4346.2786,-1174.8796C4335.1208,-1163.3337 4323.0061,-1150.7976 4311.8414,-1139.2446\"/>\n<polygon fill=\"#000000\" stroke=\"#000000\" points=\"4314.1275,-1136.5736 4304.6615,-1131.8149 4309.0939,-1141.4381 4314.1275,-1136.5736\"/>\n</g>\n<!-- 245 -->\n<g id=\"node246\" class=\"node\">\n<title>245</title>\n<polygon fill=\"#ffffff\" stroke=\"#000000\" points=\"4436,-1139 4337,-1139 4337,-1056 4436,-1056 4436,-1139\"/>\n<text text-anchor=\"middle\" x=\"4386.5\" y=\"-1123.8\" font-family=\"Times,serif\" font-size=\"14.00\" fill=\"#000000\">Fare &lt;= 7.227</text>\n<text text-anchor=\"middle\" x=\"4386.5\" y=\"-1108.8\" font-family=\"Times,serif\" font-size=\"14.00\" fill=\"#000000\">gini = 0.5</text>\n<text text-anchor=\"middle\" x=\"4386.5\" y=\"-1093.8\" font-family=\"Times,serif\" font-size=\"14.00\" fill=\"#000000\">samples = 2</text>\n<text text-anchor=\"middle\" x=\"4386.5\" y=\"-1078.8\" font-family=\"Times,serif\" font-size=\"14.00\" fill=\"#000000\">value = [1, 1]</text>\n<text text-anchor=\"middle\" x=\"4386.5\" y=\"-1063.8\" font-family=\"Times,serif\" font-size=\"14.00\" fill=\"#000000\">class = S</text>\n</g>\n<!-- 243&#45;&gt;245 -->\n<g id=\"edge245\" class=\"edge\">\n<title>243&#45;&gt;245</title>\n<path fill=\"none\" stroke=\"#000000\" d=\"M4386.5,-1174.8796C4386.5,-1166.6838 4386.5,-1157.9891 4386.5,-1149.5013\"/>\n<polygon fill=\"#000000\" stroke=\"#000000\" points=\"4390.0001,-1149.298 4386.5,-1139.2981 4383.0001,-1149.2981 4390.0001,-1149.298\"/>\n</g>\n<!-- 246 -->\n<g id=\"node247\" class=\"node\">\n<title>246</title>\n<polygon fill=\"#399de5\" stroke=\"#000000\" points=\"4321,-1012.5 4226,-1012.5 4226,-944.5 4321,-944.5 4321,-1012.5\"/>\n<text text-anchor=\"middle\" x=\"4273.5\" y=\"-997.3\" font-family=\"Times,serif\" font-size=\"14.00\" fill=\"#000000\">gini = 0.0</text>\n<text text-anchor=\"middle\" x=\"4273.5\" y=\"-982.3\" font-family=\"Times,serif\" font-size=\"14.00\" fill=\"#000000\">samples = 1</text>\n<text text-anchor=\"middle\" x=\"4273.5\" y=\"-967.3\" font-family=\"Times,serif\" font-size=\"14.00\" fill=\"#000000\">value = [0, 1]</text>\n<text text-anchor=\"middle\" x=\"4273.5\" y=\"-952.3\" font-family=\"Times,serif\" font-size=\"14.00\" fill=\"#000000\">class = u</text>\n</g>\n<!-- 245&#45;&gt;246 -->\n<g id=\"edge246\" class=\"edge\">\n<title>245&#45;&gt;246</title>\n<path fill=\"none\" stroke=\"#000000\" d=\"M4346.9781,-1055.8796C4336.0143,-1044.3337 4324.1103,-1031.7976 4313.1399,-1020.2446\"/>\n<polygon fill=\"#000000\" stroke=\"#000000\" points=\"4315.5087,-1017.6564 4306.0848,-1012.8149 4310.4327,-1022.4766 4315.5087,-1017.6564\"/>\n</g>\n<!-- 247 -->\n<g id=\"node248\" class=\"node\">\n<title>247</title>\n<polygon fill=\"#e58139\" stroke=\"#000000\" points=\"4434,-1012.5 4339,-1012.5 4339,-944.5 4434,-944.5 4434,-1012.5\"/>\n<text text-anchor=\"middle\" x=\"4386.5\" y=\"-997.3\" font-family=\"Times,serif\" font-size=\"14.00\" fill=\"#000000\">gini = 0.0</text>\n<text text-anchor=\"middle\" x=\"4386.5\" y=\"-982.3\" font-family=\"Times,serif\" font-size=\"14.00\" fill=\"#000000\">samples = 1</text>\n<text text-anchor=\"middle\" x=\"4386.5\" y=\"-967.3\" font-family=\"Times,serif\" font-size=\"14.00\" fill=\"#000000\">value = [1, 0]</text>\n<text text-anchor=\"middle\" x=\"4386.5\" y=\"-952.3\" font-family=\"Times,serif\" font-size=\"14.00\" fill=\"#000000\">class = S</text>\n</g>\n<!-- 245&#45;&gt;247 -->\n<g id=\"edge247\" class=\"edge\">\n<title>245&#45;&gt;247</title>\n<path fill=\"none\" stroke=\"#000000\" d=\"M4386.5,-1055.8796C4386.5,-1045.2134 4386.5,-1033.7021 4386.5,-1022.9015\"/>\n<polygon fill=\"#000000\" stroke=\"#000000\" points=\"4390.0001,-1022.8149 4386.5,-1012.8149 4383.0001,-1022.815 4390.0001,-1022.8149\"/>\n</g>\n<!-- 250 -->\n<g id=\"node251\" class=\"node\">\n<title>250</title>\n<polygon fill=\"#e58139\" stroke=\"#000000\" points=\"4677.5,-1369.5 4575.5,-1369.5 4575.5,-1301.5 4677.5,-1301.5 4677.5,-1369.5\"/>\n<text text-anchor=\"middle\" x=\"4626.5\" y=\"-1354.3\" font-family=\"Times,serif\" font-size=\"14.00\" fill=\"#000000\">gini = 0.0</text>\n<text text-anchor=\"middle\" x=\"4626.5\" y=\"-1339.3\" font-family=\"Times,serif\" font-size=\"14.00\" fill=\"#000000\">samples = 10</text>\n<text text-anchor=\"middle\" x=\"4626.5\" y=\"-1324.3\" font-family=\"Times,serif\" font-size=\"14.00\" fill=\"#000000\">value = [10, 0]</text>\n<text text-anchor=\"middle\" x=\"4626.5\" y=\"-1309.3\" font-family=\"Times,serif\" font-size=\"14.00\" fill=\"#000000\">class = S</text>\n</g>\n<!-- 249&#45;&gt;250 -->\n<g id=\"edge250\" class=\"edge\">\n<title>249&#45;&gt;250</title>\n<path fill=\"none\" stroke=\"#000000\" d=\"M4627.1502,-1412.8796C4627.0606,-1402.2134 4626.9639,-1390.7021 4626.8731,-1379.9015\"/>\n<polygon fill=\"#000000\" stroke=\"#000000\" points=\"4630.3724,-1379.7851 4626.7884,-1369.8149 4623.3726,-1379.844 4630.3724,-1379.7851\"/>\n</g>\n<!-- 251 -->\n<g id=\"node252\" class=\"node\">\n<title>251</title>\n<polygon fill=\"#e99457\" stroke=\"#000000\" points=\"4797.5,-1377 4695.5,-1377 4695.5,-1294 4797.5,-1294 4797.5,-1377\"/>\n<text text-anchor=\"middle\" x=\"4746.5\" y=\"-1361.8\" font-family=\"Times,serif\" font-size=\"14.00\" fill=\"#000000\">Age &lt;= 28.75</text>\n<text text-anchor=\"middle\" x=\"4746.5\" y=\"-1346.8\" font-family=\"Times,serif\" font-size=\"14.00\" fill=\"#000000\">gini = 0.227</text>\n<text text-anchor=\"middle\" x=\"4746.5\" y=\"-1331.8\" font-family=\"Times,serif\" font-size=\"14.00\" fill=\"#000000\">samples = 23</text>\n<text text-anchor=\"middle\" x=\"4746.5\" y=\"-1316.8\" font-family=\"Times,serif\" font-size=\"14.00\" fill=\"#000000\">value = [20, 3]</text>\n<text text-anchor=\"middle\" x=\"4746.5\" y=\"-1301.8\" font-family=\"Times,serif\" font-size=\"14.00\" fill=\"#000000\">class = S</text>\n</g>\n<!-- 249&#45;&gt;251 -->\n<g id=\"edge251\" class=\"edge\">\n<title>249&#45;&gt;251</title>\n<path fill=\"none\" stroke=\"#000000\" d=\"M4669.1204,-1412.8796C4678.3069,-1403.6931 4688.1202,-1393.8798 4697.5664,-1384.4336\"/>\n<polygon fill=\"#000000\" stroke=\"#000000\" points=\"4700.1057,-1386.8441 4704.7019,-1377.2981 4695.1559,-1381.8943 4700.1057,-1386.8441\"/>\n</g>\n<!-- 252 -->\n<g id=\"node253\" class=\"node\">\n<title>252</title>\n<polygon fill=\"#e58139\" stroke=\"#000000\" points=\"4677,-1250.5 4582,-1250.5 4582,-1182.5 4677,-1182.5 4677,-1250.5\"/>\n<text text-anchor=\"middle\" x=\"4629.5\" y=\"-1235.3\" font-family=\"Times,serif\" font-size=\"14.00\" fill=\"#000000\">gini = 0.0</text>\n<text text-anchor=\"middle\" x=\"4629.5\" y=\"-1220.3\" font-family=\"Times,serif\" font-size=\"14.00\" fill=\"#000000\">samples = 5</text>\n<text text-anchor=\"middle\" x=\"4629.5\" y=\"-1205.3\" font-family=\"Times,serif\" font-size=\"14.00\" fill=\"#000000\">value = [5, 0]</text>\n<text text-anchor=\"middle\" x=\"4629.5\" y=\"-1190.3\" font-family=\"Times,serif\" font-size=\"14.00\" fill=\"#000000\">class = S</text>\n</g>\n<!-- 251&#45;&gt;252 -->\n<g id=\"edge252\" class=\"edge\">\n<title>251&#45;&gt;252</title>\n<path fill=\"none\" stroke=\"#000000\" d=\"M4705.5791,-1293.8796C4694.2272,-1282.3337 4681.9018,-1269.7976 4670.543,-1258.2446\"/>\n<polygon fill=\"#000000\" stroke=\"#000000\" points=\"4672.7449,-1255.4919 4663.2382,-1250.8149 4667.7534,-1260.3995 4672.7449,-1255.4919\"/>\n</g>\n<!-- 253 -->\n<g id=\"node254\" class=\"node\">\n<title>253</title>\n<polygon fill=\"#ea9a61\" stroke=\"#000000\" points=\"4797.5,-1258 4695.5,-1258 4695.5,-1175 4797.5,-1175 4797.5,-1258\"/>\n<text text-anchor=\"middle\" x=\"4746.5\" y=\"-1242.8\" font-family=\"Times,serif\" font-size=\"14.00\" fill=\"#000000\">Age &lt;= 29.5</text>\n<text text-anchor=\"middle\" x=\"4746.5\" y=\"-1227.8\" font-family=\"Times,serif\" font-size=\"14.00\" fill=\"#000000\">gini = 0.278</text>\n<text text-anchor=\"middle\" x=\"4746.5\" y=\"-1212.8\" font-family=\"Times,serif\" font-size=\"14.00\" fill=\"#000000\">samples = 18</text>\n<text text-anchor=\"middle\" x=\"4746.5\" y=\"-1197.8\" font-family=\"Times,serif\" font-size=\"14.00\" fill=\"#000000\">value = [15, 3]</text>\n<text text-anchor=\"middle\" x=\"4746.5\" y=\"-1182.8\" font-family=\"Times,serif\" font-size=\"14.00\" fill=\"#000000\">class = S</text>\n</g>\n<!-- 251&#45;&gt;253 -->\n<g id=\"edge253\" class=\"edge\">\n<title>251&#45;&gt;253</title>\n<path fill=\"none\" stroke=\"#000000\" d=\"M4746.5,-1293.8796C4746.5,-1285.6838 4746.5,-1276.9891 4746.5,-1268.5013\"/>\n<polygon fill=\"#000000\" stroke=\"#000000\" points=\"4750.0001,-1268.298 4746.5,-1258.2981 4743.0001,-1268.2981 4750.0001,-1268.298\"/>\n</g>\n<!-- 254 -->\n<g id=\"node255\" class=\"node\">\n<title>254</title>\n<polygon fill=\"#eda774\" stroke=\"#000000\" points=\"4679.5,-1139 4577.5,-1139 4577.5,-1056 4679.5,-1056 4679.5,-1139\"/>\n<text text-anchor=\"middle\" x=\"4628.5\" y=\"-1123.8\" font-family=\"Times,serif\" font-size=\"14.00\" fill=\"#000000\">Pclass &lt;= 2.5</text>\n<text text-anchor=\"middle\" x=\"4628.5\" y=\"-1108.8\" font-family=\"Times,serif\" font-size=\"14.00\" fill=\"#000000\">gini = 0.355</text>\n<text text-anchor=\"middle\" x=\"4628.5\" y=\"-1093.8\" font-family=\"Times,serif\" font-size=\"14.00\" fill=\"#000000\">samples = 13</text>\n<text text-anchor=\"middle\" x=\"4628.5\" y=\"-1078.8\" font-family=\"Times,serif\" font-size=\"14.00\" fill=\"#000000\">value = [10, 3]</text>\n<text text-anchor=\"middle\" x=\"4628.5\" y=\"-1063.8\" font-family=\"Times,serif\" font-size=\"14.00\" fill=\"#000000\">class = S</text>\n</g>\n<!-- 253&#45;&gt;254 -->\n<g id=\"edge254\" class=\"edge\">\n<title>253&#45;&gt;254</title>\n<path fill=\"none\" stroke=\"#000000\" d=\"M4705.2293,-1174.8796C4696.1201,-1165.6931 4686.3892,-1155.8798 4677.0224,-1146.4336\"/>\n<polygon fill=\"#000000\" stroke=\"#000000\" points=\"4679.4733,-1143.9345 4669.9468,-1139.2981 4674.5027,-1148.8634 4679.4733,-1143.9345\"/>\n</g>\n<!-- 263 -->\n<g id=\"node264\" class=\"node\">\n<title>263</title>\n<polygon fill=\"#e58139\" stroke=\"#000000\" points=\"4794,-1131.5 4699,-1131.5 4699,-1063.5 4794,-1063.5 4794,-1131.5\"/>\n<text text-anchor=\"middle\" x=\"4746.5\" y=\"-1116.3\" font-family=\"Times,serif\" font-size=\"14.00\" fill=\"#000000\">gini = 0.0</text>\n<text text-anchor=\"middle\" x=\"4746.5\" y=\"-1101.3\" font-family=\"Times,serif\" font-size=\"14.00\" fill=\"#000000\">samples = 5</text>\n<text text-anchor=\"middle\" x=\"4746.5\" y=\"-1086.3\" font-family=\"Times,serif\" font-size=\"14.00\" fill=\"#000000\">value = [5, 0]</text>\n<text text-anchor=\"middle\" x=\"4746.5\" y=\"-1071.3\" font-family=\"Times,serif\" font-size=\"14.00\" fill=\"#000000\">class = S</text>\n</g>\n<!-- 253&#45;&gt;263 -->\n<g id=\"edge263\" class=\"edge\">\n<title>253&#45;&gt;263</title>\n<path fill=\"none\" stroke=\"#000000\" d=\"M4746.5,-1174.8796C4746.5,-1164.2134 4746.5,-1152.7021 4746.5,-1141.9015\"/>\n<polygon fill=\"#000000\" stroke=\"#000000\" points=\"4750.0001,-1141.8149 4746.5,-1131.8149 4743.0001,-1141.815 4750.0001,-1141.8149\"/>\n</g>\n<!-- 255 -->\n<g id=\"node256\" class=\"node\">\n<title>255</title>\n<polygon fill=\"#ffffff\" stroke=\"#000000\" points=\"4559,-1020 4452,-1020 4452,-937 4559,-937 4559,-1020\"/>\n<text text-anchor=\"middle\" x=\"4505.5\" y=\"-1004.8\" font-family=\"Times,serif\" font-size=\"14.00\" fill=\"#000000\">Fare &lt;= 14.456</text>\n<text text-anchor=\"middle\" x=\"4505.5\" y=\"-989.8\" font-family=\"Times,serif\" font-size=\"14.00\" fill=\"#000000\">gini = 0.5</text>\n<text text-anchor=\"middle\" x=\"4505.5\" y=\"-974.8\" font-family=\"Times,serif\" font-size=\"14.00\" fill=\"#000000\">samples = 2</text>\n<text text-anchor=\"middle\" x=\"4505.5\" y=\"-959.8\" font-family=\"Times,serif\" font-size=\"14.00\" fill=\"#000000\">value = [1, 1]</text>\n<text text-anchor=\"middle\" x=\"4505.5\" y=\"-944.8\" font-family=\"Times,serif\" font-size=\"14.00\" fill=\"#000000\">class = S</text>\n</g>\n<!-- 254&#45;&gt;255 -->\n<g id=\"edge255\" class=\"edge\">\n<title>254&#45;&gt;255</title>\n<path fill=\"none\" stroke=\"#000000\" d=\"M4585.4806,-1055.8796C4575.9853,-1046.6931 4565.8422,-1036.8798 4556.0785,-1027.4336\"/>\n<polygon fill=\"#000000\" stroke=\"#000000\" points=\"4558.3237,-1024.7359 4548.703,-1020.2981 4553.4564,-1029.7668 4558.3237,-1024.7359\"/>\n</g>\n<!-- 258 -->\n<g id=\"node259\" class=\"node\">\n<title>258</title>\n<polygon fill=\"#eb9d65\" stroke=\"#000000\" points=\"4678,-1020 4579,-1020 4579,-937 4678,-937 4678,-1020\"/>\n<text text-anchor=\"middle\" x=\"4628.5\" y=\"-1004.8\" font-family=\"Times,serif\" font-size=\"14.00\" fill=\"#000000\">Fare &lt;= 8.304</text>\n<text text-anchor=\"middle\" x=\"4628.5\" y=\"-989.8\" font-family=\"Times,serif\" font-size=\"14.00\" fill=\"#000000\">gini = 0.298</text>\n<text text-anchor=\"middle\" x=\"4628.5\" y=\"-974.8\" font-family=\"Times,serif\" font-size=\"14.00\" fill=\"#000000\">samples = 11</text>\n<text text-anchor=\"middle\" x=\"4628.5\" y=\"-959.8\" font-family=\"Times,serif\" font-size=\"14.00\" fill=\"#000000\">value = [9, 2]</text>\n<text text-anchor=\"middle\" x=\"4628.5\" y=\"-944.8\" font-family=\"Times,serif\" font-size=\"14.00\" fill=\"#000000\">class = S</text>\n</g>\n<!-- 254&#45;&gt;258 -->\n<g id=\"edge258\" class=\"edge\">\n<title>254&#45;&gt;258</title>\n<path fill=\"none\" stroke=\"#000000\" d=\"M4628.5,-1055.8796C4628.5,-1047.6838 4628.5,-1038.9891 4628.5,-1030.5013\"/>\n<polygon fill=\"#000000\" stroke=\"#000000\" points=\"4632.0001,-1030.298 4628.5,-1020.2981 4625.0001,-1030.2981 4632.0001,-1030.298\"/>\n</g>\n<!-- 256 -->\n<g id=\"node257\" class=\"node\">\n<title>256</title>\n<polygon fill=\"#399de5\" stroke=\"#000000\" points=\"4386,-893.5 4291,-893.5 4291,-825.5 4386,-825.5 4386,-893.5\"/>\n<text text-anchor=\"middle\" x=\"4338.5\" y=\"-878.3\" font-family=\"Times,serif\" font-size=\"14.00\" fill=\"#000000\">gini = 0.0</text>\n<text text-anchor=\"middle\" x=\"4338.5\" y=\"-863.3\" font-family=\"Times,serif\" font-size=\"14.00\" fill=\"#000000\">samples = 1</text>\n<text text-anchor=\"middle\" x=\"4338.5\" y=\"-848.3\" font-family=\"Times,serif\" font-size=\"14.00\" fill=\"#000000\">value = [0, 1]</text>\n<text text-anchor=\"middle\" x=\"4338.5\" y=\"-833.3\" font-family=\"Times,serif\" font-size=\"14.00\" fill=\"#000000\">class = u</text>\n</g>\n<!-- 255&#45;&gt;256 -->\n<g id=\"edge256\" class=\"edge\">\n<title>255&#45;&gt;256</title>\n<path fill=\"none\" stroke=\"#000000\" d=\"M4451.9308,-941.552C4433.6354,-928.813 4413.1019,-914.3825 4394.5,-901 4393.8738,-900.5495 4393.244,-900.0957 4392.6113,-899.639\"/>\n<polygon fill=\"#000000\" stroke=\"#000000\" points=\"4394.4124,-896.6215 4384.2642,-893.5777 4390.2993,-902.2857 4394.4124,-896.6215\"/>\n</g>\n<!-- 257 -->\n<g id=\"node258\" class=\"node\">\n<title>257</title>\n<polygon fill=\"#e58139\" stroke=\"#000000\" points=\"4499,-893.5 4404,-893.5 4404,-825.5 4499,-825.5 4499,-893.5\"/>\n<text text-anchor=\"middle\" x=\"4451.5\" y=\"-878.3\" font-family=\"Times,serif\" font-size=\"14.00\" fill=\"#000000\">gini = 0.0</text>\n<text text-anchor=\"middle\" x=\"4451.5\" y=\"-863.3\" font-family=\"Times,serif\" font-size=\"14.00\" fill=\"#000000\">samples = 1</text>\n<text text-anchor=\"middle\" x=\"4451.5\" y=\"-848.3\" font-family=\"Times,serif\" font-size=\"14.00\" fill=\"#000000\">value = [1, 0]</text>\n<text text-anchor=\"middle\" x=\"4451.5\" y=\"-833.3\" font-family=\"Times,serif\" font-size=\"14.00\" fill=\"#000000\">class = S</text>\n</g>\n<!-- 255&#45;&gt;257 -->\n<g id=\"edge257\" class=\"edge\">\n<title>255&#45;&gt;257</title>\n<path fill=\"none\" stroke=\"#000000\" d=\"M4486.6134,-936.8796C4481.6735,-925.9935 4476.3341,-914.227 4471.3459,-903.2344\"/>\n<polygon fill=\"#000000\" stroke=\"#000000\" points=\"4474.391,-901.4749 4467.0715,-893.8149 4468.0166,-904.3675 4474.391,-901.4749\"/>\n</g>\n<!-- 259 -->\n<g id=\"node260\" class=\"node\">\n<title>259</title>\n<polygon fill=\"#eca572\" stroke=\"#000000\" points=\"4616,-901 4517,-901 4517,-818 4616,-818 4616,-901\"/>\n<text text-anchor=\"middle\" x=\"4566.5\" y=\"-885.8\" font-family=\"Times,serif\" font-size=\"14.00\" fill=\"#000000\">Fare &lt;= 7.562</text>\n<text text-anchor=\"middle\" x=\"4566.5\" y=\"-870.8\" font-family=\"Times,serif\" font-size=\"14.00\" fill=\"#000000\">gini = 0.346</text>\n<text text-anchor=\"middle\" x=\"4566.5\" y=\"-855.8\" font-family=\"Times,serif\" font-size=\"14.00\" fill=\"#000000\">samples = 9</text>\n<text text-anchor=\"middle\" x=\"4566.5\" y=\"-840.8\" font-family=\"Times,serif\" font-size=\"14.00\" fill=\"#000000\">value = [7, 2]</text>\n<text text-anchor=\"middle\" x=\"4566.5\" y=\"-825.8\" font-family=\"Times,serif\" font-size=\"14.00\" fill=\"#000000\">class = S</text>\n</g>\n<!-- 258&#45;&gt;259 -->\n<g id=\"edge259\" class=\"edge\">\n<title>258&#45;&gt;259</title>\n<path fill=\"none\" stroke=\"#000000\" d=\"M4606.8154,-936.8796C4602.3577,-928.3236 4597.6166,-919.2238 4593.0106,-910.3833\"/>\n<polygon fill=\"#000000\" stroke=\"#000000\" points=\"4596.0017,-908.5494 4588.2771,-901.2981 4589.7938,-911.7838 4596.0017,-908.5494\"/>\n</g>\n<!-- 262 -->\n<g id=\"node263\" class=\"node\">\n<title>262</title>\n<polygon fill=\"#e58139\" stroke=\"#000000\" points=\"4729,-893.5 4634,-893.5 4634,-825.5 4729,-825.5 4729,-893.5\"/>\n<text text-anchor=\"middle\" x=\"4681.5\" y=\"-878.3\" font-family=\"Times,serif\" font-size=\"14.00\" fill=\"#000000\">gini = 0.0</text>\n<text text-anchor=\"middle\" x=\"4681.5\" y=\"-863.3\" font-family=\"Times,serif\" font-size=\"14.00\" fill=\"#000000\">samples = 2</text>\n<text text-anchor=\"middle\" x=\"4681.5\" y=\"-848.3\" font-family=\"Times,serif\" font-size=\"14.00\" fill=\"#000000\">value = [2, 0]</text>\n<text text-anchor=\"middle\" x=\"4681.5\" y=\"-833.3\" font-family=\"Times,serif\" font-size=\"14.00\" fill=\"#000000\">class = S</text>\n</g>\n<!-- 258&#45;&gt;262 -->\n<g id=\"edge262\" class=\"edge\">\n<title>258&#45;&gt;262</title>\n<path fill=\"none\" stroke=\"#000000\" d=\"M4647.0368,-936.8796C4651.8853,-925.9935 4657.1258,-914.227 4662.0217,-903.2344\"/>\n<polygon fill=\"#000000\" stroke=\"#000000\" points=\"4665.3455,-904.3739 4666.2169,-893.8149 4658.9511,-901.5259 4665.3455,-904.3739\"/>\n</g>\n<!-- 260 -->\n<g id=\"node261\" class=\"node\">\n<title>260</title>\n<polygon fill=\"#ea9a61\" stroke=\"#000000\" points=\"4558,-774.5 4463,-774.5 4463,-706.5 4558,-706.5 4558,-774.5\"/>\n<text text-anchor=\"middle\" x=\"4510.5\" y=\"-759.3\" font-family=\"Times,serif\" font-size=\"14.00\" fill=\"#000000\">gini = 0.278</text>\n<text text-anchor=\"middle\" x=\"4510.5\" y=\"-744.3\" font-family=\"Times,serif\" font-size=\"14.00\" fill=\"#000000\">samples = 6</text>\n<text text-anchor=\"middle\" x=\"4510.5\" y=\"-729.3\" font-family=\"Times,serif\" font-size=\"14.00\" fill=\"#000000\">value = [5, 1]</text>\n<text text-anchor=\"middle\" x=\"4510.5\" y=\"-714.3\" font-family=\"Times,serif\" font-size=\"14.00\" fill=\"#000000\">class = S</text>\n</g>\n<!-- 259&#45;&gt;260 -->\n<g id=\"edge260\" class=\"edge\">\n<title>259&#45;&gt;260</title>\n<path fill=\"none\" stroke=\"#000000\" d=\"M4546.9139,-817.8796C4541.7393,-806.8835 4536.142,-794.9893 4530.9242,-783.9015\"/>\n<polygon fill=\"#000000\" stroke=\"#000000\" points=\"4534.0731,-782.3728 4526.6482,-774.8149 4527.7394,-785.3534 4534.0731,-782.3728\"/>\n</g>\n<!-- 261 -->\n<g id=\"node262\" class=\"node\">\n<title>261</title>\n<polygon fill=\"#f2c09c\" stroke=\"#000000\" points=\"4671,-774.5 4576,-774.5 4576,-706.5 4671,-706.5 4671,-774.5\"/>\n<text text-anchor=\"middle\" x=\"4623.5\" y=\"-759.3\" font-family=\"Times,serif\" font-size=\"14.00\" fill=\"#000000\">gini = 0.444</text>\n<text text-anchor=\"middle\" x=\"4623.5\" y=\"-744.3\" font-family=\"Times,serif\" font-size=\"14.00\" fill=\"#000000\">samples = 3</text>\n<text text-anchor=\"middle\" x=\"4623.5\" y=\"-729.3\" font-family=\"Times,serif\" font-size=\"14.00\" fill=\"#000000\">value = [2, 1]</text>\n<text text-anchor=\"middle\" x=\"4623.5\" y=\"-714.3\" font-family=\"Times,serif\" font-size=\"14.00\" fill=\"#000000\">class = S</text>\n</g>\n<!-- 259&#45;&gt;261 -->\n<g id=\"edge261\" class=\"edge\">\n<title>259&#45;&gt;261</title>\n<path fill=\"none\" stroke=\"#000000\" d=\"M4586.4358,-817.8796C4591.7029,-806.8835 4597.4001,-794.9893 4602.711,-783.9015\"/>\n<polygon fill=\"#000000\" stroke=\"#000000\" points=\"4605.9,-785.3457 4607.0634,-774.8149 4599.5869,-782.3217 4605.9,-785.3457\"/>\n</g>\n<!-- 265 -->\n<g id=\"node266\" class=\"node\">\n<title>265</title>\n<polygon fill=\"#399de5\" stroke=\"#000000\" points=\"4795,-1488.5 4700,-1488.5 4700,-1420.5 4795,-1420.5 4795,-1488.5\"/>\n<text text-anchor=\"middle\" x=\"4747.5\" y=\"-1473.3\" font-family=\"Times,serif\" font-size=\"14.00\" fill=\"#000000\">gini = 0.0</text>\n<text text-anchor=\"middle\" x=\"4747.5\" y=\"-1458.3\" font-family=\"Times,serif\" font-size=\"14.00\" fill=\"#000000\">samples = 4</text>\n<text text-anchor=\"middle\" x=\"4747.5\" y=\"-1443.3\" font-family=\"Times,serif\" font-size=\"14.00\" fill=\"#000000\">value = [0, 4]</text>\n<text text-anchor=\"middle\" x=\"4747.5\" y=\"-1428.3\" font-family=\"Times,serif\" font-size=\"14.00\" fill=\"#000000\">class = u</text>\n</g>\n<!-- 264&#45;&gt;265 -->\n<g id=\"edge265\" class=\"edge\">\n<title>264&#45;&gt;265</title>\n<path fill=\"none\" stroke=\"#000000\" d=\"M4749.4507,-1531.8796C4749.1818,-1521.2134 4748.8916,-1509.7021 4748.6194,-1498.9015\"/>\n<polygon fill=\"#000000\" stroke=\"#000000\" points=\"4752.1161,-1498.7235 4748.3651,-1488.8149 4745.1183,-1498.9 4752.1161,-1498.7235\"/>\n</g>\n<!-- 266 -->\n<g id=\"node267\" class=\"node\">\n<title>266</title>\n<polygon fill=\"#e58139\" stroke=\"#000000\" points=\"4908,-1488.5 4813,-1488.5 4813,-1420.5 4908,-1420.5 4908,-1488.5\"/>\n<text text-anchor=\"middle\" x=\"4860.5\" y=\"-1473.3\" font-family=\"Times,serif\" font-size=\"14.00\" fill=\"#000000\">gini = 0.0</text>\n<text text-anchor=\"middle\" x=\"4860.5\" y=\"-1458.3\" font-family=\"Times,serif\" font-size=\"14.00\" fill=\"#000000\">samples = 6</text>\n<text text-anchor=\"middle\" x=\"4860.5\" y=\"-1443.3\" font-family=\"Times,serif\" font-size=\"14.00\" fill=\"#000000\">value = [6, 0]</text>\n<text text-anchor=\"middle\" x=\"4860.5\" y=\"-1428.3\" font-family=\"Times,serif\" font-size=\"14.00\" fill=\"#000000\">class = S</text>\n</g>\n<!-- 264&#45;&gt;266 -->\n<g id=\"edge266\" class=\"edge\">\n<title>264&#45;&gt;266</title>\n<path fill=\"none\" stroke=\"#000000\" d=\"M4788.9727,-1531.8796C4799.6453,-1520.3337 4811.2333,-1507.7976 4821.9125,-1496.2446\"/>\n<polygon fill=\"#000000\" stroke=\"#000000\" points=\"4824.5625,-1498.534 4828.7803,-1488.8149 4819.4222,-1493.7825 4824.5625,-1498.534\"/>\n</g>\n<!-- 268 -->\n<g id=\"node269\" class=\"node\">\n<title>268</title>\n<polygon fill=\"#e89050\" stroke=\"#000000\" points=\"5575,-1615 5458,-1615 5458,-1532 5575,-1532 5575,-1615\"/>\n<text text-anchor=\"middle\" x=\"5516.5\" y=\"-1599.8\" font-family=\"Times,serif\" font-size=\"14.00\" fill=\"#000000\">Fare &lt;= 7.91</text>\n<text text-anchor=\"middle\" x=\"5516.5\" y=\"-1584.8\" font-family=\"Times,serif\" font-size=\"14.00\" fill=\"#000000\">gini = 0.188</text>\n<text text-anchor=\"middle\" x=\"5516.5\" y=\"-1569.8\" font-family=\"Times,serif\" font-size=\"14.00\" fill=\"#000000\">samples = 285</text>\n<text text-anchor=\"middle\" x=\"5516.5\" y=\"-1554.8\" font-family=\"Times,serif\" font-size=\"14.00\" fill=\"#000000\">value = [255, 30]</text>\n<text text-anchor=\"middle\" x=\"5516.5\" y=\"-1539.8\" font-family=\"Times,serif\" font-size=\"14.00\" fill=\"#000000\">class = S</text>\n</g>\n<!-- 267&#45;&gt;268 -->\n<g id=\"edge268\" class=\"edge\">\n<title>267&#45;&gt;268</title>\n<path fill=\"none\" stroke=\"#000000\" d=\"M5516.5,-1650.8796C5516.5,-1642.6838 5516.5,-1633.9891 5516.5,-1625.5013\"/>\n<polygon fill=\"#000000\" stroke=\"#000000\" points=\"5520.0001,-1625.298 5516.5,-1615.2981 5513.0001,-1625.2981 5520.0001,-1625.298\"/>\n</g>\n<!-- 391 -->\n<g id=\"node392\" class=\"node\">\n<title>391</title>\n<polygon fill=\"#e6853f\" stroke=\"#000000\" points=\"5913,-1615 5794,-1615 5794,-1532 5913,-1532 5913,-1615\"/>\n<text text-anchor=\"middle\" x=\"5853.5\" y=\"-1599.8\" font-family=\"Times,serif\" font-size=\"14.00\" fill=\"#000000\">Embarked &lt;= 1.5</text>\n<text text-anchor=\"middle\" x=\"5853.5\" y=\"-1584.8\" font-family=\"Times,serif\" font-size=\"14.00\" fill=\"#000000\">gini = 0.055</text>\n<text text-anchor=\"middle\" x=\"5853.5\" y=\"-1569.8\" font-family=\"Times,serif\" font-size=\"14.00\" fill=\"#000000\">samples = 71</text>\n<text text-anchor=\"middle\" x=\"5853.5\" y=\"-1554.8\" font-family=\"Times,serif\" font-size=\"14.00\" fill=\"#000000\">value = [69, 2]</text>\n<text text-anchor=\"middle\" x=\"5853.5\" y=\"-1539.8\" font-family=\"Times,serif\" font-size=\"14.00\" fill=\"#000000\">class = S</text>\n</g>\n<!-- 267&#45;&gt;391 -->\n<g id=\"edge391\" class=\"edge\">\n<title>267&#45;&gt;391</title>\n<path fill=\"none\" stroke=\"#000000\" d=\"M5575.2009,-1671.7718C5633.377,-1651.2289 5722.4821,-1619.7645 5784.1243,-1597.9977\"/>\n<polygon fill=\"#000000\" stroke=\"#000000\" points=\"5785.5088,-1601.2206 5793.7728,-1594.5906 5783.178,-1594.6201 5785.5088,-1601.2206\"/>\n</g>\n<!-- 269 -->\n<g id=\"node270\" class=\"node\">\n<title>269</title>\n<polygon fill=\"#e78a48\" stroke=\"#000000\" points=\"5506,-1496 5389,-1496 5389,-1413 5506,-1413 5506,-1496\"/>\n<text text-anchor=\"middle\" x=\"5447.5\" y=\"-1480.8\" font-family=\"Times,serif\" font-size=\"14.00\" fill=\"#000000\">Fare &lt;= 7.865</text>\n<text text-anchor=\"middle\" x=\"5447.5\" y=\"-1465.8\" font-family=\"Times,serif\" font-size=\"14.00\" fill=\"#000000\">gini = 0.129</text>\n<text text-anchor=\"middle\" x=\"5447.5\" y=\"-1450.8\" font-family=\"Times,serif\" font-size=\"14.00\" fill=\"#000000\">samples = 144</text>\n<text text-anchor=\"middle\" x=\"5447.5\" y=\"-1435.8\" font-family=\"Times,serif\" font-size=\"14.00\" fill=\"#000000\">value = [134, 10]</text>\n<text text-anchor=\"middle\" x=\"5447.5\" y=\"-1420.8\" font-family=\"Times,serif\" font-size=\"14.00\" fill=\"#000000\">class = S</text>\n</g>\n<!-- 268&#45;&gt;269 -->\n<g id=\"edge269\" class=\"edge\">\n<title>268&#45;&gt;269</title>\n<path fill=\"none\" stroke=\"#000000\" d=\"M5492.3671,-1531.8796C5487.3539,-1523.2335 5482.0187,-1514.0322 5476.8419,-1505.1042\"/>\n<polygon fill=\"#000000\" stroke=\"#000000\" points=\"5479.7798,-1503.1934 5471.7359,-1496.2981 5473.7242,-1506.7047 5479.7798,-1503.1934\"/>\n</g>\n<!-- 314 -->\n<g id=\"node315\" class=\"node\">\n<title>314</title>\n<polygon fill=\"#e9965a\" stroke=\"#000000\" points=\"5644,-1496 5527,-1496 5527,-1413 5644,-1413 5644,-1496\"/>\n<text text-anchor=\"middle\" x=\"5585.5\" y=\"-1480.8\" font-family=\"Times,serif\" font-size=\"14.00\" fill=\"#000000\">Fare &lt;= 7.988</text>\n<text text-anchor=\"middle\" x=\"5585.5\" y=\"-1465.8\" font-family=\"Times,serif\" font-size=\"14.00\" fill=\"#000000\">gini = 0.243</text>\n<text text-anchor=\"middle\" x=\"5585.5\" y=\"-1450.8\" font-family=\"Times,serif\" font-size=\"14.00\" fill=\"#000000\">samples = 141</text>\n<text text-anchor=\"middle\" x=\"5585.5\" y=\"-1435.8\" font-family=\"Times,serif\" font-size=\"14.00\" fill=\"#000000\">value = [121, 20]</text>\n<text text-anchor=\"middle\" x=\"5585.5\" y=\"-1420.8\" font-family=\"Times,serif\" font-size=\"14.00\" fill=\"#000000\">class = S</text>\n</g>\n<!-- 268&#45;&gt;314 -->\n<g id=\"edge314\" class=\"edge\">\n<title>268&#45;&gt;314</title>\n<path fill=\"none\" stroke=\"#000000\" d=\"M5540.6329,-1531.8796C5545.6461,-1523.2335 5550.9813,-1514.0322 5556.1581,-1505.1042\"/>\n<polygon fill=\"#000000\" stroke=\"#000000\" points=\"5559.2758,-1506.7047 5561.2641,-1496.2981 5553.2202,-1503.1934 5559.2758,-1506.7047\"/>\n</g>\n<!-- 270 -->\n<g id=\"node271\" class=\"node\">\n<title>270</title>\n<polygon fill=\"#e88e4d\" stroke=\"#000000\" points=\"5377,-1377 5260,-1377 5260,-1294 5377,-1294 5377,-1377\"/>\n<text text-anchor=\"middle\" x=\"5318.5\" y=\"-1361.8\" font-family=\"Times,serif\" font-size=\"14.00\" fill=\"#000000\">Age &lt;= 32.5</text>\n<text text-anchor=\"middle\" x=\"5318.5\" y=\"-1346.8\" font-family=\"Times,serif\" font-size=\"14.00\" fill=\"#000000\">gini = 0.165</text>\n<text text-anchor=\"middle\" x=\"5318.5\" y=\"-1331.8\" font-family=\"Times,serif\" font-size=\"14.00\" fill=\"#000000\">samples = 110</text>\n<text text-anchor=\"middle\" x=\"5318.5\" y=\"-1316.8\" font-family=\"Times,serif\" font-size=\"14.00\" fill=\"#000000\">value = [100, 10]</text>\n<text text-anchor=\"middle\" x=\"5318.5\" y=\"-1301.8\" font-family=\"Times,serif\" font-size=\"14.00\" fill=\"#000000\">class = S</text>\n</g>\n<!-- 269&#45;&gt;270 -->\n<g id=\"edge270\" class=\"edge\">\n<title>269&#45;&gt;270</title>\n<path fill=\"none\" stroke=\"#000000\" d=\"M5402.3821,-1412.8796C5392.326,-1403.6031 5381.577,-1393.6874 5371.2446,-1384.1559\"/>\n<polygon fill=\"#000000\" stroke=\"#000000\" points=\"5373.5339,-1381.506 5363.8105,-1377.2981 5368.7876,-1386.6511 5373.5339,-1381.506\"/>\n</g>\n<!-- 313 -->\n<g id=\"node314\" class=\"node\">\n<title>313</title>\n<polygon fill=\"#e58139\" stroke=\"#000000\" points=\"5498.5,-1369.5 5396.5,-1369.5 5396.5,-1301.5 5498.5,-1301.5 5498.5,-1369.5\"/>\n<text text-anchor=\"middle\" x=\"5447.5\" y=\"-1354.3\" font-family=\"Times,serif\" font-size=\"14.00\" fill=\"#000000\">gini = 0.0</text>\n<text text-anchor=\"middle\" x=\"5447.5\" y=\"-1339.3\" font-family=\"Times,serif\" font-size=\"14.00\" fill=\"#000000\">samples = 34</text>\n<text text-anchor=\"middle\" x=\"5447.5\" y=\"-1324.3\" font-family=\"Times,serif\" font-size=\"14.00\" fill=\"#000000\">value = [34, 0]</text>\n<text text-anchor=\"middle\" x=\"5447.5\" y=\"-1309.3\" font-family=\"Times,serif\" font-size=\"14.00\" fill=\"#000000\">class = S</text>\n</g>\n<!-- 269&#45;&gt;313 -->\n<g id=\"edge313\" class=\"edge\">\n<title>269&#45;&gt;313</title>\n<path fill=\"none\" stroke=\"#000000\" d=\"M5447.5,-1412.8796C5447.5,-1402.2134 5447.5,-1390.7021 5447.5,-1379.9015\"/>\n<polygon fill=\"#000000\" stroke=\"#000000\" points=\"5451.0001,-1379.8149 5447.5,-1369.8149 5444.0001,-1379.815 5451.0001,-1379.8149\"/>\n</g>\n<!-- 271 -->\n<g id=\"node272\" class=\"node\">\n<title>271</title>\n<polygon fill=\"#e89153\" stroke=\"#000000\" points=\"5236.5,-1258 5126.5,-1258 5126.5,-1175 5236.5,-1175 5236.5,-1258\"/>\n<text text-anchor=\"middle\" x=\"5181.5\" y=\"-1242.8\" font-family=\"Times,serif\" font-size=\"14.00\" fill=\"#000000\">Age &lt;= 31.5</text>\n<text text-anchor=\"middle\" x=\"5181.5\" y=\"-1227.8\" font-family=\"Times,serif\" font-size=\"14.00\" fill=\"#000000\">gini = 0.203</text>\n<text text-anchor=\"middle\" x=\"5181.5\" y=\"-1212.8\" font-family=\"Times,serif\" font-size=\"14.00\" fill=\"#000000\">samples = 87</text>\n<text text-anchor=\"middle\" x=\"5181.5\" y=\"-1197.8\" font-family=\"Times,serif\" font-size=\"14.00\" fill=\"#000000\">value = [77, 10]</text>\n<text text-anchor=\"middle\" x=\"5181.5\" y=\"-1182.8\" font-family=\"Times,serif\" font-size=\"14.00\" fill=\"#000000\">class = S</text>\n</g>\n<!-- 270&#45;&gt;271 -->\n<g id=\"edge271\" class=\"edge\">\n<title>270&#45;&gt;271</title>\n<path fill=\"none\" stroke=\"#000000\" d=\"M5270.584,-1293.8796C5259.8007,-1284.513 5248.2671,-1274.4948 5237.1961,-1264.8784\"/>\n<polygon fill=\"#000000\" stroke=\"#000000\" points=\"5239.4653,-1262.2134 5229.6205,-1258.2981 5234.8749,-1267.4982 5239.4653,-1262.2134\"/>\n</g>\n<!-- 312 -->\n<g id=\"node313\" class=\"node\">\n<title>312</title>\n<polygon fill=\"#e58139\" stroke=\"#000000\" points=\"5369.5,-1250.5 5267.5,-1250.5 5267.5,-1182.5 5369.5,-1182.5 5369.5,-1250.5\"/>\n<text text-anchor=\"middle\" x=\"5318.5\" y=\"-1235.3\" font-family=\"Times,serif\" font-size=\"14.00\" fill=\"#000000\">gini = 0.0</text>\n<text text-anchor=\"middle\" x=\"5318.5\" y=\"-1220.3\" font-family=\"Times,serif\" font-size=\"14.00\" fill=\"#000000\">samples = 23</text>\n<text text-anchor=\"middle\" x=\"5318.5\" y=\"-1205.3\" font-family=\"Times,serif\" font-size=\"14.00\" fill=\"#000000\">value = [23, 0]</text>\n<text text-anchor=\"middle\" x=\"5318.5\" y=\"-1190.3\" font-family=\"Times,serif\" font-size=\"14.00\" fill=\"#000000\">class = S</text>\n</g>\n<!-- 270&#45;&gt;312 -->\n<g id=\"edge312\" class=\"edge\">\n<title>270&#45;&gt;312</title>\n<path fill=\"none\" stroke=\"#000000\" d=\"M5318.5,-1293.8796C5318.5,-1283.2134 5318.5,-1271.7021 5318.5,-1260.9015\"/>\n<polygon fill=\"#000000\" stroke=\"#000000\" points=\"5322.0001,-1260.8149 5318.5,-1250.8149 5315.0001,-1260.815 5322.0001,-1260.8149\"/>\n</g>\n<!-- 272 -->\n<g id=\"node273\" class=\"node\">\n<title>272</title>\n<polygon fill=\"#e89050\" stroke=\"#000000\" points=\"5087.5,-1139 4985.5,-1139 4985.5,-1056 5087.5,-1056 5087.5,-1139\"/>\n<text text-anchor=\"middle\" x=\"5036.5\" y=\"-1123.8\" font-family=\"Times,serif\" font-size=\"14.00\" fill=\"#000000\">Age &lt;= 23.5</text>\n<text text-anchor=\"middle\" x=\"5036.5\" y=\"-1108.8\" font-family=\"Times,serif\" font-size=\"14.00\" fill=\"#000000\">gini = 0.189</text>\n<text text-anchor=\"middle\" x=\"5036.5\" y=\"-1093.8\" font-family=\"Times,serif\" font-size=\"14.00\" fill=\"#000000\">samples = 85</text>\n<text text-anchor=\"middle\" x=\"5036.5\" y=\"-1078.8\" font-family=\"Times,serif\" font-size=\"14.00\" fill=\"#000000\">value = [76, 9]</text>\n<text text-anchor=\"middle\" x=\"5036.5\" y=\"-1063.8\" font-family=\"Times,serif\" font-size=\"14.00\" fill=\"#000000\">class = S</text>\n</g>\n<!-- 271&#45;&gt;272 -->\n<g id=\"edge272\" class=\"edge\">\n<title>271&#45;&gt;272</title>\n<path fill=\"none\" stroke=\"#000000\" d=\"M5130.786,-1174.8796C5119.373,-1165.513 5107.1659,-1155.4948 5095.4485,-1145.8784\"/>\n<polygon fill=\"#000000\" stroke=\"#000000\" points=\"5097.3809,-1142.9366 5087.4304,-1139.2981 5092.9401,-1148.3476 5097.3809,-1142.9366\"/>\n</g>\n<!-- 309 -->\n<g id=\"node310\" class=\"node\">\n<title>309</title>\n<polygon fill=\"#ffffff\" stroke=\"#000000\" points=\"5231,-1139 5132,-1139 5132,-1056 5231,-1056 5231,-1139\"/>\n<text text-anchor=\"middle\" x=\"5181.5\" y=\"-1123.8\" font-family=\"Times,serif\" font-size=\"14.00\" fill=\"#000000\">Fare &lt;= 7.802</text>\n<text text-anchor=\"middle\" x=\"5181.5\" y=\"-1108.8\" font-family=\"Times,serif\" font-size=\"14.00\" fill=\"#000000\">gini = 0.5</text>\n<text text-anchor=\"middle\" x=\"5181.5\" y=\"-1093.8\" font-family=\"Times,serif\" font-size=\"14.00\" fill=\"#000000\">samples = 2</text>\n<text text-anchor=\"middle\" x=\"5181.5\" y=\"-1078.8\" font-family=\"Times,serif\" font-size=\"14.00\" fill=\"#000000\">value = [1, 1]</text>\n<text text-anchor=\"middle\" x=\"5181.5\" y=\"-1063.8\" font-family=\"Times,serif\" font-size=\"14.00\" fill=\"#000000\">class = S</text>\n</g>\n<!-- 271&#45;&gt;309 -->\n<g id=\"edge309\" class=\"edge\">\n<title>271&#45;&gt;309</title>\n<path fill=\"none\" stroke=\"#000000\" d=\"M5181.5,-1174.8796C5181.5,-1166.6838 5181.5,-1157.9891 5181.5,-1149.5013\"/>\n<polygon fill=\"#000000\" stroke=\"#000000\" points=\"5185.0001,-1149.298 5181.5,-1139.2981 5178.0001,-1149.2981 5185.0001,-1149.298\"/>\n</g>\n<!-- 273 -->\n<g id=\"node274\" class=\"node\">\n<title>273</title>\n<polygon fill=\"#e68640\" stroke=\"#000000\" points=\"4967.5,-1020 4865.5,-1020 4865.5,-937 4967.5,-937 4967.5,-1020\"/>\n<text text-anchor=\"middle\" x=\"4916.5\" y=\"-1004.8\" font-family=\"Times,serif\" font-size=\"14.00\" fill=\"#000000\">Fare &lt;= 7.785</text>\n<text text-anchor=\"middle\" x=\"4916.5\" y=\"-989.8\" font-family=\"Times,serif\" font-size=\"14.00\" fill=\"#000000\">gini = 0.067</text>\n<text text-anchor=\"middle\" x=\"4916.5\" y=\"-974.8\" font-family=\"Times,serif\" font-size=\"14.00\" fill=\"#000000\">samples = 29</text>\n<text text-anchor=\"middle\" x=\"4916.5\" y=\"-959.8\" font-family=\"Times,serif\" font-size=\"14.00\" fill=\"#000000\">value = [28, 1]</text>\n<text text-anchor=\"middle\" x=\"4916.5\" y=\"-944.8\" font-family=\"Times,serif\" font-size=\"14.00\" fill=\"#000000\">class = S</text>\n</g>\n<!-- 272&#45;&gt;273 -->\n<g id=\"edge273\" class=\"edge\">\n<title>272&#45;&gt;273</title>\n<path fill=\"none\" stroke=\"#000000\" d=\"M4994.5298,-1055.8796C4985.2662,-1046.6931 4975.3704,-1036.8798 4965.8448,-1027.4336\"/>\n<polygon fill=\"#000000\" stroke=\"#000000\" points=\"4968.2144,-1024.8543 4958.6493,-1020.2981 4963.2854,-1029.8247 4968.2144,-1024.8543\"/>\n</g>\n<!-- 282 -->\n<g id=\"node283\" class=\"node\">\n<title>282</title>\n<polygon fill=\"#e9965a\" stroke=\"#000000\" points=\"5087.5,-1020 4985.5,-1020 4985.5,-937 5087.5,-937 5087.5,-1020\"/>\n<text text-anchor=\"middle\" x=\"5036.5\" y=\"-1004.8\" font-family=\"Times,serif\" font-size=\"14.00\" fill=\"#000000\">Age &lt;= 27.5</text>\n<text text-anchor=\"middle\" x=\"5036.5\" y=\"-989.8\" font-family=\"Times,serif\" font-size=\"14.00\" fill=\"#000000\">gini = 0.245</text>\n<text text-anchor=\"middle\" x=\"5036.5\" y=\"-974.8\" font-family=\"Times,serif\" font-size=\"14.00\" fill=\"#000000\">samples = 56</text>\n<text text-anchor=\"middle\" x=\"5036.5\" y=\"-959.8\" font-family=\"Times,serif\" font-size=\"14.00\" fill=\"#000000\">value = [48, 8]</text>\n<text text-anchor=\"middle\" x=\"5036.5\" y=\"-944.8\" font-family=\"Times,serif\" font-size=\"14.00\" fill=\"#000000\">class = S</text>\n</g>\n<!-- 272&#45;&gt;282 -->\n<g id=\"edge282\" class=\"edge\">\n<title>272&#45;&gt;282</title>\n<path fill=\"none\" stroke=\"#000000\" d=\"M5036.5,-1055.8796C5036.5,-1047.6838 5036.5,-1038.9891 5036.5,-1030.5013\"/>\n<polygon fill=\"#000000\" stroke=\"#000000\" points=\"5040.0001,-1030.298 5036.5,-1020.2981 5033.0001,-1030.2981 5040.0001,-1030.298\"/>\n</g>\n<!-- 274 -->\n<g id=\"node275\" class=\"node\">\n<title>274</title>\n<polygon fill=\"#e58139\" stroke=\"#000000\" points=\"4849.5,-893.5 4747.5,-893.5 4747.5,-825.5 4849.5,-825.5 4849.5,-893.5\"/>\n<text text-anchor=\"middle\" x=\"4798.5\" y=\"-878.3\" font-family=\"Times,serif\" font-size=\"14.00\" fill=\"#000000\">gini = 0.0</text>\n<text text-anchor=\"middle\" x=\"4798.5\" y=\"-863.3\" font-family=\"Times,serif\" font-size=\"14.00\" fill=\"#000000\">samples = 20</text>\n<text text-anchor=\"middle\" x=\"4798.5\" y=\"-848.3\" font-family=\"Times,serif\" font-size=\"14.00\" fill=\"#000000\">value = [20, 0]</text>\n<text text-anchor=\"middle\" x=\"4798.5\" y=\"-833.3\" font-family=\"Times,serif\" font-size=\"14.00\" fill=\"#000000\">class = S</text>\n</g>\n<!-- 273&#45;&gt;274 -->\n<g id=\"edge274\" class=\"edge\">\n<title>273&#45;&gt;274</title>\n<path fill=\"none\" stroke=\"#000000\" d=\"M4875.2293,-936.8796C4863.7805,-925.3337 4851.3497,-912.7976 4839.8938,-901.2446\"/>\n<polygon fill=\"#000000\" stroke=\"#000000\" points=\"4842.0531,-898.4514 4832.5266,-893.8149 4837.0825,-903.3802 4842.0531,-898.4514\"/>\n</g>\n<!-- 275 -->\n<g id=\"node276\" class=\"node\">\n<title>275</title>\n<polygon fill=\"#e89152\" stroke=\"#000000\" points=\"4967,-901 4868,-901 4868,-818 4967,-818 4967,-901\"/>\n<text text-anchor=\"middle\" x=\"4917.5\" y=\"-885.8\" font-family=\"Times,serif\" font-size=\"14.00\" fill=\"#000000\">Fare &lt;= 7.798</text>\n<text text-anchor=\"middle\" x=\"4917.5\" y=\"-870.8\" font-family=\"Times,serif\" font-size=\"14.00\" fill=\"#000000\">gini = 0.198</text>\n<text text-anchor=\"middle\" x=\"4917.5\" y=\"-855.8\" font-family=\"Times,serif\" font-size=\"14.00\" fill=\"#000000\">samples = 9</text>\n<text text-anchor=\"middle\" x=\"4917.5\" y=\"-840.8\" font-family=\"Times,serif\" font-size=\"14.00\" fill=\"#000000\">value = [8, 1]</text>\n<text text-anchor=\"middle\" x=\"4917.5\" y=\"-825.8\" font-family=\"Times,serif\" font-size=\"14.00\" fill=\"#000000\">class = S</text>\n</g>\n<!-- 273&#45;&gt;275 -->\n<g id=\"edge275\" class=\"edge\">\n<title>273&#45;&gt;275</title>\n<path fill=\"none\" stroke=\"#000000\" d=\"M4916.8498,-936.8796C4916.9186,-928.6838 4916.9917,-919.9891 4917.063,-911.5013\"/>\n<polygon fill=\"#000000\" stroke=\"#000000\" points=\"4920.5645,-911.3272 4917.1488,-901.2981 4913.5648,-911.2683 4920.5645,-911.3272\"/>\n</g>\n<!-- 276 -->\n<g id=\"node277\" class=\"node\">\n<title>276</title>\n<polygon fill=\"#f2c09c\" stroke=\"#000000\" points=\"4844,-782 4749,-782 4749,-699 4844,-699 4844,-782\"/>\n<text text-anchor=\"middle\" x=\"4796.5\" y=\"-766.8\" font-family=\"Times,serif\" font-size=\"14.00\" fill=\"#000000\">Age &lt;= 19.5</text>\n<text text-anchor=\"middle\" x=\"4796.5\" y=\"-751.8\" font-family=\"Times,serif\" font-size=\"14.00\" fill=\"#000000\">gini = 0.444</text>\n<text text-anchor=\"middle\" x=\"4796.5\" y=\"-736.8\" font-family=\"Times,serif\" font-size=\"14.00\" fill=\"#000000\">samples = 3</text>\n<text text-anchor=\"middle\" x=\"4796.5\" y=\"-721.8\" font-family=\"Times,serif\" font-size=\"14.00\" fill=\"#000000\">value = [2, 1]</text>\n<text text-anchor=\"middle\" x=\"4796.5\" y=\"-706.8\" font-family=\"Times,serif\" font-size=\"14.00\" fill=\"#000000\">class = S</text>\n</g>\n<!-- 275&#45;&gt;276 -->\n<g id=\"edge276\" class=\"edge\">\n<title>275&#45;&gt;276</title>\n<path fill=\"none\" stroke=\"#000000\" d=\"M4875.1801,-817.8796C4865.8392,-808.6931 4855.861,-798.8798 4846.256,-789.4336\"/>\n<polygon fill=\"#000000\" stroke=\"#000000\" points=\"4848.5845,-786.8146 4839.0006,-782.2981 4843.6762,-791.8054 4848.5845,-786.8146\"/>\n</g>\n<!-- 281 -->\n<g id=\"node282\" class=\"node\">\n<title>281</title>\n<polygon fill=\"#e58139\" stroke=\"#000000\" points=\"4957,-774.5 4862,-774.5 4862,-706.5 4957,-706.5 4957,-774.5\"/>\n<text text-anchor=\"middle\" x=\"4909.5\" y=\"-759.3\" font-family=\"Times,serif\" font-size=\"14.00\" fill=\"#000000\">gini = 0.0</text>\n<text text-anchor=\"middle\" x=\"4909.5\" y=\"-744.3\" font-family=\"Times,serif\" font-size=\"14.00\" fill=\"#000000\">samples = 6</text>\n<text text-anchor=\"middle\" x=\"4909.5\" y=\"-729.3\" font-family=\"Times,serif\" font-size=\"14.00\" fill=\"#000000\">value = [6, 0]</text>\n<text text-anchor=\"middle\" x=\"4909.5\" y=\"-714.3\" font-family=\"Times,serif\" font-size=\"14.00\" fill=\"#000000\">class = S</text>\n</g>\n<!-- 275&#45;&gt;281 -->\n<g id=\"edge281\" class=\"edge\">\n<title>275&#45;&gt;281</title>\n<path fill=\"none\" stroke=\"#000000\" d=\"M4914.702,-817.8796C4913.9849,-807.2134 4913.2111,-795.7021 4912.485,-784.9015\"/>\n<polygon fill=\"#000000\" stroke=\"#000000\" points=\"4915.9699,-784.5576 4911.8069,-774.8149 4908.9856,-785.0272 4915.9699,-784.5576\"/>\n</g>\n<!-- 277 -->\n<g id=\"node278\" class=\"node\">\n<title>277</title>\n<polygon fill=\"#e58139\" stroke=\"#000000\" points=\"4789,-655.5 4694,-655.5 4694,-587.5 4789,-587.5 4789,-655.5\"/>\n<text text-anchor=\"middle\" x=\"4741.5\" y=\"-640.3\" font-family=\"Times,serif\" font-size=\"14.00\" fill=\"#000000\">gini = 0.0</text>\n<text text-anchor=\"middle\" x=\"4741.5\" y=\"-625.3\" font-family=\"Times,serif\" font-size=\"14.00\" fill=\"#000000\">samples = 1</text>\n<text text-anchor=\"middle\" x=\"4741.5\" y=\"-610.3\" font-family=\"Times,serif\" font-size=\"14.00\" fill=\"#000000\">value = [1, 0]</text>\n<text text-anchor=\"middle\" x=\"4741.5\" y=\"-595.3\" font-family=\"Times,serif\" font-size=\"14.00\" fill=\"#000000\">class = S</text>\n</g>\n<!-- 276&#45;&gt;277 -->\n<g id=\"edge277\" class=\"edge\">\n<title>276&#45;&gt;277</title>\n<path fill=\"none\" stroke=\"#000000\" d=\"M4777.2637,-698.8796C4772.1814,-687.8835 4766.6841,-675.9893 4761.5595,-664.9015\"/>\n<polygon fill=\"#000000\" stroke=\"#000000\" points=\"4764.7324,-663.4239 4757.3598,-655.8149 4758.3782,-666.3607 4764.7324,-663.4239\"/>\n</g>\n<!-- 278 -->\n<g id=\"node279\" class=\"node\">\n<title>278</title>\n<polygon fill=\"#ffffff\" stroke=\"#000000\" points=\"4902,-663 4807,-663 4807,-580 4902,-580 4902,-663\"/>\n<text text-anchor=\"middle\" x=\"4854.5\" y=\"-647.8\" font-family=\"Times,serif\" font-size=\"14.00\" fill=\"#000000\">Age &lt;= 21.5</text>\n<text text-anchor=\"middle\" x=\"4854.5\" y=\"-632.8\" font-family=\"Times,serif\" font-size=\"14.00\" fill=\"#000000\">gini = 0.5</text>\n<text text-anchor=\"middle\" x=\"4854.5\" y=\"-617.8\" font-family=\"Times,serif\" font-size=\"14.00\" fill=\"#000000\">samples = 2</text>\n<text text-anchor=\"middle\" x=\"4854.5\" y=\"-602.8\" font-family=\"Times,serif\" font-size=\"14.00\" fill=\"#000000\">value = [1, 1]</text>\n<text text-anchor=\"middle\" x=\"4854.5\" y=\"-587.8\" font-family=\"Times,serif\" font-size=\"14.00\" fill=\"#000000\">class = S</text>\n</g>\n<!-- 276&#45;&gt;278 -->\n<g id=\"edge278\" class=\"edge\">\n<title>276&#45;&gt;278</title>\n<path fill=\"none\" stroke=\"#000000\" d=\"M4816.7856,-698.8796C4820.9557,-690.3236 4825.3909,-681.2238 4829.6997,-672.3833\"/>\n<polygon fill=\"#000000\" stroke=\"#000000\" points=\"4832.8927,-673.8207 4834.1278,-663.2981 4826.6003,-670.7538 4832.8927,-673.8207\"/>\n</g>\n<!-- 279 -->\n<g id=\"node280\" class=\"node\">\n<title>279</title>\n<polygon fill=\"#399de5\" stroke=\"#000000\" points=\"4832,-536.5 4737,-536.5 4737,-468.5 4832,-468.5 4832,-536.5\"/>\n<text text-anchor=\"middle\" x=\"4784.5\" y=\"-521.3\" font-family=\"Times,serif\" font-size=\"14.00\" fill=\"#000000\">gini = 0.0</text>\n<text text-anchor=\"middle\" x=\"4784.5\" y=\"-506.3\" font-family=\"Times,serif\" font-size=\"14.00\" fill=\"#000000\">samples = 1</text>\n<text text-anchor=\"middle\" x=\"4784.5\" y=\"-491.3\" font-family=\"Times,serif\" font-size=\"14.00\" fill=\"#000000\">value = [0, 1]</text>\n<text text-anchor=\"middle\" x=\"4784.5\" y=\"-476.3\" font-family=\"Times,serif\" font-size=\"14.00\" fill=\"#000000\">class = u</text>\n</g>\n<!-- 278&#45;&gt;279 -->\n<g id=\"edge279\" class=\"edge\">\n<title>278&#45;&gt;279</title>\n<path fill=\"none\" stroke=\"#000000\" d=\"M4830.0174,-579.8796C4823.4844,-568.7735 4816.4125,-556.7513 4809.8348,-545.5691\"/>\n<polygon fill=\"#000000\" stroke=\"#000000\" points=\"4812.7723,-543.6597 4804.6853,-536.8149 4806.7387,-547.2089 4812.7723,-543.6597\"/>\n</g>\n<!-- 280 -->\n<g id=\"node281\" class=\"node\">\n<title>280</title>\n<polygon fill=\"#e58139\" stroke=\"#000000\" points=\"4945,-536.5 4850,-536.5 4850,-468.5 4945,-468.5 4945,-536.5\"/>\n<text text-anchor=\"middle\" x=\"4897.5\" y=\"-521.3\" font-family=\"Times,serif\" font-size=\"14.00\" fill=\"#000000\">gini = 0.0</text>\n<text text-anchor=\"middle\" x=\"4897.5\" y=\"-506.3\" font-family=\"Times,serif\" font-size=\"14.00\" fill=\"#000000\">samples = 1</text>\n<text text-anchor=\"middle\" x=\"4897.5\" y=\"-491.3\" font-family=\"Times,serif\" font-size=\"14.00\" fill=\"#000000\">value = [1, 0]</text>\n<text text-anchor=\"middle\" x=\"4897.5\" y=\"-476.3\" font-family=\"Times,serif\" font-size=\"14.00\" fill=\"#000000\">class = S</text>\n</g>\n<!-- 278&#45;&gt;280 -->\n<g id=\"edge280\" class=\"edge\">\n<title>278&#45;&gt;280</title>\n<path fill=\"none\" stroke=\"#000000\" d=\"M4869.5393,-579.8796C4873.473,-568.9935 4877.7247,-557.227 4881.6968,-546.2344\"/>\n<polygon fill=\"#000000\" stroke=\"#000000\" points=\"4884.9937,-547.4092 4885.1005,-536.8149 4878.4103,-545.0303 4884.9937,-547.4092\"/>\n</g>\n<!-- 283 -->\n<g id=\"node284\" class=\"node\">\n<title>283</title>\n<polygon fill=\"#f1ba93\" stroke=\"#000000\" points=\"5087,-901 4986,-901 4986,-818 5087,-818 5087,-901\"/>\n<text text-anchor=\"middle\" x=\"5036.5\" y=\"-885.8\" font-family=\"Times,serif\" font-size=\"14.00\" fill=\"#000000\">Age &lt;= 26.5</text>\n<text text-anchor=\"middle\" x=\"5036.5\" y=\"-870.8\" font-family=\"Times,serif\" font-size=\"14.00\" fill=\"#000000\">gini = 0.43</text>\n<text text-anchor=\"middle\" x=\"5036.5\" y=\"-855.8\" font-family=\"Times,serif\" font-size=\"14.00\" fill=\"#000000\">samples = 16</text>\n<text text-anchor=\"middle\" x=\"5036.5\" y=\"-840.8\" font-family=\"Times,serif\" font-size=\"14.00\" fill=\"#000000\">value = [11, 5]</text>\n<text text-anchor=\"middle\" x=\"5036.5\" y=\"-825.8\" font-family=\"Times,serif\" font-size=\"14.00\" fill=\"#000000\">class = S</text>\n</g>\n<!-- 282&#45;&gt;283 -->\n<g id=\"edge283\" class=\"edge\">\n<title>282&#45;&gt;283</title>\n<path fill=\"none\" stroke=\"#000000\" d=\"M5036.5,-936.8796C5036.5,-928.6838 5036.5,-919.9891 5036.5,-911.5013\"/>\n<polygon fill=\"#000000\" stroke=\"#000000\" points=\"5040.0001,-911.298 5036.5,-901.2981 5033.0001,-911.2981 5040.0001,-911.298\"/>\n</g>\n<!-- 298 -->\n<g id=\"node299\" class=\"node\">\n<title>298</title>\n<polygon fill=\"#e78b49\" stroke=\"#000000\" points=\"5309.5,-901 5207.5,-901 5207.5,-818 5309.5,-818 5309.5,-901\"/>\n<text text-anchor=\"middle\" x=\"5258.5\" y=\"-885.8\" font-family=\"Times,serif\" font-size=\"14.00\" fill=\"#000000\">Fare &lt;= 7.744</text>\n<text text-anchor=\"middle\" x=\"5258.5\" y=\"-870.8\" font-family=\"Times,serif\" font-size=\"14.00\" fill=\"#000000\">gini = 0.139</text>\n<text text-anchor=\"middle\" x=\"5258.5\" y=\"-855.8\" font-family=\"Times,serif\" font-size=\"14.00\" fill=\"#000000\">samples = 40</text>\n<text text-anchor=\"middle\" x=\"5258.5\" y=\"-840.8\" font-family=\"Times,serif\" font-size=\"14.00\" fill=\"#000000\">value = [37, 3]</text>\n<text text-anchor=\"middle\" x=\"5258.5\" y=\"-825.8\" font-family=\"Times,serif\" font-size=\"14.00\" fill=\"#000000\">class = S</text>\n</g>\n<!-- 282&#45;&gt;298 -->\n<g id=\"edge298\" class=\"edge\">\n<title>282&#45;&gt;298</title>\n<path fill=\"none\" stroke=\"#000000\" d=\"M5087.5376,-942.4068C5090.5405,-940.5316 5093.542,-938.716 5096.5,-937 5129.1276,-918.0725 5167.098,-899.7258 5198.074,-885.6383\"/>\n<polygon fill=\"#000000\" stroke=\"#000000\" points=\"5199.7741,-888.711 5207.449,-881.4071 5196.8945,-882.3307 5199.7741,-888.711\"/>\n</g>\n<!-- 284 -->\n<g id=\"node285\" class=\"node\">\n<title>284</title>\n<polygon fill=\"#eca36f\" stroke=\"#000000\" points=\"5076,-782 4975,-782 4975,-699 5076,-699 5076,-782\"/>\n<text text-anchor=\"middle\" x=\"5025.5\" y=\"-766.8\" font-family=\"Times,serif\" font-size=\"14.00\" fill=\"#000000\">Fare &lt;= 3.525</text>\n<text text-anchor=\"middle\" x=\"5025.5\" y=\"-751.8\" font-family=\"Times,serif\" font-size=\"14.00\" fill=\"#000000\">gini = 0.337</text>\n<text text-anchor=\"middle\" x=\"5025.5\" y=\"-736.8\" font-family=\"Times,serif\" font-size=\"14.00\" fill=\"#000000\">samples = 14</text>\n<text text-anchor=\"middle\" x=\"5025.5\" y=\"-721.8\" font-family=\"Times,serif\" font-size=\"14.00\" fill=\"#000000\">value = [11, 3]</text>\n<text text-anchor=\"middle\" x=\"5025.5\" y=\"-706.8\" font-family=\"Times,serif\" font-size=\"14.00\" fill=\"#000000\">class = S</text>\n</g>\n<!-- 283&#45;&gt;284 -->\n<g id=\"edge284\" class=\"edge\">\n<title>283&#45;&gt;284</title>\n<path fill=\"none\" stroke=\"#000000\" d=\"M5032.6527,-817.8796C5031.8951,-809.6838 5031.0914,-800.9891 5030.3068,-792.5013\"/>\n<polygon fill=\"#000000\" stroke=\"#000000\" points=\"5033.7694,-791.9334 5029.3637,-782.2981 5026.7991,-792.5778 5033.7694,-791.9334\"/>\n</g>\n<!-- 297 -->\n<g id=\"node298\" class=\"node\">\n<title>297</title>\n<polygon fill=\"#399de5\" stroke=\"#000000\" points=\"5189,-774.5 5094,-774.5 5094,-706.5 5189,-706.5 5189,-774.5\"/>\n<text text-anchor=\"middle\" x=\"5141.5\" y=\"-759.3\" font-family=\"Times,serif\" font-size=\"14.00\" fill=\"#000000\">gini = 0.0</text>\n<text text-anchor=\"middle\" x=\"5141.5\" y=\"-744.3\" font-family=\"Times,serif\" font-size=\"14.00\" fill=\"#000000\">samples = 2</text>\n<text text-anchor=\"middle\" x=\"5141.5\" y=\"-729.3\" font-family=\"Times,serif\" font-size=\"14.00\" fill=\"#000000\">value = [0, 2]</text>\n<text text-anchor=\"middle\" x=\"5141.5\" y=\"-714.3\" font-family=\"Times,serif\" font-size=\"14.00\" fill=\"#000000\">class = u</text>\n</g>\n<!-- 283&#45;&gt;297 -->\n<g id=\"edge297\" class=\"edge\">\n<title>283&#45;&gt;297</title>\n<path fill=\"none\" stroke=\"#000000\" d=\"M5073.2239,-817.8796C5083.3144,-806.4436 5094.2621,-794.0363 5104.375,-782.575\"/>\n<polygon fill=\"#000000\" stroke=\"#000000\" points=\"5107.2303,-784.629 5111.2221,-774.8149 5101.9814,-779.9977 5107.2303,-784.629\"/>\n</g>\n<!-- 285 -->\n<g id=\"node286\" class=\"node\">\n<title>285</title>\n<polygon fill=\"#399de5\" stroke=\"#000000\" points=\"5045,-655.5 4950,-655.5 4950,-587.5 5045,-587.5 5045,-655.5\"/>\n<text text-anchor=\"middle\" x=\"4997.5\" y=\"-640.3\" font-family=\"Times,serif\" font-size=\"14.00\" fill=\"#000000\">gini = 0.0</text>\n<text text-anchor=\"middle\" x=\"4997.5\" y=\"-625.3\" font-family=\"Times,serif\" font-size=\"14.00\" fill=\"#000000\">samples = 1</text>\n<text text-anchor=\"middle\" x=\"4997.5\" y=\"-610.3\" font-family=\"Times,serif\" font-size=\"14.00\" fill=\"#000000\">value = [0, 1]</text>\n<text text-anchor=\"middle\" x=\"4997.5\" y=\"-595.3\" font-family=\"Times,serif\" font-size=\"14.00\" fill=\"#000000\">class = u</text>\n</g>\n<!-- 284&#45;&gt;285 -->\n<g id=\"edge285\" class=\"edge\">\n<title>284&#45;&gt;285</title>\n<path fill=\"none\" stroke=\"#000000\" d=\"M5015.707,-698.8796C5013.1714,-688.1034 5010.4329,-676.4647 5007.8689,-665.5677\"/>\n<polygon fill=\"#000000\" stroke=\"#000000\" points=\"5011.2715,-664.7474 5005.5741,-655.8149 5004.4576,-666.3508 5011.2715,-664.7474\"/>\n</g>\n<!-- 286 -->\n<g id=\"node287\" class=\"node\">\n<title>286</title>\n<polygon fill=\"#ea985d\" stroke=\"#000000\" points=\"5164,-663 5063,-663 5063,-580 5164,-580 5164,-663\"/>\n<text text-anchor=\"middle\" x=\"5113.5\" y=\"-647.8\" font-family=\"Times,serif\" font-size=\"14.00\" fill=\"#000000\">SibSp &lt;= 0.5</text>\n<text text-anchor=\"middle\" x=\"5113.5\" y=\"-632.8\" font-family=\"Times,serif\" font-size=\"14.00\" fill=\"#000000\">gini = 0.26</text>\n<text text-anchor=\"middle\" x=\"5113.5\" y=\"-617.8\" font-family=\"Times,serif\" font-size=\"14.00\" fill=\"#000000\">samples = 13</text>\n<text text-anchor=\"middle\" x=\"5113.5\" y=\"-602.8\" font-family=\"Times,serif\" font-size=\"14.00\" fill=\"#000000\">value = [11, 2]</text>\n<text text-anchor=\"middle\" x=\"5113.5\" y=\"-587.8\" font-family=\"Times,serif\" font-size=\"14.00\" fill=\"#000000\">class = S</text>\n</g>\n<!-- 284&#45;&gt;286 -->\n<g id=\"edge286\" class=\"edge\">\n<title>284&#45;&gt;286</title>\n<path fill=\"none\" stroke=\"#000000\" d=\"M5056.2781,-698.8796C5062.8051,-690.0534 5069.7599,-680.6485 5076.4908,-671.5466\"/>\n<polygon fill=\"#000000\" stroke=\"#000000\" points=\"5079.4588,-673.4195 5082.5905,-663.2981 5073.8305,-669.2574 5079.4588,-673.4195\"/>\n</g>\n<!-- 287 -->\n<g id=\"node288\" class=\"node\">\n<title>287</title>\n<polygon fill=\"#e88f4f\" stroke=\"#000000\" points=\"5060,-544 4965,-544 4965,-461 5060,-461 5060,-544\"/>\n<text text-anchor=\"middle\" x=\"5012.5\" y=\"-528.8\" font-family=\"Times,serif\" font-size=\"14.00\" fill=\"#000000\">Age &lt;= 24.5</text>\n<text text-anchor=\"middle\" x=\"5012.5\" y=\"-513.8\" font-family=\"Times,serif\" font-size=\"14.00\" fill=\"#000000\">gini = 0.18</text>\n<text text-anchor=\"middle\" x=\"5012.5\" y=\"-498.8\" font-family=\"Times,serif\" font-size=\"14.00\" fill=\"#000000\">samples = 10</text>\n<text text-anchor=\"middle\" x=\"5012.5\" y=\"-483.8\" font-family=\"Times,serif\" font-size=\"14.00\" fill=\"#000000\">value = [9, 1]</text>\n<text text-anchor=\"middle\" x=\"5012.5\" y=\"-468.8\" font-family=\"Times,serif\" font-size=\"14.00\" fill=\"#000000\">class = S</text>\n</g>\n<!-- 286&#45;&gt;287 -->\n<g id=\"edge287\" class=\"edge\">\n<title>286&#45;&gt;287</title>\n<path fill=\"none\" stroke=\"#000000\" d=\"M5078.1751,-579.8796C5070.5311,-570.8733 5062.3757,-561.2644 5054.5039,-551.9897\"/>\n<polygon fill=\"#000000\" stroke=\"#000000\" points=\"5057.1151,-549.6574 5047.9757,-544.2981 5051.7782,-554.1871 5057.1151,-549.6574\"/>\n</g>\n<!-- 294 -->\n<g id=\"node295\" class=\"node\">\n<title>294</title>\n<polygon fill=\"#f2c09c\" stroke=\"#000000\" points=\"5177,-544 5078,-544 5078,-461 5177,-461 5177,-544\"/>\n<text text-anchor=\"middle\" x=\"5127.5\" y=\"-528.8\" font-family=\"Times,serif\" font-size=\"14.00\" fill=\"#000000\">Fare &lt;= 7.815</text>\n<text text-anchor=\"middle\" x=\"5127.5\" y=\"-513.8\" font-family=\"Times,serif\" font-size=\"14.00\" fill=\"#000000\">gini = 0.444</text>\n<text text-anchor=\"middle\" x=\"5127.5\" y=\"-498.8\" font-family=\"Times,serif\" font-size=\"14.00\" fill=\"#000000\">samples = 3</text>\n<text text-anchor=\"middle\" x=\"5127.5\" y=\"-483.8\" font-family=\"Times,serif\" font-size=\"14.00\" fill=\"#000000\">value = [2, 1]</text>\n<text text-anchor=\"middle\" x=\"5127.5\" y=\"-468.8\" font-family=\"Times,serif\" font-size=\"14.00\" fill=\"#000000\">class = S</text>\n</g>\n<!-- 286&#45;&gt;294 -->\n<g id=\"edge294\" class=\"edge\">\n<title>286&#45;&gt;294</title>\n<path fill=\"none\" stroke=\"#000000\" d=\"M5118.3965,-579.8796C5119.3607,-571.6838 5120.3836,-562.9891 5121.3822,-554.5013\"/>\n<polygon fill=\"#000000\" stroke=\"#000000\" points=\"5124.8901,-554.6386 5122.5826,-544.2981 5117.9381,-553.8206 5124.8901,-554.6386\"/>\n</g>\n<!-- 288 -->\n<g id=\"node289\" class=\"node\">\n<title>288</title>\n<polygon fill=\"#eeab7b\" stroke=\"#000000\" points=\"4948,-425 4849,-425 4849,-342 4948,-342 4948,-425\"/>\n<text text-anchor=\"middle\" x=\"4898.5\" y=\"-409.8\" font-family=\"Times,serif\" font-size=\"14.00\" fill=\"#000000\">Fare &lt;= 7.319</text>\n<text text-anchor=\"middle\" x=\"4898.5\" y=\"-394.8\" font-family=\"Times,serif\" font-size=\"14.00\" fill=\"#000000\">gini = 0.375</text>\n<text text-anchor=\"middle\" x=\"4898.5\" y=\"-379.8\" font-family=\"Times,serif\" font-size=\"14.00\" fill=\"#000000\">samples = 4</text>\n<text text-anchor=\"middle\" x=\"4898.5\" y=\"-364.8\" font-family=\"Times,serif\" font-size=\"14.00\" fill=\"#000000\">value = [3, 1]</text>\n<text text-anchor=\"middle\" x=\"4898.5\" y=\"-349.8\" font-family=\"Times,serif\" font-size=\"14.00\" fill=\"#000000\">class = S</text>\n</g>\n<!-- 287&#45;&gt;288 -->\n<g id=\"edge288\" class=\"edge\">\n<title>287&#45;&gt;288</title>\n<path fill=\"none\" stroke=\"#000000\" d=\"M4972.6283,-460.8796C4963.9142,-451.7832 4954.6112,-442.0722 4945.6438,-432.7116\"/>\n<polygon fill=\"#000000\" stroke=\"#000000\" points=\"4947.987,-430.098 4938.5419,-425.2981 4942.9322,-434.9405 4947.987,-430.098\"/>\n</g>\n<!-- 293 -->\n<g id=\"node294\" class=\"node\">\n<title>293</title>\n<polygon fill=\"#e58139\" stroke=\"#000000\" points=\"5061,-417.5 4966,-417.5 4966,-349.5 5061,-349.5 5061,-417.5\"/>\n<text text-anchor=\"middle\" x=\"5013.5\" y=\"-402.3\" font-family=\"Times,serif\" font-size=\"14.00\" fill=\"#000000\">gini = 0.0</text>\n<text text-anchor=\"middle\" x=\"5013.5\" y=\"-387.3\" font-family=\"Times,serif\" font-size=\"14.00\" fill=\"#000000\">samples = 6</text>\n<text text-anchor=\"middle\" x=\"5013.5\" y=\"-372.3\" font-family=\"Times,serif\" font-size=\"14.00\" fill=\"#000000\">value = [6, 0]</text>\n<text text-anchor=\"middle\" x=\"5013.5\" y=\"-357.3\" font-family=\"Times,serif\" font-size=\"14.00\" fill=\"#000000\">class = S</text>\n</g>\n<!-- 287&#45;&gt;293 -->\n<g id=\"edge293\" class=\"edge\">\n<title>287&#45;&gt;293</title>\n<path fill=\"none\" stroke=\"#000000\" d=\"M5012.8498,-460.8796C5012.9394,-450.2134 5013.0361,-438.7021 5013.1269,-427.9015\"/>\n<polygon fill=\"#000000\" stroke=\"#000000\" points=\"5016.6274,-427.844 5013.2116,-417.8149 5009.6276,-427.7851 5016.6274,-427.844\"/>\n</g>\n<!-- 289 -->\n<g id=\"node290\" class=\"node\">\n<title>289</title>\n<polygon fill=\"#ffffff\" stroke=\"#000000\" points=\"4891,-306 4792,-306 4792,-223 4891,-223 4891,-306\"/>\n<text text-anchor=\"middle\" x=\"4841.5\" y=\"-290.8\" font-family=\"Times,serif\" font-size=\"14.00\" fill=\"#000000\">Fare &lt;= 7.096</text>\n<text text-anchor=\"middle\" x=\"4841.5\" y=\"-275.8\" font-family=\"Times,serif\" font-size=\"14.00\" fill=\"#000000\">gini = 0.5</text>\n<text text-anchor=\"middle\" x=\"4841.5\" y=\"-260.8\" font-family=\"Times,serif\" font-size=\"14.00\" fill=\"#000000\">samples = 2</text>\n<text text-anchor=\"middle\" x=\"4841.5\" y=\"-245.8\" font-family=\"Times,serif\" font-size=\"14.00\" fill=\"#000000\">value = [1, 1]</text>\n<text text-anchor=\"middle\" x=\"4841.5\" y=\"-230.8\" font-family=\"Times,serif\" font-size=\"14.00\" fill=\"#000000\">class = S</text>\n</g>\n<!-- 288&#45;&gt;289 -->\n<g id=\"edge289\" class=\"edge\">\n<title>288&#45;&gt;289</title>\n<path fill=\"none\" stroke=\"#000000\" d=\"M4878.5642,-341.8796C4874.4659,-333.3236 4870.1072,-324.2238 4865.8727,-315.3833\"/>\n<polygon fill=\"#000000\" stroke=\"#000000\" points=\"4868.9975,-313.8049 4861.5209,-306.2981 4862.6843,-316.8288 4868.9975,-313.8049\"/>\n</g>\n<!-- 292 -->\n<g id=\"node293\" class=\"node\">\n<title>292</title>\n<polygon fill=\"#e58139\" stroke=\"#000000\" points=\"5004,-298.5 4909,-298.5 4909,-230.5 5004,-230.5 5004,-298.5\"/>\n<text text-anchor=\"middle\" x=\"4956.5\" y=\"-283.3\" font-family=\"Times,serif\" font-size=\"14.00\" fill=\"#000000\">gini = 0.0</text>\n<text text-anchor=\"middle\" x=\"4956.5\" y=\"-268.3\" font-family=\"Times,serif\" font-size=\"14.00\" fill=\"#000000\">samples = 2</text>\n<text text-anchor=\"middle\" x=\"4956.5\" y=\"-253.3\" font-family=\"Times,serif\" font-size=\"14.00\" fill=\"#000000\">value = [2, 0]</text>\n<text text-anchor=\"middle\" x=\"4956.5\" y=\"-238.3\" font-family=\"Times,serif\" font-size=\"14.00\" fill=\"#000000\">class = S</text>\n</g>\n<!-- 288&#45;&gt;292 -->\n<g id=\"edge292\" class=\"edge\">\n<title>288&#45;&gt;292</title>\n<path fill=\"none\" stroke=\"#000000\" d=\"M4918.7856,-341.8796C4924.145,-330.8835 4929.9422,-318.9893 4935.3463,-307.9015\"/>\n<polygon fill=\"#000000\" stroke=\"#000000\" points=\"4938.54,-309.3375 4939.7751,-298.8149 4932.2476,-306.2706 4938.54,-309.3375\"/>\n</g>\n<!-- 290 -->\n<g id=\"node291\" class=\"node\">\n<title>290</title>\n<polygon fill=\"#e58139\" stroke=\"#000000\" points=\"4833,-179.5 4738,-179.5 4738,-111.5 4833,-111.5 4833,-179.5\"/>\n<text text-anchor=\"middle\" x=\"4785.5\" y=\"-164.3\" font-family=\"Times,serif\" font-size=\"14.00\" fill=\"#000000\">gini = 0.0</text>\n<text text-anchor=\"middle\" x=\"4785.5\" y=\"-149.3\" font-family=\"Times,serif\" font-size=\"14.00\" fill=\"#000000\">samples = 1</text>\n<text text-anchor=\"middle\" x=\"4785.5\" y=\"-134.3\" font-family=\"Times,serif\" font-size=\"14.00\" fill=\"#000000\">value = [1, 0]</text>\n<text text-anchor=\"middle\" x=\"4785.5\" y=\"-119.3\" font-family=\"Times,serif\" font-size=\"14.00\" fill=\"#000000\">class = S</text>\n</g>\n<!-- 289&#45;&gt;290 -->\n<g id=\"edge290\" class=\"edge\">\n<title>289&#45;&gt;290</title>\n<path fill=\"none\" stroke=\"#000000\" d=\"M4821.9139,-222.8796C4816.7393,-211.8835 4811.142,-199.9893 4805.9242,-188.9015\"/>\n<polygon fill=\"#000000\" stroke=\"#000000\" points=\"4809.0731,-187.3728 4801.6482,-179.8149 4802.7394,-190.3534 4809.0731,-187.3728\"/>\n</g>\n<!-- 291 -->\n<g id=\"node292\" class=\"node\">\n<title>291</title>\n<polygon fill=\"#399de5\" stroke=\"#000000\" points=\"4946,-179.5 4851,-179.5 4851,-111.5 4946,-111.5 4946,-179.5\"/>\n<text text-anchor=\"middle\" x=\"4898.5\" y=\"-164.3\" font-family=\"Times,serif\" font-size=\"14.00\" fill=\"#000000\">gini = 0.0</text>\n<text text-anchor=\"middle\" x=\"4898.5\" y=\"-149.3\" font-family=\"Times,serif\" font-size=\"14.00\" fill=\"#000000\">samples = 1</text>\n<text text-anchor=\"middle\" x=\"4898.5\" y=\"-134.3\" font-family=\"Times,serif\" font-size=\"14.00\" fill=\"#000000\">value = [0, 1]</text>\n<text text-anchor=\"middle\" x=\"4898.5\" y=\"-119.3\" font-family=\"Times,serif\" font-size=\"14.00\" fill=\"#000000\">class = u</text>\n</g>\n<!-- 289&#45;&gt;291 -->\n<g id=\"edge291\" class=\"edge\">\n<title>289&#45;&gt;291</title>\n<path fill=\"none\" stroke=\"#000000\" d=\"M4861.4358,-222.8796C4866.7029,-211.8835 4872.4001,-199.9893 4877.711,-188.9015\"/>\n<polygon fill=\"#000000\" stroke=\"#000000\" points=\"4880.9,-190.3457 4882.0634,-179.8149 4874.5869,-187.3217 4880.9,-190.3457\"/>\n</g>\n<!-- 295 -->\n<g id=\"node296\" class=\"node\">\n<title>295</title>\n<polygon fill=\"#ffffff\" stroke=\"#000000\" points=\"5175,-417.5 5080,-417.5 5080,-349.5 5175,-349.5 5175,-417.5\"/>\n<text text-anchor=\"middle\" x=\"5127.5\" y=\"-402.3\" font-family=\"Times,serif\" font-size=\"14.00\" fill=\"#000000\">gini = 0.5</text>\n<text text-anchor=\"middle\" x=\"5127.5\" y=\"-387.3\" font-family=\"Times,serif\" font-size=\"14.00\" fill=\"#000000\">samples = 2</text>\n<text text-anchor=\"middle\" x=\"5127.5\" y=\"-372.3\" font-family=\"Times,serif\" font-size=\"14.00\" fill=\"#000000\">value = [1, 1]</text>\n<text text-anchor=\"middle\" x=\"5127.5\" y=\"-357.3\" font-family=\"Times,serif\" font-size=\"14.00\" fill=\"#000000\">class = S</text>\n</g>\n<!-- 294&#45;&gt;295 -->\n<g id=\"edge295\" class=\"edge\">\n<title>294&#45;&gt;295</title>\n<path fill=\"none\" stroke=\"#000000\" d=\"M5127.5,-460.8796C5127.5,-450.2134 5127.5,-438.7021 5127.5,-427.9015\"/>\n<polygon fill=\"#000000\" stroke=\"#000000\" points=\"5131.0001,-427.8149 5127.5,-417.8149 5124.0001,-427.815 5131.0001,-427.8149\"/>\n</g>\n<!-- 296 -->\n<g id=\"node297\" class=\"node\">\n<title>296</title>\n<polygon fill=\"#e58139\" stroke=\"#000000\" points=\"5288,-417.5 5193,-417.5 5193,-349.5 5288,-349.5 5288,-417.5\"/>\n<text text-anchor=\"middle\" x=\"5240.5\" y=\"-402.3\" font-family=\"Times,serif\" font-size=\"14.00\" fill=\"#000000\">gini = 0.0</text>\n<text text-anchor=\"middle\" x=\"5240.5\" y=\"-387.3\" font-family=\"Times,serif\" font-size=\"14.00\" fill=\"#000000\">samples = 1</text>\n<text text-anchor=\"middle\" x=\"5240.5\" y=\"-372.3\" font-family=\"Times,serif\" font-size=\"14.00\" fill=\"#000000\">value = [1, 0]</text>\n<text text-anchor=\"middle\" x=\"5240.5\" y=\"-357.3\" font-family=\"Times,serif\" font-size=\"14.00\" fill=\"#000000\">class = S</text>\n</g>\n<!-- 294&#45;&gt;296 -->\n<g id=\"edge296\" class=\"edge\">\n<title>294&#45;&gt;296</title>\n<path fill=\"none\" stroke=\"#000000\" d=\"M5167.0219,-460.8796C5177.9857,-449.3337 5189.8897,-436.7976 5200.8601,-425.2446\"/>\n<polygon fill=\"#000000\" stroke=\"#000000\" points=\"5203.5673,-427.4766 5207.9152,-417.8149 5198.4913,-422.6564 5203.5673,-427.4766\"/>\n</g>\n<!-- 299 -->\n<g id=\"node300\" class=\"node\">\n<title>299</title>\n<polygon fill=\"#e58139\" stroke=\"#000000\" points=\"5309.5,-774.5 5207.5,-774.5 5207.5,-706.5 5309.5,-706.5 5309.5,-774.5\"/>\n<text text-anchor=\"middle\" x=\"5258.5\" y=\"-759.3\" font-family=\"Times,serif\" font-size=\"14.00\" fill=\"#000000\">gini = 0.0</text>\n<text text-anchor=\"middle\" x=\"5258.5\" y=\"-744.3\" font-family=\"Times,serif\" font-size=\"14.00\" fill=\"#000000\">samples = 20</text>\n<text text-anchor=\"middle\" x=\"5258.5\" y=\"-729.3\" font-family=\"Times,serif\" font-size=\"14.00\" fill=\"#000000\">value = [20, 0]</text>\n<text text-anchor=\"middle\" x=\"5258.5\" y=\"-714.3\" font-family=\"Times,serif\" font-size=\"14.00\" fill=\"#000000\">class = S</text>\n</g>\n<!-- 298&#45;&gt;299 -->\n<g id=\"edge299\" class=\"edge\">\n<title>298&#45;&gt;299</title>\n<path fill=\"none\" stroke=\"#000000\" d=\"M5258.5,-817.8796C5258.5,-807.2134 5258.5,-795.7021 5258.5,-784.9015\"/>\n<polygon fill=\"#000000\" stroke=\"#000000\" points=\"5262.0001,-784.8149 5258.5,-774.8149 5255.0001,-784.815 5262.0001,-784.8149\"/>\n</g>\n<!-- 300 -->\n<g id=\"node301\" class=\"node\">\n<title>300</title>\n<polygon fill=\"#ea975c\" stroke=\"#000000\" points=\"5429.5,-782 5327.5,-782 5327.5,-699 5429.5,-699 5429.5,-782\"/>\n<text text-anchor=\"middle\" x=\"5378.5\" y=\"-766.8\" font-family=\"Times,serif\" font-size=\"14.00\" fill=\"#000000\">Fare &lt;= 7.785</text>\n<text text-anchor=\"middle\" x=\"5378.5\" y=\"-751.8\" font-family=\"Times,serif\" font-size=\"14.00\" fill=\"#000000\">gini = 0.255</text>\n<text text-anchor=\"middle\" x=\"5378.5\" y=\"-736.8\" font-family=\"Times,serif\" font-size=\"14.00\" fill=\"#000000\">samples = 20</text>\n<text text-anchor=\"middle\" x=\"5378.5\" y=\"-721.8\" font-family=\"Times,serif\" font-size=\"14.00\" fill=\"#000000\">value = [17, 3]</text>\n<text text-anchor=\"middle\" x=\"5378.5\" y=\"-706.8\" font-family=\"Times,serif\" font-size=\"14.00\" fill=\"#000000\">class = S</text>\n</g>\n<!-- 298&#45;&gt;300 -->\n<g id=\"edge300\" class=\"edge\">\n<title>298&#45;&gt;300</title>\n<path fill=\"none\" stroke=\"#000000\" d=\"M5300.4702,-817.8796C5309.7338,-808.6931 5319.6296,-798.8798 5329.1552,-789.4336\"/>\n<polygon fill=\"#000000\" stroke=\"#000000\" points=\"5331.7146,-791.8247 5336.3507,-782.2981 5326.7856,-786.8543 5331.7146,-791.8247\"/>\n</g>\n<!-- 301 -->\n<g id=\"node302\" class=\"node\">\n<title>301</title>\n<polygon fill=\"#eb9c63\" stroke=\"#000000\" points=\"5419.5,-663 5317.5,-663 5317.5,-580 5419.5,-580 5419.5,-663\"/>\n<text text-anchor=\"middle\" x=\"5368.5\" y=\"-647.8\" font-family=\"Times,serif\" font-size=\"14.00\" fill=\"#000000\">Age &lt;= 30.0</text>\n<text text-anchor=\"middle\" x=\"5368.5\" y=\"-632.8\" font-family=\"Times,serif\" font-size=\"14.00\" fill=\"#000000\">gini = 0.291</text>\n<text text-anchor=\"middle\" x=\"5368.5\" y=\"-617.8\" font-family=\"Times,serif\" font-size=\"14.00\" fill=\"#000000\">samples = 17</text>\n<text text-anchor=\"middle\" x=\"5368.5\" y=\"-602.8\" font-family=\"Times,serif\" font-size=\"14.00\" fill=\"#000000\">value = [14, 3]</text>\n<text text-anchor=\"middle\" x=\"5368.5\" y=\"-587.8\" font-family=\"Times,serif\" font-size=\"14.00\" fill=\"#000000\">class = S</text>\n</g>\n<!-- 300&#45;&gt;301 -->\n<g id=\"edge301\" class=\"edge\">\n<title>300&#45;&gt;301</title>\n<path fill=\"none\" stroke=\"#000000\" d=\"M5375.0025,-698.8796C5374.3138,-690.6838 5373.5831,-681.9891 5372.8699,-673.5013\"/>\n<polygon fill=\"#000000\" stroke=\"#000000\" points=\"5376.3376,-672.9698 5372.0124,-663.2981 5369.3622,-673.5561 5376.3376,-672.9698\"/>\n</g>\n<!-- 308 -->\n<g id=\"node309\" class=\"node\">\n<title>308</title>\n<polygon fill=\"#e58139\" stroke=\"#000000\" points=\"5533,-655.5 5438,-655.5 5438,-587.5 5533,-587.5 5533,-655.5\"/>\n<text text-anchor=\"middle\" x=\"5485.5\" y=\"-640.3\" font-family=\"Times,serif\" font-size=\"14.00\" fill=\"#000000\">gini = 0.0</text>\n<text text-anchor=\"middle\" x=\"5485.5\" y=\"-625.3\" font-family=\"Times,serif\" font-size=\"14.00\" fill=\"#000000\">samples = 3</text>\n<text text-anchor=\"middle\" x=\"5485.5\" y=\"-610.3\" font-family=\"Times,serif\" font-size=\"14.00\" fill=\"#000000\">value = [3, 0]</text>\n<text text-anchor=\"middle\" x=\"5485.5\" y=\"-595.3\" font-family=\"Times,serif\" font-size=\"14.00\" fill=\"#000000\">class = S</text>\n</g>\n<!-- 300&#45;&gt;308 -->\n<g id=\"edge308\" class=\"edge\">\n<title>300&#45;&gt;308</title>\n<path fill=\"none\" stroke=\"#000000\" d=\"M5415.9234,-698.8796C5426.2061,-687.4436 5437.3623,-675.0363 5447.6679,-663.575\"/>\n<polygon fill=\"#000000\" stroke=\"#000000\" points=\"5450.5618,-665.5912 5454.6454,-655.8149 5445.3565,-660.9108 5450.5618,-665.5912\"/>\n</g>\n<!-- 302 -->\n<g id=\"node303\" class=\"node\">\n<title>302</title>\n<polygon fill=\"#eca06a\" stroke=\"#000000\" points=\"5427,-544 5308,-544 5308,-461 5427,-461 5427,-544\"/>\n<text text-anchor=\"middle\" x=\"5367.5\" y=\"-528.8\" font-family=\"Times,serif\" font-size=\"14.00\" fill=\"#000000\">Embarked &lt;= 1.5</text>\n<text text-anchor=\"middle\" x=\"5367.5\" y=\"-513.8\" font-family=\"Times,serif\" font-size=\"14.00\" fill=\"#000000\">gini = 0.32</text>\n<text text-anchor=\"middle\" x=\"5367.5\" y=\"-498.8\" font-family=\"Times,serif\" font-size=\"14.00\" fill=\"#000000\">samples = 15</text>\n<text text-anchor=\"middle\" x=\"5367.5\" y=\"-483.8\" font-family=\"Times,serif\" font-size=\"14.00\" fill=\"#000000\">value = [12, 3]</text>\n<text text-anchor=\"middle\" x=\"5367.5\" y=\"-468.8\" font-family=\"Times,serif\" font-size=\"14.00\" fill=\"#000000\">class = S</text>\n</g>\n<!-- 301&#45;&gt;302 -->\n<g id=\"edge302\" class=\"edge\">\n<title>301&#45;&gt;302</title>\n<path fill=\"none\" stroke=\"#000000\" d=\"M5368.1502,-579.8796C5368.0814,-571.6838 5368.0083,-562.9891 5367.937,-554.5013\"/>\n<polygon fill=\"#000000\" stroke=\"#000000\" points=\"5371.4352,-554.2683 5367.8512,-544.2981 5364.4355,-554.3272 5371.4352,-554.2683\"/>\n</g>\n<!-- 307 -->\n<g id=\"node308\" class=\"node\">\n<title>307</title>\n<polygon fill=\"#e58139\" stroke=\"#000000\" points=\"5540,-536.5 5445,-536.5 5445,-468.5 5540,-468.5 5540,-536.5\"/>\n<text text-anchor=\"middle\" x=\"5492.5\" y=\"-521.3\" font-family=\"Times,serif\" font-size=\"14.00\" fill=\"#000000\">gini = 0.0</text>\n<text text-anchor=\"middle\" x=\"5492.5\" y=\"-506.3\" font-family=\"Times,serif\" font-size=\"14.00\" fill=\"#000000\">samples = 2</text>\n<text text-anchor=\"middle\" x=\"5492.5\" y=\"-491.3\" font-family=\"Times,serif\" font-size=\"14.00\" fill=\"#000000\">value = [2, 0]</text>\n<text text-anchor=\"middle\" x=\"5492.5\" y=\"-476.3\" font-family=\"Times,serif\" font-size=\"14.00\" fill=\"#000000\">class = S</text>\n</g>\n<!-- 301&#45;&gt;307 -->\n<g id=\"edge307\" class=\"edge\">\n<title>301&#45;&gt;307</title>\n<path fill=\"none\" stroke=\"#000000\" d=\"M5411.8692,-579.8796C5424.0148,-568.2237 5437.2119,-555.5587 5449.3451,-543.9148\"/>\n<polygon fill=\"#000000\" stroke=\"#000000\" points=\"5451.9516,-546.2643 5456.7433,-536.8149 5447.1047,-541.2138 5451.9516,-546.2643\"/>\n</g>\n<!-- 303 -->\n<g id=\"node304\" class=\"node\">\n<title>303</title>\n<polygon fill=\"#ea9a61\" stroke=\"#000000\" points=\"5411.5,-425 5309.5,-425 5309.5,-342 5411.5,-342 5411.5,-425\"/>\n<text text-anchor=\"middle\" x=\"5360.5\" y=\"-409.8\" font-family=\"Times,serif\" font-size=\"14.00\" fill=\"#000000\">SibSp &lt;= 0.5</text>\n<text text-anchor=\"middle\" x=\"5360.5\" y=\"-394.8\" font-family=\"Times,serif\" font-size=\"14.00\" fill=\"#000000\">gini = 0.278</text>\n<text text-anchor=\"middle\" x=\"5360.5\" y=\"-379.8\" font-family=\"Times,serif\" font-size=\"14.00\" fill=\"#000000\">samples = 12</text>\n<text text-anchor=\"middle\" x=\"5360.5\" y=\"-364.8\" font-family=\"Times,serif\" font-size=\"14.00\" fill=\"#000000\">value = [10, 2]</text>\n<text text-anchor=\"middle\" x=\"5360.5\" y=\"-349.8\" font-family=\"Times,serif\" font-size=\"14.00\" fill=\"#000000\">class = S</text>\n</g>\n<!-- 302&#45;&gt;303 -->\n<g id=\"edge303\" class=\"edge\">\n<title>302&#45;&gt;303</title>\n<path fill=\"none\" stroke=\"#000000\" d=\"M5365.0517,-460.8796C5364.5696,-452.6838 5364.0582,-443.9891 5363.5589,-435.5013\"/>\n<polygon fill=\"#000000\" stroke=\"#000000\" points=\"5367.04,-435.0753 5362.9587,-425.2981 5360.0521,-435.4864 5367.04,-435.0753\"/>\n</g>\n<!-- 306 -->\n<g id=\"node307\" class=\"node\">\n<title>306</title>\n<polygon fill=\"#f2c09c\" stroke=\"#000000\" points=\"5525,-417.5 5430,-417.5 5430,-349.5 5525,-349.5 5525,-417.5\"/>\n<text text-anchor=\"middle\" x=\"5477.5\" y=\"-402.3\" font-family=\"Times,serif\" font-size=\"14.00\" fill=\"#000000\">gini = 0.444</text>\n<text text-anchor=\"middle\" x=\"5477.5\" y=\"-387.3\" font-family=\"Times,serif\" font-size=\"14.00\" fill=\"#000000\">samples = 3</text>\n<text text-anchor=\"middle\" x=\"5477.5\" y=\"-372.3\" font-family=\"Times,serif\" font-size=\"14.00\" fill=\"#000000\">value = [2, 1]</text>\n<text text-anchor=\"middle\" x=\"5477.5\" y=\"-357.3\" font-family=\"Times,serif\" font-size=\"14.00\" fill=\"#000000\">class = S</text>\n</g>\n<!-- 302&#45;&gt;306 -->\n<g id=\"edge306\" class=\"edge\">\n<title>302&#45;&gt;306</title>\n<path fill=\"none\" stroke=\"#000000\" d=\"M5405.9727,-460.8796C5416.6453,-449.3337 5428.2333,-436.7976 5438.9125,-425.2446\"/>\n<polygon fill=\"#000000\" stroke=\"#000000\" points=\"5441.5625,-427.534 5445.7803,-417.8149 5436.4222,-422.7825 5441.5625,-427.534\"/>\n</g>\n<!-- 304 -->\n<g id=\"node305\" class=\"node\">\n<title>304</title>\n<polygon fill=\"#eb9d65\" stroke=\"#000000\" points=\"5351,-298.5 5256,-298.5 5256,-230.5 5351,-230.5 5351,-298.5\"/>\n<text text-anchor=\"middle\" x=\"5303.5\" y=\"-283.3\" font-family=\"Times,serif\" font-size=\"14.00\" fill=\"#000000\">gini = 0.298</text>\n<text text-anchor=\"middle\" x=\"5303.5\" y=\"-268.3\" font-family=\"Times,serif\" font-size=\"14.00\" fill=\"#000000\">samples = 11</text>\n<text text-anchor=\"middle\" x=\"5303.5\" y=\"-253.3\" font-family=\"Times,serif\" font-size=\"14.00\" fill=\"#000000\">value = [9, 2]</text>\n<text text-anchor=\"middle\" x=\"5303.5\" y=\"-238.3\" font-family=\"Times,serif\" font-size=\"14.00\" fill=\"#000000\">class = S</text>\n</g>\n<!-- 303&#45;&gt;304 -->\n<g id=\"edge304\" class=\"edge\">\n<title>303&#45;&gt;304</title>\n<path fill=\"none\" stroke=\"#000000\" d=\"M5340.5642,-341.8796C5335.2971,-330.8835 5329.5999,-318.9893 5324.289,-307.9015\"/>\n<polygon fill=\"#000000\" stroke=\"#000000\" points=\"5327.4131,-306.3217 5319.9366,-298.8149 5321.1,-309.3457 5327.4131,-306.3217\"/>\n</g>\n<!-- 305 -->\n<g id=\"node306\" class=\"node\">\n<title>305</title>\n<polygon fill=\"#e58139\" stroke=\"#000000\" points=\"5464,-298.5 5369,-298.5 5369,-230.5 5464,-230.5 5464,-298.5\"/>\n<text text-anchor=\"middle\" x=\"5416.5\" y=\"-283.3\" font-family=\"Times,serif\" font-size=\"14.00\" fill=\"#000000\">gini = 0.0</text>\n<text text-anchor=\"middle\" x=\"5416.5\" y=\"-268.3\" font-family=\"Times,serif\" font-size=\"14.00\" fill=\"#000000\">samples = 1</text>\n<text text-anchor=\"middle\" x=\"5416.5\" y=\"-253.3\" font-family=\"Times,serif\" font-size=\"14.00\" fill=\"#000000\">value = [1, 0]</text>\n<text text-anchor=\"middle\" x=\"5416.5\" y=\"-238.3\" font-family=\"Times,serif\" font-size=\"14.00\" fill=\"#000000\">class = S</text>\n</g>\n<!-- 303&#45;&gt;305 -->\n<g id=\"edge305\" class=\"edge\">\n<title>303&#45;&gt;305</title>\n<path fill=\"none\" stroke=\"#000000\" d=\"M5380.0861,-341.8796C5385.2607,-330.8835 5390.858,-318.9893 5396.0758,-307.9015\"/>\n<polygon fill=\"#000000\" stroke=\"#000000\" points=\"5399.2606,-309.3534 5400.3518,-298.8149 5392.9269,-306.3728 5399.2606,-309.3534\"/>\n</g>\n<!-- 310 -->\n<g id=\"node311\" class=\"node\">\n<title>310</title>\n<polygon fill=\"#e58139\" stroke=\"#000000\" points=\"5201,-1012.5 5106,-1012.5 5106,-944.5 5201,-944.5 5201,-1012.5\"/>\n<text text-anchor=\"middle\" x=\"5153.5\" y=\"-997.3\" font-family=\"Times,serif\" font-size=\"14.00\" fill=\"#000000\">gini = 0.0</text>\n<text text-anchor=\"middle\" x=\"5153.5\" y=\"-982.3\" font-family=\"Times,serif\" font-size=\"14.00\" fill=\"#000000\">samples = 1</text>\n<text text-anchor=\"middle\" x=\"5153.5\" y=\"-967.3\" font-family=\"Times,serif\" font-size=\"14.00\" fill=\"#000000\">value = [1, 0]</text>\n<text text-anchor=\"middle\" x=\"5153.5\" y=\"-952.3\" font-family=\"Times,serif\" font-size=\"14.00\" fill=\"#000000\">class = S</text>\n</g>\n<!-- 309&#45;&gt;310 -->\n<g id=\"edge310\" class=\"edge\">\n<title>309&#45;&gt;310</title>\n<path fill=\"none\" stroke=\"#000000\" d=\"M5171.707,-1055.8796C5169.1714,-1045.1034 5166.4329,-1033.4647 5163.8689,-1022.5677\"/>\n<polygon fill=\"#000000\" stroke=\"#000000\" points=\"5167.2715,-1021.7474 5161.5741,-1012.8149 5160.4576,-1023.3508 5167.2715,-1021.7474\"/>\n</g>\n<!-- 311 -->\n<g id=\"node312\" class=\"node\">\n<title>311</title>\n<polygon fill=\"#399de5\" stroke=\"#000000\" points=\"5314,-1012.5 5219,-1012.5 5219,-944.5 5314,-944.5 5314,-1012.5\"/>\n<text text-anchor=\"middle\" x=\"5266.5\" y=\"-997.3\" font-family=\"Times,serif\" font-size=\"14.00\" fill=\"#000000\">gini = 0.0</text>\n<text text-anchor=\"middle\" x=\"5266.5\" y=\"-982.3\" font-family=\"Times,serif\" font-size=\"14.00\" fill=\"#000000\">samples = 1</text>\n<text text-anchor=\"middle\" x=\"5266.5\" y=\"-967.3\" font-family=\"Times,serif\" font-size=\"14.00\" fill=\"#000000\">value = [0, 1]</text>\n<text text-anchor=\"middle\" x=\"5266.5\" y=\"-952.3\" font-family=\"Times,serif\" font-size=\"14.00\" fill=\"#000000\">class = u</text>\n</g>\n<!-- 309&#45;&gt;311 -->\n<g id=\"edge311\" class=\"edge\">\n<title>309&#45;&gt;311</title>\n<path fill=\"none\" stroke=\"#000000\" d=\"M5211.2289,-1055.8796C5219.2403,-1044.6636 5227.9192,-1032.5131 5235.9734,-1021.2372\"/>\n<polygon fill=\"#000000\" stroke=\"#000000\" points=\"5239.025,-1022.9866 5241.9893,-1012.8149 5233.3288,-1018.9179 5239.025,-1022.9866\"/>\n</g>\n<!-- 315 -->\n<g id=\"node316\" class=\"node\">\n<title>315</title>\n<polygon fill=\"#f5d0b5\" stroke=\"#000000\" points=\"5633,-1377 5538,-1377 5538,-1294 5633,-1294 5633,-1377\"/>\n<text text-anchor=\"middle\" x=\"5585.5\" y=\"-1361.8\" font-family=\"Times,serif\" font-size=\"14.00\" fill=\"#000000\">Age &lt;= 41.5</text>\n<text text-anchor=\"middle\" x=\"5585.5\" y=\"-1346.8\" font-family=\"Times,serif\" font-size=\"14.00\" fill=\"#000000\">gini = 0.473</text>\n<text text-anchor=\"middle\" x=\"5585.5\" y=\"-1331.8\" font-family=\"Times,serif\" font-size=\"14.00\" fill=\"#000000\">samples = 13</text>\n<text text-anchor=\"middle\" x=\"5585.5\" y=\"-1316.8\" font-family=\"Times,serif\" font-size=\"14.00\" fill=\"#000000\">value = [8, 5]</text>\n<text text-anchor=\"middle\" x=\"5585.5\" y=\"-1301.8\" font-family=\"Times,serif\" font-size=\"14.00\" fill=\"#000000\">class = S</text>\n</g>\n<!-- 314&#45;&gt;315 -->\n<g id=\"edge315\" class=\"edge\">\n<title>314&#45;&gt;315</title>\n<path fill=\"none\" stroke=\"#000000\" d=\"M5585.5,-1412.8796C5585.5,-1404.6838 5585.5,-1395.9891 5585.5,-1387.5013\"/>\n<polygon fill=\"#000000\" stroke=\"#000000\" points=\"5589.0001,-1387.298 5585.5,-1377.2981 5582.0001,-1387.2981 5589.0001,-1387.298\"/>\n</g>\n<!-- 328 -->\n<g id=\"node329\" class=\"node\">\n<title>328</title>\n<polygon fill=\"#e89253\" stroke=\"#000000\" points=\"5773.5,-1377 5657.5,-1377 5657.5,-1294 5773.5,-1294 5773.5,-1377\"/>\n<text text-anchor=\"middle\" x=\"5715.5\" y=\"-1361.8\" font-family=\"Times,serif\" font-size=\"14.00\" fill=\"#000000\">Age &lt;= 19.5</text>\n<text text-anchor=\"middle\" x=\"5715.5\" y=\"-1346.8\" font-family=\"Times,serif\" font-size=\"14.00\" fill=\"#000000\">gini = 0.207</text>\n<text text-anchor=\"middle\" x=\"5715.5\" y=\"-1331.8\" font-family=\"Times,serif\" font-size=\"14.00\" fill=\"#000000\">samples = 128</text>\n<text text-anchor=\"middle\" x=\"5715.5\" y=\"-1316.8\" font-family=\"Times,serif\" font-size=\"14.00\" fill=\"#000000\">value = [113, 15]</text>\n<text text-anchor=\"middle\" x=\"5715.5\" y=\"-1301.8\" font-family=\"Times,serif\" font-size=\"14.00\" fill=\"#000000\">class = S</text>\n</g>\n<!-- 314&#45;&gt;328 -->\n<g id=\"edge328\" class=\"edge\">\n<title>314&#45;&gt;328</title>\n<path fill=\"none\" stroke=\"#000000\" d=\"M5630.9677,-1412.8796C5641.1017,-1403.6031 5651.934,-1393.6874 5662.3465,-1384.1559\"/>\n<polygon fill=\"#000000\" stroke=\"#000000\" points=\"5664.8252,-1386.6319 5669.8382,-1377.2981 5660.0987,-1381.4685 5664.8252,-1386.6319\"/>\n</g>\n<!-- 316 -->\n<g id=\"node317\" class=\"node\">\n<title>316</title>\n<polygon fill=\"#f2c09c\" stroke=\"#000000\" points=\"5523,-1258 5428,-1258 5428,-1175 5523,-1175 5523,-1258\"/>\n<text text-anchor=\"middle\" x=\"5475.5\" y=\"-1242.8\" font-family=\"Times,serif\" font-size=\"14.00\" fill=\"#000000\">SibSp &lt;= 1.5</text>\n<text text-anchor=\"middle\" x=\"5475.5\" y=\"-1227.8\" font-family=\"Times,serif\" font-size=\"14.00\" fill=\"#000000\">gini = 0.444</text>\n<text text-anchor=\"middle\" x=\"5475.5\" y=\"-1212.8\" font-family=\"Times,serif\" font-size=\"14.00\" fill=\"#000000\">samples = 12</text>\n<text text-anchor=\"middle\" x=\"5475.5\" y=\"-1197.8\" font-family=\"Times,serif\" font-size=\"14.00\" fill=\"#000000\">value = [8, 4]</text>\n<text text-anchor=\"middle\" x=\"5475.5\" y=\"-1182.8\" font-family=\"Times,serif\" font-size=\"14.00\" fill=\"#000000\">class = S</text>\n</g>\n<!-- 315&#45;&gt;316 -->\n<g id=\"edge316\" class=\"edge\">\n<title>315&#45;&gt;316</title>\n<path fill=\"none\" stroke=\"#000000\" d=\"M5547.0273,-1293.8796C5538.6189,-1284.7832 5529.6424,-1275.0722 5520.9897,-1265.7116\"/>\n<polygon fill=\"#000000\" stroke=\"#000000\" points=\"5523.495,-1263.2656 5514.1369,-1258.2981 5518.3547,-1268.0172 5523.495,-1263.2656\"/>\n</g>\n<!-- 327 -->\n<g id=\"node328\" class=\"node\">\n<title>327</title>\n<polygon fill=\"#399de5\" stroke=\"#000000\" points=\"5636,-1250.5 5541,-1250.5 5541,-1182.5 5636,-1182.5 5636,-1250.5\"/>\n<text text-anchor=\"middle\" x=\"5588.5\" y=\"-1235.3\" font-family=\"Times,serif\" font-size=\"14.00\" fill=\"#000000\">gini = 0.0</text>\n<text text-anchor=\"middle\" x=\"5588.5\" y=\"-1220.3\" font-family=\"Times,serif\" font-size=\"14.00\" fill=\"#000000\">samples = 1</text>\n<text text-anchor=\"middle\" x=\"5588.5\" y=\"-1205.3\" font-family=\"Times,serif\" font-size=\"14.00\" fill=\"#000000\">value = [0, 1]</text>\n<text text-anchor=\"middle\" x=\"5588.5\" y=\"-1190.3\" font-family=\"Times,serif\" font-size=\"14.00\" fill=\"#000000\">class = u</text>\n</g>\n<!-- 315&#45;&gt;327 -->\n<g id=\"edge327\" class=\"edge\">\n<title>315&#45;&gt;327</title>\n<path fill=\"none\" stroke=\"#000000\" d=\"M5586.5493,-1293.8796C5586.8182,-1283.2134 5587.1084,-1271.7021 5587.3806,-1260.9015\"/>\n<polygon fill=\"#000000\" stroke=\"#000000\" points=\"5590.8817,-1260.9 5587.6349,-1250.8149 5583.8839,-1260.7235 5590.8817,-1260.9\"/>\n</g>\n<!-- 317 -->\n<g id=\"node318\" class=\"node\">\n<title>317</title>\n<polygon fill=\"#f6d5bd\" stroke=\"#000000\" points=\"5477,-1139 5382,-1139 5382,-1056 5477,-1056 5477,-1139\"/>\n<text text-anchor=\"middle\" x=\"5429.5\" y=\"-1123.8\" font-family=\"Times,serif\" font-size=\"14.00\" fill=\"#000000\">SibSp &lt;= 0.5</text>\n<text text-anchor=\"middle\" x=\"5429.5\" y=\"-1108.8\" font-family=\"Times,serif\" font-size=\"14.00\" fill=\"#000000\">gini = 0.48</text>\n<text text-anchor=\"middle\" x=\"5429.5\" y=\"-1093.8\" font-family=\"Times,serif\" font-size=\"14.00\" fill=\"#000000\">samples = 10</text>\n<text text-anchor=\"middle\" x=\"5429.5\" y=\"-1078.8\" font-family=\"Times,serif\" font-size=\"14.00\" fill=\"#000000\">value = [6, 4]</text>\n<text text-anchor=\"middle\" x=\"5429.5\" y=\"-1063.8\" font-family=\"Times,serif\" font-size=\"14.00\" fill=\"#000000\">class = S</text>\n</g>\n<!-- 316&#45;&gt;317 -->\n<g id=\"edge317\" class=\"edge\">\n<title>316&#45;&gt;317</title>\n<path fill=\"none\" stroke=\"#000000\" d=\"M5459.4114,-1174.8796C5456.1389,-1166.4136 5452.6605,-1157.4153 5449.2771,-1148.6626\"/>\n<polygon fill=\"#000000\" stroke=\"#000000\" points=\"5452.5274,-1147.3635 5445.6572,-1139.2981 5445.9983,-1149.8874 5452.5274,-1147.3635\"/>\n</g>\n<!-- 326 -->\n<g id=\"node327\" class=\"node\">\n<title>326</title>\n<polygon fill=\"#e58139\" stroke=\"#000000\" points=\"5590,-1131.5 5495,-1131.5 5495,-1063.5 5590,-1063.5 5590,-1131.5\"/>\n<text text-anchor=\"middle\" x=\"5542.5\" y=\"-1116.3\" font-family=\"Times,serif\" font-size=\"14.00\" fill=\"#000000\">gini = 0.0</text>\n<text text-anchor=\"middle\" x=\"5542.5\" y=\"-1101.3\" font-family=\"Times,serif\" font-size=\"14.00\" fill=\"#000000\">samples = 2</text>\n<text text-anchor=\"middle\" x=\"5542.5\" y=\"-1086.3\" font-family=\"Times,serif\" font-size=\"14.00\" fill=\"#000000\">value = [2, 0]</text>\n<text text-anchor=\"middle\" x=\"5542.5\" y=\"-1071.3\" font-family=\"Times,serif\" font-size=\"14.00\" fill=\"#000000\">class = S</text>\n</g>\n<!-- 316&#45;&gt;326 -->\n<g id=\"edge326\" class=\"edge\">\n<title>316&#45;&gt;326</title>\n<path fill=\"none\" stroke=\"#000000\" d=\"M5498.9333,-1174.8796C5505.1863,-1163.7735 5511.9552,-1151.7513 5518.251,-1140.5691\"/>\n<polygon fill=\"#000000\" stroke=\"#000000\" points=\"5521.3235,-1142.2459 5523.1798,-1131.8149 5515.2239,-1138.8116 5521.3235,-1142.2459\"/>\n</g>\n<!-- 318 -->\n<g id=\"node319\" class=\"node\">\n<title>318</title>\n<polygon fill=\"#f2c09c\" stroke=\"#000000\" points=\"5427,-1020 5332,-1020 5332,-937 5427,-937 5427,-1020\"/>\n<text text-anchor=\"middle\" x=\"5379.5\" y=\"-1004.8\" font-family=\"Times,serif\" font-size=\"14.00\" fill=\"#000000\">Age &lt;= 26.0</text>\n<text text-anchor=\"middle\" x=\"5379.5\" y=\"-989.8\" font-family=\"Times,serif\" font-size=\"14.00\" fill=\"#000000\">gini = 0.444</text>\n<text text-anchor=\"middle\" x=\"5379.5\" y=\"-974.8\" font-family=\"Times,serif\" font-size=\"14.00\" fill=\"#000000\">samples = 9</text>\n<text text-anchor=\"middle\" x=\"5379.5\" y=\"-959.8\" font-family=\"Times,serif\" font-size=\"14.00\" fill=\"#000000\">value = [6, 3]</text>\n<text text-anchor=\"middle\" x=\"5379.5\" y=\"-944.8\" font-family=\"Times,serif\" font-size=\"14.00\" fill=\"#000000\">class = S</text>\n</g>\n<!-- 317&#45;&gt;318 -->\n<g id=\"edge318\" class=\"edge\">\n<title>317&#45;&gt;318</title>\n<path fill=\"none\" stroke=\"#000000\" d=\"M5412.0124,-1055.8796C5408.4553,-1047.4136 5404.6745,-1038.4153 5400.9969,-1029.6626\"/>\n<polygon fill=\"#000000\" stroke=\"#000000\" points=\"5404.1627,-1028.1616 5397.0622,-1020.2981 5397.7092,-1030.8731 5404.1627,-1028.1616\"/>\n</g>\n<!-- 325 -->\n<g id=\"node326\" class=\"node\">\n<title>325</title>\n<polygon fill=\"#399de5\" stroke=\"#000000\" points=\"5540,-1012.5 5445,-1012.5 5445,-944.5 5540,-944.5 5540,-1012.5\"/>\n<text text-anchor=\"middle\" x=\"5492.5\" y=\"-997.3\" font-family=\"Times,serif\" font-size=\"14.00\" fill=\"#000000\">gini = 0.0</text>\n<text text-anchor=\"middle\" x=\"5492.5\" y=\"-982.3\" font-family=\"Times,serif\" font-size=\"14.00\" fill=\"#000000\">samples = 1</text>\n<text text-anchor=\"middle\" x=\"5492.5\" y=\"-967.3\" font-family=\"Times,serif\" font-size=\"14.00\" fill=\"#000000\">value = [0, 1]</text>\n<text text-anchor=\"middle\" x=\"5492.5\" y=\"-952.3\" font-family=\"Times,serif\" font-size=\"14.00\" fill=\"#000000\">class = u</text>\n</g>\n<!-- 317&#45;&gt;325 -->\n<g id=\"edge325\" class=\"edge\">\n<title>317&#45;&gt;325</title>\n<path fill=\"none\" stroke=\"#000000\" d=\"M5451.5343,-1055.8796C5457.3558,-1044.8835 5463.6527,-1032.9893 5469.5227,-1021.9015\"/>\n<polygon fill=\"#000000\" stroke=\"#000000\" points=\"5472.7476,-1023.2905 5474.3333,-1012.8149 5466.5611,-1020.0152 5472.7476,-1023.2905\"/>\n</g>\n<!-- 319 -->\n<g id=\"node320\" class=\"node\">\n<title>319</title>\n<polygon fill=\"#e58139\" stroke=\"#000000\" points=\"5427,-893.5 5332,-893.5 5332,-825.5 5427,-825.5 5427,-893.5\"/>\n<text text-anchor=\"middle\" x=\"5379.5\" y=\"-878.3\" font-family=\"Times,serif\" font-size=\"14.00\" fill=\"#000000\">gini = 0.0</text>\n<text text-anchor=\"middle\" x=\"5379.5\" y=\"-863.3\" font-family=\"Times,serif\" font-size=\"14.00\" fill=\"#000000\">samples = 3</text>\n<text text-anchor=\"middle\" x=\"5379.5\" y=\"-848.3\" font-family=\"Times,serif\" font-size=\"14.00\" fill=\"#000000\">value = [3, 0]</text>\n<text text-anchor=\"middle\" x=\"5379.5\" y=\"-833.3\" font-family=\"Times,serif\" font-size=\"14.00\" fill=\"#000000\">class = S</text>\n</g>\n<!-- 318&#45;&gt;319 -->\n<g id=\"edge319\" class=\"edge\">\n<title>318&#45;&gt;319</title>\n<path fill=\"none\" stroke=\"#000000\" d=\"M5379.5,-936.8796C5379.5,-926.2134 5379.5,-914.7021 5379.5,-903.9015\"/>\n<polygon fill=\"#000000\" stroke=\"#000000\" points=\"5383.0001,-903.8149 5379.5,-893.8149 5376.0001,-903.815 5383.0001,-903.8149\"/>\n</g>\n<!-- 320 -->\n<g id=\"node321\" class=\"node\">\n<title>320</title>\n<polygon fill=\"#ffffff\" stroke=\"#000000\" points=\"5543,-901 5448,-901 5448,-818 5543,-818 5543,-901\"/>\n<text text-anchor=\"middle\" x=\"5495.5\" y=\"-885.8\" font-family=\"Times,serif\" font-size=\"14.00\" fill=\"#000000\">Age &lt;= 31.5</text>\n<text text-anchor=\"middle\" x=\"5495.5\" y=\"-870.8\" font-family=\"Times,serif\" font-size=\"14.00\" fill=\"#000000\">gini = 0.5</text>\n<text text-anchor=\"middle\" x=\"5495.5\" y=\"-855.8\" font-family=\"Times,serif\" font-size=\"14.00\" fill=\"#000000\">samples = 6</text>\n<text text-anchor=\"middle\" x=\"5495.5\" y=\"-840.8\" font-family=\"Times,serif\" font-size=\"14.00\" fill=\"#000000\">value = [3, 3]</text>\n<text text-anchor=\"middle\" x=\"5495.5\" y=\"-825.8\" font-family=\"Times,serif\" font-size=\"14.00\" fill=\"#000000\">class = S</text>\n</g>\n<!-- 318&#45;&gt;320 -->\n<g id=\"edge320\" class=\"edge\">\n<title>318&#45;&gt;320</title>\n<path fill=\"none\" stroke=\"#000000\" d=\"M5420.0712,-936.8796C5428.9382,-927.7832 5438.4044,-918.0722 5447.5291,-908.7116\"/>\n<polygon fill=\"#000000\" stroke=\"#000000\" points=\"5450.2817,-910.9019 5454.7557,-901.2981 5445.2691,-906.0158 5450.2817,-910.9019\"/>\n</g>\n<!-- 321 -->\n<g id=\"node322\" class=\"node\">\n<title>321</title>\n<polygon fill=\"#399de5\" stroke=\"#000000\" points=\"5543,-774.5 5448,-774.5 5448,-706.5 5543,-706.5 5543,-774.5\"/>\n<text text-anchor=\"middle\" x=\"5495.5\" y=\"-759.3\" font-family=\"Times,serif\" font-size=\"14.00\" fill=\"#000000\">gini = 0.0</text>\n<text text-anchor=\"middle\" x=\"5495.5\" y=\"-744.3\" font-family=\"Times,serif\" font-size=\"14.00\" fill=\"#000000\">samples = 1</text>\n<text text-anchor=\"middle\" x=\"5495.5\" y=\"-729.3\" font-family=\"Times,serif\" font-size=\"14.00\" fill=\"#000000\">value = [0, 1]</text>\n<text text-anchor=\"middle\" x=\"5495.5\" y=\"-714.3\" font-family=\"Times,serif\" font-size=\"14.00\" fill=\"#000000\">class = u</text>\n</g>\n<!-- 320&#45;&gt;321 -->\n<g id=\"edge321\" class=\"edge\">\n<title>320&#45;&gt;321</title>\n<path fill=\"none\" stroke=\"#000000\" d=\"M5495.5,-817.8796C5495.5,-807.2134 5495.5,-795.7021 5495.5,-784.9015\"/>\n<polygon fill=\"#000000\" stroke=\"#000000\" points=\"5499.0001,-784.8149 5495.5,-774.8149 5492.0001,-784.815 5499.0001,-784.8149\"/>\n</g>\n<!-- 322 -->\n<g id=\"node323\" class=\"node\">\n<title>322</title>\n<polygon fill=\"#f6d5bd\" stroke=\"#000000\" points=\"5656,-782 5561,-782 5561,-699 5656,-699 5656,-782\"/>\n<text text-anchor=\"middle\" x=\"5608.5\" y=\"-766.8\" font-family=\"Times,serif\" font-size=\"14.00\" fill=\"#000000\">Age &lt;= 35.5</text>\n<text text-anchor=\"middle\" x=\"5608.5\" y=\"-751.8\" font-family=\"Times,serif\" font-size=\"14.00\" fill=\"#000000\">gini = 0.48</text>\n<text text-anchor=\"middle\" x=\"5608.5\" y=\"-736.8\" font-family=\"Times,serif\" font-size=\"14.00\" fill=\"#000000\">samples = 5</text>\n<text text-anchor=\"middle\" x=\"5608.5\" y=\"-721.8\" font-family=\"Times,serif\" font-size=\"14.00\" fill=\"#000000\">value = [3, 2]</text>\n<text text-anchor=\"middle\" x=\"5608.5\" y=\"-706.8\" font-family=\"Times,serif\" font-size=\"14.00\" fill=\"#000000\">class = S</text>\n</g>\n<!-- 320&#45;&gt;322 -->\n<g id=\"edge322\" class=\"edge\">\n<title>320&#45;&gt;322</title>\n<path fill=\"none\" stroke=\"#000000\" d=\"M5535.0219,-817.8796C5543.6597,-808.7832 5552.881,-799.0722 5561.7697,-789.7116\"/>\n<polygon fill=\"#000000\" stroke=\"#000000\" points=\"5564.4615,-791.9597 5568.8094,-782.2981 5559.3854,-787.1395 5564.4615,-791.9597\"/>\n</g>\n<!-- 323 -->\n<g id=\"node324\" class=\"node\">\n<title>323</title>\n<polygon fill=\"#f2c09c\" stroke=\"#000000\" points=\"5654,-655.5 5559,-655.5 5559,-587.5 5654,-587.5 5654,-655.5\"/>\n<text text-anchor=\"middle\" x=\"5606.5\" y=\"-640.3\" font-family=\"Times,serif\" font-size=\"14.00\" fill=\"#000000\">gini = 0.444</text>\n<text text-anchor=\"middle\" x=\"5606.5\" y=\"-625.3\" font-family=\"Times,serif\" font-size=\"14.00\" fill=\"#000000\">samples = 3</text>\n<text text-anchor=\"middle\" x=\"5606.5\" y=\"-610.3\" font-family=\"Times,serif\" font-size=\"14.00\" fill=\"#000000\">value = [2, 1]</text>\n<text text-anchor=\"middle\" x=\"5606.5\" y=\"-595.3\" font-family=\"Times,serif\" font-size=\"14.00\" fill=\"#000000\">class = S</text>\n</g>\n<!-- 322&#45;&gt;323 -->\n<g id=\"edge323\" class=\"edge\">\n<title>322&#45;&gt;323</title>\n<path fill=\"none\" stroke=\"#000000\" d=\"M5607.8005,-698.8796C5607.6212,-688.2134 5607.4278,-676.7021 5607.2462,-665.9015\"/>\n<polygon fill=\"#000000\" stroke=\"#000000\" points=\"5610.7444,-665.7547 5607.0767,-655.8149 5603.7454,-665.8724 5610.7444,-665.7547\"/>\n</g>\n<!-- 324 -->\n<g id=\"node325\" class=\"node\">\n<title>324</title>\n<polygon fill=\"#ffffff\" stroke=\"#000000\" points=\"5767,-655.5 5672,-655.5 5672,-587.5 5767,-587.5 5767,-655.5\"/>\n<text text-anchor=\"middle\" x=\"5719.5\" y=\"-640.3\" font-family=\"Times,serif\" font-size=\"14.00\" fill=\"#000000\">gini = 0.5</text>\n<text text-anchor=\"middle\" x=\"5719.5\" y=\"-625.3\" font-family=\"Times,serif\" font-size=\"14.00\" fill=\"#000000\">samples = 2</text>\n<text text-anchor=\"middle\" x=\"5719.5\" y=\"-610.3\" font-family=\"Times,serif\" font-size=\"14.00\" fill=\"#000000\">value = [1, 1]</text>\n<text text-anchor=\"middle\" x=\"5719.5\" y=\"-595.3\" font-family=\"Times,serif\" font-size=\"14.00\" fill=\"#000000\">class = S</text>\n</g>\n<!-- 322&#45;&gt;324 -->\n<g id=\"edge324\" class=\"edge\">\n<title>322&#45;&gt;324</title>\n<path fill=\"none\" stroke=\"#000000\" d=\"M5647.3224,-698.8796C5658.0921,-687.3337 5669.7854,-674.7976 5680.5617,-663.2446\"/>\n<polygon fill=\"#000000\" stroke=\"#000000\" points=\"5683.2303,-665.5149 5687.492,-655.8149 5678.1115,-660.7402 5683.2303,-665.5149\"/>\n</g>\n<!-- 329 -->\n<g id=\"node330\" class=\"node\">\n<title>329</title>\n<polygon fill=\"#eca06a\" stroke=\"#000000\" points=\"5768.5,-1258 5666.5,-1258 5666.5,-1175 5768.5,-1175 5768.5,-1258\"/>\n<text text-anchor=\"middle\" x=\"5717.5\" y=\"-1242.8\" font-family=\"Times,serif\" font-size=\"14.00\" fill=\"#000000\">Fare &lt;= 8.104</text>\n<text text-anchor=\"middle\" x=\"5717.5\" y=\"-1227.8\" font-family=\"Times,serif\" font-size=\"14.00\" fill=\"#000000\">gini = 0.32</text>\n<text text-anchor=\"middle\" x=\"5717.5\" y=\"-1212.8\" font-family=\"Times,serif\" font-size=\"14.00\" fill=\"#000000\">samples = 20</text>\n<text text-anchor=\"middle\" x=\"5717.5\" y=\"-1197.8\" font-family=\"Times,serif\" font-size=\"14.00\" fill=\"#000000\">value = [16, 4]</text>\n<text text-anchor=\"middle\" x=\"5717.5\" y=\"-1182.8\" font-family=\"Times,serif\" font-size=\"14.00\" fill=\"#000000\">class = S</text>\n</g>\n<!-- 328&#45;&gt;329 -->\n<g id=\"edge329\" class=\"edge\">\n<title>328&#45;&gt;329</title>\n<path fill=\"none\" stroke=\"#000000\" d=\"M5716.1995,-1293.8796C5716.3372,-1285.6838 5716.4834,-1276.9891 5716.626,-1268.5013\"/>\n<polygon fill=\"#000000\" stroke=\"#000000\" points=\"5720.1289,-1268.3555 5716.7975,-1258.2981 5713.1299,-1268.2378 5720.1289,-1268.3555\"/>\n</g>\n<!-- 342 -->\n<g id=\"node343\" class=\"node\">\n<title>342</title>\n<polygon fill=\"#e88f4f\" stroke=\"#000000\" points=\"6011,-1258 5902,-1258 5902,-1175 6011,-1175 6011,-1258\"/>\n<text text-anchor=\"middle\" x=\"5956.5\" y=\"-1242.8\" font-family=\"Times,serif\" font-size=\"14.00\" fill=\"#000000\">Age &lt;= 26.5</text>\n<text text-anchor=\"middle\" x=\"5956.5\" y=\"-1227.8\" font-family=\"Times,serif\" font-size=\"14.00\" fill=\"#000000\">gini = 0.183</text>\n<text text-anchor=\"middle\" x=\"5956.5\" y=\"-1212.8\" font-family=\"Times,serif\" font-size=\"14.00\" fill=\"#000000\">samples = 108</text>\n<text text-anchor=\"middle\" x=\"5956.5\" y=\"-1197.8\" font-family=\"Times,serif\" font-size=\"14.00\" fill=\"#000000\">value = [97, 11]</text>\n<text text-anchor=\"middle\" x=\"5956.5\" y=\"-1182.8\" font-family=\"Times,serif\" font-size=\"14.00\" fill=\"#000000\">class = S</text>\n</g>\n<!-- 328&#45;&gt;342 -->\n<g id=\"edge342\" class=\"edge\">\n<title>328&#45;&gt;342</title>\n<path fill=\"none\" stroke=\"#000000\" d=\"M5773.6928,-1298.8107C5776.6506,-1297.149 5779.5976,-1295.5362 5782.5,-1294 5818.0135,-1275.2035 5859.0133,-1256.791 5892.2911,-1242.6323\"/>\n<polygon fill=\"#000000\" stroke=\"#000000\" points=\"5894.0593,-1245.6848 5901.9075,-1238.5675 5891.3338,-1239.2372 5894.0593,-1245.6848\"/>\n</g>\n<!-- 330 -->\n<g id=\"node331\" class=\"node\">\n<title>330</title>\n<polygon fill=\"#bddef6\" stroke=\"#000000\" points=\"5765,-1139 5670,-1139 5670,-1056 5765,-1056 5765,-1139\"/>\n<text text-anchor=\"middle\" x=\"5717.5\" y=\"-1123.8\" font-family=\"Times,serif\" font-size=\"14.00\" fill=\"#000000\">Age &lt;= 17.0</text>\n<text text-anchor=\"middle\" x=\"5717.5\" y=\"-1108.8\" font-family=\"Times,serif\" font-size=\"14.00\" fill=\"#000000\">gini = 0.48</text>\n<text text-anchor=\"middle\" x=\"5717.5\" y=\"-1093.8\" font-family=\"Times,serif\" font-size=\"14.00\" fill=\"#000000\">samples = 5</text>\n<text text-anchor=\"middle\" x=\"5717.5\" y=\"-1078.8\" font-family=\"Times,serif\" font-size=\"14.00\" fill=\"#000000\">value = [2, 3]</text>\n<text text-anchor=\"middle\" x=\"5717.5\" y=\"-1063.8\" font-family=\"Times,serif\" font-size=\"14.00\" fill=\"#000000\">class = u</text>\n</g>\n<!-- 329&#45;&gt;330 -->\n<g id=\"edge330\" class=\"edge\">\n<title>329&#45;&gt;330</title>\n<path fill=\"none\" stroke=\"#000000\" d=\"M5717.5,-1174.8796C5717.5,-1166.6838 5717.5,-1157.9891 5717.5,-1149.5013\"/>\n<polygon fill=\"#000000\" stroke=\"#000000\" points=\"5721.0001,-1149.298 5717.5,-1139.2981 5714.0001,-1149.2981 5721.0001,-1149.298\"/>\n</g>\n<!-- 335 -->\n<g id=\"node336\" class=\"node\">\n<title>335</title>\n<polygon fill=\"#e78a47\" stroke=\"#000000\" points=\"5886.5,-1139 5784.5,-1139 5784.5,-1056 5886.5,-1056 5886.5,-1139\"/>\n<text text-anchor=\"middle\" x=\"5835.5\" y=\"-1123.8\" font-family=\"Times,serif\" font-size=\"14.00\" fill=\"#000000\">Age &lt;= 18.5</text>\n<text text-anchor=\"middle\" x=\"5835.5\" y=\"-1108.8\" font-family=\"Times,serif\" font-size=\"14.00\" fill=\"#000000\">gini = 0.124</text>\n<text text-anchor=\"middle\" x=\"5835.5\" y=\"-1093.8\" font-family=\"Times,serif\" font-size=\"14.00\" fill=\"#000000\">samples = 15</text>\n<text text-anchor=\"middle\" x=\"5835.5\" y=\"-1078.8\" font-family=\"Times,serif\" font-size=\"14.00\" fill=\"#000000\">value = [14, 1]</text>\n<text text-anchor=\"middle\" x=\"5835.5\" y=\"-1063.8\" font-family=\"Times,serif\" font-size=\"14.00\" fill=\"#000000\">class = S</text>\n</g>\n<!-- 329&#45;&gt;335 -->\n<g id=\"edge335\" class=\"edge\">\n<title>329&#45;&gt;335</title>\n<path fill=\"none\" stroke=\"#000000\" d=\"M5758.7707,-1174.8796C5767.8799,-1165.6931 5777.6108,-1155.8798 5786.9776,-1146.4336\"/>\n<polygon fill=\"#000000\" stroke=\"#000000\" points=\"5789.4973,-1148.8634 5794.0532,-1139.2981 5784.5267,-1143.9345 5789.4973,-1148.8634\"/>\n</g>\n<!-- 331 -->\n<g id=\"node332\" class=\"node\">\n<title>331</title>\n<polygon fill=\"#ffffff\" stroke=\"#000000\" points=\"5653,-1012.5 5558,-1012.5 5558,-944.5 5653,-944.5 5653,-1012.5\"/>\n<text text-anchor=\"middle\" x=\"5605.5\" y=\"-997.3\" font-family=\"Times,serif\" font-size=\"14.00\" fill=\"#000000\">gini = 0.5</text>\n<text text-anchor=\"middle\" x=\"5605.5\" y=\"-982.3\" font-family=\"Times,serif\" font-size=\"14.00\" fill=\"#000000\">samples = 2</text>\n<text text-anchor=\"middle\" x=\"5605.5\" y=\"-967.3\" font-family=\"Times,serif\" font-size=\"14.00\" fill=\"#000000\">value = [1, 1]</text>\n<text text-anchor=\"middle\" x=\"5605.5\" y=\"-952.3\" font-family=\"Times,serif\" font-size=\"14.00\" fill=\"#000000\">class = S</text>\n</g>\n<!-- 330&#45;&gt;331 -->\n<g id=\"edge331\" class=\"edge\">\n<title>330&#45;&gt;331</title>\n<path fill=\"none\" stroke=\"#000000\" d=\"M5678.3278,-1055.8796C5667.4611,-1044.3337 5655.6624,-1031.7976 5644.7891,-1020.2446\"/>\n<polygon fill=\"#000000\" stroke=\"#000000\" points=\"5647.1988,-1017.6982 5637.7964,-1012.8149 5642.1014,-1022.4958 5647.1988,-1017.6982\"/>\n</g>\n<!-- 332 -->\n<g id=\"node333\" class=\"node\">\n<title>332</title>\n<polygon fill=\"#9ccef2\" stroke=\"#000000\" points=\"5766,-1020 5671,-1020 5671,-937 5766,-937 5766,-1020\"/>\n<text text-anchor=\"middle\" x=\"5718.5\" y=\"-1004.8\" font-family=\"Times,serif\" font-size=\"14.00\" fill=\"#000000\">Age &lt;= 18.5</text>\n<text text-anchor=\"middle\" x=\"5718.5\" y=\"-989.8\" font-family=\"Times,serif\" font-size=\"14.00\" fill=\"#000000\">gini = 0.444</text>\n<text text-anchor=\"middle\" x=\"5718.5\" y=\"-974.8\" font-family=\"Times,serif\" font-size=\"14.00\" fill=\"#000000\">samples = 3</text>\n<text text-anchor=\"middle\" x=\"5718.5\" y=\"-959.8\" font-family=\"Times,serif\" font-size=\"14.00\" fill=\"#000000\">value = [1, 2]</text>\n<text text-anchor=\"middle\" x=\"5718.5\" y=\"-944.8\" font-family=\"Times,serif\" font-size=\"14.00\" fill=\"#000000\">class = u</text>\n</g>\n<!-- 330&#45;&gt;332 -->\n<g id=\"edge332\" class=\"edge\">\n<title>330&#45;&gt;332</title>\n<path fill=\"none\" stroke=\"#000000\" d=\"M5717.8498,-1055.8796C5717.9186,-1047.6838 5717.9917,-1038.9891 5718.063,-1030.5013\"/>\n<polygon fill=\"#000000\" stroke=\"#000000\" points=\"5721.5645,-1030.3272 5718.1488,-1020.2981 5714.5648,-1030.2683 5721.5645,-1030.3272\"/>\n</g>\n<!-- 333 -->\n<g id=\"node334\" class=\"node\">\n<title>333</title>\n<polygon fill=\"#399de5\" stroke=\"#000000\" points=\"5659,-893.5 5564,-893.5 5564,-825.5 5659,-825.5 5659,-893.5\"/>\n<text text-anchor=\"middle\" x=\"5611.5\" y=\"-878.3\" font-family=\"Times,serif\" font-size=\"14.00\" fill=\"#000000\">gini = 0.0</text>\n<text text-anchor=\"middle\" x=\"5611.5\" y=\"-863.3\" font-family=\"Times,serif\" font-size=\"14.00\" fill=\"#000000\">samples = 1</text>\n<text text-anchor=\"middle\" x=\"5611.5\" y=\"-848.3\" font-family=\"Times,serif\" font-size=\"14.00\" fill=\"#000000\">value = [0, 1]</text>\n<text text-anchor=\"middle\" x=\"5611.5\" y=\"-833.3\" font-family=\"Times,serif\" font-size=\"14.00\" fill=\"#000000\">class = u</text>\n</g>\n<!-- 332&#45;&gt;333 -->\n<g id=\"edge333\" class=\"edge\">\n<title>332&#45;&gt;333</title>\n<path fill=\"none\" stroke=\"#000000\" d=\"M5681.0766,-936.8796C5670.7939,-925.4436 5659.6377,-913.0363 5649.3321,-901.575\"/>\n<polygon fill=\"#000000\" stroke=\"#000000\" points=\"5651.6435,-898.9108 5642.3546,-893.8149 5646.4382,-903.5912 5651.6435,-898.9108\"/>\n</g>\n<!-- 334 -->\n<g id=\"node335\" class=\"node\">\n<title>334</title>\n<polygon fill=\"#ffffff\" stroke=\"#000000\" points=\"5772,-893.5 5677,-893.5 5677,-825.5 5772,-825.5 5772,-893.5\"/>\n<text text-anchor=\"middle\" x=\"5724.5\" y=\"-878.3\" font-family=\"Times,serif\" font-size=\"14.00\" fill=\"#000000\">gini = 0.5</text>\n<text text-anchor=\"middle\" x=\"5724.5\" y=\"-863.3\" font-family=\"Times,serif\" font-size=\"14.00\" fill=\"#000000\">samples = 2</text>\n<text text-anchor=\"middle\" x=\"5724.5\" y=\"-848.3\" font-family=\"Times,serif\" font-size=\"14.00\" fill=\"#000000\">value = [1, 1]</text>\n<text text-anchor=\"middle\" x=\"5724.5\" y=\"-833.3\" font-family=\"Times,serif\" font-size=\"14.00\" fill=\"#000000\">class = S</text>\n</g>\n<!-- 332&#45;&gt;334 -->\n<g id=\"edge334\" class=\"edge\">\n<title>332&#45;&gt;334</title>\n<path fill=\"none\" stroke=\"#000000\" d=\"M5720.5985,-936.8796C5721.1363,-926.2134 5721.7167,-914.7021 5722.2613,-903.9015\"/>\n<polygon fill=\"#000000\" stroke=\"#000000\" points=\"5725.7617,-903.9785 5722.7698,-893.8149 5718.7706,-903.626 5725.7617,-903.9785\"/>\n</g>\n<!-- 336 -->\n<g id=\"node337\" class=\"node\">\n<title>336</title>\n<polygon fill=\"#e58139\" stroke=\"#000000\" points=\"5886.5,-1012.5 5784.5,-1012.5 5784.5,-944.5 5886.5,-944.5 5886.5,-1012.5\"/>\n<text text-anchor=\"middle\" x=\"5835.5\" y=\"-997.3\" font-family=\"Times,serif\" font-size=\"14.00\" fill=\"#000000\">gini = 0.0</text>\n<text text-anchor=\"middle\" x=\"5835.5\" y=\"-982.3\" font-family=\"Times,serif\" font-size=\"14.00\" fill=\"#000000\">samples = 10</text>\n<text text-anchor=\"middle\" x=\"5835.5\" y=\"-967.3\" font-family=\"Times,serif\" font-size=\"14.00\" fill=\"#000000\">value = [10, 0]</text>\n<text text-anchor=\"middle\" x=\"5835.5\" y=\"-952.3\" font-family=\"Times,serif\" font-size=\"14.00\" fill=\"#000000\">class = S</text>\n</g>\n<!-- 335&#45;&gt;336 -->\n<g id=\"edge336\" class=\"edge\">\n<title>335&#45;&gt;336</title>\n<path fill=\"none\" stroke=\"#000000\" d=\"M5835.5,-1055.8796C5835.5,-1045.2134 5835.5,-1033.7021 5835.5,-1022.9015\"/>\n<polygon fill=\"#000000\" stroke=\"#000000\" points=\"5839.0001,-1022.8149 5835.5,-1012.8149 5832.0001,-1022.815 5839.0001,-1022.8149\"/>\n</g>\n<!-- 337 -->\n<g id=\"node338\" class=\"node\">\n<title>337</title>\n<polygon fill=\"#eca06a\" stroke=\"#000000\" points=\"6012,-1020 5905,-1020 5905,-937 6012,-937 6012,-1020\"/>\n<text text-anchor=\"middle\" x=\"5958.5\" y=\"-1004.8\" font-family=\"Times,serif\" font-size=\"14.00\" fill=\"#000000\">Fare &lt;= 10.335</text>\n<text text-anchor=\"middle\" x=\"5958.5\" y=\"-989.8\" font-family=\"Times,serif\" font-size=\"14.00\" fill=\"#000000\">gini = 0.32</text>\n<text text-anchor=\"middle\" x=\"5958.5\" y=\"-974.8\" font-family=\"Times,serif\" font-size=\"14.00\" fill=\"#000000\">samples = 5</text>\n<text text-anchor=\"middle\" x=\"5958.5\" y=\"-959.8\" font-family=\"Times,serif\" font-size=\"14.00\" fill=\"#000000\">value = [4, 1]</text>\n<text text-anchor=\"middle\" x=\"5958.5\" y=\"-944.8\" font-family=\"Times,serif\" font-size=\"14.00\" fill=\"#000000\">class = S</text>\n</g>\n<!-- 335&#45;&gt;337 -->\n<g id=\"edge337\" class=\"edge\">\n<title>335&#45;&gt;337</title>\n<path fill=\"none\" stroke=\"#000000\" d=\"M5878.5194,-1055.8796C5888.0147,-1046.6931 5898.1578,-1036.8798 5907.9215,-1027.4336\"/>\n<polygon fill=\"#000000\" stroke=\"#000000\" points=\"5910.5436,-1029.7668 5915.297,-1020.2981 5905.6763,-1024.7359 5910.5436,-1029.7668\"/>\n</g>\n<!-- 338 -->\n<g id=\"node339\" class=\"node\">\n<title>338</title>\n<polygon fill=\"#e58139\" stroke=\"#000000\" points=\"5891,-893.5 5796,-893.5 5796,-825.5 5891,-825.5 5891,-893.5\"/>\n<text text-anchor=\"middle\" x=\"5843.5\" y=\"-878.3\" font-family=\"Times,serif\" font-size=\"14.00\" fill=\"#000000\">gini = 0.0</text>\n<text text-anchor=\"middle\" x=\"5843.5\" y=\"-863.3\" font-family=\"Times,serif\" font-size=\"14.00\" fill=\"#000000\">samples = 2</text>\n<text text-anchor=\"middle\" x=\"5843.5\" y=\"-848.3\" font-family=\"Times,serif\" font-size=\"14.00\" fill=\"#000000\">value = [2, 0]</text>\n<text text-anchor=\"middle\" x=\"5843.5\" y=\"-833.3\" font-family=\"Times,serif\" font-size=\"14.00\" fill=\"#000000\">class = S</text>\n</g>\n<!-- 337&#45;&gt;338 -->\n<g id=\"edge338\" class=\"edge\">\n<title>337&#45;&gt;338</title>\n<path fill=\"none\" stroke=\"#000000\" d=\"M5918.2786,-936.8796C5907.1208,-925.3337 5895.0061,-912.7976 5883.8414,-901.2446\"/>\n<polygon fill=\"#000000\" stroke=\"#000000\" points=\"5886.1275,-898.5736 5876.6615,-893.8149 5881.0939,-903.4381 5886.1275,-898.5736\"/>\n</g>\n<!-- 339 -->\n<g id=\"node340\" class=\"node\">\n<title>339</title>\n<polygon fill=\"#f2c09c\" stroke=\"#000000\" points=\"6007.5,-901 5909.5,-901 5909.5,-818 6007.5,-818 6007.5,-901\"/>\n<text text-anchor=\"middle\" x=\"5958.5\" y=\"-885.8\" font-family=\"Times,serif\" font-size=\"14.00\" fill=\"#000000\">Fare &lt;= 11.75</text>\n<text text-anchor=\"middle\" x=\"5958.5\" y=\"-870.8\" font-family=\"Times,serif\" font-size=\"14.00\" fill=\"#000000\">gini = 0.444</text>\n<text text-anchor=\"middle\" x=\"5958.5\" y=\"-855.8\" font-family=\"Times,serif\" font-size=\"14.00\" fill=\"#000000\">samples = 3</text>\n<text text-anchor=\"middle\" x=\"5958.5\" y=\"-840.8\" font-family=\"Times,serif\" font-size=\"14.00\" fill=\"#000000\">value = [2, 1]</text>\n<text text-anchor=\"middle\" x=\"5958.5\" y=\"-825.8\" font-family=\"Times,serif\" font-size=\"14.00\" fill=\"#000000\">class = S</text>\n</g>\n<!-- 337&#45;&gt;339 -->\n<g id=\"edge339\" class=\"edge\">\n<title>337&#45;&gt;339</title>\n<path fill=\"none\" stroke=\"#000000\" d=\"M5958.5,-936.8796C5958.5,-928.6838 5958.5,-919.9891 5958.5,-911.5013\"/>\n<polygon fill=\"#000000\" stroke=\"#000000\" points=\"5962.0001,-911.298 5958.5,-901.2981 5955.0001,-911.2981 5962.0001,-911.298\"/>\n</g>\n<!-- 340 -->\n<g id=\"node341\" class=\"node\">\n<title>340</title>\n<polygon fill=\"#ffffff\" stroke=\"#000000\" points=\"5897,-774.5 5802,-774.5 5802,-706.5 5897,-706.5 5897,-774.5\"/>\n<text text-anchor=\"middle\" x=\"5849.5\" y=\"-759.3\" font-family=\"Times,serif\" font-size=\"14.00\" fill=\"#000000\">gini = 0.5</text>\n<text text-anchor=\"middle\" x=\"5849.5\" y=\"-744.3\" font-family=\"Times,serif\" font-size=\"14.00\" fill=\"#000000\">samples = 2</text>\n<text text-anchor=\"middle\" x=\"5849.5\" y=\"-729.3\" font-family=\"Times,serif\" font-size=\"14.00\" fill=\"#000000\">value = [1, 1]</text>\n<text text-anchor=\"middle\" x=\"5849.5\" y=\"-714.3\" font-family=\"Times,serif\" font-size=\"14.00\" fill=\"#000000\">class = S</text>\n</g>\n<!-- 339&#45;&gt;340 -->\n<g id=\"edge340\" class=\"edge\">\n<title>339&#45;&gt;340</title>\n<path fill=\"none\" stroke=\"#000000\" d=\"M5920.3771,-817.8796C5909.8014,-806.3337 5898.3188,-793.7976 5887.7367,-782.2446\"/>\n<polygon fill=\"#000000\" stroke=\"#000000\" points=\"5890.2667,-779.825 5880.9313,-774.8149 5885.1049,-784.5531 5890.2667,-779.825\"/>\n</g>\n<!-- 341 -->\n<g id=\"node342\" class=\"node\">\n<title>341</title>\n<polygon fill=\"#e58139\" stroke=\"#000000\" points=\"6010,-774.5 5915,-774.5 5915,-706.5 6010,-706.5 6010,-774.5\"/>\n<text text-anchor=\"middle\" x=\"5962.5\" y=\"-759.3\" font-family=\"Times,serif\" font-size=\"14.00\" fill=\"#000000\">gini = 0.0</text>\n<text text-anchor=\"middle\" x=\"5962.5\" y=\"-744.3\" font-family=\"Times,serif\" font-size=\"14.00\" fill=\"#000000\">samples = 1</text>\n<text text-anchor=\"middle\" x=\"5962.5\" y=\"-729.3\" font-family=\"Times,serif\" font-size=\"14.00\" fill=\"#000000\">value = [1, 0]</text>\n<text text-anchor=\"middle\" x=\"5962.5\" y=\"-714.3\" font-family=\"Times,serif\" font-size=\"14.00\" fill=\"#000000\">class = S</text>\n</g>\n<!-- 339&#45;&gt;341 -->\n<g id=\"edge341\" class=\"edge\">\n<title>339&#45;&gt;341</title>\n<path fill=\"none\" stroke=\"#000000\" d=\"M5959.899,-817.8796C5960.2575,-807.2134 5960.6445,-795.7021 5961.0075,-784.9015\"/>\n<polygon fill=\"#000000\" stroke=\"#000000\" points=\"5964.5085,-784.9269 5961.3466,-774.8149 5957.5125,-784.6917 5964.5085,-784.9269\"/>\n</g>\n<!-- 343 -->\n<g id=\"node344\" class=\"node\">\n<title>343</title>\n<polygon fill=\"#e58139\" stroke=\"#000000\" points=\"6007.5,-1131.5 5905.5,-1131.5 5905.5,-1063.5 6007.5,-1063.5 6007.5,-1131.5\"/>\n<text text-anchor=\"middle\" x=\"5956.5\" y=\"-1116.3\" font-family=\"Times,serif\" font-size=\"14.00\" fill=\"#000000\">gini = 0.0</text>\n<text text-anchor=\"middle\" x=\"5956.5\" y=\"-1101.3\" font-family=\"Times,serif\" font-size=\"14.00\" fill=\"#000000\">samples = 31</text>\n<text text-anchor=\"middle\" x=\"5956.5\" y=\"-1086.3\" font-family=\"Times,serif\" font-size=\"14.00\" fill=\"#000000\">value = [31, 0]</text>\n<text text-anchor=\"middle\" x=\"5956.5\" y=\"-1071.3\" font-family=\"Times,serif\" font-size=\"14.00\" fill=\"#000000\">class = S</text>\n</g>\n<!-- 342&#45;&gt;343 -->\n<g id=\"edge343\" class=\"edge\">\n<title>342&#45;&gt;343</title>\n<path fill=\"none\" stroke=\"#000000\" d=\"M5956.5,-1174.8796C5956.5,-1164.2134 5956.5,-1152.7021 5956.5,-1141.9015\"/>\n<polygon fill=\"#000000\" stroke=\"#000000\" points=\"5960.0001,-1141.8149 5956.5,-1131.8149 5953.0001,-1141.815 5960.0001,-1141.8149\"/>\n</g>\n<!-- 344 -->\n<g id=\"node345\" class=\"node\">\n<title>344</title>\n<polygon fill=\"#e9965a\" stroke=\"#000000\" points=\"6136,-1139 6027,-1139 6027,-1056 6136,-1056 6136,-1139\"/>\n<text text-anchor=\"middle\" x=\"6081.5\" y=\"-1123.8\" font-family=\"Times,serif\" font-size=\"14.00\" fill=\"#000000\">Fare &lt;= 8.081</text>\n<text text-anchor=\"middle\" x=\"6081.5\" y=\"-1108.8\" font-family=\"Times,serif\" font-size=\"14.00\" fill=\"#000000\">gini = 0.245</text>\n<text text-anchor=\"middle\" x=\"6081.5\" y=\"-1093.8\" font-family=\"Times,serif\" font-size=\"14.00\" fill=\"#000000\">samples = 77</text>\n<text text-anchor=\"middle\" x=\"6081.5\" y=\"-1078.8\" font-family=\"Times,serif\" font-size=\"14.00\" fill=\"#000000\">value = [66, 11]</text>\n<text text-anchor=\"middle\" x=\"6081.5\" y=\"-1063.8\" font-family=\"Times,serif\" font-size=\"14.00\" fill=\"#000000\">class = S</text>\n</g>\n<!-- 342&#45;&gt;344 -->\n<g id=\"edge344\" class=\"edge\">\n<title>342&#45;&gt;344</title>\n<path fill=\"none\" stroke=\"#000000\" d=\"M6000.2189,-1174.8796C6009.8686,-1165.6931 6020.1766,-1155.8798 6030.0991,-1146.4336\"/>\n<polygon fill=\"#000000\" stroke=\"#000000\" points=\"6032.765,-1148.7282 6037.5945,-1139.2981 6027.9384,-1143.6582 6032.765,-1148.7282\"/>\n</g>\n<!-- 345 -->\n<g id=\"node346\" class=\"node\">\n<title>345</title>\n<polygon fill=\"#e78b48\" stroke=\"#000000\" points=\"6132.5,-1020 6030.5,-1020 6030.5,-937 6132.5,-937 6132.5,-1020\"/>\n<text text-anchor=\"middle\" x=\"6081.5\" y=\"-1004.8\" font-family=\"Times,serif\" font-size=\"14.00\" fill=\"#000000\">Age &lt;= 31.25</text>\n<text text-anchor=\"middle\" x=\"6081.5\" y=\"-989.8\" font-family=\"Times,serif\" font-size=\"14.00\" fill=\"#000000\">gini = 0.133</text>\n<text text-anchor=\"middle\" x=\"6081.5\" y=\"-974.8\" font-family=\"Times,serif\" font-size=\"14.00\" fill=\"#000000\">samples = 28</text>\n<text text-anchor=\"middle\" x=\"6081.5\" y=\"-959.8\" font-family=\"Times,serif\" font-size=\"14.00\" fill=\"#000000\">value = [26, 2]</text>\n<text text-anchor=\"middle\" x=\"6081.5\" y=\"-944.8\" font-family=\"Times,serif\" font-size=\"14.00\" fill=\"#000000\">class = S</text>\n</g>\n<!-- 344&#45;&gt;345 -->\n<g id=\"edge345\" class=\"edge\">\n<title>344&#45;&gt;345</title>\n<path fill=\"none\" stroke=\"#000000\" d=\"M6081.5,-1055.8796C6081.5,-1047.6838 6081.5,-1038.9891 6081.5,-1030.5013\"/>\n<polygon fill=\"#000000\" stroke=\"#000000\" points=\"6085.0001,-1030.298 6081.5,-1020.2981 6078.0001,-1030.2981 6085.0001,-1030.298\"/>\n</g>\n<!-- 354 -->\n<g id=\"node355\" class=\"node\">\n<title>354</title>\n<polygon fill=\"#eb9d66\" stroke=\"#000000\" points=\"6416.5,-1020 6314.5,-1020 6314.5,-937 6416.5,-937 6416.5,-1020\"/>\n<text text-anchor=\"middle\" x=\"6365.5\" y=\"-1004.8\" font-family=\"Times,serif\" font-size=\"14.00\" fill=\"#000000\">Fare &lt;= 8.238</text>\n<text text-anchor=\"middle\" x=\"6365.5\" y=\"-989.8\" font-family=\"Times,serif\" font-size=\"14.00\" fill=\"#000000\">gini = 0.3</text>\n<text text-anchor=\"middle\" x=\"6365.5\" y=\"-974.8\" font-family=\"Times,serif\" font-size=\"14.00\" fill=\"#000000\">samples = 49</text>\n<text text-anchor=\"middle\" x=\"6365.5\" y=\"-959.8\" font-family=\"Times,serif\" font-size=\"14.00\" fill=\"#000000\">value = [40, 9]</text>\n<text text-anchor=\"middle\" x=\"6365.5\" y=\"-944.8\" font-family=\"Times,serif\" font-size=\"14.00\" fill=\"#000000\">class = S</text>\n</g>\n<!-- 344&#45;&gt;354 -->\n<g id=\"edge354\" class=\"edge\">\n<title>344&#45;&gt;354</title>\n<path fill=\"none\" stroke=\"#000000\" d=\"M6136.1715,-1060.8762C6139.2879,-1059.158 6142.4102,-1057.5192 6145.5,-1056 6197.299,-1030.5304 6259.6205,-1009.3966 6304.6876,-995.6666\"/>\n<polygon fill=\"#000000\" stroke=\"#000000\" points=\"6305.7531,-999.0011 6314.3183,-992.7651 6303.7337,-992.2987 6305.7531,-999.0011\"/>\n</g>\n<!-- 346 -->\n<g id=\"node347\" class=\"node\">\n<title>346</title>\n<polygon fill=\"#e58139\" stroke=\"#000000\" points=\"6127.5,-893.5 6025.5,-893.5 6025.5,-825.5 6127.5,-825.5 6127.5,-893.5\"/>\n<text text-anchor=\"middle\" x=\"6076.5\" y=\"-878.3\" font-family=\"Times,serif\" font-size=\"14.00\" fill=\"#000000\">gini = 0.0</text>\n<text text-anchor=\"middle\" x=\"6076.5\" y=\"-863.3\" font-family=\"Times,serif\" font-size=\"14.00\" fill=\"#000000\">samples = 16</text>\n<text text-anchor=\"middle\" x=\"6076.5\" y=\"-848.3\" font-family=\"Times,serif\" font-size=\"14.00\" fill=\"#000000\">value = [16, 0]</text>\n<text text-anchor=\"middle\" x=\"6076.5\" y=\"-833.3\" font-family=\"Times,serif\" font-size=\"14.00\" fill=\"#000000\">class = S</text>\n</g>\n<!-- 345&#45;&gt;346 -->\n<g id=\"edge346\" class=\"edge\">\n<title>345&#45;&gt;346</title>\n<path fill=\"none\" stroke=\"#000000\" d=\"M6079.7512,-936.8796C6079.3031,-926.2134 6078.8194,-914.7021 6078.3656,-903.9015\"/>\n<polygon fill=\"#000000\" stroke=\"#000000\" points=\"6081.8586,-903.6592 6077.9418,-893.8149 6074.8648,-903.9531 6081.8586,-903.6592\"/>\n</g>\n<!-- 347 -->\n<g id=\"node348\" class=\"node\">\n<title>347</title>\n<polygon fill=\"#ea9a61\" stroke=\"#000000\" points=\"6247.5,-901 6145.5,-901 6145.5,-818 6247.5,-818 6247.5,-901\"/>\n<text text-anchor=\"middle\" x=\"6196.5\" y=\"-885.8\" font-family=\"Times,serif\" font-size=\"14.00\" fill=\"#000000\">Age &lt;= 33.0</text>\n<text text-anchor=\"middle\" x=\"6196.5\" y=\"-870.8\" font-family=\"Times,serif\" font-size=\"14.00\" fill=\"#000000\">gini = 0.278</text>\n<text text-anchor=\"middle\" x=\"6196.5\" y=\"-855.8\" font-family=\"Times,serif\" font-size=\"14.00\" fill=\"#000000\">samples = 12</text>\n<text text-anchor=\"middle\" x=\"6196.5\" y=\"-840.8\" font-family=\"Times,serif\" font-size=\"14.00\" fill=\"#000000\">value = [10, 2]</text>\n<text text-anchor=\"middle\" x=\"6196.5\" y=\"-825.8\" font-family=\"Times,serif\" font-size=\"14.00\" fill=\"#000000\">class = S</text>\n</g>\n<!-- 345&#45;&gt;347 -->\n<g id=\"edge347\" class=\"edge\">\n<title>345&#45;&gt;347</title>\n<path fill=\"none\" stroke=\"#000000\" d=\"M6121.7214,-936.8796C6130.512,-927.7832 6139.8966,-918.0722 6148.9426,-908.7116\"/>\n<polygon fill=\"#000000\" stroke=\"#000000\" points=\"6151.6745,-910.9212 6156.1069,-901.2981 6146.6409,-906.0568 6151.6745,-910.9212\"/>\n</g>\n<!-- 348 -->\n<g id=\"node349\" class=\"node\">\n<title>348</title>\n<polygon fill=\"#399de5\" stroke=\"#000000\" points=\"6127,-774.5 6032,-774.5 6032,-706.5 6127,-706.5 6127,-774.5\"/>\n<text text-anchor=\"middle\" x=\"6079.5\" y=\"-759.3\" font-family=\"Times,serif\" font-size=\"14.00\" fill=\"#000000\">gini = 0.0</text>\n<text text-anchor=\"middle\" x=\"6079.5\" y=\"-744.3\" font-family=\"Times,serif\" font-size=\"14.00\" fill=\"#000000\">samples = 1</text>\n<text text-anchor=\"middle\" x=\"6079.5\" y=\"-729.3\" font-family=\"Times,serif\" font-size=\"14.00\" fill=\"#000000\">value = [0, 1]</text>\n<text text-anchor=\"middle\" x=\"6079.5\" y=\"-714.3\" font-family=\"Times,serif\" font-size=\"14.00\" fill=\"#000000\">class = u</text>\n</g>\n<!-- 347&#45;&gt;348 -->\n<g id=\"edge348\" class=\"edge\">\n<title>347&#45;&gt;348</title>\n<path fill=\"none\" stroke=\"#000000\" d=\"M6155.5791,-817.8796C6144.2272,-806.3337 6131.9018,-793.7976 6120.543,-782.2446\"/>\n<polygon fill=\"#000000\" stroke=\"#000000\" points=\"6122.7449,-779.4919 6113.2382,-774.8149 6117.7534,-784.3995 6122.7449,-779.4919\"/>\n</g>\n<!-- 349 -->\n<g id=\"node350\" class=\"node\">\n<title>349</title>\n<polygon fill=\"#e88e4d\" stroke=\"#000000\" points=\"6247.5,-782 6145.5,-782 6145.5,-699 6247.5,-699 6247.5,-782\"/>\n<text text-anchor=\"middle\" x=\"6196.5\" y=\"-766.8\" font-family=\"Times,serif\" font-size=\"14.00\" fill=\"#000000\">Age &lt;= 44.5</text>\n<text text-anchor=\"middle\" x=\"6196.5\" y=\"-751.8\" font-family=\"Times,serif\" font-size=\"14.00\" fill=\"#000000\">gini = 0.165</text>\n<text text-anchor=\"middle\" x=\"6196.5\" y=\"-736.8\" font-family=\"Times,serif\" font-size=\"14.00\" fill=\"#000000\">samples = 11</text>\n<text text-anchor=\"middle\" x=\"6196.5\" y=\"-721.8\" font-family=\"Times,serif\" font-size=\"14.00\" fill=\"#000000\">value = [10, 1]</text>\n<text text-anchor=\"middle\" x=\"6196.5\" y=\"-706.8\" font-family=\"Times,serif\" font-size=\"14.00\" fill=\"#000000\">class = S</text>\n</g>\n<!-- 347&#45;&gt;349 -->\n<g id=\"edge349\" class=\"edge\">\n<title>347&#45;&gt;349</title>\n<path fill=\"none\" stroke=\"#000000\" d=\"M6196.5,-817.8796C6196.5,-809.6838 6196.5,-800.9891 6196.5,-792.5013\"/>\n<polygon fill=\"#000000\" stroke=\"#000000\" points=\"6200.0001,-792.298 6196.5,-782.2981 6193.0001,-792.2981 6200.0001,-792.298\"/>\n</g>\n<!-- 350 -->\n<g id=\"node351\" class=\"node\">\n<title>350</title>\n<polygon fill=\"#e58139\" stroke=\"#000000\" points=\"6131,-655.5 6036,-655.5 6036,-587.5 6131,-587.5 6131,-655.5\"/>\n<text text-anchor=\"middle\" x=\"6083.5\" y=\"-640.3\" font-family=\"Times,serif\" font-size=\"14.00\" fill=\"#000000\">gini = 0.0</text>\n<text text-anchor=\"middle\" x=\"6083.5\" y=\"-625.3\" font-family=\"Times,serif\" font-size=\"14.00\" fill=\"#000000\">samples = 7</text>\n<text text-anchor=\"middle\" x=\"6083.5\" y=\"-610.3\" font-family=\"Times,serif\" font-size=\"14.00\" fill=\"#000000\">value = [7, 0]</text>\n<text text-anchor=\"middle\" x=\"6083.5\" y=\"-595.3\" font-family=\"Times,serif\" font-size=\"14.00\" fill=\"#000000\">class = S</text>\n</g>\n<!-- 349&#45;&gt;350 -->\n<g id=\"edge350\" class=\"edge\">\n<title>349&#45;&gt;350</title>\n<path fill=\"none\" stroke=\"#000000\" d=\"M6156.9781,-698.8796C6146.0143,-687.3337 6134.1103,-674.7976 6123.1399,-663.2446\"/>\n<polygon fill=\"#000000\" stroke=\"#000000\" points=\"6125.5087,-660.6564 6116.0848,-655.8149 6120.4327,-665.4766 6125.5087,-660.6564\"/>\n</g>\n<!-- 351 -->\n<g id=\"node352\" class=\"node\">\n<title>351</title>\n<polygon fill=\"#eeab7b\" stroke=\"#000000\" points=\"6244,-663 6149,-663 6149,-580 6244,-580 6244,-663\"/>\n<text text-anchor=\"middle\" x=\"6196.5\" y=\"-647.8\" font-family=\"Times,serif\" font-size=\"14.00\" fill=\"#000000\">Age &lt;= 47.5</text>\n<text text-anchor=\"middle\" x=\"6196.5\" y=\"-632.8\" font-family=\"Times,serif\" font-size=\"14.00\" fill=\"#000000\">gini = 0.375</text>\n<text text-anchor=\"middle\" x=\"6196.5\" y=\"-617.8\" font-family=\"Times,serif\" font-size=\"14.00\" fill=\"#000000\">samples = 4</text>\n<text text-anchor=\"middle\" x=\"6196.5\" y=\"-602.8\" font-family=\"Times,serif\" font-size=\"14.00\" fill=\"#000000\">value = [3, 1]</text>\n<text text-anchor=\"middle\" x=\"6196.5\" y=\"-587.8\" font-family=\"Times,serif\" font-size=\"14.00\" fill=\"#000000\">class = S</text>\n</g>\n<!-- 349&#45;&gt;351 -->\n<g id=\"edge351\" class=\"edge\">\n<title>349&#45;&gt;351</title>\n<path fill=\"none\" stroke=\"#000000\" d=\"M6196.5,-698.8796C6196.5,-690.6838 6196.5,-681.9891 6196.5,-673.5013\"/>\n<polygon fill=\"#000000\" stroke=\"#000000\" points=\"6200.0001,-673.298 6196.5,-663.2981 6193.0001,-673.2981 6200.0001,-673.298\"/>\n</g>\n<!-- 352 -->\n<g id=\"node353\" class=\"node\">\n<title>352</title>\n<polygon fill=\"#399de5\" stroke=\"#000000\" points=\"6131,-536.5 6036,-536.5 6036,-468.5 6131,-468.5 6131,-536.5\"/>\n<text text-anchor=\"middle\" x=\"6083.5\" y=\"-521.3\" font-family=\"Times,serif\" font-size=\"14.00\" fill=\"#000000\">gini = 0.0</text>\n<text text-anchor=\"middle\" x=\"6083.5\" y=\"-506.3\" font-family=\"Times,serif\" font-size=\"14.00\" fill=\"#000000\">samples = 1</text>\n<text text-anchor=\"middle\" x=\"6083.5\" y=\"-491.3\" font-family=\"Times,serif\" font-size=\"14.00\" fill=\"#000000\">value = [0, 1]</text>\n<text text-anchor=\"middle\" x=\"6083.5\" y=\"-476.3\" font-family=\"Times,serif\" font-size=\"14.00\" fill=\"#000000\">class = u</text>\n</g>\n<!-- 351&#45;&gt;352 -->\n<g id=\"edge352\" class=\"edge\">\n<title>351&#45;&gt;352</title>\n<path fill=\"none\" stroke=\"#000000\" d=\"M6156.9781,-579.8796C6146.0143,-568.3337 6134.1103,-555.7976 6123.1399,-544.2446\"/>\n<polygon fill=\"#000000\" stroke=\"#000000\" points=\"6125.5087,-541.6564 6116.0848,-536.8149 6120.4327,-546.4766 6125.5087,-541.6564\"/>\n</g>\n<!-- 353 -->\n<g id=\"node354\" class=\"node\">\n<title>353</title>\n<polygon fill=\"#e58139\" stroke=\"#000000\" points=\"6244,-536.5 6149,-536.5 6149,-468.5 6244,-468.5 6244,-536.5\"/>\n<text text-anchor=\"middle\" x=\"6196.5\" y=\"-521.3\" font-family=\"Times,serif\" font-size=\"14.00\" fill=\"#000000\">gini = 0.0</text>\n<text text-anchor=\"middle\" x=\"6196.5\" y=\"-506.3\" font-family=\"Times,serif\" font-size=\"14.00\" fill=\"#000000\">samples = 3</text>\n<text text-anchor=\"middle\" x=\"6196.5\" y=\"-491.3\" font-family=\"Times,serif\" font-size=\"14.00\" fill=\"#000000\">value = [3, 0]</text>\n<text text-anchor=\"middle\" x=\"6196.5\" y=\"-476.3\" font-family=\"Times,serif\" font-size=\"14.00\" fill=\"#000000\">class = S</text>\n</g>\n<!-- 351&#45;&gt;353 -->\n<g id=\"edge353\" class=\"edge\">\n<title>351&#45;&gt;353</title>\n<path fill=\"none\" stroke=\"#000000\" d=\"M6196.5,-579.8796C6196.5,-569.2134 6196.5,-557.7021 6196.5,-546.9015\"/>\n<polygon fill=\"#000000\" stroke=\"#000000\" points=\"6200.0001,-546.8149 6196.5,-536.8149 6193.0001,-546.815 6200.0001,-546.8149\"/>\n</g>\n<!-- 355 -->\n<g id=\"node356\" class=\"node\">\n<title>355</title>\n<polygon fill=\"#399de5\" stroke=\"#000000\" points=\"6413,-893.5 6318,-893.5 6318,-825.5 6413,-825.5 6413,-893.5\"/>\n<text text-anchor=\"middle\" x=\"6365.5\" y=\"-878.3\" font-family=\"Times,serif\" font-size=\"14.00\" fill=\"#000000\">gini = 0.0</text>\n<text text-anchor=\"middle\" x=\"6365.5\" y=\"-863.3\" font-family=\"Times,serif\" font-size=\"14.00\" fill=\"#000000\">samples = 1</text>\n<text text-anchor=\"middle\" x=\"6365.5\" y=\"-848.3\" font-family=\"Times,serif\" font-size=\"14.00\" fill=\"#000000\">value = [0, 1]</text>\n<text text-anchor=\"middle\" x=\"6365.5\" y=\"-833.3\" font-family=\"Times,serif\" font-size=\"14.00\" fill=\"#000000\">class = u</text>\n</g>\n<!-- 354&#45;&gt;355 -->\n<g id=\"edge355\" class=\"edge\">\n<title>354&#45;&gt;355</title>\n<path fill=\"none\" stroke=\"#000000\" d=\"M6365.5,-936.8796C6365.5,-926.2134 6365.5,-914.7021 6365.5,-903.9015\"/>\n<polygon fill=\"#000000\" stroke=\"#000000\" points=\"6369.0001,-903.8149 6365.5,-893.8149 6362.0001,-903.815 6369.0001,-903.8149\"/>\n</g>\n<!-- 356 -->\n<g id=\"node357\" class=\"node\">\n<title>356</title>\n<polygon fill=\"#ea9a61\" stroke=\"#000000\" points=\"6559.5,-901 6457.5,-901 6457.5,-818 6559.5,-818 6559.5,-901\"/>\n<text text-anchor=\"middle\" x=\"6508.5\" y=\"-885.8\" font-family=\"Times,serif\" font-size=\"14.00\" fill=\"#000000\">Age &lt;= 31.5</text>\n<text text-anchor=\"middle\" x=\"6508.5\" y=\"-870.8\" font-family=\"Times,serif\" font-size=\"14.00\" fill=\"#000000\">gini = 0.278</text>\n<text text-anchor=\"middle\" x=\"6508.5\" y=\"-855.8\" font-family=\"Times,serif\" font-size=\"14.00\" fill=\"#000000\">samples = 48</text>\n<text text-anchor=\"middle\" x=\"6508.5\" y=\"-840.8\" font-family=\"Times,serif\" font-size=\"14.00\" fill=\"#000000\">value = [40, 8]</text>\n<text text-anchor=\"middle\" x=\"6508.5\" y=\"-825.8\" font-family=\"Times,serif\" font-size=\"14.00\" fill=\"#000000\">class = S</text>\n</g>\n<!-- 354&#45;&gt;356 -->\n<g id=\"edge356\" class=\"edge\">\n<title>354&#45;&gt;356</title>\n<path fill=\"none\" stroke=\"#000000\" d=\"M6415.5145,-936.8796C6426.7701,-927.513 6438.8088,-917.4948 6450.3646,-907.8784\"/>\n<polygon fill=\"#000000\" stroke=\"#000000\" points=\"6452.8242,-910.385 6458.2721,-901.2981 6448.3466,-905.0043 6452.8242,-910.385\"/>\n</g>\n<!-- 357 -->\n<g id=\"node358\" class=\"node\">\n<title>357</title>\n<polygon fill=\"#eda877\" stroke=\"#000000\" points=\"6559.5,-782 6457.5,-782 6457.5,-699 6559.5,-699 6559.5,-782\"/>\n<text text-anchor=\"middle\" x=\"6508.5\" y=\"-766.8\" font-family=\"Times,serif\" font-size=\"14.00\" fill=\"#000000\">Age &lt;= 30.5</text>\n<text text-anchor=\"middle\" x=\"6508.5\" y=\"-751.8\" font-family=\"Times,serif\" font-size=\"14.00\" fill=\"#000000\">gini = 0.363</text>\n<text text-anchor=\"middle\" x=\"6508.5\" y=\"-736.8\" font-family=\"Times,serif\" font-size=\"14.00\" fill=\"#000000\">samples = 21</text>\n<text text-anchor=\"middle\" x=\"6508.5\" y=\"-721.8\" font-family=\"Times,serif\" font-size=\"14.00\" fill=\"#000000\">value = [16, 5]</text>\n<text text-anchor=\"middle\" x=\"6508.5\" y=\"-706.8\" font-family=\"Times,serif\" font-size=\"14.00\" fill=\"#000000\">class = S</text>\n</g>\n<!-- 356&#45;&gt;357 -->\n<g id=\"edge357\" class=\"edge\">\n<title>356&#45;&gt;357</title>\n<path fill=\"none\" stroke=\"#000000\" d=\"M6508.5,-817.8796C6508.5,-809.6838 6508.5,-800.9891 6508.5,-792.5013\"/>\n<polygon fill=\"#000000\" stroke=\"#000000\" points=\"6512.0001,-792.298 6508.5,-782.2981 6505.0001,-792.2981 6512.0001,-792.298\"/>\n</g>\n<!-- 378 -->\n<g id=\"node379\" class=\"node\">\n<title>378</title>\n<polygon fill=\"#e89152\" stroke=\"#000000\" points=\"6872.5,-782 6770.5,-782 6770.5,-699 6872.5,-699 6872.5,-782\"/>\n<text text-anchor=\"middle\" x=\"6821.5\" y=\"-766.8\" font-family=\"Times,serif\" font-size=\"14.00\" fill=\"#000000\">Age &lt;= 59.5</text>\n<text text-anchor=\"middle\" x=\"6821.5\" y=\"-751.8\" font-family=\"Times,serif\" font-size=\"14.00\" fill=\"#000000\">gini = 0.198</text>\n<text text-anchor=\"middle\" x=\"6821.5\" y=\"-736.8\" font-family=\"Times,serif\" font-size=\"14.00\" fill=\"#000000\">samples = 27</text>\n<text text-anchor=\"middle\" x=\"6821.5\" y=\"-721.8\" font-family=\"Times,serif\" font-size=\"14.00\" fill=\"#000000\">value = [24, 3]</text>\n<text text-anchor=\"middle\" x=\"6821.5\" y=\"-706.8\" font-family=\"Times,serif\" font-size=\"14.00\" fill=\"#000000\">class = S</text>\n</g>\n<!-- 356&#45;&gt;378 -->\n<g id=\"edge378\" class=\"edge\">\n<title>356&#45;&gt;378</title>\n<path fill=\"none\" stroke=\"#000000\" d=\"M6559.8351,-839.9828C6614.9531,-819.0274 6702.4628,-785.757 6760.9154,-763.5338\"/>\n<polygon fill=\"#000000\" stroke=\"#000000\" points=\"6762.2934,-766.7543 6770.3968,-759.929 6759.8058,-760.2113 6762.2934,-766.7543\"/>\n</g>\n<!-- 358 -->\n<g id=\"node359\" class=\"node\">\n<title>358</title>\n<polygon fill=\"#eca36e\" stroke=\"#000000\" points=\"6470.5,-663 6368.5,-663 6368.5,-580 6470.5,-580 6470.5,-663\"/>\n<text text-anchor=\"middle\" x=\"6419.5\" y=\"-647.8\" font-family=\"Times,serif\" font-size=\"14.00\" fill=\"#000000\">Fare &lt;= 10.0</text>\n<text text-anchor=\"middle\" x=\"6419.5\" y=\"-632.8\" font-family=\"Times,serif\" font-size=\"14.00\" fill=\"#000000\">gini = 0.332</text>\n<text text-anchor=\"middle\" x=\"6419.5\" y=\"-617.8\" font-family=\"Times,serif\" font-size=\"14.00\" fill=\"#000000\">samples = 19</text>\n<text text-anchor=\"middle\" x=\"6419.5\" y=\"-602.8\" font-family=\"Times,serif\" font-size=\"14.00\" fill=\"#000000\">value = [15, 4]</text>\n<text text-anchor=\"middle\" x=\"6419.5\" y=\"-587.8\" font-family=\"Times,serif\" font-size=\"14.00\" fill=\"#000000\">class = S</text>\n</g>\n<!-- 357&#45;&gt;358 -->\n<g id=\"edge358\" class=\"edge\">\n<title>357&#45;&gt;358</title>\n<path fill=\"none\" stroke=\"#000000\" d=\"M6477.3721,-698.8796C6470.771,-690.0534 6463.7371,-680.6485 6456.9298,-671.5466\"/>\n<polygon fill=\"#000000\" stroke=\"#000000\" points=\"6459.5528,-669.2099 6450.7607,-663.2981 6453.9472,-673.4024 6459.5528,-669.2099\"/>\n</g>\n<!-- 375 -->\n<g id=\"node376\" class=\"node\">\n<title>375</title>\n<polygon fill=\"#ffffff\" stroke=\"#000000\" points=\"6586.5,-663 6488.5,-663 6488.5,-580 6586.5,-580 6586.5,-663\"/>\n<text text-anchor=\"middle\" x=\"6537.5\" y=\"-647.8\" font-family=\"Times,serif\" font-size=\"14.00\" fill=\"#000000\">Fare &lt;= 11.75</text>\n<text text-anchor=\"middle\" x=\"6537.5\" y=\"-632.8\" font-family=\"Times,serif\" font-size=\"14.00\" fill=\"#000000\">gini = 0.5</text>\n<text text-anchor=\"middle\" x=\"6537.5\" y=\"-617.8\" font-family=\"Times,serif\" font-size=\"14.00\" fill=\"#000000\">samples = 2</text>\n<text text-anchor=\"middle\" x=\"6537.5\" y=\"-602.8\" font-family=\"Times,serif\" font-size=\"14.00\" fill=\"#000000\">value = [1, 1]</text>\n<text text-anchor=\"middle\" x=\"6537.5\" y=\"-587.8\" font-family=\"Times,serif\" font-size=\"14.00\" fill=\"#000000\">class = S</text>\n</g>\n<!-- 357&#45;&gt;375 -->\n<g id=\"edge375\" class=\"edge\">\n<title>357&#45;&gt;375</title>\n<path fill=\"none\" stroke=\"#000000\" d=\"M6518.6428,-698.8796C6520.662,-690.5938 6522.8055,-681.798 6524.8956,-673.2216\"/>\n<polygon fill=\"#000000\" stroke=\"#000000\" points=\"6528.3466,-673.8425 6527.3139,-663.2981 6521.5457,-672.185 6528.3466,-673.8425\"/>\n</g>\n<!-- 359 -->\n<g id=\"node360\" class=\"node\">\n<title>359</title>\n<polygon fill=\"#f2c09c\" stroke=\"#000000\" points=\"6357,-544 6262,-544 6262,-461 6357,-461 6357,-544\"/>\n<text text-anchor=\"middle\" x=\"6309.5\" y=\"-528.8\" font-family=\"Times,serif\" font-size=\"14.00\" fill=\"#000000\">Age &lt;= 27.5</text>\n<text text-anchor=\"middle\" x=\"6309.5\" y=\"-513.8\" font-family=\"Times,serif\" font-size=\"14.00\" fill=\"#000000\">gini = 0.444</text>\n<text text-anchor=\"middle\" x=\"6309.5\" y=\"-498.8\" font-family=\"Times,serif\" font-size=\"14.00\" fill=\"#000000\">samples = 9</text>\n<text text-anchor=\"middle\" x=\"6309.5\" y=\"-483.8\" font-family=\"Times,serif\" font-size=\"14.00\" fill=\"#000000\">value = [6, 3]</text>\n<text text-anchor=\"middle\" x=\"6309.5\" y=\"-468.8\" font-family=\"Times,serif\" font-size=\"14.00\" fill=\"#000000\">class = S</text>\n</g>\n<!-- 358&#45;&gt;359 -->\n<g id=\"edge359\" class=\"edge\">\n<title>358&#45;&gt;359</title>\n<path fill=\"none\" stroke=\"#000000\" d=\"M6381.0273,-579.8796C6372.6189,-570.7832 6363.6424,-561.0722 6354.9897,-551.7116\"/>\n<polygon fill=\"#000000\" stroke=\"#000000\" points=\"6357.495,-549.2656 6348.1369,-544.2981 6352.3547,-554.0172 6357.495,-549.2656\"/>\n</g>\n<!-- 368 -->\n<g id=\"node369\" class=\"node\">\n<title>368</title>\n<polygon fill=\"#e88f4f\" stroke=\"#000000\" points=\"6470,-544 6375,-544 6375,-461 6470,-461 6470,-544\"/>\n<text text-anchor=\"middle\" x=\"6422.5\" y=\"-528.8\" font-family=\"Times,serif\" font-size=\"14.00\" fill=\"#000000\">Age &lt;= 28.5</text>\n<text text-anchor=\"middle\" x=\"6422.5\" y=\"-513.8\" font-family=\"Times,serif\" font-size=\"14.00\" fill=\"#000000\">gini = 0.18</text>\n<text text-anchor=\"middle\" x=\"6422.5\" y=\"-498.8\" font-family=\"Times,serif\" font-size=\"14.00\" fill=\"#000000\">samples = 10</text>\n<text text-anchor=\"middle\" x=\"6422.5\" y=\"-483.8\" font-family=\"Times,serif\" font-size=\"14.00\" fill=\"#000000\">value = [9, 1]</text>\n<text text-anchor=\"middle\" x=\"6422.5\" y=\"-468.8\" font-family=\"Times,serif\" font-size=\"14.00\" fill=\"#000000\">class = S</text>\n</g>\n<!-- 358&#45;&gt;368 -->\n<g id=\"edge368\" class=\"edge\">\n<title>358&#45;&gt;368</title>\n<path fill=\"none\" stroke=\"#000000\" d=\"M6420.5493,-579.8796C6420.7559,-571.6838 6420.9751,-562.9891 6421.189,-554.5013\"/>\n<polygon fill=\"#000000\" stroke=\"#000000\" points=\"6424.693,-554.3831 6421.4463,-544.2981 6417.6953,-554.2067 6424.693,-554.3831\"/>\n</g>\n<!-- 360 -->\n<g id=\"node361\" class=\"node\">\n<title>360</title>\n<polygon fill=\"#399de5\" stroke=\"#000000\" points=\"6244,-417.5 6149,-417.5 6149,-349.5 6244,-349.5 6244,-417.5\"/>\n<text text-anchor=\"middle\" x=\"6196.5\" y=\"-402.3\" font-family=\"Times,serif\" font-size=\"14.00\" fill=\"#000000\">gini = 0.0</text>\n<text text-anchor=\"middle\" x=\"6196.5\" y=\"-387.3\" font-family=\"Times,serif\" font-size=\"14.00\" fill=\"#000000\">samples = 1</text>\n<text text-anchor=\"middle\" x=\"6196.5\" y=\"-372.3\" font-family=\"Times,serif\" font-size=\"14.00\" fill=\"#000000\">value = [0, 1]</text>\n<text text-anchor=\"middle\" x=\"6196.5\" y=\"-357.3\" font-family=\"Times,serif\" font-size=\"14.00\" fill=\"#000000\">class = u</text>\n</g>\n<!-- 359&#45;&gt;360 -->\n<g id=\"edge360\" class=\"edge\">\n<title>359&#45;&gt;360</title>\n<path fill=\"none\" stroke=\"#000000\" d=\"M6269.9781,-460.8796C6259.0143,-449.3337 6247.1103,-436.7976 6236.1399,-425.2446\"/>\n<polygon fill=\"#000000\" stroke=\"#000000\" points=\"6238.5087,-422.6564 6229.0848,-417.8149 6233.4327,-427.4766 6238.5087,-422.6564\"/>\n</g>\n<!-- 361 -->\n<g id=\"node362\" class=\"node\">\n<title>361</title>\n<polygon fill=\"#eeab7b\" stroke=\"#000000\" points=\"6357,-425 6262,-425 6262,-342 6357,-342 6357,-425\"/>\n<text text-anchor=\"middle\" x=\"6309.5\" y=\"-409.8\" font-family=\"Times,serif\" font-size=\"14.00\" fill=\"#000000\">Age &lt;= 29.5</text>\n<text text-anchor=\"middle\" x=\"6309.5\" y=\"-394.8\" font-family=\"Times,serif\" font-size=\"14.00\" fill=\"#000000\">gini = 0.375</text>\n<text text-anchor=\"middle\" x=\"6309.5\" y=\"-379.8\" font-family=\"Times,serif\" font-size=\"14.00\" fill=\"#000000\">samples = 8</text>\n<text text-anchor=\"middle\" x=\"6309.5\" y=\"-364.8\" font-family=\"Times,serif\" font-size=\"14.00\" fill=\"#000000\">value = [6, 2]</text>\n<text text-anchor=\"middle\" x=\"6309.5\" y=\"-349.8\" font-family=\"Times,serif\" font-size=\"14.00\" fill=\"#000000\">class = S</text>\n</g>\n<!-- 359&#45;&gt;361 -->\n<g id=\"edge361\" class=\"edge\">\n<title>359&#45;&gt;361</title>\n<path fill=\"none\" stroke=\"#000000\" d=\"M6309.5,-460.8796C6309.5,-452.6838 6309.5,-443.9891 6309.5,-435.5013\"/>\n<polygon fill=\"#000000\" stroke=\"#000000\" points=\"6313.0001,-435.298 6309.5,-425.2981 6306.0001,-435.2981 6313.0001,-435.298\"/>\n</g>\n<!-- 362 -->\n<g id=\"node363\" class=\"node\">\n<title>362</title>\n<polygon fill=\"#e9965a\" stroke=\"#000000\" points=\"6326,-306 6227,-306 6227,-223 6326,-223 6326,-306\"/>\n<text text-anchor=\"middle\" x=\"6276.5\" y=\"-290.8\" font-family=\"Times,serif\" font-size=\"14.00\" fill=\"#000000\">Fare &lt;= 9.492</text>\n<text text-anchor=\"middle\" x=\"6276.5\" y=\"-275.8\" font-family=\"Times,serif\" font-size=\"14.00\" fill=\"#000000\">gini = 0.245</text>\n<text text-anchor=\"middle\" x=\"6276.5\" y=\"-260.8\" font-family=\"Times,serif\" font-size=\"14.00\" fill=\"#000000\">samples = 7</text>\n<text text-anchor=\"middle\" x=\"6276.5\" y=\"-245.8\" font-family=\"Times,serif\" font-size=\"14.00\" fill=\"#000000\">value = [6, 1]</text>\n<text text-anchor=\"middle\" x=\"6276.5\" y=\"-230.8\" font-family=\"Times,serif\" font-size=\"14.00\" fill=\"#000000\">class = S</text>\n</g>\n<!-- 361&#45;&gt;362 -->\n<g id=\"edge362\" class=\"edge\">\n<title>361&#45;&gt;362</title>\n<path fill=\"none\" stroke=\"#000000\" d=\"M6297.9582,-341.8796C6295.6355,-333.5037 6293.1682,-324.6067 6290.7654,-315.942\"/>\n<polygon fill=\"#000000\" stroke=\"#000000\" points=\"6294.1361,-314.9991 6288.0911,-306.2981 6287.3907,-316.8697 6294.1361,-314.9991\"/>\n</g>\n<!-- 367 -->\n<g id=\"node368\" class=\"node\">\n<title>367</title>\n<polygon fill=\"#399de5\" stroke=\"#000000\" points=\"6439,-298.5 6344,-298.5 6344,-230.5 6439,-230.5 6439,-298.5\"/>\n<text text-anchor=\"middle\" x=\"6391.5\" y=\"-283.3\" font-family=\"Times,serif\" font-size=\"14.00\" fill=\"#000000\">gini = 0.0</text>\n<text text-anchor=\"middle\" x=\"6391.5\" y=\"-268.3\" font-family=\"Times,serif\" font-size=\"14.00\" fill=\"#000000\">samples = 1</text>\n<text text-anchor=\"middle\" x=\"6391.5\" y=\"-253.3\" font-family=\"Times,serif\" font-size=\"14.00\" fill=\"#000000\">value = [0, 1]</text>\n<text text-anchor=\"middle\" x=\"6391.5\" y=\"-238.3\" font-family=\"Times,serif\" font-size=\"14.00\" fill=\"#000000\">class = u</text>\n</g>\n<!-- 361&#45;&gt;367 -->\n<g id=\"edge367\" class=\"edge\">\n<title>361&#45;&gt;367</title>\n<path fill=\"none\" stroke=\"#000000\" d=\"M6338.1796,-341.8796C6345.9083,-330.6636 6354.2809,-318.5131 6362.0508,-307.2372\"/>\n<polygon fill=\"#000000\" stroke=\"#000000\" points=\"6365.0623,-309.0353 6367.8544,-298.8149 6359.2982,-305.0634 6365.0623,-309.0353\"/>\n</g>\n<!-- 363 -->\n<g id=\"node364\" class=\"node\">\n<title>363</title>\n<polygon fill=\"#e58139\" stroke=\"#000000\" points=\"6270,-179.5 6175,-179.5 6175,-111.5 6270,-111.5 6270,-179.5\"/>\n<text text-anchor=\"middle\" x=\"6222.5\" y=\"-164.3\" font-family=\"Times,serif\" font-size=\"14.00\" fill=\"#000000\">gini = 0.0</text>\n<text text-anchor=\"middle\" x=\"6222.5\" y=\"-149.3\" font-family=\"Times,serif\" font-size=\"14.00\" fill=\"#000000\">samples = 3</text>\n<text text-anchor=\"middle\" x=\"6222.5\" y=\"-134.3\" font-family=\"Times,serif\" font-size=\"14.00\" fill=\"#000000\">value = [3, 0]</text>\n<text text-anchor=\"middle\" x=\"6222.5\" y=\"-119.3\" font-family=\"Times,serif\" font-size=\"14.00\" fill=\"#000000\">class = S</text>\n</g>\n<!-- 362&#45;&gt;363 -->\n<g id=\"edge363\" class=\"edge\">\n<title>362&#45;&gt;363</title>\n<path fill=\"none\" stroke=\"#000000\" d=\"M6257.6134,-222.8796C6252.6735,-211.9935 6247.3341,-200.227 6242.3459,-189.2344\"/>\n<polygon fill=\"#000000\" stroke=\"#000000\" points=\"6245.391,-187.4749 6238.0715,-179.8149 6239.0166,-190.3675 6245.391,-187.4749\"/>\n</g>\n<!-- 364 -->\n<g id=\"node365\" class=\"node\">\n<title>364</title>\n<polygon fill=\"#eeab7b\" stroke=\"#000000\" points=\"6383,-187 6288,-187 6288,-104 6383,-104 6383,-187\"/>\n<text text-anchor=\"middle\" x=\"6335.5\" y=\"-171.8\" font-family=\"Times,serif\" font-size=\"14.00\" fill=\"#000000\">Age &lt;= 28.5</text>\n<text text-anchor=\"middle\" x=\"6335.5\" y=\"-156.8\" font-family=\"Times,serif\" font-size=\"14.00\" fill=\"#000000\">gini = 0.375</text>\n<text text-anchor=\"middle\" x=\"6335.5\" y=\"-141.8\" font-family=\"Times,serif\" font-size=\"14.00\" fill=\"#000000\">samples = 4</text>\n<text text-anchor=\"middle\" x=\"6335.5\" y=\"-126.8\" font-family=\"Times,serif\" font-size=\"14.00\" fill=\"#000000\">value = [3, 1]</text>\n<text text-anchor=\"middle\" x=\"6335.5\" y=\"-111.8\" font-family=\"Times,serif\" font-size=\"14.00\" fill=\"#000000\">class = S</text>\n</g>\n<!-- 362&#45;&gt;364 -->\n<g id=\"edge364\" class=\"edge\">\n<title>362&#45;&gt;364</title>\n<path fill=\"none\" stroke=\"#000000\" d=\"M6297.1353,-222.8796C6301.3774,-214.3236 6305.889,-205.2238 6310.2721,-196.3833\"/>\n<polygon fill=\"#000000\" stroke=\"#000000\" points=\"6313.4703,-197.8121 6314.7766,-187.2981 6307.1988,-194.7026 6313.4703,-197.8121\"/>\n</g>\n<!-- 365 -->\n<g id=\"node366\" class=\"node\">\n<title>365</title>\n<polygon fill=\"#e58139\" stroke=\"#000000\" points=\"6327,-68 6232,-68 6232,0 6327,0 6327,-68\"/>\n<text text-anchor=\"middle\" x=\"6279.5\" y=\"-52.8\" font-family=\"Times,serif\" font-size=\"14.00\" fill=\"#000000\">gini = 0.0</text>\n<text text-anchor=\"middle\" x=\"6279.5\" y=\"-37.8\" font-family=\"Times,serif\" font-size=\"14.00\" fill=\"#000000\">samples = 2</text>\n<text text-anchor=\"middle\" x=\"6279.5\" y=\"-22.8\" font-family=\"Times,serif\" font-size=\"14.00\" fill=\"#000000\">value = [2, 0]</text>\n<text text-anchor=\"middle\" x=\"6279.5\" y=\"-7.8\" font-family=\"Times,serif\" font-size=\"14.00\" fill=\"#000000\">class = S</text>\n</g>\n<!-- 364&#45;&gt;365 -->\n<g id=\"edge365\" class=\"edge\">\n<title>364&#45;&gt;365</title>\n<path fill=\"none\" stroke=\"#000000\" d=\"M6314.6477,-103.9815C6310.2625,-95.2504 6305.6267,-86.0202 6301.211,-77.2281\"/>\n<polygon fill=\"#000000\" stroke=\"#000000\" points=\"6304.3246,-75.6291 6296.7087,-68.2637 6298.0692,-78.7708 6304.3246,-75.6291\"/>\n</g>\n<!-- 366 -->\n<g id=\"node367\" class=\"node\">\n<title>366</title>\n<polygon fill=\"#ffffff\" stroke=\"#000000\" points=\"6440,-68 6345,-68 6345,0 6440,0 6440,-68\"/>\n<text text-anchor=\"middle\" x=\"6392.5\" y=\"-52.8\" font-family=\"Times,serif\" font-size=\"14.00\" fill=\"#000000\">gini = 0.5</text>\n<text text-anchor=\"middle\" x=\"6392.5\" y=\"-37.8\" font-family=\"Times,serif\" font-size=\"14.00\" fill=\"#000000\">samples = 2</text>\n<text text-anchor=\"middle\" x=\"6392.5\" y=\"-22.8\" font-family=\"Times,serif\" font-size=\"14.00\" fill=\"#000000\">value = [1, 1]</text>\n<text text-anchor=\"middle\" x=\"6392.5\" y=\"-7.8\" font-family=\"Times,serif\" font-size=\"14.00\" fill=\"#000000\">class = S</text>\n</g>\n<!-- 364&#45;&gt;366 -->\n<g id=\"edge366\" class=\"edge\">\n<title>364&#45;&gt;366</title>\n<path fill=\"none\" stroke=\"#000000\" d=\"M6356.7247,-103.9815C6361.1881,-95.2504 6365.9067,-86.0202 6370.4013,-77.2281\"/>\n<polygon fill=\"#000000\" stroke=\"#000000\" points=\"6373.5486,-78.7608 6374.984,-68.2637 6367.3158,-75.5745 6373.5486,-78.7608\"/>\n</g>\n<!-- 369 -->\n<g id=\"node370\" class=\"node\">\n<title>369</title>\n<polygon fill=\"#e58139\" stroke=\"#000000\" points=\"6470,-417.5 6375,-417.5 6375,-349.5 6470,-349.5 6470,-417.5\"/>\n<text text-anchor=\"middle\" x=\"6422.5\" y=\"-402.3\" font-family=\"Times,serif\" font-size=\"14.00\" fill=\"#000000\">gini = 0.0</text>\n<text text-anchor=\"middle\" x=\"6422.5\" y=\"-387.3\" font-family=\"Times,serif\" font-size=\"14.00\" fill=\"#000000\">samples = 4</text>\n<text text-anchor=\"middle\" x=\"6422.5\" y=\"-372.3\" font-family=\"Times,serif\" font-size=\"14.00\" fill=\"#000000\">value = [4, 0]</text>\n<text text-anchor=\"middle\" x=\"6422.5\" y=\"-357.3\" font-family=\"Times,serif\" font-size=\"14.00\" fill=\"#000000\">class = S</text>\n</g>\n<!-- 368&#45;&gt;369 -->\n<g id=\"edge369\" class=\"edge\">\n<title>368&#45;&gt;369</title>\n<path fill=\"none\" stroke=\"#000000\" d=\"M6422.5,-460.8796C6422.5,-450.2134 6422.5,-438.7021 6422.5,-427.9015\"/>\n<polygon fill=\"#000000\" stroke=\"#000000\" points=\"6426.0001,-427.8149 6422.5,-417.8149 6419.0001,-427.815 6426.0001,-427.8149\"/>\n</g>\n<!-- 370 -->\n<g id=\"node371\" class=\"node\">\n<title>370</title>\n<polygon fill=\"#ea9a61\" stroke=\"#000000\" points=\"6583,-425 6488,-425 6488,-342 6583,-342 6583,-425\"/>\n<text text-anchor=\"middle\" x=\"6535.5\" y=\"-409.8\" font-family=\"Times,serif\" font-size=\"14.00\" fill=\"#000000\">Age &lt;= 29.5</text>\n<text text-anchor=\"middle\" x=\"6535.5\" y=\"-394.8\" font-family=\"Times,serif\" font-size=\"14.00\" fill=\"#000000\">gini = 0.278</text>\n<text text-anchor=\"middle\" x=\"6535.5\" y=\"-379.8\" font-family=\"Times,serif\" font-size=\"14.00\" fill=\"#000000\">samples = 6</text>\n<text text-anchor=\"middle\" x=\"6535.5\" y=\"-364.8\" font-family=\"Times,serif\" font-size=\"14.00\" fill=\"#000000\">value = [5, 1]</text>\n<text text-anchor=\"middle\" x=\"6535.5\" y=\"-349.8\" font-family=\"Times,serif\" font-size=\"14.00\" fill=\"#000000\">class = S</text>\n</g>\n<!-- 368&#45;&gt;370 -->\n<g id=\"edge370\" class=\"edge\">\n<title>368&#45;&gt;370</title>\n<path fill=\"none\" stroke=\"#000000\" d=\"M6462.0219,-460.8796C6470.6597,-451.7832 6479.881,-442.0722 6488.7697,-432.7116\"/>\n<polygon fill=\"#000000\" stroke=\"#000000\" points=\"6491.4615,-434.9597 6495.8094,-425.2981 6486.3854,-430.1395 6491.4615,-434.9597\"/>\n</g>\n<!-- 371 -->\n<g id=\"node372\" class=\"node\">\n<title>371</title>\n<polygon fill=\"#ffffff\" stroke=\"#000000\" points=\"6557.5,-306 6459.5,-306 6459.5,-223 6557.5,-223 6557.5,-306\"/>\n<text text-anchor=\"middle\" x=\"6508.5\" y=\"-290.8\" font-family=\"Times,serif\" font-size=\"14.00\" fill=\"#000000\">Fare &lt;= 11.75</text>\n<text text-anchor=\"middle\" x=\"6508.5\" y=\"-275.8\" font-family=\"Times,serif\" font-size=\"14.00\" fill=\"#000000\">gini = 0.5</text>\n<text text-anchor=\"middle\" x=\"6508.5\" y=\"-260.8\" font-family=\"Times,serif\" font-size=\"14.00\" fill=\"#000000\">samples = 2</text>\n<text text-anchor=\"middle\" x=\"6508.5\" y=\"-245.8\" font-family=\"Times,serif\" font-size=\"14.00\" fill=\"#000000\">value = [1, 1]</text>\n<text text-anchor=\"middle\" x=\"6508.5\" y=\"-230.8\" font-family=\"Times,serif\" font-size=\"14.00\" fill=\"#000000\">class = S</text>\n</g>\n<!-- 370&#45;&gt;371 -->\n<g id=\"edge371\" class=\"edge\">\n<title>370&#45;&gt;371</title>\n<path fill=\"none\" stroke=\"#000000\" d=\"M6526.0567,-341.8796C6524.1767,-333.5938 6522.1811,-324.798 6520.2351,-316.2216\"/>\n<polygon fill=\"#000000\" stroke=\"#000000\" points=\"6523.6096,-315.2757 6517.9836,-306.2981 6516.7831,-316.8247 6523.6096,-315.2757\"/>\n</g>\n<!-- 374 -->\n<g id=\"node375\" class=\"node\">\n<title>374</title>\n<polygon fill=\"#e58139\" stroke=\"#000000\" points=\"6671,-298.5 6576,-298.5 6576,-230.5 6671,-230.5 6671,-298.5\"/>\n<text text-anchor=\"middle\" x=\"6623.5\" y=\"-283.3\" font-family=\"Times,serif\" font-size=\"14.00\" fill=\"#000000\">gini = 0.0</text>\n<text text-anchor=\"middle\" x=\"6623.5\" y=\"-268.3\" font-family=\"Times,serif\" font-size=\"14.00\" fill=\"#000000\">samples = 4</text>\n<text text-anchor=\"middle\" x=\"6623.5\" y=\"-253.3\" font-family=\"Times,serif\" font-size=\"14.00\" fill=\"#000000\">value = [4, 0]</text>\n<text text-anchor=\"middle\" x=\"6623.5\" y=\"-238.3\" font-family=\"Times,serif\" font-size=\"14.00\" fill=\"#000000\">class = S</text>\n</g>\n<!-- 370&#45;&gt;374 -->\n<g id=\"edge374\" class=\"edge\">\n<title>370&#45;&gt;374</title>\n<path fill=\"none\" stroke=\"#000000\" d=\"M6566.2781,-341.8796C6574.6536,-330.5536 6583.7338,-318.2748 6592.1411,-306.9058\"/>\n<polygon fill=\"#000000\" stroke=\"#000000\" points=\"6594.9925,-308.9364 6598.1242,-298.8149 6589.3643,-304.7743 6594.9925,-308.9364\"/>\n</g>\n<!-- 372 -->\n<g id=\"node373\" class=\"node\">\n<title>372</title>\n<polygon fill=\"#e58139\" stroke=\"#000000\" points=\"6499,-179.5 6404,-179.5 6404,-111.5 6499,-111.5 6499,-179.5\"/>\n<text text-anchor=\"middle\" x=\"6451.5\" y=\"-164.3\" font-family=\"Times,serif\" font-size=\"14.00\" fill=\"#000000\">gini = 0.0</text>\n<text text-anchor=\"middle\" x=\"6451.5\" y=\"-149.3\" font-family=\"Times,serif\" font-size=\"14.00\" fill=\"#000000\">samples = 1</text>\n<text text-anchor=\"middle\" x=\"6451.5\" y=\"-134.3\" font-family=\"Times,serif\" font-size=\"14.00\" fill=\"#000000\">value = [1, 0]</text>\n<text text-anchor=\"middle\" x=\"6451.5\" y=\"-119.3\" font-family=\"Times,serif\" font-size=\"14.00\" fill=\"#000000\">class = S</text>\n</g>\n<!-- 371&#45;&gt;372 -->\n<g id=\"edge372\" class=\"edge\">\n<title>371&#45;&gt;372</title>\n<path fill=\"none\" stroke=\"#000000\" d=\"M6488.5642,-222.8796C6483.2971,-211.8835 6477.5999,-199.9893 6472.289,-188.9015\"/>\n<polygon fill=\"#000000\" stroke=\"#000000\" points=\"6475.4131,-187.3217 6467.9366,-179.8149 6469.1,-190.3457 6475.4131,-187.3217\"/>\n</g>\n<!-- 373 -->\n<g id=\"node374\" class=\"node\">\n<title>373</title>\n<polygon fill=\"#399de5\" stroke=\"#000000\" points=\"6612,-179.5 6517,-179.5 6517,-111.5 6612,-111.5 6612,-179.5\"/>\n<text text-anchor=\"middle\" x=\"6564.5\" y=\"-164.3\" font-family=\"Times,serif\" font-size=\"14.00\" fill=\"#000000\">gini = 0.0</text>\n<text text-anchor=\"middle\" x=\"6564.5\" y=\"-149.3\" font-family=\"Times,serif\" font-size=\"14.00\" fill=\"#000000\">samples = 1</text>\n<text text-anchor=\"middle\" x=\"6564.5\" y=\"-134.3\" font-family=\"Times,serif\" font-size=\"14.00\" fill=\"#000000\">value = [0, 1]</text>\n<text text-anchor=\"middle\" x=\"6564.5\" y=\"-119.3\" font-family=\"Times,serif\" font-size=\"14.00\" fill=\"#000000\">class = u</text>\n</g>\n<!-- 371&#45;&gt;373 -->\n<g id=\"edge373\" class=\"edge\">\n<title>371&#45;&gt;373</title>\n<path fill=\"none\" stroke=\"#000000\" d=\"M6528.0861,-222.8796C6533.2607,-211.8835 6538.858,-199.9893 6544.0758,-188.9015\"/>\n<polygon fill=\"#000000\" stroke=\"#000000\" points=\"6547.2606,-190.3534 6548.3518,-179.8149 6540.9269,-187.3728 6547.2606,-190.3534\"/>\n</g>\n<!-- 376 -->\n<g id=\"node377\" class=\"node\">\n<title>376</title>\n<polygon fill=\"#e58139\" stroke=\"#000000\" points=\"6583,-536.5 6488,-536.5 6488,-468.5 6583,-468.5 6583,-536.5\"/>\n<text text-anchor=\"middle\" x=\"6535.5\" y=\"-521.3\" font-family=\"Times,serif\" font-size=\"14.00\" fill=\"#000000\">gini = 0.0</text>\n<text text-anchor=\"middle\" x=\"6535.5\" y=\"-506.3\" font-family=\"Times,serif\" font-size=\"14.00\" fill=\"#000000\">samples = 1</text>\n<text text-anchor=\"middle\" x=\"6535.5\" y=\"-491.3\" font-family=\"Times,serif\" font-size=\"14.00\" fill=\"#000000\">value = [1, 0]</text>\n<text text-anchor=\"middle\" x=\"6535.5\" y=\"-476.3\" font-family=\"Times,serif\" font-size=\"14.00\" fill=\"#000000\">class = S</text>\n</g>\n<!-- 375&#45;&gt;376 -->\n<g id=\"edge376\" class=\"edge\">\n<title>375&#45;&gt;376</title>\n<path fill=\"none\" stroke=\"#000000\" d=\"M6536.8005,-579.8796C6536.6212,-569.2134 6536.4278,-557.7021 6536.2462,-546.9015\"/>\n<polygon fill=\"#000000\" stroke=\"#000000\" points=\"6539.7444,-546.7547 6536.0767,-536.8149 6532.7454,-546.8724 6539.7444,-546.7547\"/>\n</g>\n<!-- 377 -->\n<g id=\"node378\" class=\"node\">\n<title>377</title>\n<polygon fill=\"#399de5\" stroke=\"#000000\" points=\"6696,-536.5 6601,-536.5 6601,-468.5 6696,-468.5 6696,-536.5\"/>\n<text text-anchor=\"middle\" x=\"6648.5\" y=\"-521.3\" font-family=\"Times,serif\" font-size=\"14.00\" fill=\"#000000\">gini = 0.0</text>\n<text text-anchor=\"middle\" x=\"6648.5\" y=\"-506.3\" font-family=\"Times,serif\" font-size=\"14.00\" fill=\"#000000\">samples = 1</text>\n<text text-anchor=\"middle\" x=\"6648.5\" y=\"-491.3\" font-family=\"Times,serif\" font-size=\"14.00\" fill=\"#000000\">value = [0, 1]</text>\n<text text-anchor=\"middle\" x=\"6648.5\" y=\"-476.3\" font-family=\"Times,serif\" font-size=\"14.00\" fill=\"#000000\">class = u</text>\n</g>\n<!-- 375&#45;&gt;377 -->\n<g id=\"edge377\" class=\"edge\">\n<title>375&#45;&gt;377</title>\n<path fill=\"none\" stroke=\"#000000\" d=\"M6576.3224,-579.8796C6587.0921,-568.3337 6598.7854,-555.7976 6609.5617,-544.2446\"/>\n<polygon fill=\"#000000\" stroke=\"#000000\" points=\"6612.2303,-546.5149 6616.492,-536.8149 6607.1115,-541.7402 6612.2303,-546.5149\"/>\n</g>\n<!-- 379 -->\n<g id=\"node380\" class=\"node\">\n<title>379</title>\n<polygon fill=\"#e78c4b\" stroke=\"#000000\" points=\"6875,-663 6768,-663 6768,-580 6875,-580 6875,-663\"/>\n<text text-anchor=\"middle\" x=\"6821.5\" y=\"-647.8\" font-family=\"Times,serif\" font-size=\"14.00\" fill=\"#000000\">Fare &lt;= 12.762</text>\n<text text-anchor=\"middle\" x=\"6821.5\" y=\"-632.8\" font-family=\"Times,serif\" font-size=\"14.00\" fill=\"#000000\">gini = 0.153</text>\n<text text-anchor=\"middle\" x=\"6821.5\" y=\"-617.8\" font-family=\"Times,serif\" font-size=\"14.00\" fill=\"#000000\">samples = 24</text>\n<text text-anchor=\"middle\" x=\"6821.5\" y=\"-602.8\" font-family=\"Times,serif\" font-size=\"14.00\" fill=\"#000000\">value = [22, 2]</text>\n<text text-anchor=\"middle\" x=\"6821.5\" y=\"-587.8\" font-family=\"Times,serif\" font-size=\"14.00\" fill=\"#000000\">class = S</text>\n</g>\n<!-- 378&#45;&gt;379 -->\n<g id=\"edge379\" class=\"edge\">\n<title>378&#45;&gt;379</title>\n<path fill=\"none\" stroke=\"#000000\" d=\"M6821.5,-698.8796C6821.5,-690.6838 6821.5,-681.9891 6821.5,-673.5013\"/>\n<polygon fill=\"#000000\" stroke=\"#000000\" points=\"6825.0001,-673.298 6821.5,-663.2981 6818.0001,-673.2981 6825.0001,-673.298\"/>\n</g>\n<!-- 388 -->\n<g id=\"node389\" class=\"node\">\n<title>388</title>\n<polygon fill=\"#f2c09c\" stroke=\"#000000\" points=\"7043,-663 6948,-663 6948,-580 7043,-580 7043,-663\"/>\n<text text-anchor=\"middle\" x=\"6995.5\" y=\"-647.8\" font-family=\"Times,serif\" font-size=\"14.00\" fill=\"#000000\">Age &lt;= 64.0</text>\n<text text-anchor=\"middle\" x=\"6995.5\" y=\"-632.8\" font-family=\"Times,serif\" font-size=\"14.00\" fill=\"#000000\">gini = 0.444</text>\n<text text-anchor=\"middle\" x=\"6995.5\" y=\"-617.8\" font-family=\"Times,serif\" font-size=\"14.00\" fill=\"#000000\">samples = 3</text>\n<text text-anchor=\"middle\" x=\"6995.5\" y=\"-602.8\" font-family=\"Times,serif\" font-size=\"14.00\" fill=\"#000000\">value = [2, 1]</text>\n<text text-anchor=\"middle\" x=\"6995.5\" y=\"-587.8\" font-family=\"Times,serif\" font-size=\"14.00\" fill=\"#000000\">class = S</text>\n</g>\n<!-- 378&#45;&gt;388 -->\n<g id=\"edge388\" class=\"edge\">\n<title>378&#45;&gt;388</title>\n<path fill=\"none\" stroke=\"#000000\" d=\"M6872.7646,-705.4397C6893.7387,-691.0954 6918.0665,-674.4574 6939.5047,-659.7956\"/>\n<polygon fill=\"#000000\" stroke=\"#000000\" points=\"6941.5962,-662.6055 6947.8747,-654.0714 6937.6446,-656.8275 6941.5962,-662.6055\"/>\n</g>\n<!-- 380 -->\n<g id=\"node381\" class=\"node\">\n<title>380</title>\n<polygon fill=\"#e58139\" stroke=\"#000000\" points=\"6816.5,-536.5 6714.5,-536.5 6714.5,-468.5 6816.5,-468.5 6816.5,-536.5\"/>\n<text text-anchor=\"middle\" x=\"6765.5\" y=\"-521.3\" font-family=\"Times,serif\" font-size=\"14.00\" fill=\"#000000\">gini = 0.0</text>\n<text text-anchor=\"middle\" x=\"6765.5\" y=\"-506.3\" font-family=\"Times,serif\" font-size=\"14.00\" fill=\"#000000\">samples = 13</text>\n<text text-anchor=\"middle\" x=\"6765.5\" y=\"-491.3\" font-family=\"Times,serif\" font-size=\"14.00\" fill=\"#000000\">value = [13, 0]</text>\n<text text-anchor=\"middle\" x=\"6765.5\" y=\"-476.3\" font-family=\"Times,serif\" font-size=\"14.00\" fill=\"#000000\">class = S</text>\n</g>\n<!-- 379&#45;&gt;380 -->\n<g id=\"edge380\" class=\"edge\">\n<title>379&#45;&gt;380</title>\n<path fill=\"none\" stroke=\"#000000\" d=\"M6801.9139,-579.8796C6796.7393,-568.8835 6791.142,-556.9893 6785.9242,-545.9015\"/>\n<polygon fill=\"#000000\" stroke=\"#000000\" points=\"6789.0731,-544.3728 6781.6482,-536.8149 6782.7394,-547.3534 6789.0731,-544.3728\"/>\n</g>\n<!-- 381 -->\n<g id=\"node382\" class=\"node\">\n<title>381</title>\n<polygon fill=\"#eb9d65\" stroke=\"#000000\" points=\"6930,-544 6835,-544 6835,-461 6930,-461 6930,-544\"/>\n<text text-anchor=\"middle\" x=\"6882.5\" y=\"-528.8\" font-family=\"Times,serif\" font-size=\"14.00\" fill=\"#000000\">Age &lt;= 45.0</text>\n<text text-anchor=\"middle\" x=\"6882.5\" y=\"-513.8\" font-family=\"Times,serif\" font-size=\"14.00\" fill=\"#000000\">gini = 0.298</text>\n<text text-anchor=\"middle\" x=\"6882.5\" y=\"-498.8\" font-family=\"Times,serif\" font-size=\"14.00\" fill=\"#000000\">samples = 11</text>\n<text text-anchor=\"middle\" x=\"6882.5\" y=\"-483.8\" font-family=\"Times,serif\" font-size=\"14.00\" fill=\"#000000\">value = [9, 2]</text>\n<text text-anchor=\"middle\" x=\"6882.5\" y=\"-468.8\" font-family=\"Times,serif\" font-size=\"14.00\" fill=\"#000000\">class = S</text>\n</g>\n<!-- 379&#45;&gt;381 -->\n<g id=\"edge381\" class=\"edge\">\n<title>379&#45;&gt;381</title>\n<path fill=\"none\" stroke=\"#000000\" d=\"M6842.8348,-579.8796C6847.2207,-571.3236 6851.8853,-562.2238 6856.417,-553.3833\"/>\n<polygon fill=\"#000000\" stroke=\"#000000\" points=\"6859.627,-554.7936 6861.0741,-544.2981 6853.3978,-551.6004 6859.627,-554.7936\"/>\n</g>\n<!-- 382 -->\n<g id=\"node383\" class=\"node\">\n<title>382</title>\n<polygon fill=\"#eeab7b\" stroke=\"#000000\" points=\"6871,-425 6776,-425 6776,-342 6871,-342 6871,-425\"/>\n<text text-anchor=\"middle\" x=\"6823.5\" y=\"-409.8\" font-family=\"Times,serif\" font-size=\"14.00\" fill=\"#000000\">Age &lt;= 40.5</text>\n<text text-anchor=\"middle\" x=\"6823.5\" y=\"-394.8\" font-family=\"Times,serif\" font-size=\"14.00\" fill=\"#000000\">gini = 0.375</text>\n<text text-anchor=\"middle\" x=\"6823.5\" y=\"-379.8\" font-family=\"Times,serif\" font-size=\"14.00\" fill=\"#000000\">samples = 8</text>\n<text text-anchor=\"middle\" x=\"6823.5\" y=\"-364.8\" font-family=\"Times,serif\" font-size=\"14.00\" fill=\"#000000\">value = [6, 2]</text>\n<text text-anchor=\"middle\" x=\"6823.5\" y=\"-349.8\" font-family=\"Times,serif\" font-size=\"14.00\" fill=\"#000000\">class = S</text>\n</g>\n<!-- 381&#45;&gt;382 -->\n<g id=\"edge382\" class=\"edge\">\n<title>381&#45;&gt;382</title>\n<path fill=\"none\" stroke=\"#000000\" d=\"M6861.8647,-460.8796C6857.6226,-452.3236 6853.111,-443.2238 6848.7279,-434.3833\"/>\n<polygon fill=\"#000000\" stroke=\"#000000\" points=\"6851.8012,-432.7026 6844.2234,-425.2981 6845.5297,-435.8121 6851.8012,-432.7026\"/>\n</g>\n<!-- 387 -->\n<g id=\"node388\" class=\"node\">\n<title>387</title>\n<polygon fill=\"#e58139\" stroke=\"#000000\" points=\"6984,-417.5 6889,-417.5 6889,-349.5 6984,-349.5 6984,-417.5\"/>\n<text text-anchor=\"middle\" x=\"6936.5\" y=\"-402.3\" font-family=\"Times,serif\" font-size=\"14.00\" fill=\"#000000\">gini = 0.0</text>\n<text text-anchor=\"middle\" x=\"6936.5\" y=\"-387.3\" font-family=\"Times,serif\" font-size=\"14.00\" fill=\"#000000\">samples = 3</text>\n<text text-anchor=\"middle\" x=\"6936.5\" y=\"-372.3\" font-family=\"Times,serif\" font-size=\"14.00\" fill=\"#000000\">value = [3, 0]</text>\n<text text-anchor=\"middle\" x=\"6936.5\" y=\"-357.3\" font-family=\"Times,serif\" font-size=\"14.00\" fill=\"#000000\">class = S</text>\n</g>\n<!-- 381&#45;&gt;387 -->\n<g id=\"edge387\" class=\"edge\">\n<title>381&#45;&gt;387</title>\n<path fill=\"none\" stroke=\"#000000\" d=\"M6901.3866,-460.8796C6906.3265,-449.9935 6911.6659,-438.227 6916.6541,-427.2344\"/>\n<polygon fill=\"#000000\" stroke=\"#000000\" points=\"6919.9834,-428.3675 6920.9285,-417.8149 6913.609,-425.4749 6919.9834,-428.3675\"/>\n</g>\n<!-- 383 -->\n<g id=\"node384\" class=\"node\">\n<title>383</title>\n<polygon fill=\"#ea9a61\" stroke=\"#000000\" points=\"6785,-306 6690,-306 6690,-223 6785,-223 6785,-306\"/>\n<text text-anchor=\"middle\" x=\"6737.5\" y=\"-290.8\" font-family=\"Times,serif\" font-size=\"14.00\" fill=\"#000000\">Age &lt;= 35.0</text>\n<text text-anchor=\"middle\" x=\"6737.5\" y=\"-275.8\" font-family=\"Times,serif\" font-size=\"14.00\" fill=\"#000000\">gini = 0.278</text>\n<text text-anchor=\"middle\" x=\"6737.5\" y=\"-260.8\" font-family=\"Times,serif\" font-size=\"14.00\" fill=\"#000000\">samples = 6</text>\n<text text-anchor=\"middle\" x=\"6737.5\" y=\"-245.8\" font-family=\"Times,serif\" font-size=\"14.00\" fill=\"#000000\">value = [5, 1]</text>\n<text text-anchor=\"middle\" x=\"6737.5\" y=\"-230.8\" font-family=\"Times,serif\" font-size=\"14.00\" fill=\"#000000\">class = S</text>\n</g>\n<!-- 382&#45;&gt;383 -->\n<g id=\"edge383\" class=\"edge\">\n<title>382&#45;&gt;383</title>\n<path fill=\"none\" stroke=\"#000000\" d=\"M6793.4214,-341.8796C6787.0428,-333.0534 6780.246,-323.6485 6773.6681,-314.5466\"/>\n<polygon fill=\"#000000\" stroke=\"#000000\" points=\"6776.4012,-312.353 6767.707,-306.2981 6770.7277,-316.4532 6776.4012,-312.353\"/>\n</g>\n<!-- 386 -->\n<g id=\"node387\" class=\"node\">\n<title>386</title>\n<polygon fill=\"#ffffff\" stroke=\"#000000\" points=\"6898,-298.5 6803,-298.5 6803,-230.5 6898,-230.5 6898,-298.5\"/>\n<text text-anchor=\"middle\" x=\"6850.5\" y=\"-283.3\" font-family=\"Times,serif\" font-size=\"14.00\" fill=\"#000000\">gini = 0.5</text>\n<text text-anchor=\"middle\" x=\"6850.5\" y=\"-268.3\" font-family=\"Times,serif\" font-size=\"14.00\" fill=\"#000000\">samples = 2</text>\n<text text-anchor=\"middle\" x=\"6850.5\" y=\"-253.3\" font-family=\"Times,serif\" font-size=\"14.00\" fill=\"#000000\">value = [1, 1]</text>\n<text text-anchor=\"middle\" x=\"6850.5\" y=\"-238.3\" font-family=\"Times,serif\" font-size=\"14.00\" fill=\"#000000\">class = S</text>\n</g>\n<!-- 382&#45;&gt;386 -->\n<g id=\"edge386\" class=\"edge\">\n<title>382&#45;&gt;386</title>\n<path fill=\"none\" stroke=\"#000000\" d=\"M6832.9433,-341.8796C6835.3883,-331.1034 6838.029,-319.4647 6840.5014,-308.5677\"/>\n<polygon fill=\"#000000\" stroke=\"#000000\" points=\"6843.9148,-309.3415 6842.7143,-298.8149 6837.0883,-307.7926 6843.9148,-309.3415\"/>\n</g>\n<!-- 384 -->\n<g id=\"node385\" class=\"node\">\n<title>384</title>\n<polygon fill=\"#f2c09c\" stroke=\"#000000\" points=\"6726,-179.5 6631,-179.5 6631,-111.5 6726,-111.5 6726,-179.5\"/>\n<text text-anchor=\"middle\" x=\"6678.5\" y=\"-164.3\" font-family=\"Times,serif\" font-size=\"14.00\" fill=\"#000000\">gini = 0.444</text>\n<text text-anchor=\"middle\" x=\"6678.5\" y=\"-149.3\" font-family=\"Times,serif\" font-size=\"14.00\" fill=\"#000000\">samples = 3</text>\n<text text-anchor=\"middle\" x=\"6678.5\" y=\"-134.3\" font-family=\"Times,serif\" font-size=\"14.00\" fill=\"#000000\">value = [2, 1]</text>\n<text text-anchor=\"middle\" x=\"6678.5\" y=\"-119.3\" font-family=\"Times,serif\" font-size=\"14.00\" fill=\"#000000\">class = S</text>\n</g>\n<!-- 383&#45;&gt;384 -->\n<g id=\"edge384\" class=\"edge\">\n<title>383&#45;&gt;384</title>\n<path fill=\"none\" stroke=\"#000000\" d=\"M6716.8647,-222.8796C6711.4128,-211.8835 6705.5157,-199.9893 6700.0184,-188.9015\"/>\n<polygon fill=\"#000000\" stroke=\"#000000\" points=\"6703.0911,-187.2195 6695.5133,-179.8149 6696.8196,-190.3289 6703.0911,-187.2195\"/>\n</g>\n<!-- 385 -->\n<g id=\"node386\" class=\"node\">\n<title>385</title>\n<polygon fill=\"#e58139\" stroke=\"#000000\" points=\"6839,-179.5 6744,-179.5 6744,-111.5 6839,-111.5 6839,-179.5\"/>\n<text text-anchor=\"middle\" x=\"6791.5\" y=\"-164.3\" font-family=\"Times,serif\" font-size=\"14.00\" fill=\"#000000\">gini = 0.0</text>\n<text text-anchor=\"middle\" x=\"6791.5\" y=\"-149.3\" font-family=\"Times,serif\" font-size=\"14.00\" fill=\"#000000\">samples = 3</text>\n<text text-anchor=\"middle\" x=\"6791.5\" y=\"-134.3\" font-family=\"Times,serif\" font-size=\"14.00\" fill=\"#000000\">value = [3, 0]</text>\n<text text-anchor=\"middle\" x=\"6791.5\" y=\"-119.3\" font-family=\"Times,serif\" font-size=\"14.00\" fill=\"#000000\">class = S</text>\n</g>\n<!-- 383&#45;&gt;385 -->\n<g id=\"edge385\" class=\"edge\">\n<title>383&#45;&gt;385</title>\n<path fill=\"none\" stroke=\"#000000\" d=\"M6756.3866,-222.8796C6761.3265,-211.9935 6766.6659,-200.227 6771.6541,-189.2344\"/>\n<polygon fill=\"#000000\" stroke=\"#000000\" points=\"6774.9834,-190.3675 6775.9285,-179.8149 6768.609,-187.4749 6774.9834,-190.3675\"/>\n</g>\n<!-- 389 -->\n<g id=\"node390\" class=\"node\">\n<title>389</title>\n<polygon fill=\"#399de5\" stroke=\"#000000\" points=\"7043,-536.5 6948,-536.5 6948,-468.5 7043,-468.5 7043,-536.5\"/>\n<text text-anchor=\"middle\" x=\"6995.5\" y=\"-521.3\" font-family=\"Times,serif\" font-size=\"14.00\" fill=\"#000000\">gini = 0.0</text>\n<text text-anchor=\"middle\" x=\"6995.5\" y=\"-506.3\" font-family=\"Times,serif\" font-size=\"14.00\" fill=\"#000000\">samples = 1</text>\n<text text-anchor=\"middle\" x=\"6995.5\" y=\"-491.3\" font-family=\"Times,serif\" font-size=\"14.00\" fill=\"#000000\">value = [0, 1]</text>\n<text text-anchor=\"middle\" x=\"6995.5\" y=\"-476.3\" font-family=\"Times,serif\" font-size=\"14.00\" fill=\"#000000\">class = u</text>\n</g>\n<!-- 388&#45;&gt;389 -->\n<g id=\"edge389\" class=\"edge\">\n<title>388&#45;&gt;389</title>\n<path fill=\"none\" stroke=\"#000000\" d=\"M6995.5,-579.8796C6995.5,-569.2134 6995.5,-557.7021 6995.5,-546.9015\"/>\n<polygon fill=\"#000000\" stroke=\"#000000\" points=\"6999.0001,-546.8149 6995.5,-536.8149 6992.0001,-546.815 6999.0001,-546.8149\"/>\n</g>\n<!-- 390 -->\n<g id=\"node391\" class=\"node\">\n<title>390</title>\n<polygon fill=\"#e58139\" stroke=\"#000000\" points=\"7156,-536.5 7061,-536.5 7061,-468.5 7156,-468.5 7156,-536.5\"/>\n<text text-anchor=\"middle\" x=\"7108.5\" y=\"-521.3\" font-family=\"Times,serif\" font-size=\"14.00\" fill=\"#000000\">gini = 0.0</text>\n<text text-anchor=\"middle\" x=\"7108.5\" y=\"-506.3\" font-family=\"Times,serif\" font-size=\"14.00\" fill=\"#000000\">samples = 2</text>\n<text text-anchor=\"middle\" x=\"7108.5\" y=\"-491.3\" font-family=\"Times,serif\" font-size=\"14.00\" fill=\"#000000\">value = [2, 0]</text>\n<text text-anchor=\"middle\" x=\"7108.5\" y=\"-476.3\" font-family=\"Times,serif\" font-size=\"14.00\" fill=\"#000000\">class = S</text>\n</g>\n<!-- 388&#45;&gt;390 -->\n<g id=\"edge390\" class=\"edge\">\n<title>388&#45;&gt;390</title>\n<path fill=\"none\" stroke=\"#000000\" d=\"M7035.0219,-579.8796C7045.9857,-568.3337 7057.8897,-555.7976 7068.8601,-544.2446\"/>\n<polygon fill=\"#000000\" stroke=\"#000000\" points=\"7071.5673,-546.4766 7075.9152,-536.8149 7066.4913,-541.6564 7071.5673,-546.4766\"/>\n</g>\n<!-- 392 -->\n<g id=\"node393\" class=\"node\">\n<title>392</title>\n<polygon fill=\"#e9965a\" stroke=\"#000000\" points=\"5901,-1496 5806,-1496 5806,-1413 5901,-1413 5901,-1496\"/>\n<text text-anchor=\"middle\" x=\"5853.5\" y=\"-1480.8\" font-family=\"Times,serif\" font-size=\"14.00\" fill=\"#000000\">SibSp &lt;= 1.5</text>\n<text text-anchor=\"middle\" x=\"5853.5\" y=\"-1465.8\" font-family=\"Times,serif\" font-size=\"14.00\" fill=\"#000000\">gini = 0.245</text>\n<text text-anchor=\"middle\" x=\"5853.5\" y=\"-1450.8\" font-family=\"Times,serif\" font-size=\"14.00\" fill=\"#000000\">samples = 7</text>\n<text text-anchor=\"middle\" x=\"5853.5\" y=\"-1435.8\" font-family=\"Times,serif\" font-size=\"14.00\" fill=\"#000000\">value = [6, 1]</text>\n<text text-anchor=\"middle\" x=\"5853.5\" y=\"-1420.8\" font-family=\"Times,serif\" font-size=\"14.00\" fill=\"#000000\">class = S</text>\n</g>\n<!-- 391&#45;&gt;392 -->\n<g id=\"edge392\" class=\"edge\">\n<title>391&#45;&gt;392</title>\n<path fill=\"none\" stroke=\"#000000\" d=\"M5853.5,-1531.8796C5853.5,-1523.6838 5853.5,-1514.9891 5853.5,-1506.5013\"/>\n<polygon fill=\"#000000\" stroke=\"#000000\" points=\"5857.0001,-1506.298 5853.5,-1496.2981 5850.0001,-1506.2981 5857.0001,-1506.298\"/>\n</g>\n<!-- 395 -->\n<g id=\"node396\" class=\"node\">\n<title>395</title>\n<polygon fill=\"#e5833c\" stroke=\"#000000\" points=\"6109,-1496 6002,-1496 6002,-1413 6109,-1413 6109,-1496\"/>\n<text text-anchor=\"middle\" x=\"6055.5\" y=\"-1480.8\" font-family=\"Times,serif\" font-size=\"14.00\" fill=\"#000000\">Fare &lt;= 25.733</text>\n<text text-anchor=\"middle\" x=\"6055.5\" y=\"-1465.8\" font-family=\"Times,serif\" font-size=\"14.00\" fill=\"#000000\">gini = 0.031</text>\n<text text-anchor=\"middle\" x=\"6055.5\" y=\"-1450.8\" font-family=\"Times,serif\" font-size=\"14.00\" fill=\"#000000\">samples = 64</text>\n<text text-anchor=\"middle\" x=\"6055.5\" y=\"-1435.8\" font-family=\"Times,serif\" font-size=\"14.00\" fill=\"#000000\">value = [63, 1]</text>\n<text text-anchor=\"middle\" x=\"6055.5\" y=\"-1420.8\" font-family=\"Times,serif\" font-size=\"14.00\" fill=\"#000000\">class = S</text>\n</g>\n<!-- 391&#45;&gt;395 -->\n<g id=\"edge395\" class=\"edge\">\n<title>391&#45;&gt;395</title>\n<path fill=\"none\" stroke=\"#000000\" d=\"M5913.0141,-1538.4397C5938.207,-1523.5984 5967.5679,-1506.3016 5993.0688,-1491.2788\"/>\n<polygon fill=\"#000000\" stroke=\"#000000\" points=\"5995.0751,-1494.1591 6001.9146,-1486.0676 5991.522,-1488.1279 5995.0751,-1494.1591\"/>\n</g>\n<!-- 393 -->\n<g id=\"node394\" class=\"node\">\n<title>393</title>\n<polygon fill=\"#e58139\" stroke=\"#000000\" points=\"5887,-1369.5 5792,-1369.5 5792,-1301.5 5887,-1301.5 5887,-1369.5\"/>\n<text text-anchor=\"middle\" x=\"5839.5\" y=\"-1354.3\" font-family=\"Times,serif\" font-size=\"14.00\" fill=\"#000000\">gini = 0.0</text>\n<text text-anchor=\"middle\" x=\"5839.5\" y=\"-1339.3\" font-family=\"Times,serif\" font-size=\"14.00\" fill=\"#000000\">samples = 6</text>\n<text text-anchor=\"middle\" x=\"5839.5\" y=\"-1324.3\" font-family=\"Times,serif\" font-size=\"14.00\" fill=\"#000000\">value = [6, 0]</text>\n<text text-anchor=\"middle\" x=\"5839.5\" y=\"-1309.3\" font-family=\"Times,serif\" font-size=\"14.00\" fill=\"#000000\">class = S</text>\n</g>\n<!-- 392&#45;&gt;393 -->\n<g id=\"edge393\" class=\"edge\">\n<title>392&#45;&gt;393</title>\n<path fill=\"none\" stroke=\"#000000\" d=\"M5848.6035,-1412.8796C5847.3486,-1402.2134 5845.9944,-1390.7021 5844.7237,-1379.9015\"/>\n<polygon fill=\"#000000\" stroke=\"#000000\" points=\"5848.1816,-1379.3375 5843.5371,-1369.8149 5841.2295,-1380.1554 5848.1816,-1379.3375\"/>\n</g>\n<!-- 394 -->\n<g id=\"node395\" class=\"node\">\n<title>394</title>\n<polygon fill=\"#399de5\" stroke=\"#000000\" points=\"6000,-1369.5 5905,-1369.5 5905,-1301.5 6000,-1301.5 6000,-1369.5\"/>\n<text text-anchor=\"middle\" x=\"5952.5\" y=\"-1354.3\" font-family=\"Times,serif\" font-size=\"14.00\" fill=\"#000000\">gini = 0.0</text>\n<text text-anchor=\"middle\" x=\"5952.5\" y=\"-1339.3\" font-family=\"Times,serif\" font-size=\"14.00\" fill=\"#000000\">samples = 1</text>\n<text text-anchor=\"middle\" x=\"5952.5\" y=\"-1324.3\" font-family=\"Times,serif\" font-size=\"14.00\" fill=\"#000000\">value = [0, 1]</text>\n<text text-anchor=\"middle\" x=\"5952.5\" y=\"-1309.3\" font-family=\"Times,serif\" font-size=\"14.00\" fill=\"#000000\">class = u</text>\n</g>\n<!-- 392&#45;&gt;394 -->\n<g id=\"edge394\" class=\"edge\">\n<title>392&#45;&gt;394</title>\n<path fill=\"none\" stroke=\"#000000\" d=\"M5888.1254,-1412.8796C5897.6393,-1401.4436 5907.9614,-1389.0363 5917.4965,-1377.575\"/>\n<polygon fill=\"#000000\" stroke=\"#000000\" points=\"5920.2474,-1379.7409 5923.9523,-1369.8149 5914.8661,-1375.264 5920.2474,-1379.7409\"/>\n</g>\n<!-- 396 -->\n<g id=\"node397\" class=\"node\">\n<title>396</title>\n<polygon fill=\"#e58139\" stroke=\"#000000\" points=\"6120.5,-1369.5 6018.5,-1369.5 6018.5,-1301.5 6120.5,-1301.5 6120.5,-1369.5\"/>\n<text text-anchor=\"middle\" x=\"6069.5\" y=\"-1354.3\" font-family=\"Times,serif\" font-size=\"14.00\" fill=\"#000000\">gini = 0.0</text>\n<text text-anchor=\"middle\" x=\"6069.5\" y=\"-1339.3\" font-family=\"Times,serif\" font-size=\"14.00\" fill=\"#000000\">samples = 38</text>\n<text text-anchor=\"middle\" x=\"6069.5\" y=\"-1324.3\" font-family=\"Times,serif\" font-size=\"14.00\" fill=\"#000000\">value = [38, 0]</text>\n<text text-anchor=\"middle\" x=\"6069.5\" y=\"-1309.3\" font-family=\"Times,serif\" font-size=\"14.00\" fill=\"#000000\">class = S</text>\n</g>\n<!-- 395&#45;&gt;396 -->\n<g id=\"edge396\" class=\"edge\">\n<title>395&#45;&gt;396</title>\n<path fill=\"none\" stroke=\"#000000\" d=\"M6060.3965,-1412.8796C6061.6514,-1402.2134 6063.0056,-1390.7021 6064.2763,-1379.9015\"/>\n<polygon fill=\"#000000\" stroke=\"#000000\" points=\"6067.7705,-1380.1554 6065.4629,-1369.8149 6060.8184,-1379.3375 6067.7705,-1380.1554\"/>\n</g>\n<!-- 397 -->\n<g id=\"node398\" class=\"node\">\n<title>397</title>\n<polygon fill=\"#e68641\" stroke=\"#000000\" points=\"6256.5,-1377 6154.5,-1377 6154.5,-1294 6256.5,-1294 6256.5,-1377\"/>\n<text text-anchor=\"middle\" x=\"6205.5\" y=\"-1361.8\" font-family=\"Times,serif\" font-size=\"14.00\" fill=\"#000000\">Age &lt;= 33.0</text>\n<text text-anchor=\"middle\" x=\"6205.5\" y=\"-1346.8\" font-family=\"Times,serif\" font-size=\"14.00\" fill=\"#000000\">gini = 0.074</text>\n<text text-anchor=\"middle\" x=\"6205.5\" y=\"-1331.8\" font-family=\"Times,serif\" font-size=\"14.00\" fill=\"#000000\">samples = 26</text>\n<text text-anchor=\"middle\" x=\"6205.5\" y=\"-1316.8\" font-family=\"Times,serif\" font-size=\"14.00\" fill=\"#000000\">value = [25, 1]</text>\n<text text-anchor=\"middle\" x=\"6205.5\" y=\"-1301.8\" font-family=\"Times,serif\" font-size=\"14.00\" fill=\"#000000\">class = S</text>\n</g>\n<!-- 395&#45;&gt;397 -->\n<g id=\"edge397\" class=\"edge\">\n<title>395&#45;&gt;397</title>\n<path fill=\"none\" stroke=\"#000000\" d=\"M6107.9627,-1412.8796C6120.2987,-1403.0931 6133.5314,-1392.5951 6146.146,-1382.5875\"/>\n<polygon fill=\"#000000\" stroke=\"#000000\" points=\"6148.672,-1385.0513 6154.3308,-1376.0942 6144.3214,-1379.5674 6148.672,-1385.0513\"/>\n</g>\n<!-- 398 -->\n<g id=\"node399\" class=\"node\">\n<title>398</title>\n<polygon fill=\"#e88e4d\" stroke=\"#000000\" points=\"6256.5,-1258 6154.5,-1258 6154.5,-1175 6256.5,-1175 6256.5,-1258\"/>\n<text text-anchor=\"middle\" x=\"6205.5\" y=\"-1242.8\" font-family=\"Times,serif\" font-size=\"14.00\" fill=\"#000000\">Age &lt;= 31.5</text>\n<text text-anchor=\"middle\" x=\"6205.5\" y=\"-1227.8\" font-family=\"Times,serif\" font-size=\"14.00\" fill=\"#000000\">gini = 0.165</text>\n<text text-anchor=\"middle\" x=\"6205.5\" y=\"-1212.8\" font-family=\"Times,serif\" font-size=\"14.00\" fill=\"#000000\">samples = 11</text>\n<text text-anchor=\"middle\" x=\"6205.5\" y=\"-1197.8\" font-family=\"Times,serif\" font-size=\"14.00\" fill=\"#000000\">value = [10, 1]</text>\n<text text-anchor=\"middle\" x=\"6205.5\" y=\"-1182.8\" font-family=\"Times,serif\" font-size=\"14.00\" fill=\"#000000\">class = S</text>\n</g>\n<!-- 397&#45;&gt;398 -->\n<g id=\"edge398\" class=\"edge\">\n<title>397&#45;&gt;398</title>\n<path fill=\"none\" stroke=\"#000000\" d=\"M6205.5,-1293.8796C6205.5,-1285.6838 6205.5,-1276.9891 6205.5,-1268.5013\"/>\n<polygon fill=\"#000000\" stroke=\"#000000\" points=\"6209.0001,-1268.298 6205.5,-1258.2981 6202.0001,-1268.2981 6209.0001,-1268.298\"/>\n</g>\n<!-- 401 -->\n<g id=\"node402\" class=\"node\">\n<title>401</title>\n<polygon fill=\"#e58139\" stroke=\"#000000\" points=\"6376.5,-1250.5 6274.5,-1250.5 6274.5,-1182.5 6376.5,-1182.5 6376.5,-1250.5\"/>\n<text text-anchor=\"middle\" x=\"6325.5\" y=\"-1235.3\" font-family=\"Times,serif\" font-size=\"14.00\" fill=\"#000000\">gini = 0.0</text>\n<text text-anchor=\"middle\" x=\"6325.5\" y=\"-1220.3\" font-family=\"Times,serif\" font-size=\"14.00\" fill=\"#000000\">samples = 15</text>\n<text text-anchor=\"middle\" x=\"6325.5\" y=\"-1205.3\" font-family=\"Times,serif\" font-size=\"14.00\" fill=\"#000000\">value = [15, 0]</text>\n<text text-anchor=\"middle\" x=\"6325.5\" y=\"-1190.3\" font-family=\"Times,serif\" font-size=\"14.00\" fill=\"#000000\">class = S</text>\n</g>\n<!-- 397&#45;&gt;401 -->\n<g id=\"edge401\" class=\"edge\">\n<title>397&#45;&gt;401</title>\n<path fill=\"none\" stroke=\"#000000\" d=\"M6247.4702,-1293.8796C6259.224,-1282.2237 6271.9954,-1269.5587 6283.7372,-1257.9148\"/>\n<polygon fill=\"#000000\" stroke=\"#000000\" points=\"6286.2606,-1260.3416 6290.8967,-1250.8149 6281.3316,-1255.3712 6286.2606,-1260.3416\"/>\n</g>\n<!-- 399 -->\n<g id=\"node400\" class=\"node\">\n<title>399</title>\n<polygon fill=\"#e58139\" stroke=\"#000000\" points=\"6256.5,-1131.5 6154.5,-1131.5 6154.5,-1063.5 6256.5,-1063.5 6256.5,-1131.5\"/>\n<text text-anchor=\"middle\" x=\"6205.5\" y=\"-1116.3\" font-family=\"Times,serif\" font-size=\"14.00\" fill=\"#000000\">gini = 0.0</text>\n<text text-anchor=\"middle\" x=\"6205.5\" y=\"-1101.3\" font-family=\"Times,serif\" font-size=\"14.00\" fill=\"#000000\">samples = 10</text>\n<text text-anchor=\"middle\" x=\"6205.5\" y=\"-1086.3\" font-family=\"Times,serif\" font-size=\"14.00\" fill=\"#000000\">value = [10, 0]</text>\n<text text-anchor=\"middle\" x=\"6205.5\" y=\"-1071.3\" font-family=\"Times,serif\" font-size=\"14.00\" fill=\"#000000\">class = S</text>\n</g>\n<!-- 398&#45;&gt;399 -->\n<g id=\"edge399\" class=\"edge\">\n<title>398&#45;&gt;399</title>\n<path fill=\"none\" stroke=\"#000000\" d=\"M6205.5,-1174.8796C6205.5,-1164.2134 6205.5,-1152.7021 6205.5,-1141.9015\"/>\n<polygon fill=\"#000000\" stroke=\"#000000\" points=\"6209.0001,-1141.8149 6205.5,-1131.8149 6202.0001,-1141.815 6209.0001,-1141.8149\"/>\n</g>\n<!-- 400 -->\n<g id=\"node401\" class=\"node\">\n<title>400</title>\n<polygon fill=\"#399de5\" stroke=\"#000000\" points=\"6370,-1131.5 6275,-1131.5 6275,-1063.5 6370,-1063.5 6370,-1131.5\"/>\n<text text-anchor=\"middle\" x=\"6322.5\" y=\"-1116.3\" font-family=\"Times,serif\" font-size=\"14.00\" fill=\"#000000\">gini = 0.0</text>\n<text text-anchor=\"middle\" x=\"6322.5\" y=\"-1101.3\" font-family=\"Times,serif\" font-size=\"14.00\" fill=\"#000000\">samples = 1</text>\n<text text-anchor=\"middle\" x=\"6322.5\" y=\"-1086.3\" font-family=\"Times,serif\" font-size=\"14.00\" fill=\"#000000\">value = [0, 1]</text>\n<text text-anchor=\"middle\" x=\"6322.5\" y=\"-1071.3\" font-family=\"Times,serif\" font-size=\"14.00\" fill=\"#000000\">class = u</text>\n</g>\n<!-- 398&#45;&gt;400 -->\n<g id=\"edge400\" class=\"edge\">\n<title>398&#45;&gt;400</title>\n<path fill=\"none\" stroke=\"#000000\" d=\"M6246.4209,-1174.8796C6257.7728,-1163.3337 6270.0982,-1150.7976 6281.457,-1139.2446\"/>\n<polygon fill=\"#000000\" stroke=\"#000000\" points=\"6284.2466,-1141.3995 6288.7618,-1131.8149 6279.2551,-1136.4919 6284.2466,-1141.3995\"/>\n</g>\n<!-- 403 -->\n<g id=\"node404\" class=\"node\">\n<title>403</title>\n<polygon fill=\"#88c4ef\" stroke=\"#000000\" points=\"6054,-1853 5959,-1853 5959,-1770 6054,-1770 6054,-1853\"/>\n<text text-anchor=\"middle\" x=\"6006.5\" y=\"-1837.8\" font-family=\"Times,serif\" font-size=\"14.00\" fill=\"#000000\">Age &lt;= 30.5</text>\n<text text-anchor=\"middle\" x=\"6006.5\" y=\"-1822.8\" font-family=\"Times,serif\" font-size=\"14.00\" fill=\"#000000\">gini = 0.408</text>\n<text text-anchor=\"middle\" x=\"6006.5\" y=\"-1807.8\" font-family=\"Times,serif\" font-size=\"14.00\" fill=\"#000000\">samples = 7</text>\n<text text-anchor=\"middle\" x=\"6006.5\" y=\"-1792.8\" font-family=\"Times,serif\" font-size=\"14.00\" fill=\"#000000\">value = [2, 5]</text>\n<text text-anchor=\"middle\" x=\"6006.5\" y=\"-1777.8\" font-family=\"Times,serif\" font-size=\"14.00\" fill=\"#000000\">class = u</text>\n</g>\n<!-- 402&#45;&gt;403 -->\n<g id=\"edge403\" class=\"edge\">\n<title>402&#45;&gt;403</title>\n<path fill=\"none\" stroke=\"#000000\" d=\"M6006.5,-1888.8796C6006.5,-1880.6838 6006.5,-1871.9891 6006.5,-1863.5013\"/>\n<polygon fill=\"#000000\" stroke=\"#000000\" points=\"6010.0001,-1863.298 6006.5,-1853.2981 6003.0001,-1863.2981 6010.0001,-1863.298\"/>\n</g>\n<!-- 410 -->\n<g id=\"node411\" class=\"node\">\n<title>410</title>\n<polygon fill=\"#e58139\" stroke=\"#000000\" points=\"6167,-1845.5 6072,-1845.5 6072,-1777.5 6167,-1777.5 6167,-1845.5\"/>\n<text text-anchor=\"middle\" x=\"6119.5\" y=\"-1830.3\" font-family=\"Times,serif\" font-size=\"14.00\" fill=\"#000000\">gini = 0.0</text>\n<text text-anchor=\"middle\" x=\"6119.5\" y=\"-1815.3\" font-family=\"Times,serif\" font-size=\"14.00\" fill=\"#000000\">samples = 9</text>\n<text text-anchor=\"middle\" x=\"6119.5\" y=\"-1800.3\" font-family=\"Times,serif\" font-size=\"14.00\" fill=\"#000000\">value = [9, 0]</text>\n<text text-anchor=\"middle\" x=\"6119.5\" y=\"-1785.3\" font-family=\"Times,serif\" font-size=\"14.00\" fill=\"#000000\">class = S</text>\n</g>\n<!-- 402&#45;&gt;410 -->\n<g id=\"edge410\" class=\"edge\">\n<title>402&#45;&gt;410</title>\n<path fill=\"none\" stroke=\"#000000\" d=\"M6046.0219,-1888.8796C6056.9857,-1877.3337 6068.8897,-1864.7976 6079.8601,-1853.2446\"/>\n<polygon fill=\"#000000\" stroke=\"#000000\" points=\"6082.5673,-1855.4766 6086.9152,-1845.8149 6077.4913,-1850.6564 6082.5673,-1855.4766\"/>\n</g>\n<!-- 404 -->\n<g id=\"node405\" class=\"node\">\n<title>404</title>\n<polygon fill=\"#bddef6\" stroke=\"#000000\" points=\"6054,-1734 5959,-1734 5959,-1651 6054,-1651 6054,-1734\"/>\n<text text-anchor=\"middle\" x=\"6006.5\" y=\"-1718.8\" font-family=\"Times,serif\" font-size=\"14.00\" fill=\"#000000\">Age &lt;= 27.0</text>\n<text text-anchor=\"middle\" x=\"6006.5\" y=\"-1703.8\" font-family=\"Times,serif\" font-size=\"14.00\" fill=\"#000000\">gini = 0.48</text>\n<text text-anchor=\"middle\" x=\"6006.5\" y=\"-1688.8\" font-family=\"Times,serif\" font-size=\"14.00\" fill=\"#000000\">samples = 5</text>\n<text text-anchor=\"middle\" x=\"6006.5\" y=\"-1673.8\" font-family=\"Times,serif\" font-size=\"14.00\" fill=\"#000000\">value = [2, 3]</text>\n<text text-anchor=\"middle\" x=\"6006.5\" y=\"-1658.8\" font-family=\"Times,serif\" font-size=\"14.00\" fill=\"#000000\">class = u</text>\n</g>\n<!-- 403&#45;&gt;404 -->\n<g id=\"edge404\" class=\"edge\">\n<title>403&#45;&gt;404</title>\n<path fill=\"none\" stroke=\"#000000\" d=\"M6006.5,-1769.8796C6006.5,-1761.6838 6006.5,-1752.9891 6006.5,-1744.5013\"/>\n<polygon fill=\"#000000\" stroke=\"#000000\" points=\"6010.0001,-1744.298 6006.5,-1734.2981 6003.0001,-1744.2981 6010.0001,-1744.298\"/>\n</g>\n<!-- 409 -->\n<g id=\"node410\" class=\"node\">\n<title>409</title>\n<polygon fill=\"#399de5\" stroke=\"#000000\" points=\"6167,-1726.5 6072,-1726.5 6072,-1658.5 6167,-1658.5 6167,-1726.5\"/>\n<text text-anchor=\"middle\" x=\"6119.5\" y=\"-1711.3\" font-family=\"Times,serif\" font-size=\"14.00\" fill=\"#000000\">gini = 0.0</text>\n<text text-anchor=\"middle\" x=\"6119.5\" y=\"-1696.3\" font-family=\"Times,serif\" font-size=\"14.00\" fill=\"#000000\">samples = 2</text>\n<text text-anchor=\"middle\" x=\"6119.5\" y=\"-1681.3\" font-family=\"Times,serif\" font-size=\"14.00\" fill=\"#000000\">value = [0, 2]</text>\n<text text-anchor=\"middle\" x=\"6119.5\" y=\"-1666.3\" font-family=\"Times,serif\" font-size=\"14.00\" fill=\"#000000\">class = u</text>\n</g>\n<!-- 403&#45;&gt;409 -->\n<g id=\"edge409\" class=\"edge\">\n<title>403&#45;&gt;409</title>\n<path fill=\"none\" stroke=\"#000000\" d=\"M6046.0219,-1769.8796C6056.9857,-1758.3337 6068.8897,-1745.7976 6079.8601,-1734.2446\"/>\n<polygon fill=\"#000000\" stroke=\"#000000\" points=\"6082.5673,-1736.4766 6086.9152,-1726.8149 6077.4913,-1731.6564 6082.5673,-1736.4766\"/>\n</g>\n<!-- 405 -->\n<g id=\"node406\" class=\"node\">\n<title>405</title>\n<polygon fill=\"#399de5\" stroke=\"#000000\" points=\"6054,-1607.5 5959,-1607.5 5959,-1539.5 6054,-1539.5 6054,-1607.5\"/>\n<text text-anchor=\"middle\" x=\"6006.5\" y=\"-1592.3\" font-family=\"Times,serif\" font-size=\"14.00\" fill=\"#000000\">gini = 0.0</text>\n<text text-anchor=\"middle\" x=\"6006.5\" y=\"-1577.3\" font-family=\"Times,serif\" font-size=\"14.00\" fill=\"#000000\">samples = 1</text>\n<text text-anchor=\"middle\" x=\"6006.5\" y=\"-1562.3\" font-family=\"Times,serif\" font-size=\"14.00\" fill=\"#000000\">value = [0, 1]</text>\n<text text-anchor=\"middle\" x=\"6006.5\" y=\"-1547.3\" font-family=\"Times,serif\" font-size=\"14.00\" fill=\"#000000\">class = u</text>\n</g>\n<!-- 404&#45;&gt;405 -->\n<g id=\"edge405\" class=\"edge\">\n<title>404&#45;&gt;405</title>\n<path fill=\"none\" stroke=\"#000000\" d=\"M6006.5,-1650.8796C6006.5,-1640.2134 6006.5,-1628.7021 6006.5,-1617.9015\"/>\n<polygon fill=\"#000000\" stroke=\"#000000\" points=\"6010.0001,-1617.8149 6006.5,-1607.8149 6003.0001,-1617.815 6010.0001,-1617.8149\"/>\n</g>\n<!-- 406 -->\n<g id=\"node407\" class=\"node\">\n<title>406</title>\n<polygon fill=\"#ffffff\" stroke=\"#000000\" points=\"6222,-1615 6127,-1615 6127,-1532 6222,-1532 6222,-1615\"/>\n<text text-anchor=\"middle\" x=\"6174.5\" y=\"-1599.8\" font-family=\"Times,serif\" font-size=\"14.00\" fill=\"#000000\">Age &lt;= 28.5</text>\n<text text-anchor=\"middle\" x=\"6174.5\" y=\"-1584.8\" font-family=\"Times,serif\" font-size=\"14.00\" fill=\"#000000\">gini = 0.5</text>\n<text text-anchor=\"middle\" x=\"6174.5\" y=\"-1569.8\" font-family=\"Times,serif\" font-size=\"14.00\" fill=\"#000000\">samples = 4</text>\n<text text-anchor=\"middle\" x=\"6174.5\" y=\"-1554.8\" font-family=\"Times,serif\" font-size=\"14.00\" fill=\"#000000\">value = [2, 2]</text>\n<text text-anchor=\"middle\" x=\"6174.5\" y=\"-1539.8\" font-family=\"Times,serif\" font-size=\"14.00\" fill=\"#000000\">class = S</text>\n</g>\n<!-- 404&#45;&gt;406 -->\n<g id=\"edge406\" class=\"edge\">\n<title>404&#45;&gt;406</title>\n<path fill=\"none\" stroke=\"#000000\" d=\"M6054.0818,-1657.0756C6056.9235,-1655.0107 6059.7454,-1652.9729 6062.5,-1651 6080.5071,-1638.1027 6100.3317,-1624.2676 6118.2329,-1611.9077\"/>\n<polygon fill=\"#000000\" stroke=\"#000000\" points=\"6120.602,-1614.5257 6126.8499,-1605.9692 6116.6297,-1608.7619 6120.602,-1614.5257\"/>\n</g>\n<!-- 407 -->\n<g id=\"node408\" class=\"node\">\n<title>407</title>\n<polygon fill=\"#e58139\" stroke=\"#000000\" points=\"6222,-1488.5 6127,-1488.5 6127,-1420.5 6222,-1420.5 6222,-1488.5\"/>\n<text text-anchor=\"middle\" x=\"6174.5\" y=\"-1473.3\" font-family=\"Times,serif\" font-size=\"14.00\" fill=\"#000000\">gini = 0.0</text>\n<text text-anchor=\"middle\" x=\"6174.5\" y=\"-1458.3\" font-family=\"Times,serif\" font-size=\"14.00\" fill=\"#000000\">samples = 1</text>\n<text text-anchor=\"middle\" x=\"6174.5\" y=\"-1443.3\" font-family=\"Times,serif\" font-size=\"14.00\" fill=\"#000000\">value = [1, 0]</text>\n<text text-anchor=\"middle\" x=\"6174.5\" y=\"-1428.3\" font-family=\"Times,serif\" font-size=\"14.00\" fill=\"#000000\">class = S</text>\n</g>\n<!-- 406&#45;&gt;407 -->\n<g id=\"edge407\" class=\"edge\">\n<title>406&#45;&gt;407</title>\n<path fill=\"none\" stroke=\"#000000\" d=\"M6174.5,-1531.8796C6174.5,-1521.2134 6174.5,-1509.7021 6174.5,-1498.9015\"/>\n<polygon fill=\"#000000\" stroke=\"#000000\" points=\"6178.0001,-1498.8149 6174.5,-1488.8149 6171.0001,-1498.815 6178.0001,-1498.8149\"/>\n</g>\n<!-- 408 -->\n<g id=\"node409\" class=\"node\">\n<title>408</title>\n<polygon fill=\"#9ccef2\" stroke=\"#000000\" points=\"6335,-1488.5 6240,-1488.5 6240,-1420.5 6335,-1420.5 6335,-1488.5\"/>\n<text text-anchor=\"middle\" x=\"6287.5\" y=\"-1473.3\" font-family=\"Times,serif\" font-size=\"14.00\" fill=\"#000000\">gini = 0.444</text>\n<text text-anchor=\"middle\" x=\"6287.5\" y=\"-1458.3\" font-family=\"Times,serif\" font-size=\"14.00\" fill=\"#000000\">samples = 3</text>\n<text text-anchor=\"middle\" x=\"6287.5\" y=\"-1443.3\" font-family=\"Times,serif\" font-size=\"14.00\" fill=\"#000000\">value = [1, 2]</text>\n<text text-anchor=\"middle\" x=\"6287.5\" y=\"-1428.3\" font-family=\"Times,serif\" font-size=\"14.00\" fill=\"#000000\">class = u</text>\n</g>\n<!-- 406&#45;&gt;408 -->\n<g id=\"edge408\" class=\"edge\">\n<title>406&#45;&gt;408</title>\n<path fill=\"none\" stroke=\"#000000\" d=\"M6214.0219,-1531.8796C6224.9857,-1520.3337 6236.8897,-1507.7976 6247.8601,-1496.2446\"/>\n<polygon fill=\"#000000\" stroke=\"#000000\" points=\"6250.5673,-1498.4766 6254.9152,-1488.8149 6245.4913,-1493.6564 6250.5673,-1498.4766\"/>\n</g>\n</g>\n</svg>\n"
          },
          "metadata": {
            "tags": []
          },
          "execution_count": 373
        }
      ]
    },
    {
      "cell_type": "code",
      "metadata": {
        "colab": {
          "base_uri": "https://localhost:8080/",
          "height": 35
        },
        "id": "OIdmhLAizBIL",
        "outputId": "308d361d-4529-4a22-ce1d-099ca9597681"
      },
      "source": [
        "graph.render(\"decision_tree_graphivz\")"
      ],
      "execution_count": null,
      "outputs": [
        {
          "output_type": "execute_result",
          "data": {
            "application/vnd.google.colaboratory.intrinsic+json": {
              "type": "string"
            },
            "text/plain": [
              "'decision_tree_graphivz.png'"
            ]
          },
          "metadata": {
            "tags": []
          },
          "execution_count": 374
        }
      ]
    },
    {
      "cell_type": "code",
      "metadata": {
        "id": "yVSlrxzJrJgl"
      },
      "source": [
        "predictions = dtree.predict(test)"
      ],
      "execution_count": null,
      "outputs": []
    },
    {
      "cell_type": "code",
      "metadata": {
        "colab": {
          "base_uri": "https://localhost:8080/"
        },
        "id": "fYAMm4w6rYzU",
        "outputId": "f6ab1577-f04d-4f7e-eaf5-9ddaf68c8d9e"
      },
      "source": [
        "print(classification_report(testing,predictions))"
      ],
      "execution_count": null,
      "outputs": [
        {
          "output_type": "stream",
          "text": [
            "              precision    recall  f1-score   support\n",
            "\n",
            "           0       0.87      0.81      0.84       265\n",
            "           1       0.70      0.78      0.74       152\n",
            "\n",
            "    accuracy                           0.80       417\n",
            "   macro avg       0.79      0.80      0.79       417\n",
            "weighted avg       0.81      0.80      0.80       417\n",
            "\n"
          ],
          "name": "stdout"
        }
      ]
    },
    {
      "cell_type": "markdown",
      "metadata": {
        "id": "TGDnzqLM1krT"
      },
      "source": [
        "# Random Forest"
      ]
    },
    {
      "cell_type": "code",
      "metadata": {
        "colab": {
          "base_uri": "https://localhost:8080/"
        },
        "id": "cEn8kurd1jlj",
        "outputId": "b4ec8942-1b62-40b4-afc0-0ad7fd524a76"
      },
      "source": [
        "from sklearn.ensemble import RandomForestClassifier\n",
        "rfc = RandomForestClassifier(n_estimators=100)\n",
        "rfc.fit(X,y)"
      ],
      "execution_count": null,
      "outputs": [
        {
          "output_type": "execute_result",
          "data": {
            "text/plain": [
              "RandomForestClassifier(bootstrap=True, ccp_alpha=0.0, class_weight=None,\n",
              "                       criterion='gini', max_depth=None, max_features='auto',\n",
              "                       max_leaf_nodes=None, max_samples=None,\n",
              "                       min_impurity_decrease=0.0, min_impurity_split=None,\n",
              "                       min_samples_leaf=1, min_samples_split=2,\n",
              "                       min_weight_fraction_leaf=0.0, n_estimators=100,\n",
              "                       n_jobs=None, oob_score=False, random_state=None,\n",
              "                       verbose=0, warm_start=False)"
            ]
          },
          "metadata": {
            "tags": []
          },
          "execution_count": 377
        }
      ]
    },
    {
      "cell_type": "code",
      "metadata": {
        "id": "MMxRyX8G1zzD"
      },
      "source": [
        "rfc_pred = rfc.predict(test)"
      ],
      "execution_count": null,
      "outputs": []
    },
    {
      "cell_type": "code",
      "metadata": {
        "colab": {
          "base_uri": "https://localhost:8080/"
        },
        "id": "pzmIzFop14Hg",
        "outputId": "d5c0a8b2-eb7b-4a44-8b54-28d7165ddf45"
      },
      "source": [
        "print(classification_report(testing,rfc_pred))"
      ],
      "execution_count": null,
      "outputs": [
        {
          "output_type": "stream",
          "text": [
            "              precision    recall  f1-score   support\n",
            "\n",
            "           0       0.86      0.87      0.86       265\n",
            "           1       0.77      0.75      0.76       152\n",
            "\n",
            "    accuracy                           0.82       417\n",
            "   macro avg       0.81      0.81      0.81       417\n",
            "weighted avg       0.82      0.82      0.82       417\n",
            "\n"
          ],
          "name": "stdout"
        }
      ]
    },
    {
      "cell_type": "markdown",
      "metadata": {
        "id": "6k-ZU4ic2N73"
      },
      "source": [
        "# SVM"
      ]
    },
    {
      "cell_type": "code",
      "metadata": {
        "id": "lGBdRXVb2QBE"
      },
      "source": [
        "from sklearn.svm import SVC"
      ],
      "execution_count": null,
      "outputs": []
    },
    {
      "cell_type": "code",
      "metadata": {
        "id": "SBSRNdL52T5S"
      },
      "source": [
        "model = SVC()"
      ],
      "execution_count": null,
      "outputs": []
    },
    {
      "cell_type": "code",
      "metadata": {
        "colab": {
          "base_uri": "https://localhost:8080/"
        },
        "id": "nlw5YDew2U6d",
        "outputId": "b82e0fe7-28f8-49c6-ab67-5ce9a4dbcb24"
      },
      "source": [
        "model.fit(X,y)"
      ],
      "execution_count": null,
      "outputs": [
        {
          "output_type": "execute_result",
          "data": {
            "text/plain": [
              "SVC(C=1.0, break_ties=False, cache_size=200, class_weight=None, coef0=0.0,\n",
              "    decision_function_shape='ovr', degree=3, gamma='scale', kernel='rbf',\n",
              "    max_iter=-1, probability=False, random_state=None, shrinking=True,\n",
              "    tol=0.001, verbose=False)"
            ]
          },
          "metadata": {
            "tags": []
          },
          "execution_count": 382
        }
      ]
    },
    {
      "cell_type": "code",
      "metadata": {
        "id": "aGoUzjwE3uXN"
      },
      "source": [
        "predictions = model.predict(test)"
      ],
      "execution_count": null,
      "outputs": []
    },
    {
      "cell_type": "code",
      "metadata": {
        "colab": {
          "base_uri": "https://localhost:8080/"
        },
        "id": "0D5TOMBV3w46",
        "outputId": "5da2a124-4d56-4ab9-889b-56ef6ee9a25a"
      },
      "source": [
        "print(classification_report(testing,predictions))"
      ],
      "execution_count": null,
      "outputs": [
        {
          "output_type": "stream",
          "text": [
            "              precision    recall  f1-score   support\n",
            "\n",
            "           0       0.68      0.87      0.76       265\n",
            "           1       0.55      0.28      0.37       152\n",
            "\n",
            "    accuracy                           0.65       417\n",
            "   macro avg       0.62      0.57      0.57       417\n",
            "weighted avg       0.63      0.65      0.62       417\n",
            "\n"
          ],
          "name": "stdout"
        }
      ]
    },
    {
      "cell_type": "markdown",
      "metadata": {
        "id": "zkwxH4Nw6263"
      },
      "source": [
        "# Report on all models"
      ]
    },
    {
      "cell_type": "markdown",
      "metadata": {
        "id": "fo1LoFah7Cgt"
      },
      "source": [
        "\n",
        "\n",
        "  Model       ---       Accuracy  \n",
        "*   Logistic Regression ---   0.94\n",
        "\n",
        "\n",
        "*   KNN    ---   0.84\n",
        "\n",
        "*   Decision tree    ---   0.80\n",
        "*   Random Forest ---  0.82\n",
        "\n",
        "\n",
        "*   SVM ---   0.65\n",
        "\n",
        "\n",
        "\n",
        "\n",
        "\n"
      ]
    }
  ]
}